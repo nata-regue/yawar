{
 "cells": [
  {
   "cell_type": "code",
   "execution_count": 2,
   "id": "initial_id",
   "metadata": {
    "collapsed": true,
    "ExecuteTime": {
     "end_time": "2024-04-09T14:03:35.245289600Z",
     "start_time": "2024-04-09T14:03:35.162400800Z"
    }
   },
   "outputs": [],
   "source": [
    "#Import main libraries\n",
    "import pandas as pd\n",
    "import numpy as np\n",
    "import matplotlib.pyplot as plt\n",
    "import datetime as dt"
   ]
  },
  {
   "cell_type": "code",
   "execution_count": 3,
   "outputs": [],
   "source": [
    "excelfilepath=('../data/YAWAR_solodata_20240405.xlsx')"
   ],
   "metadata": {
    "collapsed": false,
    "ExecuteTime": {
     "end_time": "2024-04-09T14:03:35.265327600Z",
     "start_time": "2024-04-09T14:03:35.167772100Z"
    }
   },
   "id": "d9a3529f43e55aba"
  },
  {
   "cell_type": "code",
   "execution_count": 4,
   "outputs": [],
   "source": [
    "df_yawar=pd.read_excel(excelfilepath)"
   ],
   "metadata": {
    "collapsed": false,
    "ExecuteTime": {
     "end_time": "2024-04-09T14:03:35.896776500Z",
     "start_time": "2024-04-09T14:03:35.179797Z"
    }
   },
   "id": "6e2042368f1aae3b"
  },
  {
   "cell_type": "markdown",
   "source": [
    "## Data Exploration (Initial EDA and data cleaning)\n",
    "\n",
    "- Understanding variables\n",
    "- Clean the dataset (missing data, redundant data, outliers) "
   ],
   "metadata": {
    "collapsed": false
   },
   "id": "46d025d0430a45e9"
  },
  {
   "cell_type": "code",
   "execution_count": 5,
   "outputs": [
    {
     "data": {
      "text/plain": "(84, 35)"
     },
     "execution_count": 5,
     "metadata": {},
     "output_type": "execute_result"
    }
   ],
   "source": [
    "df_yawar.shape"
   ],
   "metadata": {
    "collapsed": false,
    "ExecuteTime": {
     "end_time": "2024-04-09T14:03:35.908717600Z",
     "start_time": "2024-04-09T14:03:35.898776500Z"
    }
   },
   "id": "bd423e548bed737b"
  },
  {
   "cell_type": "code",
   "execution_count": 6,
   "outputs": [
    {
     "data": {
      "text/plain": "Index(['#', 'Año', 'FECHA (dd/mm/aaaa)', 'TIPO ACTIVIDAD (taller, difusion)',\n       'FORMATO (presencial/virtual)', 'ACTIVIDAD', 'CANTIDAD', 'PAIS',\n       'CIUDAD', 'ALCANCE\\n(nal e internal)', 'LOCALIDAD', 'LUGAR',\n       'TIPO DE AREA (RURAL/URBANA/PERIURBANA)',\n       'TIPO DE ESTABLECIMIENTO (GENERICO)', 'OBS',\n       'CANTIDAD DE PERSONAS ALCANZADAS', 'EDAD',\n       'TIPO POBLACION (mujeres, jovenes, niñas)', 'VULNERABILIDAD',\n       'DOTACIÓN INSUMOS', 'toallas desechables', 'copas menstruales',\n       'toallas reutilizables', 'calzones menstruales',\n       'Kits Insumos de Gestión Menstrual', 'DURACION EXPO + PREGUNTAS (MIN)',\n       'TEMATICA TALLER', 'PERSONAS A CARGO (CAPACITADORAS, ETC)',\n       'Nro. VOLUNTARIAS PRESENTES', 'TIEMPO DE PREPARACION Y CIERRE (MIN)',\n       'IMPACTO(ALTO, MEDIO , BAJO)',\n       'ENCUESTA SOBRE CONOCIMIENTO PREVIO DE MENSTRUACION (si/no)',\n       'ENCUESTA POSTERIOR DE APRENDIZAJES',\n       'FINANCIADOR O ORG. ALIADA si hubiera existido',\n       'DETALLES DE LA ACTIVIDAD (links, obs, etc.)'],\n      dtype='object')"
     },
     "execution_count": 6,
     "metadata": {},
     "output_type": "execute_result"
    }
   ],
   "source": [
    "df_yawar.columns"
   ],
   "metadata": {
    "collapsed": false,
    "ExecuteTime": {
     "end_time": "2024-04-09T14:03:35.924299Z",
     "start_time": "2024-04-09T14:03:35.905718500Z"
    }
   },
   "id": "a764317e003e4229"
  },
  {
   "cell_type": "code",
   "execution_count": 7,
   "outputs": [
    {
     "name": "stdout",
     "output_type": "stream",
     "text": [
      "<class 'pandas.core.frame.DataFrame'>\n",
      "RangeIndex: 84 entries, 0 to 83\n",
      "Data columns (total 35 columns):\n",
      " #   Column                                                      Non-Null Count  Dtype         \n",
      "---  ------                                                      --------------  -----         \n",
      " 0   #                                                           83 non-null     float64       \n",
      " 1   Año                                                         81 non-null     float64       \n",
      " 2   FECHA (dd/mm/aaaa)                                          81 non-null     datetime64[ns]\n",
      " 3   TIPO ACTIVIDAD (taller, difusion)                           84 non-null     object        \n",
      " 4   FORMATO (presencial/virtual)                                82 non-null     object        \n",
      " 5   ACTIVIDAD                                                   84 non-null     object        \n",
      " 6   CANTIDAD                                                    82 non-null     float64       \n",
      " 7   PAIS                                                        82 non-null     object        \n",
      " 8   CIUDAD                                                      68 non-null     object        \n",
      " 9   ALCANCE\n",
      "(nal e internal)                                    84 non-null     object        \n",
      " 10  LOCALIDAD                                                   58 non-null     object        \n",
      " 11  LUGAR                                                       59 non-null     object        \n",
      " 12  TIPO DE AREA (RURAL/URBANA/PERIURBANA)                      62 non-null     object        \n",
      " 13  TIPO DE ESTABLECIMIENTO (GENERICO)                          60 non-null     object        \n",
      " 14  OBS                                                         16 non-null     object        \n",
      " 15  CANTIDAD DE PERSONAS ALCANZADAS                             49 non-null     float64       \n",
      " 16  EDAD                                                        49 non-null     object        \n",
      " 17  TIPO POBLACION (mujeres, jovenes, niñas)                    49 non-null     object        \n",
      " 18  VULNERABILIDAD                                              49 non-null     object        \n",
      " 19  DOTACIÓN INSUMOS                                            49 non-null     object        \n",
      " 20  toallas desechables                                         49 non-null     object        \n",
      " 21  copas menstruales                                           49 non-null     object        \n",
      " 22  toallas reutilizables                                       49 non-null     object        \n",
      " 23  calzones menstruales                                        49 non-null     object        \n",
      " 24  Kits Insumos de Gestión Menstrual                           49 non-null     object        \n",
      " 25  DURACION EXPO + PREGUNTAS (MIN)                             50 non-null     object        \n",
      " 26  TEMATICA TALLER                                             50 non-null     object        \n",
      " 27  PERSONAS A CARGO (CAPACITADORAS, ETC)                       44 non-null     float64       \n",
      " 28  Nro. VOLUNTARIAS PRESENTES                                  52 non-null     float64       \n",
      " 29  TIEMPO DE PREPARACION Y CIERRE (MIN)                        51 non-null     float64       \n",
      " 30  IMPACTO(ALTO, MEDIO , BAJO)                                 0 non-null      float64       \n",
      " 31  ENCUESTA SOBRE CONOCIMIENTO PREVIO DE MENSTRUACION (si/no)  49 non-null     object        \n",
      " 32  ENCUESTA POSTERIOR DE APRENDIZAJES                          49 non-null     object        \n",
      " 33  FINANCIADOR O ORG. ALIADA si hubiera existido               43 non-null     object        \n",
      " 34  DETALLES DE LA ACTIVIDAD (links, obs, etc.)                 14 non-null     object        \n",
      "dtypes: datetime64[ns](1), float64(8), object(26)\n",
      "memory usage: 23.1+ KB\n"
     ]
    }
   ],
   "source": [
    "df_yawar.info()"
   ],
   "metadata": {
    "collapsed": false,
    "ExecuteTime": {
     "end_time": "2024-04-09T14:03:36.002850700Z",
     "start_time": "2024-04-09T14:03:35.919736800Z"
    }
   },
   "id": "c9707ab9c1fe4b07"
  },
  {
   "cell_type": "code",
   "execution_count": 8,
   "outputs": [
    {
     "data": {
      "text/plain": "#                                                                    float64\nAño                                                                  float64\nFECHA (dd/mm/aaaa)                                            datetime64[ns]\nTIPO ACTIVIDAD (taller, difusion)                                     object\nFORMATO (presencial/virtual)                                          object\nACTIVIDAD                                                             object\nCANTIDAD                                                             float64\nPAIS                                                                  object\nCIUDAD                                                                object\nALCANCE\\n(nal e internal)                                             object\nLOCALIDAD                                                             object\nLUGAR                                                                 object\nTIPO DE AREA (RURAL/URBANA/PERIURBANA)                                object\nTIPO DE ESTABLECIMIENTO (GENERICO)                                    object\nOBS                                                                   object\nCANTIDAD DE PERSONAS ALCANZADAS                                      float64\nEDAD                                                                  object\nTIPO POBLACION (mujeres, jovenes, niñas)                              object\nVULNERABILIDAD                                                        object\nDOTACIÓN INSUMOS                                                      object\ntoallas desechables                                                   object\ncopas menstruales                                                     object\ntoallas reutilizables                                                 object\ncalzones menstruales                                                  object\nKits Insumos de Gestión Menstrual                                     object\nDURACION EXPO + PREGUNTAS (MIN)                                       object\nTEMATICA TALLER                                                       object\nPERSONAS A CARGO (CAPACITADORAS, ETC)                                float64\nNro. VOLUNTARIAS PRESENTES                                           float64\nTIEMPO DE PREPARACION Y CIERRE (MIN)                                 float64\nIMPACTO(ALTO, MEDIO , BAJO)                                          float64\nENCUESTA SOBRE CONOCIMIENTO PREVIO DE MENSTRUACION (si/no)            object\nENCUESTA POSTERIOR DE APRENDIZAJES                                    object\nFINANCIADOR O ORG. ALIADA si hubiera existido                         object\nDETALLES DE LA ACTIVIDAD (links, obs, etc.)                           object\ndtype: object"
     },
     "execution_count": 8,
     "metadata": {},
     "output_type": "execute_result"
    }
   ],
   "source": [
    "df_yawar.dtypes"
   ],
   "metadata": {
    "collapsed": false,
    "ExecuteTime": {
     "end_time": "2024-04-09T14:03:36.004857400Z",
     "start_time": "2024-04-09T14:03:35.947591600Z"
    }
   },
   "id": "1e0b38d5dde364d6"
  },
  {
   "cell_type": "code",
   "execution_count": 9,
   "outputs": [
    {
     "data": {
      "text/plain": "               #          Año             FECHA (dd/mm/aaaa)    CANTIDAD  \\\ncount  83.000000    81.000000                             81   82.000000   \nmean   42.000000  2022.209877  2022-09-24 21:37:46.666666752    3.378049   \nmin     1.000000  2021.000000            2021-02-06 00:00:00    1.000000   \n25%    21.500000  2022.000000            2022-05-04 00:00:00    1.000000   \n50%    42.000000  2022.000000            2022-08-06 00:00:00    1.000000   \n75%    62.500000  2023.000000            2023-03-22 00:00:00    1.000000   \nmax    83.000000  2023.000000            2024-05-23 00:00:00  116.000000   \nstd    24.103942     0.606549                            NaN   14.059521   \n\n       CANTIDAD DE PERSONAS ALCANZADAS  PERSONAS A CARGO (CAPACITADORAS, ETC)  \\\ncount                        49.000000                              44.000000   \nmean                         15.102041                               1.113636   \nmin                           5.000000                               1.000000   \n25%                           8.000000                               1.000000   \n50%                          11.000000                               1.000000   \n75%                          20.000000                               1.000000   \nmax                          35.000000                               4.000000   \nstd                           8.201232                               0.492545   \n\n       Nro. VOLUNTARIAS PRESENTES  TIEMPO DE PREPARACION Y CIERRE (MIN)  \\\ncount                   52.000000                             51.000000   \nmean                     2.115385                            393.137255   \nmin                      0.000000                            300.000000   \n25%                      0.000000                            330.000000   \n50%                      1.000000                            330.000000   \n75%                      4.000000                            480.000000   \nmax                     10.000000                            480.000000   \nstd                      2.961543                             74.282978   \n\n       IMPACTO(ALTO, MEDIO , BAJO)  \ncount                          0.0  \nmean                           NaN  \nmin                            NaN  \n25%                            NaN  \n50%                            NaN  \n75%                            NaN  \nmax                            NaN  \nstd                            NaN  ",
      "text/html": "<div>\n<style scoped>\n    .dataframe tbody tr th:only-of-type {\n        vertical-align: middle;\n    }\n\n    .dataframe tbody tr th {\n        vertical-align: top;\n    }\n\n    .dataframe thead th {\n        text-align: right;\n    }\n</style>\n<table border=\"1\" class=\"dataframe\">\n  <thead>\n    <tr style=\"text-align: right;\">\n      <th></th>\n      <th>#</th>\n      <th>Año</th>\n      <th>FECHA (dd/mm/aaaa)</th>\n      <th>CANTIDAD</th>\n      <th>CANTIDAD DE PERSONAS ALCANZADAS</th>\n      <th>PERSONAS A CARGO (CAPACITADORAS, ETC)</th>\n      <th>Nro. VOLUNTARIAS PRESENTES</th>\n      <th>TIEMPO DE PREPARACION Y CIERRE (MIN)</th>\n      <th>IMPACTO(ALTO, MEDIO , BAJO)</th>\n    </tr>\n  </thead>\n  <tbody>\n    <tr>\n      <th>count</th>\n      <td>83.000000</td>\n      <td>81.000000</td>\n      <td>81</td>\n      <td>82.000000</td>\n      <td>49.000000</td>\n      <td>44.000000</td>\n      <td>52.000000</td>\n      <td>51.000000</td>\n      <td>0.0</td>\n    </tr>\n    <tr>\n      <th>mean</th>\n      <td>42.000000</td>\n      <td>2022.209877</td>\n      <td>2022-09-24 21:37:46.666666752</td>\n      <td>3.378049</td>\n      <td>15.102041</td>\n      <td>1.113636</td>\n      <td>2.115385</td>\n      <td>393.137255</td>\n      <td>NaN</td>\n    </tr>\n    <tr>\n      <th>min</th>\n      <td>1.000000</td>\n      <td>2021.000000</td>\n      <td>2021-02-06 00:00:00</td>\n      <td>1.000000</td>\n      <td>5.000000</td>\n      <td>1.000000</td>\n      <td>0.000000</td>\n      <td>300.000000</td>\n      <td>NaN</td>\n    </tr>\n    <tr>\n      <th>25%</th>\n      <td>21.500000</td>\n      <td>2022.000000</td>\n      <td>2022-05-04 00:00:00</td>\n      <td>1.000000</td>\n      <td>8.000000</td>\n      <td>1.000000</td>\n      <td>0.000000</td>\n      <td>330.000000</td>\n      <td>NaN</td>\n    </tr>\n    <tr>\n      <th>50%</th>\n      <td>42.000000</td>\n      <td>2022.000000</td>\n      <td>2022-08-06 00:00:00</td>\n      <td>1.000000</td>\n      <td>11.000000</td>\n      <td>1.000000</td>\n      <td>1.000000</td>\n      <td>330.000000</td>\n      <td>NaN</td>\n    </tr>\n    <tr>\n      <th>75%</th>\n      <td>62.500000</td>\n      <td>2023.000000</td>\n      <td>2023-03-22 00:00:00</td>\n      <td>1.000000</td>\n      <td>20.000000</td>\n      <td>1.000000</td>\n      <td>4.000000</td>\n      <td>480.000000</td>\n      <td>NaN</td>\n    </tr>\n    <tr>\n      <th>max</th>\n      <td>83.000000</td>\n      <td>2023.000000</td>\n      <td>2024-05-23 00:00:00</td>\n      <td>116.000000</td>\n      <td>35.000000</td>\n      <td>4.000000</td>\n      <td>10.000000</td>\n      <td>480.000000</td>\n      <td>NaN</td>\n    </tr>\n    <tr>\n      <th>std</th>\n      <td>24.103942</td>\n      <td>0.606549</td>\n      <td>NaN</td>\n      <td>14.059521</td>\n      <td>8.201232</td>\n      <td>0.492545</td>\n      <td>2.961543</td>\n      <td>74.282978</td>\n      <td>NaN</td>\n    </tr>\n  </tbody>\n</table>\n</div>"
     },
     "execution_count": 9,
     "metadata": {},
     "output_type": "execute_result"
    }
   ],
   "source": [
    "df_yawar.describe()"
   ],
   "metadata": {
    "collapsed": false,
    "ExecuteTime": {
     "end_time": "2024-04-09T14:03:36.018404400Z",
     "start_time": "2024-04-09T14:03:35.962134200Z"
    }
   },
   "id": "105104dbdae83cd9"
  },
  {
   "cell_type": "code",
   "execution_count": 10,
   "outputs": [
    {
     "data": {
      "text/plain": "      #     Año FECHA (dd/mm/aaaa) TIPO ACTIVIDAD (taller, difusion)  \\\n0   1.0  2022.0         2022-03-10                            taller   \n1   2.0  2022.0         2022-04-09                            taller   \n2   3.0  2022.0         2022-07-07                            taller   \n3   4.0  2022.0         2022-07-08                            taller   \n4   5.0  2022.0         2022-07-09                            taller   \n5   6.0  2022.0         2023-09-06                            taller   \n6   7.0  2022.0         2022-09-08                            taller   \n7   8.0  2022.0         2022-09-12                            taller   \n8   9.0  2022.0         2022-09-15                            taller   \n9  10.0  2022.0         2022-06-24                            taller   \n\n  FORMATO (presencial/virtual)                  ACTIVIDAD  CANTIDAD     PAIS  \\\n0                   presencial  1er encuentro voluntarias       1.0  Bolivia   \n1                   presencial  Taller: qué es ser joven?       1.0  Bolivia   \n2                   presencial               ALTO ALDEAS        1.0  Bolivia   \n3                   presencial               ALTO ALDEAS        1.0  Bolivia   \n4                   presencial                ALTO MAPAKI       1.0  Bolivia   \n5                   presencial     PROYECTO SOCIAL JASAYÉ       1.0  Bolivia   \n6                   presencial     PROYECTO SOCIAL JASAYÉ       1.0  Bolivia   \n7                   presencial     PROYECTO SOCIAL JASAYÉ       1.0  Bolivia   \n8                   presencial     PROYECTO SOCIAL JASAYÉ       1.0  Bolivia   \n9                      virtual          ESCUELITA VIRTUAL       1.0  Bolivia   \n\n    CIUDAD ALCANCE\\n(nal e internal)  ... DURACION EXPO + PREGUNTAS (MIN)  \\\n0  El Alto                  Nacional  ...                             210   \n1   La Paz                    La Paz  ...                             210   \n2  El Alto                  Nacional  ...                             210   \n3  El Alto                  Nacional  ...                             210   \n4  El Alto                  Nacional  ...                             210   \n5     Beni                  Nacional  ...                             210   \n6     Beni                  Nacional  ...                             210   \n7     Beni                  Nacional  ...                             210   \n8     Beni                  Nacional  ...                             210   \n9  El Alto                  Nacional  ...                             210   \n\n                             TEMATICA TALLER  \\\n0  historia de nuestra sexualidad y anatomia   \n1                          Qué es ser joven?   \n2              vivencia menstrual-ovulatoria   \n3              vivencia menstrual-ovulatoria   \n4              vivencia menstrual-ovulatoria   \n5              vivencia menstrual-ovulatoria   \n6              vivencia menstrual-ovulatoria   \n7              vivencia menstrual-ovulatoria   \n8              vivencia menstrual-ovulatoria   \n9  historia de nuestra sexualidad y anatomia   \n\n  PERSONAS A CARGO (CAPACITADORAS, ETC) Nro. VOLUNTARIAS PRESENTES  \\\n0                                   1.0                        0.0   \n1                                   2.0                        0.0   \n2                                   1.0                        5.0   \n3                                   1.0                        5.0   \n4                                   1.0                        3.0   \n5                                   1.0                        0.0   \n6                                   1.0                        0.0   \n7                                   1.0                        0.0   \n8                                   1.0                        0.0   \n9                                   1.0                        0.0   \n\n  TIEMPO DE PREPARACION Y CIERRE (MIN)  IMPACTO(ALTO, MEDIO , BAJO)  \\\n0                                480.0                          NaN   \n1                                400.0                          NaN   \n2                                480.0                          NaN   \n3                                480.0                          NaN   \n4                                480.0                          NaN   \n5                                330.0                          NaN   \n6                                330.0                          NaN   \n7                                330.0                          NaN   \n8                                330.0                          NaN   \n9                                330.0                          NaN   \n\n  ENCUESTA SOBRE CONOCIMIENTO PREVIO DE MENSTRUACION (si/no)  \\\n0                                                 No           \n1                                                 No           \n2                                                 No           \n3                                                 No           \n4                                                 No           \n5                                                 No           \n6                                                 No           \n7                                                 No           \n8                                                 No           \n9                                                 No           \n\n  ENCUESTA POSTERIOR DE APRENDIZAJES  \\\n0                                 No   \n1                                 No   \n2                                 No   \n3                                 No   \n4                                 No   \n5                                 No   \n6                                 No   \n7                                 No   \n8                                 No   \n9                                 No   \n\n  FINANCIADOR O ORG. ALIADA si hubiera existido  \\\n0                                            No   \n1                                            No   \n2                                Aptapi Jopueti   \n3                                Aptapi Jopueti   \n4                                Aptapi Jopueti   \n5                        Proyecto Social Jasayé   \n6                        Proyecto Social Jasayé   \n7                        Proyecto Social Jasayé   \n8                        Proyecto Social Jasayé   \n9                                           NaN   \n\n         DETALLES DE LA ACTIVIDAD (links, obs, etc.)  \n0                                                NaN  \n1                                                NaN  \n2  https://www.instagram.com/reel/CfzpDw5JOq8/?ut...  \n3  https://www.instagram.com/reel/CfzpDw5JOq8/?ut...  \n4  https://www.instagram.com/reel/Cf_sL5IjUyb/?ut...  \n5  https://www.instagram.com/reel/CiNhmCgDcRC/?ut...  \n6                                                NaN  \n7                                                NaN  \n8                                                NaN  \n9                                                NaN  \n\n[10 rows x 35 columns]",
      "text/html": "<div>\n<style scoped>\n    .dataframe tbody tr th:only-of-type {\n        vertical-align: middle;\n    }\n\n    .dataframe tbody tr th {\n        vertical-align: top;\n    }\n\n    .dataframe thead th {\n        text-align: right;\n    }\n</style>\n<table border=\"1\" class=\"dataframe\">\n  <thead>\n    <tr style=\"text-align: right;\">\n      <th></th>\n      <th>#</th>\n      <th>Año</th>\n      <th>FECHA (dd/mm/aaaa)</th>\n      <th>TIPO ACTIVIDAD (taller, difusion)</th>\n      <th>FORMATO (presencial/virtual)</th>\n      <th>ACTIVIDAD</th>\n      <th>CANTIDAD</th>\n      <th>PAIS</th>\n      <th>CIUDAD</th>\n      <th>ALCANCE\\n(nal e internal)</th>\n      <th>...</th>\n      <th>DURACION EXPO + PREGUNTAS (MIN)</th>\n      <th>TEMATICA TALLER</th>\n      <th>PERSONAS A CARGO (CAPACITADORAS, ETC)</th>\n      <th>Nro. VOLUNTARIAS PRESENTES</th>\n      <th>TIEMPO DE PREPARACION Y CIERRE (MIN)</th>\n      <th>IMPACTO(ALTO, MEDIO , BAJO)</th>\n      <th>ENCUESTA SOBRE CONOCIMIENTO PREVIO DE MENSTRUACION (si/no)</th>\n      <th>ENCUESTA POSTERIOR DE APRENDIZAJES</th>\n      <th>FINANCIADOR O ORG. ALIADA si hubiera existido</th>\n      <th>DETALLES DE LA ACTIVIDAD (links, obs, etc.)</th>\n    </tr>\n  </thead>\n  <tbody>\n    <tr>\n      <th>0</th>\n      <td>1.0</td>\n      <td>2022.0</td>\n      <td>2022-03-10</td>\n      <td>taller</td>\n      <td>presencial</td>\n      <td>1er encuentro voluntarias</td>\n      <td>1.0</td>\n      <td>Bolivia</td>\n      <td>El Alto</td>\n      <td>Nacional</td>\n      <td>...</td>\n      <td>210</td>\n      <td>historia de nuestra sexualidad y anatomia</td>\n      <td>1.0</td>\n      <td>0.0</td>\n      <td>480.0</td>\n      <td>NaN</td>\n      <td>No</td>\n      <td>No</td>\n      <td>No</td>\n      <td>NaN</td>\n    </tr>\n    <tr>\n      <th>1</th>\n      <td>2.0</td>\n      <td>2022.0</td>\n      <td>2022-04-09</td>\n      <td>taller</td>\n      <td>presencial</td>\n      <td>Taller: qué es ser joven?</td>\n      <td>1.0</td>\n      <td>Bolivia</td>\n      <td>La Paz</td>\n      <td>La Paz</td>\n      <td>...</td>\n      <td>210</td>\n      <td>Qué es ser joven?</td>\n      <td>2.0</td>\n      <td>0.0</td>\n      <td>400.0</td>\n      <td>NaN</td>\n      <td>No</td>\n      <td>No</td>\n      <td>No</td>\n      <td>NaN</td>\n    </tr>\n    <tr>\n      <th>2</th>\n      <td>3.0</td>\n      <td>2022.0</td>\n      <td>2022-07-07</td>\n      <td>taller</td>\n      <td>presencial</td>\n      <td>ALTO ALDEAS</td>\n      <td>1.0</td>\n      <td>Bolivia</td>\n      <td>El Alto</td>\n      <td>Nacional</td>\n      <td>...</td>\n      <td>210</td>\n      <td>vivencia menstrual-ovulatoria</td>\n      <td>1.0</td>\n      <td>5.0</td>\n      <td>480.0</td>\n      <td>NaN</td>\n      <td>No</td>\n      <td>No</td>\n      <td>Aptapi Jopueti</td>\n      <td>https://www.instagram.com/reel/CfzpDw5JOq8/?ut...</td>\n    </tr>\n    <tr>\n      <th>3</th>\n      <td>4.0</td>\n      <td>2022.0</td>\n      <td>2022-07-08</td>\n      <td>taller</td>\n      <td>presencial</td>\n      <td>ALTO ALDEAS</td>\n      <td>1.0</td>\n      <td>Bolivia</td>\n      <td>El Alto</td>\n      <td>Nacional</td>\n      <td>...</td>\n      <td>210</td>\n      <td>vivencia menstrual-ovulatoria</td>\n      <td>1.0</td>\n      <td>5.0</td>\n      <td>480.0</td>\n      <td>NaN</td>\n      <td>No</td>\n      <td>No</td>\n      <td>Aptapi Jopueti</td>\n      <td>https://www.instagram.com/reel/CfzpDw5JOq8/?ut...</td>\n    </tr>\n    <tr>\n      <th>4</th>\n      <td>5.0</td>\n      <td>2022.0</td>\n      <td>2022-07-09</td>\n      <td>taller</td>\n      <td>presencial</td>\n      <td>ALTO MAPAKI</td>\n      <td>1.0</td>\n      <td>Bolivia</td>\n      <td>El Alto</td>\n      <td>Nacional</td>\n      <td>...</td>\n      <td>210</td>\n      <td>vivencia menstrual-ovulatoria</td>\n      <td>1.0</td>\n      <td>3.0</td>\n      <td>480.0</td>\n      <td>NaN</td>\n      <td>No</td>\n      <td>No</td>\n      <td>Aptapi Jopueti</td>\n      <td>https://www.instagram.com/reel/Cf_sL5IjUyb/?ut...</td>\n    </tr>\n    <tr>\n      <th>5</th>\n      <td>6.0</td>\n      <td>2022.0</td>\n      <td>2023-09-06</td>\n      <td>taller</td>\n      <td>presencial</td>\n      <td>PROYECTO SOCIAL JASAYÉ</td>\n      <td>1.0</td>\n      <td>Bolivia</td>\n      <td>Beni</td>\n      <td>Nacional</td>\n      <td>...</td>\n      <td>210</td>\n      <td>vivencia menstrual-ovulatoria</td>\n      <td>1.0</td>\n      <td>0.0</td>\n      <td>330.0</td>\n      <td>NaN</td>\n      <td>No</td>\n      <td>No</td>\n      <td>Proyecto Social Jasayé</td>\n      <td>https://www.instagram.com/reel/CiNhmCgDcRC/?ut...</td>\n    </tr>\n    <tr>\n      <th>6</th>\n      <td>7.0</td>\n      <td>2022.0</td>\n      <td>2022-09-08</td>\n      <td>taller</td>\n      <td>presencial</td>\n      <td>PROYECTO SOCIAL JASAYÉ</td>\n      <td>1.0</td>\n      <td>Bolivia</td>\n      <td>Beni</td>\n      <td>Nacional</td>\n      <td>...</td>\n      <td>210</td>\n      <td>vivencia menstrual-ovulatoria</td>\n      <td>1.0</td>\n      <td>0.0</td>\n      <td>330.0</td>\n      <td>NaN</td>\n      <td>No</td>\n      <td>No</td>\n      <td>Proyecto Social Jasayé</td>\n      <td>NaN</td>\n    </tr>\n    <tr>\n      <th>7</th>\n      <td>8.0</td>\n      <td>2022.0</td>\n      <td>2022-09-12</td>\n      <td>taller</td>\n      <td>presencial</td>\n      <td>PROYECTO SOCIAL JASAYÉ</td>\n      <td>1.0</td>\n      <td>Bolivia</td>\n      <td>Beni</td>\n      <td>Nacional</td>\n      <td>...</td>\n      <td>210</td>\n      <td>vivencia menstrual-ovulatoria</td>\n      <td>1.0</td>\n      <td>0.0</td>\n      <td>330.0</td>\n      <td>NaN</td>\n      <td>No</td>\n      <td>No</td>\n      <td>Proyecto Social Jasayé</td>\n      <td>NaN</td>\n    </tr>\n    <tr>\n      <th>8</th>\n      <td>9.0</td>\n      <td>2022.0</td>\n      <td>2022-09-15</td>\n      <td>taller</td>\n      <td>presencial</td>\n      <td>PROYECTO SOCIAL JASAYÉ</td>\n      <td>1.0</td>\n      <td>Bolivia</td>\n      <td>Beni</td>\n      <td>Nacional</td>\n      <td>...</td>\n      <td>210</td>\n      <td>vivencia menstrual-ovulatoria</td>\n      <td>1.0</td>\n      <td>0.0</td>\n      <td>330.0</td>\n      <td>NaN</td>\n      <td>No</td>\n      <td>No</td>\n      <td>Proyecto Social Jasayé</td>\n      <td>NaN</td>\n    </tr>\n    <tr>\n      <th>9</th>\n      <td>10.0</td>\n      <td>2022.0</td>\n      <td>2022-06-24</td>\n      <td>taller</td>\n      <td>virtual</td>\n      <td>ESCUELITA VIRTUAL</td>\n      <td>1.0</td>\n      <td>Bolivia</td>\n      <td>El Alto</td>\n      <td>Nacional</td>\n      <td>...</td>\n      <td>210</td>\n      <td>historia de nuestra sexualidad y anatomia</td>\n      <td>1.0</td>\n      <td>0.0</td>\n      <td>330.0</td>\n      <td>NaN</td>\n      <td>No</td>\n      <td>No</td>\n      <td>NaN</td>\n      <td>NaN</td>\n    </tr>\n  </tbody>\n</table>\n<p>10 rows × 35 columns</p>\n</div>"
     },
     "execution_count": 10,
     "metadata": {},
     "output_type": "execute_result"
    }
   ],
   "source": [
    "df_yawar.head(10)"
   ],
   "metadata": {
    "collapsed": false,
    "ExecuteTime": {
     "end_time": "2024-04-09T14:03:36.065811200Z",
     "start_time": "2024-04-09T14:03:36.007858200Z"
    }
   },
   "id": "c2ad095faa9829f2"
  },
  {
   "cell_type": "markdown",
   "source": [
    "### Rename Columns"
   ],
   "metadata": {
    "collapsed": false
   },
   "id": "e5fc871fcd343a9d"
  },
  {
   "cell_type": "code",
   "execution_count": 124,
   "outputs": [],
   "source": [
    "#Make a copy of the dataset to work on it and keep the original.\n",
    "df_yawar_c=df_yawar.copy()"
   ],
   "metadata": {
    "collapsed": false,
    "ExecuteTime": {
     "end_time": "2024-04-09T18:48:26.284700500Z",
     "start_time": "2024-04-09T18:48:26.273945400Z"
    }
   },
   "id": "29e5f79e3451636e"
  },
  {
   "cell_type": "code",
   "execution_count": 12,
   "outputs": [
    {
     "data": {
      "text/plain": "       #     Año FECHA (dd/mm/aaaa) TIPO ACTIVIDAD (taller, difusion)  \\\n29  30.0  2022.0         2022-09-24                            taller   \n69  69.0  2022.0         2022-10-06           difusion redes sociales   \n43  44.0  2023.0         2023-06-17                            taller   \n\n   FORMATO (presencial/virtual)          ACTIVIDAD  CANTIDAD     PAIS  \\\n29                      virtual  Voluntarias Yawar       1.0  Bolivia   \n69                      virtual       Videopitch 2       1.0  Bolivia   \n43                   presencial                 UE       1.0  Bolivia   \n\n               CIUDAD ALCANCE\\n(nal e internal)  ...  \\\n29  Diversas ciudades                  Nacional  ...   \n69              Sucre                  Nacional  ...   \n43               Beni                  Nacional  ...   \n\n   DURACION EXPO + PREGUNTAS (MIN)                TEMATICA TALLER  \\\n29                             210             Bienvenida a Yawar   \n69                             NaN                            NaN   \n43                             210  vivencia menstrual-ovulatoria   \n\n   PERSONAS A CARGO (CAPACITADORAS, ETC) Nro. VOLUNTARIAS PRESENTES  \\\n29                                   1.0                       10.0   \n69                                   NaN                        NaN   \n43                                   1.0                        0.0   \n\n   TIEMPO DE PREPARACION Y CIERRE (MIN)  IMPACTO(ALTO, MEDIO , BAJO)  \\\n29                                480.0                          NaN   \n69                                  NaN                          NaN   \n43                                330.0                          NaN   \n\n   ENCUESTA SOBRE CONOCIMIENTO PREVIO DE MENSTRUACION (si/no)  \\\n29                                                 No           \n69                                                NaN           \n43                                                 No           \n\n   ENCUESTA POSTERIOR DE APRENDIZAJES  \\\n29                                 No   \n69                                NaN   \n43                                 No   \n\n   FINANCIADOR O ORG. ALIADA si hubiera existido  \\\n29                                Aptapi Jopueti   \n69                                           NaN   \n43                        Proyecto Social Jasaye   \n\n          DETALLES DE LA ACTIVIDAD (links, obs, etc.)  \n29                             (4 encuentros) Grupo 2  \n69  Proyecto Yawar (@proyecto.yawar) • Fotos y vid...  \n43                                                NaN  \n\n[3 rows x 35 columns]",
      "text/html": "<div>\n<style scoped>\n    .dataframe tbody tr th:only-of-type {\n        vertical-align: middle;\n    }\n\n    .dataframe tbody tr th {\n        vertical-align: top;\n    }\n\n    .dataframe thead th {\n        text-align: right;\n    }\n</style>\n<table border=\"1\" class=\"dataframe\">\n  <thead>\n    <tr style=\"text-align: right;\">\n      <th></th>\n      <th>#</th>\n      <th>Año</th>\n      <th>FECHA (dd/mm/aaaa)</th>\n      <th>TIPO ACTIVIDAD (taller, difusion)</th>\n      <th>FORMATO (presencial/virtual)</th>\n      <th>ACTIVIDAD</th>\n      <th>CANTIDAD</th>\n      <th>PAIS</th>\n      <th>CIUDAD</th>\n      <th>ALCANCE\\n(nal e internal)</th>\n      <th>...</th>\n      <th>DURACION EXPO + PREGUNTAS (MIN)</th>\n      <th>TEMATICA TALLER</th>\n      <th>PERSONAS A CARGO (CAPACITADORAS, ETC)</th>\n      <th>Nro. VOLUNTARIAS PRESENTES</th>\n      <th>TIEMPO DE PREPARACION Y CIERRE (MIN)</th>\n      <th>IMPACTO(ALTO, MEDIO , BAJO)</th>\n      <th>ENCUESTA SOBRE CONOCIMIENTO PREVIO DE MENSTRUACION (si/no)</th>\n      <th>ENCUESTA POSTERIOR DE APRENDIZAJES</th>\n      <th>FINANCIADOR O ORG. ALIADA si hubiera existido</th>\n      <th>DETALLES DE LA ACTIVIDAD (links, obs, etc.)</th>\n    </tr>\n  </thead>\n  <tbody>\n    <tr>\n      <th>29</th>\n      <td>30.0</td>\n      <td>2022.0</td>\n      <td>2022-09-24</td>\n      <td>taller</td>\n      <td>virtual</td>\n      <td>Voluntarias Yawar</td>\n      <td>1.0</td>\n      <td>Bolivia</td>\n      <td>Diversas ciudades</td>\n      <td>Nacional</td>\n      <td>...</td>\n      <td>210</td>\n      <td>Bienvenida a Yawar</td>\n      <td>1.0</td>\n      <td>10.0</td>\n      <td>480.0</td>\n      <td>NaN</td>\n      <td>No</td>\n      <td>No</td>\n      <td>Aptapi Jopueti</td>\n      <td>(4 encuentros) Grupo 2</td>\n    </tr>\n    <tr>\n      <th>69</th>\n      <td>69.0</td>\n      <td>2022.0</td>\n      <td>2022-10-06</td>\n      <td>difusion redes sociales</td>\n      <td>virtual</td>\n      <td>Videopitch 2</td>\n      <td>1.0</td>\n      <td>Bolivia</td>\n      <td>Sucre</td>\n      <td>Nacional</td>\n      <td>...</td>\n      <td>NaN</td>\n      <td>NaN</td>\n      <td>NaN</td>\n      <td>NaN</td>\n      <td>NaN</td>\n      <td>NaN</td>\n      <td>NaN</td>\n      <td>NaN</td>\n      <td>NaN</td>\n      <td>Proyecto Yawar (@proyecto.yawar) • Fotos y vid...</td>\n    </tr>\n    <tr>\n      <th>43</th>\n      <td>44.0</td>\n      <td>2023.0</td>\n      <td>2023-06-17</td>\n      <td>taller</td>\n      <td>presencial</td>\n      <td>UE</td>\n      <td>1.0</td>\n      <td>Bolivia</td>\n      <td>Beni</td>\n      <td>Nacional</td>\n      <td>...</td>\n      <td>210</td>\n      <td>vivencia menstrual-ovulatoria</td>\n      <td>1.0</td>\n      <td>0.0</td>\n      <td>330.0</td>\n      <td>NaN</td>\n      <td>No</td>\n      <td>No</td>\n      <td>Proyecto Social Jasaye</td>\n      <td>NaN</td>\n    </tr>\n  </tbody>\n</table>\n<p>3 rows × 35 columns</p>\n</div>"
     },
     "execution_count": 12,
     "metadata": {},
     "output_type": "execute_result"
    }
   ],
   "source": [
    "df_yawar_c.sample(3)"
   ],
   "metadata": {
    "collapsed": false,
    "ExecuteTime": {
     "end_time": "2024-04-09T14:03:36.149364300Z",
     "start_time": "2024-04-09T14:03:36.044990800Z"
    }
   },
   "id": "f57b55a7513b6060"
  },
  {
   "cell_type": "markdown",
   "source": [
    "#### Lowercase column names"
   ],
   "metadata": {
    "collapsed": false
   },
   "id": "a63a9916f37bbbfd"
  },
  {
   "cell_type": "code",
   "execution_count": 13,
   "outputs": [
    {
     "data": {
      "text/plain": "Index(['#', 'Año', 'FECHA (dd/mm/aaaa)', 'TIPO ACTIVIDAD (taller, difusion)',\n       'FORMATO (presencial/virtual)', 'ACTIVIDAD', 'CANTIDAD', 'PAIS',\n       'CIUDAD', 'ALCANCE\\n(nal e internal)', 'LOCALIDAD', 'LUGAR',\n       'TIPO DE AREA (RURAL/URBANA/PERIURBANA)',\n       'TIPO DE ESTABLECIMIENTO (GENERICO)', 'OBS',\n       'CANTIDAD DE PERSONAS ALCANZADAS', 'EDAD',\n       'TIPO POBLACION (mujeres, jovenes, niñas)', 'VULNERABILIDAD',\n       'DOTACIÓN INSUMOS', 'toallas desechables', 'copas menstruales',\n       'toallas reutilizables', 'calzones menstruales',\n       'Kits Insumos de Gestión Menstrual', 'DURACION EXPO + PREGUNTAS (MIN)',\n       'TEMATICA TALLER', 'PERSONAS A CARGO (CAPACITADORAS, ETC)',\n       'Nro. VOLUNTARIAS PRESENTES', 'TIEMPO DE PREPARACION Y CIERRE (MIN)',\n       'IMPACTO(ALTO, MEDIO , BAJO)',\n       'ENCUESTA SOBRE CONOCIMIENTO PREVIO DE MENSTRUACION (si/no)',\n       'ENCUESTA POSTERIOR DE APRENDIZAJES',\n       'FINANCIADOR O ORG. ALIADA si hubiera existido',\n       'DETALLES DE LA ACTIVIDAD (links, obs, etc.)'],\n      dtype='object')"
     },
     "execution_count": 13,
     "metadata": {},
     "output_type": "execute_result"
    }
   ],
   "source": [
    "df_yawar_c.columns"
   ],
   "metadata": {
    "collapsed": false,
    "ExecuteTime": {
     "end_time": "2024-04-09T14:03:36.171048200Z",
     "start_time": "2024-04-09T14:03:36.068817500Z"
    }
   },
   "id": "52aa6c5c1e863344"
  },
  {
   "cell_type": "code",
   "execution_count": 125,
   "outputs": [],
   "source": [
    "#lower case all column names\n",
    "df_yawar_c.columns=df_yawar_c.columns.str.lower()"
   ],
   "metadata": {
    "collapsed": false,
    "ExecuteTime": {
     "end_time": "2024-04-09T18:48:36.439135500Z",
     "start_time": "2024-04-09T18:48:36.431771300Z"
    }
   },
   "id": "1b2f497b3d4f18f4"
  },
  {
   "cell_type": "code",
   "execution_count": 15,
   "outputs": [
    {
     "data": {
      "text/plain": "Index(['#', 'año', 'fecha (dd/mm/aaaa)', 'tipo actividad (taller, difusion)',\n       'formato (presencial/virtual)', 'actividad', 'cantidad', 'pais',\n       'ciudad', 'alcance\\n(nal e internal)', 'localidad', 'lugar',\n       'tipo de area (rural/urbana/periurbana)',\n       'tipo de establecimiento (generico)', 'obs',\n       'cantidad de personas alcanzadas', 'edad',\n       'tipo poblacion (mujeres, jovenes, niñas)', 'vulnerabilidad',\n       'dotación insumos', 'toallas desechables', 'copas menstruales',\n       'toallas reutilizables', 'calzones menstruales',\n       'kits insumos de gestión menstrual', 'duracion expo + preguntas (min)',\n       'tematica taller', 'personas a cargo (capacitadoras, etc)',\n       'nro. voluntarias presentes', 'tiempo de preparacion y cierre (min)',\n       'impacto(alto, medio , bajo)',\n       'encuesta sobre conocimiento previo de menstruacion (si/no)',\n       'encuesta posterior de aprendizajes',\n       'financiador o org. aliada si hubiera existido',\n       'detalles de la actividad (links, obs, etc.)'],\n      dtype='object')"
     },
     "execution_count": 15,
     "metadata": {},
     "output_type": "execute_result"
    }
   ],
   "source": [
    "df_yawar_c.columns"
   ],
   "metadata": {
    "collapsed": false,
    "ExecuteTime": {
     "end_time": "2024-04-09T14:03:36.256144900Z",
     "start_time": "2024-04-09T14:03:36.098035400Z"
    }
   },
   "id": "64c0d727681e70b4"
  },
  {
   "cell_type": "markdown",
   "source": [
    "#### Modify column names"
   ],
   "metadata": {
    "collapsed": false
   },
   "id": "10b754aa9633b406"
  },
  {
   "cell_type": "code",
   "execution_count": 126,
   "outputs": [],
   "source": [
    "#Delete spaces among words\n",
    "df_yawar_c.columns=df_yawar_c.columns.str.replace(' ','') "
   ],
   "metadata": {
    "collapsed": false,
    "ExecuteTime": {
     "end_time": "2024-04-09T18:48:45.073756100Z",
     "start_time": "2024-04-09T18:48:45.066672300Z"
    }
   },
   "id": "21687bf47d80c91e"
  },
  {
   "cell_type": "code",
   "execution_count": 17,
   "outputs": [
    {
     "data": {
      "text/plain": "Index(['#', 'año', 'fecha(dd/mm/aaaa)', 'tipoactividad(taller,difusion)',\n       'formato(presencial/virtual)', 'actividad', 'cantidad', 'pais',\n       'ciudad', 'alcance\\n(naleinternal)', 'localidad', 'lugar',\n       'tipodearea(rural/urbana/periurbana)',\n       'tipodeestablecimiento(generico)', 'obs',\n       'cantidaddepersonasalcanzadas', 'edad',\n       'tipopoblacion(mujeres,jovenes,niñas)', 'vulnerabilidad',\n       'dotacióninsumos', 'toallasdesechables', 'copasmenstruales',\n       'toallasreutilizables', 'calzonesmenstruales',\n       'kitsinsumosdegestiónmenstrual', 'duracionexpo+preguntas(min)',\n       'tematicataller', 'personasacargo(capacitadoras,etc)',\n       'nro.voluntariaspresentes', 'tiempodepreparacionycierre(min)',\n       'impacto(alto,medio,bajo)',\n       'encuestasobreconocimientopreviodemenstruacion(si/no)',\n       'encuestaposteriordeaprendizajes',\n       'financiadoroorg.aliadasihubieraexistido',\n       'detallesdelaactividad(links,obs,etc.)'],\n      dtype='object')"
     },
     "execution_count": 17,
     "metadata": {},
     "output_type": "execute_result"
    }
   ],
   "source": [
    "df_yawar_c.columns"
   ],
   "metadata": {
    "collapsed": false,
    "ExecuteTime": {
     "end_time": "2024-04-09T14:03:36.262955200Z",
     "start_time": "2024-04-09T14:03:36.128361300Z"
    }
   },
   "id": "e0a43f261ae9dbc7"
  },
  {
   "cell_type": "code",
   "execution_count": 127,
   "outputs": [],
   "source": [
    "df_yawar_c.rename(columns={'fecha(dd/mm/aaaa)':'fecha',\n",
    "                           'tipoactividad(taller,difusion)':'tipo_actividad',\n",
    "                           'formato(presencial/virtual)':'formato',\n",
    "                           'alcance\\n(naleinternal)':'alcance', \n",
    "                           'tipodearea(rural/urbana/periurbana)':'tipodearea',\n",
    "                           'tipodeestablecimiento(generico)':'tipodeestablecimiento', \n",
    "                           'cantidaddepersonasalcanzadas':'personasalcanzadas_cant', \n",
    "                           'tipopoblacion(mujeres,jovenes,niñas)':'poblacion',\n",
    "                           'kitsinsumosdegestiónmenstrual':'kit_insumos_gestiónmenstrual',\n",
    "                           'duracionexpo+preguntas(min)':'expo_duracion',\n",
    "                           'personasacargo(capacitadoras,etc)':'expo_personal',\n",
    "                           'nro.voluntariaspresentes':'voluntarias', \n",
    "                           'tiempodepreparacionycierre(min)':'expo_tiempo_elabtaller',\n",
    "                           'impacto(alto,medio,bajo)':'impacto',\n",
    "                           'encuestasobreconocimientopreviodemenstruacion(si/no)':'encuesta_menstr',\n",
    "                           'encuestaposteriordeaprendizajes':'encuesta_post_aprendizajes',\n",
    "                           'financiadoroorg.aliadasihubieraexistido':'org_apoyo',\n",
    "                           'detallesdelaactividad(links,obs,etc.)': 'detalles_actividad'\n",
    "                                                                    \n",
    "}, inplace=True)"
   ],
   "metadata": {
    "collapsed": false,
    "ExecuteTime": {
     "end_time": "2024-04-09T18:48:56.746959800Z",
     "start_time": "2024-04-09T18:48:56.738374700Z"
    }
   },
   "id": "fa6db6d3bd7ec2f4"
  },
  {
   "cell_type": "code",
   "execution_count": 29,
   "outputs": [
    {
     "data": {
      "text/plain": "Index(['#', 'año', 'fecha', 'tipo_actividad', 'formato', 'actividad',\n       'cantidad', 'pais', 'ciudad', 'alcance', 'localidad', 'lugar',\n       'tipodearea', 'tipodeestablecimiento', 'obs', 'personasalcanzadas_cant',\n       'edad', 'poblacion', 'vulnerabilidad', 'dotacióninsumos',\n       'toallasdesechables', 'copasmenstruales', 'toallasreutilizables',\n       'calzonesmenstruales', 'kit_insumos_gestiónmenstrual', 'expo_duracion',\n       'tematicataller', 'expo_personal', 'voluntarias',\n       'expo_tiempo_elabtaller', 'encuesta_menstr',\n       'encuesta_post_aprendizajes', 'org_apoyo', 'detalles_actividad'],\n      dtype='object')"
     },
     "execution_count": 29,
     "metadata": {},
     "output_type": "execute_result"
    }
   ],
   "source": [
    "df_yawar_c.columns"
   ],
   "metadata": {
    "collapsed": false,
    "ExecuteTime": {
     "end_time": "2024-04-09T14:06:35.022194500Z",
     "start_time": "2024-04-09T14:06:35.015489100Z"
    }
   },
   "id": "93def2cc3468de06"
  },
  {
   "cell_type": "markdown",
   "source": [
    "### Check missing values"
   ],
   "metadata": {
    "collapsed": false
   },
   "id": "cfac707fd390975a"
  },
  {
   "cell_type": "code",
   "execution_count": 128,
   "outputs": [
    {
     "data": {
      "text/plain": "impacto                         100.00\ndetalles_actividad               83.33\nobs                              80.95\norg_apoyo                        48.81\nexpo_personal                    47.62\nedad                             41.67\nencuesta_post_aprendizajes       41.67\nencuesta_menstr                  41.67\nkit_insumos_gestiónmenstrual     41.67\ncalzonesmenstruales              41.67\ntoallasreutilizables             41.67\ncopasmenstruales                 41.67\ntoallasdesechables               41.67\ndotacióninsumos                  41.67\nvulnerabilidad                   41.67\npoblacion                        41.67\npersonasalcanzadas_cant          41.67\ntematicataller                   40.48\nexpo_duracion                    40.48\nexpo_tiempo_elabtaller           39.29\nvoluntarias                      38.10\nlocalidad                        30.95\nlugar                            29.76\ntipodeestablecimiento            28.57\ntipodearea                       26.19\nciudad                           19.05\naño                               3.57\nfecha                             3.57\npais                              2.38\ncantidad                          2.38\nformato                           2.38\n#                                 1.19\nalcance                           0.00\nactividad                         0.00\ntipo_actividad                    0.00\ndtype: float64"
     },
     "execution_count": 128,
     "metadata": {},
     "output_type": "execute_result"
    }
   ],
   "source": [
    "np.round((df_yawar_c.isna().sum()/df_yawar_c.shape[0]*100).sort_values(ascending=False),2)"
   ],
   "metadata": {
    "collapsed": false,
    "ExecuteTime": {
     "end_time": "2024-04-09T18:49:03.647024Z",
     "start_time": "2024-04-09T18:49:03.640727Z"
    }
   },
   "id": "d5e09b744b83c66a"
  },
  {
   "cell_type": "markdown",
   "source": [
    "Since 'impacto' column doesnt have any information, is better to delete that column."
   ],
   "metadata": {
    "collapsed": false
   },
   "id": "bf73f739c3d4c75"
  },
  {
   "cell_type": "code",
   "execution_count": 129,
   "outputs": [],
   "source": [
    "df_yawar_c.drop(columns=['impacto'],axis=1, inplace=True)"
   ],
   "metadata": {
    "collapsed": false,
    "ExecuteTime": {
     "end_time": "2024-04-09T18:49:07.973390600Z",
     "start_time": "2024-04-09T18:49:07.963465400Z"
    }
   },
   "id": "3e0a2e5f38e960bb"
  },
  {
   "cell_type": "markdown",
   "source": [
    "Since 'detallesactividad' is a column which contains only social media links, for this reason this column should be deleted.\n",
    "The same applies for 'obs' column.\n",
    "encuesta_post_aprendizajes, this field is placed in order to improve future data however doesnt been used yet, so its better to delete this column.  \n",
    "encuesta_menstr, this field is placed in order to improve future data however doesnt been used yet, so its better to delete this column.\n"
   ],
   "metadata": {
    "collapsed": false
   },
   "id": "7eed5faca6be42b8"
  },
  {
   "cell_type": "code",
   "execution_count": 130,
   "outputs": [],
   "source": [
    "df_yawar_c.drop(columns=['detalles_actividad','obs','encuesta_post_aprendizajes','encuesta_menstr'], axis=1, inplace=True)"
   ],
   "metadata": {
    "collapsed": false,
    "ExecuteTime": {
     "end_time": "2024-04-09T18:49:21.517923800Z",
     "start_time": "2024-04-09T18:49:21.495613600Z"
    }
   },
   "id": "1515b4029ba56c1a"
  },
  {
   "cell_type": "markdown",
   "source": [
    "'org_apoyo' nan values refer to  missing not at random MNAR, so those values will be replaced by 'Ninguno' indicating that there hasn't been any foundraiser."
   ],
   "metadata": {
    "collapsed": false
   },
   "id": "abfd87d1484194"
  },
  {
   "cell_type": "code",
   "execution_count": 131,
   "outputs": [],
   "source": [
    "df_yawar_c.loc[df_yawar_c['org_apoyo'].isna(),'org_apoyo']='Ninguno'"
   ],
   "metadata": {
    "collapsed": false,
    "ExecuteTime": {
     "end_time": "2024-04-09T18:49:36.593520900Z",
     "start_time": "2024-04-09T18:49:36.585610200Z"
    }
   },
   "id": "7cdca4f29d48f820"
  },
  {
   "cell_type": "code",
   "execution_count": 42,
   "outputs": [
    {
     "data": {
      "text/plain": "0"
     },
     "execution_count": 42,
     "metadata": {},
     "output_type": "execute_result"
    }
   ],
   "source": [
    "df_yawar_c['org_apoyo'].isna().sum()"
   ],
   "metadata": {
    "collapsed": false,
    "ExecuteTime": {
     "end_time": "2024-04-09T15:22:54.732910700Z",
     "start_time": "2024-04-09T15:22:54.722950900Z"
    }
   },
   "id": "8af7486ab9b0ab0"
  },
  {
   "cell_type": "markdown",
   "source": [
    "'expo_personal' has nan values but if there has been a project registered of any class at least there should be 1 person in charge, so nan values will be changed to 1 by default."
   ],
   "metadata": {
    "collapsed": false
   },
   "id": "b511b93b85bc6358"
  },
  {
   "cell_type": "code",
   "execution_count": 132,
   "outputs": [],
   "source": [
    "df_yawar_c.loc[df_yawar_c['expo_personal'].isna(),'expo_personal']=1"
   ],
   "metadata": {
    "collapsed": false,
    "ExecuteTime": {
     "end_time": "2024-04-09T18:50:06.113629Z",
     "start_time": "2024-04-09T18:50:06.097006700Z"
    }
   },
   "id": "2eb359374ef971c7"
  },
  {
   "cell_type": "code",
   "execution_count": 46,
   "outputs": [
    {
     "data": {
      "text/plain": "0"
     },
     "execution_count": 46,
     "metadata": {},
     "output_type": "execute_result"
    }
   ],
   "source": [
    "df_yawar_c['expo_personal'].isna().sum()"
   ],
   "metadata": {
    "collapsed": false,
    "ExecuteTime": {
     "end_time": "2024-04-09T15:26:44.754330400Z",
     "start_time": "2024-04-09T15:26:44.745060300Z"
    }
   },
   "id": "947a62efc291eae6"
  },
  {
   "cell_type": "markdown",
   "source": [
    "'edad', 'kit_insumos_gestiónmenstrual', 'calzonesmenstruales','toallasreutilizables','copasmenstruales', 'toallasdesechables',dotacióninsumos,vulnerabilidad, personasalcanzadas_cant, tematicataller, expo_tiempo_elabtaller, voluntarias, localidad, lugar, tipodeestablecimiento, tipodearea, ciudad, cantidad, expo_duracion nan values are present since those rows dont correspond to any workshop but to a difusion project, so there should be changed empy values for N/A, non applicable. \n"
   ],
   "metadata": {
    "collapsed": false
   },
   "id": "97f17a6a9bf85e93"
  },
  {
   "cell_type": "code",
   "execution_count": 133,
   "outputs": [],
   "source": [
    "df_yawar_c.loc[df_yawar_c['edad'].isna(),'edad']='N/A'"
   ],
   "metadata": {
    "collapsed": false,
    "ExecuteTime": {
     "end_time": "2024-04-09T18:50:15.948172200Z",
     "start_time": "2024-04-09T18:50:15.943156700Z"
    }
   },
   "id": "faeb374521b2f286"
  },
  {
   "cell_type": "code",
   "execution_count": 51,
   "outputs": [
    {
     "data": {
      "text/plain": "0"
     },
     "execution_count": 51,
     "metadata": {},
     "output_type": "execute_result"
    }
   ],
   "source": [
    "df_yawar_c['edad'].isna().sum()"
   ],
   "metadata": {
    "collapsed": false,
    "ExecuteTime": {
     "end_time": "2024-04-09T15:29:12.007551200Z",
     "start_time": "2024-04-09T15:29:11.998130200Z"
    }
   },
   "id": "f1d8da744661ecf8"
  },
  {
   "cell_type": "code",
   "execution_count": 134,
   "outputs": [],
   "source": [
    "df_yawar_c.loc[df_yawar_c['kit_insumos_gestiónmenstrual'].isna(),'kit_insumos_gestiónmenstrual']=0 "
   ],
   "metadata": {
    "collapsed": false,
    "ExecuteTime": {
     "end_time": "2024-04-09T18:50:29.976944700Z",
     "start_time": "2024-04-09T18:50:29.969654Z"
    }
   },
   "id": "bed2e90f6cf81f6d"
  },
  {
   "cell_type": "code",
   "execution_count": 135,
   "outputs": [
    {
     "data": {
      "text/plain": "0"
     },
     "execution_count": 135,
     "metadata": {},
     "output_type": "execute_result"
    }
   ],
   "source": [
    "df_yawar_c['kit_insumos_gestiónmenstrual'].isna().sum()"
   ],
   "metadata": {
    "collapsed": false,
    "ExecuteTime": {
     "end_time": "2024-04-09T18:50:32.597819800Z",
     "start_time": "2024-04-09T18:50:32.585851900Z"
    }
   },
   "id": "acec35bde84cb292"
  },
  {
   "cell_type": "code",
   "execution_count": 137,
   "outputs": [],
   "source": [
    "df_yawar_c.loc[df_yawar_c['calzonesmenstruales'].isna(),'calzonesmenstruales']=0\n",
    "df_yawar_c.loc[df_yawar_c['toallasreutilizables'].isna(),'toallasreutilizables']=0\n",
    "df_yawar_c.loc[df_yawar_c['copasmenstruales'].isna(),'copasmenstruales']=0\n",
    "df_yawar_c.loc[df_yawar_c['toallasdesechables'].isna(),'toallasdesechables']=0\n",
    "df_yawar_c.loc[df_yawar_c['dotacióninsumos'].isna(),'dotacióninsumos']='N/A'\n",
    "df_yawar_c.loc[df_yawar_c['vulnerabilidad'].isna(),'vulnerabilidad']='N/A'\n",
    "df_yawar_c.loc[df_yawar_c['personasalcanzadas_cant'].isna(),'personasalcanzadas_cant']=0\n",
    "df_yawar_c.loc[df_yawar_c['tematicataller'].isna(),'tematicataller']='N/A'\n",
    "df_yawar_c.loc[df_yawar_c['expo_tiempo_elabtaller'].isna(),'expo_tiempo_elabtaller']=0\n",
    "df_yawar_c.loc[df_yawar_c['voluntarias'].isna(),'voluntarias']=0\n",
    "df_yawar_c.loc[df_yawar_c['localidad'].isna(),'localidad']='N/A'\n",
    "df_yawar_c.loc[df_yawar_c['lugar'].isna(),'lugar']='N/A'\n",
    "df_yawar_c.loc[df_yawar_c['ciudad'].isna(),'ciudad']='N/A'\n",
    "df_yawar_c.loc[df_yawar_c['cantidad'].isna(),'cantidad']=0\n",
    "df_yawar_c.loc[df_yawar_c['expo_duracion'].isna(),'expo_duracion']=0"
   ],
   "metadata": {
    "collapsed": false,
    "ExecuteTime": {
     "end_time": "2024-04-09T18:51:51.709360800Z",
     "start_time": "2024-04-09T18:51:51.697431200Z"
    }
   },
   "id": "7abf14873d001e9b"
  },
  {
   "cell_type": "code",
   "execution_count": 139,
   "outputs": [
    {
     "data": {
      "text/plain": "       #  año fecha           tipo_actividad  formato           actividad  \\\n67  67.0  NaN   NaT  difusion redes sociales  virtual               artes   \n72  72.0  NaN   NaT  difusion redes sociales  virtual               reels   \n73  73.0  NaN   NaT  difusion redes sociales  virtual  posts en instagram   \n\n    cantidad     pais ciudad        alcance  ... copasmenstruales  \\\n67      46.0  Bolivia    N/A       Nacional  ...                0   \n72      36.0  Bolivia    N/A  Internacional  ...                0   \n73     116.0  Bolivia    N/A  Internacional  ...                0   \n\n   toallasreutilizables calzonesmenstruales kit_insumos_gestiónmenstrual  \\\n67                    0                   0                            0   \n72                    0                   0                            0   \n73                    0                   0                            0   \n\n   expo_duracion tematicataller expo_personal voluntarias  \\\n67     no aplica      no aplica           1.0         0.0   \n72             0            N/A           1.0         0.0   \n73             0            N/A           1.0         0.0   \n\n   expo_tiempo_elabtaller org_apoyo  \n67                    0.0   Ninguno  \n72                    0.0   Ninguno  \n73                    0.0   Ninguno  \n\n[3 rows x 30 columns]",
      "text/html": "<div>\n<style scoped>\n    .dataframe tbody tr th:only-of-type {\n        vertical-align: middle;\n    }\n\n    .dataframe tbody tr th {\n        vertical-align: top;\n    }\n\n    .dataframe thead th {\n        text-align: right;\n    }\n</style>\n<table border=\"1\" class=\"dataframe\">\n  <thead>\n    <tr style=\"text-align: right;\">\n      <th></th>\n      <th>#</th>\n      <th>año</th>\n      <th>fecha</th>\n      <th>tipo_actividad</th>\n      <th>formato</th>\n      <th>actividad</th>\n      <th>cantidad</th>\n      <th>pais</th>\n      <th>ciudad</th>\n      <th>alcance</th>\n      <th>...</th>\n      <th>copasmenstruales</th>\n      <th>toallasreutilizables</th>\n      <th>calzonesmenstruales</th>\n      <th>kit_insumos_gestiónmenstrual</th>\n      <th>expo_duracion</th>\n      <th>tematicataller</th>\n      <th>expo_personal</th>\n      <th>voluntarias</th>\n      <th>expo_tiempo_elabtaller</th>\n      <th>org_apoyo</th>\n    </tr>\n  </thead>\n  <tbody>\n    <tr>\n      <th>67</th>\n      <td>67.0</td>\n      <td>NaN</td>\n      <td>NaT</td>\n      <td>difusion redes sociales</td>\n      <td>virtual</td>\n      <td>artes</td>\n      <td>46.0</td>\n      <td>Bolivia</td>\n      <td>N/A</td>\n      <td>Nacional</td>\n      <td>...</td>\n      <td>0</td>\n      <td>0</td>\n      <td>0</td>\n      <td>0</td>\n      <td>no aplica</td>\n      <td>no aplica</td>\n      <td>1.0</td>\n      <td>0.0</td>\n      <td>0.0</td>\n      <td>Ninguno</td>\n    </tr>\n    <tr>\n      <th>72</th>\n      <td>72.0</td>\n      <td>NaN</td>\n      <td>NaT</td>\n      <td>difusion redes sociales</td>\n      <td>virtual</td>\n      <td>reels</td>\n      <td>36.0</td>\n      <td>Bolivia</td>\n      <td>N/A</td>\n      <td>Internacional</td>\n      <td>...</td>\n      <td>0</td>\n      <td>0</td>\n      <td>0</td>\n      <td>0</td>\n      <td>0</td>\n      <td>N/A</td>\n      <td>1.0</td>\n      <td>0.0</td>\n      <td>0.0</td>\n      <td>Ninguno</td>\n    </tr>\n    <tr>\n      <th>73</th>\n      <td>73.0</td>\n      <td>NaN</td>\n      <td>NaT</td>\n      <td>difusion redes sociales</td>\n      <td>virtual</td>\n      <td>posts en instagram</td>\n      <td>116.0</td>\n      <td>Bolivia</td>\n      <td>N/A</td>\n      <td>Internacional</td>\n      <td>...</td>\n      <td>0</td>\n      <td>0</td>\n      <td>0</td>\n      <td>0</td>\n      <td>0</td>\n      <td>N/A</td>\n      <td>1.0</td>\n      <td>0.0</td>\n      <td>0.0</td>\n      <td>Ninguno</td>\n    </tr>\n  </tbody>\n</table>\n<p>3 rows × 30 columns</p>\n</div>"
     },
     "execution_count": 139,
     "metadata": {},
     "output_type": "execute_result"
    }
   ],
   "source": [
    "df_yawar_c[df_yawar_c['año'].isna()]"
   ],
   "metadata": {
    "collapsed": false,
    "ExecuteTime": {
     "end_time": "2024-04-09T18:54:03.363614800Z",
     "start_time": "2024-04-09T18:54:03.342014800Z"
    }
   },
   "id": "cba35f2fea2b2d96"
  },
  {
   "cell_type": "code",
   "execution_count": 141,
   "outputs": [
    {
     "data": {
      "text/plain": "65    2021.0\n66    2021.0\n67       NaN\n68    2021.0\n69    2022.0\n70    2022.0\n71    2022.0\n72       NaN\n73       NaN\n74    2022.0\nName: año, dtype: float64"
     },
     "execution_count": 141,
     "metadata": {},
     "output_type": "execute_result"
    }
   ],
   "source": [
    "df_yawar_c.loc[65:74,'año']"
   ],
   "metadata": {
    "collapsed": false,
    "ExecuteTime": {
     "end_time": "2024-04-09T18:55:15.633514200Z",
     "start_time": "2024-04-09T18:55:15.593637500Z"
    }
   },
   "id": "bf45eb10d8856ea0"
  },
  {
   "cell_type": "markdown",
   "source": [
    "año column whenever has a NaN value will be filled with its predecessor. "
   ],
   "metadata": {
    "collapsed": false
   },
   "id": "870712a2945e45b3"
  },
  {
   "cell_type": "code",
   "execution_count": 151,
   "outputs": [
    {
     "name": "stderr",
     "output_type": "stream",
     "text": [
      "C:\\Users\\luzna\\AppData\\Local\\Temp\\ipykernel_25564\\1717047330.py:1: FutureWarning: Series.fillna with 'method' is deprecated and will raise in a future version. Use obj.ffill() or obj.bfill() instead.\n",
      "  df_yawar_c['año'].fillna(method='ffill', inplace=True)\n"
     ]
    }
   ],
   "source": [
    "df_yawar_c['año'].fillna(method='ffill', inplace=True)"
   ],
   "metadata": {
    "collapsed": false,
    "ExecuteTime": {
     "end_time": "2024-04-09T19:03:15.803395300Z",
     "start_time": "2024-04-09T19:03:15.791829700Z"
    }
   },
   "id": "b202316ac76af2e8"
  },
  {
   "cell_type": "code",
   "execution_count": 152,
   "outputs": [
    {
     "data": {
      "text/plain": "0"
     },
     "execution_count": 152,
     "metadata": {},
     "output_type": "execute_result"
    }
   ],
   "source": [
    "df_yawar_c['año'].isna().sum()"
   ],
   "metadata": {
    "collapsed": false,
    "ExecuteTime": {
     "end_time": "2024-04-09T19:03:28.739478400Z",
     "start_time": "2024-04-09T19:03:28.728133400Z"
    }
   },
   "id": "687fcaad1335f5b"
  },
  {
   "cell_type": "code",
   "execution_count": 160,
   "outputs": [
    {
     "data": {
      "text/plain": "Empty DataFrame\nColumns: [#, año, fecha, tipo_actividad, formato, actividad, cantidad, pais, ciudad, alcance, localidad, lugar, tipodearea, tipodeestablecimiento, personasalcanzadas_cant, edad, poblacion, vulnerabilidad, dotacióninsumos, toallasdesechables, copasmenstruales, toallasreutilizables, calzonesmenstruales, kit_insumos_gestiónmenstrual, expo_duracion, tematicataller, expo_personal, voluntarias, expo_tiempo_elabtaller, org_apoyo]\nIndex: []\n\n[0 rows x 30 columns]",
      "text/html": "<div>\n<style scoped>\n    .dataframe tbody tr th:only-of-type {\n        vertical-align: middle;\n    }\n\n    .dataframe tbody tr th {\n        vertical-align: top;\n    }\n\n    .dataframe thead th {\n        text-align: right;\n    }\n</style>\n<table border=\"1\" class=\"dataframe\">\n  <thead>\n    <tr style=\"text-align: right;\">\n      <th></th>\n      <th>#</th>\n      <th>año</th>\n      <th>fecha</th>\n      <th>tipo_actividad</th>\n      <th>formato</th>\n      <th>actividad</th>\n      <th>cantidad</th>\n      <th>pais</th>\n      <th>ciudad</th>\n      <th>alcance</th>\n      <th>...</th>\n      <th>copasmenstruales</th>\n      <th>toallasreutilizables</th>\n      <th>calzonesmenstruales</th>\n      <th>kit_insumos_gestiónmenstrual</th>\n      <th>expo_duracion</th>\n      <th>tematicataller</th>\n      <th>expo_personal</th>\n      <th>voluntarias</th>\n      <th>expo_tiempo_elabtaller</th>\n      <th>org_apoyo</th>\n    </tr>\n  </thead>\n  <tbody>\n  </tbody>\n</table>\n<p>0 rows × 30 columns</p>\n</div>"
     },
     "execution_count": 160,
     "metadata": {},
     "output_type": "execute_result"
    }
   ],
   "source": [
    "df_yawar_c[df_yawar_c['pais'].isna()]"
   ],
   "metadata": {
    "collapsed": false,
    "ExecuteTime": {
     "end_time": "2024-04-09T19:12:19.516898600Z",
     "start_time": "2024-04-09T19:12:19.497224500Z"
    }
   },
   "id": "c65354662d4386f5"
  },
  {
   "cell_type": "code",
   "execution_count": 157,
   "outputs": [],
   "source": [
    "df_yawar_c.loc[65,'pais']='Estados Unidos'\n",
    "df_yawar_c.loc[66,'pais']='Bolivia'"
   ],
   "metadata": {
    "collapsed": false,
    "ExecuteTime": {
     "end_time": "2024-04-09T19:11:52.474679600Z",
     "start_time": "2024-04-09T19:11:52.465170900Z"
    }
   },
   "id": "7649d67860be00f3"
  },
  {
   "cell_type": "code",
   "execution_count": 161,
   "outputs": [
    {
     "data": {
      "text/plain": "2"
     },
     "execution_count": 161,
     "metadata": {},
     "output_type": "execute_result"
    }
   ],
   "source": [
    "df_yawar_c['formato'].isna().sum()"
   ],
   "metadata": {
    "collapsed": false,
    "ExecuteTime": {
     "end_time": "2024-04-09T19:12:35.872573800Z",
     "start_time": "2024-04-09T19:12:35.861998800Z"
    }
   },
   "id": "e583d7e57d87efc0"
  },
  {
   "cell_type": "code",
   "execution_count": 166,
   "outputs": [
    {
     "data": {
      "text/plain": "       #     año      fecha          tipo_actividad formato       actividad  \\\n77  77.0  2022.0 2022-08-06  medios de comunicacion     NaN  Correo del Sur   \n78  78.0  2022.0 2022-06-16  medios de comunicacion     NaN    Revista Ekos   \n\n    cantidad     pais ciudad   alcance  ... copasmenstruales  \\\n77       1.0  Bolivia    N/A  Nacional  ...                0   \n78       1.0  Bolivia    N/A  Nacional  ...                0   \n\n   toallasreutilizables calzonesmenstruales kit_insumos_gestiónmenstrual  \\\n77                    0                   0                            0   \n78                    0                   0                            0   \n\n   expo_duracion tematicataller expo_personal voluntarias  \\\n77             0            N/A           1.0         0.0   \n78             0            N/A           1.0         0.0   \n\n   expo_tiempo_elabtaller org_apoyo  \n77                    0.0   Ninguno  \n78                    0.0   Ninguno  \n\n[2 rows x 30 columns]",
      "text/html": "<div>\n<style scoped>\n    .dataframe tbody tr th:only-of-type {\n        vertical-align: middle;\n    }\n\n    .dataframe tbody tr th {\n        vertical-align: top;\n    }\n\n    .dataframe thead th {\n        text-align: right;\n    }\n</style>\n<table border=\"1\" class=\"dataframe\">\n  <thead>\n    <tr style=\"text-align: right;\">\n      <th></th>\n      <th>#</th>\n      <th>año</th>\n      <th>fecha</th>\n      <th>tipo_actividad</th>\n      <th>formato</th>\n      <th>actividad</th>\n      <th>cantidad</th>\n      <th>pais</th>\n      <th>ciudad</th>\n      <th>alcance</th>\n      <th>...</th>\n      <th>copasmenstruales</th>\n      <th>toallasreutilizables</th>\n      <th>calzonesmenstruales</th>\n      <th>kit_insumos_gestiónmenstrual</th>\n      <th>expo_duracion</th>\n      <th>tematicataller</th>\n      <th>expo_personal</th>\n      <th>voluntarias</th>\n      <th>expo_tiempo_elabtaller</th>\n      <th>org_apoyo</th>\n    </tr>\n  </thead>\n  <tbody>\n    <tr>\n      <th>77</th>\n      <td>77.0</td>\n      <td>2022.0</td>\n      <td>2022-08-06</td>\n      <td>medios de comunicacion</td>\n      <td>NaN</td>\n      <td>Correo del Sur</td>\n      <td>1.0</td>\n      <td>Bolivia</td>\n      <td>N/A</td>\n      <td>Nacional</td>\n      <td>...</td>\n      <td>0</td>\n      <td>0</td>\n      <td>0</td>\n      <td>0</td>\n      <td>0</td>\n      <td>N/A</td>\n      <td>1.0</td>\n      <td>0.0</td>\n      <td>0.0</td>\n      <td>Ninguno</td>\n    </tr>\n    <tr>\n      <th>78</th>\n      <td>78.0</td>\n      <td>2022.0</td>\n      <td>2022-06-16</td>\n      <td>medios de comunicacion</td>\n      <td>NaN</td>\n      <td>Revista Ekos</td>\n      <td>1.0</td>\n      <td>Bolivia</td>\n      <td>N/A</td>\n      <td>Nacional</td>\n      <td>...</td>\n      <td>0</td>\n      <td>0</td>\n      <td>0</td>\n      <td>0</td>\n      <td>0</td>\n      <td>N/A</td>\n      <td>1.0</td>\n      <td>0.0</td>\n      <td>0.0</td>\n      <td>Ninguno</td>\n    </tr>\n  </tbody>\n</table>\n<p>2 rows × 30 columns</p>\n</div>"
     },
     "execution_count": 166,
     "metadata": {},
     "output_type": "execute_result"
    }
   ],
   "source": [
    "df_yawar_c[df_yawar_c['formato'].isna()]"
   ],
   "metadata": {
    "collapsed": false,
    "ExecuteTime": {
     "end_time": "2024-04-09T19:13:46.099271400Z",
     "start_time": "2024-04-09T19:13:46.064176700Z"
    }
   },
   "id": "9ad8c06ea4cb7706"
  },
  {
   "cell_type": "code",
   "execution_count": 172,
   "outputs": [
    {
     "data": {
      "text/plain": "       formato          tipo_actividad           actividad\n75     virtual  medios de comunicacion  Verdad con tinta 1\n76     virtual  medios de comunicacion            Muy Waso\n77     escrito  medios de comunicacion      Correo del Sur\n78     escrito  medios de comunicacion        Revista Ekos\n79  presencial  medios de comunicacion         Agencia EFE\n80  presencial  medios de comunicacion      Nacer Mujer TV",
      "text/html": "<div>\n<style scoped>\n    .dataframe tbody tr th:only-of-type {\n        vertical-align: middle;\n    }\n\n    .dataframe tbody tr th {\n        vertical-align: top;\n    }\n\n    .dataframe thead th {\n        text-align: right;\n    }\n</style>\n<table border=\"1\" class=\"dataframe\">\n  <thead>\n    <tr style=\"text-align: right;\">\n      <th></th>\n      <th>formato</th>\n      <th>tipo_actividad</th>\n      <th>actividad</th>\n    </tr>\n  </thead>\n  <tbody>\n    <tr>\n      <th>75</th>\n      <td>virtual</td>\n      <td>medios de comunicacion</td>\n      <td>Verdad con tinta 1</td>\n    </tr>\n    <tr>\n      <th>76</th>\n      <td>virtual</td>\n      <td>medios de comunicacion</td>\n      <td>Muy Waso</td>\n    </tr>\n    <tr>\n      <th>77</th>\n      <td>escrito</td>\n      <td>medios de comunicacion</td>\n      <td>Correo del Sur</td>\n    </tr>\n    <tr>\n      <th>78</th>\n      <td>escrito</td>\n      <td>medios de comunicacion</td>\n      <td>Revista Ekos</td>\n    </tr>\n    <tr>\n      <th>79</th>\n      <td>presencial</td>\n      <td>medios de comunicacion</td>\n      <td>Agencia EFE</td>\n    </tr>\n    <tr>\n      <th>80</th>\n      <td>presencial</td>\n      <td>medios de comunicacion</td>\n      <td>Nacer Mujer TV</td>\n    </tr>\n  </tbody>\n</table>\n</div>"
     },
     "execution_count": 172,
     "metadata": {},
     "output_type": "execute_result"
    }
   ],
   "source": [
    "df_yawar_c.loc[75:80,['formato','tipo_actividad','actividad']]"
   ],
   "metadata": {
    "collapsed": false,
    "ExecuteTime": {
     "end_time": "2024-04-09T19:18:23.932954400Z",
     "start_time": "2024-04-09T19:18:23.908437600Z"
    }
   },
   "id": "839d7cce4140932e"
  },
  {
   "cell_type": "markdown",
   "source": [
    "Since 'formato's null values correspond to a written communication this will be placed as 'written' "
   ],
   "metadata": {
    "collapsed": false
   },
   "id": "e71e69006b94d866"
  },
  {
   "cell_type": "code",
   "execution_count": 171,
   "outputs": [],
   "source": [
    "df_yawar_c.loc[77:78,'formato']='escrito'"
   ],
   "metadata": {
    "collapsed": false,
    "ExecuteTime": {
     "end_time": "2024-04-09T19:18:16.712096700Z",
     "start_time": "2024-04-09T19:18:16.699295800Z"
    }
   },
   "id": "fbe98f8a845a7fb3"
  },
  {
   "cell_type": "code",
   "execution_count": 184,
   "outputs": [
    {
     "data": {
      "text/plain": "25"
     },
     "execution_count": 184,
     "metadata": {},
     "output_type": "execute_result"
    }
   ],
   "source": [
    "df_yawar_c['poblacion'].isna().sum()"
   ],
   "metadata": {
    "collapsed": false,
    "ExecuteTime": {
     "end_time": "2024-04-09T19:27:59.201386700Z",
     "start_time": "2024-04-09T19:27:59.190157700Z"
    }
   },
   "id": "327885eabd851a3e"
  },
  {
   "cell_type": "code",
   "execution_count": 183,
   "outputs": [
    {
     "data": {
      "text/plain": "tipo_actividad\nartistica y cultural        1\ncampaña                     4\nconversatorio               3\ndifusion                    0\ndifusion redes sociales     7\nmedios de comunicacion     10\ntaller                      0\nName: poblacion, dtype: int64"
     },
     "execution_count": 183,
     "metadata": {},
     "output_type": "execute_result"
    }
   ],
   "source": [
    "df_yawar_c['poblacion'].isna().groupby(df_yawar_c['tipo_actividad']).sum()"
   ],
   "metadata": {
    "collapsed": false,
    "ExecuteTime": {
     "end_time": "2024-04-09T19:27:42.151820600Z",
     "start_time": "2024-04-09T19:27:42.135190900Z"
    }
   },
   "id": "65aaf3010e9a4751"
  },
  {
   "cell_type": "code",
   "execution_count": 188,
   "outputs": [
    {
     "data": {
      "text/plain": "Empty DataFrame\nColumns: [#, año, fecha, tipo_actividad, formato, actividad, cantidad, pais, ciudad, alcance, localidad, lugar, tipodearea, tipodeestablecimiento, personasalcanzadas_cant, edad, poblacion, vulnerabilidad, dotacióninsumos, toallasdesechables, copasmenstruales, toallasreutilizables, calzonesmenstruales, kit_insumos_gestiónmenstrual, expo_duracion, tematicataller, expo_personal, voluntarias, expo_tiempo_elabtaller, org_apoyo]\nIndex: []\n\n[0 rows x 30 columns]",
      "text/html": "<div>\n<style scoped>\n    .dataframe tbody tr th:only-of-type {\n        vertical-align: middle;\n    }\n\n    .dataframe tbody tr th {\n        vertical-align: top;\n    }\n\n    .dataframe thead th {\n        text-align: right;\n    }\n</style>\n<table border=\"1\" class=\"dataframe\">\n  <thead>\n    <tr style=\"text-align: right;\">\n      <th></th>\n      <th>#</th>\n      <th>año</th>\n      <th>fecha</th>\n      <th>tipo_actividad</th>\n      <th>formato</th>\n      <th>actividad</th>\n      <th>cantidad</th>\n      <th>pais</th>\n      <th>ciudad</th>\n      <th>alcance</th>\n      <th>...</th>\n      <th>copasmenstruales</th>\n      <th>toallasreutilizables</th>\n      <th>calzonesmenstruales</th>\n      <th>kit_insumos_gestiónmenstrual</th>\n      <th>expo_duracion</th>\n      <th>tematicataller</th>\n      <th>expo_personal</th>\n      <th>voluntarias</th>\n      <th>expo_tiempo_elabtaller</th>\n      <th>org_apoyo</th>\n    </tr>\n  </thead>\n  <tbody>\n  </tbody>\n</table>\n<p>0 rows × 30 columns</p>\n</div>"
     },
     "execution_count": 188,
     "metadata": {},
     "output_type": "execute_result"
    }
   ],
   "source": [
    "df_yawar_c[df_yawar_c['poblacion'].isna()]"
   ],
   "metadata": {
    "collapsed": false,
    "ExecuteTime": {
     "end_time": "2024-04-09T19:34:46.378453100Z",
     "start_time": "2024-04-09T19:34:46.368270500Z"
    }
   },
   "id": "6763c78a1f364519"
  },
  {
   "cell_type": "markdown",
   "source": [
    "'poblacion' nan values could be replaced with 'poblacion_general' since those activities were fair, artistical difusion. "
   ],
   "metadata": {
    "collapsed": false
   },
   "id": "961adcc19fa3ab5c"
  },
  {
   "cell_type": "code",
   "execution_count": 176,
   "outputs": [],
   "source": [
    "df_yawar_c.loc[49:83,'poblacion']='poblacion_general'"
   ],
   "metadata": {
    "collapsed": false,
    "ExecuteTime": {
     "end_time": "2024-04-09T19:22:06.631119Z",
     "start_time": "2024-04-09T19:22:06.618524500Z"
    }
   },
   "id": "4d7e959e92e8818a"
  },
  {
   "cell_type": "markdown",
   "source": [
    "For those as activities 'campaña' and 'difusion redes sociales' there are nan values in 'tipodeestablecimiento' column. "
   ],
   "metadata": {
    "collapsed": false
   },
   "id": "800f7e85fd1df3c4"
  },
  {
   "cell_type": "code",
   "execution_count": 212,
   "outputs": [
    {
     "data": {
      "text/plain": "tipodearea                      22\ntipodeestablecimiento           11\n#                                1\npoblacion                        0\nexpo_tiempo_elabtaller           0\nvoluntarias                      0\nexpo_personal                    0\ntematicataller                   0\nexpo_duracion                    0\nkit_insumos_gestiónmenstrual     0\ncalzonesmenstruales              0\ntoallasreutilizables             0\ncopasmenstruales                 0\ntoallasdesechables               0\ndotacióninsumos                  0\nvulnerabilidad                   0\nedad                             0\naño                              0\npersonasalcanzadas_cant          0\nlugar                            0\nlocalidad                        0\nalcance                          0\nciudad                           0\npais                             0\ncantidad                         0\nactividad                        0\nformato                          0\ntipo_actividad                   0\nfecha                            0\norg_apoyo                        0\ndtype: int64"
     },
     "execution_count": 212,
     "metadata": {},
     "output_type": "execute_result"
    }
   ],
   "source": [
    "df_yawar_c.isna().sum().sort_values(ascending=False)"
   ],
   "metadata": {
    "collapsed": false,
    "ExecuteTime": {
     "end_time": "2024-04-09T20:13:44.743837700Z",
     "start_time": "2024-04-09T20:13:44.702078700Z"
    }
   },
   "id": "8f86a2037d22ca32"
  },
  {
   "cell_type": "code",
   "execution_count": 203,
   "outputs": [
    {
     "data": {
      "text/plain": "       #     año      fecha           tipo_actividad  formato  \\\n63  64.0  2023.0 2024-05-23                  campaña  virtual   \n64  65.0  2022.0 2022-03-21                  campaña  virtual   \n65   NaN  2021.0 2021-12-01                  campaña  virtual   \n66  66.0  2021.0 2021-12-01                  campaña  virtual   \n67  67.0  2021.0        NaT  difusion redes sociales  virtual   \n68  68.0  2021.0 2021-11-11  difusion redes sociales  virtual   \n69  69.0  2022.0 2022-10-06  difusion redes sociales  virtual   \n70  70.0  2022.0 2022-11-30  difusion redes sociales  virtual   \n71  71.0  2022.0 2022-05-28  difusion redes sociales  virtual   \n72  72.0  2022.0        NaT  difusion redes sociales  virtual   \n73  73.0  2022.0        NaT  difusion redes sociales  virtual   \n\n                                            actividad  cantidad  \\\n63           Campaña de descuentos por Mayo Menstrual       1.0   \n64              Alianza calzones menstruales con Aura       1.0   \n65  Campaña navideña de descuentos en alianza con ...       0.0   \n66  Campaña navideña de descuentos en alianza con ...       0.0   \n67                                              artes      46.0   \n68                                       Videopitch 1       1.0   \n69                                       Videopitch 2       1.0   \n70                           Video de mural menstrual       1.0   \n71                        Video performance artística       1.0   \n72                                              reels      36.0   \n73                                 posts en instagram     116.0   \n\n              pais      ciudad        alcance  ... copasmenstruales  \\\n63         Bolivia         N/A       Nacional  ...                0   \n64         Bolivia         N/A       Nacional  ...                0   \n65  Estados Unidos  Nueva York  Internacional  ...                0   \n66         Bolivia         N/A  Internacional  ...                0   \n67         Bolivia         N/A       Nacional  ...                0   \n68         Bolivia     El Alto  Internacional  ...                0   \n69         Bolivia       Sucre       Nacional  ...                0   \n70         Bolivia       Sucre       Nacional  ...                0   \n71         Bolivia       Sucre       Nacional  ...                0   \n72         Bolivia         N/A  Internacional  ...                0   \n73         Bolivia         N/A  Internacional  ...                0   \n\n   toallasreutilizables calzonesmenstruales kit_insumos_gestiónmenstrual  \\\n63                    0                   0                            0   \n64                    0                   0                            0   \n65                    0                   0                            0   \n66                    0                   0                            0   \n67                    0                   0                            0   \n68                    0                   0                            0   \n69                    0                   0                            0   \n70                    0                   0                            0   \n71                    0                   0                            0   \n72                    0                   0                            0   \n73                    0                   0                            0   \n\n   expo_duracion tematicataller expo_personal voluntarias  \\\n63             0            N/A           1.0         0.0   \n64             0            N/A           1.0         0.0   \n65             0            N/A           1.0         0.0   \n66             0            N/A           1.0         0.0   \n67     no aplica      no aplica           1.0         0.0   \n68             0            N/A           1.0         0.0   \n69             0            N/A           1.0         0.0   \n70             0            N/A           1.0         0.0   \n71            10            N/A           4.0         2.0   \n72             0            N/A           1.0         0.0   \n73             0            N/A           1.0         0.0   \n\n   expo_tiempo_elabtaller            org_apoyo  \n63                    0.0              Ninguno  \n64                    0.0              Ninguno  \n65                    0.0              Ninguno  \n66                    0.0              Ninguno  \n67                    0.0              Ninguno  \n68                    0.0              Ninguno  \n69                    0.0              Ninguno  \n70                  360.0  Micros para Avanzar  \n71                  300.0        Fondo Apthapi  \n72                    0.0              Ninguno  \n73                    0.0              Ninguno  \n\n[11 rows x 30 columns]",
      "text/html": "<div>\n<style scoped>\n    .dataframe tbody tr th:only-of-type {\n        vertical-align: middle;\n    }\n\n    .dataframe tbody tr th {\n        vertical-align: top;\n    }\n\n    .dataframe thead th {\n        text-align: right;\n    }\n</style>\n<table border=\"1\" class=\"dataframe\">\n  <thead>\n    <tr style=\"text-align: right;\">\n      <th></th>\n      <th>#</th>\n      <th>año</th>\n      <th>fecha</th>\n      <th>tipo_actividad</th>\n      <th>formato</th>\n      <th>actividad</th>\n      <th>cantidad</th>\n      <th>pais</th>\n      <th>ciudad</th>\n      <th>alcance</th>\n      <th>...</th>\n      <th>copasmenstruales</th>\n      <th>toallasreutilizables</th>\n      <th>calzonesmenstruales</th>\n      <th>kit_insumos_gestiónmenstrual</th>\n      <th>expo_duracion</th>\n      <th>tematicataller</th>\n      <th>expo_personal</th>\n      <th>voluntarias</th>\n      <th>expo_tiempo_elabtaller</th>\n      <th>org_apoyo</th>\n    </tr>\n  </thead>\n  <tbody>\n    <tr>\n      <th>63</th>\n      <td>64.0</td>\n      <td>2023.0</td>\n      <td>2024-05-23</td>\n      <td>campaña</td>\n      <td>virtual</td>\n      <td>Campaña de descuentos por Mayo Menstrual</td>\n      <td>1.0</td>\n      <td>Bolivia</td>\n      <td>N/A</td>\n      <td>Nacional</td>\n      <td>...</td>\n      <td>0</td>\n      <td>0</td>\n      <td>0</td>\n      <td>0</td>\n      <td>0</td>\n      <td>N/A</td>\n      <td>1.0</td>\n      <td>0.0</td>\n      <td>0.0</td>\n      <td>Ninguno</td>\n    </tr>\n    <tr>\n      <th>64</th>\n      <td>65.0</td>\n      <td>2022.0</td>\n      <td>2022-03-21</td>\n      <td>campaña</td>\n      <td>virtual</td>\n      <td>Alianza calzones menstruales con Aura</td>\n      <td>1.0</td>\n      <td>Bolivia</td>\n      <td>N/A</td>\n      <td>Nacional</td>\n      <td>...</td>\n      <td>0</td>\n      <td>0</td>\n      <td>0</td>\n      <td>0</td>\n      <td>0</td>\n      <td>N/A</td>\n      <td>1.0</td>\n      <td>0.0</td>\n      <td>0.0</td>\n      <td>Ninguno</td>\n    </tr>\n    <tr>\n      <th>65</th>\n      <td>NaN</td>\n      <td>2021.0</td>\n      <td>2021-12-01</td>\n      <td>campaña</td>\n      <td>virtual</td>\n      <td>Campaña navideña de descuentos en alianza con ...</td>\n      <td>0.0</td>\n      <td>Estados Unidos</td>\n      <td>Nueva York</td>\n      <td>Internacional</td>\n      <td>...</td>\n      <td>0</td>\n      <td>0</td>\n      <td>0</td>\n      <td>0</td>\n      <td>0</td>\n      <td>N/A</td>\n      <td>1.0</td>\n      <td>0.0</td>\n      <td>0.0</td>\n      <td>Ninguno</td>\n    </tr>\n    <tr>\n      <th>66</th>\n      <td>66.0</td>\n      <td>2021.0</td>\n      <td>2021-12-01</td>\n      <td>campaña</td>\n      <td>virtual</td>\n      <td>Campaña navideña de descuentos en alianza con ...</td>\n      <td>0.0</td>\n      <td>Bolivia</td>\n      <td>N/A</td>\n      <td>Internacional</td>\n      <td>...</td>\n      <td>0</td>\n      <td>0</td>\n      <td>0</td>\n      <td>0</td>\n      <td>0</td>\n      <td>N/A</td>\n      <td>1.0</td>\n      <td>0.0</td>\n      <td>0.0</td>\n      <td>Ninguno</td>\n    </tr>\n    <tr>\n      <th>67</th>\n      <td>67.0</td>\n      <td>2021.0</td>\n      <td>NaT</td>\n      <td>difusion redes sociales</td>\n      <td>virtual</td>\n      <td>artes</td>\n      <td>46.0</td>\n      <td>Bolivia</td>\n      <td>N/A</td>\n      <td>Nacional</td>\n      <td>...</td>\n      <td>0</td>\n      <td>0</td>\n      <td>0</td>\n      <td>0</td>\n      <td>no aplica</td>\n      <td>no aplica</td>\n      <td>1.0</td>\n      <td>0.0</td>\n      <td>0.0</td>\n      <td>Ninguno</td>\n    </tr>\n    <tr>\n      <th>68</th>\n      <td>68.0</td>\n      <td>2021.0</td>\n      <td>2021-11-11</td>\n      <td>difusion redes sociales</td>\n      <td>virtual</td>\n      <td>Videopitch 1</td>\n      <td>1.0</td>\n      <td>Bolivia</td>\n      <td>El Alto</td>\n      <td>Internacional</td>\n      <td>...</td>\n      <td>0</td>\n      <td>0</td>\n      <td>0</td>\n      <td>0</td>\n      <td>0</td>\n      <td>N/A</td>\n      <td>1.0</td>\n      <td>0.0</td>\n      <td>0.0</td>\n      <td>Ninguno</td>\n    </tr>\n    <tr>\n      <th>69</th>\n      <td>69.0</td>\n      <td>2022.0</td>\n      <td>2022-10-06</td>\n      <td>difusion redes sociales</td>\n      <td>virtual</td>\n      <td>Videopitch 2</td>\n      <td>1.0</td>\n      <td>Bolivia</td>\n      <td>Sucre</td>\n      <td>Nacional</td>\n      <td>...</td>\n      <td>0</td>\n      <td>0</td>\n      <td>0</td>\n      <td>0</td>\n      <td>0</td>\n      <td>N/A</td>\n      <td>1.0</td>\n      <td>0.0</td>\n      <td>0.0</td>\n      <td>Ninguno</td>\n    </tr>\n    <tr>\n      <th>70</th>\n      <td>70.0</td>\n      <td>2022.0</td>\n      <td>2022-11-30</td>\n      <td>difusion redes sociales</td>\n      <td>virtual</td>\n      <td>Video de mural menstrual</td>\n      <td>1.0</td>\n      <td>Bolivia</td>\n      <td>Sucre</td>\n      <td>Nacional</td>\n      <td>...</td>\n      <td>0</td>\n      <td>0</td>\n      <td>0</td>\n      <td>0</td>\n      <td>0</td>\n      <td>N/A</td>\n      <td>1.0</td>\n      <td>0.0</td>\n      <td>360.0</td>\n      <td>Micros para Avanzar</td>\n    </tr>\n    <tr>\n      <th>71</th>\n      <td>71.0</td>\n      <td>2022.0</td>\n      <td>2022-05-28</td>\n      <td>difusion redes sociales</td>\n      <td>virtual</td>\n      <td>Video performance artística</td>\n      <td>1.0</td>\n      <td>Bolivia</td>\n      <td>Sucre</td>\n      <td>Nacional</td>\n      <td>...</td>\n      <td>0</td>\n      <td>0</td>\n      <td>0</td>\n      <td>0</td>\n      <td>10</td>\n      <td>N/A</td>\n      <td>4.0</td>\n      <td>2.0</td>\n      <td>300.0</td>\n      <td>Fondo Apthapi</td>\n    </tr>\n    <tr>\n      <th>72</th>\n      <td>72.0</td>\n      <td>2022.0</td>\n      <td>NaT</td>\n      <td>difusion redes sociales</td>\n      <td>virtual</td>\n      <td>reels</td>\n      <td>36.0</td>\n      <td>Bolivia</td>\n      <td>N/A</td>\n      <td>Internacional</td>\n      <td>...</td>\n      <td>0</td>\n      <td>0</td>\n      <td>0</td>\n      <td>0</td>\n      <td>0</td>\n      <td>N/A</td>\n      <td>1.0</td>\n      <td>0.0</td>\n      <td>0.0</td>\n      <td>Ninguno</td>\n    </tr>\n    <tr>\n      <th>73</th>\n      <td>73.0</td>\n      <td>2022.0</td>\n      <td>NaT</td>\n      <td>difusion redes sociales</td>\n      <td>virtual</td>\n      <td>posts en instagram</td>\n      <td>116.0</td>\n      <td>Bolivia</td>\n      <td>N/A</td>\n      <td>Internacional</td>\n      <td>...</td>\n      <td>0</td>\n      <td>0</td>\n      <td>0</td>\n      <td>0</td>\n      <td>0</td>\n      <td>N/A</td>\n      <td>1.0</td>\n      <td>0.0</td>\n      <td>0.0</td>\n      <td>Ninguno</td>\n    </tr>\n  </tbody>\n</table>\n<p>11 rows × 30 columns</p>\n</div>"
     },
     "execution_count": 203,
     "metadata": {},
     "output_type": "execute_result"
    }
   ],
   "source": [
    "df_yawar_c[df_yawar_c['tipodeestablecimiento'].isna()]"
   ],
   "metadata": {
    "collapsed": false,
    "ExecuteTime": {
     "end_time": "2024-04-09T20:02:07.044229100Z",
     "start_time": "2024-04-09T20:02:06.987796800Z"
    }
   },
   "id": "1b02bf3c9b806098"
  },
  {
   "cell_type": "code",
   "execution_count": 192,
   "outputs": [],
   "source": [
    "tipo_actividades=['difusion','artistica y cultural']"
   ],
   "metadata": {
    "collapsed": false,
    "ExecuteTime": {
     "end_time": "2024-04-09T19:48:17.398608300Z",
     "start_time": "2024-04-09T19:48:17.386741600Z"
    }
   },
   "id": "8ec48bd2641eae14"
  },
  {
   "cell_type": "code",
   "execution_count": 197,
   "outputs": [],
   "source": [
    "df_yawar_c.loc[(df_yawar_c['tipodeestablecimiento'].isna()) & (df_yawar_c['tipo_actividad'].isin(tipo_actividades)),'tipodeestablecimiento']='no aplica'"
   ],
   "metadata": {
    "collapsed": false,
    "ExecuteTime": {
     "end_time": "2024-04-09T19:52:34.815117700Z",
     "start_time": "2024-04-09T19:52:34.805482900Z"
    }
   },
   "id": "3c4fab511aa60a2b"
  },
  {
   "cell_type": "code",
   "execution_count": 199,
   "outputs": [],
   "source": [
    "df_yawar_c.loc[0,'tipodeestablecimiento']='hostelería'\n",
    "df_yawar_c.loc[1,'tipodeestablecimiento']='departamento o casa'"
   ],
   "metadata": {
    "collapsed": false,
    "ExecuteTime": {
     "end_time": "2024-04-09T20:00:35.251362400Z",
     "start_time": "2024-04-09T20:00:35.238283100Z"
    }
   },
   "id": "53bebb3da8a5ff51"
  },
  {
   "cell_type": "code",
   "execution_count": 204,
   "outputs": [
    {
     "data": {
      "text/plain": "       #     año      fecha           tipo_actividad     formato  \\\n61  62.0  2022.0 2022-06-14            conversatorio     virtual   \n63  64.0  2023.0 2024-05-23                  campaña     virtual   \n64  65.0  2022.0 2022-03-21                  campaña     virtual   \n65   NaN  2021.0 2021-12-01                  campaña     virtual   \n66  66.0  2021.0 2021-12-01                  campaña     virtual   \n67  67.0  2021.0        NaT  difusion redes sociales     virtual   \n68  68.0  2021.0 2021-11-11  difusion redes sociales     virtual   \n69  69.0  2022.0 2022-10-06  difusion redes sociales     virtual   \n70  70.0  2022.0 2022-11-30  difusion redes sociales     virtual   \n71  71.0  2022.0 2022-05-28  difusion redes sociales     virtual   \n72  72.0  2022.0        NaT  difusion redes sociales     virtual   \n73  73.0  2022.0        NaT  difusion redes sociales     virtual   \n74  74.0  2022.0 2022-03-25   medios de comunicacion     virtual   \n75  75.0  2021.0 2021-11-16   medios de comunicacion     virtual   \n76  76.0  2022.0 2022-04-28   medios de comunicacion     virtual   \n77  77.0  2022.0 2022-08-06   medios de comunicacion     escrito   \n78  78.0  2022.0 2022-06-16   medios de comunicacion     escrito   \n79  79.0  2023.0 2023-03-22   medios de comunicacion  presencial   \n80  80.0  2023.0 2023-09-16   medios de comunicacion  presencial   \n81  81.0  2022.0 2022-04-13   medios de comunicacion     virtual   \n82  82.0  2022.0 2022-07-19   medios de comunicacion     virtual   \n83  83.0  2022.0 2022-05-27   medios de comunicacion     virtual   \n\n                                            actividad  cantidad  \\\n61  Conversatorio UNIFRANZ: Viviendo la Menstruaci...       1.0   \n63           Campaña de descuentos por Mayo Menstrual       1.0   \n64              Alianza calzones menstruales con Aura       1.0   \n65  Campaña navideña de descuentos en alianza con ...       0.0   \n66  Campaña navideña de descuentos en alianza con ...       0.0   \n67                                              artes      46.0   \n68                                       Videopitch 1       1.0   \n69                                       Videopitch 2       1.0   \n70                           Video de mural menstrual       1.0   \n71                        Video performance artística       1.0   \n72                                              reels      36.0   \n73                                 posts en instagram     116.0   \n74                                 Verdad con tinta 2       1.0   \n75                                 Verdad con tinta 1       1.0   \n76                                           Muy Waso       1.0   \n77                                     Correo del Sur       1.0   \n78                                       Revista Ekos       1.0   \n79                                        Agencia EFE       1.0   \n80                                     Nacer Mujer TV       1.0   \n81                                        Adich Radio       1.0   \n82                                        Adich Radio       1.0   \n83                                    radio Encuentro       1.0   \n\n              pais      ciudad        alcance  ... copasmenstruales  \\\n61         Bolivia     El Alto       Nacional  ...                0   \n63         Bolivia         N/A       Nacional  ...                0   \n64         Bolivia         N/A       Nacional  ...                0   \n65  Estados Unidos  Nueva York  Internacional  ...                0   \n66         Bolivia         N/A  Internacional  ...                0   \n67         Bolivia         N/A       Nacional  ...                0   \n68         Bolivia     El Alto  Internacional  ...                0   \n69         Bolivia       Sucre       Nacional  ...                0   \n70         Bolivia       Sucre       Nacional  ...                0   \n71         Bolivia       Sucre       Nacional  ...                0   \n72         Bolivia         N/A  Internacional  ...                0   \n73         Bolivia         N/A  Internacional  ...                0   \n74         Bolivia         N/A       Nacional  ...                0   \n75         Bolivia         N/A       Nacional  ...                0   \n76         Bolivia         N/A       Nacional  ...                0   \n77         Bolivia         N/A       Nacional  ...                0   \n78         Bolivia         N/A       Nacional  ...                0   \n79         Bolivia         N/A  Internacional  ...                0   \n80         Bolivia      La Paz       Nacional  ...                0   \n81         Bolivia       Sucre       Nacional  ...                0   \n82         Bolivia       Sucre       Nacional  ...                0   \n83         Bolivia       Sucre       Nacional  ...                0   \n\n   toallasreutilizables calzonesmenstruales kit_insumos_gestiónmenstrual  \\\n61                    0                   0                            0   \n63                    0                   0                            0   \n64                    0                   0                            0   \n65                    0                   0                            0   \n66                    0                   0                            0   \n67                    0                   0                            0   \n68                    0                   0                            0   \n69                    0                   0                            0   \n70                    0                   0                            0   \n71                    0                   0                            0   \n72                    0                   0                            0   \n73                    0                   0                            0   \n74                    0                   0                            0   \n75                    0                   0                            0   \n76                    0                   0                            0   \n77                    0                   0                            0   \n78                    0                   0                            0   \n79                    0                   0                            0   \n80                    0                   0                            0   \n81                    0                   0                            0   \n82                    0                   0                            0   \n83                    0                   0                            0   \n\n   expo_duracion tematicataller expo_personal voluntarias  \\\n61             0            N/A           1.0         0.0   \n63             0            N/A           1.0         0.0   \n64             0            N/A           1.0         0.0   \n65             0            N/A           1.0         0.0   \n66             0            N/A           1.0         0.0   \n67     no aplica      no aplica           1.0         0.0   \n68             0            N/A           1.0         0.0   \n69             0            N/A           1.0         0.0   \n70             0            N/A           1.0         0.0   \n71            10            N/A           4.0         2.0   \n72             0            N/A           1.0         0.0   \n73             0            N/A           1.0         0.0   \n74             0            N/A           1.0         0.0   \n75             0            N/A           1.0         0.0   \n76             0            N/A           1.0         0.0   \n77             0            N/A           1.0         0.0   \n78             0            N/A           1.0         0.0   \n79             0            N/A           1.0         0.0   \n80             0            N/A           1.0         0.0   \n81             0            N/A           1.0         0.0   \n82             0            N/A           1.0         0.0   \n83             0            N/A           1.0         0.0   \n\n   expo_tiempo_elabtaller            org_apoyo  \n61                    0.0              Ninguno  \n63                    0.0              Ninguno  \n64                    0.0              Ninguno  \n65                    0.0              Ninguno  \n66                    0.0              Ninguno  \n67                    0.0              Ninguno  \n68                    0.0              Ninguno  \n69                    0.0              Ninguno  \n70                  360.0  Micros para Avanzar  \n71                  300.0        Fondo Apthapi  \n72                    0.0              Ninguno  \n73                    0.0              Ninguno  \n74                    0.0              Ninguno  \n75                    0.0              Ninguno  \n76                    0.0              Ninguno  \n77                    0.0              Ninguno  \n78                    0.0              Ninguno  \n79                    0.0              Ninguno  \n80                    0.0              Ninguno  \n81                    0.0              Ninguno  \n82                    0.0              Ninguno  \n83                    0.0              Ninguno  \n\n[22 rows x 30 columns]",
      "text/html": "<div>\n<style scoped>\n    .dataframe tbody tr th:only-of-type {\n        vertical-align: middle;\n    }\n\n    .dataframe tbody tr th {\n        vertical-align: top;\n    }\n\n    .dataframe thead th {\n        text-align: right;\n    }\n</style>\n<table border=\"1\" class=\"dataframe\">\n  <thead>\n    <tr style=\"text-align: right;\">\n      <th></th>\n      <th>#</th>\n      <th>año</th>\n      <th>fecha</th>\n      <th>tipo_actividad</th>\n      <th>formato</th>\n      <th>actividad</th>\n      <th>cantidad</th>\n      <th>pais</th>\n      <th>ciudad</th>\n      <th>alcance</th>\n      <th>...</th>\n      <th>copasmenstruales</th>\n      <th>toallasreutilizables</th>\n      <th>calzonesmenstruales</th>\n      <th>kit_insumos_gestiónmenstrual</th>\n      <th>expo_duracion</th>\n      <th>tematicataller</th>\n      <th>expo_personal</th>\n      <th>voluntarias</th>\n      <th>expo_tiempo_elabtaller</th>\n      <th>org_apoyo</th>\n    </tr>\n  </thead>\n  <tbody>\n    <tr>\n      <th>61</th>\n      <td>62.0</td>\n      <td>2022.0</td>\n      <td>2022-06-14</td>\n      <td>conversatorio</td>\n      <td>virtual</td>\n      <td>Conversatorio UNIFRANZ: Viviendo la Menstruaci...</td>\n      <td>1.0</td>\n      <td>Bolivia</td>\n      <td>El Alto</td>\n      <td>Nacional</td>\n      <td>...</td>\n      <td>0</td>\n      <td>0</td>\n      <td>0</td>\n      <td>0</td>\n      <td>0</td>\n      <td>N/A</td>\n      <td>1.0</td>\n      <td>0.0</td>\n      <td>0.0</td>\n      <td>Ninguno</td>\n    </tr>\n    <tr>\n      <th>63</th>\n      <td>64.0</td>\n      <td>2023.0</td>\n      <td>2024-05-23</td>\n      <td>campaña</td>\n      <td>virtual</td>\n      <td>Campaña de descuentos por Mayo Menstrual</td>\n      <td>1.0</td>\n      <td>Bolivia</td>\n      <td>N/A</td>\n      <td>Nacional</td>\n      <td>...</td>\n      <td>0</td>\n      <td>0</td>\n      <td>0</td>\n      <td>0</td>\n      <td>0</td>\n      <td>N/A</td>\n      <td>1.0</td>\n      <td>0.0</td>\n      <td>0.0</td>\n      <td>Ninguno</td>\n    </tr>\n    <tr>\n      <th>64</th>\n      <td>65.0</td>\n      <td>2022.0</td>\n      <td>2022-03-21</td>\n      <td>campaña</td>\n      <td>virtual</td>\n      <td>Alianza calzones menstruales con Aura</td>\n      <td>1.0</td>\n      <td>Bolivia</td>\n      <td>N/A</td>\n      <td>Nacional</td>\n      <td>...</td>\n      <td>0</td>\n      <td>0</td>\n      <td>0</td>\n      <td>0</td>\n      <td>0</td>\n      <td>N/A</td>\n      <td>1.0</td>\n      <td>0.0</td>\n      <td>0.0</td>\n      <td>Ninguno</td>\n    </tr>\n    <tr>\n      <th>65</th>\n      <td>NaN</td>\n      <td>2021.0</td>\n      <td>2021-12-01</td>\n      <td>campaña</td>\n      <td>virtual</td>\n      <td>Campaña navideña de descuentos en alianza con ...</td>\n      <td>0.0</td>\n      <td>Estados Unidos</td>\n      <td>Nueva York</td>\n      <td>Internacional</td>\n      <td>...</td>\n      <td>0</td>\n      <td>0</td>\n      <td>0</td>\n      <td>0</td>\n      <td>0</td>\n      <td>N/A</td>\n      <td>1.0</td>\n      <td>0.0</td>\n      <td>0.0</td>\n      <td>Ninguno</td>\n    </tr>\n    <tr>\n      <th>66</th>\n      <td>66.0</td>\n      <td>2021.0</td>\n      <td>2021-12-01</td>\n      <td>campaña</td>\n      <td>virtual</td>\n      <td>Campaña navideña de descuentos en alianza con ...</td>\n      <td>0.0</td>\n      <td>Bolivia</td>\n      <td>N/A</td>\n      <td>Internacional</td>\n      <td>...</td>\n      <td>0</td>\n      <td>0</td>\n      <td>0</td>\n      <td>0</td>\n      <td>0</td>\n      <td>N/A</td>\n      <td>1.0</td>\n      <td>0.0</td>\n      <td>0.0</td>\n      <td>Ninguno</td>\n    </tr>\n    <tr>\n      <th>67</th>\n      <td>67.0</td>\n      <td>2021.0</td>\n      <td>NaT</td>\n      <td>difusion redes sociales</td>\n      <td>virtual</td>\n      <td>artes</td>\n      <td>46.0</td>\n      <td>Bolivia</td>\n      <td>N/A</td>\n      <td>Nacional</td>\n      <td>...</td>\n      <td>0</td>\n      <td>0</td>\n      <td>0</td>\n      <td>0</td>\n      <td>no aplica</td>\n      <td>no aplica</td>\n      <td>1.0</td>\n      <td>0.0</td>\n      <td>0.0</td>\n      <td>Ninguno</td>\n    </tr>\n    <tr>\n      <th>68</th>\n      <td>68.0</td>\n      <td>2021.0</td>\n      <td>2021-11-11</td>\n      <td>difusion redes sociales</td>\n      <td>virtual</td>\n      <td>Videopitch 1</td>\n      <td>1.0</td>\n      <td>Bolivia</td>\n      <td>El Alto</td>\n      <td>Internacional</td>\n      <td>...</td>\n      <td>0</td>\n      <td>0</td>\n      <td>0</td>\n      <td>0</td>\n      <td>0</td>\n      <td>N/A</td>\n      <td>1.0</td>\n      <td>0.0</td>\n      <td>0.0</td>\n      <td>Ninguno</td>\n    </tr>\n    <tr>\n      <th>69</th>\n      <td>69.0</td>\n      <td>2022.0</td>\n      <td>2022-10-06</td>\n      <td>difusion redes sociales</td>\n      <td>virtual</td>\n      <td>Videopitch 2</td>\n      <td>1.0</td>\n      <td>Bolivia</td>\n      <td>Sucre</td>\n      <td>Nacional</td>\n      <td>...</td>\n      <td>0</td>\n      <td>0</td>\n      <td>0</td>\n      <td>0</td>\n      <td>0</td>\n      <td>N/A</td>\n      <td>1.0</td>\n      <td>0.0</td>\n      <td>0.0</td>\n      <td>Ninguno</td>\n    </tr>\n    <tr>\n      <th>70</th>\n      <td>70.0</td>\n      <td>2022.0</td>\n      <td>2022-11-30</td>\n      <td>difusion redes sociales</td>\n      <td>virtual</td>\n      <td>Video de mural menstrual</td>\n      <td>1.0</td>\n      <td>Bolivia</td>\n      <td>Sucre</td>\n      <td>Nacional</td>\n      <td>...</td>\n      <td>0</td>\n      <td>0</td>\n      <td>0</td>\n      <td>0</td>\n      <td>0</td>\n      <td>N/A</td>\n      <td>1.0</td>\n      <td>0.0</td>\n      <td>360.0</td>\n      <td>Micros para Avanzar</td>\n    </tr>\n    <tr>\n      <th>71</th>\n      <td>71.0</td>\n      <td>2022.0</td>\n      <td>2022-05-28</td>\n      <td>difusion redes sociales</td>\n      <td>virtual</td>\n      <td>Video performance artística</td>\n      <td>1.0</td>\n      <td>Bolivia</td>\n      <td>Sucre</td>\n      <td>Nacional</td>\n      <td>...</td>\n      <td>0</td>\n      <td>0</td>\n      <td>0</td>\n      <td>0</td>\n      <td>10</td>\n      <td>N/A</td>\n      <td>4.0</td>\n      <td>2.0</td>\n      <td>300.0</td>\n      <td>Fondo Apthapi</td>\n    </tr>\n    <tr>\n      <th>72</th>\n      <td>72.0</td>\n      <td>2022.0</td>\n      <td>NaT</td>\n      <td>difusion redes sociales</td>\n      <td>virtual</td>\n      <td>reels</td>\n      <td>36.0</td>\n      <td>Bolivia</td>\n      <td>N/A</td>\n      <td>Internacional</td>\n      <td>...</td>\n      <td>0</td>\n      <td>0</td>\n      <td>0</td>\n      <td>0</td>\n      <td>0</td>\n      <td>N/A</td>\n      <td>1.0</td>\n      <td>0.0</td>\n      <td>0.0</td>\n      <td>Ninguno</td>\n    </tr>\n    <tr>\n      <th>73</th>\n      <td>73.0</td>\n      <td>2022.0</td>\n      <td>NaT</td>\n      <td>difusion redes sociales</td>\n      <td>virtual</td>\n      <td>posts en instagram</td>\n      <td>116.0</td>\n      <td>Bolivia</td>\n      <td>N/A</td>\n      <td>Internacional</td>\n      <td>...</td>\n      <td>0</td>\n      <td>0</td>\n      <td>0</td>\n      <td>0</td>\n      <td>0</td>\n      <td>N/A</td>\n      <td>1.0</td>\n      <td>0.0</td>\n      <td>0.0</td>\n      <td>Ninguno</td>\n    </tr>\n    <tr>\n      <th>74</th>\n      <td>74.0</td>\n      <td>2022.0</td>\n      <td>2022-03-25</td>\n      <td>medios de comunicacion</td>\n      <td>virtual</td>\n      <td>Verdad con tinta 2</td>\n      <td>1.0</td>\n      <td>Bolivia</td>\n      <td>N/A</td>\n      <td>Nacional</td>\n      <td>...</td>\n      <td>0</td>\n      <td>0</td>\n      <td>0</td>\n      <td>0</td>\n      <td>0</td>\n      <td>N/A</td>\n      <td>1.0</td>\n      <td>0.0</td>\n      <td>0.0</td>\n      <td>Ninguno</td>\n    </tr>\n    <tr>\n      <th>75</th>\n      <td>75.0</td>\n      <td>2021.0</td>\n      <td>2021-11-16</td>\n      <td>medios de comunicacion</td>\n      <td>virtual</td>\n      <td>Verdad con tinta 1</td>\n      <td>1.0</td>\n      <td>Bolivia</td>\n      <td>N/A</td>\n      <td>Nacional</td>\n      <td>...</td>\n      <td>0</td>\n      <td>0</td>\n      <td>0</td>\n      <td>0</td>\n      <td>0</td>\n      <td>N/A</td>\n      <td>1.0</td>\n      <td>0.0</td>\n      <td>0.0</td>\n      <td>Ninguno</td>\n    </tr>\n    <tr>\n      <th>76</th>\n      <td>76.0</td>\n      <td>2022.0</td>\n      <td>2022-04-28</td>\n      <td>medios de comunicacion</td>\n      <td>virtual</td>\n      <td>Muy Waso</td>\n      <td>1.0</td>\n      <td>Bolivia</td>\n      <td>N/A</td>\n      <td>Nacional</td>\n      <td>...</td>\n      <td>0</td>\n      <td>0</td>\n      <td>0</td>\n      <td>0</td>\n      <td>0</td>\n      <td>N/A</td>\n      <td>1.0</td>\n      <td>0.0</td>\n      <td>0.0</td>\n      <td>Ninguno</td>\n    </tr>\n    <tr>\n      <th>77</th>\n      <td>77.0</td>\n      <td>2022.0</td>\n      <td>2022-08-06</td>\n      <td>medios de comunicacion</td>\n      <td>escrito</td>\n      <td>Correo del Sur</td>\n      <td>1.0</td>\n      <td>Bolivia</td>\n      <td>N/A</td>\n      <td>Nacional</td>\n      <td>...</td>\n      <td>0</td>\n      <td>0</td>\n      <td>0</td>\n      <td>0</td>\n      <td>0</td>\n      <td>N/A</td>\n      <td>1.0</td>\n      <td>0.0</td>\n      <td>0.0</td>\n      <td>Ninguno</td>\n    </tr>\n    <tr>\n      <th>78</th>\n      <td>78.0</td>\n      <td>2022.0</td>\n      <td>2022-06-16</td>\n      <td>medios de comunicacion</td>\n      <td>escrito</td>\n      <td>Revista Ekos</td>\n      <td>1.0</td>\n      <td>Bolivia</td>\n      <td>N/A</td>\n      <td>Nacional</td>\n      <td>...</td>\n      <td>0</td>\n      <td>0</td>\n      <td>0</td>\n      <td>0</td>\n      <td>0</td>\n      <td>N/A</td>\n      <td>1.0</td>\n      <td>0.0</td>\n      <td>0.0</td>\n      <td>Ninguno</td>\n    </tr>\n    <tr>\n      <th>79</th>\n      <td>79.0</td>\n      <td>2023.0</td>\n      <td>2023-03-22</td>\n      <td>medios de comunicacion</td>\n      <td>presencial</td>\n      <td>Agencia EFE</td>\n      <td>1.0</td>\n      <td>Bolivia</td>\n      <td>N/A</td>\n      <td>Internacional</td>\n      <td>...</td>\n      <td>0</td>\n      <td>0</td>\n      <td>0</td>\n      <td>0</td>\n      <td>0</td>\n      <td>N/A</td>\n      <td>1.0</td>\n      <td>0.0</td>\n      <td>0.0</td>\n      <td>Ninguno</td>\n    </tr>\n    <tr>\n      <th>80</th>\n      <td>80.0</td>\n      <td>2023.0</td>\n      <td>2023-09-16</td>\n      <td>medios de comunicacion</td>\n      <td>presencial</td>\n      <td>Nacer Mujer TV</td>\n      <td>1.0</td>\n      <td>Bolivia</td>\n      <td>La Paz</td>\n      <td>Nacional</td>\n      <td>...</td>\n      <td>0</td>\n      <td>0</td>\n      <td>0</td>\n      <td>0</td>\n      <td>0</td>\n      <td>N/A</td>\n      <td>1.0</td>\n      <td>0.0</td>\n      <td>0.0</td>\n      <td>Ninguno</td>\n    </tr>\n    <tr>\n      <th>81</th>\n      <td>81.0</td>\n      <td>2022.0</td>\n      <td>2022-04-13</td>\n      <td>medios de comunicacion</td>\n      <td>virtual</td>\n      <td>Adich Radio</td>\n      <td>1.0</td>\n      <td>Bolivia</td>\n      <td>Sucre</td>\n      <td>Nacional</td>\n      <td>...</td>\n      <td>0</td>\n      <td>0</td>\n      <td>0</td>\n      <td>0</td>\n      <td>0</td>\n      <td>N/A</td>\n      <td>1.0</td>\n      <td>0.0</td>\n      <td>0.0</td>\n      <td>Ninguno</td>\n    </tr>\n    <tr>\n      <th>82</th>\n      <td>82.0</td>\n      <td>2022.0</td>\n      <td>2022-07-19</td>\n      <td>medios de comunicacion</td>\n      <td>virtual</td>\n      <td>Adich Radio</td>\n      <td>1.0</td>\n      <td>Bolivia</td>\n      <td>Sucre</td>\n      <td>Nacional</td>\n      <td>...</td>\n      <td>0</td>\n      <td>0</td>\n      <td>0</td>\n      <td>0</td>\n      <td>0</td>\n      <td>N/A</td>\n      <td>1.0</td>\n      <td>0.0</td>\n      <td>0.0</td>\n      <td>Ninguno</td>\n    </tr>\n    <tr>\n      <th>83</th>\n      <td>83.0</td>\n      <td>2022.0</td>\n      <td>2022-05-27</td>\n      <td>medios de comunicacion</td>\n      <td>virtual</td>\n      <td>radio Encuentro</td>\n      <td>1.0</td>\n      <td>Bolivia</td>\n      <td>Sucre</td>\n      <td>Nacional</td>\n      <td>...</td>\n      <td>0</td>\n      <td>0</td>\n      <td>0</td>\n      <td>0</td>\n      <td>0</td>\n      <td>N/A</td>\n      <td>1.0</td>\n      <td>0.0</td>\n      <td>0.0</td>\n      <td>Ninguno</td>\n    </tr>\n  </tbody>\n</table>\n<p>22 rows × 30 columns</p>\n</div>"
     },
     "execution_count": 204,
     "metadata": {},
     "output_type": "execute_result"
    }
   ],
   "source": [
    "#tipo de area\n",
    "df_yawar_c[df_yawar_c['tipodearea'].isna()]"
   ],
   "metadata": {
    "collapsed": false,
    "ExecuteTime": {
     "end_time": "2024-04-09T20:05:56.570640700Z",
     "start_time": "2024-04-09T20:05:56.546513700Z"
    }
   },
   "id": "d1634d629f291a6b"
  },
  {
   "cell_type": "markdown",
   "source": [
    "Since for those NaN values do not correspond any value, NaN will stay without modification. "
   ],
   "metadata": {
    "collapsed": false
   },
   "id": "2f455d2eb63f6e2b"
  },
  {
   "cell_type": "code",
   "execution_count": 206,
   "outputs": [
    {
     "data": {
      "text/plain": "       #     año fecha           tipo_actividad  formato           actividad  \\\n67  67.0  2021.0   NaT  difusion redes sociales  virtual               artes   \n72  72.0  2022.0   NaT  difusion redes sociales  virtual               reels   \n73  73.0  2022.0   NaT  difusion redes sociales  virtual  posts en instagram   \n\n    cantidad     pais ciudad        alcance  ... copasmenstruales  \\\n67      46.0  Bolivia    N/A       Nacional  ...                0   \n72      36.0  Bolivia    N/A  Internacional  ...                0   \n73     116.0  Bolivia    N/A  Internacional  ...                0   \n\n   toallasreutilizables calzonesmenstruales kit_insumos_gestiónmenstrual  \\\n67                    0                   0                            0   \n72                    0                   0                            0   \n73                    0                   0                            0   \n\n   expo_duracion tematicataller expo_personal voluntarias  \\\n67     no aplica      no aplica           1.0         0.0   \n72             0            N/A           1.0         0.0   \n73             0            N/A           1.0         0.0   \n\n   expo_tiempo_elabtaller org_apoyo  \n67                    0.0   Ninguno  \n72                    0.0   Ninguno  \n73                    0.0   Ninguno  \n\n[3 rows x 30 columns]",
      "text/html": "<div>\n<style scoped>\n    .dataframe tbody tr th:only-of-type {\n        vertical-align: middle;\n    }\n\n    .dataframe tbody tr th {\n        vertical-align: top;\n    }\n\n    .dataframe thead th {\n        text-align: right;\n    }\n</style>\n<table border=\"1\" class=\"dataframe\">\n  <thead>\n    <tr style=\"text-align: right;\">\n      <th></th>\n      <th>#</th>\n      <th>año</th>\n      <th>fecha</th>\n      <th>tipo_actividad</th>\n      <th>formato</th>\n      <th>actividad</th>\n      <th>cantidad</th>\n      <th>pais</th>\n      <th>ciudad</th>\n      <th>alcance</th>\n      <th>...</th>\n      <th>copasmenstruales</th>\n      <th>toallasreutilizables</th>\n      <th>calzonesmenstruales</th>\n      <th>kit_insumos_gestiónmenstrual</th>\n      <th>expo_duracion</th>\n      <th>tematicataller</th>\n      <th>expo_personal</th>\n      <th>voluntarias</th>\n      <th>expo_tiempo_elabtaller</th>\n      <th>org_apoyo</th>\n    </tr>\n  </thead>\n  <tbody>\n    <tr>\n      <th>67</th>\n      <td>67.0</td>\n      <td>2021.0</td>\n      <td>NaT</td>\n      <td>difusion redes sociales</td>\n      <td>virtual</td>\n      <td>artes</td>\n      <td>46.0</td>\n      <td>Bolivia</td>\n      <td>N/A</td>\n      <td>Nacional</td>\n      <td>...</td>\n      <td>0</td>\n      <td>0</td>\n      <td>0</td>\n      <td>0</td>\n      <td>no aplica</td>\n      <td>no aplica</td>\n      <td>1.0</td>\n      <td>0.0</td>\n      <td>0.0</td>\n      <td>Ninguno</td>\n    </tr>\n    <tr>\n      <th>72</th>\n      <td>72.0</td>\n      <td>2022.0</td>\n      <td>NaT</td>\n      <td>difusion redes sociales</td>\n      <td>virtual</td>\n      <td>reels</td>\n      <td>36.0</td>\n      <td>Bolivia</td>\n      <td>N/A</td>\n      <td>Internacional</td>\n      <td>...</td>\n      <td>0</td>\n      <td>0</td>\n      <td>0</td>\n      <td>0</td>\n      <td>0</td>\n      <td>N/A</td>\n      <td>1.0</td>\n      <td>0.0</td>\n      <td>0.0</td>\n      <td>Ninguno</td>\n    </tr>\n    <tr>\n      <th>73</th>\n      <td>73.0</td>\n      <td>2022.0</td>\n      <td>NaT</td>\n      <td>difusion redes sociales</td>\n      <td>virtual</td>\n      <td>posts en instagram</td>\n      <td>116.0</td>\n      <td>Bolivia</td>\n      <td>N/A</td>\n      <td>Internacional</td>\n      <td>...</td>\n      <td>0</td>\n      <td>0</td>\n      <td>0</td>\n      <td>0</td>\n      <td>0</td>\n      <td>N/A</td>\n      <td>1.0</td>\n      <td>0.0</td>\n      <td>0.0</td>\n      <td>Ninguno</td>\n    </tr>\n  </tbody>\n</table>\n<p>3 rows × 30 columns</p>\n</div>"
     },
     "execution_count": 206,
     "metadata": {},
     "output_type": "execute_result"
    }
   ],
   "source": [
    "df_yawar_c[df_yawar_c['fecha'].isna()]"
   ],
   "metadata": {
    "collapsed": false,
    "ExecuteTime": {
     "end_time": "2024-04-09T20:09:33.332671300Z",
     "start_time": "2024-04-09T20:09:33.282585100Z"
    }
   },
   "id": "659258a2fad8c525"
  },
  {
   "cell_type": "code",
   "execution_count": 209,
   "outputs": [
    {
     "data": {
      "text/plain": "        fecha           tipo_actividad\n65 2021-12-01                  campaña\n66 2021-12-01                  campaña\n67        NaT  difusion redes sociales\n68 2021-11-11  difusion redes sociales\n69 2022-10-06  difusion redes sociales\n70 2022-11-30  difusion redes sociales\n71 2022-05-28  difusion redes sociales\n72        NaT  difusion redes sociales\n73        NaT  difusion redes sociales\n74 2022-03-25   medios de comunicacion\n75 2021-11-16   medios de comunicacion",
      "text/html": "<div>\n<style scoped>\n    .dataframe tbody tr th:only-of-type {\n        vertical-align: middle;\n    }\n\n    .dataframe tbody tr th {\n        vertical-align: top;\n    }\n\n    .dataframe thead th {\n        text-align: right;\n    }\n</style>\n<table border=\"1\" class=\"dataframe\">\n  <thead>\n    <tr style=\"text-align: right;\">\n      <th></th>\n      <th>fecha</th>\n      <th>tipo_actividad</th>\n    </tr>\n  </thead>\n  <tbody>\n    <tr>\n      <th>65</th>\n      <td>2021-12-01</td>\n      <td>campaña</td>\n    </tr>\n    <tr>\n      <th>66</th>\n      <td>2021-12-01</td>\n      <td>campaña</td>\n    </tr>\n    <tr>\n      <th>67</th>\n      <td>NaT</td>\n      <td>difusion redes sociales</td>\n    </tr>\n    <tr>\n      <th>68</th>\n      <td>2021-11-11</td>\n      <td>difusion redes sociales</td>\n    </tr>\n    <tr>\n      <th>69</th>\n      <td>2022-10-06</td>\n      <td>difusion redes sociales</td>\n    </tr>\n    <tr>\n      <th>70</th>\n      <td>2022-11-30</td>\n      <td>difusion redes sociales</td>\n    </tr>\n    <tr>\n      <th>71</th>\n      <td>2022-05-28</td>\n      <td>difusion redes sociales</td>\n    </tr>\n    <tr>\n      <th>72</th>\n      <td>NaT</td>\n      <td>difusion redes sociales</td>\n    </tr>\n    <tr>\n      <th>73</th>\n      <td>NaT</td>\n      <td>difusion redes sociales</td>\n    </tr>\n    <tr>\n      <th>74</th>\n      <td>2022-03-25</td>\n      <td>medios de comunicacion</td>\n    </tr>\n    <tr>\n      <th>75</th>\n      <td>2021-11-16</td>\n      <td>medios de comunicacion</td>\n    </tr>\n  </tbody>\n</table>\n</div>"
     },
     "execution_count": 209,
     "metadata": {},
     "output_type": "execute_result"
    }
   ],
   "source": [
    "df_yawar_c.loc[65:75,['fecha','tipo_actividad']]"
   ],
   "metadata": {
    "collapsed": false,
    "ExecuteTime": {
     "end_time": "2024-04-09T20:11:17.863640100Z",
     "start_time": "2024-04-09T20:11:17.811507700Z"
    }
   },
   "id": "b2d6683882456087"
  },
  {
   "cell_type": "code",
   "execution_count": 210,
   "outputs": [
    {
     "name": "stderr",
     "output_type": "stream",
     "text": [
      "C:\\Users\\luzna\\AppData\\Local\\Temp\\ipykernel_25564\\310772416.py:1: FutureWarning: A value is trying to be set on a copy of a DataFrame or Series through chained assignment using an inplace method.\n",
      "The behavior will change in pandas 3.0. This inplace method will never work because the intermediate object on which we are setting values always behaves as a copy.\n",
      "\n",
      "For example, when doing 'df[col].method(value, inplace=True)', try using 'df.method({col: value}, inplace=True)' or df[col] = df[col].method(value) instead, to perform the operation inplace on the original object.\n",
      "\n",
      "\n",
      "  df_yawar_c['fecha'].fillna(method='ffill', inplace=True)\n",
      "C:\\Users\\luzna\\AppData\\Local\\Temp\\ipykernel_25564\\310772416.py:1: FutureWarning: Series.fillna with 'method' is deprecated and will raise in a future version. Use obj.ffill() or obj.bfill() instead.\n",
      "  df_yawar_c['fecha'].fillna(method='ffill', inplace=True)\n"
     ]
    }
   ],
   "source": [
    "df_yawar_c['fecha'].fillna(method='ffill', inplace=True)"
   ],
   "metadata": {
    "collapsed": false,
    "ExecuteTime": {
     "end_time": "2024-04-09T20:12:23.342518900Z",
     "start_time": "2024-04-09T20:12:23.299848600Z"
    }
   },
   "id": "85b134453ea52e82"
  },
  {
   "cell_type": "markdown",
   "source": [
    "### Duplicated values"
   ],
   "metadata": {
    "collapsed": false
   },
   "id": "9ec27accec2c44eb"
  },
  {
   "cell_type": "code",
   "execution_count": 213,
   "outputs": [
    {
     "data": {
      "text/plain": "Empty DataFrame\nColumns: [#, año, fecha, tipo_actividad, formato, actividad, cantidad, pais, ciudad, alcance, localidad, lugar, tipodearea, tipodeestablecimiento, personasalcanzadas_cant, edad, poblacion, vulnerabilidad, dotacióninsumos, toallasdesechables, copasmenstruales, toallasreutilizables, calzonesmenstruales, kit_insumos_gestiónmenstrual, expo_duracion, tematicataller, expo_personal, voluntarias, expo_tiempo_elabtaller, org_apoyo]\nIndex: []\n\n[0 rows x 30 columns]",
      "text/html": "<div>\n<style scoped>\n    .dataframe tbody tr th:only-of-type {\n        vertical-align: middle;\n    }\n\n    .dataframe tbody tr th {\n        vertical-align: top;\n    }\n\n    .dataframe thead th {\n        text-align: right;\n    }\n</style>\n<table border=\"1\" class=\"dataframe\">\n  <thead>\n    <tr style=\"text-align: right;\">\n      <th></th>\n      <th>#</th>\n      <th>año</th>\n      <th>fecha</th>\n      <th>tipo_actividad</th>\n      <th>formato</th>\n      <th>actividad</th>\n      <th>cantidad</th>\n      <th>pais</th>\n      <th>ciudad</th>\n      <th>alcance</th>\n      <th>...</th>\n      <th>copasmenstruales</th>\n      <th>toallasreutilizables</th>\n      <th>calzonesmenstruales</th>\n      <th>kit_insumos_gestiónmenstrual</th>\n      <th>expo_duracion</th>\n      <th>tematicataller</th>\n      <th>expo_personal</th>\n      <th>voluntarias</th>\n      <th>expo_tiempo_elabtaller</th>\n      <th>org_apoyo</th>\n    </tr>\n  </thead>\n  <tbody>\n  </tbody>\n</table>\n<p>0 rows × 30 columns</p>\n</div>"
     },
     "execution_count": 213,
     "metadata": {},
     "output_type": "execute_result"
    }
   ],
   "source": [
    "df_yawar_c[df_yawar_c.duplicated(keep=False)]"
   ],
   "metadata": {
    "collapsed": false,
    "ExecuteTime": {
     "end_time": "2024-04-09T20:27:01.403737900Z",
     "start_time": "2024-04-09T20:27:01.393533800Z"
    }
   },
   "id": "98f258f6059e367b"
  },
  {
   "cell_type": "code",
   "execution_count": 91,
   "outputs": [],
   "source": [
    "#df_yawar_c.loc[df_yawar_c.duplicated(keep=False),:]\n",
    "df_yawar_c.drop_duplicates(keep=False, inplace=True)"
   ],
   "metadata": {
    "collapsed": false,
    "ExecuteTime": {
     "end_time": "2024-04-09T16:47:43.432514300Z",
     "start_time": "2024-04-09T16:47:43.422967400Z"
    }
   },
   "id": "406a9e79640c98f3"
  },
  {
   "cell_type": "code",
   "execution_count": 93,
   "outputs": [
    {
     "data": {
      "text/plain": "0"
     },
     "execution_count": 93,
     "metadata": {},
     "output_type": "execute_result"
    }
   ],
   "source": [
    "df_yawar_c.duplicated().sum()"
   ],
   "metadata": {
    "collapsed": false,
    "ExecuteTime": {
     "end_time": "2024-04-09T16:48:07.588579500Z",
     "start_time": "2024-04-09T16:48:07.511991900Z"
    }
   },
   "id": "f9f91272db6f2c62"
  },
  {
   "cell_type": "markdown",
   "source": [
    "## Continous with EDA process"
   ],
   "metadata": {
    "collapsed": false
   },
   "id": "3526d62b3d2abb61"
  },
  {
   "cell_type": "code",
   "execution_count": 215,
   "outputs": [
    {
     "name": "stdout",
     "output_type": "stream",
     "text": [
      "<class 'pandas.core.frame.DataFrame'>\n",
      "RangeIndex: 84 entries, 0 to 83\n",
      "Data columns (total 30 columns):\n",
      " #   Column                        Non-Null Count  Dtype         \n",
      "---  ------                        --------------  -----         \n",
      " 0   #                             83 non-null     float64       \n",
      " 1   año                           84 non-null     float64       \n",
      " 2   fecha                         84 non-null     datetime64[ns]\n",
      " 3   tipo_actividad                84 non-null     object        \n",
      " 4   formato                       84 non-null     object        \n",
      " 5   actividad                     84 non-null     object        \n",
      " 6   cantidad                      84 non-null     float64       \n",
      " 7   pais                          84 non-null     object        \n",
      " 8   ciudad                        84 non-null     object        \n",
      " 9   alcance                       84 non-null     object        \n",
      " 10  localidad                     84 non-null     object        \n",
      " 11  lugar                         84 non-null     object        \n",
      " 12  tipodearea                    62 non-null     object        \n",
      " 13  tipodeestablecimiento         73 non-null     object        \n",
      " 14  personasalcanzadas_cant       84 non-null     object        \n",
      " 15  edad                          84 non-null     object        \n",
      " 16  poblacion                     84 non-null     object        \n",
      " 17  vulnerabilidad                84 non-null     object        \n",
      " 18  dotacióninsumos               84 non-null     object        \n",
      " 19  toallasdesechables            84 non-null     object        \n",
      " 20  copasmenstruales              84 non-null     object        \n",
      " 21  toallasreutilizables          84 non-null     object        \n",
      " 22  calzonesmenstruales           84 non-null     object        \n",
      " 23  kit_insumos_gestiónmenstrual  84 non-null     object        \n",
      " 24  expo_duracion                 84 non-null     object        \n",
      " 25  tematicataller                84 non-null     object        \n",
      " 26  expo_personal                 84 non-null     float64       \n",
      " 27  voluntarias                   84 non-null     float64       \n",
      " 28  expo_tiempo_elabtaller        84 non-null     float64       \n",
      " 29  org_apoyo                     84 non-null     object        \n",
      "dtypes: datetime64[ns](1), float64(6), object(23)\n",
      "memory usage: 19.8+ KB\n"
     ]
    }
   ],
   "source": [
    "df_yawar_c.info()"
   ],
   "metadata": {
    "collapsed": false,
    "ExecuteTime": {
     "end_time": "2024-04-09T20:27:42.711881100Z",
     "start_time": "2024-04-09T20:27:42.694339600Z"
    }
   },
   "id": "877e8f837d0c9707"
  },
  {
   "cell_type": "code",
   "execution_count": 216,
   "outputs": [
    {
     "data": {
      "text/plain": "       #     año      fecha          tipo_actividad     formato  \\\n63  64.0  2023.0 2024-05-23                 campaña     virtual   \n31  32.0  2022.0 2022-10-05                  taller     virtual   \n61  62.0  2022.0 2022-06-14           conversatorio     virtual   \n50  51.0  2023.0 2023-09-28                difusion  presencial   \n80  80.0  2023.0 2023-09-16  medios de comunicacion  presencial   \n\n                                            actividad  cantidad     pais  \\\n63           Campaña de descuentos por Mayo Menstrual       1.0  Bolivia   \n31                                  Voluntarias Yawar       1.0  Bolivia   \n61  Conversatorio UNIFRANZ: Viviendo la Menstruaci...       1.0  Bolivia   \n50    Feria Bulliciosa de la Campaña 28 de Septiembre       1.0  Bolivia   \n80                                     Nacer Mujer TV       1.0  Bolivia   \n\n               ciudad   alcance  ... copasmenstruales toallasreutilizables  \\\n63                N/A  Nacional  ...                0                    0   \n31  Diversas ciudades  Nacional  ...               No                   No   \n61            El Alto  Nacional  ...                0                    0   \n50         Santa Cruz  Nacional  ...                0                    0   \n80             La Paz  Nacional  ...                0                    0   \n\n   calzonesmenstruales kit_insumos_gestiónmenstrual expo_duracion  \\\n63                   0                            0             0   \n31                  No                           No           210   \n61                   0                            0             0   \n50                   0                            0             0   \n80                   0                            0             0   \n\n         tematicataller expo_personal voluntarias expo_tiempo_elabtaller  \\\n63                  N/A           1.0         0.0                    0.0   \n31  Activismo menstrual           1.0        10.0                  480.0   \n61                  N/A           1.0         0.0                    0.0   \n50                  N/A           1.0         1.0                    0.0   \n80                  N/A           1.0         0.0                    0.0   \n\n         org_apoyo  \n63         Ninguno  \n31  Aptapi Jopueti  \n61         Ninguno  \n50         Ninguno  \n80         Ninguno  \n\n[5 rows x 30 columns]",
      "text/html": "<div>\n<style scoped>\n    .dataframe tbody tr th:only-of-type {\n        vertical-align: middle;\n    }\n\n    .dataframe tbody tr th {\n        vertical-align: top;\n    }\n\n    .dataframe thead th {\n        text-align: right;\n    }\n</style>\n<table border=\"1\" class=\"dataframe\">\n  <thead>\n    <tr style=\"text-align: right;\">\n      <th></th>\n      <th>#</th>\n      <th>año</th>\n      <th>fecha</th>\n      <th>tipo_actividad</th>\n      <th>formato</th>\n      <th>actividad</th>\n      <th>cantidad</th>\n      <th>pais</th>\n      <th>ciudad</th>\n      <th>alcance</th>\n      <th>...</th>\n      <th>copasmenstruales</th>\n      <th>toallasreutilizables</th>\n      <th>calzonesmenstruales</th>\n      <th>kit_insumos_gestiónmenstrual</th>\n      <th>expo_duracion</th>\n      <th>tematicataller</th>\n      <th>expo_personal</th>\n      <th>voluntarias</th>\n      <th>expo_tiempo_elabtaller</th>\n      <th>org_apoyo</th>\n    </tr>\n  </thead>\n  <tbody>\n    <tr>\n      <th>63</th>\n      <td>64.0</td>\n      <td>2023.0</td>\n      <td>2024-05-23</td>\n      <td>campaña</td>\n      <td>virtual</td>\n      <td>Campaña de descuentos por Mayo Menstrual</td>\n      <td>1.0</td>\n      <td>Bolivia</td>\n      <td>N/A</td>\n      <td>Nacional</td>\n      <td>...</td>\n      <td>0</td>\n      <td>0</td>\n      <td>0</td>\n      <td>0</td>\n      <td>0</td>\n      <td>N/A</td>\n      <td>1.0</td>\n      <td>0.0</td>\n      <td>0.0</td>\n      <td>Ninguno</td>\n    </tr>\n    <tr>\n      <th>31</th>\n      <td>32.0</td>\n      <td>2022.0</td>\n      <td>2022-10-05</td>\n      <td>taller</td>\n      <td>virtual</td>\n      <td>Voluntarias Yawar</td>\n      <td>1.0</td>\n      <td>Bolivia</td>\n      <td>Diversas ciudades</td>\n      <td>Nacional</td>\n      <td>...</td>\n      <td>No</td>\n      <td>No</td>\n      <td>No</td>\n      <td>No</td>\n      <td>210</td>\n      <td>Activismo menstrual</td>\n      <td>1.0</td>\n      <td>10.0</td>\n      <td>480.0</td>\n      <td>Aptapi Jopueti</td>\n    </tr>\n    <tr>\n      <th>61</th>\n      <td>62.0</td>\n      <td>2022.0</td>\n      <td>2022-06-14</td>\n      <td>conversatorio</td>\n      <td>virtual</td>\n      <td>Conversatorio UNIFRANZ: Viviendo la Menstruaci...</td>\n      <td>1.0</td>\n      <td>Bolivia</td>\n      <td>El Alto</td>\n      <td>Nacional</td>\n      <td>...</td>\n      <td>0</td>\n      <td>0</td>\n      <td>0</td>\n      <td>0</td>\n      <td>0</td>\n      <td>N/A</td>\n      <td>1.0</td>\n      <td>0.0</td>\n      <td>0.0</td>\n      <td>Ninguno</td>\n    </tr>\n    <tr>\n      <th>50</th>\n      <td>51.0</td>\n      <td>2023.0</td>\n      <td>2023-09-28</td>\n      <td>difusion</td>\n      <td>presencial</td>\n      <td>Feria Bulliciosa de la Campaña 28 de Septiembre</td>\n      <td>1.0</td>\n      <td>Bolivia</td>\n      <td>Santa Cruz</td>\n      <td>Nacional</td>\n      <td>...</td>\n      <td>0</td>\n      <td>0</td>\n      <td>0</td>\n      <td>0</td>\n      <td>0</td>\n      <td>N/A</td>\n      <td>1.0</td>\n      <td>1.0</td>\n      <td>0.0</td>\n      <td>Ninguno</td>\n    </tr>\n    <tr>\n      <th>80</th>\n      <td>80.0</td>\n      <td>2023.0</td>\n      <td>2023-09-16</td>\n      <td>medios de comunicacion</td>\n      <td>presencial</td>\n      <td>Nacer Mujer TV</td>\n      <td>1.0</td>\n      <td>Bolivia</td>\n      <td>La Paz</td>\n      <td>Nacional</td>\n      <td>...</td>\n      <td>0</td>\n      <td>0</td>\n      <td>0</td>\n      <td>0</td>\n      <td>0</td>\n      <td>N/A</td>\n      <td>1.0</td>\n      <td>0.0</td>\n      <td>0.0</td>\n      <td>Ninguno</td>\n    </tr>\n  </tbody>\n</table>\n<p>5 rows × 30 columns</p>\n</div>"
     },
     "execution_count": 216,
     "metadata": {},
     "output_type": "execute_result"
    }
   ],
   "source": [
    "df_yawar_c.sample(5)"
   ],
   "metadata": {
    "collapsed": false,
    "ExecuteTime": {
     "end_time": "2024-04-09T20:34:49.037770300Z",
     "start_time": "2024-04-09T20:34:49.023677Z"
    }
   },
   "id": "a1359e0d3963e0d6"
  },
  {
   "cell_type": "markdown",
   "source": [
    "### Data type conversions"
   ],
   "metadata": {
    "collapsed": false
   },
   "id": "39752bd9f1f773e7"
  },
  {
   "cell_type": "code",
   "execution_count": 223,
   "outputs": [],
   "source": [
    "df_yawar_c.loc[df_yawar_c['personasalcanzadas_cant']=='N/A','personasalcanzadas_cant']=0"
   ],
   "metadata": {
    "collapsed": false,
    "ExecuteTime": {
     "end_time": "2024-04-09T20:41:03.876295100Z",
     "start_time": "2024-04-09T20:41:03.863193700Z"
    }
   },
   "id": "f0a7581a28767c58"
  },
  {
   "cell_type": "code",
   "execution_count": 229,
   "outputs": [],
   "source": [
    "df_yawar_c.loc[df_yawar_c['expo_duracion']=='no aplica','expo_duracion']=0"
   ],
   "metadata": {
    "collapsed": false,
    "ExecuteTime": {
     "end_time": "2024-04-09T20:42:31.217428500Z",
     "start_time": "2024-04-09T20:42:31.205916300Z"
    }
   },
   "id": "f35799306550fd76"
  },
  {
   "cell_type": "code",
   "execution_count": 225,
   "outputs": [],
   "source": [
    "df_yawar_c.loc[df_yawar_c['expo_duracion']=='N/A','expo_duracion']=0\n",
    "df_yawar_c.loc[df_yawar_c['expo_tiempo_elabtaller']=='N/A','expo_tiempo_elabtaller']=0"
   ],
   "metadata": {
    "collapsed": false,
    "ExecuteTime": {
     "end_time": "2024-04-09T20:41:32.895112400Z",
     "start_time": "2024-04-09T20:41:32.881523500Z"
    }
   },
   "id": "ed6ccde486e0494f"
  },
  {
   "cell_type": "code",
   "execution_count": 227,
   "outputs": [],
   "source": [
    "df_yawar_c.loc[df_yawar_c['toallasdesechables']=='No','toallasdesechables']=0\n",
    "df_yawar_c.loc[df_yawar_c['copasmenstruales']=='No','copasmenstruales']=0\n",
    "df_yawar_c.loc[df_yawar_c['toallasreutilizables']=='No','toallasreutilizables']=0\n",
    "df_yawar_c.loc[df_yawar_c['calzonesmenstruales']=='No','calzonesmenstruales']=0\n",
    "df_yawar_c.loc[df_yawar_c['kit_insumos_gestiónmenstrual']=='No','kit_insumos_gestiónmenstrual']=0"
   ],
   "metadata": {
    "collapsed": false,
    "ExecuteTime": {
     "end_time": "2024-04-09T20:42:00.991920500Z",
     "start_time": "2024-04-09T20:42:00.982444Z"
    }
   },
   "id": "c67e0f5d902478e1"
  },
  {
   "cell_type": "code",
   "execution_count": 230,
   "outputs": [],
   "source": [
    "df_yawar_c=df_yawar_c.assign(\n",
    "    año=lambda x:x.año.astype('int'),\n",
    "    cantidad=lambda x:x['cantidad'].astype('int'),\n",
    "    personasalcanzadas_cant=lambda x:x['personasalcanzadas_cant'].astype('int'),\n",
    "    toallasdesechablesa=lambda x:x['toallasdesechables'].astype('int'),\n",
    "    copasmenstruales=lambda x:x['copasmenstruales'].astype('int'),\n",
    "    toallasreutilizables=lambda x:x['toallasreutilizables'].astype('int'),\n",
    "    calzonesmenstruales=lambda x:x['calzonesmenstruales'].astype('int'),\n",
    "    kit_insumos_gestiónmenstrual=lambda x:x['kit_insumos_gestiónmenstrual'].astype('int'),\n",
    "        expo_personal=lambda x:x['expo_personal'].astype('int'),\n",
    "    voluntarias=lambda x:x['voluntarias'].astype('int'),\n",
    "    \n",
    "    expo_duracion=lambda x:x['expo_duracion'].astype('float'),\n",
    ")"
   ],
   "metadata": {
    "collapsed": false,
    "ExecuteTime": {
     "end_time": "2024-04-09T20:42:33.957347600Z",
     "start_time": "2024-04-09T20:42:33.947777400Z"
    }
   },
   "id": "8f90b134f6273918"
  },
  {
   "cell_type": "code",
   "execution_count": 231,
   "outputs": [
    {
     "data": {
      "text/plain": "#                                      float64\naño                                      int32\nfecha                           datetime64[ns]\ntipo_actividad                          object\nformato                                 object\nactividad                               object\ncantidad                                 int32\npais                                    object\nciudad                                  object\nalcance                                 object\nlocalidad                               object\nlugar                                   object\ntipodearea                              object\ntipodeestablecimiento                   object\npersonasalcanzadas_cant                  int32\nedad                                    object\npoblacion                               object\nvulnerabilidad                          object\ndotacióninsumos                         object\ntoallasdesechables                      object\ncopasmenstruales                         int32\ntoallasreutilizables                     int32\ncalzonesmenstruales                      int32\nkit_insumos_gestiónmenstrual             int32\nexpo_duracion                          float64\ntematicataller                          object\nexpo_personal                            int32\nvoluntarias                              int32\nexpo_tiempo_elabtaller                 float64\norg_apoyo                               object\ntoallasdesechablesa                      int32\ndtype: object"
     },
     "execution_count": 231,
     "metadata": {},
     "output_type": "execute_result"
    }
   ],
   "source": [
    "df_yawar_c.dtypes"
   ],
   "metadata": {
    "collapsed": false,
    "ExecuteTime": {
     "end_time": "2024-04-09T20:42:41.330059700Z",
     "start_time": "2024-04-09T20:42:41.324542900Z"
    }
   },
   "id": "594cfaf51b720fe4"
  },
  {
   "cell_type": "markdown",
   "source": [
    "### Addressing invalid data"
   ],
   "metadata": {
    "collapsed": false
   },
   "id": "a2d6aa4a3ae3cd23"
  },
  {
   "cell_type": "markdown",
   "source": [
    "#### Deleting spaces among values"
   ],
   "metadata": {
    "collapsed": false
   },
   "id": "721cb5fdd48fe38"
  },
  {
   "cell_type": "code",
   "execution_count": 119,
   "outputs": [
    {
     "data": {
      "text/plain": "       #   año      fecha tipo_actividad     formato               actividad  \\\n24  25.0  2022 2022-04-14         taller     virtual       Voluntarias Yawar   \n46  47.0  2023 2023-06-20         taller  presencial                    COLE   \n6    7.0  2022 2022-09-08         taller  presencial  PROYECTO SOCIAL JASAYÉ   \n42  43.0  2023 2023-04-20         taller  presencial                ETTA ACS   \n15  16.0  2022 2022-06-28         taller  presencial      RECLUSAS JUVENILES   \n10  11.0  2022 2022-04-14         taller     virtual    ESCUELITA VIRTUAL 2    \n41  42.0  2023 2023-05-26         taller  presencial                    CIES   \n28  29.0  2022 2022-06-22         taller     virtual       Voluntarias Yawar   \n12  13.0  2022 2022-05-24         taller     virtual     ESCUELITA VIRTUAL 4   \n7    8.0  2022 2022-09-12         taller  presencial  PROYECTO SOCIAL JASAYÉ   \n\n    cantidad     pais      ciudad   alcance  ... toallasreutilizables  \\\n24         1  Bolivia      La Paz  Nacional  ...                    0   \n46         1  Bolivia        Beni  Nacional  ...                    0   \n6          1  Bolivia        Beni  Nacional  ...                    0   \n42         1  Bolivia  Santa Cruz  Nacional  ...                    0   \n15         1  Bolivia  Santa Cruz  Nacional  ...                    0   \n10         1  Bolivia     El Alto  Nacional  ...                    0   \n41         1  Bolivia  Santa Cruz  Nacional  ...                    0   \n28         1  Bolivia     El Alto  Nacional  ...                    0   \n12         1  Bolivia     El Alto  Nacional  ...                    0   \n7          1  Bolivia        Beni  Nacional  ...                    0   \n\n   calzonesmenstruales kit_insumos_gestiónmenstrual expo_duracion  \\\n24                   0                            0         210.0   \n46                   0                            0         210.0   \n6                    0                            0         210.0   \n42                   0                           27         210.0   \n15                   0                            0         210.0   \n10                   0                            0         210.0   \n41                   0                            0         210.0   \n28                   0                            0         210.0   \n12                   0                            0         210.0   \n7                    0                            0         210.0   \n\n                                 tematicataller expo_personal voluntarias  \\\n24           Pubertad, adolescencia y menarquía             1           4   \n46                vivencia menstrual-ovulatoria             1           0   \n6                 vivencia menstrual-ovulatoria             1           0   \n42                vivencia menstrual-ovulatoria             1           0   \n15    preparación talleres presenciales El Alto             1           1   \n10  ciclo en sus 4 fases: sexualidad y hormonas             1           0   \n41                vivencia menstrual-ovulatoria             1           1   \n28                Gestión y pedagogía menstrual             1           4   \n12   vivencia menstrual y la pobreza menstrual.             1           0   \n7                 vivencia menstrual-ovulatoria             1           0   \n\n   expo_tiempo_elabtaller               org_apoyo toallasdesechablesa  \n24                  480.0          Aptapi Jopueti                   0  \n46                  330.0  Proyecto Social Jasaye                   0  \n6                   330.0  Proyecto Social Jasayé                   0  \n42                  330.0          Aptapi Jopueti                   0  \n15                  330.0                 Ninguno                   0  \n10                  480.0                 Ninguno                   0  \n41                  330.0                 Ninguno                   0  \n28                  480.0          Aptapi Jopueti                   0  \n12                  480.0                 Ninguno                   0  \n7                   330.0  Proyecto Social Jasayé                   0  \n\n[10 rows x 31 columns]",
      "text/html": "<div>\n<style scoped>\n    .dataframe tbody tr th:only-of-type {\n        vertical-align: middle;\n    }\n\n    .dataframe tbody tr th {\n        vertical-align: top;\n    }\n\n    .dataframe thead th {\n        text-align: right;\n    }\n</style>\n<table border=\"1\" class=\"dataframe\">\n  <thead>\n    <tr style=\"text-align: right;\">\n      <th></th>\n      <th>#</th>\n      <th>año</th>\n      <th>fecha</th>\n      <th>tipo_actividad</th>\n      <th>formato</th>\n      <th>actividad</th>\n      <th>cantidad</th>\n      <th>pais</th>\n      <th>ciudad</th>\n      <th>alcance</th>\n      <th>...</th>\n      <th>toallasreutilizables</th>\n      <th>calzonesmenstruales</th>\n      <th>kit_insumos_gestiónmenstrual</th>\n      <th>expo_duracion</th>\n      <th>tematicataller</th>\n      <th>expo_personal</th>\n      <th>voluntarias</th>\n      <th>expo_tiempo_elabtaller</th>\n      <th>org_apoyo</th>\n      <th>toallasdesechablesa</th>\n    </tr>\n  </thead>\n  <tbody>\n    <tr>\n      <th>24</th>\n      <td>25.0</td>\n      <td>2022</td>\n      <td>2022-04-14</td>\n      <td>taller</td>\n      <td>virtual</td>\n      <td>Voluntarias Yawar</td>\n      <td>1</td>\n      <td>Bolivia</td>\n      <td>La Paz</td>\n      <td>Nacional</td>\n      <td>...</td>\n      <td>0</td>\n      <td>0</td>\n      <td>0</td>\n      <td>210.0</td>\n      <td>Pubertad, adolescencia y menarquía</td>\n      <td>1</td>\n      <td>4</td>\n      <td>480.0</td>\n      <td>Aptapi Jopueti</td>\n      <td>0</td>\n    </tr>\n    <tr>\n      <th>46</th>\n      <td>47.0</td>\n      <td>2023</td>\n      <td>2023-06-20</td>\n      <td>taller</td>\n      <td>presencial</td>\n      <td>COLE</td>\n      <td>1</td>\n      <td>Bolivia</td>\n      <td>Beni</td>\n      <td>Nacional</td>\n      <td>...</td>\n      <td>0</td>\n      <td>0</td>\n      <td>0</td>\n      <td>210.0</td>\n      <td>vivencia menstrual-ovulatoria</td>\n      <td>1</td>\n      <td>0</td>\n      <td>330.0</td>\n      <td>Proyecto Social Jasaye</td>\n      <td>0</td>\n    </tr>\n    <tr>\n      <th>6</th>\n      <td>7.0</td>\n      <td>2022</td>\n      <td>2022-09-08</td>\n      <td>taller</td>\n      <td>presencial</td>\n      <td>PROYECTO SOCIAL JASAYÉ</td>\n      <td>1</td>\n      <td>Bolivia</td>\n      <td>Beni</td>\n      <td>Nacional</td>\n      <td>...</td>\n      <td>0</td>\n      <td>0</td>\n      <td>0</td>\n      <td>210.0</td>\n      <td>vivencia menstrual-ovulatoria</td>\n      <td>1</td>\n      <td>0</td>\n      <td>330.0</td>\n      <td>Proyecto Social Jasayé</td>\n      <td>0</td>\n    </tr>\n    <tr>\n      <th>42</th>\n      <td>43.0</td>\n      <td>2023</td>\n      <td>2023-04-20</td>\n      <td>taller</td>\n      <td>presencial</td>\n      <td>ETTA ACS</td>\n      <td>1</td>\n      <td>Bolivia</td>\n      <td>Santa Cruz</td>\n      <td>Nacional</td>\n      <td>...</td>\n      <td>0</td>\n      <td>0</td>\n      <td>27</td>\n      <td>210.0</td>\n      <td>vivencia menstrual-ovulatoria</td>\n      <td>1</td>\n      <td>0</td>\n      <td>330.0</td>\n      <td>Aptapi Jopueti</td>\n      <td>0</td>\n    </tr>\n    <tr>\n      <th>15</th>\n      <td>16.0</td>\n      <td>2022</td>\n      <td>2022-06-28</td>\n      <td>taller</td>\n      <td>presencial</td>\n      <td>RECLUSAS JUVENILES</td>\n      <td>1</td>\n      <td>Bolivia</td>\n      <td>Santa Cruz</td>\n      <td>Nacional</td>\n      <td>...</td>\n      <td>0</td>\n      <td>0</td>\n      <td>0</td>\n      <td>210.0</td>\n      <td>preparación talleres presenciales El Alto</td>\n      <td>1</td>\n      <td>1</td>\n      <td>330.0</td>\n      <td>Ninguno</td>\n      <td>0</td>\n    </tr>\n    <tr>\n      <th>10</th>\n      <td>11.0</td>\n      <td>2022</td>\n      <td>2022-04-14</td>\n      <td>taller</td>\n      <td>virtual</td>\n      <td>ESCUELITA VIRTUAL 2</td>\n      <td>1</td>\n      <td>Bolivia</td>\n      <td>El Alto</td>\n      <td>Nacional</td>\n      <td>...</td>\n      <td>0</td>\n      <td>0</td>\n      <td>0</td>\n      <td>210.0</td>\n      <td>ciclo en sus 4 fases: sexualidad y hormonas</td>\n      <td>1</td>\n      <td>0</td>\n      <td>480.0</td>\n      <td>Ninguno</td>\n      <td>0</td>\n    </tr>\n    <tr>\n      <th>41</th>\n      <td>42.0</td>\n      <td>2023</td>\n      <td>2023-05-26</td>\n      <td>taller</td>\n      <td>presencial</td>\n      <td>CIES</td>\n      <td>1</td>\n      <td>Bolivia</td>\n      <td>Santa Cruz</td>\n      <td>Nacional</td>\n      <td>...</td>\n      <td>0</td>\n      <td>0</td>\n      <td>0</td>\n      <td>210.0</td>\n      <td>vivencia menstrual-ovulatoria</td>\n      <td>1</td>\n      <td>1</td>\n      <td>330.0</td>\n      <td>Ninguno</td>\n      <td>0</td>\n    </tr>\n    <tr>\n      <th>28</th>\n      <td>29.0</td>\n      <td>2022</td>\n      <td>2022-06-22</td>\n      <td>taller</td>\n      <td>virtual</td>\n      <td>Voluntarias Yawar</td>\n      <td>1</td>\n      <td>Bolivia</td>\n      <td>El Alto</td>\n      <td>Nacional</td>\n      <td>...</td>\n      <td>0</td>\n      <td>0</td>\n      <td>0</td>\n      <td>210.0</td>\n      <td>Gestión y pedagogía menstrual</td>\n      <td>1</td>\n      <td>4</td>\n      <td>480.0</td>\n      <td>Aptapi Jopueti</td>\n      <td>0</td>\n    </tr>\n    <tr>\n      <th>12</th>\n      <td>13.0</td>\n      <td>2022</td>\n      <td>2022-05-24</td>\n      <td>taller</td>\n      <td>virtual</td>\n      <td>ESCUELITA VIRTUAL 4</td>\n      <td>1</td>\n      <td>Bolivia</td>\n      <td>El Alto</td>\n      <td>Nacional</td>\n      <td>...</td>\n      <td>0</td>\n      <td>0</td>\n      <td>0</td>\n      <td>210.0</td>\n      <td>vivencia menstrual y la pobreza menstrual.</td>\n      <td>1</td>\n      <td>0</td>\n      <td>480.0</td>\n      <td>Ninguno</td>\n      <td>0</td>\n    </tr>\n    <tr>\n      <th>7</th>\n      <td>8.0</td>\n      <td>2022</td>\n      <td>2022-09-12</td>\n      <td>taller</td>\n      <td>presencial</td>\n      <td>PROYECTO SOCIAL JASAYÉ</td>\n      <td>1</td>\n      <td>Bolivia</td>\n      <td>Beni</td>\n      <td>Nacional</td>\n      <td>...</td>\n      <td>0</td>\n      <td>0</td>\n      <td>0</td>\n      <td>210.0</td>\n      <td>vivencia menstrual-ovulatoria</td>\n      <td>1</td>\n      <td>0</td>\n      <td>330.0</td>\n      <td>Proyecto Social Jasayé</td>\n      <td>0</td>\n    </tr>\n  </tbody>\n</table>\n<p>10 rows × 31 columns</p>\n</div>"
     },
     "execution_count": 119,
     "metadata": {},
     "output_type": "execute_result"
    }
   ],
   "source": [
    "df_yawar_c.sample(10)"
   ],
   "metadata": {
    "collapsed": false,
    "ExecuteTime": {
     "end_time": "2024-04-09T18:42:06.453314800Z",
     "start_time": "2024-04-09T18:42:06.408572Z"
    }
   },
   "id": "9cb90e6d698a2293"
  },
  {
   "cell_type": "code",
   "execution_count": 232,
   "outputs": [
    {
     "data": {
      "text/plain": "array(['taller', 'difusion', 'artistica y cultural', 'conversatorio',\n       'campaña', 'difusion redes sociales', 'medios de comunicacion'],\n      dtype=object)"
     },
     "execution_count": 232,
     "metadata": {},
     "output_type": "execute_result"
    }
   ],
   "source": [
    "df_yawar_c['tipo_actividad'].unique()"
   ],
   "metadata": {
    "collapsed": false,
    "ExecuteTime": {
     "end_time": "2024-04-09T20:43:27.121101500Z",
     "start_time": "2024-04-09T20:43:27.107035100Z"
    }
   },
   "id": "2417847bb742e089"
  },
  {
   "cell_type": "code",
   "execution_count": 235,
   "outputs": [
    {
     "data": {
      "text/plain": "formato\npresencial     42\nvirtual        37\nvirtual         2\nescrito         2\npresencial      1\nName: count, dtype: int64"
     },
     "execution_count": 235,
     "metadata": {},
     "output_type": "execute_result"
    }
   ],
   "source": [
    "df_yawar_c['formato'].value_counts()"
   ],
   "metadata": {
    "collapsed": false,
    "ExecuteTime": {
     "end_time": "2024-04-09T20:45:44.501908400Z",
     "start_time": "2024-04-09T20:45:44.489739800Z"
    }
   },
   "id": "cfea80cb6c960d58"
  },
  {
   "cell_type": "code",
   "execution_count": 246,
   "outputs": [
    {
     "data": {
      "text/plain": "             #  año  fecha  tipo_actividad  actividad  cantidad  pais  ciudad  \\\nformato                                                                         \nescrito      2    2      2               2          2         2     2       2   \npresencial  43   43     43              43         43        43    43      43   \nvirtual     38   39     39              39         39        39    39      39   \n\n            alcance  localidad  ...  toallasreutilizables  \\\nformato                         ...                         \nescrito           2          2  ...                     2   \npresencial       43         43  ...                    43   \nvirtual          39         39  ...                    39   \n\n            calzonesmenstruales  kit_insumos_gestiónmenstrual  expo_duracion  \\\nformato                                                                        \nescrito                       2                             2              2   \npresencial                   43                            43             43   \nvirtual                      39                            39             39   \n\n            tematicataller  expo_personal  voluntarias  \\\nformato                                                  \nescrito                  2              2            2   \npresencial              43             43           43   \nvirtual                 39             39           39   \n\n            expo_tiempo_elabtaller  org_apoyo  toallasdesechablesa  \nformato                                                             \nescrito                          2          2                    2  \npresencial                      43         43                   43  \nvirtual                         39         39                   39  \n\n[3 rows x 30 columns]",
      "text/html": "<div>\n<style scoped>\n    .dataframe tbody tr th:only-of-type {\n        vertical-align: middle;\n    }\n\n    .dataframe tbody tr th {\n        vertical-align: top;\n    }\n\n    .dataframe thead th {\n        text-align: right;\n    }\n</style>\n<table border=\"1\" class=\"dataframe\">\n  <thead>\n    <tr style=\"text-align: right;\">\n      <th></th>\n      <th>#</th>\n      <th>año</th>\n      <th>fecha</th>\n      <th>tipo_actividad</th>\n      <th>actividad</th>\n      <th>cantidad</th>\n      <th>pais</th>\n      <th>ciudad</th>\n      <th>alcance</th>\n      <th>localidad</th>\n      <th>...</th>\n      <th>toallasreutilizables</th>\n      <th>calzonesmenstruales</th>\n      <th>kit_insumos_gestiónmenstrual</th>\n      <th>expo_duracion</th>\n      <th>tematicataller</th>\n      <th>expo_personal</th>\n      <th>voluntarias</th>\n      <th>expo_tiempo_elabtaller</th>\n      <th>org_apoyo</th>\n      <th>toallasdesechablesa</th>\n    </tr>\n    <tr>\n      <th>formato</th>\n      <th></th>\n      <th></th>\n      <th></th>\n      <th></th>\n      <th></th>\n      <th></th>\n      <th></th>\n      <th></th>\n      <th></th>\n      <th></th>\n      <th></th>\n      <th></th>\n      <th></th>\n      <th></th>\n      <th></th>\n      <th></th>\n      <th></th>\n      <th></th>\n      <th></th>\n      <th></th>\n      <th></th>\n    </tr>\n  </thead>\n  <tbody>\n    <tr>\n      <th>escrito</th>\n      <td>2</td>\n      <td>2</td>\n      <td>2</td>\n      <td>2</td>\n      <td>2</td>\n      <td>2</td>\n      <td>2</td>\n      <td>2</td>\n      <td>2</td>\n      <td>2</td>\n      <td>...</td>\n      <td>2</td>\n      <td>2</td>\n      <td>2</td>\n      <td>2</td>\n      <td>2</td>\n      <td>2</td>\n      <td>2</td>\n      <td>2</td>\n      <td>2</td>\n      <td>2</td>\n    </tr>\n    <tr>\n      <th>presencial</th>\n      <td>43</td>\n      <td>43</td>\n      <td>43</td>\n      <td>43</td>\n      <td>43</td>\n      <td>43</td>\n      <td>43</td>\n      <td>43</td>\n      <td>43</td>\n      <td>43</td>\n      <td>...</td>\n      <td>43</td>\n      <td>43</td>\n      <td>43</td>\n      <td>43</td>\n      <td>43</td>\n      <td>43</td>\n      <td>43</td>\n      <td>43</td>\n      <td>43</td>\n      <td>43</td>\n    </tr>\n    <tr>\n      <th>virtual</th>\n      <td>38</td>\n      <td>39</td>\n      <td>39</td>\n      <td>39</td>\n      <td>39</td>\n      <td>39</td>\n      <td>39</td>\n      <td>39</td>\n      <td>39</td>\n      <td>39</td>\n      <td>...</td>\n      <td>39</td>\n      <td>39</td>\n      <td>39</td>\n      <td>39</td>\n      <td>39</td>\n      <td>39</td>\n      <td>39</td>\n      <td>39</td>\n      <td>39</td>\n      <td>39</td>\n    </tr>\n  </tbody>\n</table>\n<p>3 rows × 30 columns</p>\n</div>"
     },
     "execution_count": 246,
     "metadata": {},
     "output_type": "execute_result"
    }
   ],
   "source": [
    "df_yawar_c.groupby('formato').count()"
   ],
   "metadata": {
    "collapsed": false,
    "ExecuteTime": {
     "end_time": "2024-04-09T20:54:17.760980300Z",
     "start_time": "2024-04-09T20:54:17.740812Z"
    }
   },
   "id": "5ba708f091b2d1ba"
  },
  {
   "cell_type": "code",
   "execution_count": 245,
   "outputs": [
    {
     "data": {
      "text/plain": "Empty DataFrame\nColumns: [#, año, fecha, tipo_actividad, formato, actividad, cantidad, pais, ciudad, alcance, localidad, lugar, tipodearea, tipodeestablecimiento, personasalcanzadas_cant, edad, poblacion, vulnerabilidad, dotacióninsumos, toallasdesechables, copasmenstruales, toallasreutilizables, calzonesmenstruales, kit_insumos_gestiónmenstrual, expo_duracion, tematicataller, expo_personal, voluntarias, expo_tiempo_elabtaller, org_apoyo, toallasdesechablesa]\nIndex: []\n\n[0 rows x 31 columns]",
      "text/html": "<div>\n<style scoped>\n    .dataframe tbody tr th:only-of-type {\n        vertical-align: middle;\n    }\n\n    .dataframe tbody tr th {\n        vertical-align: top;\n    }\n\n    .dataframe thead th {\n        text-align: right;\n    }\n</style>\n<table border=\"1\" class=\"dataframe\">\n  <thead>\n    <tr style=\"text-align: right;\">\n      <th></th>\n      <th>#</th>\n      <th>año</th>\n      <th>fecha</th>\n      <th>tipo_actividad</th>\n      <th>formato</th>\n      <th>actividad</th>\n      <th>cantidad</th>\n      <th>pais</th>\n      <th>ciudad</th>\n      <th>alcance</th>\n      <th>...</th>\n      <th>toallasreutilizables</th>\n      <th>calzonesmenstruales</th>\n      <th>kit_insumos_gestiónmenstrual</th>\n      <th>expo_duracion</th>\n      <th>tematicataller</th>\n      <th>expo_personal</th>\n      <th>voluntarias</th>\n      <th>expo_tiempo_elabtaller</th>\n      <th>org_apoyo</th>\n      <th>toallasdesechablesa</th>\n    </tr>\n  </thead>\n  <tbody>\n  </tbody>\n</table>\n<p>0 rows × 31 columns</p>\n</div>"
     },
     "execution_count": 245,
     "metadata": {},
     "output_type": "execute_result"
    }
   ],
   "source": [
    "df_yawar_c[df_yawar_c['formato']=='presencial ']"
   ],
   "metadata": {
    "collapsed": false,
    "ExecuteTime": {
     "end_time": "2024-04-09T20:54:13.646869500Z",
     "start_time": "2024-04-09T20:54:13.606042300Z"
    }
   },
   "id": "904d9792d2e9b74b"
  },
  {
   "cell_type": "code",
   "execution_count": 247,
   "outputs": [],
   "source": [
    "df_yawar_c['formato']=df_yawar_c['formato'].apply(lambda x:x.strip())"
   ],
   "metadata": {
    "collapsed": false,
    "ExecuteTime": {
     "end_time": "2024-04-09T21:04:09.387683500Z",
     "start_time": "2024-04-09T21:04:09.368580800Z"
    }
   },
   "id": "b947b25622ac0a57"
  },
  {
   "cell_type": "markdown",
   "source": [
    "Checking all the datafram whether there are values with space ahead or at the end, and delete those. "
   ],
   "metadata": {
    "collapsed": false
   },
   "id": "47ccbb9c5d281150"
  },
  {
   "cell_type": "code",
   "execution_count": 250,
   "outputs": [],
   "source": [
    "df_yawar_c=df_yawar_c.map(lambda x:x.strip() if isinstance(x, str) else x)"
   ],
   "metadata": {
    "collapsed": false,
    "ExecuteTime": {
     "end_time": "2024-04-09T21:06:29.875860800Z",
     "start_time": "2024-04-09T21:06:29.837297800Z"
    }
   },
   "id": "bf4afc163c4430e"
  },
  {
   "cell_type": "code",
   "execution_count": 251,
   "outputs": [
    {
     "data": {
      "text/plain": "     #   año      fecha tipo_actividad     formato                  actividad  \\\n0  1.0  2022 2022-03-10         taller  presencial  1er encuentro voluntarias   \n1  2.0  2022 2022-04-09         taller  presencial  Taller: qué es ser joven?   \n2  3.0  2022 2022-07-07         taller  presencial                ALTO ALDEAS   \n3  4.0  2022 2022-07-08         taller  presencial                ALTO ALDEAS   \n4  5.0  2022 2022-07-09         taller  presencial                ALTO MAPAKI   \n\n   cantidad     pais   ciudad   alcance  ... toallasreutilizables  \\\n0         1  Bolivia  El Alto  Nacional  ...                    0   \n1         1  Bolivia   La Paz    La Paz  ...                    0   \n2         1  Bolivia  El Alto  Nacional  ...                    0   \n3         1  Bolivia  El Alto  Nacional  ...                    0   \n4         1  Bolivia  El Alto  Nacional  ...                    0   \n\n  calzonesmenstruales kit_insumos_gestiónmenstrual expo_duracion  \\\n0                   0                            0         210.0   \n1                   0                            0         210.0   \n2                   0                           20         210.0   \n3                   1                           17         210.0   \n4                   0                            0         210.0   \n\n                              tematicataller expo_personal voluntarias  \\\n0  historia de nuestra sexualidad y anatomia             1           0   \n1                          Qué es ser joven?             2           0   \n2              vivencia menstrual-ovulatoria             1           5   \n3              vivencia menstrual-ovulatoria             1           5   \n4              vivencia menstrual-ovulatoria             1           3   \n\n  expo_tiempo_elabtaller       org_apoyo  toallasdesechablesa  \n0                  480.0              No                    0  \n1                  400.0              No                    5  \n2                  480.0  Aptapi Jopueti                    0  \n3                  480.0  Aptapi Jopueti                  100  \n4                  480.0  Aptapi Jopueti                   30  \n\n[5 rows x 31 columns]",
      "text/html": "<div>\n<style scoped>\n    .dataframe tbody tr th:only-of-type {\n        vertical-align: middle;\n    }\n\n    .dataframe tbody tr th {\n        vertical-align: top;\n    }\n\n    .dataframe thead th {\n        text-align: right;\n    }\n</style>\n<table border=\"1\" class=\"dataframe\">\n  <thead>\n    <tr style=\"text-align: right;\">\n      <th></th>\n      <th>#</th>\n      <th>año</th>\n      <th>fecha</th>\n      <th>tipo_actividad</th>\n      <th>formato</th>\n      <th>actividad</th>\n      <th>cantidad</th>\n      <th>pais</th>\n      <th>ciudad</th>\n      <th>alcance</th>\n      <th>...</th>\n      <th>toallasreutilizables</th>\n      <th>calzonesmenstruales</th>\n      <th>kit_insumos_gestiónmenstrual</th>\n      <th>expo_duracion</th>\n      <th>tematicataller</th>\n      <th>expo_personal</th>\n      <th>voluntarias</th>\n      <th>expo_tiempo_elabtaller</th>\n      <th>org_apoyo</th>\n      <th>toallasdesechablesa</th>\n    </tr>\n  </thead>\n  <tbody>\n    <tr>\n      <th>0</th>\n      <td>1.0</td>\n      <td>2022</td>\n      <td>2022-03-10</td>\n      <td>taller</td>\n      <td>presencial</td>\n      <td>1er encuentro voluntarias</td>\n      <td>1</td>\n      <td>Bolivia</td>\n      <td>El Alto</td>\n      <td>Nacional</td>\n      <td>...</td>\n      <td>0</td>\n      <td>0</td>\n      <td>0</td>\n      <td>210.0</td>\n      <td>historia de nuestra sexualidad y anatomia</td>\n      <td>1</td>\n      <td>0</td>\n      <td>480.0</td>\n      <td>No</td>\n      <td>0</td>\n    </tr>\n    <tr>\n      <th>1</th>\n      <td>2.0</td>\n      <td>2022</td>\n      <td>2022-04-09</td>\n      <td>taller</td>\n      <td>presencial</td>\n      <td>Taller: qué es ser joven?</td>\n      <td>1</td>\n      <td>Bolivia</td>\n      <td>La Paz</td>\n      <td>La Paz</td>\n      <td>...</td>\n      <td>0</td>\n      <td>0</td>\n      <td>0</td>\n      <td>210.0</td>\n      <td>Qué es ser joven?</td>\n      <td>2</td>\n      <td>0</td>\n      <td>400.0</td>\n      <td>No</td>\n      <td>5</td>\n    </tr>\n    <tr>\n      <th>2</th>\n      <td>3.0</td>\n      <td>2022</td>\n      <td>2022-07-07</td>\n      <td>taller</td>\n      <td>presencial</td>\n      <td>ALTO ALDEAS</td>\n      <td>1</td>\n      <td>Bolivia</td>\n      <td>El Alto</td>\n      <td>Nacional</td>\n      <td>...</td>\n      <td>0</td>\n      <td>0</td>\n      <td>20</td>\n      <td>210.0</td>\n      <td>vivencia menstrual-ovulatoria</td>\n      <td>1</td>\n      <td>5</td>\n      <td>480.0</td>\n      <td>Aptapi Jopueti</td>\n      <td>0</td>\n    </tr>\n    <tr>\n      <th>3</th>\n      <td>4.0</td>\n      <td>2022</td>\n      <td>2022-07-08</td>\n      <td>taller</td>\n      <td>presencial</td>\n      <td>ALTO ALDEAS</td>\n      <td>1</td>\n      <td>Bolivia</td>\n      <td>El Alto</td>\n      <td>Nacional</td>\n      <td>...</td>\n      <td>0</td>\n      <td>1</td>\n      <td>17</td>\n      <td>210.0</td>\n      <td>vivencia menstrual-ovulatoria</td>\n      <td>1</td>\n      <td>5</td>\n      <td>480.0</td>\n      <td>Aptapi Jopueti</td>\n      <td>100</td>\n    </tr>\n    <tr>\n      <th>4</th>\n      <td>5.0</td>\n      <td>2022</td>\n      <td>2022-07-09</td>\n      <td>taller</td>\n      <td>presencial</td>\n      <td>ALTO MAPAKI</td>\n      <td>1</td>\n      <td>Bolivia</td>\n      <td>El Alto</td>\n      <td>Nacional</td>\n      <td>...</td>\n      <td>0</td>\n      <td>0</td>\n      <td>0</td>\n      <td>210.0</td>\n      <td>vivencia menstrual-ovulatoria</td>\n      <td>1</td>\n      <td>3</td>\n      <td>480.0</td>\n      <td>Aptapi Jopueti</td>\n      <td>30</td>\n    </tr>\n  </tbody>\n</table>\n<p>5 rows × 31 columns</p>\n</div>"
     },
     "execution_count": 251,
     "metadata": {},
     "output_type": "execute_result"
    }
   ],
   "source": [
    "df_yawar_c.head()"
   ],
   "metadata": {
    "collapsed": false,
    "ExecuteTime": {
     "end_time": "2024-04-09T21:06:47.243695Z",
     "start_time": "2024-04-09T21:06:47.192791100Z"
    }
   },
   "id": "7252d4979189933c"
  },
  {
   "cell_type": "code",
   "execution_count": 258,
   "outputs": [
    {
     "data": {
      "text/plain": "array(['taller', 'difusion', 'artistica y cultural', 'conversatorio',\n       'campaña', 'difusion redes sociales', 'medios de comunicacion'],\n      dtype=object)"
     },
     "execution_count": 258,
     "metadata": {},
     "output_type": "execute_result"
    }
   ],
   "source": [
    "df_yawar_c['tipo_actividad'].unique()"
   ],
   "metadata": {
    "collapsed": false,
    "ExecuteTime": {
     "end_time": "2024-04-09T21:12:33.719136Z",
     "start_time": "2024-04-09T21:12:33.651697900Z"
    }
   },
   "id": "19ac2cdd94a2f4c4"
  },
  {
   "cell_type": "markdown",
   "source": [
    "Understanding if there is any difference or simmilitude with 'difusion','difusion redes sociales','medios de comunicacion'. The conclusion is that each category is independent of each other."
   ],
   "metadata": {
    "collapsed": false
   },
   "id": "6198bca088516f66"
  },
  {
   "cell_type": "code",
   "execution_count": 260,
   "outputs": [
    {
     "data": {
      "text/plain": "       #   año      fecha           tipo_actividad     formato  \\\n49  50.0  2023 2023-08-08                 difusion  presencial   \n50  51.0  2023 2023-09-28                 difusion  presencial   \n67  67.0  2021 2021-12-01  difusion redes sociales     virtual   \n68  68.0  2021 2021-11-11  difusion redes sociales     virtual   \n69  69.0  2022 2022-10-06  difusion redes sociales     virtual   \n70  70.0  2022 2022-11-30  difusion redes sociales     virtual   \n71  71.0  2022 2022-05-28  difusion redes sociales     virtual   \n72  72.0  2022 2022-05-28  difusion redes sociales     virtual   \n73  73.0  2022 2022-05-28  difusion redes sociales     virtual   \n74  74.0  2022 2022-03-25   medios de comunicacion     virtual   \n75  75.0  2021 2021-11-16   medios de comunicacion     virtual   \n76  76.0  2022 2022-04-28   medios de comunicacion     virtual   \n77  77.0  2022 2022-08-06   medios de comunicacion     escrito   \n78  78.0  2022 2022-06-16   medios de comunicacion     escrito   \n79  79.0  2023 2023-03-22   medios de comunicacion  presencial   \n80  80.0  2023 2023-09-16   medios de comunicacion  presencial   \n81  81.0  2022 2022-04-13   medios de comunicacion     virtual   \n82  82.0  2022 2022-07-19   medios de comunicacion     virtual   \n83  83.0  2022 2022-05-27   medios de comunicacion     virtual   \n\n                                          actividad  cantidad     pais  \\\n49               Feria Internacional del Libro 2023         1  Bolivia   \n50  Feria Bulliciosa de la Campaña 28 de Septiembre         1  Bolivia   \n67                                            artes        46  Bolivia   \n68                                     Videopitch 1         1  Bolivia   \n69                                     Videopitch 2         1  Bolivia   \n70                         Video de mural menstrual         1  Bolivia   \n71                      Video performance artística         1  Bolivia   \n72                                            reels        36  Bolivia   \n73                               posts en instagram       116  Bolivia   \n74                               Verdad con tinta 2         1  Bolivia   \n75                               Verdad con tinta 1         1  Bolivia   \n76                                         Muy Waso         1  Bolivia   \n77                                   Correo del Sur         1  Bolivia   \n78                                     Revista Ekos         1  Bolivia   \n79                                      Agencia EFE         1  Bolivia   \n80                                   Nacer Mujer TV         1  Bolivia   \n81                                      Adich Radio         1  Bolivia   \n82                                      Adich Radio         1  Bolivia   \n83                                  radio Encuentro         1  Bolivia   \n\n        ciudad        alcance  ... toallasreutilizables calzonesmenstruales  \\\n49      La Paz       Nacional  ...                    0                   0   \n50  Santa Cruz       Nacional  ...                    0                   0   \n67         N/A       Nacional  ...                    0                   0   \n68     El Alto  Internacional  ...                    0                   0   \n69       Sucre       Nacional  ...                    0                   0   \n70       Sucre       Nacional  ...                    0                   0   \n71       Sucre       Nacional  ...                    0                   0   \n72         N/A  Internacional  ...                    0                   0   \n73         N/A  Internacional  ...                    0                   0   \n74         N/A       Nacional  ...                    0                   0   \n75         N/A       Nacional  ...                    0                   0   \n76         N/A       Nacional  ...                    0                   0   \n77         N/A       Nacional  ...                    0                   0   \n78         N/A       Nacional  ...                    0                   0   \n79         N/A  Internacional  ...                    0                   0   \n80      La Paz       Nacional  ...                    0                   0   \n81       Sucre       Nacional  ...                    0                   0   \n82       Sucre       Nacional  ...                    0                   0   \n83       Sucre       Nacional  ...                    0                   0   \n\n   kit_insumos_gestiónmenstrual expo_duracion  tematicataller expo_personal  \\\n49                            0           0.0             N/A             1   \n50                            0           0.0             N/A             1   \n67                            0           0.0       no aplica             1   \n68                            0           0.0             N/A             1   \n69                            0           0.0             N/A             1   \n70                            0           0.0             N/A             1   \n71                            0          10.0             N/A             4   \n72                            0           0.0             N/A             1   \n73                            0           0.0             N/A             1   \n74                            0           0.0             N/A             1   \n75                            0           0.0             N/A             1   \n76                            0           0.0             N/A             1   \n77                            0           0.0             N/A             1   \n78                            0           0.0             N/A             1   \n79                            0           0.0             N/A             1   \n80                            0           0.0             N/A             1   \n81                            0           0.0             N/A             1   \n82                            0           0.0             N/A             1   \n83                            0           0.0             N/A             1   \n\n   voluntarias expo_tiempo_elabtaller            org_apoyo  \\\n49           2                    0.0              Ninguno   \n50           1                    0.0              Ninguno   \n67           0                    0.0              Ninguno   \n68           0                    0.0              Ninguno   \n69           0                    0.0              Ninguno   \n70           0                  360.0  Micros para Avanzar   \n71           2                  300.0        Fondo Apthapi   \n72           0                    0.0              Ninguno   \n73           0                    0.0              Ninguno   \n74           0                    0.0              Ninguno   \n75           0                    0.0              Ninguno   \n76           0                    0.0              Ninguno   \n77           0                    0.0              Ninguno   \n78           0                    0.0              Ninguno   \n79           0                    0.0              Ninguno   \n80           0                    0.0              Ninguno   \n81           0                    0.0              Ninguno   \n82           0                    0.0              Ninguno   \n83           0                    0.0              Ninguno   \n\n    toallasdesechablesa  \n49                    0  \n50                    0  \n67                    0  \n68                    0  \n69                    0  \n70                    0  \n71                    0  \n72                    0  \n73                    0  \n74                    0  \n75                    0  \n76                    0  \n77                    0  \n78                    0  \n79                    0  \n80                    0  \n81                    0  \n82                    0  \n83                    0  \n\n[19 rows x 31 columns]",
      "text/html": "<div>\n<style scoped>\n    .dataframe tbody tr th:only-of-type {\n        vertical-align: middle;\n    }\n\n    .dataframe tbody tr th {\n        vertical-align: top;\n    }\n\n    .dataframe thead th {\n        text-align: right;\n    }\n</style>\n<table border=\"1\" class=\"dataframe\">\n  <thead>\n    <tr style=\"text-align: right;\">\n      <th></th>\n      <th>#</th>\n      <th>año</th>\n      <th>fecha</th>\n      <th>tipo_actividad</th>\n      <th>formato</th>\n      <th>actividad</th>\n      <th>cantidad</th>\n      <th>pais</th>\n      <th>ciudad</th>\n      <th>alcance</th>\n      <th>...</th>\n      <th>toallasreutilizables</th>\n      <th>calzonesmenstruales</th>\n      <th>kit_insumos_gestiónmenstrual</th>\n      <th>expo_duracion</th>\n      <th>tematicataller</th>\n      <th>expo_personal</th>\n      <th>voluntarias</th>\n      <th>expo_tiempo_elabtaller</th>\n      <th>org_apoyo</th>\n      <th>toallasdesechablesa</th>\n    </tr>\n  </thead>\n  <tbody>\n    <tr>\n      <th>49</th>\n      <td>50.0</td>\n      <td>2023</td>\n      <td>2023-08-08</td>\n      <td>difusion</td>\n      <td>presencial</td>\n      <td>Feria Internacional del Libro 2023</td>\n      <td>1</td>\n      <td>Bolivia</td>\n      <td>La Paz</td>\n      <td>Nacional</td>\n      <td>...</td>\n      <td>0</td>\n      <td>0</td>\n      <td>0</td>\n      <td>0.0</td>\n      <td>N/A</td>\n      <td>1</td>\n      <td>2</td>\n      <td>0.0</td>\n      <td>Ninguno</td>\n      <td>0</td>\n    </tr>\n    <tr>\n      <th>50</th>\n      <td>51.0</td>\n      <td>2023</td>\n      <td>2023-09-28</td>\n      <td>difusion</td>\n      <td>presencial</td>\n      <td>Feria Bulliciosa de la Campaña 28 de Septiembre</td>\n      <td>1</td>\n      <td>Bolivia</td>\n      <td>Santa Cruz</td>\n      <td>Nacional</td>\n      <td>...</td>\n      <td>0</td>\n      <td>0</td>\n      <td>0</td>\n      <td>0.0</td>\n      <td>N/A</td>\n      <td>1</td>\n      <td>1</td>\n      <td>0.0</td>\n      <td>Ninguno</td>\n      <td>0</td>\n    </tr>\n    <tr>\n      <th>67</th>\n      <td>67.0</td>\n      <td>2021</td>\n      <td>2021-12-01</td>\n      <td>difusion redes sociales</td>\n      <td>virtual</td>\n      <td>artes</td>\n      <td>46</td>\n      <td>Bolivia</td>\n      <td>N/A</td>\n      <td>Nacional</td>\n      <td>...</td>\n      <td>0</td>\n      <td>0</td>\n      <td>0</td>\n      <td>0.0</td>\n      <td>no aplica</td>\n      <td>1</td>\n      <td>0</td>\n      <td>0.0</td>\n      <td>Ninguno</td>\n      <td>0</td>\n    </tr>\n    <tr>\n      <th>68</th>\n      <td>68.0</td>\n      <td>2021</td>\n      <td>2021-11-11</td>\n      <td>difusion redes sociales</td>\n      <td>virtual</td>\n      <td>Videopitch 1</td>\n      <td>1</td>\n      <td>Bolivia</td>\n      <td>El Alto</td>\n      <td>Internacional</td>\n      <td>...</td>\n      <td>0</td>\n      <td>0</td>\n      <td>0</td>\n      <td>0.0</td>\n      <td>N/A</td>\n      <td>1</td>\n      <td>0</td>\n      <td>0.0</td>\n      <td>Ninguno</td>\n      <td>0</td>\n    </tr>\n    <tr>\n      <th>69</th>\n      <td>69.0</td>\n      <td>2022</td>\n      <td>2022-10-06</td>\n      <td>difusion redes sociales</td>\n      <td>virtual</td>\n      <td>Videopitch 2</td>\n      <td>1</td>\n      <td>Bolivia</td>\n      <td>Sucre</td>\n      <td>Nacional</td>\n      <td>...</td>\n      <td>0</td>\n      <td>0</td>\n      <td>0</td>\n      <td>0.0</td>\n      <td>N/A</td>\n      <td>1</td>\n      <td>0</td>\n      <td>0.0</td>\n      <td>Ninguno</td>\n      <td>0</td>\n    </tr>\n    <tr>\n      <th>70</th>\n      <td>70.0</td>\n      <td>2022</td>\n      <td>2022-11-30</td>\n      <td>difusion redes sociales</td>\n      <td>virtual</td>\n      <td>Video de mural menstrual</td>\n      <td>1</td>\n      <td>Bolivia</td>\n      <td>Sucre</td>\n      <td>Nacional</td>\n      <td>...</td>\n      <td>0</td>\n      <td>0</td>\n      <td>0</td>\n      <td>0.0</td>\n      <td>N/A</td>\n      <td>1</td>\n      <td>0</td>\n      <td>360.0</td>\n      <td>Micros para Avanzar</td>\n      <td>0</td>\n    </tr>\n    <tr>\n      <th>71</th>\n      <td>71.0</td>\n      <td>2022</td>\n      <td>2022-05-28</td>\n      <td>difusion redes sociales</td>\n      <td>virtual</td>\n      <td>Video performance artística</td>\n      <td>1</td>\n      <td>Bolivia</td>\n      <td>Sucre</td>\n      <td>Nacional</td>\n      <td>...</td>\n      <td>0</td>\n      <td>0</td>\n      <td>0</td>\n      <td>10.0</td>\n      <td>N/A</td>\n      <td>4</td>\n      <td>2</td>\n      <td>300.0</td>\n      <td>Fondo Apthapi</td>\n      <td>0</td>\n    </tr>\n    <tr>\n      <th>72</th>\n      <td>72.0</td>\n      <td>2022</td>\n      <td>2022-05-28</td>\n      <td>difusion redes sociales</td>\n      <td>virtual</td>\n      <td>reels</td>\n      <td>36</td>\n      <td>Bolivia</td>\n      <td>N/A</td>\n      <td>Internacional</td>\n      <td>...</td>\n      <td>0</td>\n      <td>0</td>\n      <td>0</td>\n      <td>0.0</td>\n      <td>N/A</td>\n      <td>1</td>\n      <td>0</td>\n      <td>0.0</td>\n      <td>Ninguno</td>\n      <td>0</td>\n    </tr>\n    <tr>\n      <th>73</th>\n      <td>73.0</td>\n      <td>2022</td>\n      <td>2022-05-28</td>\n      <td>difusion redes sociales</td>\n      <td>virtual</td>\n      <td>posts en instagram</td>\n      <td>116</td>\n      <td>Bolivia</td>\n      <td>N/A</td>\n      <td>Internacional</td>\n      <td>...</td>\n      <td>0</td>\n      <td>0</td>\n      <td>0</td>\n      <td>0.0</td>\n      <td>N/A</td>\n      <td>1</td>\n      <td>0</td>\n      <td>0.0</td>\n      <td>Ninguno</td>\n      <td>0</td>\n    </tr>\n    <tr>\n      <th>74</th>\n      <td>74.0</td>\n      <td>2022</td>\n      <td>2022-03-25</td>\n      <td>medios de comunicacion</td>\n      <td>virtual</td>\n      <td>Verdad con tinta 2</td>\n      <td>1</td>\n      <td>Bolivia</td>\n      <td>N/A</td>\n      <td>Nacional</td>\n      <td>...</td>\n      <td>0</td>\n      <td>0</td>\n      <td>0</td>\n      <td>0.0</td>\n      <td>N/A</td>\n      <td>1</td>\n      <td>0</td>\n      <td>0.0</td>\n      <td>Ninguno</td>\n      <td>0</td>\n    </tr>\n    <tr>\n      <th>75</th>\n      <td>75.0</td>\n      <td>2021</td>\n      <td>2021-11-16</td>\n      <td>medios de comunicacion</td>\n      <td>virtual</td>\n      <td>Verdad con tinta 1</td>\n      <td>1</td>\n      <td>Bolivia</td>\n      <td>N/A</td>\n      <td>Nacional</td>\n      <td>...</td>\n      <td>0</td>\n      <td>0</td>\n      <td>0</td>\n      <td>0.0</td>\n      <td>N/A</td>\n      <td>1</td>\n      <td>0</td>\n      <td>0.0</td>\n      <td>Ninguno</td>\n      <td>0</td>\n    </tr>\n    <tr>\n      <th>76</th>\n      <td>76.0</td>\n      <td>2022</td>\n      <td>2022-04-28</td>\n      <td>medios de comunicacion</td>\n      <td>virtual</td>\n      <td>Muy Waso</td>\n      <td>1</td>\n      <td>Bolivia</td>\n      <td>N/A</td>\n      <td>Nacional</td>\n      <td>...</td>\n      <td>0</td>\n      <td>0</td>\n      <td>0</td>\n      <td>0.0</td>\n      <td>N/A</td>\n      <td>1</td>\n      <td>0</td>\n      <td>0.0</td>\n      <td>Ninguno</td>\n      <td>0</td>\n    </tr>\n    <tr>\n      <th>77</th>\n      <td>77.0</td>\n      <td>2022</td>\n      <td>2022-08-06</td>\n      <td>medios de comunicacion</td>\n      <td>escrito</td>\n      <td>Correo del Sur</td>\n      <td>1</td>\n      <td>Bolivia</td>\n      <td>N/A</td>\n      <td>Nacional</td>\n      <td>...</td>\n      <td>0</td>\n      <td>0</td>\n      <td>0</td>\n      <td>0.0</td>\n      <td>N/A</td>\n      <td>1</td>\n      <td>0</td>\n      <td>0.0</td>\n      <td>Ninguno</td>\n      <td>0</td>\n    </tr>\n    <tr>\n      <th>78</th>\n      <td>78.0</td>\n      <td>2022</td>\n      <td>2022-06-16</td>\n      <td>medios de comunicacion</td>\n      <td>escrito</td>\n      <td>Revista Ekos</td>\n      <td>1</td>\n      <td>Bolivia</td>\n      <td>N/A</td>\n      <td>Nacional</td>\n      <td>...</td>\n      <td>0</td>\n      <td>0</td>\n      <td>0</td>\n      <td>0.0</td>\n      <td>N/A</td>\n      <td>1</td>\n      <td>0</td>\n      <td>0.0</td>\n      <td>Ninguno</td>\n      <td>0</td>\n    </tr>\n    <tr>\n      <th>79</th>\n      <td>79.0</td>\n      <td>2023</td>\n      <td>2023-03-22</td>\n      <td>medios de comunicacion</td>\n      <td>presencial</td>\n      <td>Agencia EFE</td>\n      <td>1</td>\n      <td>Bolivia</td>\n      <td>N/A</td>\n      <td>Internacional</td>\n      <td>...</td>\n      <td>0</td>\n      <td>0</td>\n      <td>0</td>\n      <td>0.0</td>\n      <td>N/A</td>\n      <td>1</td>\n      <td>0</td>\n      <td>0.0</td>\n      <td>Ninguno</td>\n      <td>0</td>\n    </tr>\n    <tr>\n      <th>80</th>\n      <td>80.0</td>\n      <td>2023</td>\n      <td>2023-09-16</td>\n      <td>medios de comunicacion</td>\n      <td>presencial</td>\n      <td>Nacer Mujer TV</td>\n      <td>1</td>\n      <td>Bolivia</td>\n      <td>La Paz</td>\n      <td>Nacional</td>\n      <td>...</td>\n      <td>0</td>\n      <td>0</td>\n      <td>0</td>\n      <td>0.0</td>\n      <td>N/A</td>\n      <td>1</td>\n      <td>0</td>\n      <td>0.0</td>\n      <td>Ninguno</td>\n      <td>0</td>\n    </tr>\n    <tr>\n      <th>81</th>\n      <td>81.0</td>\n      <td>2022</td>\n      <td>2022-04-13</td>\n      <td>medios de comunicacion</td>\n      <td>virtual</td>\n      <td>Adich Radio</td>\n      <td>1</td>\n      <td>Bolivia</td>\n      <td>Sucre</td>\n      <td>Nacional</td>\n      <td>...</td>\n      <td>0</td>\n      <td>0</td>\n      <td>0</td>\n      <td>0.0</td>\n      <td>N/A</td>\n      <td>1</td>\n      <td>0</td>\n      <td>0.0</td>\n      <td>Ninguno</td>\n      <td>0</td>\n    </tr>\n    <tr>\n      <th>82</th>\n      <td>82.0</td>\n      <td>2022</td>\n      <td>2022-07-19</td>\n      <td>medios de comunicacion</td>\n      <td>virtual</td>\n      <td>Adich Radio</td>\n      <td>1</td>\n      <td>Bolivia</td>\n      <td>Sucre</td>\n      <td>Nacional</td>\n      <td>...</td>\n      <td>0</td>\n      <td>0</td>\n      <td>0</td>\n      <td>0.0</td>\n      <td>N/A</td>\n      <td>1</td>\n      <td>0</td>\n      <td>0.0</td>\n      <td>Ninguno</td>\n      <td>0</td>\n    </tr>\n    <tr>\n      <th>83</th>\n      <td>83.0</td>\n      <td>2022</td>\n      <td>2022-05-27</td>\n      <td>medios de comunicacion</td>\n      <td>virtual</td>\n      <td>radio Encuentro</td>\n      <td>1</td>\n      <td>Bolivia</td>\n      <td>Sucre</td>\n      <td>Nacional</td>\n      <td>...</td>\n      <td>0</td>\n      <td>0</td>\n      <td>0</td>\n      <td>0.0</td>\n      <td>N/A</td>\n      <td>1</td>\n      <td>0</td>\n      <td>0.0</td>\n      <td>Ninguno</td>\n      <td>0</td>\n    </tr>\n  </tbody>\n</table>\n<p>19 rows × 31 columns</p>\n</div>"
     },
     "execution_count": 260,
     "metadata": {},
     "output_type": "execute_result"
    }
   ],
   "source": [
    "df_yawar_c[df_yawar_c['tipo_actividad'].isin(['difusion','difusion redes sociales','medios de comunicacion'])]"
   ],
   "metadata": {
    "collapsed": false,
    "ExecuteTime": {
     "end_time": "2024-04-09T21:13:46.576506800Z",
     "start_time": "2024-04-09T21:13:46.558169900Z"
    }
   },
   "id": "7ea2b1093afe391a"
  },
  {
   "cell_type": "code",
   "execution_count": 261,
   "outputs": [
    {
     "data": {
      "text/plain": "formato\npresencial    43\nvirtual       39\nescrito        2\nName: count, dtype: int64"
     },
     "execution_count": 261,
     "metadata": {},
     "output_type": "execute_result"
    }
   ],
   "source": [
    "df_yawar_c['formato'].value_counts()"
   ],
   "metadata": {
    "collapsed": false,
    "ExecuteTime": {
     "end_time": "2024-04-09T21:16:25.637590300Z",
     "start_time": "2024-04-09T21:16:25.595777400Z"
    }
   },
   "id": "75f015c9d670e628"
  },
  {
   "cell_type": "code",
   "execution_count": 264,
   "outputs": [
    {
     "data": {
      "text/plain": "array(['1er encuentro voluntarias', 'Taller: qué es ser joven?',\n       'ALTO ALDEAS', 'ALTO MAPAKI', 'PROYECTO SOCIAL JASAYÉ',\n       'ESCUELITA VIRTUAL', 'ESCUELITA VIRTUAL 2', 'ESCUELITA VIRTUAL 3',\n       'ESCUELITA VIRTUAL 4', 'ESCUELITA VIRTUAL 5',\n       'ESCUELITA VIRTUAL 6', 'RECLUSAS JUVENILES', 'MAPAKI SUCRE',\n       'CERPI SUCRE', 'ETTA Projects', 'Voluntarias Yawar', 'DRAGONAS',\n       'MUJERES DIVERSAS LP', 'Rapsistencia', 'Mujeres Montaña',\n       'ETTA -Costura Toallas', 'CIES', 'ETTA ACS', 'UE', 'MAMAS',\n       'COSTURA TOALLAS', 'COLE', 'PALMASOLA',\n       'Feria Internacional del Libro 2023',\n       'Feria Bulliciosa de la Campaña 28 de Septiembre',\n       'Primer Videopitch para campaña de recaudación de fondos',\n       'Un evento de Zumba y conversatorio para recaudar fondos',\n       'Yawar Twerk, taller de twerk para recaudar fondos',\n       'Concierto Hip Hoppas y furiosas para recaudación de fondos',\n       'Elaboración de un mural menstrual, de 30 metros en el CERPI',\n       'Cartilla educativa con ilustraciones',\n       'Un hip hop menstrual con su videoclip en el mural',\n       'Performance artística de danza y poesía, Sucre',\n       'Conversatorio UAGRAM en conmemoración del día Internacional de la Salud Menstrual',\n       'Conversatorio: \\nLA DESIGUALDAD MENSTRUAL Y EL TRANSITO HACIA UNA VIVENCIA MENSTRUAL DIGNA, experiencias menstruales en India, Guatemala y Bolivia',\n       'Conversatorio UNIFRANZ: Viviendo la Menstruación con dignidad',\n       'Participación en la Noche de Museos',\n       'Campaña de descuentos por Mayo Menstrual',\n       'Alianza calzones menstruales con Aura',\n       'Campaña navideña de descuentos en alianza con Sarita Eco y Yanawara NYC',\n       'artes', 'Videopitch 1', 'Videopitch 2',\n       'Video de mural menstrual', 'Video performance artística', 'reels',\n       'posts en instagram', 'Verdad con tinta 2', 'Verdad con tinta 1',\n       'Muy Waso', 'Correo del Sur', 'Revista Ekos', 'Agencia EFE',\n       'Nacer Mujer TV', 'Adich Radio', 'radio Encuentro'], dtype=object)"
     },
     "execution_count": 264,
     "metadata": {},
     "output_type": "execute_result"
    }
   ],
   "source": [
    "df_yawar_c['actividad'].unique()"
   ],
   "metadata": {
    "collapsed": false,
    "ExecuteTime": {
     "end_time": "2024-04-09T21:18:47.646982900Z",
     "start_time": "2024-04-09T21:18:47.607591400Z"
    }
   },
   "id": "93de08e3c24ced1d"
  }
 ],
 "metadata": {
  "kernelspec": {
   "display_name": "Python 3",
   "language": "python",
   "name": "python3"
  },
  "language_info": {
   "codemirror_mode": {
    "name": "ipython",
    "version": 2
   },
   "file_extension": ".py",
   "mimetype": "text/x-python",
   "name": "python",
   "nbconvert_exporter": "python",
   "pygments_lexer": "ipython2",
   "version": "2.7.6"
  }
 },
 "nbformat": 4,
 "nbformat_minor": 5
}

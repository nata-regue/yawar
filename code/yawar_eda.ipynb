{
 "cells": [
  {
   "cell_type": "code",
   "execution_count": 6,
   "id": "initial_id",
   "metadata": {
    "collapsed": true,
    "ExecuteTime": {
     "end_time": "2024-04-08T16:40:51.662853500Z",
     "start_time": "2024-04-08T16:40:51.060789Z"
    }
   },
   "outputs": [],
   "source": [
    "#Import main libraries\n",
    "import pandas as pd\n",
    "import numpy as np\n",
    "import matplotlib.pyplot as plt\n",
    "import datetime as dt"
   ]
  },
  {
   "cell_type": "code",
   "execution_count": 14,
   "outputs": [],
   "source": [
    "excelfilepath=('../data/YAWAR_solodata_20240405.xlsx')"
   ],
   "metadata": {
    "collapsed": false,
    "ExecuteTime": {
     "end_time": "2024-04-08T16:48:33.712970700Z",
     "start_time": "2024-04-08T16:48:33.706906700Z"
    }
   },
   "id": "d9a3529f43e55aba"
  },
  {
   "cell_type": "code",
   "execution_count": 34,
   "outputs": [],
   "source": [
    "df_yawar=pd.read_excel(excelfilepath)"
   ],
   "metadata": {
    "collapsed": false,
    "ExecuteTime": {
     "end_time": "2024-04-08T23:06:19.219608800Z",
     "start_time": "2024-04-08T23:06:18.720887100Z"
    }
   },
   "id": "6e2042368f1aae3b"
  },
  {
   "cell_type": "markdown",
   "source": [
    "## Data Exploration (Initial EDA and data cleaning)\n",
    "\n",
    "- Understanding variables\n",
    "- Clean the dataset (missing data, redundant data, outliers) "
   ],
   "metadata": {
    "collapsed": false
   },
   "id": "46d025d0430a45e9"
  },
  {
   "cell_type": "code",
   "execution_count": 19,
   "outputs": [
    {
     "data": {
      "text/plain": "(84, 35)"
     },
     "execution_count": 19,
     "metadata": {},
     "output_type": "execute_result"
    }
   ],
   "source": [
    "df_yawar.shape"
   ],
   "metadata": {
    "collapsed": false,
    "ExecuteTime": {
     "end_time": "2024-04-08T16:50:34.832440200Z",
     "start_time": "2024-04-08T16:50:34.827189400Z"
    }
   },
   "id": "bd423e548bed737b"
  },
  {
   "cell_type": "code",
   "execution_count": 20,
   "outputs": [
    {
     "data": {
      "text/plain": "Index(['#', 'Año', 'FECHA (dd/mm/aaaa)', 'TIPO ACTIVIDAD (taller, difusion)',\n       'FORMATO (presencial/virtual)', 'ACTIVIDAD', 'CANTIDAD', 'PAIS',\n       'CIUDAD', 'ALCANCE\\n(nal e internal)', 'LOCALIDAD', 'LUGAR',\n       'TIPO DE AREA (RURAL/URBANA/PERIURBANA)',\n       'TIPO DE ESTABLECIMIENTO (GENERICO)', 'OBS',\n       'CANTIDAD DE PERSONAS ALCANZADAS', 'EDAD',\n       'TIPO POBLACION (mujeres, jovenes, niñas)', 'VULNERABILIDAD',\n       'DOTACIÓN INSUMOS', 'toallas desechables', 'copas menstruales',\n       'toallas reutilizables', 'calzones menstruales',\n       'Kits Insumos de Gestión Menstrual', 'DURACION EXPO + PREGUNTAS (MIN)',\n       'TEMATICA TALLER', 'PERSONAS A CARGO (CAPACITADORAS, ETC)',\n       'Nro. VOLUNTARIAS PRESENTES', 'TIEMPO DE PREPARACION Y CIERRE (MIN)',\n       'IMPACTO(ALTO, MEDIO , BAJO)',\n       'ENCUESTA SOBRE CONOCIMIENTO PREVIO DE MENSTRUACION (si/no)',\n       'ENCUESTA POSTERIOR DE APRENDIZAJES',\n       'FINANCIADOR O ORG. ALIADA si hubiera existido',\n       'DETALLES DE LA ACTIVIDAD (links, obs, etc.)'],\n      dtype='object')"
     },
     "execution_count": 20,
     "metadata": {},
     "output_type": "execute_result"
    }
   ],
   "source": [
    "df_yawar.columns"
   ],
   "metadata": {
    "collapsed": false,
    "ExecuteTime": {
     "end_time": "2024-04-08T16:50:43.217582200Z",
     "start_time": "2024-04-08T16:50:43.078501700Z"
    }
   },
   "id": "a764317e003e4229"
  },
  {
   "cell_type": "code",
   "execution_count": 21,
   "outputs": [
    {
     "name": "stdout",
     "output_type": "stream",
     "text": [
      "<class 'pandas.core.frame.DataFrame'>\n",
      "RangeIndex: 84 entries, 0 to 83\n",
      "Data columns (total 35 columns):\n",
      " #   Column                                                      Non-Null Count  Dtype         \n",
      "---  ------                                                      --------------  -----         \n",
      " 0   #                                                           83 non-null     float64       \n",
      " 1   Año                                                         81 non-null     float64       \n",
      " 2   FECHA (dd/mm/aaaa)                                          81 non-null     datetime64[ns]\n",
      " 3   TIPO ACTIVIDAD (taller, difusion)                           84 non-null     object        \n",
      " 4   FORMATO (presencial/virtual)                                82 non-null     object        \n",
      " 5   ACTIVIDAD                                                   84 non-null     object        \n",
      " 6   CANTIDAD                                                    82 non-null     float64       \n",
      " 7   PAIS                                                        82 non-null     object        \n",
      " 8   CIUDAD                                                      68 non-null     object        \n",
      " 9   ALCANCE\n",
      "(nal e internal)                                    84 non-null     object        \n",
      " 10  LOCALIDAD                                                   58 non-null     object        \n",
      " 11  LUGAR                                                       59 non-null     object        \n",
      " 12  TIPO DE AREA (RURAL/URBANA/PERIURBANA)                      62 non-null     object        \n",
      " 13  TIPO DE ESTABLECIMIENTO (GENERICO)                          60 non-null     object        \n",
      " 14  OBS                                                         16 non-null     object        \n",
      " 15  CANTIDAD DE PERSONAS ALCANZADAS                             49 non-null     float64       \n",
      " 16  EDAD                                                        49 non-null     object        \n",
      " 17  TIPO POBLACION (mujeres, jovenes, niñas)                    49 non-null     object        \n",
      " 18  VULNERABILIDAD                                              49 non-null     object        \n",
      " 19  DOTACIÓN INSUMOS                                            49 non-null     object        \n",
      " 20  toallas desechables                                         49 non-null     object        \n",
      " 21  copas menstruales                                           49 non-null     object        \n",
      " 22  toallas reutilizables                                       49 non-null     object        \n",
      " 23  calzones menstruales                                        49 non-null     object        \n",
      " 24  Kits Insumos de Gestión Menstrual                           49 non-null     object        \n",
      " 25  DURACION EXPO + PREGUNTAS (MIN)                             50 non-null     object        \n",
      " 26  TEMATICA TALLER                                             50 non-null     object        \n",
      " 27  PERSONAS A CARGO (CAPACITADORAS, ETC)                       44 non-null     float64       \n",
      " 28  Nro. VOLUNTARIAS PRESENTES                                  52 non-null     float64       \n",
      " 29  TIEMPO DE PREPARACION Y CIERRE (MIN)                        51 non-null     float64       \n",
      " 30  IMPACTO(ALTO, MEDIO , BAJO)                                 0 non-null      float64       \n",
      " 31  ENCUESTA SOBRE CONOCIMIENTO PREVIO DE MENSTRUACION (si/no)  49 non-null     object        \n",
      " 32  ENCUESTA POSTERIOR DE APRENDIZAJES                          49 non-null     object        \n",
      " 33  FINANCIADOR O ORG. ALIADA si hubiera existido               43 non-null     object        \n",
      " 34  DETALLES DE LA ACTIVIDAD (links, obs, etc.)                 14 non-null     object        \n",
      "dtypes: datetime64[ns](1), float64(8), object(26)\n",
      "memory usage: 23.1+ KB\n"
     ]
    }
   ],
   "source": [
    "df_yawar.info()"
   ],
   "metadata": {
    "collapsed": false,
    "ExecuteTime": {
     "end_time": "2024-04-08T16:51:14.700021600Z",
     "start_time": "2024-04-08T16:51:14.689870600Z"
    }
   },
   "id": "c9707ab9c1fe4b07"
  },
  {
   "cell_type": "code",
   "execution_count": 24,
   "outputs": [
    {
     "data": {
      "text/plain": "#                                                                    float64\nAño                                                                  float64\nFECHA (dd/mm/aaaa)                                            datetime64[ns]\nTIPO ACTIVIDAD (taller, difusion)                                     object\nFORMATO (presencial/virtual)                                          object\nACTIVIDAD                                                             object\nCANTIDAD                                                             float64\nPAIS                                                                  object\nCIUDAD                                                                object\nALCANCE\\n(nal e internal)                                             object\nLOCALIDAD                                                             object\nLUGAR                                                                 object\nTIPO DE AREA (RURAL/URBANA/PERIURBANA)                                object\nTIPO DE ESTABLECIMIENTO (GENERICO)                                    object\nOBS                                                                   object\nCANTIDAD DE PERSONAS ALCANZADAS                                      float64\nEDAD                                                                  object\nTIPO POBLACION (mujeres, jovenes, niñas)                              object\nVULNERABILIDAD                                                        object\nDOTACIÓN INSUMOS                                                      object\ntoallas desechables                                                   object\ncopas menstruales                                                     object\ntoallas reutilizables                                                 object\ncalzones menstruales                                                  object\nKits Insumos de Gestión Menstrual                                     object\nDURACION EXPO + PREGUNTAS (MIN)                                       object\nTEMATICA TALLER                                                       object\nPERSONAS A CARGO (CAPACITADORAS, ETC)                                float64\nNro. VOLUNTARIAS PRESENTES                                           float64\nTIEMPO DE PREPARACION Y CIERRE (MIN)                                 float64\nIMPACTO(ALTO, MEDIO , BAJO)                                          float64\nENCUESTA SOBRE CONOCIMIENTO PREVIO DE MENSTRUACION (si/no)            object\nENCUESTA POSTERIOR DE APRENDIZAJES                                    object\nFINANCIADOR O ORG. ALIADA si hubiera existido                         object\nDETALLES DE LA ACTIVIDAD (links, obs, etc.)                           object\ndtype: object"
     },
     "execution_count": 24,
     "metadata": {},
     "output_type": "execute_result"
    }
   ],
   "source": [
    "df_yawar.dtypes"
   ],
   "metadata": {
    "collapsed": false,
    "ExecuteTime": {
     "end_time": "2024-04-08T16:59:41.133623300Z",
     "start_time": "2024-04-08T16:59:41.116865400Z"
    }
   },
   "id": "1e0b38d5dde364d6"
  },
  {
   "cell_type": "code",
   "execution_count": 33,
   "outputs": [
    {
     "ename": "AttributeError",
     "evalue": "'Index' object has no attribute 'describe'",
     "output_type": "error",
     "traceback": [
      "\u001B[1;31m---------------------------------------------------------------------------\u001B[0m",
      "\u001B[1;31mAttributeError\u001B[0m                            Traceback (most recent call last)",
      "Cell \u001B[1;32mIn[33], line 1\u001B[0m\n\u001B[1;32m----> 1\u001B[0m \u001B[43mdf_yawar\u001B[49m\u001B[38;5;241;43m.\u001B[39;49m\u001B[43mdescribe\u001B[49m()\n",
      "\u001B[1;31mAttributeError\u001B[0m: 'Index' object has no attribute 'describe'"
     ]
    }
   ],
   "source": [
    "df_yawar.describe()"
   ],
   "metadata": {
    "collapsed": false,
    "ExecuteTime": {
     "end_time": "2024-04-08T23:06:14.025507200Z",
     "start_time": "2024-04-08T23:06:14.016404Z"
    }
   },
   "id": "105104dbdae83cd9"
  },
  {
   "cell_type": "code",
   "execution_count": 25,
   "outputs": [
    {
     "data": {
      "text/plain": "      #     Año FECHA (dd/mm/aaaa) TIPO ACTIVIDAD (taller, difusion)  \\\n0   1.0  2022.0         2022-03-10                            taller   \n1   2.0  2022.0         2022-04-09                            taller   \n2   3.0  2022.0         2022-07-07                            taller   \n3   4.0  2022.0         2022-07-08                            taller   \n4   5.0  2022.0         2022-07-09                            taller   \n5   6.0  2022.0         2023-09-06                            taller   \n6   7.0  2022.0         2022-09-08                            taller   \n7   8.0  2022.0         2022-09-12                            taller   \n8   9.0  2022.0         2022-09-15                            taller   \n9  10.0  2022.0         2022-06-24                            taller   \n\n  FORMATO (presencial/virtual)                  ACTIVIDAD  CANTIDAD     PAIS  \\\n0                   presencial  1er encuentro voluntarias       1.0  Bolivia   \n1                   presencial  Taller: qué es ser joven?       1.0  Bolivia   \n2                   presencial               ALTO ALDEAS        1.0  Bolivia   \n3                   presencial               ALTO ALDEAS        1.0  Bolivia   \n4                   presencial                ALTO MAPAKI       1.0  Bolivia   \n5                   presencial     PROYECTO SOCIAL JASAYÉ       1.0  Bolivia   \n6                   presencial     PROYECTO SOCIAL JASAYÉ       1.0  Bolivia   \n7                   presencial     PROYECTO SOCIAL JASAYÉ       1.0  Bolivia   \n8                   presencial     PROYECTO SOCIAL JASAYÉ       1.0  Bolivia   \n9                      virtual          ESCUELITA VIRTUAL       1.0  Bolivia   \n\n    CIUDAD ALCANCE\\n(nal e internal)  ... DURACION EXPO + PREGUNTAS (MIN)  \\\n0  El Alto                  Nacional  ...                             210   \n1   La Paz                    La Paz  ...                             210   \n2  El Alto                  Nacional  ...                             210   \n3  El Alto                  Nacional  ...                             210   \n4  El Alto                  Nacional  ...                             210   \n5     Beni                  Nacional  ...                             210   \n6     Beni                  Nacional  ...                             210   \n7     Beni                  Nacional  ...                             210   \n8     Beni                  Nacional  ...                             210   \n9  El Alto                  Nacional  ...                             210   \n\n                             TEMATICA TALLER  \\\n0  historia de nuestra sexualidad y anatomia   \n1                          Qué es ser joven?   \n2              vivencia menstrual-ovulatoria   \n3              vivencia menstrual-ovulatoria   \n4              vivencia menstrual-ovulatoria   \n5              vivencia menstrual-ovulatoria   \n6              vivencia menstrual-ovulatoria   \n7              vivencia menstrual-ovulatoria   \n8              vivencia menstrual-ovulatoria   \n9  historia de nuestra sexualidad y anatomia   \n\n  PERSONAS A CARGO (CAPACITADORAS, ETC) Nro. VOLUNTARIAS PRESENTES  \\\n0                                   1.0                        0.0   \n1                                   2.0                        0.0   \n2                                   1.0                        5.0   \n3                                   1.0                        5.0   \n4                                   1.0                        3.0   \n5                                   1.0                        0.0   \n6                                   1.0                        0.0   \n7                                   1.0                        0.0   \n8                                   1.0                        0.0   \n9                                   1.0                        0.0   \n\n  TIEMPO DE PREPARACION Y CIERRE (MIN)  IMPACTO(ALTO, MEDIO , BAJO)  \\\n0                                480.0                          NaN   \n1                                400.0                          NaN   \n2                                480.0                          NaN   \n3                                480.0                          NaN   \n4                                480.0                          NaN   \n5                                330.0                          NaN   \n6                                330.0                          NaN   \n7                                330.0                          NaN   \n8                                330.0                          NaN   \n9                                330.0                          NaN   \n\n  ENCUESTA SOBRE CONOCIMIENTO PREVIO DE MENSTRUACION (si/no)  \\\n0                                                 No           \n1                                                 No           \n2                                                 No           \n3                                                 No           \n4                                                 No           \n5                                                 No           \n6                                                 No           \n7                                                 No           \n8                                                 No           \n9                                                 No           \n\n  ENCUESTA POSTERIOR DE APRENDIZAJES  \\\n0                                 No   \n1                                 No   \n2                                 No   \n3                                 No   \n4                                 No   \n5                                 No   \n6                                 No   \n7                                 No   \n8                                 No   \n9                                 No   \n\n  FINANCIADOR O ORG. ALIADA si hubiera existido  \\\n0                                            No   \n1                                            No   \n2                                Aptapi Jopueti   \n3                                Aptapi Jopueti   \n4                                Aptapi Jopueti   \n5                        Proyecto Social Jasayé   \n6                        Proyecto Social Jasayé   \n7                        Proyecto Social Jasayé   \n8                        Proyecto Social Jasayé   \n9                                           NaN   \n\n         DETALLES DE LA ACTIVIDAD (links, obs, etc.)  \n0                                                NaN  \n1                                                NaN  \n2  https://www.instagram.com/reel/CfzpDw5JOq8/?ut...  \n3  https://www.instagram.com/reel/CfzpDw5JOq8/?ut...  \n4  https://www.instagram.com/reel/Cf_sL5IjUyb/?ut...  \n5  https://www.instagram.com/reel/CiNhmCgDcRC/?ut...  \n6                                                NaN  \n7                                                NaN  \n8                                                NaN  \n9                                                NaN  \n\n[10 rows x 35 columns]",
      "text/html": "<div>\n<style scoped>\n    .dataframe tbody tr th:only-of-type {\n        vertical-align: middle;\n    }\n\n    .dataframe tbody tr th {\n        vertical-align: top;\n    }\n\n    .dataframe thead th {\n        text-align: right;\n    }\n</style>\n<table border=\"1\" class=\"dataframe\">\n  <thead>\n    <tr style=\"text-align: right;\">\n      <th></th>\n      <th>#</th>\n      <th>Año</th>\n      <th>FECHA (dd/mm/aaaa)</th>\n      <th>TIPO ACTIVIDAD (taller, difusion)</th>\n      <th>FORMATO (presencial/virtual)</th>\n      <th>ACTIVIDAD</th>\n      <th>CANTIDAD</th>\n      <th>PAIS</th>\n      <th>CIUDAD</th>\n      <th>ALCANCE\\n(nal e internal)</th>\n      <th>...</th>\n      <th>DURACION EXPO + PREGUNTAS (MIN)</th>\n      <th>TEMATICA TALLER</th>\n      <th>PERSONAS A CARGO (CAPACITADORAS, ETC)</th>\n      <th>Nro. VOLUNTARIAS PRESENTES</th>\n      <th>TIEMPO DE PREPARACION Y CIERRE (MIN)</th>\n      <th>IMPACTO(ALTO, MEDIO , BAJO)</th>\n      <th>ENCUESTA SOBRE CONOCIMIENTO PREVIO DE MENSTRUACION (si/no)</th>\n      <th>ENCUESTA POSTERIOR DE APRENDIZAJES</th>\n      <th>FINANCIADOR O ORG. ALIADA si hubiera existido</th>\n      <th>DETALLES DE LA ACTIVIDAD (links, obs, etc.)</th>\n    </tr>\n  </thead>\n  <tbody>\n    <tr>\n      <th>0</th>\n      <td>1.0</td>\n      <td>2022.0</td>\n      <td>2022-03-10</td>\n      <td>taller</td>\n      <td>presencial</td>\n      <td>1er encuentro voluntarias</td>\n      <td>1.0</td>\n      <td>Bolivia</td>\n      <td>El Alto</td>\n      <td>Nacional</td>\n      <td>...</td>\n      <td>210</td>\n      <td>historia de nuestra sexualidad y anatomia</td>\n      <td>1.0</td>\n      <td>0.0</td>\n      <td>480.0</td>\n      <td>NaN</td>\n      <td>No</td>\n      <td>No</td>\n      <td>No</td>\n      <td>NaN</td>\n    </tr>\n    <tr>\n      <th>1</th>\n      <td>2.0</td>\n      <td>2022.0</td>\n      <td>2022-04-09</td>\n      <td>taller</td>\n      <td>presencial</td>\n      <td>Taller: qué es ser joven?</td>\n      <td>1.0</td>\n      <td>Bolivia</td>\n      <td>La Paz</td>\n      <td>La Paz</td>\n      <td>...</td>\n      <td>210</td>\n      <td>Qué es ser joven?</td>\n      <td>2.0</td>\n      <td>0.0</td>\n      <td>400.0</td>\n      <td>NaN</td>\n      <td>No</td>\n      <td>No</td>\n      <td>No</td>\n      <td>NaN</td>\n    </tr>\n    <tr>\n      <th>2</th>\n      <td>3.0</td>\n      <td>2022.0</td>\n      <td>2022-07-07</td>\n      <td>taller</td>\n      <td>presencial</td>\n      <td>ALTO ALDEAS</td>\n      <td>1.0</td>\n      <td>Bolivia</td>\n      <td>El Alto</td>\n      <td>Nacional</td>\n      <td>...</td>\n      <td>210</td>\n      <td>vivencia menstrual-ovulatoria</td>\n      <td>1.0</td>\n      <td>5.0</td>\n      <td>480.0</td>\n      <td>NaN</td>\n      <td>No</td>\n      <td>No</td>\n      <td>Aptapi Jopueti</td>\n      <td>https://www.instagram.com/reel/CfzpDw5JOq8/?ut...</td>\n    </tr>\n    <tr>\n      <th>3</th>\n      <td>4.0</td>\n      <td>2022.0</td>\n      <td>2022-07-08</td>\n      <td>taller</td>\n      <td>presencial</td>\n      <td>ALTO ALDEAS</td>\n      <td>1.0</td>\n      <td>Bolivia</td>\n      <td>El Alto</td>\n      <td>Nacional</td>\n      <td>...</td>\n      <td>210</td>\n      <td>vivencia menstrual-ovulatoria</td>\n      <td>1.0</td>\n      <td>5.0</td>\n      <td>480.0</td>\n      <td>NaN</td>\n      <td>No</td>\n      <td>No</td>\n      <td>Aptapi Jopueti</td>\n      <td>https://www.instagram.com/reel/CfzpDw5JOq8/?ut...</td>\n    </tr>\n    <tr>\n      <th>4</th>\n      <td>5.0</td>\n      <td>2022.0</td>\n      <td>2022-07-09</td>\n      <td>taller</td>\n      <td>presencial</td>\n      <td>ALTO MAPAKI</td>\n      <td>1.0</td>\n      <td>Bolivia</td>\n      <td>El Alto</td>\n      <td>Nacional</td>\n      <td>...</td>\n      <td>210</td>\n      <td>vivencia menstrual-ovulatoria</td>\n      <td>1.0</td>\n      <td>3.0</td>\n      <td>480.0</td>\n      <td>NaN</td>\n      <td>No</td>\n      <td>No</td>\n      <td>Aptapi Jopueti</td>\n      <td>https://www.instagram.com/reel/Cf_sL5IjUyb/?ut...</td>\n    </tr>\n    <tr>\n      <th>5</th>\n      <td>6.0</td>\n      <td>2022.0</td>\n      <td>2023-09-06</td>\n      <td>taller</td>\n      <td>presencial</td>\n      <td>PROYECTO SOCIAL JASAYÉ</td>\n      <td>1.0</td>\n      <td>Bolivia</td>\n      <td>Beni</td>\n      <td>Nacional</td>\n      <td>...</td>\n      <td>210</td>\n      <td>vivencia menstrual-ovulatoria</td>\n      <td>1.0</td>\n      <td>0.0</td>\n      <td>330.0</td>\n      <td>NaN</td>\n      <td>No</td>\n      <td>No</td>\n      <td>Proyecto Social Jasayé</td>\n      <td>https://www.instagram.com/reel/CiNhmCgDcRC/?ut...</td>\n    </tr>\n    <tr>\n      <th>6</th>\n      <td>7.0</td>\n      <td>2022.0</td>\n      <td>2022-09-08</td>\n      <td>taller</td>\n      <td>presencial</td>\n      <td>PROYECTO SOCIAL JASAYÉ</td>\n      <td>1.0</td>\n      <td>Bolivia</td>\n      <td>Beni</td>\n      <td>Nacional</td>\n      <td>...</td>\n      <td>210</td>\n      <td>vivencia menstrual-ovulatoria</td>\n      <td>1.0</td>\n      <td>0.0</td>\n      <td>330.0</td>\n      <td>NaN</td>\n      <td>No</td>\n      <td>No</td>\n      <td>Proyecto Social Jasayé</td>\n      <td>NaN</td>\n    </tr>\n    <tr>\n      <th>7</th>\n      <td>8.0</td>\n      <td>2022.0</td>\n      <td>2022-09-12</td>\n      <td>taller</td>\n      <td>presencial</td>\n      <td>PROYECTO SOCIAL JASAYÉ</td>\n      <td>1.0</td>\n      <td>Bolivia</td>\n      <td>Beni</td>\n      <td>Nacional</td>\n      <td>...</td>\n      <td>210</td>\n      <td>vivencia menstrual-ovulatoria</td>\n      <td>1.0</td>\n      <td>0.0</td>\n      <td>330.0</td>\n      <td>NaN</td>\n      <td>No</td>\n      <td>No</td>\n      <td>Proyecto Social Jasayé</td>\n      <td>NaN</td>\n    </tr>\n    <tr>\n      <th>8</th>\n      <td>9.0</td>\n      <td>2022.0</td>\n      <td>2022-09-15</td>\n      <td>taller</td>\n      <td>presencial</td>\n      <td>PROYECTO SOCIAL JASAYÉ</td>\n      <td>1.0</td>\n      <td>Bolivia</td>\n      <td>Beni</td>\n      <td>Nacional</td>\n      <td>...</td>\n      <td>210</td>\n      <td>vivencia menstrual-ovulatoria</td>\n      <td>1.0</td>\n      <td>0.0</td>\n      <td>330.0</td>\n      <td>NaN</td>\n      <td>No</td>\n      <td>No</td>\n      <td>Proyecto Social Jasayé</td>\n      <td>NaN</td>\n    </tr>\n    <tr>\n      <th>9</th>\n      <td>10.0</td>\n      <td>2022.0</td>\n      <td>2022-06-24</td>\n      <td>taller</td>\n      <td>virtual</td>\n      <td>ESCUELITA VIRTUAL</td>\n      <td>1.0</td>\n      <td>Bolivia</td>\n      <td>El Alto</td>\n      <td>Nacional</td>\n      <td>...</td>\n      <td>210</td>\n      <td>historia de nuestra sexualidad y anatomia</td>\n      <td>1.0</td>\n      <td>0.0</td>\n      <td>330.0</td>\n      <td>NaN</td>\n      <td>No</td>\n      <td>No</td>\n      <td>NaN</td>\n      <td>NaN</td>\n    </tr>\n  </tbody>\n</table>\n<p>10 rows × 35 columns</p>\n</div>"
     },
     "execution_count": 25,
     "metadata": {},
     "output_type": "execute_result"
    }
   ],
   "source": [
    "df_yawar.head(10)"
   ],
   "metadata": {
    "collapsed": false,
    "ExecuteTime": {
     "end_time": "2024-04-08T17:00:41.924413200Z",
     "start_time": "2024-04-08T17:00:41.904486400Z"
    }
   },
   "id": "c2ad095faa9829f2"
  },
  {
   "cell_type": "markdown",
   "source": [
    "### Rename Columns"
   ],
   "metadata": {
    "collapsed": false
   },
   "id": "e5fc871fcd343a9d"
  },
  {
   "cell_type": "code",
   "execution_count": 35,
   "outputs": [],
   "source": [
    "#Make a copy of the dataset to work on it and keep the original.\n",
    "df_yawar_c=df_yawar.copy()"
   ],
   "metadata": {
    "collapsed": false,
    "ExecuteTime": {
     "end_time": "2024-04-08T23:07:02.274339400Z",
     "start_time": "2024-04-08T23:07:02.270788400Z"
    }
   },
   "id": "29e5f79e3451636e"
  },
  {
   "cell_type": "code",
   "execution_count": 36,
   "outputs": [
    {
     "data": {
      "text/plain": "       #     Año FECHA (dd/mm/aaaa) TIPO ACTIVIDAD (taller, difusion)  \\\n31  32.0  2022.0         2022-10-05                            taller   \n76  76.0  2022.0         2022-04-28            medios de comunicacion   \n83  83.0  2022.0         2022-05-27            medios de comunicacion   \n\n   FORMATO (presencial/virtual)          ACTIVIDAD  CANTIDAD     PAIS  \\\n31                      virtual  Voluntarias Yawar       1.0  Bolivia   \n76                      virtual           Muy Waso       1.0  Bolivia   \n83                      virtual    radio Encuentro       1.0  Bolivia   \n\n               CIUDAD ALCANCE\\n(nal e internal)  ...  \\\n31  Diversas ciudades                  Nacional  ...   \n76                NaN                  Nacional  ...   \n83              Sucre                  Nacional  ...   \n\n   DURACION EXPO + PREGUNTAS (MIN)      TEMATICA TALLER  \\\n31                             210  Activismo menstrual   \n76                             NaN                  NaN   \n83                             NaN                  NaN   \n\n   PERSONAS A CARGO (CAPACITADORAS, ETC) Nro. VOLUNTARIAS PRESENTES  \\\n31                                   1.0                       10.0   \n76                                   NaN                        NaN   \n83                                   NaN                        NaN   \n\n   TIEMPO DE PREPARACION Y CIERRE (MIN)  IMPACTO(ALTO, MEDIO , BAJO)  \\\n31                                480.0                          NaN   \n76                                  NaN                          NaN   \n83                                  NaN                          NaN   \n\n   ENCUESTA SOBRE CONOCIMIENTO PREVIO DE MENSTRUACION (si/no)  \\\n31                                                 No           \n76                                                NaN           \n83                                                NaN           \n\n   ENCUESTA POSTERIOR DE APRENDIZAJES  \\\n31                                 No   \n76                                NaN   \n83                                NaN   \n\n   FINANCIADOR O ORG. ALIADA si hubiera existido  \\\n31                                Aptapi Jopueti   \n76                                           NaN   \n83                                           NaN   \n\n   DETALLES DE LA ACTIVIDAD (links, obs, etc.)  \n31                                         NaN  \n76                                         NaN  \n83                                         NaN  \n\n[3 rows x 35 columns]",
      "text/html": "<div>\n<style scoped>\n    .dataframe tbody tr th:only-of-type {\n        vertical-align: middle;\n    }\n\n    .dataframe tbody tr th {\n        vertical-align: top;\n    }\n\n    .dataframe thead th {\n        text-align: right;\n    }\n</style>\n<table border=\"1\" class=\"dataframe\">\n  <thead>\n    <tr style=\"text-align: right;\">\n      <th></th>\n      <th>#</th>\n      <th>Año</th>\n      <th>FECHA (dd/mm/aaaa)</th>\n      <th>TIPO ACTIVIDAD (taller, difusion)</th>\n      <th>FORMATO (presencial/virtual)</th>\n      <th>ACTIVIDAD</th>\n      <th>CANTIDAD</th>\n      <th>PAIS</th>\n      <th>CIUDAD</th>\n      <th>ALCANCE\\n(nal e internal)</th>\n      <th>...</th>\n      <th>DURACION EXPO + PREGUNTAS (MIN)</th>\n      <th>TEMATICA TALLER</th>\n      <th>PERSONAS A CARGO (CAPACITADORAS, ETC)</th>\n      <th>Nro. VOLUNTARIAS PRESENTES</th>\n      <th>TIEMPO DE PREPARACION Y CIERRE (MIN)</th>\n      <th>IMPACTO(ALTO, MEDIO , BAJO)</th>\n      <th>ENCUESTA SOBRE CONOCIMIENTO PREVIO DE MENSTRUACION (si/no)</th>\n      <th>ENCUESTA POSTERIOR DE APRENDIZAJES</th>\n      <th>FINANCIADOR O ORG. ALIADA si hubiera existido</th>\n      <th>DETALLES DE LA ACTIVIDAD (links, obs, etc.)</th>\n    </tr>\n  </thead>\n  <tbody>\n    <tr>\n      <th>31</th>\n      <td>32.0</td>\n      <td>2022.0</td>\n      <td>2022-10-05</td>\n      <td>taller</td>\n      <td>virtual</td>\n      <td>Voluntarias Yawar</td>\n      <td>1.0</td>\n      <td>Bolivia</td>\n      <td>Diversas ciudades</td>\n      <td>Nacional</td>\n      <td>...</td>\n      <td>210</td>\n      <td>Activismo menstrual</td>\n      <td>1.0</td>\n      <td>10.0</td>\n      <td>480.0</td>\n      <td>NaN</td>\n      <td>No</td>\n      <td>No</td>\n      <td>Aptapi Jopueti</td>\n      <td>NaN</td>\n    </tr>\n    <tr>\n      <th>76</th>\n      <td>76.0</td>\n      <td>2022.0</td>\n      <td>2022-04-28</td>\n      <td>medios de comunicacion</td>\n      <td>virtual</td>\n      <td>Muy Waso</td>\n      <td>1.0</td>\n      <td>Bolivia</td>\n      <td>NaN</td>\n      <td>Nacional</td>\n      <td>...</td>\n      <td>NaN</td>\n      <td>NaN</td>\n      <td>NaN</td>\n      <td>NaN</td>\n      <td>NaN</td>\n      <td>NaN</td>\n      <td>NaN</td>\n      <td>NaN</td>\n      <td>NaN</td>\n      <td>NaN</td>\n    </tr>\n    <tr>\n      <th>83</th>\n      <td>83.0</td>\n      <td>2022.0</td>\n      <td>2022-05-27</td>\n      <td>medios de comunicacion</td>\n      <td>virtual</td>\n      <td>radio Encuentro</td>\n      <td>1.0</td>\n      <td>Bolivia</td>\n      <td>Sucre</td>\n      <td>Nacional</td>\n      <td>...</td>\n      <td>NaN</td>\n      <td>NaN</td>\n      <td>NaN</td>\n      <td>NaN</td>\n      <td>NaN</td>\n      <td>NaN</td>\n      <td>NaN</td>\n      <td>NaN</td>\n      <td>NaN</td>\n      <td>NaN</td>\n    </tr>\n  </tbody>\n</table>\n<p>3 rows × 35 columns</p>\n</div>"
     },
     "execution_count": 36,
     "metadata": {},
     "output_type": "execute_result"
    }
   ],
   "source": [
    "df_yawar_c.sample(3)"
   ],
   "metadata": {
    "collapsed": false,
    "ExecuteTime": {
     "end_time": "2024-04-08T23:07:14.249994600Z",
     "start_time": "2024-04-08T23:07:14.219086300Z"
    }
   },
   "id": "f57b55a7513b6060"
  },
  {
   "cell_type": "markdown",
   "source": [
    "#### Lowercase column names"
   ],
   "metadata": {
    "collapsed": false
   },
   "id": "a63a9916f37bbbfd"
  },
  {
   "cell_type": "code",
   "execution_count": 37,
   "outputs": [
    {
     "data": {
      "text/plain": "Index(['#', 'Año', 'FECHA (dd/mm/aaaa)', 'TIPO ACTIVIDAD (taller, difusion)',\n       'FORMATO (presencial/virtual)', 'ACTIVIDAD', 'CANTIDAD', 'PAIS',\n       'CIUDAD', 'ALCANCE\\n(nal e internal)', 'LOCALIDAD', 'LUGAR',\n       'TIPO DE AREA (RURAL/URBANA/PERIURBANA)',\n       'TIPO DE ESTABLECIMIENTO (GENERICO)', 'OBS',\n       'CANTIDAD DE PERSONAS ALCANZADAS', 'EDAD',\n       'TIPO POBLACION (mujeres, jovenes, niñas)', 'VULNERABILIDAD',\n       'DOTACIÓN INSUMOS', 'toallas desechables', 'copas menstruales',\n       'toallas reutilizables', 'calzones menstruales',\n       'Kits Insumos de Gestión Menstrual', 'DURACION EXPO + PREGUNTAS (MIN)',\n       'TEMATICA TALLER', 'PERSONAS A CARGO (CAPACITADORAS, ETC)',\n       'Nro. VOLUNTARIAS PRESENTES', 'TIEMPO DE PREPARACION Y CIERRE (MIN)',\n       'IMPACTO(ALTO, MEDIO , BAJO)',\n       'ENCUESTA SOBRE CONOCIMIENTO PREVIO DE MENSTRUACION (si/no)',\n       'ENCUESTA POSTERIOR DE APRENDIZAJES',\n       'FINANCIADOR O ORG. ALIADA si hubiera existido',\n       'DETALLES DE LA ACTIVIDAD (links, obs, etc.)'],\n      dtype='object')"
     },
     "execution_count": 37,
     "metadata": {},
     "output_type": "execute_result"
    }
   ],
   "source": [
    "df_yawar_c.columns"
   ],
   "metadata": {
    "collapsed": false,
    "ExecuteTime": {
     "end_time": "2024-04-08T23:07:22.804618500Z",
     "start_time": "2024-04-08T23:07:22.793485Z"
    }
   },
   "id": "52aa6c5c1e863344"
  },
  {
   "cell_type": "code",
   "execution_count": 38,
   "outputs": [],
   "source": [
    "#lower case all column names\n",
    "df_yawar_c.columns=df_yawar_c.columns.str.lower()"
   ],
   "metadata": {
    "collapsed": false,
    "ExecuteTime": {
     "end_time": "2024-04-08T23:07:50.460356900Z",
     "start_time": "2024-04-08T23:07:50.451634800Z"
    }
   },
   "id": "1b2f497b3d4f18f4"
  },
  {
   "cell_type": "code",
   "execution_count": 39,
   "outputs": [
    {
     "data": {
      "text/plain": "Index(['#', 'año', 'fecha (dd/mm/aaaa)', 'tipo actividad (taller, difusion)',\n       'formato (presencial/virtual)', 'actividad', 'cantidad', 'pais',\n       'ciudad', 'alcance\\n(nal e internal)', 'localidad', 'lugar',\n       'tipo de area (rural/urbana/periurbana)',\n       'tipo de establecimiento (generico)', 'obs',\n       'cantidad de personas alcanzadas', 'edad',\n       'tipo poblacion (mujeres, jovenes, niñas)', 'vulnerabilidad',\n       'dotación insumos', 'toallas desechables', 'copas menstruales',\n       'toallas reutilizables', 'calzones menstruales',\n       'kits insumos de gestión menstrual', 'duracion expo + preguntas (min)',\n       'tematica taller', 'personas a cargo (capacitadoras, etc)',\n       'nro. voluntarias presentes', 'tiempo de preparacion y cierre (min)',\n       'impacto(alto, medio , bajo)',\n       'encuesta sobre conocimiento previo de menstruacion (si/no)',\n       'encuesta posterior de aprendizajes',\n       'financiador o org. aliada si hubiera existido',\n       'detalles de la actividad (links, obs, etc.)'],\n      dtype='object')"
     },
     "execution_count": 39,
     "metadata": {},
     "output_type": "execute_result"
    }
   ],
   "source": [
    "df_yawar_c.columns"
   ],
   "metadata": {
    "collapsed": false,
    "ExecuteTime": {
     "end_time": "2024-04-08T23:07:56.711564800Z",
     "start_time": "2024-04-08T23:07:56.706377400Z"
    }
   },
   "id": "64c0d727681e70b4"
  },
  {
   "cell_type": "markdown",
   "source": [
    "#### Modify column names"
   ],
   "metadata": {
    "collapsed": false
   },
   "id": "10b754aa9633b406"
  },
  {
   "cell_type": "code",
   "execution_count": 47,
   "outputs": [],
   "source": [
    "#Delete spaces among words\n",
    "df_yawar_c.columns=df_yawar_c.columns.str.replace(' ','') "
   ],
   "metadata": {
    "collapsed": false,
    "ExecuteTime": {
     "end_time": "2024-04-08T23:21:47.192956Z",
     "start_time": "2024-04-08T23:21:47.185850800Z"
    }
   },
   "id": "21687bf47d80c91e"
  },
  {
   "cell_type": "code",
   "execution_count": 48,
   "outputs": [
    {
     "data": {
      "text/plain": "Index(['#', 'año', 'fecha(dd/mm/aaaa)', 'tipoactividad(taller,difusion)',\n       'formato(presencial/virtual)', 'actividad', 'cantidad', 'pais',\n       'ciudad', 'alcance\\n(naleinternal)', 'localidad', 'lugar',\n       'tipodearea(rural/urbana/periurbana)',\n       'tipodeestablecimiento(generico)', 'obs',\n       'cantidaddepersonasalcanzadas', 'edad',\n       'tipopoblacion(mujeres,jovenes,niñas)', 'vulnerabilidad',\n       'dotacióninsumos', 'toallasdesechables', 'copasmenstruales',\n       'toallasreutilizables', 'calzonesmenstruales',\n       'kitsinsumosdegestiónmenstrual', 'duracionexpo+preguntas(min)',\n       'tematicataller', 'personasacargo(capacitadoras,etc)',\n       'nro.voluntariaspresentes', 'tiempodepreparacionycierre(min)',\n       'impacto(alto,medio,bajo)',\n       'encuestasobreconocimientopreviodemenstruacion(si/no)',\n       'encuestaposteriordeaprendizajes',\n       'financiadoroorg.aliadasihubieraexistido',\n       'detallesdelaactividad(links,obs,etc.)'],\n      dtype='object')"
     },
     "execution_count": 48,
     "metadata": {},
     "output_type": "execute_result"
    }
   ],
   "source": [
    "df_yawar_c.columns"
   ],
   "metadata": {
    "collapsed": false,
    "ExecuteTime": {
     "end_time": "2024-04-08T23:21:51.975799800Z",
     "start_time": "2024-04-08T23:21:51.969446500Z"
    }
   },
   "id": "e0a43f261ae9dbc7"
  },
  {
   "cell_type": "code",
   "execution_count": 49,
   "outputs": [],
   "source": [
    "df_yawar_c.rename(columns={'fecha(dd/mm/aaaa)':'fecha',\n",
    "                           'tipoactividad(taller,difusion)':'tipo_actividad',\n",
    "                           'formato(presencial/virtual)':'formato',\n",
    "                           'alcance\\n(naleinternal)':'alcance', \n",
    "                           'tipodearea(rural/urbana/periurbana)':'tipodearea',\n",
    "                           'tipodeestablecimiento(generico)':'tipodeestablecimiento', \n",
    "                           'cantidaddepersonasalcanzadas':'personasalcanzadas_cant', \n",
    "                           'tipopoblacion(mujeres,jovenes,niñas)':'poblacion',\n",
    "                           'kitsinsumosdegestiónmenstrual':'kit_insumos_gestiónmenstrual',\n",
    "                           'duracionexpo+preguntas(min)':'expo_duracion',\n",
    "                           'personasacargo(capacitadoras,etc)':'expo_personal',\n",
    "                           'nro.voluntariaspresentes':'voluntarias', \n",
    "                           'tiempodepreparacionycierre(min)':'expo_tiempo_elabtaller',\n",
    "                           'impacto(alto,medio,bajo)':'impacto',\n",
    "                           'encuestasobreconocimientopreviodemenstruacion(si/no)':'encuesta_menstr',\n",
    "                           'encuestaposteriordeaprendizajes':'encuesta_post_aprendizajes',\n",
    "                           'financiadoroorg.aliadasihubieraexistido':'org_apoyo',\n",
    "                           'detallesdelaactividad(links,obs,etc.)': 'detalles_actividad,'\n",
    "                                                                    \n",
    "}, inplace=True)"
   ],
   "metadata": {
    "collapsed": false,
    "ExecuteTime": {
     "end_time": "2024-04-08T23:39:52.089948Z",
     "start_time": "2024-04-08T23:39:52.085123Z"
    }
   },
   "id": "fa6db6d3bd7ec2f4"
  },
  {
   "cell_type": "code",
   "execution_count": 69,
   "outputs": [
    {
     "data": {
      "text/plain": "Index(['#', 'año', 'fecha', 'tipo_actividad', 'formato', 'actividad',\n       'cantidad', 'pais', 'ciudad', 'alcance', 'localidad', 'lugar',\n       'tipodearea', 'tipodeestablecimiento', 'obs', 'personasalcanzadas_cant',\n       'edad', 'poblacion', 'vulnerabilidad', 'dotacióninsumos',\n       'toallasdesechables', 'copasmenstruales', 'toallasreutilizables',\n       'calzonesmenstruales', 'kit_insumos_gestiónmenstrual', 'expo_duracion',\n       'tematicataller', 'expo_personal', 'voluntarias',\n       'expo_tiempo_elabtaller', 'impacto', 'encuesta_menstr',\n       'encuesta_post_aprendizajes', 'org_apoyo', 'detalles_actividad'],\n      dtype='object')"
     },
     "execution_count": 69,
     "metadata": {},
     "output_type": "execute_result"
    }
   ],
   "source": [
    "df_yawar_c.columns"
   ],
   "metadata": {
    "collapsed": false,
    "ExecuteTime": {
     "end_time": "2024-04-09T00:11:35.084109700Z",
     "start_time": "2024-04-09T00:11:35.070075900Z"
    }
   },
   "id": "93def2cc3468de06"
  },
  {
   "cell_type": "markdown",
   "source": [
    "### Check missing values"
   ],
   "metadata": {
    "collapsed": false
   },
   "id": "cfac707fd390975a"
  },
  {
   "cell_type": "code",
   "execution_count": 67,
   "outputs": [
    {
     "data": {
      "text/plain": "impacto                         100.00\ndetalles_actividad               83.33\nobs                              80.95\norg_apoyo                        48.81\nexpo_personal                    47.62\nedad                             41.67\nencuesta_post_aprendizajes       41.67\nencuesta_menstr                  41.67\nkit_insumos_gestiónmenstrual     41.67\ncalzonesmenstruales              41.67\ntoallasreutilizables             41.67\ncopasmenstruales                 41.67\ntoallasdesechables               41.67\ndotacióninsumos                  41.67\nvulnerabilidad                   41.67\npoblacion                        41.67\npersonasalcanzadas_cant          41.67\ntematicataller                   40.48\nexpo_duracion                    40.48\nexpo_tiempo_elabtaller           39.29\nvoluntarias                      38.10\nlocalidad                        30.95\nlugar                            29.76\ntipodeestablecimiento            28.57\ntipodearea                       26.19\nciudad                           19.05\naño                               3.57\nfecha                             3.57\npais                              2.38\ncantidad                          2.38\nformato                           2.38\n#                                 1.19\nalcance                           0.00\nactividad                         0.00\ntipo_actividad                    0.00\ndtype: float64"
     },
     "execution_count": 67,
     "metadata": {},
     "output_type": "execute_result"
    }
   ],
   "source": [
    "np.round((df_yawar_c.isna().sum()/df_yawar_c.shape[0]*100).sort_values(ascending=False),2)"
   ],
   "metadata": {
    "collapsed": false,
    "ExecuteTime": {
     "end_time": "2024-04-09T00:10:49.840135Z",
     "start_time": "2024-04-09T00:10:49.836296100Z"
    }
   },
   "id": "d5e09b744b83c66a"
  },
  {
   "cell_type": "markdown",
   "source": [
    "Since 'impacto' column doesnt have any information, is better to delete that column."
   ],
   "metadata": {
    "collapsed": false
   },
   "id": "bf73f739c3d4c75"
  },
  {
   "cell_type": "code",
   "execution_count": 70,
   "outputs": [],
   "source": [
    "df_yawar_c.drop(columns=['impacto'],axis=1, inplace=True)"
   ],
   "metadata": {
    "collapsed": false,
    "ExecuteTime": {
     "end_time": "2024-04-09T00:12:42.645188700Z",
     "start_time": "2024-04-09T00:12:42.636858900Z"
    }
   },
   "id": "3e0a2e5f38e960bb"
  },
  {
   "cell_type": "code",
   "execution_count": 72,
   "outputs": [
    {
     "data": {
      "text/plain": "Index(['#', 'año', 'fecha', 'tipo_actividad', 'formato', 'actividad',\n       'cantidad', 'pais', 'ciudad', 'alcance', 'localidad', 'lugar',\n       'tipodearea', 'tipodeestablecimiento', 'obs', 'personasalcanzadas_cant',\n       'edad', 'poblacion', 'vulnerabilidad', 'dotacióninsumos',\n       'toallasdesechables', 'copasmenstruales', 'toallasreutilizables',\n       'calzonesmenstruales', 'kit_insumos_gestiónmenstrual', 'expo_duracion',\n       'tematicataller', 'expo_personal', 'voluntarias',\n       'expo_tiempo_elabtaller', 'encuesta_menstr',\n       'encuesta_post_aprendizajes', 'org_apoyo', 'detalles_actividad'],\n      dtype='object')"
     },
     "execution_count": 72,
     "metadata": {},
     "output_type": "execute_result"
    }
   ],
   "source": [
    "df_yawar_c.columns"
   ],
   "metadata": {
    "collapsed": false,
    "ExecuteTime": {
     "end_time": "2024-04-09T00:13:15.105002600Z",
     "start_time": "2024-04-09T00:13:15.069390500Z"
    }
   },
   "id": "57e3e300f401eb35"
  },
  {
   "cell_type": "code",
   "execution_count": 74,
   "outputs": [
    {
     "data": {
      "text/plain": "       #     año      fecha        tipo_actividad     formato  \\\n55  56.0  2022.0 2022-10-01  artistica y cultural  presencial   \n35  36.0  2023.0 2023-03-06                taller  presencial   \n62  63.0  2023.0 2023-05-18  artistica y cultural  presencial   \n5    6.0  2022.0 2023-09-06                taller  presencial   \n33  34.0  2023.0 2022-02-24                taller  presencial   \n\n                                            actividad  cantidad     pais  \\\n55  Elaboración de un mural menstrual, de 30 metro...       1.0  Bolivia   \n35                             PROYECTO SOCIAL JASAYÉ       1.0  Bolivia   \n62                Participación en la Noche de Museos       1.0  Bolivia   \n5                              PROYECTO SOCIAL JASAYÉ       1.0  Bolivia   \n33                                           DRAGONAS       1.0  Bolivia   \n\n        ciudad        alcance  ... kit_insumos_gestiónmenstrual expo_duracion  \\\n55       Sucre       Nacional  ...                          NaN           NaN   \n35        Beni       Nacional  ...                           No           210   \n62  Santa Cruz       Nacional  ...                          NaN           NaN   \n5         Beni       Nacional  ...                           No           210   \n33  Cochabamba  Internacional  ...                           No           420   \n\n                                       tematicataller expo_personal  \\\n55                                                NaN           NaN   \n35                      vivencia menstrual-ovulatoria           1.0   \n62                                                NaN           NaN   \n5                       vivencia menstrual-ovulatoria           1.0   \n33  vivencia menstrual-ovulatoria y trabajo del Pr...           1.0   \n\n   voluntarias  expo_tiempo_elabtaller encuesta_menstr  \\\n55         NaN                     NaN             NaN   \n35         0.0                   330.0              No   \n62         NaN                     NaN             NaN   \n5          0.0                   330.0              No   \n33         0.0                   480.0              No   \n\n   encuesta_post_aprendizajes               org_apoyo  \\\n55                        NaN                     NaN   \n35                         No  Proyecto Social Jasayé   \n62                        NaN                     NaN   \n5                          No  Proyecto Social Jasayé   \n33                         No                Dragones   \n\n                                   detalles_actividad  \n55                                                NaN  \n35                                                NaN  \n62                                                NaN  \n5   https://www.instagram.com/reel/CiNhmCgDcRC/?ut...  \n33                                                NaN  \n\n[5 rows x 34 columns]",
      "text/html": "<div>\n<style scoped>\n    .dataframe tbody tr th:only-of-type {\n        vertical-align: middle;\n    }\n\n    .dataframe tbody tr th {\n        vertical-align: top;\n    }\n\n    .dataframe thead th {\n        text-align: right;\n    }\n</style>\n<table border=\"1\" class=\"dataframe\">\n  <thead>\n    <tr style=\"text-align: right;\">\n      <th></th>\n      <th>#</th>\n      <th>año</th>\n      <th>fecha</th>\n      <th>tipo_actividad</th>\n      <th>formato</th>\n      <th>actividad</th>\n      <th>cantidad</th>\n      <th>pais</th>\n      <th>ciudad</th>\n      <th>alcance</th>\n      <th>...</th>\n      <th>kit_insumos_gestiónmenstrual</th>\n      <th>expo_duracion</th>\n      <th>tematicataller</th>\n      <th>expo_personal</th>\n      <th>voluntarias</th>\n      <th>expo_tiempo_elabtaller</th>\n      <th>encuesta_menstr</th>\n      <th>encuesta_post_aprendizajes</th>\n      <th>org_apoyo</th>\n      <th>detalles_actividad</th>\n    </tr>\n  </thead>\n  <tbody>\n    <tr>\n      <th>55</th>\n      <td>56.0</td>\n      <td>2022.0</td>\n      <td>2022-10-01</td>\n      <td>artistica y cultural</td>\n      <td>presencial</td>\n      <td>Elaboración de un mural menstrual, de 30 metro...</td>\n      <td>1.0</td>\n      <td>Bolivia</td>\n      <td>Sucre</td>\n      <td>Nacional</td>\n      <td>...</td>\n      <td>NaN</td>\n      <td>NaN</td>\n      <td>NaN</td>\n      <td>NaN</td>\n      <td>NaN</td>\n      <td>NaN</td>\n      <td>NaN</td>\n      <td>NaN</td>\n      <td>NaN</td>\n      <td>NaN</td>\n    </tr>\n    <tr>\n      <th>35</th>\n      <td>36.0</td>\n      <td>2023.0</td>\n      <td>2023-03-06</td>\n      <td>taller</td>\n      <td>presencial</td>\n      <td>PROYECTO SOCIAL JASAYÉ</td>\n      <td>1.0</td>\n      <td>Bolivia</td>\n      <td>Beni</td>\n      <td>Nacional</td>\n      <td>...</td>\n      <td>No</td>\n      <td>210</td>\n      <td>vivencia menstrual-ovulatoria</td>\n      <td>1.0</td>\n      <td>0.0</td>\n      <td>330.0</td>\n      <td>No</td>\n      <td>No</td>\n      <td>Proyecto Social Jasayé</td>\n      <td>NaN</td>\n    </tr>\n    <tr>\n      <th>62</th>\n      <td>63.0</td>\n      <td>2023.0</td>\n      <td>2023-05-18</td>\n      <td>artistica y cultural</td>\n      <td>presencial</td>\n      <td>Participación en la Noche de Museos</td>\n      <td>1.0</td>\n      <td>Bolivia</td>\n      <td>Santa Cruz</td>\n      <td>Nacional</td>\n      <td>...</td>\n      <td>NaN</td>\n      <td>NaN</td>\n      <td>NaN</td>\n      <td>NaN</td>\n      <td>NaN</td>\n      <td>NaN</td>\n      <td>NaN</td>\n      <td>NaN</td>\n      <td>NaN</td>\n      <td>NaN</td>\n    </tr>\n    <tr>\n      <th>5</th>\n      <td>6.0</td>\n      <td>2022.0</td>\n      <td>2023-09-06</td>\n      <td>taller</td>\n      <td>presencial</td>\n      <td>PROYECTO SOCIAL JASAYÉ</td>\n      <td>1.0</td>\n      <td>Bolivia</td>\n      <td>Beni</td>\n      <td>Nacional</td>\n      <td>...</td>\n      <td>No</td>\n      <td>210</td>\n      <td>vivencia menstrual-ovulatoria</td>\n      <td>1.0</td>\n      <td>0.0</td>\n      <td>330.0</td>\n      <td>No</td>\n      <td>No</td>\n      <td>Proyecto Social Jasayé</td>\n      <td>https://www.instagram.com/reel/CiNhmCgDcRC/?ut...</td>\n    </tr>\n    <tr>\n      <th>33</th>\n      <td>34.0</td>\n      <td>2023.0</td>\n      <td>2022-02-24</td>\n      <td>taller</td>\n      <td>presencial</td>\n      <td>DRAGONAS</td>\n      <td>1.0</td>\n      <td>Bolivia</td>\n      <td>Cochabamba</td>\n      <td>Internacional</td>\n      <td>...</td>\n      <td>No</td>\n      <td>420</td>\n      <td>vivencia menstrual-ovulatoria y trabajo del Pr...</td>\n      <td>1.0</td>\n      <td>0.0</td>\n      <td>480.0</td>\n      <td>No</td>\n      <td>No</td>\n      <td>Dragones</td>\n      <td>NaN</td>\n    </tr>\n  </tbody>\n</table>\n<p>5 rows × 34 columns</p>\n</div>"
     },
     "execution_count": 74,
     "metadata": {},
     "output_type": "execute_result"
    }
   ],
   "source": [
    "df_yawar_c.sample(5)"
   ],
   "metadata": {
    "collapsed": false,
    "ExecuteTime": {
     "end_time": "2024-04-09T00:14:42.415572200Z",
     "start_time": "2024-04-09T00:14:42.393616800Z"
    }
   },
   "id": "bc65a4f05fe53da9"
  },
  {
   "cell_type": "markdown",
   "source": [
    "Since 'detallesactividad' is a column which contains only social media links, for this reason this column should be deleted.\n",
    "The same applies for 'obs' column.\n",
    "'org_apoyo' nan values refer to  missing not at random MNAR, so those values will be replaced by 'No' indicating that there hasn't been any foundraiser.\n",
    "'expo_personal' has nan values but if there has been a project registered of any class at least there should be 1 person in charge, so nan values will be changed to 1 by default.\n",
    "'edad' \n",
    " "
   ],
   "metadata": {
    "collapsed": false
   },
   "id": "7eed5faca6be42b8"
  },
  {
   "cell_type": "code",
   "execution_count": null,
   "outputs": [],
   "source": [
    "\n"
   ],
   "metadata": {
    "collapsed": false
   },
   "id": "1515b4029ba56c1a"
  },
  {
   "cell_type": "code",
   "execution_count": 26,
   "outputs": [
    {
     "data": {
      "text/plain": "array(['Café AMTA', 'domicilio privado', 'UNIFRANZ EL ALTO ',\n       'Teatro Trono', 'Instalaciones PSJ', 'El Alto', 'Penal Juvenil ',\n       'Instalaciones Fundación Munasim Kullakita', 'Instalaciones CERPI',\n       'Instalaciones CERPI Escuelita Móvil',\n       'Instalaciones Etta Project ', 'diversas ciudades', 'Samay Wasi ',\n       'UMSA', 'Instalaciones Etta', 'Instalaciones CIES',\n       'Centro de Salud Alonso Gutierrez ',\n       'Centro de Rehabilitación Palmasola ', 'Rio Selva ', nan,\n       'Casa Carmen', 'Australia, Melbourne', 'Micelio', 'CERPI ',\n       'CERPI y Mercado Central', 'Mercado central',\n       'Universidad Gabriel René Moreno', 'México', 'UNIFRANZ',\n       'Casa Carmencita'], dtype=object)"
     },
     "execution_count": 26,
     "metadata": {},
     "output_type": "execute_result"
    }
   ],
   "source": [
    "df_yawar['LUGAR'].unique()"
   ],
   "metadata": {
    "collapsed": false,
    "ExecuteTime": {
     "end_time": "2024-04-08T17:05:26.871125400Z",
     "start_time": "2024-04-08T17:05:26.863673600Z"
    }
   },
   "id": "3ba864c0b8f7d7f5"
  },
  {
   "cell_type": "code",
   "execution_count": null,
   "outputs": [],
   "source": [],
   "metadata": {
    "collapsed": false
   },
   "id": "230b13840a714eb"
  },
  {
   "cell_type": "code",
   "execution_count": null,
   "outputs": [],
   "source": [],
   "metadata": {
    "collapsed": false
   },
   "id": "f7f48ba46b0e71ad"
  },
  {
   "cell_type": "code",
   "execution_count": null,
   "outputs": [],
   "source": [],
   "metadata": {
    "collapsed": false
   },
   "id": "7c3dc7e280983bf3"
  },
  {
   "cell_type": "code",
   "execution_count": null,
   "outputs": [],
   "source": [],
   "metadata": {
    "collapsed": false
   },
   "id": "7cdca4f29d48f820"
  },
  {
   "cell_type": "code",
   "execution_count": null,
   "outputs": [],
   "source": [],
   "metadata": {
    "collapsed": false
   },
   "id": "8af7486ab9b0ab0"
  }
 ],
 "metadata": {
  "kernelspec": {
   "display_name": "Python 3",
   "language": "python",
   "name": "python3"
  },
  "language_info": {
   "codemirror_mode": {
    "name": "ipython",
    "version": 2
   },
   "file_extension": ".py",
   "mimetype": "text/x-python",
   "name": "python",
   "nbconvert_exporter": "python",
   "pygments_lexer": "ipython2",
   "version": "2.7.6"
  }
 },
 "nbformat": 4,
 "nbformat_minor": 5
}

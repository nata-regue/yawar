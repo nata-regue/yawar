{
 "cells": [
  {
   "cell_type": "code",
   "execution_count": 3,
   "id": "initial_id",
   "metadata": {
    "collapsed": true,
    "ExecuteTime": {
     "end_time": "2024-04-16T20:15:41.747422600Z",
     "start_time": "2024-04-16T20:15:39.878191100Z"
    }
   },
   "outputs": [],
   "source": [
    "#Import main libraries\n",
    "import pandas as pd\n",
    "import numpy as np\n",
    "import matplotlib.pyplot as plt\n",
    "import datetime as dt\n",
    "import seaborn as sns"
   ]
  },
  {
   "cell_type": "code",
   "execution_count": 4,
   "outputs": [],
   "source": [
    "excelfilepath=('../data/YAWAR_solodata_20240416.xlsx')"
   ],
   "metadata": {
    "collapsed": false,
    "ExecuteTime": {
     "end_time": "2024-04-16T20:15:41.762251900Z",
     "start_time": "2024-04-16T20:15:39.883874800Z"
    }
   },
   "id": "d9a3529f43e55aba"
  },
  {
   "cell_type": "code",
   "execution_count": 5,
   "outputs": [],
   "source": [
    "df_yawar=pd.read_excel(excelfilepath)"
   ],
   "metadata": {
    "collapsed": false,
    "ExecuteTime": {
     "end_time": "2024-04-16T20:15:52.206793800Z",
     "start_time": "2024-04-16T20:15:39.889403800Z"
    }
   },
   "id": "6e2042368f1aae3b"
  },
  {
   "cell_type": "markdown",
   "source": [
    "## Data Exploration (Initial EDA and data cleaning)\n",
    "\n",
    "- Understanding variables\n",
    "- Clean the dataset (missing data, redundant data, outliers) "
   ],
   "metadata": {
    "collapsed": false
   },
   "id": "46d025d0430a45e9"
  },
  {
   "cell_type": "code",
   "execution_count": 6,
   "outputs": [
    {
     "data": {
      "text/plain": "(84, 36)"
     },
     "execution_count": 6,
     "metadata": {},
     "output_type": "execute_result"
    }
   ],
   "source": [
    "df_yawar.shape"
   ],
   "metadata": {
    "collapsed": false,
    "ExecuteTime": {
     "end_time": "2024-04-16T20:15:52.224199300Z",
     "start_time": "2024-04-16T20:15:41.034746900Z"
    }
   },
   "id": "bd423e548bed737b"
  },
  {
   "cell_type": "code",
   "execution_count": 7,
   "outputs": [
    {
     "data": {
      "text/plain": "Index(['#', 'Año', 'FECHA (dd/mm/aaaa)', 'TIPO ACTIVIDAD (taller, difusion)',\n       'FORMATO (presencial/virtual)', 'ACTIVIDAD', 'CANTIDAD', 'PAIS',\n       'CIUDAD', 'ALCANCE\\n(nal e internal)', 'LOCALIDAD', 'LUGAR',\n       'TIPO DE AREA (RURAL/URBANA/PERIURBANA)',\n       'TIPO DE ESTABLECIMIENTO (GENERICO)', 'OBS',\n       'CANTIDAD DE PERSONAS ALCANZADAS', 'EDAD',\n       'TIPO POBLACION (mujeres, jovenes, niñas)', 'VULNERABILIDAD',\n       'DOTACIÓN INSUMOS', 'toallas desechables', 'copas menstruales',\n       'toallas reutilizables', 'calzones menstruales',\n       'Kits Insumos de Gestión Menstrual', 'Q'ipus menstruales',\n       'DURACION EXPO + PREGUNTAS (MIN)', 'TEMATICA TALLER',\n       'PERSONAS A CARGO (CAPACITADORAS, ETC)', 'Nro. VOLUNTARIAS PRESENTES',\n       'TIEMPO DE PREPARACION Y CIERRE (MIN)', 'IMPACTO(ALTO, MEDIO , BAJO)',\n       'ENCUESTA SOBRE CONOCIMIENTO PREVIO DE MENSTRUACION (si/no)',\n       'ENCUESTA POSTERIOR DE APRENDIZAJES',\n       'FINANCIADOR O ORG. ALIADA si hubiera existido',\n       'DETALLES DE LA ACTIVIDAD (links, obs, etc.)'],\n      dtype='object')"
     },
     "execution_count": 7,
     "metadata": {},
     "output_type": "execute_result"
    }
   ],
   "source": [
    "df_yawar.columns"
   ],
   "metadata": {
    "collapsed": false,
    "ExecuteTime": {
     "end_time": "2024-04-16T20:15:52.225269600Z",
     "start_time": "2024-04-16T20:15:41.048970Z"
    }
   },
   "id": "a764317e003e4229"
  },
  {
   "cell_type": "code",
   "execution_count": 8,
   "outputs": [
    {
     "name": "stdout",
     "output_type": "stream",
     "text": [
      "<class 'pandas.core.frame.DataFrame'>\n",
      "RangeIndex: 84 entries, 0 to 83\n",
      "Data columns (total 36 columns):\n",
      " #   Column                                                      Non-Null Count  Dtype  \n",
      "---  ------                                                      --------------  -----  \n",
      " 0   #                                                           83 non-null     float64\n",
      " 1   Año                                                         81 non-null     float64\n",
      " 2   FECHA (dd/mm/aaaa)                                          81 non-null     object \n",
      " 3   TIPO ACTIVIDAD (taller, difusion)                           84 non-null     object \n",
      " 4   FORMATO (presencial/virtual)                                82 non-null     object \n",
      " 5   ACTIVIDAD                                                   84 non-null     object \n",
      " 6   CANTIDAD                                                    83 non-null     float64\n",
      " 7   PAIS                                                        83 non-null     object \n",
      " 8   CIUDAD                                                      71 non-null     object \n",
      " 9   ALCANCE\n",
      "(nal e internal)                                    84 non-null     object \n",
      " 10  LOCALIDAD                                                   59 non-null     object \n",
      " 11  LUGAR                                                       60 non-null     object \n",
      " 12  TIPO DE AREA (RURAL/URBANA/PERIURBANA)                      63 non-null     object \n",
      " 13  TIPO DE ESTABLECIMIENTO (GENERICO)                          61 non-null     object \n",
      " 14  OBS                                                         16 non-null     object \n",
      " 15  CANTIDAD DE PERSONAS ALCANZADAS                             50 non-null     float64\n",
      " 16  EDAD                                                        50 non-null     object \n",
      " 17  TIPO POBLACION (mujeres, jovenes, niñas)                    50 non-null     object \n",
      " 18  VULNERABILIDAD                                              50 non-null     object \n",
      " 19  DOTACIÓN INSUMOS                                            50 non-null     object \n",
      " 20  toallas desechables                                         50 non-null     object \n",
      " 21  copas menstruales                                           50 non-null     object \n",
      " 22  toallas reutilizables                                       50 non-null     object \n",
      " 23  calzones menstruales                                        50 non-null     object \n",
      " 24  Kits Insumos de Gestión Menstrual                           50 non-null     object \n",
      " 25  Q'ipus menstruales                                          50 non-null     object \n",
      " 26  DURACION EXPO + PREGUNTAS (MIN)                             51 non-null     object \n",
      " 27  TEMATICA TALLER                                             51 non-null     object \n",
      " 28  PERSONAS A CARGO (CAPACITADORAS, ETC)                       45 non-null     float64\n",
      " 29  Nro. VOLUNTARIAS PRESENTES                                  53 non-null     float64\n",
      " 30  TIEMPO DE PREPARACION Y CIERRE (MIN)                        52 non-null     float64\n",
      " 31  IMPACTO(ALTO, MEDIO , BAJO)                                 0 non-null      float64\n",
      " 32  ENCUESTA SOBRE CONOCIMIENTO PREVIO DE MENSTRUACION (si/no)  50 non-null     object \n",
      " 33  ENCUESTA POSTERIOR DE APRENDIZAJES                          50 non-null     object \n",
      " 34  FINANCIADOR O ORG. ALIADA si hubiera existido               44 non-null     object \n",
      " 35  DETALLES DE LA ACTIVIDAD (links, obs, etc.)                 15 non-null     object \n",
      "dtypes: float64(8), object(28)\n",
      "memory usage: 23.8+ KB\n"
     ]
    }
   ],
   "source": [
    "df_yawar.info()"
   ],
   "metadata": {
    "collapsed": false,
    "ExecuteTime": {
     "end_time": "2024-04-16T20:15:52.897407600Z",
     "start_time": "2024-04-16T20:15:41.059558500Z"
    }
   },
   "id": "c9707ab9c1fe4b07"
  },
  {
   "cell_type": "code",
   "execution_count": 9,
   "outputs": [
    {
     "data": {
      "text/plain": "#                                                             float64\nAño                                                           float64\nFECHA (dd/mm/aaaa)                                             object\nTIPO ACTIVIDAD (taller, difusion)                              object\nFORMATO (presencial/virtual)                                   object\nACTIVIDAD                                                      object\nCANTIDAD                                                      float64\nPAIS                                                           object\nCIUDAD                                                         object\nALCANCE\\n(nal e internal)                                      object\nLOCALIDAD                                                      object\nLUGAR                                                          object\nTIPO DE AREA (RURAL/URBANA/PERIURBANA)                         object\nTIPO DE ESTABLECIMIENTO (GENERICO)                             object\nOBS                                                            object\nCANTIDAD DE PERSONAS ALCANZADAS                               float64\nEDAD                                                           object\nTIPO POBLACION (mujeres, jovenes, niñas)                       object\nVULNERABILIDAD                                                 object\nDOTACIÓN INSUMOS                                               object\ntoallas desechables                                            object\ncopas menstruales                                              object\ntoallas reutilizables                                          object\ncalzones menstruales                                           object\nKits Insumos de Gestión Menstrual                              object\nQ'ipus menstruales                                             object\nDURACION EXPO + PREGUNTAS (MIN)                                object\nTEMATICA TALLER                                                object\nPERSONAS A CARGO (CAPACITADORAS, ETC)                         float64\nNro. VOLUNTARIAS PRESENTES                                    float64\nTIEMPO DE PREPARACION Y CIERRE (MIN)                          float64\nIMPACTO(ALTO, MEDIO , BAJO)                                   float64\nENCUESTA SOBRE CONOCIMIENTO PREVIO DE MENSTRUACION (si/no)     object\nENCUESTA POSTERIOR DE APRENDIZAJES                             object\nFINANCIADOR O ORG. ALIADA si hubiera existido                  object\nDETALLES DE LA ACTIVIDAD (links, obs, etc.)                    object\ndtype: object"
     },
     "execution_count": 9,
     "metadata": {},
     "output_type": "execute_result"
    }
   ],
   "source": [
    "df_yawar.dtypes"
   ],
   "metadata": {
    "collapsed": false,
    "ExecuteTime": {
     "end_time": "2024-04-16T20:15:52.898407700Z",
     "start_time": "2024-04-16T20:15:41.086865600Z"
    }
   },
   "id": "1e0b38d5dde364d6"
  },
  {
   "cell_type": "code",
   "execution_count": 10,
   "outputs": [
    {
     "data": {
      "text/plain": "               #          Año    CANTIDAD  CANTIDAD DE PERSONAS ALCANZADAS  \\\ncount  83.000000    81.000000   83.000000                        50.000000   \nmean   42.000000  2022.246914    3.349398                        15.320000   \nstd    24.103942     0.623114   13.975967                         8.262134   \nmin     1.000000  2021.000000    1.000000                         5.000000   \n25%    21.500000  2022.000000    1.000000                         8.000000   \n50%    42.000000  2022.000000    1.000000                        13.000000   \n75%    62.500000  2023.000000    1.000000                        20.000000   \nmax    83.000000  2024.000000  116.000000                        35.000000   \n\n       PERSONAS A CARGO (CAPACITADORAS, ETC)  Nro. VOLUNTARIAS PRESENTES  \\\ncount                              45.000000                   53.000000   \nmean                                1.133333                    2.075472   \nstd                                 0.504525                    2.947287   \nmin                                 1.000000                    0.000000   \n25%                                 1.000000                    0.000000   \n50%                                 1.000000                    1.000000   \n75%                                 1.000000                    4.000000   \nmax                                 4.000000                   10.000000   \n\n       TIEMPO DE PREPARACION Y CIERRE (MIN)  IMPACTO(ALTO, MEDIO , BAJO)  \ncount                             52.000000                          0.0  \nmean                             393.269231                          NaN  \nstd                               73.557265                          NaN  \nmin                              300.000000                          NaN  \n25%                              330.000000                          NaN  \n50%                              330.000000                          NaN  \n75%                              480.000000                          NaN  \nmax                              480.000000                          NaN  ",
      "text/html": "<div>\n<style scoped>\n    .dataframe tbody tr th:only-of-type {\n        vertical-align: middle;\n    }\n\n    .dataframe tbody tr th {\n        vertical-align: top;\n    }\n\n    .dataframe thead th {\n        text-align: right;\n    }\n</style>\n<table border=\"1\" class=\"dataframe\">\n  <thead>\n    <tr style=\"text-align: right;\">\n      <th></th>\n      <th>#</th>\n      <th>Año</th>\n      <th>CANTIDAD</th>\n      <th>CANTIDAD DE PERSONAS ALCANZADAS</th>\n      <th>PERSONAS A CARGO (CAPACITADORAS, ETC)</th>\n      <th>Nro. VOLUNTARIAS PRESENTES</th>\n      <th>TIEMPO DE PREPARACION Y CIERRE (MIN)</th>\n      <th>IMPACTO(ALTO, MEDIO , BAJO)</th>\n    </tr>\n  </thead>\n  <tbody>\n    <tr>\n      <th>count</th>\n      <td>83.000000</td>\n      <td>81.000000</td>\n      <td>83.000000</td>\n      <td>50.000000</td>\n      <td>45.000000</td>\n      <td>53.000000</td>\n      <td>52.000000</td>\n      <td>0.0</td>\n    </tr>\n    <tr>\n      <th>mean</th>\n      <td>42.000000</td>\n      <td>2022.246914</td>\n      <td>3.349398</td>\n      <td>15.320000</td>\n      <td>1.133333</td>\n      <td>2.075472</td>\n      <td>393.269231</td>\n      <td>NaN</td>\n    </tr>\n    <tr>\n      <th>std</th>\n      <td>24.103942</td>\n      <td>0.623114</td>\n      <td>13.975967</td>\n      <td>8.262134</td>\n      <td>0.504525</td>\n      <td>2.947287</td>\n      <td>73.557265</td>\n      <td>NaN</td>\n    </tr>\n    <tr>\n      <th>min</th>\n      <td>1.000000</td>\n      <td>2021.000000</td>\n      <td>1.000000</td>\n      <td>5.000000</td>\n      <td>1.000000</td>\n      <td>0.000000</td>\n      <td>300.000000</td>\n      <td>NaN</td>\n    </tr>\n    <tr>\n      <th>25%</th>\n      <td>21.500000</td>\n      <td>2022.000000</td>\n      <td>1.000000</td>\n      <td>8.000000</td>\n      <td>1.000000</td>\n      <td>0.000000</td>\n      <td>330.000000</td>\n      <td>NaN</td>\n    </tr>\n    <tr>\n      <th>50%</th>\n      <td>42.000000</td>\n      <td>2022.000000</td>\n      <td>1.000000</td>\n      <td>13.000000</td>\n      <td>1.000000</td>\n      <td>1.000000</td>\n      <td>330.000000</td>\n      <td>NaN</td>\n    </tr>\n    <tr>\n      <th>75%</th>\n      <td>62.500000</td>\n      <td>2023.000000</td>\n      <td>1.000000</td>\n      <td>20.000000</td>\n      <td>1.000000</td>\n      <td>4.000000</td>\n      <td>480.000000</td>\n      <td>NaN</td>\n    </tr>\n    <tr>\n      <th>max</th>\n      <td>83.000000</td>\n      <td>2024.000000</td>\n      <td>116.000000</td>\n      <td>35.000000</td>\n      <td>4.000000</td>\n      <td>10.000000</td>\n      <td>480.000000</td>\n      <td>NaN</td>\n    </tr>\n  </tbody>\n</table>\n</div>"
     },
     "execution_count": 10,
     "metadata": {},
     "output_type": "execute_result"
    }
   ],
   "source": [
    "df_yawar.describe()"
   ],
   "metadata": {
    "collapsed": false,
    "ExecuteTime": {
     "end_time": "2024-04-16T20:15:53.375519200Z",
     "start_time": "2024-04-16T20:15:41.098947800Z"
    }
   },
   "id": "105104dbdae83cd9"
  },
  {
   "cell_type": "code",
   "execution_count": 11,
   "outputs": [
    {
     "data": {
      "text/plain": "      #     Año   FECHA (dd/mm/aaaa) TIPO ACTIVIDAD (taller, difusion)  \\\n0   1.0  2022.0  2022-03-10 00:00:00                            taller   \n1   2.0  2022.0  2022-04-09 00:00:00                            taller   \n2   3.0  2022.0  2022-07-07 00:00:00                            taller   \n3   4.0  2022.0  2022-07-08 00:00:00                            taller   \n4   5.0  2022.0  2022-07-09 00:00:00                            taller   \n5   6.0  2022.0  2023-09-06 00:00:00                            taller   \n6   7.0  2022.0  2022-09-08 00:00:00                            taller   \n7   8.0  2022.0  2022-09-12 00:00:00                            taller   \n8   9.0  2022.0  2022-09-15 00:00:00                            taller   \n9  10.0  2022.0  2022-06-24 00:00:00                            taller   \n\n  FORMATO (presencial/virtual)                  ACTIVIDAD  CANTIDAD     PAIS  \\\n0                   presencial  1er encuentro voluntarias       1.0  Bolivia   \n1                   presencial  Taller: qué es ser joven?       1.0  Bolivia   \n2                   presencial               ALTO ALDEAS        1.0  Bolivia   \n3                   presencial               ALTO ALDEAS        1.0  Bolivia   \n4                   presencial                ALTO MAPAKI       1.0  Bolivia   \n5                   presencial     PROYECTO SOCIAL JASAYÉ       1.0  Bolivia   \n6                   presencial     PROYECTO SOCIAL JASAYÉ       1.0  Bolivia   \n7                   presencial     PROYECTO SOCIAL JASAYÉ       1.0  Bolivia   \n8                   presencial     PROYECTO SOCIAL JASAYÉ       1.0  Bolivia   \n9                      virtual          ESCUELITA VIRTUAL       1.0  Bolivia   \n\n    CIUDAD ALCANCE\\n(nal e internal)  ... DURACION EXPO + PREGUNTAS (MIN)  \\\n0  El Alto                  Nacional  ...                             210   \n1   La Paz                    La Paz  ...                             210   \n2  El Alto                  Nacional  ...                             210   \n3  El Alto                  Nacional  ...                             210   \n4  El Alto                  Nacional  ...                             210   \n5     Beni                  Nacional  ...                             210   \n6     Beni                  Nacional  ...                             210   \n7     Beni                  Nacional  ...                             210   \n8     Beni                  Nacional  ...                             210   \n9  El Alto                  Nacional  ...                             210   \n\n                             TEMATICA TALLER  \\\n0  historia de nuestra sexualidad y anatomia   \n1                          Qué es ser joven?   \n2              vivencia menstrual-ovulatoria   \n3              vivencia menstrual-ovulatoria   \n4              vivencia menstrual-ovulatoria   \n5              vivencia menstrual-ovulatoria   \n6              vivencia menstrual-ovulatoria   \n7              vivencia menstrual-ovulatoria   \n8              vivencia menstrual-ovulatoria   \n9  historia de nuestra sexualidad y anatomia   \n\n  PERSONAS A CARGO (CAPACITADORAS, ETC) Nro. VOLUNTARIAS PRESENTES  \\\n0                                   1.0                        0.0   \n1                                   2.0                        0.0   \n2                                   1.0                        5.0   \n3                                   1.0                        5.0   \n4                                   1.0                        3.0   \n5                                   1.0                        0.0   \n6                                   1.0                        0.0   \n7                                   1.0                        0.0   \n8                                   1.0                        0.0   \n9                                   1.0                        0.0   \n\n  TIEMPO DE PREPARACION Y CIERRE (MIN)  IMPACTO(ALTO, MEDIO , BAJO)  \\\n0                                480.0                          NaN   \n1                                400.0                          NaN   \n2                                480.0                          NaN   \n3                                480.0                          NaN   \n4                                480.0                          NaN   \n5                                330.0                          NaN   \n6                                330.0                          NaN   \n7                                330.0                          NaN   \n8                                330.0                          NaN   \n9                                330.0                          NaN   \n\n  ENCUESTA SOBRE CONOCIMIENTO PREVIO DE MENSTRUACION (si/no)  \\\n0                                                 No           \n1                                                 No           \n2                                                 No           \n3                                                 No           \n4                                                 No           \n5                                                 No           \n6                                                 No           \n7                                                 No           \n8                                                 No           \n9                                                 No           \n\n  ENCUESTA POSTERIOR DE APRENDIZAJES  \\\n0                                 No   \n1                                 No   \n2                                 No   \n3                                 No   \n4                                 No   \n5                                 No   \n6                                 No   \n7                                 No   \n8                                 No   \n9                                 No   \n\n  FINANCIADOR O ORG. ALIADA si hubiera existido  \\\n0                                            No   \n1                                            No   \n2                                Aptapi Jopueti   \n3                                Aptapi Jopueti   \n4                                Aptapi Jopueti   \n5                        Proyecto Social Jasayé   \n6                        Proyecto Social Jasayé   \n7                        Proyecto Social Jasayé   \n8                        Proyecto Social Jasayé   \n9                                           NaN   \n\n         DETALLES DE LA ACTIVIDAD (links, obs, etc.)  \n0                                                NaN  \n1                                                NaN  \n2  https://www.instagram.com/reel/CfzpDw5JOq8/?ut...  \n3  https://www.instagram.com/reel/CfzpDw5JOq8/?ut...  \n4  https://www.instagram.com/reel/Cf_sL5IjUyb/?ut...  \n5  https://www.instagram.com/reel/CiNhmCgDcRC/?ut...  \n6                                                NaN  \n7                                                NaN  \n8                                                NaN  \n9                                                NaN  \n\n[10 rows x 36 columns]",
      "text/html": "<div>\n<style scoped>\n    .dataframe tbody tr th:only-of-type {\n        vertical-align: middle;\n    }\n\n    .dataframe tbody tr th {\n        vertical-align: top;\n    }\n\n    .dataframe thead th {\n        text-align: right;\n    }\n</style>\n<table border=\"1\" class=\"dataframe\">\n  <thead>\n    <tr style=\"text-align: right;\">\n      <th></th>\n      <th>#</th>\n      <th>Año</th>\n      <th>FECHA (dd/mm/aaaa)</th>\n      <th>TIPO ACTIVIDAD (taller, difusion)</th>\n      <th>FORMATO (presencial/virtual)</th>\n      <th>ACTIVIDAD</th>\n      <th>CANTIDAD</th>\n      <th>PAIS</th>\n      <th>CIUDAD</th>\n      <th>ALCANCE\\n(nal e internal)</th>\n      <th>...</th>\n      <th>DURACION EXPO + PREGUNTAS (MIN)</th>\n      <th>TEMATICA TALLER</th>\n      <th>PERSONAS A CARGO (CAPACITADORAS, ETC)</th>\n      <th>Nro. VOLUNTARIAS PRESENTES</th>\n      <th>TIEMPO DE PREPARACION Y CIERRE (MIN)</th>\n      <th>IMPACTO(ALTO, MEDIO , BAJO)</th>\n      <th>ENCUESTA SOBRE CONOCIMIENTO PREVIO DE MENSTRUACION (si/no)</th>\n      <th>ENCUESTA POSTERIOR DE APRENDIZAJES</th>\n      <th>FINANCIADOR O ORG. ALIADA si hubiera existido</th>\n      <th>DETALLES DE LA ACTIVIDAD (links, obs, etc.)</th>\n    </tr>\n  </thead>\n  <tbody>\n    <tr>\n      <th>0</th>\n      <td>1.0</td>\n      <td>2022.0</td>\n      <td>2022-03-10 00:00:00</td>\n      <td>taller</td>\n      <td>presencial</td>\n      <td>1er encuentro voluntarias</td>\n      <td>1.0</td>\n      <td>Bolivia</td>\n      <td>El Alto</td>\n      <td>Nacional</td>\n      <td>...</td>\n      <td>210</td>\n      <td>historia de nuestra sexualidad y anatomia</td>\n      <td>1.0</td>\n      <td>0.0</td>\n      <td>480.0</td>\n      <td>NaN</td>\n      <td>No</td>\n      <td>No</td>\n      <td>No</td>\n      <td>NaN</td>\n    </tr>\n    <tr>\n      <th>1</th>\n      <td>2.0</td>\n      <td>2022.0</td>\n      <td>2022-04-09 00:00:00</td>\n      <td>taller</td>\n      <td>presencial</td>\n      <td>Taller: qué es ser joven?</td>\n      <td>1.0</td>\n      <td>Bolivia</td>\n      <td>La Paz</td>\n      <td>La Paz</td>\n      <td>...</td>\n      <td>210</td>\n      <td>Qué es ser joven?</td>\n      <td>2.0</td>\n      <td>0.0</td>\n      <td>400.0</td>\n      <td>NaN</td>\n      <td>No</td>\n      <td>No</td>\n      <td>No</td>\n      <td>NaN</td>\n    </tr>\n    <tr>\n      <th>2</th>\n      <td>3.0</td>\n      <td>2022.0</td>\n      <td>2022-07-07 00:00:00</td>\n      <td>taller</td>\n      <td>presencial</td>\n      <td>ALTO ALDEAS</td>\n      <td>1.0</td>\n      <td>Bolivia</td>\n      <td>El Alto</td>\n      <td>Nacional</td>\n      <td>...</td>\n      <td>210</td>\n      <td>vivencia menstrual-ovulatoria</td>\n      <td>1.0</td>\n      <td>5.0</td>\n      <td>480.0</td>\n      <td>NaN</td>\n      <td>No</td>\n      <td>No</td>\n      <td>Aptapi Jopueti</td>\n      <td>https://www.instagram.com/reel/CfzpDw5JOq8/?ut...</td>\n    </tr>\n    <tr>\n      <th>3</th>\n      <td>4.0</td>\n      <td>2022.0</td>\n      <td>2022-07-08 00:00:00</td>\n      <td>taller</td>\n      <td>presencial</td>\n      <td>ALTO ALDEAS</td>\n      <td>1.0</td>\n      <td>Bolivia</td>\n      <td>El Alto</td>\n      <td>Nacional</td>\n      <td>...</td>\n      <td>210</td>\n      <td>vivencia menstrual-ovulatoria</td>\n      <td>1.0</td>\n      <td>5.0</td>\n      <td>480.0</td>\n      <td>NaN</td>\n      <td>No</td>\n      <td>No</td>\n      <td>Aptapi Jopueti</td>\n      <td>https://www.instagram.com/reel/CfzpDw5JOq8/?ut...</td>\n    </tr>\n    <tr>\n      <th>4</th>\n      <td>5.0</td>\n      <td>2022.0</td>\n      <td>2022-07-09 00:00:00</td>\n      <td>taller</td>\n      <td>presencial</td>\n      <td>ALTO MAPAKI</td>\n      <td>1.0</td>\n      <td>Bolivia</td>\n      <td>El Alto</td>\n      <td>Nacional</td>\n      <td>...</td>\n      <td>210</td>\n      <td>vivencia menstrual-ovulatoria</td>\n      <td>1.0</td>\n      <td>3.0</td>\n      <td>480.0</td>\n      <td>NaN</td>\n      <td>No</td>\n      <td>No</td>\n      <td>Aptapi Jopueti</td>\n      <td>https://www.instagram.com/reel/Cf_sL5IjUyb/?ut...</td>\n    </tr>\n    <tr>\n      <th>5</th>\n      <td>6.0</td>\n      <td>2022.0</td>\n      <td>2023-09-06 00:00:00</td>\n      <td>taller</td>\n      <td>presencial</td>\n      <td>PROYECTO SOCIAL JASAYÉ</td>\n      <td>1.0</td>\n      <td>Bolivia</td>\n      <td>Beni</td>\n      <td>Nacional</td>\n      <td>...</td>\n      <td>210</td>\n      <td>vivencia menstrual-ovulatoria</td>\n      <td>1.0</td>\n      <td>0.0</td>\n      <td>330.0</td>\n      <td>NaN</td>\n      <td>No</td>\n      <td>No</td>\n      <td>Proyecto Social Jasayé</td>\n      <td>https://www.instagram.com/reel/CiNhmCgDcRC/?ut...</td>\n    </tr>\n    <tr>\n      <th>6</th>\n      <td>7.0</td>\n      <td>2022.0</td>\n      <td>2022-09-08 00:00:00</td>\n      <td>taller</td>\n      <td>presencial</td>\n      <td>PROYECTO SOCIAL JASAYÉ</td>\n      <td>1.0</td>\n      <td>Bolivia</td>\n      <td>Beni</td>\n      <td>Nacional</td>\n      <td>...</td>\n      <td>210</td>\n      <td>vivencia menstrual-ovulatoria</td>\n      <td>1.0</td>\n      <td>0.0</td>\n      <td>330.0</td>\n      <td>NaN</td>\n      <td>No</td>\n      <td>No</td>\n      <td>Proyecto Social Jasayé</td>\n      <td>NaN</td>\n    </tr>\n    <tr>\n      <th>7</th>\n      <td>8.0</td>\n      <td>2022.0</td>\n      <td>2022-09-12 00:00:00</td>\n      <td>taller</td>\n      <td>presencial</td>\n      <td>PROYECTO SOCIAL JASAYÉ</td>\n      <td>1.0</td>\n      <td>Bolivia</td>\n      <td>Beni</td>\n      <td>Nacional</td>\n      <td>...</td>\n      <td>210</td>\n      <td>vivencia menstrual-ovulatoria</td>\n      <td>1.0</td>\n      <td>0.0</td>\n      <td>330.0</td>\n      <td>NaN</td>\n      <td>No</td>\n      <td>No</td>\n      <td>Proyecto Social Jasayé</td>\n      <td>NaN</td>\n    </tr>\n    <tr>\n      <th>8</th>\n      <td>9.0</td>\n      <td>2022.0</td>\n      <td>2022-09-15 00:00:00</td>\n      <td>taller</td>\n      <td>presencial</td>\n      <td>PROYECTO SOCIAL JASAYÉ</td>\n      <td>1.0</td>\n      <td>Bolivia</td>\n      <td>Beni</td>\n      <td>Nacional</td>\n      <td>...</td>\n      <td>210</td>\n      <td>vivencia menstrual-ovulatoria</td>\n      <td>1.0</td>\n      <td>0.0</td>\n      <td>330.0</td>\n      <td>NaN</td>\n      <td>No</td>\n      <td>No</td>\n      <td>Proyecto Social Jasayé</td>\n      <td>NaN</td>\n    </tr>\n    <tr>\n      <th>9</th>\n      <td>10.0</td>\n      <td>2022.0</td>\n      <td>2022-06-24 00:00:00</td>\n      <td>taller</td>\n      <td>virtual</td>\n      <td>ESCUELITA VIRTUAL</td>\n      <td>1.0</td>\n      <td>Bolivia</td>\n      <td>El Alto</td>\n      <td>Nacional</td>\n      <td>...</td>\n      <td>210</td>\n      <td>historia de nuestra sexualidad y anatomia</td>\n      <td>1.0</td>\n      <td>0.0</td>\n      <td>330.0</td>\n      <td>NaN</td>\n      <td>No</td>\n      <td>No</td>\n      <td>NaN</td>\n      <td>NaN</td>\n    </tr>\n  </tbody>\n</table>\n<p>10 rows × 36 columns</p>\n</div>"
     },
     "execution_count": 11,
     "metadata": {},
     "output_type": "execute_result"
    }
   ],
   "source": [
    "df_yawar.head(10)"
   ],
   "metadata": {
    "collapsed": false,
    "ExecuteTime": {
     "end_time": "2024-04-16T20:15:53.655035700Z",
     "start_time": "2024-04-16T20:15:41.158279100Z"
    }
   },
   "id": "c2ad095faa9829f2"
  },
  {
   "cell_type": "markdown",
   "source": [
    "### Rename Columns"
   ],
   "metadata": {
    "collapsed": false
   },
   "id": "e5fc871fcd343a9d"
  },
  {
   "cell_type": "code",
   "execution_count": 226,
   "outputs": [],
   "source": [
    "#Make a copy of the dataset to work on it and keep the original.\n",
    "df_yawar_c=df_yawar.copy()"
   ],
   "metadata": {
    "collapsed": false,
    "ExecuteTime": {
     "end_time": "2024-04-16T20:44:09.252850100Z",
     "start_time": "2024-04-16T20:44:09.195611800Z"
    }
   },
   "id": "29e5f79e3451636e"
  },
  {
   "cell_type": "code",
   "execution_count": 227,
   "outputs": [
    {
     "data": {
      "text/plain": "       #     Año   FECHA (dd/mm/aaaa) TIPO ACTIVIDAD (taller, difusion)  \\\n1    2.0  2022.0  2022-04-09 00:00:00                            taller   \n6    7.0  2022.0  2022-09-08 00:00:00                            taller   \n65  65.0  2022.0  2022-03-21 00:00:00                           campaña   \n\n   FORMATO (presencial/virtual)                              ACTIVIDAD  \\\n1                    presencial              Taller: qué es ser joven?   \n6                    presencial                 PROYECTO SOCIAL JASAYÉ   \n65                      virtual  Alianza calzones menstruales con Aura   \n\n    CANTIDAD     PAIS  CIUDAD ALCANCE\\n(nal e internal)  ...  \\\n1        1.0  Bolivia  La Paz                    La Paz  ...   \n6        1.0  Bolivia    Beni                  Nacional  ...   \n65       1.0  Bolivia     NaN                  Nacional  ...   \n\n   DURACION EXPO + PREGUNTAS (MIN)                TEMATICA TALLER  \\\n1                              210              Qué es ser joven?   \n6                              210  vivencia menstrual-ovulatoria   \n65                             NaN                            NaN   \n\n   PERSONAS A CARGO (CAPACITADORAS, ETC) Nro. VOLUNTARIAS PRESENTES  \\\n1                                    2.0                        0.0   \n6                                    1.0                        0.0   \n65                                   NaN                        NaN   \n\n   TIEMPO DE PREPARACION Y CIERRE (MIN)  IMPACTO(ALTO, MEDIO , BAJO)  \\\n1                                 400.0                          NaN   \n6                                 330.0                          NaN   \n65                                  NaN                          NaN   \n\n   ENCUESTA SOBRE CONOCIMIENTO PREVIO DE MENSTRUACION (si/no)  \\\n1                                                  No           \n6                                                  No           \n65                                                NaN           \n\n   ENCUESTA POSTERIOR DE APRENDIZAJES  \\\n1                                  No   \n6                                  No   \n65                                NaN   \n\n   FINANCIADOR O ORG. ALIADA si hubiera existido  \\\n1                                             No   \n6                         Proyecto Social Jasayé   \n65                                           NaN   \n\n   DETALLES DE LA ACTIVIDAD (links, obs, etc.)  \n1                                          NaN  \n6                                          NaN  \n65                                         NaN  \n\n[3 rows x 36 columns]",
      "text/html": "<div>\n<style scoped>\n    .dataframe tbody tr th:only-of-type {\n        vertical-align: middle;\n    }\n\n    .dataframe tbody tr th {\n        vertical-align: top;\n    }\n\n    .dataframe thead th {\n        text-align: right;\n    }\n</style>\n<table border=\"1\" class=\"dataframe\">\n  <thead>\n    <tr style=\"text-align: right;\">\n      <th></th>\n      <th>#</th>\n      <th>Año</th>\n      <th>FECHA (dd/mm/aaaa)</th>\n      <th>TIPO ACTIVIDAD (taller, difusion)</th>\n      <th>FORMATO (presencial/virtual)</th>\n      <th>ACTIVIDAD</th>\n      <th>CANTIDAD</th>\n      <th>PAIS</th>\n      <th>CIUDAD</th>\n      <th>ALCANCE\\n(nal e internal)</th>\n      <th>...</th>\n      <th>DURACION EXPO + PREGUNTAS (MIN)</th>\n      <th>TEMATICA TALLER</th>\n      <th>PERSONAS A CARGO (CAPACITADORAS, ETC)</th>\n      <th>Nro. VOLUNTARIAS PRESENTES</th>\n      <th>TIEMPO DE PREPARACION Y CIERRE (MIN)</th>\n      <th>IMPACTO(ALTO, MEDIO , BAJO)</th>\n      <th>ENCUESTA SOBRE CONOCIMIENTO PREVIO DE MENSTRUACION (si/no)</th>\n      <th>ENCUESTA POSTERIOR DE APRENDIZAJES</th>\n      <th>FINANCIADOR O ORG. ALIADA si hubiera existido</th>\n      <th>DETALLES DE LA ACTIVIDAD (links, obs, etc.)</th>\n    </tr>\n  </thead>\n  <tbody>\n    <tr>\n      <th>1</th>\n      <td>2.0</td>\n      <td>2022.0</td>\n      <td>2022-04-09 00:00:00</td>\n      <td>taller</td>\n      <td>presencial</td>\n      <td>Taller: qué es ser joven?</td>\n      <td>1.0</td>\n      <td>Bolivia</td>\n      <td>La Paz</td>\n      <td>La Paz</td>\n      <td>...</td>\n      <td>210</td>\n      <td>Qué es ser joven?</td>\n      <td>2.0</td>\n      <td>0.0</td>\n      <td>400.0</td>\n      <td>NaN</td>\n      <td>No</td>\n      <td>No</td>\n      <td>No</td>\n      <td>NaN</td>\n    </tr>\n    <tr>\n      <th>6</th>\n      <td>7.0</td>\n      <td>2022.0</td>\n      <td>2022-09-08 00:00:00</td>\n      <td>taller</td>\n      <td>presencial</td>\n      <td>PROYECTO SOCIAL JASAYÉ</td>\n      <td>1.0</td>\n      <td>Bolivia</td>\n      <td>Beni</td>\n      <td>Nacional</td>\n      <td>...</td>\n      <td>210</td>\n      <td>vivencia menstrual-ovulatoria</td>\n      <td>1.0</td>\n      <td>0.0</td>\n      <td>330.0</td>\n      <td>NaN</td>\n      <td>No</td>\n      <td>No</td>\n      <td>Proyecto Social Jasayé</td>\n      <td>NaN</td>\n    </tr>\n    <tr>\n      <th>65</th>\n      <td>65.0</td>\n      <td>2022.0</td>\n      <td>2022-03-21 00:00:00</td>\n      <td>campaña</td>\n      <td>virtual</td>\n      <td>Alianza calzones menstruales con Aura</td>\n      <td>1.0</td>\n      <td>Bolivia</td>\n      <td>NaN</td>\n      <td>Nacional</td>\n      <td>...</td>\n      <td>NaN</td>\n      <td>NaN</td>\n      <td>NaN</td>\n      <td>NaN</td>\n      <td>NaN</td>\n      <td>NaN</td>\n      <td>NaN</td>\n      <td>NaN</td>\n      <td>NaN</td>\n      <td>NaN</td>\n    </tr>\n  </tbody>\n</table>\n<p>3 rows × 36 columns</p>\n</div>"
     },
     "execution_count": 227,
     "metadata": {},
     "output_type": "execute_result"
    }
   ],
   "source": [
    "df_yawar_c.sample(3)"
   ],
   "metadata": {
    "collapsed": false,
    "ExecuteTime": {
     "end_time": "2024-04-16T20:44:11.318177200Z",
     "start_time": "2024-04-16T20:44:11.288031Z"
    }
   },
   "id": "f57b55a7513b6060"
  },
  {
   "cell_type": "markdown",
   "source": [
    "#### Lowercase column names"
   ],
   "metadata": {
    "collapsed": false
   },
   "id": "a63a9916f37bbbfd"
  },
  {
   "cell_type": "code",
   "execution_count": 14,
   "outputs": [
    {
     "data": {
      "text/plain": "Index(['#', 'Año', 'FECHA (dd/mm/aaaa)', 'TIPO ACTIVIDAD (taller, difusion)',\n       'FORMATO (presencial/virtual)', 'ACTIVIDAD', 'CANTIDAD', 'PAIS',\n       'CIUDAD', 'ALCANCE\\n(nal e internal)', 'LOCALIDAD', 'LUGAR',\n       'TIPO DE AREA (RURAL/URBANA/PERIURBANA)',\n       'TIPO DE ESTABLECIMIENTO (GENERICO)', 'OBS',\n       'CANTIDAD DE PERSONAS ALCANZADAS', 'EDAD',\n       'TIPO POBLACION (mujeres, jovenes, niñas)', 'VULNERABILIDAD',\n       'DOTACIÓN INSUMOS', 'toallas desechables', 'copas menstruales',\n       'toallas reutilizables', 'calzones menstruales',\n       'Kits Insumos de Gestión Menstrual', 'Q'ipus menstruales',\n       'DURACION EXPO + PREGUNTAS (MIN)', 'TEMATICA TALLER',\n       'PERSONAS A CARGO (CAPACITADORAS, ETC)', 'Nro. VOLUNTARIAS PRESENTES',\n       'TIEMPO DE PREPARACION Y CIERRE (MIN)', 'IMPACTO(ALTO, MEDIO , BAJO)',\n       'ENCUESTA SOBRE CONOCIMIENTO PREVIO DE MENSTRUACION (si/no)',\n       'ENCUESTA POSTERIOR DE APRENDIZAJES',\n       'FINANCIADOR O ORG. ALIADA si hubiera existido',\n       'DETALLES DE LA ACTIVIDAD (links, obs, etc.)'],\n      dtype='object')"
     },
     "execution_count": 14,
     "metadata": {},
     "output_type": "execute_result"
    }
   ],
   "source": [
    "df_yawar_c.columns"
   ],
   "metadata": {
    "collapsed": false,
    "ExecuteTime": {
     "end_time": "2024-04-16T20:15:54.091437300Z",
     "start_time": "2024-04-16T20:15:41.223856900Z"
    }
   },
   "id": "52aa6c5c1e863344"
  },
  {
   "cell_type": "code",
   "execution_count": 228,
   "outputs": [],
   "source": [
    "#lower case all column names\n",
    "df_yawar_c.columns=df_yawar_c.columns.str.lower()"
   ],
   "metadata": {
    "collapsed": false,
    "ExecuteTime": {
     "end_time": "2024-04-16T20:44:16.302528900Z",
     "start_time": "2024-04-16T20:44:16.281677Z"
    }
   },
   "id": "1b2f497b3d4f18f4"
  },
  {
   "cell_type": "markdown",
   "source": [
    "#### Modify column names"
   ],
   "metadata": {
    "collapsed": false
   },
   "id": "10b754aa9633b406"
  },
  {
   "cell_type": "code",
   "execution_count": 229,
   "outputs": [],
   "source": [
    "#Delete spaces among words\n",
    "df_yawar_c.columns=df_yawar_c.columns.str.replace(' ','') "
   ],
   "metadata": {
    "collapsed": false,
    "ExecuteTime": {
     "end_time": "2024-04-16T20:44:19.932824800Z",
     "start_time": "2024-04-16T20:44:19.909878400Z"
    }
   },
   "id": "21687bf47d80c91e"
  },
  {
   "cell_type": "code",
   "execution_count": 230,
   "outputs": [],
   "source": [
    "df_yawar_c.rename(columns={'fecha(dd/mm/aaaa)':'fecha',\n",
    "                           'tipoactividad(taller,difusion)':'tipo_actividad',\n",
    "                           'formato(presencial/virtual)':'formato',\n",
    "                           'alcance\\n(naleinternal)':'alcance', \n",
    "                           'tipodearea(rural/urbana/periurbana)':'tipodearea',\n",
    "                           'tipodeestablecimiento(generico)':'tipodeestablecimiento', \n",
    "                           'cantidaddepersonasalcanzadas':'personasalcanzadas_cant', \n",
    "                           'tipopoblacion(mujeres,jovenes,niñas)':'poblacion',\n",
    "                           'kitsinsumosdegestiónmenstrual':'kit_insumos_gestiónmenstrual',\n",
    "                           \"q'ipusmenstruales\":'qipusmenstruales',\n",
    "                           'duracionexpo+preguntas(min)':'expo_duracion',\n",
    "                           'personasacargo(capacitadoras,etc)':'personal',\n",
    "                           'nro.voluntariaspresentes':'voluntarias', \n",
    "                           'tiempodepreparacionycierre(min)':'expo_tiempo_elabtaller',\n",
    "                           'impacto(alto,medio,bajo)':'impacto',\n",
    "                           'encuestasobreconocimientopreviodemenstruacion(si/no)':'encuesta_menstr',\n",
    "                           'encuestaposteriordeaprendizajes':'encuesta_post_aprendizajes',\n",
    "                           'financiadoroorg.aliadasihubieraexistido':'org_apoyo',\n",
    "                           'detallesdelaactividad(links,obs,etc.)': 'detalles_actividad'\n",
    "                                                                    \n",
    "}, inplace=True)"
   ],
   "metadata": {
    "collapsed": false,
    "ExecuteTime": {
     "end_time": "2024-04-16T20:44:26.029994700Z",
     "start_time": "2024-04-16T20:44:25.966092600Z"
    }
   },
   "id": "fa6db6d3bd7ec2f4"
  },
  {
   "cell_type": "code",
   "execution_count": 231,
   "outputs": [
    {
     "data": {
      "text/plain": "Index(['#', 'año', 'fecha', 'tipo_actividad', 'formato', 'actividad',\n       'cantidad', 'pais', 'ciudad', 'alcance', 'localidad', 'lugar',\n       'tipodearea', 'tipodeestablecimiento', 'obs', 'personasalcanzadas_cant',\n       'edad', 'poblacion', 'vulnerabilidad', 'dotacióninsumos',\n       'toallasdesechables', 'copasmenstruales', 'toallasreutilizables',\n       'calzonesmenstruales', 'kit_insumos_gestiónmenstrual',\n       'qipusmenstruales', 'expo_duracion', 'tematicataller', 'personal',\n       'voluntarias', 'expo_tiempo_elabtaller', 'impacto', 'encuesta_menstr',\n       'encuesta_post_aprendizajes', 'org_apoyo', 'detalles_actividad'],\n      dtype='object')"
     },
     "execution_count": 231,
     "metadata": {},
     "output_type": "execute_result"
    }
   ],
   "source": [
    "df_yawar_c.columns"
   ],
   "metadata": {
    "collapsed": false,
    "ExecuteTime": {
     "end_time": "2024-04-16T20:44:28.968886600Z",
     "start_time": "2024-04-16T20:44:28.939739100Z"
    }
   },
   "id": "93def2cc3468de06"
  },
  {
   "cell_type": "markdown",
   "source": [
    "### Check missing values"
   ],
   "metadata": {
    "collapsed": false
   },
   "id": "cfac707fd390975a"
  },
  {
   "cell_type": "code",
   "execution_count": 232,
   "outputs": [
    {
     "data": {
      "text/plain": "impacto                         100.00\ndetalles_actividad               82.14\nobs                              80.95\norg_apoyo                        47.62\npersonal                         46.43\nedad                             40.48\nencuesta_post_aprendizajes       40.48\nencuesta_menstr                  40.48\nqipusmenstruales                 40.48\nkit_insumos_gestiónmenstrual     40.48\ncalzonesmenstruales              40.48\ntoallasreutilizables             40.48\ncopasmenstruales                 40.48\ntoallasdesechables               40.48\ndotacióninsumos                  40.48\npoblacion                        40.48\nvulnerabilidad                   40.48\npersonasalcanzadas_cant          40.48\ntematicataller                   39.29\nexpo_duracion                    39.29\nexpo_tiempo_elabtaller           38.10\nvoluntarias                      36.90\nlocalidad                        29.76\nlugar                            28.57\ntipodeestablecimiento            27.38\ntipodearea                       25.00\nciudad                           15.48\naño                               3.57\nfecha                             3.57\nformato                           2.38\npais                              1.19\ncantidad                          1.19\n#                                 1.19\nalcance                           0.00\nactividad                         0.00\ntipo_actividad                    0.00\ndtype: float64"
     },
     "execution_count": 232,
     "metadata": {},
     "output_type": "execute_result"
    }
   ],
   "source": [
    "np.round((df_yawar_c.isna().sum()/df_yawar_c.shape[0]*100).sort_values(ascending=False),2)"
   ],
   "metadata": {
    "collapsed": false,
    "ExecuteTime": {
     "end_time": "2024-04-16T20:44:44.141448400Z",
     "start_time": "2024-04-16T20:44:44.070044600Z"
    }
   },
   "id": "d5e09b744b83c66a"
  },
  {
   "cell_type": "markdown",
   "source": [
    "Since 'impacto' column doesnt have any information, is better to delete that column."
   ],
   "metadata": {
    "collapsed": false
   },
   "id": "bf73f739c3d4c75"
  },
  {
   "cell_type": "code",
   "execution_count": 233,
   "outputs": [],
   "source": [
    "df_yawar_c.drop(columns=['impacto'],axis=1, inplace=True)"
   ],
   "metadata": {
    "collapsed": false,
    "ExecuteTime": {
     "end_time": "2024-04-16T20:44:47.566651900Z",
     "start_time": "2024-04-16T20:44:47.534441500Z"
    }
   },
   "id": "3e0a2e5f38e960bb"
  },
  {
   "cell_type": "markdown",
   "source": [
    "Since 'detallesactividad' is a column which contains only social media links, for this reason this column should be deleted.\n",
    "The same applies for 'obs' column.\n",
    "encuesta_post_aprendizajes, this field is placed in order to improve future data however doesnt been used yet, so its better to delete this column.  \n",
    "encuesta_menstr, this field is placed in order to improve future data however doesnt been used yet, so its better to delete this column.\n"
   ],
   "metadata": {
    "collapsed": false
   },
   "id": "7eed5faca6be42b8"
  },
  {
   "cell_type": "code",
   "execution_count": 234,
   "outputs": [],
   "source": [
    "df_yawar_c.drop(columns=['detalles_actividad','obs','encuesta_post_aprendizajes','encuesta_menstr'], axis=1, inplace=True)"
   ],
   "metadata": {
    "collapsed": false,
    "ExecuteTime": {
     "end_time": "2024-04-16T20:44:49.526330Z",
     "start_time": "2024-04-16T20:44:49.478509600Z"
    }
   },
   "id": "1515b4029ba56c1a"
  },
  {
   "cell_type": "markdown",
   "source": [
    "'org_apoyo' nan values refer to  missing not at random MNAR, so those values will be replaced by 'Ninguno' indicating that there hasn't been any foundraiser."
   ],
   "metadata": {
    "collapsed": false
   },
   "id": "abfd87d1484194"
  },
  {
   "cell_type": "code",
   "execution_count": 235,
   "outputs": [],
   "source": [
    "df_yawar_c.loc[df_yawar_c['org_apoyo'].isna(),'org_apoyo']='Ninguno'"
   ],
   "metadata": {
    "collapsed": false,
    "ExecuteTime": {
     "end_time": "2024-04-16T20:44:57.594571500Z",
     "start_time": "2024-04-16T20:44:57.559671600Z"
    }
   },
   "id": "7cdca4f29d48f820"
  },
  {
   "cell_type": "code",
   "execution_count": 236,
   "outputs": [
    {
     "data": {
      "text/plain": "0"
     },
     "execution_count": 236,
     "metadata": {},
     "output_type": "execute_result"
    }
   ],
   "source": [
    "df_yawar_c['org_apoyo'].isna().sum()"
   ],
   "metadata": {
    "collapsed": false,
    "ExecuteTime": {
     "end_time": "2024-04-16T20:44:59.370447900Z",
     "start_time": "2024-04-16T20:44:59.302839600Z"
    }
   },
   "id": "8af7486ab9b0ab0"
  },
  {
   "cell_type": "markdown",
   "source": [
    "'expo_personal' has nan values but if there has been a project registered of any class at least there should be 1 person in charge, so nan values will be changed to 1 by default."
   ],
   "metadata": {
    "collapsed": false
   },
   "id": "b511b93b85bc6358"
  },
  {
   "cell_type": "code",
   "execution_count": 238,
   "outputs": [],
   "source": [
    "df_yawar_c.loc[df_yawar_c['personal'].isna(),'personal']=1"
   ],
   "metadata": {
    "collapsed": false,
    "ExecuteTime": {
     "end_time": "2024-04-16T20:45:17.687993900Z",
     "start_time": "2024-04-16T20:45:17.590700Z"
    }
   },
   "id": "2eb359374ef971c7"
  },
  {
   "cell_type": "code",
   "execution_count": 239,
   "outputs": [
    {
     "data": {
      "text/plain": "0"
     },
     "execution_count": 239,
     "metadata": {},
     "output_type": "execute_result"
    }
   ],
   "source": [
    "df_yawar_c['personal'].isna().sum()"
   ],
   "metadata": {
    "collapsed": false,
    "ExecuteTime": {
     "end_time": "2024-04-16T20:45:19.093112Z",
     "start_time": "2024-04-16T20:45:19.036528Z"
    }
   },
   "id": "947a62efc291eae6"
  },
  {
   "cell_type": "markdown",
   "source": [
    "'edad', 'kit_insumos_gestiónmenstrual', 'calzonesmenstruales','toallasreutilizables','copasmenstruales', 'toallasdesechables',dotacióninsumos,vulnerabilidad, personasalcanzadas_cant, tematicataller, expo_tiempo_elabtaller, voluntarias, localidad, lugar, tipodeestablecimiento, tipodearea, ciudad, cantidad, expo_duracion nan values are present since those rows dont correspond to any workshop but to a difusion project, so there should be changed empy values for N/A, non applicable. \n"
   ],
   "metadata": {
    "collapsed": false
   },
   "id": "97f17a6a9bf85e93"
  },
  {
   "cell_type": "code",
   "execution_count": 240,
   "outputs": [],
   "source": [
    "df_yawar_c.loc[df_yawar_c['edad'].isna(),'edad']='N/A'"
   ],
   "metadata": {
    "collapsed": false,
    "ExecuteTime": {
     "end_time": "2024-04-16T20:45:24.042998500Z",
     "start_time": "2024-04-16T20:45:24.020335Z"
    }
   },
   "id": "faeb374521b2f286"
  },
  {
   "cell_type": "code",
   "execution_count": 241,
   "outputs": [
    {
     "data": {
      "text/plain": "0"
     },
     "execution_count": 241,
     "metadata": {},
     "output_type": "execute_result"
    }
   ],
   "source": [
    "df_yawar_c['edad'].isna().sum()"
   ],
   "metadata": {
    "collapsed": false,
    "ExecuteTime": {
     "end_time": "2024-04-16T20:45:26.010808500Z",
     "start_time": "2024-04-16T20:45:25.734744800Z"
    }
   },
   "id": "f1d8da744661ecf8"
  },
  {
   "cell_type": "code",
   "execution_count": 242,
   "outputs": [],
   "source": [
    "df_yawar_c.loc[df_yawar_c['kit_insumos_gestiónmenstrual'].isna(),'kit_insumos_gestiónmenstrual']=0 "
   ],
   "metadata": {
    "collapsed": false,
    "ExecuteTime": {
     "end_time": "2024-04-16T20:45:28.481502Z",
     "start_time": "2024-04-16T20:45:28.448321600Z"
    }
   },
   "id": "bed2e90f6cf81f6d"
  },
  {
   "cell_type": "code",
   "execution_count": 243,
   "outputs": [
    {
     "data": {
      "text/plain": "0"
     },
     "execution_count": 243,
     "metadata": {},
     "output_type": "execute_result"
    }
   ],
   "source": [
    "df_yawar_c['kit_insumos_gestiónmenstrual'].isna().sum()"
   ],
   "metadata": {
    "collapsed": false,
    "ExecuteTime": {
     "end_time": "2024-04-16T20:45:30.993003100Z",
     "start_time": "2024-04-16T20:45:30.946640400Z"
    }
   },
   "id": "acec35bde84cb292"
  },
  {
   "cell_type": "code",
   "execution_count": 244,
   "outputs": [
    {
     "data": {
      "text/plain": "0"
     },
     "execution_count": 244,
     "metadata": {},
     "output_type": "execute_result"
    }
   ],
   "source": [
    "df_yawar_c.loc[df_yawar_c['qipusmenstruales'].isna(),'qipusmenstruales']=0\n",
    "df_yawar_c['qipusmenstruales'].isna().sum()"
   ],
   "metadata": {
    "collapsed": false,
    "ExecuteTime": {
     "end_time": "2024-04-16T20:45:32.576527700Z",
     "start_time": "2024-04-16T20:45:32.478112400Z"
    }
   },
   "id": "6710b507fad0a890"
  },
  {
   "cell_type": "code",
   "execution_count": 245,
   "outputs": [],
   "source": [
    "df_yawar_c.loc[df_yawar_c['calzonesmenstruales'].isna(),'calzonesmenstruales']=0\n",
    "df_yawar_c.loc[df_yawar_c['toallasreutilizables'].isna(),'toallasreutilizables']=0\n",
    "df_yawar_c.loc[df_yawar_c['copasmenstruales'].isna(),'copasmenstruales']=0\n",
    "df_yawar_c.loc[df_yawar_c['toallasdesechables'].isna(),'toallasdesechables']=0\n",
    "df_yawar_c.loc[df_yawar_c['dotacióninsumos'].isna(),'dotacióninsumos']='N/A'\n",
    "df_yawar_c.loc[df_yawar_c['vulnerabilidad'].isna(),'vulnerabilidad']='N/A'\n",
    "df_yawar_c.loc[df_yawar_c['personasalcanzadas_cant'].isna(),'personasalcanzadas_cant']=0\n",
    "df_yawar_c.loc[df_yawar_c['tematicataller'].isna(),'tematicataller']='N/A'\n",
    "df_yawar_c.loc[df_yawar_c['expo_tiempo_elabtaller'].isna(),'expo_tiempo_elabtaller']=0\n",
    "df_yawar_c.loc[df_yawar_c['voluntarias'].isna(),'voluntarias']=0\n",
    "df_yawar_c.loc[df_yawar_c['localidad'].isna(),'localidad']='N/A'\n",
    "df_yawar_c.loc[df_yawar_c['lugar'].isna(),'lugar']='N/A'\n",
    "df_yawar_c.loc[df_yawar_c['ciudad'].isna(),'ciudad']='N/A'\n",
    "df_yawar_c.loc[df_yawar_c['cantidad'].isna(),'cantidad']=0\n",
    "df_yawar_c.loc[df_yawar_c['expo_duracion'].isna(),'expo_duracion']=0"
   ],
   "metadata": {
    "collapsed": false,
    "ExecuteTime": {
     "end_time": "2024-04-16T20:45:36.293859700Z",
     "start_time": "2024-04-16T20:45:36.256984100Z"
    }
   },
   "id": "7abf14873d001e9b"
  },
  {
   "cell_type": "code",
   "execution_count": 246,
   "outputs": [
    {
     "data": {
      "text/plain": "       #  año fecha           tipo_actividad  formato           actividad  \\\n67  67.0  NaN   NaN  difusion redes sociales  virtual               artes   \n72  72.0  NaN   NaN  difusion redes sociales  virtual               reels   \n73  73.0  NaN   NaN  difusion redes sociales  virtual  posts en instagram   \n\n    cantidad     pais ciudad        alcance  ... toallasreutilizables  \\\n67      46.0  Bolivia    N/A       Nacional  ...                    0   \n72      36.0  Bolivia    N/A  Internacional  ...                    0   \n73     116.0  Bolivia    N/A  Internacional  ...                    0   \n\n   calzonesmenstruales kit_insumos_gestiónmenstrual qipusmenstruales  \\\n67                   0                            0                0   \n72                   0                            0                0   \n73                   0                            0                0   \n\n    expo_duracion tematicataller personal voluntarias expo_tiempo_elabtaller  \\\n67      no aplica      no aplica      1.0         0.0                    0.0   \n72              0            N/A      1.0         0.0                    0.0   \n73              0            N/A      1.0         0.0                    0.0   \n\n   org_apoyo  \n67   Ninguno  \n72   Ninguno  \n73   Ninguno  \n\n[3 rows x 31 columns]",
      "text/html": "<div>\n<style scoped>\n    .dataframe tbody tr th:only-of-type {\n        vertical-align: middle;\n    }\n\n    .dataframe tbody tr th {\n        vertical-align: top;\n    }\n\n    .dataframe thead th {\n        text-align: right;\n    }\n</style>\n<table border=\"1\" class=\"dataframe\">\n  <thead>\n    <tr style=\"text-align: right;\">\n      <th></th>\n      <th>#</th>\n      <th>año</th>\n      <th>fecha</th>\n      <th>tipo_actividad</th>\n      <th>formato</th>\n      <th>actividad</th>\n      <th>cantidad</th>\n      <th>pais</th>\n      <th>ciudad</th>\n      <th>alcance</th>\n      <th>...</th>\n      <th>toallasreutilizables</th>\n      <th>calzonesmenstruales</th>\n      <th>kit_insumos_gestiónmenstrual</th>\n      <th>qipusmenstruales</th>\n      <th>expo_duracion</th>\n      <th>tematicataller</th>\n      <th>personal</th>\n      <th>voluntarias</th>\n      <th>expo_tiempo_elabtaller</th>\n      <th>org_apoyo</th>\n    </tr>\n  </thead>\n  <tbody>\n    <tr>\n      <th>67</th>\n      <td>67.0</td>\n      <td>NaN</td>\n      <td>NaN</td>\n      <td>difusion redes sociales</td>\n      <td>virtual</td>\n      <td>artes</td>\n      <td>46.0</td>\n      <td>Bolivia</td>\n      <td>N/A</td>\n      <td>Nacional</td>\n      <td>...</td>\n      <td>0</td>\n      <td>0</td>\n      <td>0</td>\n      <td>0</td>\n      <td>no aplica</td>\n      <td>no aplica</td>\n      <td>1.0</td>\n      <td>0.0</td>\n      <td>0.0</td>\n      <td>Ninguno</td>\n    </tr>\n    <tr>\n      <th>72</th>\n      <td>72.0</td>\n      <td>NaN</td>\n      <td>NaN</td>\n      <td>difusion redes sociales</td>\n      <td>virtual</td>\n      <td>reels</td>\n      <td>36.0</td>\n      <td>Bolivia</td>\n      <td>N/A</td>\n      <td>Internacional</td>\n      <td>...</td>\n      <td>0</td>\n      <td>0</td>\n      <td>0</td>\n      <td>0</td>\n      <td>0</td>\n      <td>N/A</td>\n      <td>1.0</td>\n      <td>0.0</td>\n      <td>0.0</td>\n      <td>Ninguno</td>\n    </tr>\n    <tr>\n      <th>73</th>\n      <td>73.0</td>\n      <td>NaN</td>\n      <td>NaN</td>\n      <td>difusion redes sociales</td>\n      <td>virtual</td>\n      <td>posts en instagram</td>\n      <td>116.0</td>\n      <td>Bolivia</td>\n      <td>N/A</td>\n      <td>Internacional</td>\n      <td>...</td>\n      <td>0</td>\n      <td>0</td>\n      <td>0</td>\n      <td>0</td>\n      <td>0</td>\n      <td>N/A</td>\n      <td>1.0</td>\n      <td>0.0</td>\n      <td>0.0</td>\n      <td>Ninguno</td>\n    </tr>\n  </tbody>\n</table>\n<p>3 rows × 31 columns</p>\n</div>"
     },
     "execution_count": 246,
     "metadata": {},
     "output_type": "execute_result"
    }
   ],
   "source": [
    "df_yawar_c[df_yawar_c['año'].isna()]"
   ],
   "metadata": {
    "collapsed": false,
    "ExecuteTime": {
     "end_time": "2024-04-16T20:45:39.166494900Z",
     "start_time": "2024-04-16T20:45:38.969448800Z"
    }
   },
   "id": "cba35f2fea2b2d96"
  },
  {
   "cell_type": "code",
   "execution_count": 247,
   "outputs": [
    {
     "data": {
      "text/plain": "65    2022.0\n66    2021.0\n67       NaN\n68    2021.0\n69    2022.0\n70    2022.0\n71    2022.0\n72       NaN\n73       NaN\n74    2022.0\nName: año, dtype: float64"
     },
     "execution_count": 247,
     "metadata": {},
     "output_type": "execute_result"
    }
   ],
   "source": [
    "df_yawar_c.loc[65:74,'año']"
   ],
   "metadata": {
    "collapsed": false,
    "ExecuteTime": {
     "end_time": "2024-04-16T20:45:49.908267600Z",
     "start_time": "2024-04-16T20:45:49.881073800Z"
    }
   },
   "id": "bf45eb10d8856ea0"
  },
  {
   "cell_type": "markdown",
   "source": [
    "año column whenever has a NaN value will be filled with its predecessor. "
   ],
   "metadata": {
    "collapsed": false
   },
   "id": "870712a2945e45b3"
  },
  {
   "cell_type": "code",
   "execution_count": 248,
   "outputs": [
    {
     "name": "stderr",
     "output_type": "stream",
     "text": [
      "C:\\Users\\luzna\\AppData\\Local\\Temp\\ipykernel_34296\\1717047330.py:1: FutureWarning: A value is trying to be set on a copy of a DataFrame or Series through chained assignment using an inplace method.\n",
      "The behavior will change in pandas 3.0. This inplace method will never work because the intermediate object on which we are setting values always behaves as a copy.\n",
      "\n",
      "For example, when doing 'df[col].method(value, inplace=True)', try using 'df.method({col: value}, inplace=True)' or df[col] = df[col].method(value) instead, to perform the operation inplace on the original object.\n",
      "\n",
      "\n",
      "  df_yawar_c['año'].fillna(method='ffill', inplace=True)\n",
      "C:\\Users\\luzna\\AppData\\Local\\Temp\\ipykernel_34296\\1717047330.py:1: FutureWarning: Series.fillna with 'method' is deprecated and will raise in a future version. Use obj.ffill() or obj.bfill() instead.\n",
      "  df_yawar_c['año'].fillna(method='ffill', inplace=True)\n"
     ]
    }
   ],
   "source": [
    "df_yawar_c['año'].fillna(method='ffill', inplace=True)"
   ],
   "metadata": {
    "collapsed": false,
    "ExecuteTime": {
     "end_time": "2024-04-16T20:46:07.935934900Z",
     "start_time": "2024-04-16T20:46:07.913061800Z"
    }
   },
   "id": "b202316ac76af2e8"
  },
  {
   "cell_type": "code",
   "execution_count": 249,
   "outputs": [
    {
     "data": {
      "text/plain": "0"
     },
     "execution_count": 249,
     "metadata": {},
     "output_type": "execute_result"
    }
   ],
   "source": [
    "df_yawar_c['año'].isna().sum()"
   ],
   "metadata": {
    "collapsed": false,
    "ExecuteTime": {
     "end_time": "2024-04-16T20:46:11.513201400Z",
     "start_time": "2024-04-16T20:46:11.471381300Z"
    }
   },
   "id": "687fcaad1335f5b"
  },
  {
   "cell_type": "code",
   "execution_count": 250,
   "outputs": [
    {
     "data": {
      "text/plain": "       #     año  fecha tipo_actividad  formato  \\\n66  66.0  2021.0  12-21        campaña  virtual   \n\n                                            actividad  cantidad pais  \\\n66  Campaña navideña de descuentos en alianza con ...       0.0  NaN   \n\n                  ciudad        alcance  ... toallasreutilizables  \\\n66  Bolivia y Nueva York  Internacional  ...                    0   \n\n   calzonesmenstruales kit_insumos_gestiónmenstrual qipusmenstruales  \\\n66                   0                            0                0   \n\n    expo_duracion tematicataller personal voluntarias expo_tiempo_elabtaller  \\\n66              0            N/A      1.0         0.0                    0.0   \n\n   org_apoyo  \n66   Ninguno  \n\n[1 rows x 31 columns]",
      "text/html": "<div>\n<style scoped>\n    .dataframe tbody tr th:only-of-type {\n        vertical-align: middle;\n    }\n\n    .dataframe tbody tr th {\n        vertical-align: top;\n    }\n\n    .dataframe thead th {\n        text-align: right;\n    }\n</style>\n<table border=\"1\" class=\"dataframe\">\n  <thead>\n    <tr style=\"text-align: right;\">\n      <th></th>\n      <th>#</th>\n      <th>año</th>\n      <th>fecha</th>\n      <th>tipo_actividad</th>\n      <th>formato</th>\n      <th>actividad</th>\n      <th>cantidad</th>\n      <th>pais</th>\n      <th>ciudad</th>\n      <th>alcance</th>\n      <th>...</th>\n      <th>toallasreutilizables</th>\n      <th>calzonesmenstruales</th>\n      <th>kit_insumos_gestiónmenstrual</th>\n      <th>qipusmenstruales</th>\n      <th>expo_duracion</th>\n      <th>tematicataller</th>\n      <th>personal</th>\n      <th>voluntarias</th>\n      <th>expo_tiempo_elabtaller</th>\n      <th>org_apoyo</th>\n    </tr>\n  </thead>\n  <tbody>\n    <tr>\n      <th>66</th>\n      <td>66.0</td>\n      <td>2021.0</td>\n      <td>12-21</td>\n      <td>campaña</td>\n      <td>virtual</td>\n      <td>Campaña navideña de descuentos en alianza con ...</td>\n      <td>0.0</td>\n      <td>NaN</td>\n      <td>Bolivia y Nueva York</td>\n      <td>Internacional</td>\n      <td>...</td>\n      <td>0</td>\n      <td>0</td>\n      <td>0</td>\n      <td>0</td>\n      <td>0</td>\n      <td>N/A</td>\n      <td>1.0</td>\n      <td>0.0</td>\n      <td>0.0</td>\n      <td>Ninguno</td>\n    </tr>\n  </tbody>\n</table>\n<p>1 rows × 31 columns</p>\n</div>"
     },
     "execution_count": 250,
     "metadata": {},
     "output_type": "execute_result"
    }
   ],
   "source": [
    "#########**************\n",
    "df_yawar_c[df_yawar_c['pais'].isna()]"
   ],
   "metadata": {
    "collapsed": false,
    "ExecuteTime": {
     "end_time": "2024-04-16T20:46:35.610448600Z",
     "start_time": "2024-04-16T20:46:35.559608100Z"
    }
   },
   "id": "c65354662d4386f5"
  },
  {
   "cell_type": "code",
   "execution_count": 252,
   "outputs": [],
   "source": [
    "df_yawar_c.loc[df_yawar_c['pais'].isna(),'pais']='Estados Unidos'"
   ],
   "metadata": {
    "collapsed": false,
    "ExecuteTime": {
     "end_time": "2024-04-16T20:47:59.689354900Z",
     "start_time": "2024-04-16T20:47:59.590633900Z"
    }
   },
   "id": "201a805ba4b54630"
  },
  {
   "cell_type": "code",
   "execution_count": 258,
   "outputs": [
    {
     "data": {
      "text/plain": "       #     año                fecha           tipo_actividad     formato  \\\n0    1.0  2022.0  2022-03-10 00:00:00                   taller  presencial   \n1    2.0  2022.0  2022-04-09 00:00:00                   taller  presencial   \n2    3.0  2022.0  2022-07-07 00:00:00                   taller  presencial   \n3    4.0  2022.0  2022-07-08 00:00:00                   taller  presencial   \n4    5.0  2022.0  2022-07-09 00:00:00                   taller  presencial   \n..   ...     ...                  ...                      ...         ...   \n65  65.0  2022.0  2022-03-21 00:00:00                  campaña     virtual   \n66  66.0  2021.0                12-21                  campaña     virtual   \n67  67.0  2021.0                  NaN  difusion redes sociales     virtual   \n68  68.0  2021.0  2021-11-11 00:00:00  difusion redes sociales     virtual   \n69  69.0  2022.0  2022-10-06 00:00:00  difusion redes sociales     virtual   \n\n                                            actividad  cantidad  \\\n0                           1er encuentro voluntarias       1.0   \n1                           Taller: qué es ser joven?       1.0   \n2                                        ALTO ALDEAS        1.0   \n3                                        ALTO ALDEAS        1.0   \n4                                         ALTO MAPAKI       1.0   \n..                                                ...       ...   \n65              Alianza calzones menstruales con Aura       1.0   \n66  Campaña navideña de descuentos en alianza con ...       0.0   \n67                                              artes      46.0   \n68                                       Videopitch 1       1.0   \n69                                       Videopitch 2       1.0   \n\n              pais                ciudad        alcance  ...  \\\n0          Bolivia               El Alto       Nacional  ...   \n1          Bolivia                La Paz         La Paz  ...   \n2          Bolivia               El Alto       Nacional  ...   \n3          Bolivia               El Alto       Nacional  ...   \n4          Bolivia               El Alto       Nacional  ...   \n..             ...                   ...            ...  ...   \n65         Bolivia                   N/A       Nacional  ...   \n66  Estados Unidos  Bolivia y Nueva York  Internacional  ...   \n67         Bolivia                   N/A       Nacional  ...   \n68         Bolivia               El Alto  Internacional  ...   \n69         Bolivia                 Sucre       Nacional  ...   \n\n   toallasreutilizables calzonesmenstruales kit_insumos_gestiónmenstrual  \\\n0                    No                  No                           No   \n1                    No                  No                           No   \n2                    No                  No                           20   \n3                    No                   1                           17   \n4                    No                  No                           No   \n..                  ...                 ...                          ...   \n65                    0                   0                            0   \n66                    0                   0                            0   \n67                    0                   0                            0   \n68                    0                   0                            0   \n69                    0                   0                            0   \n\n   qipusmenstruales  expo_duracion                             tematicataller  \\\n0                No            210  historia de nuestra sexualidad y anatomia   \n1                No            210                          Qué es ser joven?   \n2                No            210              vivencia menstrual-ovulatoria   \n3                No            210              vivencia menstrual-ovulatoria   \n4                No            210              vivencia menstrual-ovulatoria   \n..              ...            ...                                        ...   \n65                0              0                                        N/A   \n66                0              0                                        N/A   \n67                0      no aplica                                  no aplica   \n68                0              0                                        N/A   \n69                0              0                                        N/A   \n\n   personal voluntarias expo_tiempo_elabtaller       org_apoyo  \n0       1.0         0.0                  480.0              No  \n1       2.0         0.0                  400.0              No  \n2       1.0         5.0                  480.0  Aptapi Jopueti  \n3       1.0         5.0                  480.0  Aptapi Jopueti  \n4       1.0         3.0                  480.0  Aptapi Jopueti  \n..      ...         ...                    ...             ...  \n65      1.0         0.0                    0.0         Ninguno  \n66      1.0         0.0                    0.0         Ninguno  \n67      1.0         0.0                    0.0         Ninguno  \n68      1.0         0.0                    0.0         Ninguno  \n69      1.0         0.0                    0.0         Ninguno  \n\n[70 rows x 31 columns]",
      "text/html": "<div>\n<style scoped>\n    .dataframe tbody tr th:only-of-type {\n        vertical-align: middle;\n    }\n\n    .dataframe tbody tr th {\n        vertical-align: top;\n    }\n\n    .dataframe thead th {\n        text-align: right;\n    }\n</style>\n<table border=\"1\" class=\"dataframe\">\n  <thead>\n    <tr style=\"text-align: right;\">\n      <th></th>\n      <th>#</th>\n      <th>año</th>\n      <th>fecha</th>\n      <th>tipo_actividad</th>\n      <th>formato</th>\n      <th>actividad</th>\n      <th>cantidad</th>\n      <th>pais</th>\n      <th>ciudad</th>\n      <th>alcance</th>\n      <th>...</th>\n      <th>toallasreutilizables</th>\n      <th>calzonesmenstruales</th>\n      <th>kit_insumos_gestiónmenstrual</th>\n      <th>qipusmenstruales</th>\n      <th>expo_duracion</th>\n      <th>tematicataller</th>\n      <th>personal</th>\n      <th>voluntarias</th>\n      <th>expo_tiempo_elabtaller</th>\n      <th>org_apoyo</th>\n    </tr>\n  </thead>\n  <tbody>\n    <tr>\n      <th>0</th>\n      <td>1.0</td>\n      <td>2022.0</td>\n      <td>2022-03-10 00:00:00</td>\n      <td>taller</td>\n      <td>presencial</td>\n      <td>1er encuentro voluntarias</td>\n      <td>1.0</td>\n      <td>Bolivia</td>\n      <td>El Alto</td>\n      <td>Nacional</td>\n      <td>...</td>\n      <td>No</td>\n      <td>No</td>\n      <td>No</td>\n      <td>No</td>\n      <td>210</td>\n      <td>historia de nuestra sexualidad y anatomia</td>\n      <td>1.0</td>\n      <td>0.0</td>\n      <td>480.0</td>\n      <td>No</td>\n    </tr>\n    <tr>\n      <th>1</th>\n      <td>2.0</td>\n      <td>2022.0</td>\n      <td>2022-04-09 00:00:00</td>\n      <td>taller</td>\n      <td>presencial</td>\n      <td>Taller: qué es ser joven?</td>\n      <td>1.0</td>\n      <td>Bolivia</td>\n      <td>La Paz</td>\n      <td>La Paz</td>\n      <td>...</td>\n      <td>No</td>\n      <td>No</td>\n      <td>No</td>\n      <td>No</td>\n      <td>210</td>\n      <td>Qué es ser joven?</td>\n      <td>2.0</td>\n      <td>0.0</td>\n      <td>400.0</td>\n      <td>No</td>\n    </tr>\n    <tr>\n      <th>2</th>\n      <td>3.0</td>\n      <td>2022.0</td>\n      <td>2022-07-07 00:00:00</td>\n      <td>taller</td>\n      <td>presencial</td>\n      <td>ALTO ALDEAS</td>\n      <td>1.0</td>\n      <td>Bolivia</td>\n      <td>El Alto</td>\n      <td>Nacional</td>\n      <td>...</td>\n      <td>No</td>\n      <td>No</td>\n      <td>20</td>\n      <td>No</td>\n      <td>210</td>\n      <td>vivencia menstrual-ovulatoria</td>\n      <td>1.0</td>\n      <td>5.0</td>\n      <td>480.0</td>\n      <td>Aptapi Jopueti</td>\n    </tr>\n    <tr>\n      <th>3</th>\n      <td>4.0</td>\n      <td>2022.0</td>\n      <td>2022-07-08 00:00:00</td>\n      <td>taller</td>\n      <td>presencial</td>\n      <td>ALTO ALDEAS</td>\n      <td>1.0</td>\n      <td>Bolivia</td>\n      <td>El Alto</td>\n      <td>Nacional</td>\n      <td>...</td>\n      <td>No</td>\n      <td>1</td>\n      <td>17</td>\n      <td>No</td>\n      <td>210</td>\n      <td>vivencia menstrual-ovulatoria</td>\n      <td>1.0</td>\n      <td>5.0</td>\n      <td>480.0</td>\n      <td>Aptapi Jopueti</td>\n    </tr>\n    <tr>\n      <th>4</th>\n      <td>5.0</td>\n      <td>2022.0</td>\n      <td>2022-07-09 00:00:00</td>\n      <td>taller</td>\n      <td>presencial</td>\n      <td>ALTO MAPAKI</td>\n      <td>1.0</td>\n      <td>Bolivia</td>\n      <td>El Alto</td>\n      <td>Nacional</td>\n      <td>...</td>\n      <td>No</td>\n      <td>No</td>\n      <td>No</td>\n      <td>No</td>\n      <td>210</td>\n      <td>vivencia menstrual-ovulatoria</td>\n      <td>1.0</td>\n      <td>3.0</td>\n      <td>480.0</td>\n      <td>Aptapi Jopueti</td>\n    </tr>\n    <tr>\n      <th>...</th>\n      <td>...</td>\n      <td>...</td>\n      <td>...</td>\n      <td>...</td>\n      <td>...</td>\n      <td>...</td>\n      <td>...</td>\n      <td>...</td>\n      <td>...</td>\n      <td>...</td>\n      <td>...</td>\n      <td>...</td>\n      <td>...</td>\n      <td>...</td>\n      <td>...</td>\n      <td>...</td>\n      <td>...</td>\n      <td>...</td>\n      <td>...</td>\n      <td>...</td>\n      <td>...</td>\n    </tr>\n    <tr>\n      <th>65</th>\n      <td>65.0</td>\n      <td>2022.0</td>\n      <td>2022-03-21 00:00:00</td>\n      <td>campaña</td>\n      <td>virtual</td>\n      <td>Alianza calzones menstruales con Aura</td>\n      <td>1.0</td>\n      <td>Bolivia</td>\n      <td>N/A</td>\n      <td>Nacional</td>\n      <td>...</td>\n      <td>0</td>\n      <td>0</td>\n      <td>0</td>\n      <td>0</td>\n      <td>0</td>\n      <td>N/A</td>\n      <td>1.0</td>\n      <td>0.0</td>\n      <td>0.0</td>\n      <td>Ninguno</td>\n    </tr>\n    <tr>\n      <th>66</th>\n      <td>66.0</td>\n      <td>2021.0</td>\n      <td>12-21</td>\n      <td>campaña</td>\n      <td>virtual</td>\n      <td>Campaña navideña de descuentos en alianza con ...</td>\n      <td>0.0</td>\n      <td>Estados Unidos</td>\n      <td>Bolivia y Nueva York</td>\n      <td>Internacional</td>\n      <td>...</td>\n      <td>0</td>\n      <td>0</td>\n      <td>0</td>\n      <td>0</td>\n      <td>0</td>\n      <td>N/A</td>\n      <td>1.0</td>\n      <td>0.0</td>\n      <td>0.0</td>\n      <td>Ninguno</td>\n    </tr>\n    <tr>\n      <th>67</th>\n      <td>67.0</td>\n      <td>2021.0</td>\n      <td>NaN</td>\n      <td>difusion redes sociales</td>\n      <td>virtual</td>\n      <td>artes</td>\n      <td>46.0</td>\n      <td>Bolivia</td>\n      <td>N/A</td>\n      <td>Nacional</td>\n      <td>...</td>\n      <td>0</td>\n      <td>0</td>\n      <td>0</td>\n      <td>0</td>\n      <td>no aplica</td>\n      <td>no aplica</td>\n      <td>1.0</td>\n      <td>0.0</td>\n      <td>0.0</td>\n      <td>Ninguno</td>\n    </tr>\n    <tr>\n      <th>68</th>\n      <td>68.0</td>\n      <td>2021.0</td>\n      <td>2021-11-11 00:00:00</td>\n      <td>difusion redes sociales</td>\n      <td>virtual</td>\n      <td>Videopitch 1</td>\n      <td>1.0</td>\n      <td>Bolivia</td>\n      <td>El Alto</td>\n      <td>Internacional</td>\n      <td>...</td>\n      <td>0</td>\n      <td>0</td>\n      <td>0</td>\n      <td>0</td>\n      <td>0</td>\n      <td>N/A</td>\n      <td>1.0</td>\n      <td>0.0</td>\n      <td>0.0</td>\n      <td>Ninguno</td>\n    </tr>\n    <tr>\n      <th>69</th>\n      <td>69.0</td>\n      <td>2022.0</td>\n      <td>2022-10-06 00:00:00</td>\n      <td>difusion redes sociales</td>\n      <td>virtual</td>\n      <td>Videopitch 2</td>\n      <td>1.0</td>\n      <td>Bolivia</td>\n      <td>Sucre</td>\n      <td>Nacional</td>\n      <td>...</td>\n      <td>0</td>\n      <td>0</td>\n      <td>0</td>\n      <td>0</td>\n      <td>0</td>\n      <td>N/A</td>\n      <td>1.0</td>\n      <td>0.0</td>\n      <td>0.0</td>\n      <td>Ninguno</td>\n    </tr>\n  </tbody>\n</table>\n<p>70 rows × 31 columns</p>\n</div>"
     },
     "execution_count": 258,
     "metadata": {},
     "output_type": "execute_result"
    }
   ],
   "source": [
    "df_yawar_c.head(70)"
   ],
   "metadata": {
    "collapsed": false,
    "ExecuteTime": {
     "end_time": "2024-04-16T20:49:39.783823100Z",
     "start_time": "2024-04-16T20:49:39.697225900Z"
    }
   },
   "id": "c7da9912397cfc92"
  },
  {
   "cell_type": "code",
   "execution_count": 38,
   "outputs": [],
   "source": [
    "#df_yawar_c.loc[65,'pais']='Estados Unidos'\n",
    "#df_yawar_c.loc[66,'pais']='Bolivia'"
   ],
   "metadata": {
    "collapsed": false,
    "ExecuteTime": {
     "end_time": "2024-04-16T20:15:54.107534500Z",
     "start_time": "2024-04-16T20:15:41.540670100Z"
    }
   },
   "id": "7649d67860be00f3"
  },
  {
   "cell_type": "code",
   "execution_count": 259,
   "outputs": [
    {
     "data": {
      "text/plain": "2"
     },
     "execution_count": 259,
     "metadata": {},
     "output_type": "execute_result"
    }
   ],
   "source": [
    "df_yawar_c['formato'].isna().sum()"
   ],
   "metadata": {
    "collapsed": false,
    "ExecuteTime": {
     "end_time": "2024-04-16T20:51:06.941718400Z",
     "start_time": "2024-04-16T20:51:06.891368700Z"
    }
   },
   "id": "e583d7e57d87efc0"
  },
  {
   "cell_type": "code",
   "execution_count": 260,
   "outputs": [
    {
     "data": {
      "text/plain": "       #     año                fecha          tipo_actividad formato  \\\n77  77.0  2022.0  2022-08-06 00:00:00  medios de comunicacion     NaN   \n78  78.0  2022.0  2022-06-16 00:00:00  medios de comunicacion     NaN   \n\n         actividad  cantidad     pais ciudad   alcance  ...  \\\n77  Correo del Sur       1.0  Bolivia    N/A  Nacional  ...   \n78    Revista Ekos       1.0  Bolivia    N/A  Nacional  ...   \n\n   toallasreutilizables calzonesmenstruales kit_insumos_gestiónmenstrual  \\\n77                    0                   0                            0   \n78                    0                   0                            0   \n\n   qipusmenstruales  expo_duracion tematicataller personal voluntarias  \\\n77                0              0            N/A      1.0         0.0   \n78                0              0            N/A      1.0         0.0   \n\n   expo_tiempo_elabtaller org_apoyo  \n77                    0.0   Ninguno  \n78                    0.0   Ninguno  \n\n[2 rows x 31 columns]",
      "text/html": "<div>\n<style scoped>\n    .dataframe tbody tr th:only-of-type {\n        vertical-align: middle;\n    }\n\n    .dataframe tbody tr th {\n        vertical-align: top;\n    }\n\n    .dataframe thead th {\n        text-align: right;\n    }\n</style>\n<table border=\"1\" class=\"dataframe\">\n  <thead>\n    <tr style=\"text-align: right;\">\n      <th></th>\n      <th>#</th>\n      <th>año</th>\n      <th>fecha</th>\n      <th>tipo_actividad</th>\n      <th>formato</th>\n      <th>actividad</th>\n      <th>cantidad</th>\n      <th>pais</th>\n      <th>ciudad</th>\n      <th>alcance</th>\n      <th>...</th>\n      <th>toallasreutilizables</th>\n      <th>calzonesmenstruales</th>\n      <th>kit_insumos_gestiónmenstrual</th>\n      <th>qipusmenstruales</th>\n      <th>expo_duracion</th>\n      <th>tematicataller</th>\n      <th>personal</th>\n      <th>voluntarias</th>\n      <th>expo_tiempo_elabtaller</th>\n      <th>org_apoyo</th>\n    </tr>\n  </thead>\n  <tbody>\n    <tr>\n      <th>77</th>\n      <td>77.0</td>\n      <td>2022.0</td>\n      <td>2022-08-06 00:00:00</td>\n      <td>medios de comunicacion</td>\n      <td>NaN</td>\n      <td>Correo del Sur</td>\n      <td>1.0</td>\n      <td>Bolivia</td>\n      <td>N/A</td>\n      <td>Nacional</td>\n      <td>...</td>\n      <td>0</td>\n      <td>0</td>\n      <td>0</td>\n      <td>0</td>\n      <td>0</td>\n      <td>N/A</td>\n      <td>1.0</td>\n      <td>0.0</td>\n      <td>0.0</td>\n      <td>Ninguno</td>\n    </tr>\n    <tr>\n      <th>78</th>\n      <td>78.0</td>\n      <td>2022.0</td>\n      <td>2022-06-16 00:00:00</td>\n      <td>medios de comunicacion</td>\n      <td>NaN</td>\n      <td>Revista Ekos</td>\n      <td>1.0</td>\n      <td>Bolivia</td>\n      <td>N/A</td>\n      <td>Nacional</td>\n      <td>...</td>\n      <td>0</td>\n      <td>0</td>\n      <td>0</td>\n      <td>0</td>\n      <td>0</td>\n      <td>N/A</td>\n      <td>1.0</td>\n      <td>0.0</td>\n      <td>0.0</td>\n      <td>Ninguno</td>\n    </tr>\n  </tbody>\n</table>\n<p>2 rows × 31 columns</p>\n</div>"
     },
     "execution_count": 260,
     "metadata": {},
     "output_type": "execute_result"
    }
   ],
   "source": [
    "df_yawar_c[df_yawar_c['formato'].isna()]"
   ],
   "metadata": {
    "collapsed": false,
    "ExecuteTime": {
     "end_time": "2024-04-16T20:51:10.589096800Z",
     "start_time": "2024-04-16T20:51:10.542195Z"
    }
   },
   "id": "9ad8c06ea4cb7706"
  },
  {
   "cell_type": "code",
   "execution_count": 261,
   "outputs": [
    {
     "data": {
      "text/plain": "       formato          tipo_actividad           actividad\n75     virtual  medios de comunicacion  Verdad con tinta 1\n76     virtual  medios de comunicacion            Muy Waso\n77         NaN  medios de comunicacion      Correo del Sur\n78         NaN  medios de comunicacion        Revista Ekos\n79  presencial  medios de comunicacion         Agencia EFE\n80  presencial  medios de comunicacion      Nacer Mujer TV",
      "text/html": "<div>\n<style scoped>\n    .dataframe tbody tr th:only-of-type {\n        vertical-align: middle;\n    }\n\n    .dataframe tbody tr th {\n        vertical-align: top;\n    }\n\n    .dataframe thead th {\n        text-align: right;\n    }\n</style>\n<table border=\"1\" class=\"dataframe\">\n  <thead>\n    <tr style=\"text-align: right;\">\n      <th></th>\n      <th>formato</th>\n      <th>tipo_actividad</th>\n      <th>actividad</th>\n    </tr>\n  </thead>\n  <tbody>\n    <tr>\n      <th>75</th>\n      <td>virtual</td>\n      <td>medios de comunicacion</td>\n      <td>Verdad con tinta 1</td>\n    </tr>\n    <tr>\n      <th>76</th>\n      <td>virtual</td>\n      <td>medios de comunicacion</td>\n      <td>Muy Waso</td>\n    </tr>\n    <tr>\n      <th>77</th>\n      <td>NaN</td>\n      <td>medios de comunicacion</td>\n      <td>Correo del Sur</td>\n    </tr>\n    <tr>\n      <th>78</th>\n      <td>NaN</td>\n      <td>medios de comunicacion</td>\n      <td>Revista Ekos</td>\n    </tr>\n    <tr>\n      <th>79</th>\n      <td>presencial</td>\n      <td>medios de comunicacion</td>\n      <td>Agencia EFE</td>\n    </tr>\n    <tr>\n      <th>80</th>\n      <td>presencial</td>\n      <td>medios de comunicacion</td>\n      <td>Nacer Mujer TV</td>\n    </tr>\n  </tbody>\n</table>\n</div>"
     },
     "execution_count": 261,
     "metadata": {},
     "output_type": "execute_result"
    }
   ],
   "source": [
    "df_yawar_c.loc[75:80,['formato','tipo_actividad','actividad']]"
   ],
   "metadata": {
    "collapsed": false,
    "ExecuteTime": {
     "end_time": "2024-04-16T20:51:21.176516Z",
     "start_time": "2024-04-16T20:51:21.145127700Z"
    }
   },
   "id": "839d7cce4140932e"
  },
  {
   "cell_type": "markdown",
   "source": [
    "Since 'formato's null values correspond to a written communication this will be placed as 'written' "
   ],
   "metadata": {
    "collapsed": false
   },
   "id": "e71e69006b94d866"
  },
  {
   "cell_type": "code",
   "execution_count": 262,
   "outputs": [],
   "source": [
    "df_yawar_c.loc[df_yawar_c['formato'].isna(),'formato']='presencial'"
   ],
   "metadata": {
    "collapsed": false,
    "ExecuteTime": {
     "end_time": "2024-04-16T20:52:48.650046300Z",
     "start_time": "2024-04-16T20:52:48.605795800Z"
    }
   },
   "id": "ef075bfda5af9faf"
  },
  {
   "cell_type": "code",
   "execution_count": 263,
   "outputs": [
    {
     "data": {
      "text/plain": "34"
     },
     "execution_count": 263,
     "metadata": {},
     "output_type": "execute_result"
    }
   ],
   "source": [
    "df_yawar_c['poblacion'].isna().sum()"
   ],
   "metadata": {
    "collapsed": false,
    "ExecuteTime": {
     "end_time": "2024-04-16T20:52:58.796952200Z",
     "start_time": "2024-04-16T20:52:58.704571400Z"
    }
   },
   "id": "327885eabd851a3e"
  },
  {
   "cell_type": "code",
   "execution_count": 264,
   "outputs": [
    {
     "data": {
      "text/plain": "tipo_actividad\nartistica y cultural        9\ncampaña                     3\nconversatorio               3\ndifusion                    2\ndifusion redes sociales     7\nmedios de comunicacion     10\ntaller                      0\nName: poblacion, dtype: int64"
     },
     "execution_count": 264,
     "metadata": {},
     "output_type": "execute_result"
    }
   ],
   "source": [
    "df_yawar_c['poblacion'].isna().groupby(df_yawar_c['tipo_actividad']).sum()"
   ],
   "metadata": {
    "collapsed": false,
    "ExecuteTime": {
     "end_time": "2024-04-16T20:53:10.637437500Z",
     "start_time": "2024-04-16T20:53:10.546087Z"
    }
   },
   "id": "65aaf3010e9a4751"
  },
  {
   "cell_type": "code",
   "execution_count": 45,
   "outputs": [
    {
     "data": {
      "text/plain": "       #     año                fecha           tipo_actividad     formato  \\\n50  50.0  2023.0  2023-08-08 00:00:00                 difusion  presencial   \n51  51.0  2023.0  2023-09-28 00:00:00                 difusion  presencial   \n52  52.0  2021.0  2021-10-01 00:00:00     artistica y cultural  presencial   \n53  53.0  2021.0  2021-02-06 00:00:00     artistica y cultural  presencial   \n54  54.0  2021.0  2021-03-26 00:00:00     artistica y cultural  presencial   \n55  55.0  2021.0  2021-02-25 00:00:00     artistica y cultural  presencial   \n56  56.0  2022.0                10-22     artistica y cultural  presencial   \n57  57.0  2022.0                11-22     artistica y cultural  presencial   \n58  58.0  2023.0  2023-05-28 00:00:00     artistica y cultural  presencial   \n59  59.0  2023.0  2024-05-23 00:00:00     artistica y cultural  presencial   \n60  60.0  2023.0  2024-05-23 00:00:00            conversatorio  presencial   \n61  61.0  2022.0  2022-05-28 00:00:00            conversatorio     virtual   \n62  62.0  2022.0  2022-06-14 00:00:00            conversatorio     virtual   \n63  63.0  2023.0  2023-05-18 00:00:00     artistica y cultural  presencial   \n64  64.0  2023.0  2024-05-23 00:00:00                  campaña     virtual   \n65  65.0  2022.0  2022-03-21 00:00:00                  campaña     virtual   \n66  66.0  2021.0                12-21                  campaña     virtual   \n67  67.0  2021.0                  NaN  difusion redes sociales     virtual   \n68  68.0  2021.0  2021-11-11 00:00:00  difusion redes sociales     virtual   \n69  69.0  2022.0  2022-10-06 00:00:00  difusion redes sociales     virtual   \n70  70.0  2022.0  2022-11-30 00:00:00  difusion redes sociales     virtual   \n71  71.0  2022.0  2022-05-28 00:00:00  difusion redes sociales     virtual   \n72  72.0  2022.0                  NaN  difusion redes sociales     virtual   \n73  73.0  2022.0                  NaN  difusion redes sociales     virtual   \n74  74.0  2022.0  2022-03-25 00:00:00   medios de comunicacion     virtual   \n75  75.0  2021.0  2021-11-16 00:00:00   medios de comunicacion     virtual   \n76  76.0  2022.0  2022-04-28 00:00:00   medios de comunicacion     virtual   \n77  77.0  2022.0  2022-08-06 00:00:00   medios de comunicacion     escrito   \n78  78.0  2022.0  2022-06-16 00:00:00   medios de comunicacion     escrito   \n79  79.0  2023.0  2023-03-22 00:00:00   medios de comunicacion  presencial   \n80  80.0  2023.0  2023-09-16 00:00:00   medios de comunicacion  presencial   \n81  81.0  2022.0  2022-04-13 00:00:00   medios de comunicacion     virtual   \n82  82.0  2022.0  2022-07-19 00:00:00   medios de comunicacion     virtual   \n83  83.0  2022.0  2022-05-27 00:00:00   medios de comunicacion     virtual   \n\n                                            actividad  cantidad  \\\n50                 Feria Internacional del Libro 2023       1.0   \n51    Feria Bulliciosa de la Campaña 28 de Septiembre       1.0   \n52  Primer Videopitch para campaña de recaudación ...       1.0   \n53  Un evento de Zumba y conversatorio para recaud...       1.0   \n54  Yawar Twerk, taller de twerk para recaudar fondos       1.0   \n55  Concierto Hip Hoppas y furiosas para recaudaci...       1.0   \n56  Elaboración de un mural menstrual, de 30 metro...       1.0   \n57               Cartilla educativa con ilustraciones       1.0   \n58  Un hip hop menstrual con su videoclip en el mural       1.0   \n59     Performance artística de danza y poesía, Sucre       1.0   \n60  Conversatorio UAGRAM en conmemoración del día ...       1.0   \n61  Conversatorio: \\nLA DESIGUALDAD MENSTRUAL Y EL...       1.0   \n62  Conversatorio UNIFRANZ: Viviendo la Menstruaci...       1.0   \n63                Participación en la Noche de Museos       1.0   \n64           Campaña de descuentos por Mayo Menstrual       1.0   \n65              Alianza calzones menstruales con Aura       1.0   \n66  Campaña navideña de descuentos en alianza con ...       0.0   \n67                                              artes      46.0   \n68                                       Videopitch 1       1.0   \n69                                       Videopitch 2       1.0   \n70                           Video de mural menstrual       1.0   \n71                        Video performance artística       1.0   \n72                                              reels      36.0   \n73                                 posts en instagram     116.0   \n74                                 Verdad con tinta 2       1.0   \n75                                 Verdad con tinta 1       1.0   \n76                                           Muy Waso       1.0   \n77                                     Correo del Sur       1.0   \n78                                       Revista Ekos       1.0   \n79                                        Agencia EFE       1.0   \n80                                     Nacer Mujer TV       1.0   \n81                                        Adich Radio       1.0   \n82                                        Adich Radio       1.0   \n83                                    radio Encuentro       1.0   \n\n              pais                ciudad        alcance  ...  \\\n50         Bolivia                La Paz       Nacional  ...   \n51         Bolivia            Santa Cruz       Nacional  ...   \n52         Bolivia                   N/A  Internacional  ...   \n53       Australia                   N/A  Internacional  ...   \n54         Bolivia                 Sucre       Nacional  ...   \n55         Bolivia                La Paz       Nacional  ...   \n56         Bolivia                 Sucre       Nacional  ...   \n57         Bolivia                   N/A       Nacional  ...   \n58         Bolivia                 Sucre       Nacional  ...   \n59         Bolivia                 Sucre       Nacional  ...   \n60         Bolivia            Santa Cruz       Nacional  ...   \n61         Bolivia         Internacional  Internacional  ...   \n62         Bolivia               El Alto       Nacional  ...   \n63         Bolivia            Santa Cruz       Nacional  ...   \n64         Bolivia              Nacional       Nacional  ...   \n65  Estados Unidos                   N/A       Nacional  ...   \n66         Bolivia  Bolivia y Nueva York  Internacional  ...   \n67         Bolivia                   N/A       Nacional  ...   \n68         Bolivia               El Alto  Internacional  ...   \n69         Bolivia                 Sucre       Nacional  ...   \n70         Bolivia                 Sucre       Nacional  ...   \n71         Bolivia                 Sucre       Nacional  ...   \n72         Bolivia                   N/A  Internacional  ...   \n73         Bolivia                   N/A  Internacional  ...   \n74         Bolivia                   N/A       Nacional  ...   \n75         Bolivia                   N/A       Nacional  ...   \n76         Bolivia                   N/A       Nacional  ...   \n77         Bolivia                   N/A       Nacional  ...   \n78         Bolivia                   N/A       Nacional  ...   \n79         Bolivia                   N/A  Internacional  ...   \n80         Bolivia                La Paz       Nacional  ...   \n81         Bolivia                 Sucre       Nacional  ...   \n82         Bolivia                 Sucre       Nacional  ...   \n83         Bolivia                 Sucre       Nacional  ...   \n\n   toallasreutilizables calzonesmenstruales kit_insumos_gestiónmenstrual  \\\n50                    0                   0                            0   \n51                    0                   0                            0   \n52                    0                   0                            0   \n53                    0                   0                            0   \n54                    0                   0                            0   \n55                    0                   0                            0   \n56                    0                   0                            0   \n57                    0                   0                            0   \n58                    0                   0                            0   \n59                    0                   0                            0   \n60                    0                   0                            0   \n61                    0                   0                            0   \n62                    0                   0                            0   \n63                    0                   0                            0   \n64                    0                   0                            0   \n65                    0                   0                            0   \n66                    0                   0                            0   \n67                    0                   0                            0   \n68                    0                   0                            0   \n69                    0                   0                            0   \n70                    0                   0                            0   \n71                    0                   0                            0   \n72                    0                   0                            0   \n73                    0                   0                            0   \n74                    0                   0                            0   \n75                    0                   0                            0   \n76                    0                   0                            0   \n77                    0                   0                            0   \n78                    0                   0                            0   \n79                    0                   0                            0   \n80                    0                   0                            0   \n81                    0                   0                            0   \n82                    0                   0                            0   \n83                    0                   0                            0   \n\n   q'ipusmenstruales  expo_duracion tematicataller expo_personal voluntarias  \\\n50               NaN              0            N/A           1.0         2.0   \n51               NaN              0            N/A           1.0         1.0   \n52               NaN              0            N/A           1.0         0.0   \n53               NaN              0            N/A           1.0         0.0   \n54               NaN              0            N/A           1.0         0.0   \n55               NaN              0            N/A           1.0         0.0   \n56               NaN              0            N/A           1.0         0.0   \n57               NaN              0            N/A           1.0         0.0   \n58               NaN              0            N/A           1.0         0.0   \n59               NaN              0            N/A           1.0         0.0   \n60               NaN              0            N/A           1.0         0.0   \n61               NaN              0            N/A           1.0         0.0   \n62               NaN              0            N/A           1.0         0.0   \n63               NaN              0            N/A           1.0         0.0   \n64               NaN              0            N/A           1.0         0.0   \n65               NaN              0            N/A           1.0         0.0   \n66               NaN              0            N/A           1.0         0.0   \n67               NaN      no aplica      no aplica           1.0         0.0   \n68               NaN              0            N/A           1.0         0.0   \n69               NaN              0            N/A           1.0         0.0   \n70               NaN              0            N/A           1.0         0.0   \n71               NaN             10            N/A           4.0         2.0   \n72               NaN              0            N/A           1.0         0.0   \n73               NaN              0            N/A           1.0         0.0   \n74               NaN              0            N/A           1.0         0.0   \n75               NaN              0            N/A           1.0         0.0   \n76               NaN              0            N/A           1.0         0.0   \n77               NaN              0            N/A           1.0         0.0   \n78               NaN              0            N/A           1.0         0.0   \n79               NaN              0            N/A           1.0         0.0   \n80               NaN              0            N/A           1.0         0.0   \n81               NaN              0            N/A           1.0         0.0   \n82               NaN              0            N/A           1.0         0.0   \n83               NaN              0            N/A           1.0         0.0   \n\n   expo_tiempo_elabtaller            org_apoyo  \n50                    0.0              Ninguno  \n51                    0.0              Ninguno  \n52                    0.0              Ninguno  \n53                    0.0              Ninguno  \n54                    0.0              Ninguno  \n55                    0.0              Ninguno  \n56                    0.0              Ninguno  \n57                    0.0              Ninguno  \n58                    0.0              Ninguno  \n59                    0.0              Ninguno  \n60                    0.0              Ninguno  \n61                    0.0              Ninguno  \n62                    0.0              Ninguno  \n63                    0.0              Ninguno  \n64                    0.0              Ninguno  \n65                    0.0              Ninguno  \n66                    0.0              Ninguno  \n67                    0.0              Ninguno  \n68                    0.0              Ninguno  \n69                    0.0              Ninguno  \n70                  360.0  Micros para Avanzar  \n71                  300.0        Fondo Apthapi  \n72                    0.0              Ninguno  \n73                    0.0              Ninguno  \n74                    0.0              Ninguno  \n75                    0.0              Ninguno  \n76                    0.0              Ninguno  \n77                    0.0              Ninguno  \n78                    0.0              Ninguno  \n79                    0.0              Ninguno  \n80                    0.0              Ninguno  \n81                    0.0              Ninguno  \n82                    0.0              Ninguno  \n83                    0.0              Ninguno  \n\n[34 rows x 31 columns]",
      "text/html": "<div>\n<style scoped>\n    .dataframe tbody tr th:only-of-type {\n        vertical-align: middle;\n    }\n\n    .dataframe tbody tr th {\n        vertical-align: top;\n    }\n\n    .dataframe thead th {\n        text-align: right;\n    }\n</style>\n<table border=\"1\" class=\"dataframe\">\n  <thead>\n    <tr style=\"text-align: right;\">\n      <th></th>\n      <th>#</th>\n      <th>año</th>\n      <th>fecha</th>\n      <th>tipo_actividad</th>\n      <th>formato</th>\n      <th>actividad</th>\n      <th>cantidad</th>\n      <th>pais</th>\n      <th>ciudad</th>\n      <th>alcance</th>\n      <th>...</th>\n      <th>toallasreutilizables</th>\n      <th>calzonesmenstruales</th>\n      <th>kit_insumos_gestiónmenstrual</th>\n      <th>q'ipusmenstruales</th>\n      <th>expo_duracion</th>\n      <th>tematicataller</th>\n      <th>expo_personal</th>\n      <th>voluntarias</th>\n      <th>expo_tiempo_elabtaller</th>\n      <th>org_apoyo</th>\n    </tr>\n  </thead>\n  <tbody>\n    <tr>\n      <th>50</th>\n      <td>50.0</td>\n      <td>2023.0</td>\n      <td>2023-08-08 00:00:00</td>\n      <td>difusion</td>\n      <td>presencial</td>\n      <td>Feria Internacional del Libro 2023</td>\n      <td>1.0</td>\n      <td>Bolivia</td>\n      <td>La Paz</td>\n      <td>Nacional</td>\n      <td>...</td>\n      <td>0</td>\n      <td>0</td>\n      <td>0</td>\n      <td>NaN</td>\n      <td>0</td>\n      <td>N/A</td>\n      <td>1.0</td>\n      <td>2.0</td>\n      <td>0.0</td>\n      <td>Ninguno</td>\n    </tr>\n    <tr>\n      <th>51</th>\n      <td>51.0</td>\n      <td>2023.0</td>\n      <td>2023-09-28 00:00:00</td>\n      <td>difusion</td>\n      <td>presencial</td>\n      <td>Feria Bulliciosa de la Campaña 28 de Septiembre</td>\n      <td>1.0</td>\n      <td>Bolivia</td>\n      <td>Santa Cruz</td>\n      <td>Nacional</td>\n      <td>...</td>\n      <td>0</td>\n      <td>0</td>\n      <td>0</td>\n      <td>NaN</td>\n      <td>0</td>\n      <td>N/A</td>\n      <td>1.0</td>\n      <td>1.0</td>\n      <td>0.0</td>\n      <td>Ninguno</td>\n    </tr>\n    <tr>\n      <th>52</th>\n      <td>52.0</td>\n      <td>2021.0</td>\n      <td>2021-10-01 00:00:00</td>\n      <td>artistica y cultural</td>\n      <td>presencial</td>\n      <td>Primer Videopitch para campaña de recaudación ...</td>\n      <td>1.0</td>\n      <td>Bolivia</td>\n      <td>N/A</td>\n      <td>Internacional</td>\n      <td>...</td>\n      <td>0</td>\n      <td>0</td>\n      <td>0</td>\n      <td>NaN</td>\n      <td>0</td>\n      <td>N/A</td>\n      <td>1.0</td>\n      <td>0.0</td>\n      <td>0.0</td>\n      <td>Ninguno</td>\n    </tr>\n    <tr>\n      <th>53</th>\n      <td>53.0</td>\n      <td>2021.0</td>\n      <td>2021-02-06 00:00:00</td>\n      <td>artistica y cultural</td>\n      <td>presencial</td>\n      <td>Un evento de Zumba y conversatorio para recaud...</td>\n      <td>1.0</td>\n      <td>Australia</td>\n      <td>N/A</td>\n      <td>Internacional</td>\n      <td>...</td>\n      <td>0</td>\n      <td>0</td>\n      <td>0</td>\n      <td>NaN</td>\n      <td>0</td>\n      <td>N/A</td>\n      <td>1.0</td>\n      <td>0.0</td>\n      <td>0.0</td>\n      <td>Ninguno</td>\n    </tr>\n    <tr>\n      <th>54</th>\n      <td>54.0</td>\n      <td>2021.0</td>\n      <td>2021-03-26 00:00:00</td>\n      <td>artistica y cultural</td>\n      <td>presencial</td>\n      <td>Yawar Twerk, taller de twerk para recaudar fondos</td>\n      <td>1.0</td>\n      <td>Bolivia</td>\n      <td>Sucre</td>\n      <td>Nacional</td>\n      <td>...</td>\n      <td>0</td>\n      <td>0</td>\n      <td>0</td>\n      <td>NaN</td>\n      <td>0</td>\n      <td>N/A</td>\n      <td>1.0</td>\n      <td>0.0</td>\n      <td>0.0</td>\n      <td>Ninguno</td>\n    </tr>\n    <tr>\n      <th>55</th>\n      <td>55.0</td>\n      <td>2021.0</td>\n      <td>2021-02-25 00:00:00</td>\n      <td>artistica y cultural</td>\n      <td>presencial</td>\n      <td>Concierto Hip Hoppas y furiosas para recaudaci...</td>\n      <td>1.0</td>\n      <td>Bolivia</td>\n      <td>La Paz</td>\n      <td>Nacional</td>\n      <td>...</td>\n      <td>0</td>\n      <td>0</td>\n      <td>0</td>\n      <td>NaN</td>\n      <td>0</td>\n      <td>N/A</td>\n      <td>1.0</td>\n      <td>0.0</td>\n      <td>0.0</td>\n      <td>Ninguno</td>\n    </tr>\n    <tr>\n      <th>56</th>\n      <td>56.0</td>\n      <td>2022.0</td>\n      <td>10-22</td>\n      <td>artistica y cultural</td>\n      <td>presencial</td>\n      <td>Elaboración de un mural menstrual, de 30 metro...</td>\n      <td>1.0</td>\n      <td>Bolivia</td>\n      <td>Sucre</td>\n      <td>Nacional</td>\n      <td>...</td>\n      <td>0</td>\n      <td>0</td>\n      <td>0</td>\n      <td>NaN</td>\n      <td>0</td>\n      <td>N/A</td>\n      <td>1.0</td>\n      <td>0.0</td>\n      <td>0.0</td>\n      <td>Ninguno</td>\n    </tr>\n    <tr>\n      <th>57</th>\n      <td>57.0</td>\n      <td>2022.0</td>\n      <td>11-22</td>\n      <td>artistica y cultural</td>\n      <td>presencial</td>\n      <td>Cartilla educativa con ilustraciones</td>\n      <td>1.0</td>\n      <td>Bolivia</td>\n      <td>N/A</td>\n      <td>Nacional</td>\n      <td>...</td>\n      <td>0</td>\n      <td>0</td>\n      <td>0</td>\n      <td>NaN</td>\n      <td>0</td>\n      <td>N/A</td>\n      <td>1.0</td>\n      <td>0.0</td>\n      <td>0.0</td>\n      <td>Ninguno</td>\n    </tr>\n    <tr>\n      <th>58</th>\n      <td>58.0</td>\n      <td>2023.0</td>\n      <td>2023-05-28 00:00:00</td>\n      <td>artistica y cultural</td>\n      <td>presencial</td>\n      <td>Un hip hop menstrual con su videoclip en el mural</td>\n      <td>1.0</td>\n      <td>Bolivia</td>\n      <td>Sucre</td>\n      <td>Nacional</td>\n      <td>...</td>\n      <td>0</td>\n      <td>0</td>\n      <td>0</td>\n      <td>NaN</td>\n      <td>0</td>\n      <td>N/A</td>\n      <td>1.0</td>\n      <td>0.0</td>\n      <td>0.0</td>\n      <td>Ninguno</td>\n    </tr>\n    <tr>\n      <th>59</th>\n      <td>59.0</td>\n      <td>2023.0</td>\n      <td>2024-05-23 00:00:00</td>\n      <td>artistica y cultural</td>\n      <td>presencial</td>\n      <td>Performance artística de danza y poesía, Sucre</td>\n      <td>1.0</td>\n      <td>Bolivia</td>\n      <td>Sucre</td>\n      <td>Nacional</td>\n      <td>...</td>\n      <td>0</td>\n      <td>0</td>\n      <td>0</td>\n      <td>NaN</td>\n      <td>0</td>\n      <td>N/A</td>\n      <td>1.0</td>\n      <td>0.0</td>\n      <td>0.0</td>\n      <td>Ninguno</td>\n    </tr>\n    <tr>\n      <th>60</th>\n      <td>60.0</td>\n      <td>2023.0</td>\n      <td>2024-05-23 00:00:00</td>\n      <td>conversatorio</td>\n      <td>presencial</td>\n      <td>Conversatorio UAGRAM en conmemoración del día ...</td>\n      <td>1.0</td>\n      <td>Bolivia</td>\n      <td>Santa Cruz</td>\n      <td>Nacional</td>\n      <td>...</td>\n      <td>0</td>\n      <td>0</td>\n      <td>0</td>\n      <td>NaN</td>\n      <td>0</td>\n      <td>N/A</td>\n      <td>1.0</td>\n      <td>0.0</td>\n      <td>0.0</td>\n      <td>Ninguno</td>\n    </tr>\n    <tr>\n      <th>61</th>\n      <td>61.0</td>\n      <td>2022.0</td>\n      <td>2022-05-28 00:00:00</td>\n      <td>conversatorio</td>\n      <td>virtual</td>\n      <td>Conversatorio: \\nLA DESIGUALDAD MENSTRUAL Y EL...</td>\n      <td>1.0</td>\n      <td>Bolivia</td>\n      <td>Internacional</td>\n      <td>Internacional</td>\n      <td>...</td>\n      <td>0</td>\n      <td>0</td>\n      <td>0</td>\n      <td>NaN</td>\n      <td>0</td>\n      <td>N/A</td>\n      <td>1.0</td>\n      <td>0.0</td>\n      <td>0.0</td>\n      <td>Ninguno</td>\n    </tr>\n    <tr>\n      <th>62</th>\n      <td>62.0</td>\n      <td>2022.0</td>\n      <td>2022-06-14 00:00:00</td>\n      <td>conversatorio</td>\n      <td>virtual</td>\n      <td>Conversatorio UNIFRANZ: Viviendo la Menstruaci...</td>\n      <td>1.0</td>\n      <td>Bolivia</td>\n      <td>El Alto</td>\n      <td>Nacional</td>\n      <td>...</td>\n      <td>0</td>\n      <td>0</td>\n      <td>0</td>\n      <td>NaN</td>\n      <td>0</td>\n      <td>N/A</td>\n      <td>1.0</td>\n      <td>0.0</td>\n      <td>0.0</td>\n      <td>Ninguno</td>\n    </tr>\n    <tr>\n      <th>63</th>\n      <td>63.0</td>\n      <td>2023.0</td>\n      <td>2023-05-18 00:00:00</td>\n      <td>artistica y cultural</td>\n      <td>presencial</td>\n      <td>Participación en la Noche de Museos</td>\n      <td>1.0</td>\n      <td>Bolivia</td>\n      <td>Santa Cruz</td>\n      <td>Nacional</td>\n      <td>...</td>\n      <td>0</td>\n      <td>0</td>\n      <td>0</td>\n      <td>NaN</td>\n      <td>0</td>\n      <td>N/A</td>\n      <td>1.0</td>\n      <td>0.0</td>\n      <td>0.0</td>\n      <td>Ninguno</td>\n    </tr>\n    <tr>\n      <th>64</th>\n      <td>64.0</td>\n      <td>2023.0</td>\n      <td>2024-05-23 00:00:00</td>\n      <td>campaña</td>\n      <td>virtual</td>\n      <td>Campaña de descuentos por Mayo Menstrual</td>\n      <td>1.0</td>\n      <td>Bolivia</td>\n      <td>Nacional</td>\n      <td>Nacional</td>\n      <td>...</td>\n      <td>0</td>\n      <td>0</td>\n      <td>0</td>\n      <td>NaN</td>\n      <td>0</td>\n      <td>N/A</td>\n      <td>1.0</td>\n      <td>0.0</td>\n      <td>0.0</td>\n      <td>Ninguno</td>\n    </tr>\n    <tr>\n      <th>65</th>\n      <td>65.0</td>\n      <td>2022.0</td>\n      <td>2022-03-21 00:00:00</td>\n      <td>campaña</td>\n      <td>virtual</td>\n      <td>Alianza calzones menstruales con Aura</td>\n      <td>1.0</td>\n      <td>Estados Unidos</td>\n      <td>N/A</td>\n      <td>Nacional</td>\n      <td>...</td>\n      <td>0</td>\n      <td>0</td>\n      <td>0</td>\n      <td>NaN</td>\n      <td>0</td>\n      <td>N/A</td>\n      <td>1.0</td>\n      <td>0.0</td>\n      <td>0.0</td>\n      <td>Ninguno</td>\n    </tr>\n    <tr>\n      <th>66</th>\n      <td>66.0</td>\n      <td>2021.0</td>\n      <td>12-21</td>\n      <td>campaña</td>\n      <td>virtual</td>\n      <td>Campaña navideña de descuentos en alianza con ...</td>\n      <td>0.0</td>\n      <td>Bolivia</td>\n      <td>Bolivia y Nueva York</td>\n      <td>Internacional</td>\n      <td>...</td>\n      <td>0</td>\n      <td>0</td>\n      <td>0</td>\n      <td>NaN</td>\n      <td>0</td>\n      <td>N/A</td>\n      <td>1.0</td>\n      <td>0.0</td>\n      <td>0.0</td>\n      <td>Ninguno</td>\n    </tr>\n    <tr>\n      <th>67</th>\n      <td>67.0</td>\n      <td>2021.0</td>\n      <td>NaN</td>\n      <td>difusion redes sociales</td>\n      <td>virtual</td>\n      <td>artes</td>\n      <td>46.0</td>\n      <td>Bolivia</td>\n      <td>N/A</td>\n      <td>Nacional</td>\n      <td>...</td>\n      <td>0</td>\n      <td>0</td>\n      <td>0</td>\n      <td>NaN</td>\n      <td>no aplica</td>\n      <td>no aplica</td>\n      <td>1.0</td>\n      <td>0.0</td>\n      <td>0.0</td>\n      <td>Ninguno</td>\n    </tr>\n    <tr>\n      <th>68</th>\n      <td>68.0</td>\n      <td>2021.0</td>\n      <td>2021-11-11 00:00:00</td>\n      <td>difusion redes sociales</td>\n      <td>virtual</td>\n      <td>Videopitch 1</td>\n      <td>1.0</td>\n      <td>Bolivia</td>\n      <td>El Alto</td>\n      <td>Internacional</td>\n      <td>...</td>\n      <td>0</td>\n      <td>0</td>\n      <td>0</td>\n      <td>NaN</td>\n      <td>0</td>\n      <td>N/A</td>\n      <td>1.0</td>\n      <td>0.0</td>\n      <td>0.0</td>\n      <td>Ninguno</td>\n    </tr>\n    <tr>\n      <th>69</th>\n      <td>69.0</td>\n      <td>2022.0</td>\n      <td>2022-10-06 00:00:00</td>\n      <td>difusion redes sociales</td>\n      <td>virtual</td>\n      <td>Videopitch 2</td>\n      <td>1.0</td>\n      <td>Bolivia</td>\n      <td>Sucre</td>\n      <td>Nacional</td>\n      <td>...</td>\n      <td>0</td>\n      <td>0</td>\n      <td>0</td>\n      <td>NaN</td>\n      <td>0</td>\n      <td>N/A</td>\n      <td>1.0</td>\n      <td>0.0</td>\n      <td>0.0</td>\n      <td>Ninguno</td>\n    </tr>\n    <tr>\n      <th>70</th>\n      <td>70.0</td>\n      <td>2022.0</td>\n      <td>2022-11-30 00:00:00</td>\n      <td>difusion redes sociales</td>\n      <td>virtual</td>\n      <td>Video de mural menstrual</td>\n      <td>1.0</td>\n      <td>Bolivia</td>\n      <td>Sucre</td>\n      <td>Nacional</td>\n      <td>...</td>\n      <td>0</td>\n      <td>0</td>\n      <td>0</td>\n      <td>NaN</td>\n      <td>0</td>\n      <td>N/A</td>\n      <td>1.0</td>\n      <td>0.0</td>\n      <td>360.0</td>\n      <td>Micros para Avanzar</td>\n    </tr>\n    <tr>\n      <th>71</th>\n      <td>71.0</td>\n      <td>2022.0</td>\n      <td>2022-05-28 00:00:00</td>\n      <td>difusion redes sociales</td>\n      <td>virtual</td>\n      <td>Video performance artística</td>\n      <td>1.0</td>\n      <td>Bolivia</td>\n      <td>Sucre</td>\n      <td>Nacional</td>\n      <td>...</td>\n      <td>0</td>\n      <td>0</td>\n      <td>0</td>\n      <td>NaN</td>\n      <td>10</td>\n      <td>N/A</td>\n      <td>4.0</td>\n      <td>2.0</td>\n      <td>300.0</td>\n      <td>Fondo Apthapi</td>\n    </tr>\n    <tr>\n      <th>72</th>\n      <td>72.0</td>\n      <td>2022.0</td>\n      <td>NaN</td>\n      <td>difusion redes sociales</td>\n      <td>virtual</td>\n      <td>reels</td>\n      <td>36.0</td>\n      <td>Bolivia</td>\n      <td>N/A</td>\n      <td>Internacional</td>\n      <td>...</td>\n      <td>0</td>\n      <td>0</td>\n      <td>0</td>\n      <td>NaN</td>\n      <td>0</td>\n      <td>N/A</td>\n      <td>1.0</td>\n      <td>0.0</td>\n      <td>0.0</td>\n      <td>Ninguno</td>\n    </tr>\n    <tr>\n      <th>73</th>\n      <td>73.0</td>\n      <td>2022.0</td>\n      <td>NaN</td>\n      <td>difusion redes sociales</td>\n      <td>virtual</td>\n      <td>posts en instagram</td>\n      <td>116.0</td>\n      <td>Bolivia</td>\n      <td>N/A</td>\n      <td>Internacional</td>\n      <td>...</td>\n      <td>0</td>\n      <td>0</td>\n      <td>0</td>\n      <td>NaN</td>\n      <td>0</td>\n      <td>N/A</td>\n      <td>1.0</td>\n      <td>0.0</td>\n      <td>0.0</td>\n      <td>Ninguno</td>\n    </tr>\n    <tr>\n      <th>74</th>\n      <td>74.0</td>\n      <td>2022.0</td>\n      <td>2022-03-25 00:00:00</td>\n      <td>medios de comunicacion</td>\n      <td>virtual</td>\n      <td>Verdad con tinta 2</td>\n      <td>1.0</td>\n      <td>Bolivia</td>\n      <td>N/A</td>\n      <td>Nacional</td>\n      <td>...</td>\n      <td>0</td>\n      <td>0</td>\n      <td>0</td>\n      <td>NaN</td>\n      <td>0</td>\n      <td>N/A</td>\n      <td>1.0</td>\n      <td>0.0</td>\n      <td>0.0</td>\n      <td>Ninguno</td>\n    </tr>\n    <tr>\n      <th>75</th>\n      <td>75.0</td>\n      <td>2021.0</td>\n      <td>2021-11-16 00:00:00</td>\n      <td>medios de comunicacion</td>\n      <td>virtual</td>\n      <td>Verdad con tinta 1</td>\n      <td>1.0</td>\n      <td>Bolivia</td>\n      <td>N/A</td>\n      <td>Nacional</td>\n      <td>...</td>\n      <td>0</td>\n      <td>0</td>\n      <td>0</td>\n      <td>NaN</td>\n      <td>0</td>\n      <td>N/A</td>\n      <td>1.0</td>\n      <td>0.0</td>\n      <td>0.0</td>\n      <td>Ninguno</td>\n    </tr>\n    <tr>\n      <th>76</th>\n      <td>76.0</td>\n      <td>2022.0</td>\n      <td>2022-04-28 00:00:00</td>\n      <td>medios de comunicacion</td>\n      <td>virtual</td>\n      <td>Muy Waso</td>\n      <td>1.0</td>\n      <td>Bolivia</td>\n      <td>N/A</td>\n      <td>Nacional</td>\n      <td>...</td>\n      <td>0</td>\n      <td>0</td>\n      <td>0</td>\n      <td>NaN</td>\n      <td>0</td>\n      <td>N/A</td>\n      <td>1.0</td>\n      <td>0.0</td>\n      <td>0.0</td>\n      <td>Ninguno</td>\n    </tr>\n    <tr>\n      <th>77</th>\n      <td>77.0</td>\n      <td>2022.0</td>\n      <td>2022-08-06 00:00:00</td>\n      <td>medios de comunicacion</td>\n      <td>escrito</td>\n      <td>Correo del Sur</td>\n      <td>1.0</td>\n      <td>Bolivia</td>\n      <td>N/A</td>\n      <td>Nacional</td>\n      <td>...</td>\n      <td>0</td>\n      <td>0</td>\n      <td>0</td>\n      <td>NaN</td>\n      <td>0</td>\n      <td>N/A</td>\n      <td>1.0</td>\n      <td>0.0</td>\n      <td>0.0</td>\n      <td>Ninguno</td>\n    </tr>\n    <tr>\n      <th>78</th>\n      <td>78.0</td>\n      <td>2022.0</td>\n      <td>2022-06-16 00:00:00</td>\n      <td>medios de comunicacion</td>\n      <td>escrito</td>\n      <td>Revista Ekos</td>\n      <td>1.0</td>\n      <td>Bolivia</td>\n      <td>N/A</td>\n      <td>Nacional</td>\n      <td>...</td>\n      <td>0</td>\n      <td>0</td>\n      <td>0</td>\n      <td>NaN</td>\n      <td>0</td>\n      <td>N/A</td>\n      <td>1.0</td>\n      <td>0.0</td>\n      <td>0.0</td>\n      <td>Ninguno</td>\n    </tr>\n    <tr>\n      <th>79</th>\n      <td>79.0</td>\n      <td>2023.0</td>\n      <td>2023-03-22 00:00:00</td>\n      <td>medios de comunicacion</td>\n      <td>presencial</td>\n      <td>Agencia EFE</td>\n      <td>1.0</td>\n      <td>Bolivia</td>\n      <td>N/A</td>\n      <td>Internacional</td>\n      <td>...</td>\n      <td>0</td>\n      <td>0</td>\n      <td>0</td>\n      <td>NaN</td>\n      <td>0</td>\n      <td>N/A</td>\n      <td>1.0</td>\n      <td>0.0</td>\n      <td>0.0</td>\n      <td>Ninguno</td>\n    </tr>\n    <tr>\n      <th>80</th>\n      <td>80.0</td>\n      <td>2023.0</td>\n      <td>2023-09-16 00:00:00</td>\n      <td>medios de comunicacion</td>\n      <td>presencial</td>\n      <td>Nacer Mujer TV</td>\n      <td>1.0</td>\n      <td>Bolivia</td>\n      <td>La Paz</td>\n      <td>Nacional</td>\n      <td>...</td>\n      <td>0</td>\n      <td>0</td>\n      <td>0</td>\n      <td>NaN</td>\n      <td>0</td>\n      <td>N/A</td>\n      <td>1.0</td>\n      <td>0.0</td>\n      <td>0.0</td>\n      <td>Ninguno</td>\n    </tr>\n    <tr>\n      <th>81</th>\n      <td>81.0</td>\n      <td>2022.0</td>\n      <td>2022-04-13 00:00:00</td>\n      <td>medios de comunicacion</td>\n      <td>virtual</td>\n      <td>Adich Radio</td>\n      <td>1.0</td>\n      <td>Bolivia</td>\n      <td>Sucre</td>\n      <td>Nacional</td>\n      <td>...</td>\n      <td>0</td>\n      <td>0</td>\n      <td>0</td>\n      <td>NaN</td>\n      <td>0</td>\n      <td>N/A</td>\n      <td>1.0</td>\n      <td>0.0</td>\n      <td>0.0</td>\n      <td>Ninguno</td>\n    </tr>\n    <tr>\n      <th>82</th>\n      <td>82.0</td>\n      <td>2022.0</td>\n      <td>2022-07-19 00:00:00</td>\n      <td>medios de comunicacion</td>\n      <td>virtual</td>\n      <td>Adich Radio</td>\n      <td>1.0</td>\n      <td>Bolivia</td>\n      <td>Sucre</td>\n      <td>Nacional</td>\n      <td>...</td>\n      <td>0</td>\n      <td>0</td>\n      <td>0</td>\n      <td>NaN</td>\n      <td>0</td>\n      <td>N/A</td>\n      <td>1.0</td>\n      <td>0.0</td>\n      <td>0.0</td>\n      <td>Ninguno</td>\n    </tr>\n    <tr>\n      <th>83</th>\n      <td>83.0</td>\n      <td>2022.0</td>\n      <td>2022-05-27 00:00:00</td>\n      <td>medios de comunicacion</td>\n      <td>virtual</td>\n      <td>radio Encuentro</td>\n      <td>1.0</td>\n      <td>Bolivia</td>\n      <td>Sucre</td>\n      <td>Nacional</td>\n      <td>...</td>\n      <td>0</td>\n      <td>0</td>\n      <td>0</td>\n      <td>NaN</td>\n      <td>0</td>\n      <td>N/A</td>\n      <td>1.0</td>\n      <td>0.0</td>\n      <td>0.0</td>\n      <td>Ninguno</td>\n    </tr>\n  </tbody>\n</table>\n<p>34 rows × 31 columns</p>\n</div>"
     },
     "execution_count": 45,
     "metadata": {},
     "output_type": "execute_result"
    }
   ],
   "source": [
    "df_yawar_c[df_yawar_c['poblacion'].isna()]"
   ],
   "metadata": {
    "collapsed": false,
    "ExecuteTime": {
     "end_time": "2024-04-16T20:15:54.112490700Z",
     "start_time": "2024-04-16T20:15:41.653733300Z"
    }
   },
   "id": "6763c78a1f364519"
  },
  {
   "cell_type": "markdown",
   "source": [
    "'poblacion' nan values could be replaced with 'poblacion_general' since those activities were fair, artistical difusion. "
   ],
   "metadata": {
    "collapsed": false
   },
   "id": "961adcc19fa3ab5c"
  },
  {
   "cell_type": "code",
   "execution_count": 266,
   "outputs": [],
   "source": [
    "df_yawar_c.loc[df_yawar_c['poblacion'].isna(),'poblacion']='poblacion_general'"
   ],
   "metadata": {
    "collapsed": false,
    "ExecuteTime": {
     "end_time": "2024-04-16T20:54:33.544067700Z",
     "start_time": "2024-04-16T20:54:33.430060700Z"
    }
   },
   "id": "4d7e959e92e8818a"
  },
  {
   "cell_type": "markdown",
   "source": [
    "For those as activities 'campaña' and 'difusion redes sociales' there are nan values in 'tipodeestablecimiento' column. "
   ],
   "metadata": {
    "collapsed": false
   },
   "id": "800f7e85fd1df3c4"
  },
  {
   "cell_type": "code",
   "execution_count": 267,
   "outputs": [
    {
     "data": {
      "text/plain": "tipodeestablecimiento           23\ntipodearea                      21\nfecha                            3\n#                                1\nkit_insumos_gestiónmenstrual     0\ntoallasdesechables               0\ncopasmenstruales                 0\ntoallasreutilizables             0\ncalzonesmenstruales              0\nqipusmenstruales                 0\nvulnerabilidad                   0\nexpo_duracion                    0\ntematicataller                   0\npersonal                         0\nvoluntarias                      0\nexpo_tiempo_elabtaller           0\ndotacióninsumos                  0\nedad                             0\npoblacion                        0\naño                              0\npersonasalcanzadas_cant          0\nlugar                            0\nlocalidad                        0\nalcance                          0\nciudad                           0\npais                             0\ncantidad                         0\nactividad                        0\nformato                          0\ntipo_actividad                   0\norg_apoyo                        0\ndtype: int64"
     },
     "execution_count": 267,
     "metadata": {},
     "output_type": "execute_result"
    }
   ],
   "source": [
    "df_yawar_c.isna().sum().sort_values(ascending=False)"
   ],
   "metadata": {
    "collapsed": false,
    "ExecuteTime": {
     "end_time": "2024-04-16T20:54:46.372270800Z",
     "start_time": "2024-04-16T20:54:46.264374500Z"
    }
   },
   "id": "8f86a2037d22ca32"
  },
  {
   "cell_type": "code",
   "execution_count": 268,
   "outputs": [
    {
     "data": {
      "text/plain": "       #     año                fecha           tipo_actividad     formato  \\\n0    1.0  2022.0  2022-03-10 00:00:00                   taller  presencial   \n1    2.0  2022.0  2022-04-09 00:00:00                   taller  presencial   \n50  50.0  2023.0  2023-08-08 00:00:00                 difusion  presencial   \n51  51.0  2023.0  2023-09-28 00:00:00                 difusion  presencial   \n52  52.0  2021.0  2021-10-01 00:00:00     artistica y cultural  presencial   \n53  53.0  2021.0  2021-02-06 00:00:00     artistica y cultural  presencial   \n54  54.0  2021.0  2021-03-26 00:00:00     artistica y cultural  presencial   \n55  55.0  2021.0  2021-02-25 00:00:00     artistica y cultural  presencial   \n56  56.0  2022.0                10-22     artistica y cultural  presencial   \n57  57.0  2022.0                11-22     artistica y cultural  presencial   \n58  58.0  2023.0  2023-05-28 00:00:00     artistica y cultural  presencial   \n59  59.0  2023.0  2024-05-23 00:00:00     artistica y cultural  presencial   \n63  63.0  2023.0  2023-05-18 00:00:00     artistica y cultural  presencial   \n64  64.0  2023.0  2024-05-23 00:00:00                  campaña     virtual   \n65  65.0  2022.0  2022-03-21 00:00:00                  campaña     virtual   \n66  66.0  2021.0                12-21                  campaña     virtual   \n67  67.0  2021.0                  NaN  difusion redes sociales     virtual   \n68  68.0  2021.0  2021-11-11 00:00:00  difusion redes sociales     virtual   \n69  69.0  2022.0  2022-10-06 00:00:00  difusion redes sociales     virtual   \n70  70.0  2022.0  2022-11-30 00:00:00  difusion redes sociales     virtual   \n71  71.0  2022.0  2022-05-28 00:00:00  difusion redes sociales     virtual   \n72  72.0  2022.0                  NaN  difusion redes sociales     virtual   \n73  73.0  2022.0                  NaN  difusion redes sociales     virtual   \n\n                                            actividad  cantidad  \\\n0                           1er encuentro voluntarias       1.0   \n1                           Taller: qué es ser joven?       1.0   \n50                 Feria Internacional del Libro 2023       1.0   \n51    Feria Bulliciosa de la Campaña 28 de Septiembre       1.0   \n52  Primer Videopitch para campaña de recaudación ...       1.0   \n53  Un evento de Zumba y conversatorio para recaud...       1.0   \n54  Yawar Twerk, taller de twerk para recaudar fondos       1.0   \n55  Concierto Hip Hoppas y furiosas para recaudaci...       1.0   \n56  Elaboración de un mural menstrual, de 30 metro...       1.0   \n57               Cartilla educativa con ilustraciones       1.0   \n58  Un hip hop menstrual con su videoclip en el mural       1.0   \n59     Performance artística de danza y poesía, Sucre       1.0   \n63                Participación en la Noche de Museos       1.0   \n64           Campaña de descuentos por Mayo Menstrual       1.0   \n65              Alianza calzones menstruales con Aura       1.0   \n66  Campaña navideña de descuentos en alianza con ...       0.0   \n67                                              artes      46.0   \n68                                       Videopitch 1       1.0   \n69                                       Videopitch 2       1.0   \n70                           Video de mural menstrual       1.0   \n71                        Video performance artística       1.0   \n72                                              reels      36.0   \n73                                 posts en instagram     116.0   \n\n              pais                ciudad        alcance  ...  \\\n0          Bolivia               El Alto       Nacional  ...   \n1          Bolivia                La Paz         La Paz  ...   \n50         Bolivia                La Paz       Nacional  ...   \n51         Bolivia            Santa Cruz       Nacional  ...   \n52         Bolivia                   N/A  Internacional  ...   \n53       Australia                   N/A  Internacional  ...   \n54         Bolivia                 Sucre       Nacional  ...   \n55         Bolivia                La Paz       Nacional  ...   \n56         Bolivia                 Sucre       Nacional  ...   \n57         Bolivia                   N/A       Nacional  ...   \n58         Bolivia                 Sucre       Nacional  ...   \n59         Bolivia                 Sucre       Nacional  ...   \n63         Bolivia            Santa Cruz       Nacional  ...   \n64         Bolivia              Nacional       Nacional  ...   \n65         Bolivia                   N/A       Nacional  ...   \n66  Estados Unidos  Bolivia y Nueva York  Internacional  ...   \n67         Bolivia                   N/A       Nacional  ...   \n68         Bolivia               El Alto  Internacional  ...   \n69         Bolivia                 Sucre       Nacional  ...   \n70         Bolivia                 Sucre       Nacional  ...   \n71         Bolivia                 Sucre       Nacional  ...   \n72         Bolivia                   N/A  Internacional  ...   \n73         Bolivia                   N/A  Internacional  ...   \n\n   toallasreutilizables calzonesmenstruales kit_insumos_gestiónmenstrual  \\\n0                    No                  No                           No   \n1                    No                  No                           No   \n50                    0                   0                            0   \n51                    0                   0                            0   \n52                    0                   0                            0   \n53                    0                   0                            0   \n54                    0                   0                            0   \n55                    0                   0                            0   \n56                    0                   0                            0   \n57                    0                   0                            0   \n58                    0                   0                            0   \n59                    0                   0                            0   \n63                    0                   0                            0   \n64                    0                   0                            0   \n65                    0                   0                            0   \n66                    0                   0                            0   \n67                    0                   0                            0   \n68                    0                   0                            0   \n69                    0                   0                            0   \n70                    0                   0                            0   \n71                    0                   0                            0   \n72                    0                   0                            0   \n73                    0                   0                            0   \n\n   qipusmenstruales  expo_duracion                             tematicataller  \\\n0                No            210  historia de nuestra sexualidad y anatomia   \n1                No            210                          Qué es ser joven?   \n50                0              0                                        N/A   \n51                0              0                                        N/A   \n52                0              0                                        N/A   \n53                0              0                                        N/A   \n54                0              0                                        N/A   \n55                0              0                                        N/A   \n56                0              0                                        N/A   \n57                0              0                                        N/A   \n58                0              0                                        N/A   \n59                0              0                                        N/A   \n63                0              0                                        N/A   \n64                0              0                                        N/A   \n65                0              0                                        N/A   \n66                0              0                                        N/A   \n67                0      no aplica                                  no aplica   \n68                0              0                                        N/A   \n69                0              0                                        N/A   \n70                0              0                                        N/A   \n71                0             10                                        N/A   \n72                0              0                                        N/A   \n73                0              0                                        N/A   \n\n   personal voluntarias expo_tiempo_elabtaller            org_apoyo  \n0       1.0         0.0                  480.0                   No  \n1       2.0         0.0                  400.0                   No  \n50      1.0         2.0                    0.0              Ninguno  \n51      1.0         1.0                    0.0              Ninguno  \n52      1.0         0.0                    0.0              Ninguno  \n53      1.0         0.0                    0.0              Ninguno  \n54      1.0         0.0                    0.0              Ninguno  \n55      1.0         0.0                    0.0              Ninguno  \n56      1.0         0.0                    0.0              Ninguno  \n57      1.0         0.0                    0.0              Ninguno  \n58      1.0         0.0                    0.0              Ninguno  \n59      1.0         0.0                    0.0              Ninguno  \n63      1.0         0.0                    0.0              Ninguno  \n64      1.0         0.0                    0.0              Ninguno  \n65      1.0         0.0                    0.0              Ninguno  \n66      1.0         0.0                    0.0              Ninguno  \n67      1.0         0.0                    0.0              Ninguno  \n68      1.0         0.0                    0.0              Ninguno  \n69      1.0         0.0                    0.0              Ninguno  \n70      1.0         0.0                  360.0  Micros para Avanzar  \n71      4.0         2.0                  300.0        Fondo Apthapi  \n72      1.0         0.0                    0.0              Ninguno  \n73      1.0         0.0                    0.0              Ninguno  \n\n[23 rows x 31 columns]",
      "text/html": "<div>\n<style scoped>\n    .dataframe tbody tr th:only-of-type {\n        vertical-align: middle;\n    }\n\n    .dataframe tbody tr th {\n        vertical-align: top;\n    }\n\n    .dataframe thead th {\n        text-align: right;\n    }\n</style>\n<table border=\"1\" class=\"dataframe\">\n  <thead>\n    <tr style=\"text-align: right;\">\n      <th></th>\n      <th>#</th>\n      <th>año</th>\n      <th>fecha</th>\n      <th>tipo_actividad</th>\n      <th>formato</th>\n      <th>actividad</th>\n      <th>cantidad</th>\n      <th>pais</th>\n      <th>ciudad</th>\n      <th>alcance</th>\n      <th>...</th>\n      <th>toallasreutilizables</th>\n      <th>calzonesmenstruales</th>\n      <th>kit_insumos_gestiónmenstrual</th>\n      <th>qipusmenstruales</th>\n      <th>expo_duracion</th>\n      <th>tematicataller</th>\n      <th>personal</th>\n      <th>voluntarias</th>\n      <th>expo_tiempo_elabtaller</th>\n      <th>org_apoyo</th>\n    </tr>\n  </thead>\n  <tbody>\n    <tr>\n      <th>0</th>\n      <td>1.0</td>\n      <td>2022.0</td>\n      <td>2022-03-10 00:00:00</td>\n      <td>taller</td>\n      <td>presencial</td>\n      <td>1er encuentro voluntarias</td>\n      <td>1.0</td>\n      <td>Bolivia</td>\n      <td>El Alto</td>\n      <td>Nacional</td>\n      <td>...</td>\n      <td>No</td>\n      <td>No</td>\n      <td>No</td>\n      <td>No</td>\n      <td>210</td>\n      <td>historia de nuestra sexualidad y anatomia</td>\n      <td>1.0</td>\n      <td>0.0</td>\n      <td>480.0</td>\n      <td>No</td>\n    </tr>\n    <tr>\n      <th>1</th>\n      <td>2.0</td>\n      <td>2022.0</td>\n      <td>2022-04-09 00:00:00</td>\n      <td>taller</td>\n      <td>presencial</td>\n      <td>Taller: qué es ser joven?</td>\n      <td>1.0</td>\n      <td>Bolivia</td>\n      <td>La Paz</td>\n      <td>La Paz</td>\n      <td>...</td>\n      <td>No</td>\n      <td>No</td>\n      <td>No</td>\n      <td>No</td>\n      <td>210</td>\n      <td>Qué es ser joven?</td>\n      <td>2.0</td>\n      <td>0.0</td>\n      <td>400.0</td>\n      <td>No</td>\n    </tr>\n    <tr>\n      <th>50</th>\n      <td>50.0</td>\n      <td>2023.0</td>\n      <td>2023-08-08 00:00:00</td>\n      <td>difusion</td>\n      <td>presencial</td>\n      <td>Feria Internacional del Libro 2023</td>\n      <td>1.0</td>\n      <td>Bolivia</td>\n      <td>La Paz</td>\n      <td>Nacional</td>\n      <td>...</td>\n      <td>0</td>\n      <td>0</td>\n      <td>0</td>\n      <td>0</td>\n      <td>0</td>\n      <td>N/A</td>\n      <td>1.0</td>\n      <td>2.0</td>\n      <td>0.0</td>\n      <td>Ninguno</td>\n    </tr>\n    <tr>\n      <th>51</th>\n      <td>51.0</td>\n      <td>2023.0</td>\n      <td>2023-09-28 00:00:00</td>\n      <td>difusion</td>\n      <td>presencial</td>\n      <td>Feria Bulliciosa de la Campaña 28 de Septiembre</td>\n      <td>1.0</td>\n      <td>Bolivia</td>\n      <td>Santa Cruz</td>\n      <td>Nacional</td>\n      <td>...</td>\n      <td>0</td>\n      <td>0</td>\n      <td>0</td>\n      <td>0</td>\n      <td>0</td>\n      <td>N/A</td>\n      <td>1.0</td>\n      <td>1.0</td>\n      <td>0.0</td>\n      <td>Ninguno</td>\n    </tr>\n    <tr>\n      <th>52</th>\n      <td>52.0</td>\n      <td>2021.0</td>\n      <td>2021-10-01 00:00:00</td>\n      <td>artistica y cultural</td>\n      <td>presencial</td>\n      <td>Primer Videopitch para campaña de recaudación ...</td>\n      <td>1.0</td>\n      <td>Bolivia</td>\n      <td>N/A</td>\n      <td>Internacional</td>\n      <td>...</td>\n      <td>0</td>\n      <td>0</td>\n      <td>0</td>\n      <td>0</td>\n      <td>0</td>\n      <td>N/A</td>\n      <td>1.0</td>\n      <td>0.0</td>\n      <td>0.0</td>\n      <td>Ninguno</td>\n    </tr>\n    <tr>\n      <th>53</th>\n      <td>53.0</td>\n      <td>2021.0</td>\n      <td>2021-02-06 00:00:00</td>\n      <td>artistica y cultural</td>\n      <td>presencial</td>\n      <td>Un evento de Zumba y conversatorio para recaud...</td>\n      <td>1.0</td>\n      <td>Australia</td>\n      <td>N/A</td>\n      <td>Internacional</td>\n      <td>...</td>\n      <td>0</td>\n      <td>0</td>\n      <td>0</td>\n      <td>0</td>\n      <td>0</td>\n      <td>N/A</td>\n      <td>1.0</td>\n      <td>0.0</td>\n      <td>0.0</td>\n      <td>Ninguno</td>\n    </tr>\n    <tr>\n      <th>54</th>\n      <td>54.0</td>\n      <td>2021.0</td>\n      <td>2021-03-26 00:00:00</td>\n      <td>artistica y cultural</td>\n      <td>presencial</td>\n      <td>Yawar Twerk, taller de twerk para recaudar fondos</td>\n      <td>1.0</td>\n      <td>Bolivia</td>\n      <td>Sucre</td>\n      <td>Nacional</td>\n      <td>...</td>\n      <td>0</td>\n      <td>0</td>\n      <td>0</td>\n      <td>0</td>\n      <td>0</td>\n      <td>N/A</td>\n      <td>1.0</td>\n      <td>0.0</td>\n      <td>0.0</td>\n      <td>Ninguno</td>\n    </tr>\n    <tr>\n      <th>55</th>\n      <td>55.0</td>\n      <td>2021.0</td>\n      <td>2021-02-25 00:00:00</td>\n      <td>artistica y cultural</td>\n      <td>presencial</td>\n      <td>Concierto Hip Hoppas y furiosas para recaudaci...</td>\n      <td>1.0</td>\n      <td>Bolivia</td>\n      <td>La Paz</td>\n      <td>Nacional</td>\n      <td>...</td>\n      <td>0</td>\n      <td>0</td>\n      <td>0</td>\n      <td>0</td>\n      <td>0</td>\n      <td>N/A</td>\n      <td>1.0</td>\n      <td>0.0</td>\n      <td>0.0</td>\n      <td>Ninguno</td>\n    </tr>\n    <tr>\n      <th>56</th>\n      <td>56.0</td>\n      <td>2022.0</td>\n      <td>10-22</td>\n      <td>artistica y cultural</td>\n      <td>presencial</td>\n      <td>Elaboración de un mural menstrual, de 30 metro...</td>\n      <td>1.0</td>\n      <td>Bolivia</td>\n      <td>Sucre</td>\n      <td>Nacional</td>\n      <td>...</td>\n      <td>0</td>\n      <td>0</td>\n      <td>0</td>\n      <td>0</td>\n      <td>0</td>\n      <td>N/A</td>\n      <td>1.0</td>\n      <td>0.0</td>\n      <td>0.0</td>\n      <td>Ninguno</td>\n    </tr>\n    <tr>\n      <th>57</th>\n      <td>57.0</td>\n      <td>2022.0</td>\n      <td>11-22</td>\n      <td>artistica y cultural</td>\n      <td>presencial</td>\n      <td>Cartilla educativa con ilustraciones</td>\n      <td>1.0</td>\n      <td>Bolivia</td>\n      <td>N/A</td>\n      <td>Nacional</td>\n      <td>...</td>\n      <td>0</td>\n      <td>0</td>\n      <td>0</td>\n      <td>0</td>\n      <td>0</td>\n      <td>N/A</td>\n      <td>1.0</td>\n      <td>0.0</td>\n      <td>0.0</td>\n      <td>Ninguno</td>\n    </tr>\n    <tr>\n      <th>58</th>\n      <td>58.0</td>\n      <td>2023.0</td>\n      <td>2023-05-28 00:00:00</td>\n      <td>artistica y cultural</td>\n      <td>presencial</td>\n      <td>Un hip hop menstrual con su videoclip en el mural</td>\n      <td>1.0</td>\n      <td>Bolivia</td>\n      <td>Sucre</td>\n      <td>Nacional</td>\n      <td>...</td>\n      <td>0</td>\n      <td>0</td>\n      <td>0</td>\n      <td>0</td>\n      <td>0</td>\n      <td>N/A</td>\n      <td>1.0</td>\n      <td>0.0</td>\n      <td>0.0</td>\n      <td>Ninguno</td>\n    </tr>\n    <tr>\n      <th>59</th>\n      <td>59.0</td>\n      <td>2023.0</td>\n      <td>2024-05-23 00:00:00</td>\n      <td>artistica y cultural</td>\n      <td>presencial</td>\n      <td>Performance artística de danza y poesía, Sucre</td>\n      <td>1.0</td>\n      <td>Bolivia</td>\n      <td>Sucre</td>\n      <td>Nacional</td>\n      <td>...</td>\n      <td>0</td>\n      <td>0</td>\n      <td>0</td>\n      <td>0</td>\n      <td>0</td>\n      <td>N/A</td>\n      <td>1.0</td>\n      <td>0.0</td>\n      <td>0.0</td>\n      <td>Ninguno</td>\n    </tr>\n    <tr>\n      <th>63</th>\n      <td>63.0</td>\n      <td>2023.0</td>\n      <td>2023-05-18 00:00:00</td>\n      <td>artistica y cultural</td>\n      <td>presencial</td>\n      <td>Participación en la Noche de Museos</td>\n      <td>1.0</td>\n      <td>Bolivia</td>\n      <td>Santa Cruz</td>\n      <td>Nacional</td>\n      <td>...</td>\n      <td>0</td>\n      <td>0</td>\n      <td>0</td>\n      <td>0</td>\n      <td>0</td>\n      <td>N/A</td>\n      <td>1.0</td>\n      <td>0.0</td>\n      <td>0.0</td>\n      <td>Ninguno</td>\n    </tr>\n    <tr>\n      <th>64</th>\n      <td>64.0</td>\n      <td>2023.0</td>\n      <td>2024-05-23 00:00:00</td>\n      <td>campaña</td>\n      <td>virtual</td>\n      <td>Campaña de descuentos por Mayo Menstrual</td>\n      <td>1.0</td>\n      <td>Bolivia</td>\n      <td>Nacional</td>\n      <td>Nacional</td>\n      <td>...</td>\n      <td>0</td>\n      <td>0</td>\n      <td>0</td>\n      <td>0</td>\n      <td>0</td>\n      <td>N/A</td>\n      <td>1.0</td>\n      <td>0.0</td>\n      <td>0.0</td>\n      <td>Ninguno</td>\n    </tr>\n    <tr>\n      <th>65</th>\n      <td>65.0</td>\n      <td>2022.0</td>\n      <td>2022-03-21 00:00:00</td>\n      <td>campaña</td>\n      <td>virtual</td>\n      <td>Alianza calzones menstruales con Aura</td>\n      <td>1.0</td>\n      <td>Bolivia</td>\n      <td>N/A</td>\n      <td>Nacional</td>\n      <td>...</td>\n      <td>0</td>\n      <td>0</td>\n      <td>0</td>\n      <td>0</td>\n      <td>0</td>\n      <td>N/A</td>\n      <td>1.0</td>\n      <td>0.0</td>\n      <td>0.0</td>\n      <td>Ninguno</td>\n    </tr>\n    <tr>\n      <th>66</th>\n      <td>66.0</td>\n      <td>2021.0</td>\n      <td>12-21</td>\n      <td>campaña</td>\n      <td>virtual</td>\n      <td>Campaña navideña de descuentos en alianza con ...</td>\n      <td>0.0</td>\n      <td>Estados Unidos</td>\n      <td>Bolivia y Nueva York</td>\n      <td>Internacional</td>\n      <td>...</td>\n      <td>0</td>\n      <td>0</td>\n      <td>0</td>\n      <td>0</td>\n      <td>0</td>\n      <td>N/A</td>\n      <td>1.0</td>\n      <td>0.0</td>\n      <td>0.0</td>\n      <td>Ninguno</td>\n    </tr>\n    <tr>\n      <th>67</th>\n      <td>67.0</td>\n      <td>2021.0</td>\n      <td>NaN</td>\n      <td>difusion redes sociales</td>\n      <td>virtual</td>\n      <td>artes</td>\n      <td>46.0</td>\n      <td>Bolivia</td>\n      <td>N/A</td>\n      <td>Nacional</td>\n      <td>...</td>\n      <td>0</td>\n      <td>0</td>\n      <td>0</td>\n      <td>0</td>\n      <td>no aplica</td>\n      <td>no aplica</td>\n      <td>1.0</td>\n      <td>0.0</td>\n      <td>0.0</td>\n      <td>Ninguno</td>\n    </tr>\n    <tr>\n      <th>68</th>\n      <td>68.0</td>\n      <td>2021.0</td>\n      <td>2021-11-11 00:00:00</td>\n      <td>difusion redes sociales</td>\n      <td>virtual</td>\n      <td>Videopitch 1</td>\n      <td>1.0</td>\n      <td>Bolivia</td>\n      <td>El Alto</td>\n      <td>Internacional</td>\n      <td>...</td>\n      <td>0</td>\n      <td>0</td>\n      <td>0</td>\n      <td>0</td>\n      <td>0</td>\n      <td>N/A</td>\n      <td>1.0</td>\n      <td>0.0</td>\n      <td>0.0</td>\n      <td>Ninguno</td>\n    </tr>\n    <tr>\n      <th>69</th>\n      <td>69.0</td>\n      <td>2022.0</td>\n      <td>2022-10-06 00:00:00</td>\n      <td>difusion redes sociales</td>\n      <td>virtual</td>\n      <td>Videopitch 2</td>\n      <td>1.0</td>\n      <td>Bolivia</td>\n      <td>Sucre</td>\n      <td>Nacional</td>\n      <td>...</td>\n      <td>0</td>\n      <td>0</td>\n      <td>0</td>\n      <td>0</td>\n      <td>0</td>\n      <td>N/A</td>\n      <td>1.0</td>\n      <td>0.0</td>\n      <td>0.0</td>\n      <td>Ninguno</td>\n    </tr>\n    <tr>\n      <th>70</th>\n      <td>70.0</td>\n      <td>2022.0</td>\n      <td>2022-11-30 00:00:00</td>\n      <td>difusion redes sociales</td>\n      <td>virtual</td>\n      <td>Video de mural menstrual</td>\n      <td>1.0</td>\n      <td>Bolivia</td>\n      <td>Sucre</td>\n      <td>Nacional</td>\n      <td>...</td>\n      <td>0</td>\n      <td>0</td>\n      <td>0</td>\n      <td>0</td>\n      <td>0</td>\n      <td>N/A</td>\n      <td>1.0</td>\n      <td>0.0</td>\n      <td>360.0</td>\n      <td>Micros para Avanzar</td>\n    </tr>\n    <tr>\n      <th>71</th>\n      <td>71.0</td>\n      <td>2022.0</td>\n      <td>2022-05-28 00:00:00</td>\n      <td>difusion redes sociales</td>\n      <td>virtual</td>\n      <td>Video performance artística</td>\n      <td>1.0</td>\n      <td>Bolivia</td>\n      <td>Sucre</td>\n      <td>Nacional</td>\n      <td>...</td>\n      <td>0</td>\n      <td>0</td>\n      <td>0</td>\n      <td>0</td>\n      <td>10</td>\n      <td>N/A</td>\n      <td>4.0</td>\n      <td>2.0</td>\n      <td>300.0</td>\n      <td>Fondo Apthapi</td>\n    </tr>\n    <tr>\n      <th>72</th>\n      <td>72.0</td>\n      <td>2022.0</td>\n      <td>NaN</td>\n      <td>difusion redes sociales</td>\n      <td>virtual</td>\n      <td>reels</td>\n      <td>36.0</td>\n      <td>Bolivia</td>\n      <td>N/A</td>\n      <td>Internacional</td>\n      <td>...</td>\n      <td>0</td>\n      <td>0</td>\n      <td>0</td>\n      <td>0</td>\n      <td>0</td>\n      <td>N/A</td>\n      <td>1.0</td>\n      <td>0.0</td>\n      <td>0.0</td>\n      <td>Ninguno</td>\n    </tr>\n    <tr>\n      <th>73</th>\n      <td>73.0</td>\n      <td>2022.0</td>\n      <td>NaN</td>\n      <td>difusion redes sociales</td>\n      <td>virtual</td>\n      <td>posts en instagram</td>\n      <td>116.0</td>\n      <td>Bolivia</td>\n      <td>N/A</td>\n      <td>Internacional</td>\n      <td>...</td>\n      <td>0</td>\n      <td>0</td>\n      <td>0</td>\n      <td>0</td>\n      <td>0</td>\n      <td>N/A</td>\n      <td>1.0</td>\n      <td>0.0</td>\n      <td>0.0</td>\n      <td>Ninguno</td>\n    </tr>\n  </tbody>\n</table>\n<p>23 rows × 31 columns</p>\n</div>"
     },
     "execution_count": 268,
     "metadata": {},
     "output_type": "execute_result"
    }
   ],
   "source": [
    "df_yawar_c[df_yawar_c['tipodeestablecimiento'].isna()]"
   ],
   "metadata": {
    "collapsed": false,
    "ExecuteTime": {
     "end_time": "2024-04-16T20:54:58.341842200Z",
     "start_time": "2024-04-16T20:54:58.310207200Z"
    }
   },
   "id": "1b02bf3c9b806098"
  },
  {
   "cell_type": "code",
   "execution_count": 49,
   "outputs": [],
   "source": [
    "tipo_actividades=['difusion','artistica y cultural']"
   ],
   "metadata": {
    "collapsed": false,
    "ExecuteTime": {
     "end_time": "2024-04-16T20:15:54.141341900Z",
     "start_time": "2024-04-16T20:15:41.785567400Z"
    }
   },
   "id": "8ec48bd2641eae14"
  },
  {
   "cell_type": "code",
   "execution_count": 269,
   "outputs": [],
   "source": [
    "df_yawar_c.loc[(df_yawar_c['tipodeestablecimiento'].isna()) & (df_yawar_c['tipo_actividad'].isin(tipo_actividades)),'tipodeestablecimiento']='N/A'"
   ],
   "metadata": {
    "collapsed": false,
    "ExecuteTime": {
     "end_time": "2024-04-16T20:55:35.804113200Z",
     "start_time": "2024-04-16T20:55:35.725437900Z"
    }
   },
   "id": "3c4fab511aa60a2b"
  },
  {
   "cell_type": "code",
   "execution_count": 270,
   "outputs": [],
   "source": [
    "df_yawar_c.loc[0,'tipodeestablecimiento']='cafeteria'\n",
    "df_yawar_c.loc[1,'tipodeestablecimiento']='casa'"
   ],
   "metadata": {
    "collapsed": false,
    "ExecuteTime": {
     "end_time": "2024-04-16T20:56:26.340203900Z",
     "start_time": "2024-04-16T20:56:26.183712600Z"
    }
   },
   "id": "53bebb3da8a5ff51"
  },
  {
   "cell_type": "code",
   "execution_count": 271,
   "outputs": [
    {
     "data": {
      "text/plain": "       #     año                fecha           tipo_actividad     formato  \\\n62  62.0  2022.0  2022-06-14 00:00:00            conversatorio     virtual   \n64  64.0  2023.0  2024-05-23 00:00:00                  campaña     virtual   \n65  65.0  2022.0  2022-03-21 00:00:00                  campaña     virtual   \n66  66.0  2021.0                12-21                  campaña     virtual   \n67  67.0  2021.0                  NaN  difusion redes sociales     virtual   \n68  68.0  2021.0  2021-11-11 00:00:00  difusion redes sociales     virtual   \n69  69.0  2022.0  2022-10-06 00:00:00  difusion redes sociales     virtual   \n70  70.0  2022.0  2022-11-30 00:00:00  difusion redes sociales     virtual   \n71  71.0  2022.0  2022-05-28 00:00:00  difusion redes sociales     virtual   \n72  72.0  2022.0                  NaN  difusion redes sociales     virtual   \n73  73.0  2022.0                  NaN  difusion redes sociales     virtual   \n74  74.0  2022.0  2022-03-25 00:00:00   medios de comunicacion     virtual   \n75  75.0  2021.0  2021-11-16 00:00:00   medios de comunicacion     virtual   \n76  76.0  2022.0  2022-04-28 00:00:00   medios de comunicacion     virtual   \n77  77.0  2022.0  2022-08-06 00:00:00   medios de comunicacion  presencial   \n78  78.0  2022.0  2022-06-16 00:00:00   medios de comunicacion  presencial   \n79  79.0  2023.0  2023-03-22 00:00:00   medios de comunicacion  presencial   \n80  80.0  2023.0  2023-09-16 00:00:00   medios de comunicacion  presencial   \n81  81.0  2022.0  2022-04-13 00:00:00   medios de comunicacion     virtual   \n82  82.0  2022.0  2022-07-19 00:00:00   medios de comunicacion     virtual   \n83  83.0  2022.0  2022-05-27 00:00:00   medios de comunicacion     virtual   \n\n                                            actividad  cantidad  \\\n62  Conversatorio UNIFRANZ: Viviendo la Menstruaci...       1.0   \n64           Campaña de descuentos por Mayo Menstrual       1.0   \n65              Alianza calzones menstruales con Aura       1.0   \n66  Campaña navideña de descuentos en alianza con ...       0.0   \n67                                              artes      46.0   \n68                                       Videopitch 1       1.0   \n69                                       Videopitch 2       1.0   \n70                           Video de mural menstrual       1.0   \n71                        Video performance artística       1.0   \n72                                              reels      36.0   \n73                                 posts en instagram     116.0   \n74                                 Verdad con tinta 2       1.0   \n75                                 Verdad con tinta 1       1.0   \n76                                           Muy Waso       1.0   \n77                                     Correo del Sur       1.0   \n78                                       Revista Ekos       1.0   \n79                                        Agencia EFE       1.0   \n80                                     Nacer Mujer TV       1.0   \n81                                        Adich Radio       1.0   \n82                                        Adich Radio       1.0   \n83                                    radio Encuentro       1.0   \n\n              pais                ciudad        alcance  ...  \\\n62         Bolivia               El Alto       Nacional  ...   \n64         Bolivia              Nacional       Nacional  ...   \n65         Bolivia                   N/A       Nacional  ...   \n66  Estados Unidos  Bolivia y Nueva York  Internacional  ...   \n67         Bolivia                   N/A       Nacional  ...   \n68         Bolivia               El Alto  Internacional  ...   \n69         Bolivia                 Sucre       Nacional  ...   \n70         Bolivia                 Sucre       Nacional  ...   \n71         Bolivia                 Sucre       Nacional  ...   \n72         Bolivia                   N/A  Internacional  ...   \n73         Bolivia                   N/A  Internacional  ...   \n74         Bolivia                   N/A       Nacional  ...   \n75         Bolivia                   N/A       Nacional  ...   \n76         Bolivia                   N/A       Nacional  ...   \n77         Bolivia                   N/A       Nacional  ...   \n78         Bolivia                   N/A       Nacional  ...   \n79         Bolivia                   N/A  Internacional  ...   \n80         Bolivia                La Paz       Nacional  ...   \n81         Bolivia                 Sucre       Nacional  ...   \n82         Bolivia                 Sucre       Nacional  ...   \n83         Bolivia                 Sucre       Nacional  ...   \n\n   toallasreutilizables calzonesmenstruales kit_insumos_gestiónmenstrual  \\\n62                    0                   0                            0   \n64                    0                   0                            0   \n65                    0                   0                            0   \n66                    0                   0                            0   \n67                    0                   0                            0   \n68                    0                   0                            0   \n69                    0                   0                            0   \n70                    0                   0                            0   \n71                    0                   0                            0   \n72                    0                   0                            0   \n73                    0                   0                            0   \n74                    0                   0                            0   \n75                    0                   0                            0   \n76                    0                   0                            0   \n77                    0                   0                            0   \n78                    0                   0                            0   \n79                    0                   0                            0   \n80                    0                   0                            0   \n81                    0                   0                            0   \n82                    0                   0                            0   \n83                    0                   0                            0   \n\n   qipusmenstruales  expo_duracion tematicataller personal voluntarias  \\\n62                0              0            N/A      1.0         0.0   \n64                0              0            N/A      1.0         0.0   \n65                0              0            N/A      1.0         0.0   \n66                0              0            N/A      1.0         0.0   \n67                0      no aplica      no aplica      1.0         0.0   \n68                0              0            N/A      1.0         0.0   \n69                0              0            N/A      1.0         0.0   \n70                0              0            N/A      1.0         0.0   \n71                0             10            N/A      4.0         2.0   \n72                0              0            N/A      1.0         0.0   \n73                0              0            N/A      1.0         0.0   \n74                0              0            N/A      1.0         0.0   \n75                0              0            N/A      1.0         0.0   \n76                0              0            N/A      1.0         0.0   \n77                0              0            N/A      1.0         0.0   \n78                0              0            N/A      1.0         0.0   \n79                0              0            N/A      1.0         0.0   \n80                0              0            N/A      1.0         0.0   \n81                0              0            N/A      1.0         0.0   \n82                0              0            N/A      1.0         0.0   \n83                0              0            N/A      1.0         0.0   \n\n   expo_tiempo_elabtaller            org_apoyo  \n62                    0.0              Ninguno  \n64                    0.0              Ninguno  \n65                    0.0              Ninguno  \n66                    0.0              Ninguno  \n67                    0.0              Ninguno  \n68                    0.0              Ninguno  \n69                    0.0              Ninguno  \n70                  360.0  Micros para Avanzar  \n71                  300.0        Fondo Apthapi  \n72                    0.0              Ninguno  \n73                    0.0              Ninguno  \n74                    0.0              Ninguno  \n75                    0.0              Ninguno  \n76                    0.0              Ninguno  \n77                    0.0              Ninguno  \n78                    0.0              Ninguno  \n79                    0.0              Ninguno  \n80                    0.0              Ninguno  \n81                    0.0              Ninguno  \n82                    0.0              Ninguno  \n83                    0.0              Ninguno  \n\n[21 rows x 31 columns]",
      "text/html": "<div>\n<style scoped>\n    .dataframe tbody tr th:only-of-type {\n        vertical-align: middle;\n    }\n\n    .dataframe tbody tr th {\n        vertical-align: top;\n    }\n\n    .dataframe thead th {\n        text-align: right;\n    }\n</style>\n<table border=\"1\" class=\"dataframe\">\n  <thead>\n    <tr style=\"text-align: right;\">\n      <th></th>\n      <th>#</th>\n      <th>año</th>\n      <th>fecha</th>\n      <th>tipo_actividad</th>\n      <th>formato</th>\n      <th>actividad</th>\n      <th>cantidad</th>\n      <th>pais</th>\n      <th>ciudad</th>\n      <th>alcance</th>\n      <th>...</th>\n      <th>toallasreutilizables</th>\n      <th>calzonesmenstruales</th>\n      <th>kit_insumos_gestiónmenstrual</th>\n      <th>qipusmenstruales</th>\n      <th>expo_duracion</th>\n      <th>tematicataller</th>\n      <th>personal</th>\n      <th>voluntarias</th>\n      <th>expo_tiempo_elabtaller</th>\n      <th>org_apoyo</th>\n    </tr>\n  </thead>\n  <tbody>\n    <tr>\n      <th>62</th>\n      <td>62.0</td>\n      <td>2022.0</td>\n      <td>2022-06-14 00:00:00</td>\n      <td>conversatorio</td>\n      <td>virtual</td>\n      <td>Conversatorio UNIFRANZ: Viviendo la Menstruaci...</td>\n      <td>1.0</td>\n      <td>Bolivia</td>\n      <td>El Alto</td>\n      <td>Nacional</td>\n      <td>...</td>\n      <td>0</td>\n      <td>0</td>\n      <td>0</td>\n      <td>0</td>\n      <td>0</td>\n      <td>N/A</td>\n      <td>1.0</td>\n      <td>0.0</td>\n      <td>0.0</td>\n      <td>Ninguno</td>\n    </tr>\n    <tr>\n      <th>64</th>\n      <td>64.0</td>\n      <td>2023.0</td>\n      <td>2024-05-23 00:00:00</td>\n      <td>campaña</td>\n      <td>virtual</td>\n      <td>Campaña de descuentos por Mayo Menstrual</td>\n      <td>1.0</td>\n      <td>Bolivia</td>\n      <td>Nacional</td>\n      <td>Nacional</td>\n      <td>...</td>\n      <td>0</td>\n      <td>0</td>\n      <td>0</td>\n      <td>0</td>\n      <td>0</td>\n      <td>N/A</td>\n      <td>1.0</td>\n      <td>0.0</td>\n      <td>0.0</td>\n      <td>Ninguno</td>\n    </tr>\n    <tr>\n      <th>65</th>\n      <td>65.0</td>\n      <td>2022.0</td>\n      <td>2022-03-21 00:00:00</td>\n      <td>campaña</td>\n      <td>virtual</td>\n      <td>Alianza calzones menstruales con Aura</td>\n      <td>1.0</td>\n      <td>Bolivia</td>\n      <td>N/A</td>\n      <td>Nacional</td>\n      <td>...</td>\n      <td>0</td>\n      <td>0</td>\n      <td>0</td>\n      <td>0</td>\n      <td>0</td>\n      <td>N/A</td>\n      <td>1.0</td>\n      <td>0.0</td>\n      <td>0.0</td>\n      <td>Ninguno</td>\n    </tr>\n    <tr>\n      <th>66</th>\n      <td>66.0</td>\n      <td>2021.0</td>\n      <td>12-21</td>\n      <td>campaña</td>\n      <td>virtual</td>\n      <td>Campaña navideña de descuentos en alianza con ...</td>\n      <td>0.0</td>\n      <td>Estados Unidos</td>\n      <td>Bolivia y Nueva York</td>\n      <td>Internacional</td>\n      <td>...</td>\n      <td>0</td>\n      <td>0</td>\n      <td>0</td>\n      <td>0</td>\n      <td>0</td>\n      <td>N/A</td>\n      <td>1.0</td>\n      <td>0.0</td>\n      <td>0.0</td>\n      <td>Ninguno</td>\n    </tr>\n    <tr>\n      <th>67</th>\n      <td>67.0</td>\n      <td>2021.0</td>\n      <td>NaN</td>\n      <td>difusion redes sociales</td>\n      <td>virtual</td>\n      <td>artes</td>\n      <td>46.0</td>\n      <td>Bolivia</td>\n      <td>N/A</td>\n      <td>Nacional</td>\n      <td>...</td>\n      <td>0</td>\n      <td>0</td>\n      <td>0</td>\n      <td>0</td>\n      <td>no aplica</td>\n      <td>no aplica</td>\n      <td>1.0</td>\n      <td>0.0</td>\n      <td>0.0</td>\n      <td>Ninguno</td>\n    </tr>\n    <tr>\n      <th>68</th>\n      <td>68.0</td>\n      <td>2021.0</td>\n      <td>2021-11-11 00:00:00</td>\n      <td>difusion redes sociales</td>\n      <td>virtual</td>\n      <td>Videopitch 1</td>\n      <td>1.0</td>\n      <td>Bolivia</td>\n      <td>El Alto</td>\n      <td>Internacional</td>\n      <td>...</td>\n      <td>0</td>\n      <td>0</td>\n      <td>0</td>\n      <td>0</td>\n      <td>0</td>\n      <td>N/A</td>\n      <td>1.0</td>\n      <td>0.0</td>\n      <td>0.0</td>\n      <td>Ninguno</td>\n    </tr>\n    <tr>\n      <th>69</th>\n      <td>69.0</td>\n      <td>2022.0</td>\n      <td>2022-10-06 00:00:00</td>\n      <td>difusion redes sociales</td>\n      <td>virtual</td>\n      <td>Videopitch 2</td>\n      <td>1.0</td>\n      <td>Bolivia</td>\n      <td>Sucre</td>\n      <td>Nacional</td>\n      <td>...</td>\n      <td>0</td>\n      <td>0</td>\n      <td>0</td>\n      <td>0</td>\n      <td>0</td>\n      <td>N/A</td>\n      <td>1.0</td>\n      <td>0.0</td>\n      <td>0.0</td>\n      <td>Ninguno</td>\n    </tr>\n    <tr>\n      <th>70</th>\n      <td>70.0</td>\n      <td>2022.0</td>\n      <td>2022-11-30 00:00:00</td>\n      <td>difusion redes sociales</td>\n      <td>virtual</td>\n      <td>Video de mural menstrual</td>\n      <td>1.0</td>\n      <td>Bolivia</td>\n      <td>Sucre</td>\n      <td>Nacional</td>\n      <td>...</td>\n      <td>0</td>\n      <td>0</td>\n      <td>0</td>\n      <td>0</td>\n      <td>0</td>\n      <td>N/A</td>\n      <td>1.0</td>\n      <td>0.0</td>\n      <td>360.0</td>\n      <td>Micros para Avanzar</td>\n    </tr>\n    <tr>\n      <th>71</th>\n      <td>71.0</td>\n      <td>2022.0</td>\n      <td>2022-05-28 00:00:00</td>\n      <td>difusion redes sociales</td>\n      <td>virtual</td>\n      <td>Video performance artística</td>\n      <td>1.0</td>\n      <td>Bolivia</td>\n      <td>Sucre</td>\n      <td>Nacional</td>\n      <td>...</td>\n      <td>0</td>\n      <td>0</td>\n      <td>0</td>\n      <td>0</td>\n      <td>10</td>\n      <td>N/A</td>\n      <td>4.0</td>\n      <td>2.0</td>\n      <td>300.0</td>\n      <td>Fondo Apthapi</td>\n    </tr>\n    <tr>\n      <th>72</th>\n      <td>72.0</td>\n      <td>2022.0</td>\n      <td>NaN</td>\n      <td>difusion redes sociales</td>\n      <td>virtual</td>\n      <td>reels</td>\n      <td>36.0</td>\n      <td>Bolivia</td>\n      <td>N/A</td>\n      <td>Internacional</td>\n      <td>...</td>\n      <td>0</td>\n      <td>0</td>\n      <td>0</td>\n      <td>0</td>\n      <td>0</td>\n      <td>N/A</td>\n      <td>1.0</td>\n      <td>0.0</td>\n      <td>0.0</td>\n      <td>Ninguno</td>\n    </tr>\n    <tr>\n      <th>73</th>\n      <td>73.0</td>\n      <td>2022.0</td>\n      <td>NaN</td>\n      <td>difusion redes sociales</td>\n      <td>virtual</td>\n      <td>posts en instagram</td>\n      <td>116.0</td>\n      <td>Bolivia</td>\n      <td>N/A</td>\n      <td>Internacional</td>\n      <td>...</td>\n      <td>0</td>\n      <td>0</td>\n      <td>0</td>\n      <td>0</td>\n      <td>0</td>\n      <td>N/A</td>\n      <td>1.0</td>\n      <td>0.0</td>\n      <td>0.0</td>\n      <td>Ninguno</td>\n    </tr>\n    <tr>\n      <th>74</th>\n      <td>74.0</td>\n      <td>2022.0</td>\n      <td>2022-03-25 00:00:00</td>\n      <td>medios de comunicacion</td>\n      <td>virtual</td>\n      <td>Verdad con tinta 2</td>\n      <td>1.0</td>\n      <td>Bolivia</td>\n      <td>N/A</td>\n      <td>Nacional</td>\n      <td>...</td>\n      <td>0</td>\n      <td>0</td>\n      <td>0</td>\n      <td>0</td>\n      <td>0</td>\n      <td>N/A</td>\n      <td>1.0</td>\n      <td>0.0</td>\n      <td>0.0</td>\n      <td>Ninguno</td>\n    </tr>\n    <tr>\n      <th>75</th>\n      <td>75.0</td>\n      <td>2021.0</td>\n      <td>2021-11-16 00:00:00</td>\n      <td>medios de comunicacion</td>\n      <td>virtual</td>\n      <td>Verdad con tinta 1</td>\n      <td>1.0</td>\n      <td>Bolivia</td>\n      <td>N/A</td>\n      <td>Nacional</td>\n      <td>...</td>\n      <td>0</td>\n      <td>0</td>\n      <td>0</td>\n      <td>0</td>\n      <td>0</td>\n      <td>N/A</td>\n      <td>1.0</td>\n      <td>0.0</td>\n      <td>0.0</td>\n      <td>Ninguno</td>\n    </tr>\n    <tr>\n      <th>76</th>\n      <td>76.0</td>\n      <td>2022.0</td>\n      <td>2022-04-28 00:00:00</td>\n      <td>medios de comunicacion</td>\n      <td>virtual</td>\n      <td>Muy Waso</td>\n      <td>1.0</td>\n      <td>Bolivia</td>\n      <td>N/A</td>\n      <td>Nacional</td>\n      <td>...</td>\n      <td>0</td>\n      <td>0</td>\n      <td>0</td>\n      <td>0</td>\n      <td>0</td>\n      <td>N/A</td>\n      <td>1.0</td>\n      <td>0.0</td>\n      <td>0.0</td>\n      <td>Ninguno</td>\n    </tr>\n    <tr>\n      <th>77</th>\n      <td>77.0</td>\n      <td>2022.0</td>\n      <td>2022-08-06 00:00:00</td>\n      <td>medios de comunicacion</td>\n      <td>presencial</td>\n      <td>Correo del Sur</td>\n      <td>1.0</td>\n      <td>Bolivia</td>\n      <td>N/A</td>\n      <td>Nacional</td>\n      <td>...</td>\n      <td>0</td>\n      <td>0</td>\n      <td>0</td>\n      <td>0</td>\n      <td>0</td>\n      <td>N/A</td>\n      <td>1.0</td>\n      <td>0.0</td>\n      <td>0.0</td>\n      <td>Ninguno</td>\n    </tr>\n    <tr>\n      <th>78</th>\n      <td>78.0</td>\n      <td>2022.0</td>\n      <td>2022-06-16 00:00:00</td>\n      <td>medios de comunicacion</td>\n      <td>presencial</td>\n      <td>Revista Ekos</td>\n      <td>1.0</td>\n      <td>Bolivia</td>\n      <td>N/A</td>\n      <td>Nacional</td>\n      <td>...</td>\n      <td>0</td>\n      <td>0</td>\n      <td>0</td>\n      <td>0</td>\n      <td>0</td>\n      <td>N/A</td>\n      <td>1.0</td>\n      <td>0.0</td>\n      <td>0.0</td>\n      <td>Ninguno</td>\n    </tr>\n    <tr>\n      <th>79</th>\n      <td>79.0</td>\n      <td>2023.0</td>\n      <td>2023-03-22 00:00:00</td>\n      <td>medios de comunicacion</td>\n      <td>presencial</td>\n      <td>Agencia EFE</td>\n      <td>1.0</td>\n      <td>Bolivia</td>\n      <td>N/A</td>\n      <td>Internacional</td>\n      <td>...</td>\n      <td>0</td>\n      <td>0</td>\n      <td>0</td>\n      <td>0</td>\n      <td>0</td>\n      <td>N/A</td>\n      <td>1.0</td>\n      <td>0.0</td>\n      <td>0.0</td>\n      <td>Ninguno</td>\n    </tr>\n    <tr>\n      <th>80</th>\n      <td>80.0</td>\n      <td>2023.0</td>\n      <td>2023-09-16 00:00:00</td>\n      <td>medios de comunicacion</td>\n      <td>presencial</td>\n      <td>Nacer Mujer TV</td>\n      <td>1.0</td>\n      <td>Bolivia</td>\n      <td>La Paz</td>\n      <td>Nacional</td>\n      <td>...</td>\n      <td>0</td>\n      <td>0</td>\n      <td>0</td>\n      <td>0</td>\n      <td>0</td>\n      <td>N/A</td>\n      <td>1.0</td>\n      <td>0.0</td>\n      <td>0.0</td>\n      <td>Ninguno</td>\n    </tr>\n    <tr>\n      <th>81</th>\n      <td>81.0</td>\n      <td>2022.0</td>\n      <td>2022-04-13 00:00:00</td>\n      <td>medios de comunicacion</td>\n      <td>virtual</td>\n      <td>Adich Radio</td>\n      <td>1.0</td>\n      <td>Bolivia</td>\n      <td>Sucre</td>\n      <td>Nacional</td>\n      <td>...</td>\n      <td>0</td>\n      <td>0</td>\n      <td>0</td>\n      <td>0</td>\n      <td>0</td>\n      <td>N/A</td>\n      <td>1.0</td>\n      <td>0.0</td>\n      <td>0.0</td>\n      <td>Ninguno</td>\n    </tr>\n    <tr>\n      <th>82</th>\n      <td>82.0</td>\n      <td>2022.0</td>\n      <td>2022-07-19 00:00:00</td>\n      <td>medios de comunicacion</td>\n      <td>virtual</td>\n      <td>Adich Radio</td>\n      <td>1.0</td>\n      <td>Bolivia</td>\n      <td>Sucre</td>\n      <td>Nacional</td>\n      <td>...</td>\n      <td>0</td>\n      <td>0</td>\n      <td>0</td>\n      <td>0</td>\n      <td>0</td>\n      <td>N/A</td>\n      <td>1.0</td>\n      <td>0.0</td>\n      <td>0.0</td>\n      <td>Ninguno</td>\n    </tr>\n    <tr>\n      <th>83</th>\n      <td>83.0</td>\n      <td>2022.0</td>\n      <td>2022-05-27 00:00:00</td>\n      <td>medios de comunicacion</td>\n      <td>virtual</td>\n      <td>radio Encuentro</td>\n      <td>1.0</td>\n      <td>Bolivia</td>\n      <td>Sucre</td>\n      <td>Nacional</td>\n      <td>...</td>\n      <td>0</td>\n      <td>0</td>\n      <td>0</td>\n      <td>0</td>\n      <td>0</td>\n      <td>N/A</td>\n      <td>1.0</td>\n      <td>0.0</td>\n      <td>0.0</td>\n      <td>Ninguno</td>\n    </tr>\n  </tbody>\n</table>\n<p>21 rows × 31 columns</p>\n</div>"
     },
     "execution_count": 271,
     "metadata": {},
     "output_type": "execute_result"
    }
   ],
   "source": [
    "#tipo de area\n",
    "df_yawar_c[df_yawar_c['tipodearea'].isna()]"
   ],
   "metadata": {
    "collapsed": false,
    "ExecuteTime": {
     "end_time": "2024-04-16T20:56:29.875003400Z",
     "start_time": "2024-04-16T20:56:29.813237Z"
    }
   },
   "id": "d1634d629f291a6b"
  },
  {
   "cell_type": "markdown",
   "source": [
    "Since for those NaN values do not correspond any value, NaN will stay without modification. "
   ],
   "metadata": {
    "collapsed": false
   },
   "id": "2f455d2eb63f6e2b"
  },
  {
   "cell_type": "code",
   "execution_count": 272,
   "outputs": [
    {
     "data": {
      "text/plain": "       #     año fecha           tipo_actividad  formato           actividad  \\\n67  67.0  2021.0   NaN  difusion redes sociales  virtual               artes   \n72  72.0  2022.0   NaN  difusion redes sociales  virtual               reels   \n73  73.0  2022.0   NaN  difusion redes sociales  virtual  posts en instagram   \n\n    cantidad     pais ciudad        alcance  ... toallasreutilizables  \\\n67      46.0  Bolivia    N/A       Nacional  ...                    0   \n72      36.0  Bolivia    N/A  Internacional  ...                    0   \n73     116.0  Bolivia    N/A  Internacional  ...                    0   \n\n   calzonesmenstruales kit_insumos_gestiónmenstrual qipusmenstruales  \\\n67                   0                            0                0   \n72                   0                            0                0   \n73                   0                            0                0   \n\n    expo_duracion tematicataller personal voluntarias expo_tiempo_elabtaller  \\\n67      no aplica      no aplica      1.0         0.0                    0.0   \n72              0            N/A      1.0         0.0                    0.0   \n73              0            N/A      1.0         0.0                    0.0   \n\n   org_apoyo  \n67   Ninguno  \n72   Ninguno  \n73   Ninguno  \n\n[3 rows x 31 columns]",
      "text/html": "<div>\n<style scoped>\n    .dataframe tbody tr th:only-of-type {\n        vertical-align: middle;\n    }\n\n    .dataframe tbody tr th {\n        vertical-align: top;\n    }\n\n    .dataframe thead th {\n        text-align: right;\n    }\n</style>\n<table border=\"1\" class=\"dataframe\">\n  <thead>\n    <tr style=\"text-align: right;\">\n      <th></th>\n      <th>#</th>\n      <th>año</th>\n      <th>fecha</th>\n      <th>tipo_actividad</th>\n      <th>formato</th>\n      <th>actividad</th>\n      <th>cantidad</th>\n      <th>pais</th>\n      <th>ciudad</th>\n      <th>alcance</th>\n      <th>...</th>\n      <th>toallasreutilizables</th>\n      <th>calzonesmenstruales</th>\n      <th>kit_insumos_gestiónmenstrual</th>\n      <th>qipusmenstruales</th>\n      <th>expo_duracion</th>\n      <th>tematicataller</th>\n      <th>personal</th>\n      <th>voluntarias</th>\n      <th>expo_tiempo_elabtaller</th>\n      <th>org_apoyo</th>\n    </tr>\n  </thead>\n  <tbody>\n    <tr>\n      <th>67</th>\n      <td>67.0</td>\n      <td>2021.0</td>\n      <td>NaN</td>\n      <td>difusion redes sociales</td>\n      <td>virtual</td>\n      <td>artes</td>\n      <td>46.0</td>\n      <td>Bolivia</td>\n      <td>N/A</td>\n      <td>Nacional</td>\n      <td>...</td>\n      <td>0</td>\n      <td>0</td>\n      <td>0</td>\n      <td>0</td>\n      <td>no aplica</td>\n      <td>no aplica</td>\n      <td>1.0</td>\n      <td>0.0</td>\n      <td>0.0</td>\n      <td>Ninguno</td>\n    </tr>\n    <tr>\n      <th>72</th>\n      <td>72.0</td>\n      <td>2022.0</td>\n      <td>NaN</td>\n      <td>difusion redes sociales</td>\n      <td>virtual</td>\n      <td>reels</td>\n      <td>36.0</td>\n      <td>Bolivia</td>\n      <td>N/A</td>\n      <td>Internacional</td>\n      <td>...</td>\n      <td>0</td>\n      <td>0</td>\n      <td>0</td>\n      <td>0</td>\n      <td>0</td>\n      <td>N/A</td>\n      <td>1.0</td>\n      <td>0.0</td>\n      <td>0.0</td>\n      <td>Ninguno</td>\n    </tr>\n    <tr>\n      <th>73</th>\n      <td>73.0</td>\n      <td>2022.0</td>\n      <td>NaN</td>\n      <td>difusion redes sociales</td>\n      <td>virtual</td>\n      <td>posts en instagram</td>\n      <td>116.0</td>\n      <td>Bolivia</td>\n      <td>N/A</td>\n      <td>Internacional</td>\n      <td>...</td>\n      <td>0</td>\n      <td>0</td>\n      <td>0</td>\n      <td>0</td>\n      <td>0</td>\n      <td>N/A</td>\n      <td>1.0</td>\n      <td>0.0</td>\n      <td>0.0</td>\n      <td>Ninguno</td>\n    </tr>\n  </tbody>\n</table>\n<p>3 rows × 31 columns</p>\n</div>"
     },
     "execution_count": 272,
     "metadata": {},
     "output_type": "execute_result"
    }
   ],
   "source": [
    "df_yawar_c[df_yawar_c['fecha'].isna()]"
   ],
   "metadata": {
    "collapsed": false,
    "ExecuteTime": {
     "end_time": "2024-04-16T20:56:35.137251900Z",
     "start_time": "2024-04-16T20:56:35.099037800Z"
    }
   },
   "id": "659258a2fad8c525"
  },
  {
   "cell_type": "code",
   "execution_count": 273,
   "outputs": [
    {
     "data": {
      "text/plain": "   fecha           tipo_actividad\n67   NaN  difusion redes sociales\n72   NaN  difusion redes sociales\n73   NaN  difusion redes sociales",
      "text/html": "<div>\n<style scoped>\n    .dataframe tbody tr th:only-of-type {\n        vertical-align: middle;\n    }\n\n    .dataframe tbody tr th {\n        vertical-align: top;\n    }\n\n    .dataframe thead th {\n        text-align: right;\n    }\n</style>\n<table border=\"1\" class=\"dataframe\">\n  <thead>\n    <tr style=\"text-align: right;\">\n      <th></th>\n      <th>fecha</th>\n      <th>tipo_actividad</th>\n    </tr>\n  </thead>\n  <tbody>\n    <tr>\n      <th>67</th>\n      <td>NaN</td>\n      <td>difusion redes sociales</td>\n    </tr>\n    <tr>\n      <th>72</th>\n      <td>NaN</td>\n      <td>difusion redes sociales</td>\n    </tr>\n    <tr>\n      <th>73</th>\n      <td>NaN</td>\n      <td>difusion redes sociales</td>\n    </tr>\n  </tbody>\n</table>\n</div>"
     },
     "execution_count": 273,
     "metadata": {},
     "output_type": "execute_result"
    }
   ],
   "source": [
    "df_yawar_c.loc[df_yawar_c['fecha'].isna(),['fecha','tipo_actividad']]"
   ],
   "metadata": {
    "collapsed": false,
    "ExecuteTime": {
     "end_time": "2024-04-16T20:57:01.465909400Z",
     "start_time": "2024-04-16T20:57:01.242162200Z"
    }
   },
   "id": "b2d6683882456087"
  },
  {
   "cell_type": "code",
   "execution_count": 274,
   "outputs": [
    {
     "name": "stderr",
     "output_type": "stream",
     "text": [
      "C:\\Users\\luzna\\AppData\\Local\\Temp\\ipykernel_34296\\310772416.py:1: FutureWarning: A value is trying to be set on a copy of a DataFrame or Series through chained assignment using an inplace method.\n",
      "The behavior will change in pandas 3.0. This inplace method will never work because the intermediate object on which we are setting values always behaves as a copy.\n",
      "\n",
      "For example, when doing 'df[col].method(value, inplace=True)', try using 'df.method({col: value}, inplace=True)' or df[col] = df[col].method(value) instead, to perform the operation inplace on the original object.\n",
      "\n",
      "\n",
      "  df_yawar_c['fecha'].fillna(method='ffill', inplace=True)\n",
      "C:\\Users\\luzna\\AppData\\Local\\Temp\\ipykernel_34296\\310772416.py:1: FutureWarning: Series.fillna with 'method' is deprecated and will raise in a future version. Use obj.ffill() or obj.bfill() instead.\n",
      "  df_yawar_c['fecha'].fillna(method='ffill', inplace=True)\n"
     ]
    }
   ],
   "source": [
    "df_yawar_c['fecha'].fillna(method='ffill', inplace=True)"
   ],
   "metadata": {
    "collapsed": false,
    "ExecuteTime": {
     "end_time": "2024-04-16T20:57:24.466757900Z",
     "start_time": "2024-04-16T20:57:24.438284800Z"
    }
   },
   "id": "85b134453ea52e82"
  },
  {
   "cell_type": "markdown",
   "source": [
    "### Duplicated values"
   ],
   "metadata": {
    "collapsed": false
   },
   "id": "9ec27accec2c44eb"
  },
  {
   "cell_type": "code",
   "execution_count": 275,
   "outputs": [
    {
     "data": {
      "text/plain": "Empty DataFrame\nColumns: [#, año, fecha, tipo_actividad, formato, actividad, cantidad, pais, ciudad, alcance, localidad, lugar, tipodearea, tipodeestablecimiento, personasalcanzadas_cant, edad, poblacion, vulnerabilidad, dotacióninsumos, toallasdesechables, copasmenstruales, toallasreutilizables, calzonesmenstruales, kit_insumos_gestiónmenstrual, qipusmenstruales, expo_duracion, tematicataller, personal, voluntarias, expo_tiempo_elabtaller, org_apoyo]\nIndex: []\n\n[0 rows x 31 columns]",
      "text/html": "<div>\n<style scoped>\n    .dataframe tbody tr th:only-of-type {\n        vertical-align: middle;\n    }\n\n    .dataframe tbody tr th {\n        vertical-align: top;\n    }\n\n    .dataframe thead th {\n        text-align: right;\n    }\n</style>\n<table border=\"1\" class=\"dataframe\">\n  <thead>\n    <tr style=\"text-align: right;\">\n      <th></th>\n      <th>#</th>\n      <th>año</th>\n      <th>fecha</th>\n      <th>tipo_actividad</th>\n      <th>formato</th>\n      <th>actividad</th>\n      <th>cantidad</th>\n      <th>pais</th>\n      <th>ciudad</th>\n      <th>alcance</th>\n      <th>...</th>\n      <th>toallasreutilizables</th>\n      <th>calzonesmenstruales</th>\n      <th>kit_insumos_gestiónmenstrual</th>\n      <th>qipusmenstruales</th>\n      <th>expo_duracion</th>\n      <th>tematicataller</th>\n      <th>personal</th>\n      <th>voluntarias</th>\n      <th>expo_tiempo_elabtaller</th>\n      <th>org_apoyo</th>\n    </tr>\n  </thead>\n  <tbody>\n  </tbody>\n</table>\n<p>0 rows × 31 columns</p>\n</div>"
     },
     "execution_count": 275,
     "metadata": {},
     "output_type": "execute_result"
    }
   ],
   "source": [
    "df_yawar_c[df_yawar_c.duplicated(keep=False)]"
   ],
   "metadata": {
    "collapsed": false,
    "ExecuteTime": {
     "end_time": "2024-04-16T20:57:34.124623400Z",
     "start_time": "2024-04-16T20:57:34.063255400Z"
    }
   },
   "id": "98f258f6059e367b"
  },
  {
   "cell_type": "code",
   "execution_count": 276,
   "outputs": [],
   "source": [
    "df_yawar_c.drop_duplicates(keep=False, inplace=True)"
   ],
   "metadata": {
    "collapsed": false,
    "ExecuteTime": {
     "end_time": "2024-04-16T20:57:45.888898Z",
     "start_time": "2024-04-16T20:57:45.720404400Z"
    }
   },
   "id": "406a9e79640c98f3"
  },
  {
   "cell_type": "code",
   "execution_count": 277,
   "outputs": [
    {
     "data": {
      "text/plain": "0"
     },
     "execution_count": 277,
     "metadata": {},
     "output_type": "execute_result"
    }
   ],
   "source": [
    "df_yawar_c.duplicated().sum()"
   ],
   "metadata": {
    "collapsed": false,
    "ExecuteTime": {
     "end_time": "2024-04-16T20:57:47.735600Z",
     "start_time": "2024-04-16T20:57:47.688778300Z"
    }
   },
   "id": "f9f91272db6f2c62"
  },
  {
   "cell_type": "markdown",
   "source": [
    "## Continous with EDA process"
   ],
   "metadata": {
    "collapsed": false
   },
   "id": "3526d62b3d2abb61"
  },
  {
   "cell_type": "code",
   "execution_count": 278,
   "outputs": [
    {
     "name": "stdout",
     "output_type": "stream",
     "text": [
      "<class 'pandas.core.frame.DataFrame'>\n",
      "RangeIndex: 84 entries, 0 to 83\n",
      "Data columns (total 31 columns):\n",
      " #   Column                        Non-Null Count  Dtype  \n",
      "---  ------                        --------------  -----  \n",
      " 0   #                             83 non-null     float64\n",
      " 1   año                           84 non-null     float64\n",
      " 2   fecha                         84 non-null     object \n",
      " 3   tipo_actividad                84 non-null     object \n",
      " 4   formato                       84 non-null     object \n",
      " 5   actividad                     84 non-null     object \n",
      " 6   cantidad                      84 non-null     float64\n",
      " 7   pais                          84 non-null     object \n",
      " 8   ciudad                        84 non-null     object \n",
      " 9   alcance                       84 non-null     object \n",
      " 10  localidad                     84 non-null     object \n",
      " 11  lugar                         84 non-null     object \n",
      " 12  tipodearea                    63 non-null     object \n",
      " 13  tipodeestablecimiento         74 non-null     object \n",
      " 14  personasalcanzadas_cant       84 non-null     float64\n",
      " 15  edad                          84 non-null     object \n",
      " 16  poblacion                     84 non-null     object \n",
      " 17  vulnerabilidad                84 non-null     object \n",
      " 18  dotacióninsumos               84 non-null     object \n",
      " 19  toallasdesechables            84 non-null     object \n",
      " 20  copasmenstruales              84 non-null     object \n",
      " 21  toallasreutilizables          84 non-null     object \n",
      " 22  calzonesmenstruales           84 non-null     object \n",
      " 23  kit_insumos_gestiónmenstrual  84 non-null     object \n",
      " 24  qipusmenstruales              84 non-null     object \n",
      " 25  expo_duracion                 84 non-null     object \n",
      " 26  tematicataller                84 non-null     object \n",
      " 27  personal                      84 non-null     float64\n",
      " 28  voluntarias                   84 non-null     float64\n",
      " 29  expo_tiempo_elabtaller        84 non-null     float64\n",
      " 30  org_apoyo                     84 non-null     object \n",
      "dtypes: float64(7), object(24)\n",
      "memory usage: 20.5+ KB\n"
     ]
    }
   ],
   "source": [
    "df_yawar_c.info()"
   ],
   "metadata": {
    "collapsed": false,
    "ExecuteTime": {
     "end_time": "2024-04-16T20:57:50.369799800Z",
     "start_time": "2024-04-16T20:57:50.105018100Z"
    }
   },
   "id": "877e8f837d0c9707"
  },
  {
   "cell_type": "code",
   "execution_count": 60,
   "outputs": [
    {
     "data": {
      "text/plain": "       #     año                fecha          tipo_actividad      formato  \\\n3    4.0  2022.0  2022-07-08 00:00:00                  taller   presencial   \n19  20.0  2022.0  2022-11-06 00:00:00                  taller  presencial    \n78  78.0  2022.0  2022-06-16 00:00:00  medios de comunicacion      escrito   \n38  39.0  2023.0  2023-03-30 00:00:00                  taller     virtual    \n21  22.0  2022.0  2022-02-10 00:00:00                  taller      virtual   \n\n            actividad  cantidad     pais             ciudad   alcance  ...  \\\n3        ALTO ALDEAS        1.0  Bolivia            El Alto  Nacional  ...   \n19        CERPI SUCRE       1.0  Bolivia              Sucre  Nacional  ...   \n78       Revista Ekos       1.0  Bolivia                N/A  Nacional  ...   \n38       Rapsistencia       1.0  Bolivia  Diversas ciudades  Nacional  ...   \n21  Voluntarias Yawar       1.0  Bolivia           El Alto   Nacional  ...   \n\n   toallasreutilizables calzonesmenstruales kit_insumos_gestiónmenstrual  \\\n3                    No                   1                           17   \n19                   20                  No                           No   \n78                    0                   0                            0   \n38                   No                  No                           No   \n21                   No                  No                           No   \n\n   q'ipusmenstruales  expo_duracion                 tematicataller  \\\n3                 No            210  vivencia menstrual-ovulatoria   \n19                No              0        elaboración de toallas    \n78               NaN              0                            N/A   \n38                No            210  vivencia menstrual-ovulatoria   \n21                No            210  vivencia menstrual-ovulatoria   \n\n   expo_personal voluntarias expo_tiempo_elabtaller            org_apoyo  \n3            1.0         5.0                  480.0       Aptapi Jopueti  \n19           2.0         1.0                  330.0  Micros para Avanzar  \n78           1.0         0.0                    0.0              Ninguno  \n38           1.0         0.0                  330.0       Aptapi Jopueti  \n21           1.0         6.0                  330.0       Aptapi Jopueti  \n\n[5 rows x 31 columns]",
      "text/html": "<div>\n<style scoped>\n    .dataframe tbody tr th:only-of-type {\n        vertical-align: middle;\n    }\n\n    .dataframe tbody tr th {\n        vertical-align: top;\n    }\n\n    .dataframe thead th {\n        text-align: right;\n    }\n</style>\n<table border=\"1\" class=\"dataframe\">\n  <thead>\n    <tr style=\"text-align: right;\">\n      <th></th>\n      <th>#</th>\n      <th>año</th>\n      <th>fecha</th>\n      <th>tipo_actividad</th>\n      <th>formato</th>\n      <th>actividad</th>\n      <th>cantidad</th>\n      <th>pais</th>\n      <th>ciudad</th>\n      <th>alcance</th>\n      <th>...</th>\n      <th>toallasreutilizables</th>\n      <th>calzonesmenstruales</th>\n      <th>kit_insumos_gestiónmenstrual</th>\n      <th>q'ipusmenstruales</th>\n      <th>expo_duracion</th>\n      <th>tematicataller</th>\n      <th>expo_personal</th>\n      <th>voluntarias</th>\n      <th>expo_tiempo_elabtaller</th>\n      <th>org_apoyo</th>\n    </tr>\n  </thead>\n  <tbody>\n    <tr>\n      <th>3</th>\n      <td>4.0</td>\n      <td>2022.0</td>\n      <td>2022-07-08 00:00:00</td>\n      <td>taller</td>\n      <td>presencial</td>\n      <td>ALTO ALDEAS</td>\n      <td>1.0</td>\n      <td>Bolivia</td>\n      <td>El Alto</td>\n      <td>Nacional</td>\n      <td>...</td>\n      <td>No</td>\n      <td>1</td>\n      <td>17</td>\n      <td>No</td>\n      <td>210</td>\n      <td>vivencia menstrual-ovulatoria</td>\n      <td>1.0</td>\n      <td>5.0</td>\n      <td>480.0</td>\n      <td>Aptapi Jopueti</td>\n    </tr>\n    <tr>\n      <th>19</th>\n      <td>20.0</td>\n      <td>2022.0</td>\n      <td>2022-11-06 00:00:00</td>\n      <td>taller</td>\n      <td>presencial</td>\n      <td>CERPI SUCRE</td>\n      <td>1.0</td>\n      <td>Bolivia</td>\n      <td>Sucre</td>\n      <td>Nacional</td>\n      <td>...</td>\n      <td>20</td>\n      <td>No</td>\n      <td>No</td>\n      <td>No</td>\n      <td>0</td>\n      <td>elaboración de toallas</td>\n      <td>2.0</td>\n      <td>1.0</td>\n      <td>330.0</td>\n      <td>Micros para Avanzar</td>\n    </tr>\n    <tr>\n      <th>78</th>\n      <td>78.0</td>\n      <td>2022.0</td>\n      <td>2022-06-16 00:00:00</td>\n      <td>medios de comunicacion</td>\n      <td>escrito</td>\n      <td>Revista Ekos</td>\n      <td>1.0</td>\n      <td>Bolivia</td>\n      <td>N/A</td>\n      <td>Nacional</td>\n      <td>...</td>\n      <td>0</td>\n      <td>0</td>\n      <td>0</td>\n      <td>NaN</td>\n      <td>0</td>\n      <td>N/A</td>\n      <td>1.0</td>\n      <td>0.0</td>\n      <td>0.0</td>\n      <td>Ninguno</td>\n    </tr>\n    <tr>\n      <th>38</th>\n      <td>39.0</td>\n      <td>2023.0</td>\n      <td>2023-03-30 00:00:00</td>\n      <td>taller</td>\n      <td>virtual</td>\n      <td>Rapsistencia</td>\n      <td>1.0</td>\n      <td>Bolivia</td>\n      <td>Diversas ciudades</td>\n      <td>Nacional</td>\n      <td>...</td>\n      <td>No</td>\n      <td>No</td>\n      <td>No</td>\n      <td>No</td>\n      <td>210</td>\n      <td>vivencia menstrual-ovulatoria</td>\n      <td>1.0</td>\n      <td>0.0</td>\n      <td>330.0</td>\n      <td>Aptapi Jopueti</td>\n    </tr>\n    <tr>\n      <th>21</th>\n      <td>22.0</td>\n      <td>2022.0</td>\n      <td>2022-02-10 00:00:00</td>\n      <td>taller</td>\n      <td>virtual</td>\n      <td>Voluntarias Yawar</td>\n      <td>1.0</td>\n      <td>Bolivia</td>\n      <td>El Alto</td>\n      <td>Nacional</td>\n      <td>...</td>\n      <td>No</td>\n      <td>No</td>\n      <td>No</td>\n      <td>No</td>\n      <td>210</td>\n      <td>vivencia menstrual-ovulatoria</td>\n      <td>1.0</td>\n      <td>6.0</td>\n      <td>330.0</td>\n      <td>Aptapi Jopueti</td>\n    </tr>\n  </tbody>\n</table>\n<p>5 rows × 31 columns</p>\n</div>"
     },
     "execution_count": 60,
     "metadata": {},
     "output_type": "execute_result"
    }
   ],
   "source": [
    "df_yawar_c.sample(5)"
   ],
   "metadata": {
    "collapsed": false,
    "ExecuteTime": {
     "end_time": "2024-04-16T20:15:54.153689100Z",
     "start_time": "2024-04-16T20:15:42.039055600Z"
    }
   },
   "id": "a1359e0d3963e0d6"
  },
  {
   "cell_type": "markdown",
   "source": [
    "### Data type conversions"
   ],
   "metadata": {
    "collapsed": false
   },
   "id": "39752bd9f1f773e7"
  },
  {
   "cell_type": "code",
   "execution_count": 279,
   "outputs": [],
   "source": [
    "df_yawar_c.loc[df_yawar_c['personasalcanzadas_cant']=='N/A','personasalcanzadas_cant']=0"
   ],
   "metadata": {
    "collapsed": false,
    "ExecuteTime": {
     "end_time": "2024-04-16T20:58:31.417270500Z",
     "start_time": "2024-04-16T20:58:31.369729600Z"
    }
   },
   "id": "f0a7581a28767c58"
  },
  {
   "cell_type": "code",
   "execution_count": 280,
   "outputs": [],
   "source": [
    "df_yawar_c.loc[df_yawar_c['expo_duracion']=='no aplica','expo_duracion']=0"
   ],
   "metadata": {
    "collapsed": false,
    "ExecuteTime": {
     "end_time": "2024-04-16T20:58:38.225722600Z",
     "start_time": "2024-04-16T20:58:38.163574900Z"
    }
   },
   "id": "f35799306550fd76"
  },
  {
   "cell_type": "code",
   "execution_count": 281,
   "outputs": [],
   "source": [
    "df_yawar_c.loc[df_yawar_c['expo_duracion']=='N/A','expo_duracion']=0\n",
    "df_yawar_c.loc[df_yawar_c['expo_tiempo_elabtaller']=='N/A','expo_tiempo_elabtaller']=0"
   ],
   "metadata": {
    "collapsed": false,
    "ExecuteTime": {
     "end_time": "2024-04-16T20:58:40.538818Z",
     "start_time": "2024-04-16T20:58:40.496418900Z"
    }
   },
   "id": "ed6ccde486e0494f"
  },
  {
   "cell_type": "code",
   "execution_count": 283,
   "outputs": [],
   "source": [
    "df_yawar_c.loc[df_yawar_c['toallasdesechables']=='No','toallasdesechables']=0\n",
    "df_yawar_c.loc[df_yawar_c['copasmenstruales']=='No','copasmenstruales']=0\n",
    "df_yawar_c.loc[df_yawar_c['toallasreutilizables']=='No','toallasreutilizables']=0\n",
    "df_yawar_c.loc[df_yawar_c['calzonesmenstruales']=='No','calzonesmenstruales']=0\n",
    "df_yawar_c.loc[df_yawar_c['kit_insumos_gestiónmenstrual']=='No','kit_insumos_gestiónmenstrual']=0\n",
    "df_yawar_c.loc[df_yawar_c['qipusmenstruales']=='No','qipusmenstruales']=0"
   ],
   "metadata": {
    "collapsed": false,
    "ExecuteTime": {
     "end_time": "2024-04-16T20:59:00.461323300Z",
     "start_time": "2024-04-16T20:59:00.384239800Z"
    }
   },
   "id": "c67e0f5d902478e1"
  },
  {
   "cell_type": "code",
   "execution_count": 514,
   "outputs": [],
   "source": [
    "df_yawar_c=df_yawar_c.assign(\n",
    "    año=lambda x:x.año.astype('int'),\n",
    "    cantidad=lambda x:x['cantidad'].astype('int'),\n",
    "    personasalcanzadas_cant=lambda x:x['personasalcanzadas_cant'].astype('int'),\n",
    "    toallasdesechables=lambda x:x['toallasdesechables'].astype('int'),\n",
    "    copasmenstruales=lambda x:x['copasmenstruales'].astype('int'),\n",
    "    toallasreutilizables=lambda x:x['toallasreutilizables'].astype('int'),\n",
    "    calzonesmenstruales=lambda x:x['calzonesmenstruales'].astype('int'),\n",
    "    kit_insumos_gestiónmenstrual=lambda x:x['kit_insumos_gestiónmenstrual'].astype('int'),\n",
    "    qipusmenstruales=lambda x:x['qipusmenstruales'].astype('int'),\n",
    "    personal=lambda x:x['personal'].astype('int'),\n",
    "    voluntarias=lambda x:x['voluntarias'].astype('int'),\n",
    "    expo_duracion=lambda x:x['expo_duracion'].astype('float'),\n",
    ")"
   ],
   "metadata": {
    "collapsed": false,
    "ExecuteTime": {
     "end_time": "2024-04-16T22:44:58.574089600Z",
     "start_time": "2024-04-16T22:44:58.501158700Z"
    }
   },
   "id": "8f90b134f6273918"
  },
  {
   "cell_type": "markdown",
   "source": [
    "At fecha column there seems to be incorrect information with strings such as nov.dic.23. This should be corrected."
   ],
   "metadata": {
    "collapsed": false
   },
   "id": "1dd6b850e0864261"
  },
  {
   "cell_type": "code",
   "execution_count": 290,
   "outputs": [
    {
     "data": {
      "text/plain": "0     2022-03-10 00:00:00\n1     2022-04-09 00:00:00\n2     2022-07-07 00:00:00\n3     2022-07-08 00:00:00\n4     2022-07-09 00:00:00\n5     2023-09-06 00:00:00\n6     2022-09-08 00:00:00\n7     2022-09-12 00:00:00\n8     2022-09-15 00:00:00\n9     2022-06-24 00:00:00\n10    2022-04-14 00:00:00\n11    2022-05-04 00:00:00\n12    2022-05-24 00:00:00\n13    2022-06-22 00:00:00\n14    2022-07-02 00:00:00\n15    2022-06-28 00:00:00\n16    2022-06-29 00:00:00\n17    2022-08-26 00:00:00\n18    2022-11-05 00:00:00\n19    2022-11-06 00:00:00\n20    2022-08-14 00:00:00\n21    2022-02-10 00:00:00\n22    2022-03-03 00:00:00\n23    2022-03-24 00:00:00\n24    2022-04-14 00:00:00\n25    2022-05-04 00:00:00\n26    2022-05-24 00:00:00\n27    2022-06-10 00:00:00\n28    2022-06-22 00:00:00\n29    2022-09-24 00:00:00\n30    2022-09-28 00:00:00\n31    2022-10-05 00:00:00\n32    2022-10-12 00:00:00\n33    2022-02-24 00:00:00\n34    2023-03-01 00:00:00\n35    2023-03-06 00:00:00\n36    2023-03-09 00:00:00\n37    2023-03-11 00:00:00\n38    2023-03-30 00:00:00\n39    2023-04-19 00:00:00\n40    2023-03-26 00:00:00\n41    2023-05-26 00:00:00\n42    2023-04-20 00:00:00\n43    2023-06-17 00:00:00\n44    2023-06-24 00:00:00\n45    2023-09-13 00:00:00\n46    2023-06-20 00:00:00\n47    2023-11-02 00:00:00\n48           nov. dic. 23\n49    2024-04-13 00:00:00\nName: fecha, dtype: object"
     },
     "execution_count": 290,
     "metadata": {},
     "output_type": "execute_result"
    }
   ],
   "source": [
    "df_yawar_c['fecha'].head(50)"
   ],
   "metadata": {
    "collapsed": false,
    "ExecuteTime": {
     "end_time": "2024-04-16T21:03:27.050388200Z",
     "start_time": "2024-04-16T21:03:26.977313700Z"
    }
   },
   "id": "6b18b451c187c0bc"
  },
  {
   "cell_type": "code",
   "execution_count": 297,
   "outputs": [
    {
     "data": {
      "text/plain": "0"
     },
     "execution_count": 297,
     "metadata": {},
     "output_type": "execute_result"
    }
   ],
   "source": [
    "df_yawar_c['fecha'].isna().sum()"
   ],
   "metadata": {
    "collapsed": false,
    "ExecuteTime": {
     "end_time": "2024-04-16T21:10:00.498075600Z",
     "start_time": "2024-04-16T21:10:00.470098400Z"
    }
   },
   "id": "6131f98172dc5efd"
  },
  {
   "cell_type": "code",
   "execution_count": 299,
   "outputs": [
    {
     "data": {
      "text/plain": "Empty DataFrame\nColumns: [#, año, fecha, tipo_actividad, formato, actividad, cantidad, pais, ciudad, alcance, localidad, lugar, tipodearea, tipodeestablecimiento, personasalcanzadas_cant, edad, poblacion, vulnerabilidad, dotacióninsumos, toallasdesechables, copasmenstruales, toallasreutilizables, calzonesmenstruales, kit_insumos_gestiónmenstrual, qipusmenstruales, expo_duracion, tematicataller, personal, voluntarias, expo_tiempo_elabtaller, org_apoyo, toallasdesechablesa]\nIndex: []\n\n[0 rows x 32 columns]",
      "text/html": "<div>\n<style scoped>\n    .dataframe tbody tr th:only-of-type {\n        vertical-align: middle;\n    }\n\n    .dataframe tbody tr th {\n        vertical-align: top;\n    }\n\n    .dataframe thead th {\n        text-align: right;\n    }\n</style>\n<table border=\"1\" class=\"dataframe\">\n  <thead>\n    <tr style=\"text-align: right;\">\n      <th></th>\n      <th>#</th>\n      <th>año</th>\n      <th>fecha</th>\n      <th>tipo_actividad</th>\n      <th>formato</th>\n      <th>actividad</th>\n      <th>cantidad</th>\n      <th>pais</th>\n      <th>ciudad</th>\n      <th>alcance</th>\n      <th>...</th>\n      <th>calzonesmenstruales</th>\n      <th>kit_insumos_gestiónmenstrual</th>\n      <th>qipusmenstruales</th>\n      <th>expo_duracion</th>\n      <th>tematicataller</th>\n      <th>personal</th>\n      <th>voluntarias</th>\n      <th>expo_tiempo_elabtaller</th>\n      <th>org_apoyo</th>\n      <th>toallasdesechablesa</th>\n    </tr>\n  </thead>\n  <tbody>\n  </tbody>\n</table>\n<p>0 rows × 32 columns</p>\n</div>"
     },
     "execution_count": 299,
     "metadata": {},
     "output_type": "execute_result"
    }
   ],
   "source": [
    "df_yawar_c[df_yawar_c['fecha']=='NaN']"
   ],
   "metadata": {
    "collapsed": false,
    "ExecuteTime": {
     "end_time": "2024-04-16T21:10:18.537822500Z",
     "start_time": "2024-04-16T21:10:18.488132100Z"
    }
   },
   "id": "c988cd911b924be8"
  },
  {
   "cell_type": "code",
   "execution_count": 316,
   "outputs": [
    {
     "data": {
      "text/plain": "       #   año  fecha           tipo_actividad     formato  \\\n56  56.0  2022  10-22     artistica y cultural  presencial   \n57  57.0  2022  11-22     artistica y cultural  presencial   \n66  66.0  2021  12-21                  campaña     virtual   \n67  67.0  2021  12-21  difusion redes sociales     virtual   \n\n                                            actividad  cantidad  \\\n56  Elaboración de un mural menstrual, de 30 metro...         1   \n57               Cartilla educativa con ilustraciones         1   \n66  Campaña navideña de descuentos en alianza con ...         0   \n67                                              artes        46   \n\n              pais                ciudad        alcance  ...  \\\n56         Bolivia                 Sucre       Nacional  ...   \n57         Bolivia                   N/A       Nacional  ...   \n66  Estados Unidos  Bolivia y Nueva York  Internacional  ...   \n67         Bolivia                   N/A       Nacional  ...   \n\n   calzonesmenstruales kit_insumos_gestiónmenstrual qipusmenstruales  \\\n56                   0                            0                0   \n57                   0                            0                0   \n66                   0                            0                0   \n67                   0                            0                0   \n\n   expo_duracion  tematicataller personal voluntarias expo_tiempo_elabtaller  \\\n56           0.0             N/A        1           0                    0.0   \n57           0.0             N/A        1           0                    0.0   \n66           0.0             N/A        1           0                    0.0   \n67           0.0       no aplica        1           0                    0.0   \n\n   org_apoyo toallasdesechablesa  \n56   Ninguno                   0  \n57   Ninguno                   0  \n66   Ninguno                   0  \n67   Ninguno                   0  \n\n[4 rows x 32 columns]",
      "text/html": "<div>\n<style scoped>\n    .dataframe tbody tr th:only-of-type {\n        vertical-align: middle;\n    }\n\n    .dataframe tbody tr th {\n        vertical-align: top;\n    }\n\n    .dataframe thead th {\n        text-align: right;\n    }\n</style>\n<table border=\"1\" class=\"dataframe\">\n  <thead>\n    <tr style=\"text-align: right;\">\n      <th></th>\n      <th>#</th>\n      <th>año</th>\n      <th>fecha</th>\n      <th>tipo_actividad</th>\n      <th>formato</th>\n      <th>actividad</th>\n      <th>cantidad</th>\n      <th>pais</th>\n      <th>ciudad</th>\n      <th>alcance</th>\n      <th>...</th>\n      <th>calzonesmenstruales</th>\n      <th>kit_insumos_gestiónmenstrual</th>\n      <th>qipusmenstruales</th>\n      <th>expo_duracion</th>\n      <th>tematicataller</th>\n      <th>personal</th>\n      <th>voluntarias</th>\n      <th>expo_tiempo_elabtaller</th>\n      <th>org_apoyo</th>\n      <th>toallasdesechablesa</th>\n    </tr>\n  </thead>\n  <tbody>\n    <tr>\n      <th>56</th>\n      <td>56.0</td>\n      <td>2022</td>\n      <td>10-22</td>\n      <td>artistica y cultural</td>\n      <td>presencial</td>\n      <td>Elaboración de un mural menstrual, de 30 metro...</td>\n      <td>1</td>\n      <td>Bolivia</td>\n      <td>Sucre</td>\n      <td>Nacional</td>\n      <td>...</td>\n      <td>0</td>\n      <td>0</td>\n      <td>0</td>\n      <td>0.0</td>\n      <td>N/A</td>\n      <td>1</td>\n      <td>0</td>\n      <td>0.0</td>\n      <td>Ninguno</td>\n      <td>0</td>\n    </tr>\n    <tr>\n      <th>57</th>\n      <td>57.0</td>\n      <td>2022</td>\n      <td>11-22</td>\n      <td>artistica y cultural</td>\n      <td>presencial</td>\n      <td>Cartilla educativa con ilustraciones</td>\n      <td>1</td>\n      <td>Bolivia</td>\n      <td>N/A</td>\n      <td>Nacional</td>\n      <td>...</td>\n      <td>0</td>\n      <td>0</td>\n      <td>0</td>\n      <td>0.0</td>\n      <td>N/A</td>\n      <td>1</td>\n      <td>0</td>\n      <td>0.0</td>\n      <td>Ninguno</td>\n      <td>0</td>\n    </tr>\n    <tr>\n      <th>66</th>\n      <td>66.0</td>\n      <td>2021</td>\n      <td>12-21</td>\n      <td>campaña</td>\n      <td>virtual</td>\n      <td>Campaña navideña de descuentos en alianza con ...</td>\n      <td>0</td>\n      <td>Estados Unidos</td>\n      <td>Bolivia y Nueva York</td>\n      <td>Internacional</td>\n      <td>...</td>\n      <td>0</td>\n      <td>0</td>\n      <td>0</td>\n      <td>0.0</td>\n      <td>N/A</td>\n      <td>1</td>\n      <td>0</td>\n      <td>0.0</td>\n      <td>Ninguno</td>\n      <td>0</td>\n    </tr>\n    <tr>\n      <th>67</th>\n      <td>67.0</td>\n      <td>2021</td>\n      <td>12-21</td>\n      <td>difusion redes sociales</td>\n      <td>virtual</td>\n      <td>artes</td>\n      <td>46</td>\n      <td>Bolivia</td>\n      <td>N/A</td>\n      <td>Nacional</td>\n      <td>...</td>\n      <td>0</td>\n      <td>0</td>\n      <td>0</td>\n      <td>0.0</td>\n      <td>no aplica</td>\n      <td>1</td>\n      <td>0</td>\n      <td>0.0</td>\n      <td>Ninguno</td>\n      <td>0</td>\n    </tr>\n  </tbody>\n</table>\n<p>4 rows × 32 columns</p>\n</div>"
     },
     "execution_count": 316,
     "metadata": {},
     "output_type": "execute_result"
    }
   ],
   "source": [
    "df_yawar_c.loc[df_yawar_c['fecha'].str.contains('-', na=False),:]"
   ],
   "metadata": {
    "collapsed": false,
    "ExecuteTime": {
     "end_time": "2024-04-16T21:22:26.367362200Z",
     "start_time": "2024-04-16T21:22:25.783231300Z"
    }
   },
   "id": "a2353cac28a59833"
  },
  {
   "cell_type": "code",
   "execution_count": 327,
   "outputs": [],
   "source": [
    "df_yawar_c.loc[df_yawar_c['fecha'].str.contains('-', na=False),'fecha']='01-'+df_yawar_c.loc[df_yawar_c['fecha'].str.contains('-', na=False),'fecha']"
   ],
   "metadata": {
    "collapsed": false,
    "ExecuteTime": {
     "end_time": "2024-04-16T21:34:28.775437300Z",
     "start_time": "2024-04-16T21:34:28.673820400Z"
    }
   },
   "id": "2e0a528efd234ae2"
  },
  {
   "cell_type": "code",
   "execution_count": 334,
   "outputs": [
    {
     "data": {
      "text/plain": "48    01-11-23\n56    01-10-22\n57    01-11-22\n66    01-12-21\n67    01-12-21\nName: fecha, dtype: object"
     },
     "execution_count": 334,
     "metadata": {},
     "output_type": "execute_result"
    }
   ],
   "source": [
    "df_yawar_c.loc[df_yawar_c['fecha'].str.contains('-', na=False),'fecha']"
   ],
   "metadata": {
    "collapsed": false,
    "ExecuteTime": {
     "end_time": "2024-04-16T21:38:03.877782200Z",
     "start_time": "2024-04-16T21:38:03.807872400Z"
    }
   },
   "id": "ae04906ecc00d976"
  },
  {
   "cell_type": "code",
   "execution_count": 330,
   "outputs": [
    {
     "data": {
      "text/plain": "48    nov. dic. 23\nName: fecha, dtype: object"
     },
     "execution_count": 330,
     "metadata": {},
     "output_type": "execute_result"
    }
   ],
   "source": [
    "df_yawar_c.loc[df_yawar_c['fecha'].str.contains('nov.', na=False),'fecha']"
   ],
   "metadata": {
    "collapsed": false,
    "ExecuteTime": {
     "end_time": "2024-04-16T21:36:16.172830500Z",
     "start_time": "2024-04-16T21:36:16.042958700Z"
    }
   },
   "id": "8bb063bce07bffcc"
  },
  {
   "cell_type": "code",
   "execution_count": 335,
   "outputs": [],
   "source": [
    "df_yawar_c.loc[df_yawar_c['fecha'].str.contains('nov.', na=False),'fecha']='2023-11-01'"
   ],
   "metadata": {
    "collapsed": false,
    "ExecuteTime": {
     "end_time": "2024-04-16T21:38:20.711692700Z",
     "start_time": "2024-04-16T21:38:20.584966200Z"
    }
   },
   "id": "90aa26a1ff36d329"
  },
  {
   "cell_type": "code",
   "execution_count": 336,
   "outputs": [],
   "source": [
    "df_yawar_c=df_yawar_c.assign(\n",
    "    fecha=lambda x: pd.to_datetime(x.fecha)\n",
    ")"
   ],
   "metadata": {
    "collapsed": false,
    "ExecuteTime": {
     "end_time": "2024-04-16T21:38:30.351673700Z",
     "start_time": "2024-04-16T21:38:30.303177800Z"
    }
   },
   "id": "9449ac1bbbd2cd88"
  },
  {
   "cell_type": "code",
   "execution_count": 337,
   "outputs": [
    {
     "data": {
      "text/plain": "#                                      float64\naño                                      int32\nfecha                           datetime64[ns]\ntipo_actividad                          object\nformato                                 object\nactividad                               object\ncantidad                                 int32\npais                                    object\nciudad                                  object\nalcance                                 object\nlocalidad                               object\nlugar                                   object\ntipodearea                              object\ntipodeestablecimiento                   object\npersonasalcanzadas_cant                  int32\nedad                                    object\npoblacion                               object\nvulnerabilidad                          object\ndotacióninsumos                         object\ntoallasdesechables                      object\ncopasmenstruales                         int32\ntoallasreutilizables                     int32\ncalzonesmenstruales                      int32\nkit_insumos_gestiónmenstrual             int32\nqipusmenstruales                         int32\nexpo_duracion                          float64\ntematicataller                          object\npersonal                                 int32\nvoluntarias                              int32\nexpo_tiempo_elabtaller                 float64\norg_apoyo                               object\ntoallasdesechablesa                      int32\ndtype: object"
     },
     "execution_count": 337,
     "metadata": {},
     "output_type": "execute_result"
    }
   ],
   "source": [
    "df_yawar_c.dtypes"
   ],
   "metadata": {
    "collapsed": false,
    "ExecuteTime": {
     "end_time": "2024-04-16T21:38:34.441288100Z",
     "start_time": "2024-04-16T21:38:34.416617400Z"
    }
   },
   "id": "594cfaf51b720fe4"
  },
  {
   "cell_type": "markdown",
   "source": [
    "### Addressing invalid data"
   ],
   "metadata": {
    "collapsed": false
   },
   "id": "a2d6aa4a3ae3cd23"
  },
  {
   "cell_type": "markdown",
   "source": [
    "#### Deleting spaces among values"
   ],
   "metadata": {
    "collapsed": false
   },
   "id": "721cb5fdd48fe38"
  },
  {
   "cell_type": "code",
   "execution_count": 338,
   "outputs": [
    {
     "data": {
      "text/plain": "       #   año      fecha        tipo_actividad     formato  \\\n52  52.0  2021 2021-10-01  artistica y cultural  presencial   \n5    6.0  2022 2023-09-06                taller  presencial   \n12  13.0  2022 2022-05-24                taller     virtual   \n23  24.0  2022 2022-03-24                taller     virtual   \n58  58.0  2023 2023-05-28  artistica y cultural  presencial   \n24  25.0  2022 2022-04-14                taller     virtual   \n34  35.0  2023 2023-03-01                taller  presencial   \n53  53.0  2021 2021-02-06  artistica y cultural  presencial   \n22  23.0  2022 2022-03-03                taller     virtual   \n55  55.0  2021 2021-02-25  artistica y cultural  presencial   \n\n                                            actividad  cantidad       pais  \\\n52  Primer Videopitch para campaña de recaudación ...         1    Bolivia   \n5                              PROYECTO SOCIAL JASAYÉ         1    Bolivia   \n12                                ESCUELITA VIRTUAL 4         1    Bolivia   \n23                                  Voluntarias Yawar         1    Bolivia   \n58  Un hip hop menstrual con su videoclip en el mural         1    Bolivia   \n24                                  Voluntarias Yawar         1    Bolivia   \n34                             PROYECTO SOCIAL JASAYÉ         1    Bolivia   \n53  Un evento de Zumba y conversatorio para recaud...         1  Australia   \n22                                  Voluntarias Yawar         1    Bolivia   \n55  Concierto Hip Hoppas y furiosas para recaudaci...         1    Bolivia   \n\n      ciudad        alcance  ... calzonesmenstruales  \\\n52       N/A  Internacional  ...                   0   \n5       Beni       Nacional  ...                   0   \n12   El Alto       Nacional  ...                   0   \n23  El Alto        Nacional  ...                   0   \n58     Sucre       Nacional  ...                   0   \n24    La Paz       Nacional  ...                   0   \n34      Beni       Nacional  ...                   0   \n53       N/A  Internacional  ...                   0   \n22    La Paz       Nacional  ...                   0   \n55    La Paz       Nacional  ...                   0   \n\n   kit_insumos_gestiónmenstrual qipusmenstruales expo_duracion  \\\n52                            0                0           0.0   \n5                             0                0         210.0   \n12                            0                0         210.0   \n23                            0                0         210.0   \n58                            0                0           0.0   \n24                            0                0         210.0   \n34                            0                0         210.0   \n53                            0                0           0.0   \n22                            0                0         210.0   \n55                            0                0           0.0   \n\n                                tematicataller personal voluntarias  \\\n52                                         N/A        1           0   \n5                vivencia menstrual-ovulatoria        1           0   \n12  vivencia menstrual y la pobreza menstrual.        1           0   \n23                             Arte Menstrual         1           5   \n58                                         N/A        1           0   \n24          Pubertad, adolescencia y menarquía        1           4   \n34               vivencia menstrual-ovulatoria        1           0   \n53                                         N/A        1           0   \n22                     Poblaciones Vulnerables        1           5   \n55                                         N/A        1           0   \n\n   expo_tiempo_elabtaller               org_apoyo toallasdesechablesa  \n52                    0.0                 Ninguno                   0  \n5                   330.0  Proyecto Social Jasayé                   0  \n12                  480.0                 Ninguno                   0  \n23                  480.0          Aptapi Jopueti                   0  \n58                    0.0                 Ninguno                   0  \n24                  480.0          Aptapi Jopueti                   0  \n34                  330.0  Proyecto Social Jasayé                   0  \n53                    0.0                 Ninguno                   0  \n22                  480.0          Aptapi Jopueti                   0  \n55                    0.0                 Ninguno                   0  \n\n[10 rows x 32 columns]",
      "text/html": "<div>\n<style scoped>\n    .dataframe tbody tr th:only-of-type {\n        vertical-align: middle;\n    }\n\n    .dataframe tbody tr th {\n        vertical-align: top;\n    }\n\n    .dataframe thead th {\n        text-align: right;\n    }\n</style>\n<table border=\"1\" class=\"dataframe\">\n  <thead>\n    <tr style=\"text-align: right;\">\n      <th></th>\n      <th>#</th>\n      <th>año</th>\n      <th>fecha</th>\n      <th>tipo_actividad</th>\n      <th>formato</th>\n      <th>actividad</th>\n      <th>cantidad</th>\n      <th>pais</th>\n      <th>ciudad</th>\n      <th>alcance</th>\n      <th>...</th>\n      <th>calzonesmenstruales</th>\n      <th>kit_insumos_gestiónmenstrual</th>\n      <th>qipusmenstruales</th>\n      <th>expo_duracion</th>\n      <th>tematicataller</th>\n      <th>personal</th>\n      <th>voluntarias</th>\n      <th>expo_tiempo_elabtaller</th>\n      <th>org_apoyo</th>\n      <th>toallasdesechablesa</th>\n    </tr>\n  </thead>\n  <tbody>\n    <tr>\n      <th>52</th>\n      <td>52.0</td>\n      <td>2021</td>\n      <td>2021-10-01</td>\n      <td>artistica y cultural</td>\n      <td>presencial</td>\n      <td>Primer Videopitch para campaña de recaudación ...</td>\n      <td>1</td>\n      <td>Bolivia</td>\n      <td>N/A</td>\n      <td>Internacional</td>\n      <td>...</td>\n      <td>0</td>\n      <td>0</td>\n      <td>0</td>\n      <td>0.0</td>\n      <td>N/A</td>\n      <td>1</td>\n      <td>0</td>\n      <td>0.0</td>\n      <td>Ninguno</td>\n      <td>0</td>\n    </tr>\n    <tr>\n      <th>5</th>\n      <td>6.0</td>\n      <td>2022</td>\n      <td>2023-09-06</td>\n      <td>taller</td>\n      <td>presencial</td>\n      <td>PROYECTO SOCIAL JASAYÉ</td>\n      <td>1</td>\n      <td>Bolivia</td>\n      <td>Beni</td>\n      <td>Nacional</td>\n      <td>...</td>\n      <td>0</td>\n      <td>0</td>\n      <td>0</td>\n      <td>210.0</td>\n      <td>vivencia menstrual-ovulatoria</td>\n      <td>1</td>\n      <td>0</td>\n      <td>330.0</td>\n      <td>Proyecto Social Jasayé</td>\n      <td>0</td>\n    </tr>\n    <tr>\n      <th>12</th>\n      <td>13.0</td>\n      <td>2022</td>\n      <td>2022-05-24</td>\n      <td>taller</td>\n      <td>virtual</td>\n      <td>ESCUELITA VIRTUAL 4</td>\n      <td>1</td>\n      <td>Bolivia</td>\n      <td>El Alto</td>\n      <td>Nacional</td>\n      <td>...</td>\n      <td>0</td>\n      <td>0</td>\n      <td>0</td>\n      <td>210.0</td>\n      <td>vivencia menstrual y la pobreza menstrual.</td>\n      <td>1</td>\n      <td>0</td>\n      <td>480.0</td>\n      <td>Ninguno</td>\n      <td>0</td>\n    </tr>\n    <tr>\n      <th>23</th>\n      <td>24.0</td>\n      <td>2022</td>\n      <td>2022-03-24</td>\n      <td>taller</td>\n      <td>virtual</td>\n      <td>Voluntarias Yawar</td>\n      <td>1</td>\n      <td>Bolivia</td>\n      <td>El Alto</td>\n      <td>Nacional</td>\n      <td>...</td>\n      <td>0</td>\n      <td>0</td>\n      <td>0</td>\n      <td>210.0</td>\n      <td>Arte Menstrual</td>\n      <td>1</td>\n      <td>5</td>\n      <td>480.0</td>\n      <td>Aptapi Jopueti</td>\n      <td>0</td>\n    </tr>\n    <tr>\n      <th>58</th>\n      <td>58.0</td>\n      <td>2023</td>\n      <td>2023-05-28</td>\n      <td>artistica y cultural</td>\n      <td>presencial</td>\n      <td>Un hip hop menstrual con su videoclip en el mural</td>\n      <td>1</td>\n      <td>Bolivia</td>\n      <td>Sucre</td>\n      <td>Nacional</td>\n      <td>...</td>\n      <td>0</td>\n      <td>0</td>\n      <td>0</td>\n      <td>0.0</td>\n      <td>N/A</td>\n      <td>1</td>\n      <td>0</td>\n      <td>0.0</td>\n      <td>Ninguno</td>\n      <td>0</td>\n    </tr>\n    <tr>\n      <th>24</th>\n      <td>25.0</td>\n      <td>2022</td>\n      <td>2022-04-14</td>\n      <td>taller</td>\n      <td>virtual</td>\n      <td>Voluntarias Yawar</td>\n      <td>1</td>\n      <td>Bolivia</td>\n      <td>La Paz</td>\n      <td>Nacional</td>\n      <td>...</td>\n      <td>0</td>\n      <td>0</td>\n      <td>0</td>\n      <td>210.0</td>\n      <td>Pubertad, adolescencia y menarquía</td>\n      <td>1</td>\n      <td>4</td>\n      <td>480.0</td>\n      <td>Aptapi Jopueti</td>\n      <td>0</td>\n    </tr>\n    <tr>\n      <th>34</th>\n      <td>35.0</td>\n      <td>2023</td>\n      <td>2023-03-01</td>\n      <td>taller</td>\n      <td>presencial</td>\n      <td>PROYECTO SOCIAL JASAYÉ</td>\n      <td>1</td>\n      <td>Bolivia</td>\n      <td>Beni</td>\n      <td>Nacional</td>\n      <td>...</td>\n      <td>0</td>\n      <td>0</td>\n      <td>0</td>\n      <td>210.0</td>\n      <td>vivencia menstrual-ovulatoria</td>\n      <td>1</td>\n      <td>0</td>\n      <td>330.0</td>\n      <td>Proyecto Social Jasayé</td>\n      <td>0</td>\n    </tr>\n    <tr>\n      <th>53</th>\n      <td>53.0</td>\n      <td>2021</td>\n      <td>2021-02-06</td>\n      <td>artistica y cultural</td>\n      <td>presencial</td>\n      <td>Un evento de Zumba y conversatorio para recaud...</td>\n      <td>1</td>\n      <td>Australia</td>\n      <td>N/A</td>\n      <td>Internacional</td>\n      <td>...</td>\n      <td>0</td>\n      <td>0</td>\n      <td>0</td>\n      <td>0.0</td>\n      <td>N/A</td>\n      <td>1</td>\n      <td>0</td>\n      <td>0.0</td>\n      <td>Ninguno</td>\n      <td>0</td>\n    </tr>\n    <tr>\n      <th>22</th>\n      <td>23.0</td>\n      <td>2022</td>\n      <td>2022-03-03</td>\n      <td>taller</td>\n      <td>virtual</td>\n      <td>Voluntarias Yawar</td>\n      <td>1</td>\n      <td>Bolivia</td>\n      <td>La Paz</td>\n      <td>Nacional</td>\n      <td>...</td>\n      <td>0</td>\n      <td>0</td>\n      <td>0</td>\n      <td>210.0</td>\n      <td>Poblaciones Vulnerables</td>\n      <td>1</td>\n      <td>5</td>\n      <td>480.0</td>\n      <td>Aptapi Jopueti</td>\n      <td>0</td>\n    </tr>\n    <tr>\n      <th>55</th>\n      <td>55.0</td>\n      <td>2021</td>\n      <td>2021-02-25</td>\n      <td>artistica y cultural</td>\n      <td>presencial</td>\n      <td>Concierto Hip Hoppas y furiosas para recaudaci...</td>\n      <td>1</td>\n      <td>Bolivia</td>\n      <td>La Paz</td>\n      <td>Nacional</td>\n      <td>...</td>\n      <td>0</td>\n      <td>0</td>\n      <td>0</td>\n      <td>0.0</td>\n      <td>N/A</td>\n      <td>1</td>\n      <td>0</td>\n      <td>0.0</td>\n      <td>Ninguno</td>\n      <td>0</td>\n    </tr>\n  </tbody>\n</table>\n<p>10 rows × 32 columns</p>\n</div>"
     },
     "execution_count": 338,
     "metadata": {},
     "output_type": "execute_result"
    }
   ],
   "source": [
    "df_yawar_c.sample(10)"
   ],
   "metadata": {
    "collapsed": false,
    "ExecuteTime": {
     "end_time": "2024-04-16T21:38:49.311192500Z",
     "start_time": "2024-04-16T21:38:49.283085200Z"
    }
   },
   "id": "9cb90e6d698a2293"
  },
  {
   "cell_type": "code",
   "execution_count": 339,
   "outputs": [
    {
     "data": {
      "text/plain": "array(['taller', 'difusion', 'artistica y cultural', 'conversatorio',\n       'campaña', 'difusion redes sociales', 'medios de comunicacion'],\n      dtype=object)"
     },
     "execution_count": 339,
     "metadata": {},
     "output_type": "execute_result"
    }
   ],
   "source": [
    "df_yawar_c['tipo_actividad'].unique()"
   ],
   "metadata": {
    "collapsed": false,
    "ExecuteTime": {
     "end_time": "2024-04-16T21:39:01.332796500Z",
     "start_time": "2024-04-16T21:39:01.272708300Z"
    }
   },
   "id": "2417847bb742e089"
  },
  {
   "cell_type": "code",
   "execution_count": 69,
   "outputs": [
    {
     "data": {
      "text/plain": "formato\npresencial     43\nvirtual        36\nvirtual         2\nescrito         2\npresencial      1\nName: count, dtype: int64"
     },
     "execution_count": 69,
     "metadata": {},
     "output_type": "execute_result"
    }
   ],
   "source": [
    "df_yawar_c['formato'].value_counts()"
   ],
   "metadata": {
    "collapsed": false,
    "ExecuteTime": {
     "end_time": "2024-04-16T20:15:54.157791300Z",
     "start_time": "2024-04-16T20:15:42.205657800Z"
    }
   },
   "id": "cfea80cb6c960d58"
  },
  {
   "cell_type": "code",
   "execution_count": 340,
   "outputs": [
    {
     "data": {
      "text/plain": "              #  año  fecha  tipo_actividad  actividad  cantidad  pais  \\\nformato                                                                  \npresencial   44   45     45              45         45        45    45   \npresencial    1    1      1               1          1         1     1   \nvirtual      36   36     36              36         36        36    36   \nvirtual       2    2      2               2          2         2     2   \n\n             ciudad  alcance  localidad  ...  calzonesmenstruales  \\\nformato                                  ...                        \npresencial       45       45         45  ...                   45   \npresencial        1        1          1  ...                    1   \nvirtual          36       36         36  ...                   36   \nvirtual           2        2          2  ...                    2   \n\n             kit_insumos_gestiónmenstrual  qipusmenstruales  expo_duracion  \\\nformato                                                                      \npresencial                             45                45             45   \npresencial                              1                 1              1   \nvirtual                                36                36             36   \nvirtual                                 2                 2              2   \n\n             tematicataller  personal  voluntarias  expo_tiempo_elabtaller  \\\nformato                                                                      \npresencial               45        45           45                      45   \npresencial                1         1            1                       1   \nvirtual                  36        36           36                      36   \nvirtual                   2         2            2                       2   \n\n             org_apoyo  toallasdesechablesa  \nformato                                      \npresencial          45                   45  \npresencial           1                    1  \nvirtual             36                   36  \nvirtual              2                    2  \n\n[4 rows x 31 columns]",
      "text/html": "<div>\n<style scoped>\n    .dataframe tbody tr th:only-of-type {\n        vertical-align: middle;\n    }\n\n    .dataframe tbody tr th {\n        vertical-align: top;\n    }\n\n    .dataframe thead th {\n        text-align: right;\n    }\n</style>\n<table border=\"1\" class=\"dataframe\">\n  <thead>\n    <tr style=\"text-align: right;\">\n      <th></th>\n      <th>#</th>\n      <th>año</th>\n      <th>fecha</th>\n      <th>tipo_actividad</th>\n      <th>actividad</th>\n      <th>cantidad</th>\n      <th>pais</th>\n      <th>ciudad</th>\n      <th>alcance</th>\n      <th>localidad</th>\n      <th>...</th>\n      <th>calzonesmenstruales</th>\n      <th>kit_insumos_gestiónmenstrual</th>\n      <th>qipusmenstruales</th>\n      <th>expo_duracion</th>\n      <th>tematicataller</th>\n      <th>personal</th>\n      <th>voluntarias</th>\n      <th>expo_tiempo_elabtaller</th>\n      <th>org_apoyo</th>\n      <th>toallasdesechablesa</th>\n    </tr>\n    <tr>\n      <th>formato</th>\n      <th></th>\n      <th></th>\n      <th></th>\n      <th></th>\n      <th></th>\n      <th></th>\n      <th></th>\n      <th></th>\n      <th></th>\n      <th></th>\n      <th></th>\n      <th></th>\n      <th></th>\n      <th></th>\n      <th></th>\n      <th></th>\n      <th></th>\n      <th></th>\n      <th></th>\n      <th></th>\n      <th></th>\n    </tr>\n  </thead>\n  <tbody>\n    <tr>\n      <th>presencial</th>\n      <td>44</td>\n      <td>45</td>\n      <td>45</td>\n      <td>45</td>\n      <td>45</td>\n      <td>45</td>\n      <td>45</td>\n      <td>45</td>\n      <td>45</td>\n      <td>45</td>\n      <td>...</td>\n      <td>45</td>\n      <td>45</td>\n      <td>45</td>\n      <td>45</td>\n      <td>45</td>\n      <td>45</td>\n      <td>45</td>\n      <td>45</td>\n      <td>45</td>\n      <td>45</td>\n    </tr>\n    <tr>\n      <th>presencial</th>\n      <td>1</td>\n      <td>1</td>\n      <td>1</td>\n      <td>1</td>\n      <td>1</td>\n      <td>1</td>\n      <td>1</td>\n      <td>1</td>\n      <td>1</td>\n      <td>1</td>\n      <td>...</td>\n      <td>1</td>\n      <td>1</td>\n      <td>1</td>\n      <td>1</td>\n      <td>1</td>\n      <td>1</td>\n      <td>1</td>\n      <td>1</td>\n      <td>1</td>\n      <td>1</td>\n    </tr>\n    <tr>\n      <th>virtual</th>\n      <td>36</td>\n      <td>36</td>\n      <td>36</td>\n      <td>36</td>\n      <td>36</td>\n      <td>36</td>\n      <td>36</td>\n      <td>36</td>\n      <td>36</td>\n      <td>36</td>\n      <td>...</td>\n      <td>36</td>\n      <td>36</td>\n      <td>36</td>\n      <td>36</td>\n      <td>36</td>\n      <td>36</td>\n      <td>36</td>\n      <td>36</td>\n      <td>36</td>\n      <td>36</td>\n    </tr>\n    <tr>\n      <th>virtual</th>\n      <td>2</td>\n      <td>2</td>\n      <td>2</td>\n      <td>2</td>\n      <td>2</td>\n      <td>2</td>\n      <td>2</td>\n      <td>2</td>\n      <td>2</td>\n      <td>2</td>\n      <td>...</td>\n      <td>2</td>\n      <td>2</td>\n      <td>2</td>\n      <td>2</td>\n      <td>2</td>\n      <td>2</td>\n      <td>2</td>\n      <td>2</td>\n      <td>2</td>\n      <td>2</td>\n    </tr>\n  </tbody>\n</table>\n<p>4 rows × 31 columns</p>\n</div>"
     },
     "execution_count": 340,
     "metadata": {},
     "output_type": "execute_result"
    }
   ],
   "source": [
    "df_yawar_c.groupby('formato').count()"
   ],
   "metadata": {
    "collapsed": false,
    "ExecuteTime": {
     "end_time": "2024-04-16T21:39:25.082644500Z",
     "start_time": "2024-04-16T21:39:24.995790500Z"
    }
   },
   "id": "5ba708f091b2d1ba"
  },
  {
   "cell_type": "code",
   "execution_count": 71,
   "outputs": [
    {
     "data": {
      "text/plain": "       #   año                fecha tipo_actividad      formato    actividad  \\\n19  20.0  2022  2022-11-06 00:00:00         taller  presencial   CERPI SUCRE   \n\n    cantidad     pais ciudad   alcance  ... calzonesmenstruales  \\\n19         1  Bolivia  Sucre  Nacional  ...                   0   \n\n   kit_insumos_gestiónmenstrual q'ipusmenstruales expo_duracion  \\\n19                            0                No           0.0   \n\n             tematicataller expo_personal voluntarias expo_tiempo_elabtaller  \\\n19  elaboración de toallas              2           1                  330.0   \n\n              org_apoyo toallasdesechablesa  \n19  Micros para Avanzar                   0  \n\n[1 rows x 32 columns]",
      "text/html": "<div>\n<style scoped>\n    .dataframe tbody tr th:only-of-type {\n        vertical-align: middle;\n    }\n\n    .dataframe tbody tr th {\n        vertical-align: top;\n    }\n\n    .dataframe thead th {\n        text-align: right;\n    }\n</style>\n<table border=\"1\" class=\"dataframe\">\n  <thead>\n    <tr style=\"text-align: right;\">\n      <th></th>\n      <th>#</th>\n      <th>año</th>\n      <th>fecha</th>\n      <th>tipo_actividad</th>\n      <th>formato</th>\n      <th>actividad</th>\n      <th>cantidad</th>\n      <th>pais</th>\n      <th>ciudad</th>\n      <th>alcance</th>\n      <th>...</th>\n      <th>calzonesmenstruales</th>\n      <th>kit_insumos_gestiónmenstrual</th>\n      <th>q'ipusmenstruales</th>\n      <th>expo_duracion</th>\n      <th>tematicataller</th>\n      <th>expo_personal</th>\n      <th>voluntarias</th>\n      <th>expo_tiempo_elabtaller</th>\n      <th>org_apoyo</th>\n      <th>toallasdesechablesa</th>\n    </tr>\n  </thead>\n  <tbody>\n    <tr>\n      <th>19</th>\n      <td>20.0</td>\n      <td>2022</td>\n      <td>2022-11-06 00:00:00</td>\n      <td>taller</td>\n      <td>presencial</td>\n      <td>CERPI SUCRE</td>\n      <td>1</td>\n      <td>Bolivia</td>\n      <td>Sucre</td>\n      <td>Nacional</td>\n      <td>...</td>\n      <td>0</td>\n      <td>0</td>\n      <td>No</td>\n      <td>0.0</td>\n      <td>elaboración de toallas</td>\n      <td>2</td>\n      <td>1</td>\n      <td>330.0</td>\n      <td>Micros para Avanzar</td>\n      <td>0</td>\n    </tr>\n  </tbody>\n</table>\n<p>1 rows × 32 columns</p>\n</div>"
     },
     "execution_count": 71,
     "metadata": {},
     "output_type": "execute_result"
    }
   ],
   "source": [
    "df_yawar_c[df_yawar_c['formato']=='presencial ']"
   ],
   "metadata": {
    "collapsed": false,
    "ExecuteTime": {
     "end_time": "2024-04-16T20:15:54.159804500Z",
     "start_time": "2024-04-16T20:15:42.244604700Z"
    }
   },
   "id": "904d9792d2e9b74b"
  },
  {
   "cell_type": "code",
   "execution_count": 341,
   "outputs": [],
   "source": [
    "df_yawar_c['formato']=df_yawar_c['formato'].apply(lambda x:x.strip())"
   ],
   "metadata": {
    "collapsed": false,
    "ExecuteTime": {
     "end_time": "2024-04-16T21:39:40.695726800Z",
     "start_time": "2024-04-16T21:39:40.660591400Z"
    }
   },
   "id": "b947b25622ac0a57"
  },
  {
   "cell_type": "markdown",
   "source": [
    "Checking all the datafram whether there are values with space ahead or at the end, and delete those. "
   ],
   "metadata": {
    "collapsed": false
   },
   "id": "47ccbb9c5d281150"
  },
  {
   "cell_type": "code",
   "execution_count": 342,
   "outputs": [],
   "source": [
    "df_yawar_c=df_yawar_c.map(lambda x:x.strip() if isinstance(x, str) else x)"
   ],
   "metadata": {
    "collapsed": false,
    "ExecuteTime": {
     "end_time": "2024-04-16T21:40:11.866856400Z",
     "start_time": "2024-04-16T21:40:11.814379500Z"
    }
   },
   "id": "bf4afc163c4430e"
  },
  {
   "cell_type": "code",
   "execution_count": 343,
   "outputs": [
    {
     "data": {
      "text/plain": "     #   año      fecha tipo_actividad     formato                  actividad  \\\n0  1.0  2022 2022-03-10         taller  presencial  1er encuentro voluntarias   \n1  2.0  2022 2022-04-09         taller  presencial  Taller: qué es ser joven?   \n2  3.0  2022 2022-07-07         taller  presencial                ALTO ALDEAS   \n3  4.0  2022 2022-07-08         taller  presencial                ALTO ALDEAS   \n4  5.0  2022 2022-07-09         taller  presencial                ALTO MAPAKI   \n\n   cantidad     pais   ciudad   alcance  ... calzonesmenstruales  \\\n0         1  Bolivia  El Alto  Nacional  ...                   0   \n1         1  Bolivia   La Paz    La Paz  ...                   0   \n2         1  Bolivia  El Alto  Nacional  ...                   0   \n3         1  Bolivia  El Alto  Nacional  ...                   1   \n4         1  Bolivia  El Alto  Nacional  ...                   0   \n\n  kit_insumos_gestiónmenstrual qipusmenstruales expo_duracion  \\\n0                            0                0         210.0   \n1                            0                0         210.0   \n2                           20                0         210.0   \n3                           17                0         210.0   \n4                            0                0         210.0   \n\n                              tematicataller personal voluntarias  \\\n0  historia de nuestra sexualidad y anatomia        1           0   \n1                          Qué es ser joven?        2           0   \n2              vivencia menstrual-ovulatoria        1           5   \n3              vivencia menstrual-ovulatoria        1           5   \n4              vivencia menstrual-ovulatoria        1           3   \n\n  expo_tiempo_elabtaller       org_apoyo  toallasdesechablesa  \n0                  480.0              No                    0  \n1                  400.0              No                    5  \n2                  480.0  Aptapi Jopueti                    0  \n3                  480.0  Aptapi Jopueti                  100  \n4                  480.0  Aptapi Jopueti                   30  \n\n[5 rows x 32 columns]",
      "text/html": "<div>\n<style scoped>\n    .dataframe tbody tr th:only-of-type {\n        vertical-align: middle;\n    }\n\n    .dataframe tbody tr th {\n        vertical-align: top;\n    }\n\n    .dataframe thead th {\n        text-align: right;\n    }\n</style>\n<table border=\"1\" class=\"dataframe\">\n  <thead>\n    <tr style=\"text-align: right;\">\n      <th></th>\n      <th>#</th>\n      <th>año</th>\n      <th>fecha</th>\n      <th>tipo_actividad</th>\n      <th>formato</th>\n      <th>actividad</th>\n      <th>cantidad</th>\n      <th>pais</th>\n      <th>ciudad</th>\n      <th>alcance</th>\n      <th>...</th>\n      <th>calzonesmenstruales</th>\n      <th>kit_insumos_gestiónmenstrual</th>\n      <th>qipusmenstruales</th>\n      <th>expo_duracion</th>\n      <th>tematicataller</th>\n      <th>personal</th>\n      <th>voluntarias</th>\n      <th>expo_tiempo_elabtaller</th>\n      <th>org_apoyo</th>\n      <th>toallasdesechablesa</th>\n    </tr>\n  </thead>\n  <tbody>\n    <tr>\n      <th>0</th>\n      <td>1.0</td>\n      <td>2022</td>\n      <td>2022-03-10</td>\n      <td>taller</td>\n      <td>presencial</td>\n      <td>1er encuentro voluntarias</td>\n      <td>1</td>\n      <td>Bolivia</td>\n      <td>El Alto</td>\n      <td>Nacional</td>\n      <td>...</td>\n      <td>0</td>\n      <td>0</td>\n      <td>0</td>\n      <td>210.0</td>\n      <td>historia de nuestra sexualidad y anatomia</td>\n      <td>1</td>\n      <td>0</td>\n      <td>480.0</td>\n      <td>No</td>\n      <td>0</td>\n    </tr>\n    <tr>\n      <th>1</th>\n      <td>2.0</td>\n      <td>2022</td>\n      <td>2022-04-09</td>\n      <td>taller</td>\n      <td>presencial</td>\n      <td>Taller: qué es ser joven?</td>\n      <td>1</td>\n      <td>Bolivia</td>\n      <td>La Paz</td>\n      <td>La Paz</td>\n      <td>...</td>\n      <td>0</td>\n      <td>0</td>\n      <td>0</td>\n      <td>210.0</td>\n      <td>Qué es ser joven?</td>\n      <td>2</td>\n      <td>0</td>\n      <td>400.0</td>\n      <td>No</td>\n      <td>5</td>\n    </tr>\n    <tr>\n      <th>2</th>\n      <td>3.0</td>\n      <td>2022</td>\n      <td>2022-07-07</td>\n      <td>taller</td>\n      <td>presencial</td>\n      <td>ALTO ALDEAS</td>\n      <td>1</td>\n      <td>Bolivia</td>\n      <td>El Alto</td>\n      <td>Nacional</td>\n      <td>...</td>\n      <td>0</td>\n      <td>20</td>\n      <td>0</td>\n      <td>210.0</td>\n      <td>vivencia menstrual-ovulatoria</td>\n      <td>1</td>\n      <td>5</td>\n      <td>480.0</td>\n      <td>Aptapi Jopueti</td>\n      <td>0</td>\n    </tr>\n    <tr>\n      <th>3</th>\n      <td>4.0</td>\n      <td>2022</td>\n      <td>2022-07-08</td>\n      <td>taller</td>\n      <td>presencial</td>\n      <td>ALTO ALDEAS</td>\n      <td>1</td>\n      <td>Bolivia</td>\n      <td>El Alto</td>\n      <td>Nacional</td>\n      <td>...</td>\n      <td>1</td>\n      <td>17</td>\n      <td>0</td>\n      <td>210.0</td>\n      <td>vivencia menstrual-ovulatoria</td>\n      <td>1</td>\n      <td>5</td>\n      <td>480.0</td>\n      <td>Aptapi Jopueti</td>\n      <td>100</td>\n    </tr>\n    <tr>\n      <th>4</th>\n      <td>5.0</td>\n      <td>2022</td>\n      <td>2022-07-09</td>\n      <td>taller</td>\n      <td>presencial</td>\n      <td>ALTO MAPAKI</td>\n      <td>1</td>\n      <td>Bolivia</td>\n      <td>El Alto</td>\n      <td>Nacional</td>\n      <td>...</td>\n      <td>0</td>\n      <td>0</td>\n      <td>0</td>\n      <td>210.0</td>\n      <td>vivencia menstrual-ovulatoria</td>\n      <td>1</td>\n      <td>3</td>\n      <td>480.0</td>\n      <td>Aptapi Jopueti</td>\n      <td>30</td>\n    </tr>\n  </tbody>\n</table>\n<p>5 rows × 32 columns</p>\n</div>"
     },
     "execution_count": 343,
     "metadata": {},
     "output_type": "execute_result"
    }
   ],
   "source": [
    "df_yawar_c.head()"
   ],
   "metadata": {
    "collapsed": false,
    "ExecuteTime": {
     "end_time": "2024-04-16T21:40:14.200489Z",
     "start_time": "2024-04-16T21:40:14.144047200Z"
    }
   },
   "id": "7252d4979189933c"
  },
  {
   "cell_type": "markdown",
   "source": [
    "#### Checking for any strange value"
   ],
   "metadata": {
    "collapsed": false
   },
   "id": "d6b2f5ce0ea38338"
  },
  {
   "cell_type": "code",
   "execution_count": 344,
   "outputs": [
    {
     "data": {
      "text/plain": "tipo_actividad\ntaller                     50\nmedios de comunicacion     10\nartistica y cultural        9\ndifusion redes sociales     7\nconversatorio               3\ncampaña                     3\ndifusion                    2\nName: count, dtype: int64"
     },
     "execution_count": 344,
     "metadata": {},
     "output_type": "execute_result"
    }
   ],
   "source": [
    "df_yawar_c['tipo_actividad'].value_counts()"
   ],
   "metadata": {
    "collapsed": false,
    "ExecuteTime": {
     "end_time": "2024-04-16T21:40:23.884074700Z",
     "start_time": "2024-04-16T21:40:23.831108300Z"
    }
   },
   "id": "19ac2cdd94a2f4c4"
  },
  {
   "cell_type": "markdown",
   "source": [
    "Understanding if there is any difference or simmilitude with 'difusion','difusion redes sociales','medios de comunicacion'. The conclusion is that each category is independent of each other."
   ],
   "metadata": {
    "collapsed": false
   },
   "id": "6198bca088516f66"
  },
  {
   "cell_type": "code",
   "execution_count": 345,
   "outputs": [
    {
     "data": {
      "text/plain": "       #   año      fecha           tipo_actividad     formato  \\\n50  50.0  2023 2023-08-08                 difusion  presencial   \n51  51.0  2023 2023-09-28                 difusion  presencial   \n67  67.0  2021 2021-01-12  difusion redes sociales     virtual   \n68  68.0  2021 2021-11-11  difusion redes sociales     virtual   \n69  69.0  2022 2022-10-06  difusion redes sociales     virtual   \n70  70.0  2022 2022-11-30  difusion redes sociales     virtual   \n71  71.0  2022 2022-05-28  difusion redes sociales     virtual   \n72  72.0  2022 2022-05-28  difusion redes sociales     virtual   \n73  73.0  2022 2022-05-28  difusion redes sociales     virtual   \n74  74.0  2022 2022-03-25   medios de comunicacion     virtual   \n75  75.0  2021 2021-11-16   medios de comunicacion     virtual   \n76  76.0  2022 2022-04-28   medios de comunicacion     virtual   \n77  77.0  2022 2022-08-06   medios de comunicacion  presencial   \n78  78.0  2022 2022-06-16   medios de comunicacion  presencial   \n79  79.0  2023 2023-03-22   medios de comunicacion  presencial   \n80  80.0  2023 2023-09-16   medios de comunicacion  presencial   \n81  81.0  2022 2022-04-13   medios de comunicacion     virtual   \n82  82.0  2022 2022-07-19   medios de comunicacion     virtual   \n83  83.0  2022 2022-05-27   medios de comunicacion     virtual   \n\n                                          actividad  cantidad     pais  \\\n50               Feria Internacional del Libro 2023         1  Bolivia   \n51  Feria Bulliciosa de la Campaña 28 de Septiembre         1  Bolivia   \n67                                            artes        46  Bolivia   \n68                                     Videopitch 1         1  Bolivia   \n69                                     Videopitch 2         1  Bolivia   \n70                         Video de mural menstrual         1  Bolivia   \n71                      Video performance artística         1  Bolivia   \n72                                            reels        36  Bolivia   \n73                               posts en instagram       116  Bolivia   \n74                               Verdad con tinta 2         1  Bolivia   \n75                               Verdad con tinta 1         1  Bolivia   \n76                                         Muy Waso         1  Bolivia   \n77                                   Correo del Sur         1  Bolivia   \n78                                     Revista Ekos         1  Bolivia   \n79                                      Agencia EFE         1  Bolivia   \n80                                   Nacer Mujer TV         1  Bolivia   \n81                                      Adich Radio         1  Bolivia   \n82                                      Adich Radio         1  Bolivia   \n83                                  radio Encuentro         1  Bolivia   \n\n        ciudad        alcance  ... calzonesmenstruales  \\\n50      La Paz       Nacional  ...                   0   \n51  Santa Cruz       Nacional  ...                   0   \n67         N/A       Nacional  ...                   0   \n68     El Alto  Internacional  ...                   0   \n69       Sucre       Nacional  ...                   0   \n70       Sucre       Nacional  ...                   0   \n71       Sucre       Nacional  ...                   0   \n72         N/A  Internacional  ...                   0   \n73         N/A  Internacional  ...                   0   \n74         N/A       Nacional  ...                   0   \n75         N/A       Nacional  ...                   0   \n76         N/A       Nacional  ...                   0   \n77         N/A       Nacional  ...                   0   \n78         N/A       Nacional  ...                   0   \n79         N/A  Internacional  ...                   0   \n80      La Paz       Nacional  ...                   0   \n81       Sucre       Nacional  ...                   0   \n82       Sucre       Nacional  ...                   0   \n83       Sucre       Nacional  ...                   0   \n\n   kit_insumos_gestiónmenstrual qipusmenstruales expo_duracion  \\\n50                            0                0           0.0   \n51                            0                0           0.0   \n67                            0                0           0.0   \n68                            0                0           0.0   \n69                            0                0           0.0   \n70                            0                0           0.0   \n71                            0                0          10.0   \n72                            0                0           0.0   \n73                            0                0           0.0   \n74                            0                0           0.0   \n75                            0                0           0.0   \n76                            0                0           0.0   \n77                            0                0           0.0   \n78                            0                0           0.0   \n79                            0                0           0.0   \n80                            0                0           0.0   \n81                            0                0           0.0   \n82                            0                0           0.0   \n83                            0                0           0.0   \n\n    tematicataller personal voluntarias expo_tiempo_elabtaller  \\\n50             N/A        1           2                    0.0   \n51             N/A        1           1                    0.0   \n67       no aplica        1           0                    0.0   \n68             N/A        1           0                    0.0   \n69             N/A        1           0                    0.0   \n70             N/A        1           0                  360.0   \n71             N/A        4           2                  300.0   \n72             N/A        1           0                    0.0   \n73             N/A        1           0                    0.0   \n74             N/A        1           0                    0.0   \n75             N/A        1           0                    0.0   \n76             N/A        1           0                    0.0   \n77             N/A        1           0                    0.0   \n78             N/A        1           0                    0.0   \n79             N/A        1           0                    0.0   \n80             N/A        1           0                    0.0   \n81             N/A        1           0                    0.0   \n82             N/A        1           0                    0.0   \n83             N/A        1           0                    0.0   \n\n              org_apoyo  toallasdesechablesa  \n50              Ninguno                    0  \n51              Ninguno                    0  \n67              Ninguno                    0  \n68              Ninguno                    0  \n69              Ninguno                    0  \n70  Micros para Avanzar                    0  \n71        Fondo Apthapi                    0  \n72              Ninguno                    0  \n73              Ninguno                    0  \n74              Ninguno                    0  \n75              Ninguno                    0  \n76              Ninguno                    0  \n77              Ninguno                    0  \n78              Ninguno                    0  \n79              Ninguno                    0  \n80              Ninguno                    0  \n81              Ninguno                    0  \n82              Ninguno                    0  \n83              Ninguno                    0  \n\n[19 rows x 32 columns]",
      "text/html": "<div>\n<style scoped>\n    .dataframe tbody tr th:only-of-type {\n        vertical-align: middle;\n    }\n\n    .dataframe tbody tr th {\n        vertical-align: top;\n    }\n\n    .dataframe thead th {\n        text-align: right;\n    }\n</style>\n<table border=\"1\" class=\"dataframe\">\n  <thead>\n    <tr style=\"text-align: right;\">\n      <th></th>\n      <th>#</th>\n      <th>año</th>\n      <th>fecha</th>\n      <th>tipo_actividad</th>\n      <th>formato</th>\n      <th>actividad</th>\n      <th>cantidad</th>\n      <th>pais</th>\n      <th>ciudad</th>\n      <th>alcance</th>\n      <th>...</th>\n      <th>calzonesmenstruales</th>\n      <th>kit_insumos_gestiónmenstrual</th>\n      <th>qipusmenstruales</th>\n      <th>expo_duracion</th>\n      <th>tematicataller</th>\n      <th>personal</th>\n      <th>voluntarias</th>\n      <th>expo_tiempo_elabtaller</th>\n      <th>org_apoyo</th>\n      <th>toallasdesechablesa</th>\n    </tr>\n  </thead>\n  <tbody>\n    <tr>\n      <th>50</th>\n      <td>50.0</td>\n      <td>2023</td>\n      <td>2023-08-08</td>\n      <td>difusion</td>\n      <td>presencial</td>\n      <td>Feria Internacional del Libro 2023</td>\n      <td>1</td>\n      <td>Bolivia</td>\n      <td>La Paz</td>\n      <td>Nacional</td>\n      <td>...</td>\n      <td>0</td>\n      <td>0</td>\n      <td>0</td>\n      <td>0.0</td>\n      <td>N/A</td>\n      <td>1</td>\n      <td>2</td>\n      <td>0.0</td>\n      <td>Ninguno</td>\n      <td>0</td>\n    </tr>\n    <tr>\n      <th>51</th>\n      <td>51.0</td>\n      <td>2023</td>\n      <td>2023-09-28</td>\n      <td>difusion</td>\n      <td>presencial</td>\n      <td>Feria Bulliciosa de la Campaña 28 de Septiembre</td>\n      <td>1</td>\n      <td>Bolivia</td>\n      <td>Santa Cruz</td>\n      <td>Nacional</td>\n      <td>...</td>\n      <td>0</td>\n      <td>0</td>\n      <td>0</td>\n      <td>0.0</td>\n      <td>N/A</td>\n      <td>1</td>\n      <td>1</td>\n      <td>0.0</td>\n      <td>Ninguno</td>\n      <td>0</td>\n    </tr>\n    <tr>\n      <th>67</th>\n      <td>67.0</td>\n      <td>2021</td>\n      <td>2021-01-12</td>\n      <td>difusion redes sociales</td>\n      <td>virtual</td>\n      <td>artes</td>\n      <td>46</td>\n      <td>Bolivia</td>\n      <td>N/A</td>\n      <td>Nacional</td>\n      <td>...</td>\n      <td>0</td>\n      <td>0</td>\n      <td>0</td>\n      <td>0.0</td>\n      <td>no aplica</td>\n      <td>1</td>\n      <td>0</td>\n      <td>0.0</td>\n      <td>Ninguno</td>\n      <td>0</td>\n    </tr>\n    <tr>\n      <th>68</th>\n      <td>68.0</td>\n      <td>2021</td>\n      <td>2021-11-11</td>\n      <td>difusion redes sociales</td>\n      <td>virtual</td>\n      <td>Videopitch 1</td>\n      <td>1</td>\n      <td>Bolivia</td>\n      <td>El Alto</td>\n      <td>Internacional</td>\n      <td>...</td>\n      <td>0</td>\n      <td>0</td>\n      <td>0</td>\n      <td>0.0</td>\n      <td>N/A</td>\n      <td>1</td>\n      <td>0</td>\n      <td>0.0</td>\n      <td>Ninguno</td>\n      <td>0</td>\n    </tr>\n    <tr>\n      <th>69</th>\n      <td>69.0</td>\n      <td>2022</td>\n      <td>2022-10-06</td>\n      <td>difusion redes sociales</td>\n      <td>virtual</td>\n      <td>Videopitch 2</td>\n      <td>1</td>\n      <td>Bolivia</td>\n      <td>Sucre</td>\n      <td>Nacional</td>\n      <td>...</td>\n      <td>0</td>\n      <td>0</td>\n      <td>0</td>\n      <td>0.0</td>\n      <td>N/A</td>\n      <td>1</td>\n      <td>0</td>\n      <td>0.0</td>\n      <td>Ninguno</td>\n      <td>0</td>\n    </tr>\n    <tr>\n      <th>70</th>\n      <td>70.0</td>\n      <td>2022</td>\n      <td>2022-11-30</td>\n      <td>difusion redes sociales</td>\n      <td>virtual</td>\n      <td>Video de mural menstrual</td>\n      <td>1</td>\n      <td>Bolivia</td>\n      <td>Sucre</td>\n      <td>Nacional</td>\n      <td>...</td>\n      <td>0</td>\n      <td>0</td>\n      <td>0</td>\n      <td>0.0</td>\n      <td>N/A</td>\n      <td>1</td>\n      <td>0</td>\n      <td>360.0</td>\n      <td>Micros para Avanzar</td>\n      <td>0</td>\n    </tr>\n    <tr>\n      <th>71</th>\n      <td>71.0</td>\n      <td>2022</td>\n      <td>2022-05-28</td>\n      <td>difusion redes sociales</td>\n      <td>virtual</td>\n      <td>Video performance artística</td>\n      <td>1</td>\n      <td>Bolivia</td>\n      <td>Sucre</td>\n      <td>Nacional</td>\n      <td>...</td>\n      <td>0</td>\n      <td>0</td>\n      <td>0</td>\n      <td>10.0</td>\n      <td>N/A</td>\n      <td>4</td>\n      <td>2</td>\n      <td>300.0</td>\n      <td>Fondo Apthapi</td>\n      <td>0</td>\n    </tr>\n    <tr>\n      <th>72</th>\n      <td>72.0</td>\n      <td>2022</td>\n      <td>2022-05-28</td>\n      <td>difusion redes sociales</td>\n      <td>virtual</td>\n      <td>reels</td>\n      <td>36</td>\n      <td>Bolivia</td>\n      <td>N/A</td>\n      <td>Internacional</td>\n      <td>...</td>\n      <td>0</td>\n      <td>0</td>\n      <td>0</td>\n      <td>0.0</td>\n      <td>N/A</td>\n      <td>1</td>\n      <td>0</td>\n      <td>0.0</td>\n      <td>Ninguno</td>\n      <td>0</td>\n    </tr>\n    <tr>\n      <th>73</th>\n      <td>73.0</td>\n      <td>2022</td>\n      <td>2022-05-28</td>\n      <td>difusion redes sociales</td>\n      <td>virtual</td>\n      <td>posts en instagram</td>\n      <td>116</td>\n      <td>Bolivia</td>\n      <td>N/A</td>\n      <td>Internacional</td>\n      <td>...</td>\n      <td>0</td>\n      <td>0</td>\n      <td>0</td>\n      <td>0.0</td>\n      <td>N/A</td>\n      <td>1</td>\n      <td>0</td>\n      <td>0.0</td>\n      <td>Ninguno</td>\n      <td>0</td>\n    </tr>\n    <tr>\n      <th>74</th>\n      <td>74.0</td>\n      <td>2022</td>\n      <td>2022-03-25</td>\n      <td>medios de comunicacion</td>\n      <td>virtual</td>\n      <td>Verdad con tinta 2</td>\n      <td>1</td>\n      <td>Bolivia</td>\n      <td>N/A</td>\n      <td>Nacional</td>\n      <td>...</td>\n      <td>0</td>\n      <td>0</td>\n      <td>0</td>\n      <td>0.0</td>\n      <td>N/A</td>\n      <td>1</td>\n      <td>0</td>\n      <td>0.0</td>\n      <td>Ninguno</td>\n      <td>0</td>\n    </tr>\n    <tr>\n      <th>75</th>\n      <td>75.0</td>\n      <td>2021</td>\n      <td>2021-11-16</td>\n      <td>medios de comunicacion</td>\n      <td>virtual</td>\n      <td>Verdad con tinta 1</td>\n      <td>1</td>\n      <td>Bolivia</td>\n      <td>N/A</td>\n      <td>Nacional</td>\n      <td>...</td>\n      <td>0</td>\n      <td>0</td>\n      <td>0</td>\n      <td>0.0</td>\n      <td>N/A</td>\n      <td>1</td>\n      <td>0</td>\n      <td>0.0</td>\n      <td>Ninguno</td>\n      <td>0</td>\n    </tr>\n    <tr>\n      <th>76</th>\n      <td>76.0</td>\n      <td>2022</td>\n      <td>2022-04-28</td>\n      <td>medios de comunicacion</td>\n      <td>virtual</td>\n      <td>Muy Waso</td>\n      <td>1</td>\n      <td>Bolivia</td>\n      <td>N/A</td>\n      <td>Nacional</td>\n      <td>...</td>\n      <td>0</td>\n      <td>0</td>\n      <td>0</td>\n      <td>0.0</td>\n      <td>N/A</td>\n      <td>1</td>\n      <td>0</td>\n      <td>0.0</td>\n      <td>Ninguno</td>\n      <td>0</td>\n    </tr>\n    <tr>\n      <th>77</th>\n      <td>77.0</td>\n      <td>2022</td>\n      <td>2022-08-06</td>\n      <td>medios de comunicacion</td>\n      <td>presencial</td>\n      <td>Correo del Sur</td>\n      <td>1</td>\n      <td>Bolivia</td>\n      <td>N/A</td>\n      <td>Nacional</td>\n      <td>...</td>\n      <td>0</td>\n      <td>0</td>\n      <td>0</td>\n      <td>0.0</td>\n      <td>N/A</td>\n      <td>1</td>\n      <td>0</td>\n      <td>0.0</td>\n      <td>Ninguno</td>\n      <td>0</td>\n    </tr>\n    <tr>\n      <th>78</th>\n      <td>78.0</td>\n      <td>2022</td>\n      <td>2022-06-16</td>\n      <td>medios de comunicacion</td>\n      <td>presencial</td>\n      <td>Revista Ekos</td>\n      <td>1</td>\n      <td>Bolivia</td>\n      <td>N/A</td>\n      <td>Nacional</td>\n      <td>...</td>\n      <td>0</td>\n      <td>0</td>\n      <td>0</td>\n      <td>0.0</td>\n      <td>N/A</td>\n      <td>1</td>\n      <td>0</td>\n      <td>0.0</td>\n      <td>Ninguno</td>\n      <td>0</td>\n    </tr>\n    <tr>\n      <th>79</th>\n      <td>79.0</td>\n      <td>2023</td>\n      <td>2023-03-22</td>\n      <td>medios de comunicacion</td>\n      <td>presencial</td>\n      <td>Agencia EFE</td>\n      <td>1</td>\n      <td>Bolivia</td>\n      <td>N/A</td>\n      <td>Internacional</td>\n      <td>...</td>\n      <td>0</td>\n      <td>0</td>\n      <td>0</td>\n      <td>0.0</td>\n      <td>N/A</td>\n      <td>1</td>\n      <td>0</td>\n      <td>0.0</td>\n      <td>Ninguno</td>\n      <td>0</td>\n    </tr>\n    <tr>\n      <th>80</th>\n      <td>80.0</td>\n      <td>2023</td>\n      <td>2023-09-16</td>\n      <td>medios de comunicacion</td>\n      <td>presencial</td>\n      <td>Nacer Mujer TV</td>\n      <td>1</td>\n      <td>Bolivia</td>\n      <td>La Paz</td>\n      <td>Nacional</td>\n      <td>...</td>\n      <td>0</td>\n      <td>0</td>\n      <td>0</td>\n      <td>0.0</td>\n      <td>N/A</td>\n      <td>1</td>\n      <td>0</td>\n      <td>0.0</td>\n      <td>Ninguno</td>\n      <td>0</td>\n    </tr>\n    <tr>\n      <th>81</th>\n      <td>81.0</td>\n      <td>2022</td>\n      <td>2022-04-13</td>\n      <td>medios de comunicacion</td>\n      <td>virtual</td>\n      <td>Adich Radio</td>\n      <td>1</td>\n      <td>Bolivia</td>\n      <td>Sucre</td>\n      <td>Nacional</td>\n      <td>...</td>\n      <td>0</td>\n      <td>0</td>\n      <td>0</td>\n      <td>0.0</td>\n      <td>N/A</td>\n      <td>1</td>\n      <td>0</td>\n      <td>0.0</td>\n      <td>Ninguno</td>\n      <td>0</td>\n    </tr>\n    <tr>\n      <th>82</th>\n      <td>82.0</td>\n      <td>2022</td>\n      <td>2022-07-19</td>\n      <td>medios de comunicacion</td>\n      <td>virtual</td>\n      <td>Adich Radio</td>\n      <td>1</td>\n      <td>Bolivia</td>\n      <td>Sucre</td>\n      <td>Nacional</td>\n      <td>...</td>\n      <td>0</td>\n      <td>0</td>\n      <td>0</td>\n      <td>0.0</td>\n      <td>N/A</td>\n      <td>1</td>\n      <td>0</td>\n      <td>0.0</td>\n      <td>Ninguno</td>\n      <td>0</td>\n    </tr>\n    <tr>\n      <th>83</th>\n      <td>83.0</td>\n      <td>2022</td>\n      <td>2022-05-27</td>\n      <td>medios de comunicacion</td>\n      <td>virtual</td>\n      <td>radio Encuentro</td>\n      <td>1</td>\n      <td>Bolivia</td>\n      <td>Sucre</td>\n      <td>Nacional</td>\n      <td>...</td>\n      <td>0</td>\n      <td>0</td>\n      <td>0</td>\n      <td>0.0</td>\n      <td>N/A</td>\n      <td>1</td>\n      <td>0</td>\n      <td>0.0</td>\n      <td>Ninguno</td>\n      <td>0</td>\n    </tr>\n  </tbody>\n</table>\n<p>19 rows × 32 columns</p>\n</div>"
     },
     "execution_count": 345,
     "metadata": {},
     "output_type": "execute_result"
    }
   ],
   "source": [
    "df_yawar_c[df_yawar_c['tipo_actividad'].isin(['difusion','difusion redes sociales','medios de comunicacion'])]"
   ],
   "metadata": {
    "collapsed": false,
    "ExecuteTime": {
     "end_time": "2024-04-16T21:40:38.140255400Z",
     "start_time": "2024-04-16T21:40:38.103981500Z"
    }
   },
   "id": "7ea2b1093afe391a"
  },
  {
   "cell_type": "code",
   "execution_count": 346,
   "outputs": [
    {
     "data": {
      "text/plain": "formato\npresencial    46\nvirtual       38\nName: count, dtype: int64"
     },
     "execution_count": 346,
     "metadata": {},
     "output_type": "execute_result"
    }
   ],
   "source": [
    "df_yawar_c['formato'].value_counts()"
   ],
   "metadata": {
    "collapsed": false,
    "ExecuteTime": {
     "end_time": "2024-04-16T21:41:00.648449400Z",
     "start_time": "2024-04-16T21:41:00.615921800Z"
    }
   },
   "id": "75f015c9d670e628"
  },
  {
   "cell_type": "code",
   "execution_count": 347,
   "outputs": [
    {
     "data": {
      "text/plain": "array(['1er encuentro voluntarias', 'Taller: qué es ser joven?',\n       'ALTO ALDEAS', 'ALTO MAPAKI', 'PROYECTO SOCIAL JASAYÉ',\n       'ESCUELITA VIRTUAL', 'ESCUELITA VIRTUAL 2', 'ESCUELITA VIRTUAL 3',\n       'ESCUELITA VIRTUAL 4', 'ESCUELITA VIRTUAL 5',\n       'ESCUELITA VIRTUAL 6', 'RECLUSAS JUVENILES', 'MAPAKI SUCRE',\n       'CERPI SUCRE', 'ETTA Projects', 'Voluntarias Yawar', 'DRAGONAS',\n       'MUJERES DIVERSAS LP', 'Rapsistencia', 'Mujeres Montaña',\n       'ETTA -Costura Toallas', 'CIES', 'ETTA ACS', 'UE', 'MAMAS',\n       'COSTURA TOALLAS', 'COLE', 'PALMASOLA', 'Taller',\n       'Feria Internacional del Libro 2023',\n       'Feria Bulliciosa de la Campaña 28 de Septiembre',\n       'Primer Videopitch para campaña de recaudación de fondos',\n       'Un evento de Zumba y conversatorio para recaudar fondos',\n       'Yawar Twerk, taller de twerk para recaudar fondos',\n       'Concierto Hip Hoppas y furiosas para recaudación de fondos',\n       'Elaboración de un mural menstrual, de 30 metros en el CERPI',\n       'Cartilla educativa con ilustraciones',\n       'Un hip hop menstrual con su videoclip en el mural',\n       'Performance artística de danza y poesía, Sucre',\n       'Conversatorio UAGRAM en conmemoración del día Internacional de la Salud Menstrual',\n       'Conversatorio: \\nLA DESIGUALDAD MENSTRUAL Y EL TRANSITO HACIA UNA VIVENCIA MENSTRUAL DIGNA, experiencias menstruales en India, Guatemala y Bolivia',\n       'Conversatorio UNIFRANZ: Viviendo la Menstruación con dignidad',\n       'Participación en la Noche de Museos',\n       'Campaña de descuentos por Mayo Menstrual',\n       'Alianza calzones menstruales con Aura',\n       'Campaña navideña de descuentos en alianza con Sarita Eco y Yanawara NYC',\n       'artes', 'Videopitch 1', 'Videopitch 2',\n       'Video de mural menstrual', 'Video performance artística', 'reels',\n       'posts en instagram', 'Verdad con tinta 2', 'Verdad con tinta 1',\n       'Muy Waso', 'Correo del Sur', 'Revista Ekos', 'Agencia EFE',\n       'Nacer Mujer TV', 'Adich Radio', 'radio Encuentro'], dtype=object)"
     },
     "execution_count": 347,
     "metadata": {},
     "output_type": "execute_result"
    }
   ],
   "source": [
    "df_yawar_c['actividad'].unique()"
   ],
   "metadata": {
    "collapsed": false,
    "ExecuteTime": {
     "end_time": "2024-04-16T21:41:03.892709700Z",
     "start_time": "2024-04-16T21:41:03.857332200Z"
    }
   },
   "id": "93de08e3c24ced1d"
  },
  {
   "cell_type": "markdown",
   "source": [
    "Even when 'cantidad' seems to have some outliers , those correspond to a correct infomation. "
   ],
   "metadata": {
    "collapsed": false
   },
   "id": "30fc6d1597770d95"
  },
  {
   "cell_type": "code",
   "execution_count": 348,
   "outputs": [
    {
     "data": {
      "text/plain": "<Axes: xlabel='cantidad'>"
     },
     "execution_count": 348,
     "metadata": {},
     "output_type": "execute_result"
    },
    {
     "data": {
      "text/plain": "<Figure size 640x480 with 1 Axes>",
      "image/png": "[encoded data removed]"
     },
     "metadata": {},
     "output_type": "display_data"
    }
   ],
   "source": [
    " sns.boxplot(x=df_yawar_c['cantidad'])"
   ],
   "metadata": {
    "collapsed": false,
    "ExecuteTime": {
     "end_time": "2024-04-16T21:41:08.133956600Z",
     "start_time": "2024-04-16T21:41:07.958298100Z"
    }
   },
   "id": "f5bc530435f1af6b"
  },
  {
   "cell_type": "code",
   "execution_count": 80,
   "outputs": [
    {
     "data": {
      "text/plain": "count     84.000000\nmean       3.309524\nstd       13.896325\nmin        0.000000\n25%        1.000000\n50%        1.000000\n75%        1.000000\nmax      116.000000\nName: cantidad, dtype: float64"
     },
     "execution_count": 80,
     "metadata": {},
     "output_type": "execute_result"
    }
   ],
   "source": [
    "df_yawar_c['cantidad'].describe()"
   ],
   "metadata": {
    "collapsed": false,
    "ExecuteTime": {
     "end_time": "2024-04-16T20:15:54.169799800Z",
     "start_time": "2024-04-16T20:15:42.768882500Z"
    }
   },
   "id": "6f60b455f22996c8"
  },
  {
   "cell_type": "code",
   "execution_count": 349,
   "outputs": [
    {
     "data": {
      "text/plain": "       #   año      fecha           tipo_actividad     formato  \\\n73  73.0  2022 2022-05-28  difusion redes sociales     virtual   \n67  67.0  2021 2021-01-12  difusion redes sociales     virtual   \n72  72.0  2022 2022-05-28  difusion redes sociales     virtual   \n61  61.0  2022 2022-05-28            conversatorio     virtual   \n59  59.0  2023 2024-05-23     artistica y cultural  presencial   \n..   ...   ...        ...                      ...         ...   \n25  26.0  2022 2022-05-04                   taller     virtual   \n24  25.0  2022 2022-04-14                   taller     virtual   \n23  24.0  2022 2022-03-24                   taller     virtual   \n83  83.0  2022 2022-05-27   medios de comunicacion     virtual   \n66  66.0  2021 2021-01-12                  campaña     virtual   \n\n                                            actividad  cantidad  \\\n73                                 posts en instagram       116   \n67                                              artes        46   \n72                                              reels        36   \n61  Conversatorio: \\nLA DESIGUALDAD MENSTRUAL Y EL...         1   \n59     Performance artística de danza y poesía, Sucre         1   \n..                                                ...       ...   \n25                                  Voluntarias Yawar         1   \n24                                  Voluntarias Yawar         1   \n23                                  Voluntarias Yawar         1   \n83                                    radio Encuentro         1   \n66  Campaña navideña de descuentos en alianza con ...         0   \n\n              pais                ciudad        alcance  ...  \\\n73         Bolivia                   N/A  Internacional  ...   \n67         Bolivia                   N/A       Nacional  ...   \n72         Bolivia                   N/A  Internacional  ...   \n61         Bolivia         Internacional  Internacional  ...   \n59         Bolivia                 Sucre       Nacional  ...   \n..             ...                   ...            ...  ...   \n25         Bolivia                La Paz       Nacional  ...   \n24         Bolivia                La Paz       Nacional  ...   \n23         Bolivia               El Alto       Nacional  ...   \n83         Bolivia                 Sucre       Nacional  ...   \n66  Estados Unidos  Bolivia y Nueva York  Internacional  ...   \n\n   calzonesmenstruales kit_insumos_gestiónmenstrual qipusmenstruales  \\\n73                   0                            0                0   \n67                   0                            0                0   \n72                   0                            0                0   \n61                   0                            0                0   \n59                   0                            0                0   \n..                 ...                          ...              ...   \n25                   0                            0                0   \n24                   0                            0                0   \n23                   0                            0                0   \n83                   0                            0                0   \n66                   0                            0                0   \n\n   expo_duracion                      tematicataller personal voluntarias  \\\n73           0.0                                 N/A        1           0   \n67           0.0                           no aplica        1           0   \n72           0.0                                 N/A        1           0   \n61           0.0                                 N/A        1           0   \n59           0.0                                 N/A        1           0   \n..           ...                                 ...      ...         ...   \n25         210.0                   Pobreza menstrual        1           5   \n24         210.0  Pubertad, adolescencia y menarquía        1           4   \n23         210.0                      Arte Menstrual        1           5   \n83           0.0                                 N/A        1           0   \n66           0.0                                 N/A        1           0   \n\n   expo_tiempo_elabtaller       org_apoyo  toallasdesechablesa  \n73                    0.0         Ninguno                    0  \n67                    0.0         Ninguno                    0  \n72                    0.0         Ninguno                    0  \n61                    0.0         Ninguno                    0  \n59                    0.0         Ninguno                    0  \n..                    ...             ...                  ...  \n25                  480.0  Aptapi Jopueti                    0  \n24                  480.0  Aptapi Jopueti                    0  \n23                  480.0  Aptapi Jopueti                    0  \n83                    0.0         Ninguno                    0  \n66                    0.0         Ninguno                    0  \n\n[84 rows x 32 columns]",
      "text/html": "<div>\n<style scoped>\n    .dataframe tbody tr th:only-of-type {\n        vertical-align: middle;\n    }\n\n    .dataframe tbody tr th {\n        vertical-align: top;\n    }\n\n    .dataframe thead th {\n        text-align: right;\n    }\n</style>\n<table border=\"1\" class=\"dataframe\">\n  <thead>\n    <tr style=\"text-align: right;\">\n      <th></th>\n      <th>#</th>\n      <th>año</th>\n      <th>fecha</th>\n      <th>tipo_actividad</th>\n      <th>formato</th>\n      <th>actividad</th>\n      <th>cantidad</th>\n      <th>pais</th>\n      <th>ciudad</th>\n      <th>alcance</th>\n      <th>...</th>\n      <th>calzonesmenstruales</th>\n      <th>kit_insumos_gestiónmenstrual</th>\n      <th>qipusmenstruales</th>\n      <th>expo_duracion</th>\n      <th>tematicataller</th>\n      <th>personal</th>\n      <th>voluntarias</th>\n      <th>expo_tiempo_elabtaller</th>\n      <th>org_apoyo</th>\n      <th>toallasdesechablesa</th>\n    </tr>\n  </thead>\n  <tbody>\n    <tr>\n      <th>73</th>\n      <td>73.0</td>\n      <td>2022</td>\n      <td>2022-05-28</td>\n      <td>difusion redes sociales</td>\n      <td>virtual</td>\n      <td>posts en instagram</td>\n      <td>116</td>\n      <td>Bolivia</td>\n      <td>N/A</td>\n      <td>Internacional</td>\n      <td>...</td>\n      <td>0</td>\n      <td>0</td>\n      <td>0</td>\n      <td>0.0</td>\n      <td>N/A</td>\n      <td>1</td>\n      <td>0</td>\n      <td>0.0</td>\n      <td>Ninguno</td>\n      <td>0</td>\n    </tr>\n    <tr>\n      <th>67</th>\n      <td>67.0</td>\n      <td>2021</td>\n      <td>2021-01-12</td>\n      <td>difusion redes sociales</td>\n      <td>virtual</td>\n      <td>artes</td>\n      <td>46</td>\n      <td>Bolivia</td>\n      <td>N/A</td>\n      <td>Nacional</td>\n      <td>...</td>\n      <td>0</td>\n      <td>0</td>\n      <td>0</td>\n      <td>0.0</td>\n      <td>no aplica</td>\n      <td>1</td>\n      <td>0</td>\n      <td>0.0</td>\n      <td>Ninguno</td>\n      <td>0</td>\n    </tr>\n    <tr>\n      <th>72</th>\n      <td>72.0</td>\n      <td>2022</td>\n      <td>2022-05-28</td>\n      <td>difusion redes sociales</td>\n      <td>virtual</td>\n      <td>reels</td>\n      <td>36</td>\n      <td>Bolivia</td>\n      <td>N/A</td>\n      <td>Internacional</td>\n      <td>...</td>\n      <td>0</td>\n      <td>0</td>\n      <td>0</td>\n      <td>0.0</td>\n      <td>N/A</td>\n      <td>1</td>\n      <td>0</td>\n      <td>0.0</td>\n      <td>Ninguno</td>\n      <td>0</td>\n    </tr>\n    <tr>\n      <th>61</th>\n      <td>61.0</td>\n      <td>2022</td>\n      <td>2022-05-28</td>\n      <td>conversatorio</td>\n      <td>virtual</td>\n      <td>Conversatorio: \\nLA DESIGUALDAD MENSTRUAL Y EL...</td>\n      <td>1</td>\n      <td>Bolivia</td>\n      <td>Internacional</td>\n      <td>Internacional</td>\n      <td>...</td>\n      <td>0</td>\n      <td>0</td>\n      <td>0</td>\n      <td>0.0</td>\n      <td>N/A</td>\n      <td>1</td>\n      <td>0</td>\n      <td>0.0</td>\n      <td>Ninguno</td>\n      <td>0</td>\n    </tr>\n    <tr>\n      <th>59</th>\n      <td>59.0</td>\n      <td>2023</td>\n      <td>2024-05-23</td>\n      <td>artistica y cultural</td>\n      <td>presencial</td>\n      <td>Performance artística de danza y poesía, Sucre</td>\n      <td>1</td>\n      <td>Bolivia</td>\n      <td>Sucre</td>\n      <td>Nacional</td>\n      <td>...</td>\n      <td>0</td>\n      <td>0</td>\n      <td>0</td>\n      <td>0.0</td>\n      <td>N/A</td>\n      <td>1</td>\n      <td>0</td>\n      <td>0.0</td>\n      <td>Ninguno</td>\n      <td>0</td>\n    </tr>\n    <tr>\n      <th>...</th>\n      <td>...</td>\n      <td>...</td>\n      <td>...</td>\n      <td>...</td>\n      <td>...</td>\n      <td>...</td>\n      <td>...</td>\n      <td>...</td>\n      <td>...</td>\n      <td>...</td>\n      <td>...</td>\n      <td>...</td>\n      <td>...</td>\n      <td>...</td>\n      <td>...</td>\n      <td>...</td>\n      <td>...</td>\n      <td>...</td>\n      <td>...</td>\n      <td>...</td>\n      <td>...</td>\n    </tr>\n    <tr>\n      <th>25</th>\n      <td>26.0</td>\n      <td>2022</td>\n      <td>2022-05-04</td>\n      <td>taller</td>\n      <td>virtual</td>\n      <td>Voluntarias Yawar</td>\n      <td>1</td>\n      <td>Bolivia</td>\n      <td>La Paz</td>\n      <td>Nacional</td>\n      <td>...</td>\n      <td>0</td>\n      <td>0</td>\n      <td>0</td>\n      <td>210.0</td>\n      <td>Pobreza menstrual</td>\n      <td>1</td>\n      <td>5</td>\n      <td>480.0</td>\n      <td>Aptapi Jopueti</td>\n      <td>0</td>\n    </tr>\n    <tr>\n      <th>24</th>\n      <td>25.0</td>\n      <td>2022</td>\n      <td>2022-04-14</td>\n      <td>taller</td>\n      <td>virtual</td>\n      <td>Voluntarias Yawar</td>\n      <td>1</td>\n      <td>Bolivia</td>\n      <td>La Paz</td>\n      <td>Nacional</td>\n      <td>...</td>\n      <td>0</td>\n      <td>0</td>\n      <td>0</td>\n      <td>210.0</td>\n      <td>Pubertad, adolescencia y menarquía</td>\n      <td>1</td>\n      <td>4</td>\n      <td>480.0</td>\n      <td>Aptapi Jopueti</td>\n      <td>0</td>\n    </tr>\n    <tr>\n      <th>23</th>\n      <td>24.0</td>\n      <td>2022</td>\n      <td>2022-03-24</td>\n      <td>taller</td>\n      <td>virtual</td>\n      <td>Voluntarias Yawar</td>\n      <td>1</td>\n      <td>Bolivia</td>\n      <td>El Alto</td>\n      <td>Nacional</td>\n      <td>...</td>\n      <td>0</td>\n      <td>0</td>\n      <td>0</td>\n      <td>210.0</td>\n      <td>Arte Menstrual</td>\n      <td>1</td>\n      <td>5</td>\n      <td>480.0</td>\n      <td>Aptapi Jopueti</td>\n      <td>0</td>\n    </tr>\n    <tr>\n      <th>83</th>\n      <td>83.0</td>\n      <td>2022</td>\n      <td>2022-05-27</td>\n      <td>medios de comunicacion</td>\n      <td>virtual</td>\n      <td>radio Encuentro</td>\n      <td>1</td>\n      <td>Bolivia</td>\n      <td>Sucre</td>\n      <td>Nacional</td>\n      <td>...</td>\n      <td>0</td>\n      <td>0</td>\n      <td>0</td>\n      <td>0.0</td>\n      <td>N/A</td>\n      <td>1</td>\n      <td>0</td>\n      <td>0.0</td>\n      <td>Ninguno</td>\n      <td>0</td>\n    </tr>\n    <tr>\n      <th>66</th>\n      <td>66.0</td>\n      <td>2021</td>\n      <td>2021-01-12</td>\n      <td>campaña</td>\n      <td>virtual</td>\n      <td>Campaña navideña de descuentos en alianza con ...</td>\n      <td>0</td>\n      <td>Estados Unidos</td>\n      <td>Bolivia y Nueva York</td>\n      <td>Internacional</td>\n      <td>...</td>\n      <td>0</td>\n      <td>0</td>\n      <td>0</td>\n      <td>0.0</td>\n      <td>N/A</td>\n      <td>1</td>\n      <td>0</td>\n      <td>0.0</td>\n      <td>Ninguno</td>\n      <td>0</td>\n    </tr>\n  </tbody>\n</table>\n<p>84 rows × 32 columns</p>\n</div>"
     },
     "execution_count": 349,
     "metadata": {},
     "output_type": "execute_result"
    }
   ],
   "source": [
    "df_yawar_c.sort_values(by='cantidad', ascending=False)"
   ],
   "metadata": {
    "collapsed": false,
    "ExecuteTime": {
     "end_time": "2024-04-16T21:41:18.567406400Z",
     "start_time": "2024-04-16T21:41:18.489035700Z"
    }
   },
   "id": "1d10acad6e640581"
  },
  {
   "cell_type": "markdown",
   "source": [
    "##### 'pais' and 'ciudad' columns"
   ],
   "metadata": {
    "collapsed": false
   },
   "id": "dad6ae1e60771a6"
  },
  {
   "cell_type": "code",
   "execution_count": 350,
   "outputs": [
    {
     "data": {
      "text/plain": "pais\nBolivia           82\nAustralia          1\nEstados Unidos     1\nName: count, dtype: int64"
     },
     "execution_count": 350,
     "metadata": {},
     "output_type": "execute_result"
    }
   ],
   "source": [
    "df_yawar_c['pais'].value_counts()"
   ],
   "metadata": {
    "collapsed": false,
    "ExecuteTime": {
     "end_time": "2024-04-16T21:41:41.112803500Z",
     "start_time": "2024-04-16T21:41:41.082029800Z"
    }
   },
   "id": "41bf6b0fefa20b38"
  },
  {
   "cell_type": "code",
   "execution_count": 512,
   "outputs": [
    {
     "data": {
      "text/plain": "ciudad\nLa Paz                     27\nN/A                        20\nSucre                      13\nBeni                       11\nSanta Cruz de la Sierra     9\nCochabamba                  1\nBuena Vista                 1\nMelbourne                   1\nCiudad de México            1\nName: count, dtype: int64"
     },
     "execution_count": 512,
     "metadata": {},
     "output_type": "execute_result"
    }
   ],
   "source": [
    "df_yawar_c['ciudad'].value_counts()"
   ],
   "metadata": {
    "collapsed": false,
    "ExecuteTime": {
     "end_time": "2024-04-16T22:41:24.953497300Z",
     "start_time": "2024-04-16T22:41:24.874143400Z"
    }
   },
   "id": "e99a5af153078103"
  },
  {
   "cell_type": "code",
   "execution_count": 352,
   "outputs": [
    {
     "data": {
      "text/plain": "       #   año      fecha           tipo_actividad     formato  \\\n52  52.0  2021 2021-10-01     artistica y cultural  presencial   \n53  53.0  2021 2021-02-06     artistica y cultural  presencial   \n57  57.0  2022 2022-01-11     artistica y cultural  presencial   \n65  65.0  2022 2022-03-21                  campaña     virtual   \n67  67.0  2021 2021-01-12  difusion redes sociales     virtual   \n72  72.0  2022 2022-05-28  difusion redes sociales     virtual   \n73  73.0  2022 2022-05-28  difusion redes sociales     virtual   \n74  74.0  2022 2022-03-25   medios de comunicacion     virtual   \n75  75.0  2021 2021-11-16   medios de comunicacion     virtual   \n76  76.0  2022 2022-04-28   medios de comunicacion     virtual   \n77  77.0  2022 2022-08-06   medios de comunicacion  presencial   \n78  78.0  2022 2022-06-16   medios de comunicacion  presencial   \n79  79.0  2023 2023-03-22   medios de comunicacion  presencial   \n\n                                            actividad  cantidad       pais  \\\n52  Primer Videopitch para campaña de recaudación ...         1    Bolivia   \n53  Un evento de Zumba y conversatorio para recaud...         1  Australia   \n57               Cartilla educativa con ilustraciones         1    Bolivia   \n65              Alianza calzones menstruales con Aura         1    Bolivia   \n67                                              artes        46    Bolivia   \n72                                              reels        36    Bolivia   \n73                                 posts en instagram       116    Bolivia   \n74                                 Verdad con tinta 2         1    Bolivia   \n75                                 Verdad con tinta 1         1    Bolivia   \n76                                           Muy Waso         1    Bolivia   \n77                                     Correo del Sur         1    Bolivia   \n78                                       Revista Ekos         1    Bolivia   \n79                                        Agencia EFE         1    Bolivia   \n\n   ciudad        alcance  ... calzonesmenstruales  \\\n52    N/A  Internacional  ...                   0   \n53    N/A  Internacional  ...                   0   \n57    N/A       Nacional  ...                   0   \n65    N/A       Nacional  ...                   0   \n67    N/A       Nacional  ...                   0   \n72    N/A  Internacional  ...                   0   \n73    N/A  Internacional  ...                   0   \n74    N/A       Nacional  ...                   0   \n75    N/A       Nacional  ...                   0   \n76    N/A       Nacional  ...                   0   \n77    N/A       Nacional  ...                   0   \n78    N/A       Nacional  ...                   0   \n79    N/A  Internacional  ...                   0   \n\n   kit_insumos_gestiónmenstrual qipusmenstruales expo_duracion  \\\n52                            0                0           0.0   \n53                            0                0           0.0   \n57                            0                0           0.0   \n65                            0                0           0.0   \n67                            0                0           0.0   \n72                            0                0           0.0   \n73                            0                0           0.0   \n74                            0                0           0.0   \n75                            0                0           0.0   \n76                            0                0           0.0   \n77                            0                0           0.0   \n78                            0                0           0.0   \n79                            0                0           0.0   \n\n    tematicataller personal voluntarias expo_tiempo_elabtaller org_apoyo  \\\n52             N/A        1           0                    0.0   Ninguno   \n53             N/A        1           0                    0.0   Ninguno   \n57             N/A        1           0                    0.0   Ninguno   \n65             N/A        1           0                    0.0   Ninguno   \n67       no aplica        1           0                    0.0   Ninguno   \n72             N/A        1           0                    0.0   Ninguno   \n73             N/A        1           0                    0.0   Ninguno   \n74             N/A        1           0                    0.0   Ninguno   \n75             N/A        1           0                    0.0   Ninguno   \n76             N/A        1           0                    0.0   Ninguno   \n77             N/A        1           0                    0.0   Ninguno   \n78             N/A        1           0                    0.0   Ninguno   \n79             N/A        1           0                    0.0   Ninguno   \n\n    toallasdesechablesa  \n52                    0  \n53                    0  \n57                    0  \n65                    0  \n67                    0  \n72                    0  \n73                    0  \n74                    0  \n75                    0  \n76                    0  \n77                    0  \n78                    0  \n79                    0  \n\n[13 rows x 32 columns]",
      "text/html": "<div>\n<style scoped>\n    .dataframe tbody tr th:only-of-type {\n        vertical-align: middle;\n    }\n\n    .dataframe tbody tr th {\n        vertical-align: top;\n    }\n\n    .dataframe thead th {\n        text-align: right;\n    }\n</style>\n<table border=\"1\" class=\"dataframe\">\n  <thead>\n    <tr style=\"text-align: right;\">\n      <th></th>\n      <th>#</th>\n      <th>año</th>\n      <th>fecha</th>\n      <th>tipo_actividad</th>\n      <th>formato</th>\n      <th>actividad</th>\n      <th>cantidad</th>\n      <th>pais</th>\n      <th>ciudad</th>\n      <th>alcance</th>\n      <th>...</th>\n      <th>calzonesmenstruales</th>\n      <th>kit_insumos_gestiónmenstrual</th>\n      <th>qipusmenstruales</th>\n      <th>expo_duracion</th>\n      <th>tematicataller</th>\n      <th>personal</th>\n      <th>voluntarias</th>\n      <th>expo_tiempo_elabtaller</th>\n      <th>org_apoyo</th>\n      <th>toallasdesechablesa</th>\n    </tr>\n  </thead>\n  <tbody>\n    <tr>\n      <th>52</th>\n      <td>52.0</td>\n      <td>2021</td>\n      <td>2021-10-01</td>\n      <td>artistica y cultural</td>\n      <td>presencial</td>\n      <td>Primer Videopitch para campaña de recaudación ...</td>\n      <td>1</td>\n      <td>Bolivia</td>\n      <td>N/A</td>\n      <td>Internacional</td>\n      <td>...</td>\n      <td>0</td>\n      <td>0</td>\n      <td>0</td>\n      <td>0.0</td>\n      <td>N/A</td>\n      <td>1</td>\n      <td>0</td>\n      <td>0.0</td>\n      <td>Ninguno</td>\n      <td>0</td>\n    </tr>\n    <tr>\n      <th>53</th>\n      <td>53.0</td>\n      <td>2021</td>\n      <td>2021-02-06</td>\n      <td>artistica y cultural</td>\n      <td>presencial</td>\n      <td>Un evento de Zumba y conversatorio para recaud...</td>\n      <td>1</td>\n      <td>Australia</td>\n      <td>N/A</td>\n      <td>Internacional</td>\n      <td>...</td>\n      <td>0</td>\n      <td>0</td>\n      <td>0</td>\n      <td>0.0</td>\n      <td>N/A</td>\n      <td>1</td>\n      <td>0</td>\n      <td>0.0</td>\n      <td>Ninguno</td>\n      <td>0</td>\n    </tr>\n    <tr>\n      <th>57</th>\n      <td>57.0</td>\n      <td>2022</td>\n      <td>2022-01-11</td>\n      <td>artistica y cultural</td>\n      <td>presencial</td>\n      <td>Cartilla educativa con ilustraciones</td>\n      <td>1</td>\n      <td>Bolivia</td>\n      <td>N/A</td>\n      <td>Nacional</td>\n      <td>...</td>\n      <td>0</td>\n      <td>0</td>\n      <td>0</td>\n      <td>0.0</td>\n      <td>N/A</td>\n      <td>1</td>\n      <td>0</td>\n      <td>0.0</td>\n      <td>Ninguno</td>\n      <td>0</td>\n    </tr>\n    <tr>\n      <th>65</th>\n      <td>65.0</td>\n      <td>2022</td>\n      <td>2022-03-21</td>\n      <td>campaña</td>\n      <td>virtual</td>\n      <td>Alianza calzones menstruales con Aura</td>\n      <td>1</td>\n      <td>Bolivia</td>\n      <td>N/A</td>\n      <td>Nacional</td>\n      <td>...</td>\n      <td>0</td>\n      <td>0</td>\n      <td>0</td>\n      <td>0.0</td>\n      <td>N/A</td>\n      <td>1</td>\n      <td>0</td>\n      <td>0.0</td>\n      <td>Ninguno</td>\n      <td>0</td>\n    </tr>\n    <tr>\n      <th>67</th>\n      <td>67.0</td>\n      <td>2021</td>\n      <td>2021-01-12</td>\n      <td>difusion redes sociales</td>\n      <td>virtual</td>\n      <td>artes</td>\n      <td>46</td>\n      <td>Bolivia</td>\n      <td>N/A</td>\n      <td>Nacional</td>\n      <td>...</td>\n      <td>0</td>\n      <td>0</td>\n      <td>0</td>\n      <td>0.0</td>\n      <td>no aplica</td>\n      <td>1</td>\n      <td>0</td>\n      <td>0.0</td>\n      <td>Ninguno</td>\n      <td>0</td>\n    </tr>\n    <tr>\n      <th>72</th>\n      <td>72.0</td>\n      <td>2022</td>\n      <td>2022-05-28</td>\n      <td>difusion redes sociales</td>\n      <td>virtual</td>\n      <td>reels</td>\n      <td>36</td>\n      <td>Bolivia</td>\n      <td>N/A</td>\n      <td>Internacional</td>\n      <td>...</td>\n      <td>0</td>\n      <td>0</td>\n      <td>0</td>\n      <td>0.0</td>\n      <td>N/A</td>\n      <td>1</td>\n      <td>0</td>\n      <td>0.0</td>\n      <td>Ninguno</td>\n      <td>0</td>\n    </tr>\n    <tr>\n      <th>73</th>\n      <td>73.0</td>\n      <td>2022</td>\n      <td>2022-05-28</td>\n      <td>difusion redes sociales</td>\n      <td>virtual</td>\n      <td>posts en instagram</td>\n      <td>116</td>\n      <td>Bolivia</td>\n      <td>N/A</td>\n      <td>Internacional</td>\n      <td>...</td>\n      <td>0</td>\n      <td>0</td>\n      <td>0</td>\n      <td>0.0</td>\n      <td>N/A</td>\n      <td>1</td>\n      <td>0</td>\n      <td>0.0</td>\n      <td>Ninguno</td>\n      <td>0</td>\n    </tr>\n    <tr>\n      <th>74</th>\n      <td>74.0</td>\n      <td>2022</td>\n      <td>2022-03-25</td>\n      <td>medios de comunicacion</td>\n      <td>virtual</td>\n      <td>Verdad con tinta 2</td>\n      <td>1</td>\n      <td>Bolivia</td>\n      <td>N/A</td>\n      <td>Nacional</td>\n      <td>...</td>\n      <td>0</td>\n      <td>0</td>\n      <td>0</td>\n      <td>0.0</td>\n      <td>N/A</td>\n      <td>1</td>\n      <td>0</td>\n      <td>0.0</td>\n      <td>Ninguno</td>\n      <td>0</td>\n    </tr>\n    <tr>\n      <th>75</th>\n      <td>75.0</td>\n      <td>2021</td>\n      <td>2021-11-16</td>\n      <td>medios de comunicacion</td>\n      <td>virtual</td>\n      <td>Verdad con tinta 1</td>\n      <td>1</td>\n      <td>Bolivia</td>\n      <td>N/A</td>\n      <td>Nacional</td>\n      <td>...</td>\n      <td>0</td>\n      <td>0</td>\n      <td>0</td>\n      <td>0.0</td>\n      <td>N/A</td>\n      <td>1</td>\n      <td>0</td>\n      <td>0.0</td>\n      <td>Ninguno</td>\n      <td>0</td>\n    </tr>\n    <tr>\n      <th>76</th>\n      <td>76.0</td>\n      <td>2022</td>\n      <td>2022-04-28</td>\n      <td>medios de comunicacion</td>\n      <td>virtual</td>\n      <td>Muy Waso</td>\n      <td>1</td>\n      <td>Bolivia</td>\n      <td>N/A</td>\n      <td>Nacional</td>\n      <td>...</td>\n      <td>0</td>\n      <td>0</td>\n      <td>0</td>\n      <td>0.0</td>\n      <td>N/A</td>\n      <td>1</td>\n      <td>0</td>\n      <td>0.0</td>\n      <td>Ninguno</td>\n      <td>0</td>\n    </tr>\n    <tr>\n      <th>77</th>\n      <td>77.0</td>\n      <td>2022</td>\n      <td>2022-08-06</td>\n      <td>medios de comunicacion</td>\n      <td>presencial</td>\n      <td>Correo del Sur</td>\n      <td>1</td>\n      <td>Bolivia</td>\n      <td>N/A</td>\n      <td>Nacional</td>\n      <td>...</td>\n      <td>0</td>\n      <td>0</td>\n      <td>0</td>\n      <td>0.0</td>\n      <td>N/A</td>\n      <td>1</td>\n      <td>0</td>\n      <td>0.0</td>\n      <td>Ninguno</td>\n      <td>0</td>\n    </tr>\n    <tr>\n      <th>78</th>\n      <td>78.0</td>\n      <td>2022</td>\n      <td>2022-06-16</td>\n      <td>medios de comunicacion</td>\n      <td>presencial</td>\n      <td>Revista Ekos</td>\n      <td>1</td>\n      <td>Bolivia</td>\n      <td>N/A</td>\n      <td>Nacional</td>\n      <td>...</td>\n      <td>0</td>\n      <td>0</td>\n      <td>0</td>\n      <td>0.0</td>\n      <td>N/A</td>\n      <td>1</td>\n      <td>0</td>\n      <td>0.0</td>\n      <td>Ninguno</td>\n      <td>0</td>\n    </tr>\n    <tr>\n      <th>79</th>\n      <td>79.0</td>\n      <td>2023</td>\n      <td>2023-03-22</td>\n      <td>medios de comunicacion</td>\n      <td>presencial</td>\n      <td>Agencia EFE</td>\n      <td>1</td>\n      <td>Bolivia</td>\n      <td>N/A</td>\n      <td>Internacional</td>\n      <td>...</td>\n      <td>0</td>\n      <td>0</td>\n      <td>0</td>\n      <td>0.0</td>\n      <td>N/A</td>\n      <td>1</td>\n      <td>0</td>\n      <td>0.0</td>\n      <td>Ninguno</td>\n      <td>0</td>\n    </tr>\n  </tbody>\n</table>\n<p>13 rows × 32 columns</p>\n</div>"
     },
     "execution_count": 352,
     "metadata": {},
     "output_type": "execute_result"
    }
   ],
   "source": [
    "df_yawar_c[df_yawar_c['ciudad']=='N/A']"
   ],
   "metadata": {
    "collapsed": false,
    "ExecuteTime": {
     "end_time": "2024-04-16T21:41:57.178531600Z",
     "start_time": "2024-04-16T21:41:57.146863500Z"
    }
   },
   "id": "84210dbfaf9ca3e"
  },
  {
   "cell_type": "code",
   "execution_count": 511,
   "outputs": [],
   "source": [
    "df_yawar_c.loc[df_yawar_c['ciudad'].str.contains('Bolivia', na=False), 'ciudad']='N/A'"
   ],
   "metadata": {
    "collapsed": false,
    "ExecuteTime": {
     "end_time": "2024-04-16T22:41:15.057711700Z",
     "start_time": "2024-04-16T22:41:14.784604500Z"
    }
   },
   "id": "57596b17bf57e611"
  },
  {
   "cell_type": "code",
   "execution_count": 503,
   "outputs": [],
   "source": [
    "#Modification we can determine that city is Ciudad de Mexico\n",
    "df_yawar_c.loc[df_yawar_c['ciudad']=='Internacional', 'ciudad']='Ciudad de México'"
   ],
   "metadata": {
    "collapsed": false,
    "ExecuteTime": {
     "end_time": "2024-04-16T22:37:05.274028900Z",
     "start_time": "2024-04-16T22:37:05.048556400Z"
    }
   },
   "id": "a174b36b300af5da"
  },
  {
   "cell_type": "code",
   "execution_count": 508,
   "outputs": [],
   "source": [
    "df_yawar_c.loc[df_yawar_c['ciudad']=='Nacional', 'ciudad']='N/A'"
   ],
   "metadata": {
    "collapsed": false,
    "ExecuteTime": {
     "end_time": "2024-04-16T22:39:09.730395700Z",
     "start_time": "2024-04-16T22:39:09.281764600Z"
    }
   },
   "id": "75492024d1a8278b"
  },
  {
   "cell_type": "code",
   "execution_count": 354,
   "outputs": [],
   "source": [
    "#Modification in the 52th row since for 'lugar' we can determine that city is Melbourne\n",
    "df_yawar_c.loc[df_yawar_c['pais']=='Australia','ciudad']='Melbourne'"
   ],
   "metadata": {
    "collapsed": false,
    "ExecuteTime": {
     "end_time": "2024-04-16T21:43:13.763728100Z",
     "start_time": "2024-04-16T21:43:13.623499700Z"
    }
   },
   "id": "dcb8e0b1981f45b"
  },
  {
   "cell_type": "code",
   "execution_count": 355,
   "outputs": [],
   "source": [
    "#Santa Cruz is Santa Cruz de la Sierra\n",
    "df_yawar_c.loc[df_yawar_c['ciudad']=='Santa Cruz', 'ciudad']='Santa Cruz de la Sierra'"
   ],
   "metadata": {
    "collapsed": false,
    "ExecuteTime": {
     "end_time": "2024-04-16T21:43:33.340044300Z",
     "start_time": "2024-04-16T21:43:33.306641300Z"
    }
   },
   "id": "5b397c836cd1497c"
  },
  {
   "cell_type": "code",
   "execution_count": 357,
   "outputs": [
    {
     "data": {
      "text/plain": "array(['Santa Cruz de la Sierra'], dtype=object)"
     },
     "execution_count": 357,
     "metadata": {},
     "output_type": "execute_result"
    }
   ],
   "source": [
    "df_yawar_c.loc[df_yawar_c['ciudad'].str.contains('Santa'), 'ciudad'].unique()"
   ],
   "metadata": {
    "collapsed": false,
    "ExecuteTime": {
     "end_time": "2024-04-16T21:44:27.694460Z",
     "start_time": "2024-04-16T21:44:27.580051600Z"
    }
   },
   "id": "996020f98ac26b4c"
  },
  {
   "cell_type": "code",
   "execution_count": 358,
   "outputs": [
    {
     "data": {
      "text/plain": "       #   año      fecha           tipo_actividad     formato  \\\n0    1.0  2022 2022-03-10                   taller  presencial   \n2    3.0  2022 2022-07-07                   taller  presencial   \n3    4.0  2022 2022-07-08                   taller  presencial   \n4    5.0  2022 2022-07-09                   taller  presencial   \n9   10.0  2022 2022-06-24                   taller     virtual   \n10  11.0  2022 2022-04-14                   taller     virtual   \n11  12.0  2022 2022-05-04                   taller     virtual   \n12  13.0  2022 2022-05-24                   taller     virtual   \n13  14.0  2022 2022-06-22                   taller     virtual   \n14  15.0  2022 2022-07-02                   taller     virtual   \n21  22.0  2022 2022-02-10                   taller     virtual   \n23  24.0  2022 2022-03-24                   taller     virtual   \n26  27.0  2022 2022-05-24                   taller     virtual   \n27  28.0  2022 2022-06-10                   taller     virtual   \n28  29.0  2022 2022-06-22                   taller     virtual   \n48  49.0  2023 2023-01-11                   taller  presencial   \n49   NaN  2024 2024-04-13                   taller  presencial   \n62  62.0  2022 2022-06-14            conversatorio     virtual   \n68  68.0  2021 2021-11-11  difusion redes sociales     virtual   \n\n                                            actividad  cantidad     pais  \\\n0                           1er encuentro voluntarias         1  Bolivia   \n2                                         ALTO ALDEAS         1  Bolivia   \n3                                         ALTO ALDEAS         1  Bolivia   \n4                                         ALTO MAPAKI         1  Bolivia   \n9                                   ESCUELITA VIRTUAL         1  Bolivia   \n10                                ESCUELITA VIRTUAL 2         1  Bolivia   \n11                                ESCUELITA VIRTUAL 3         1  Bolivia   \n12                                ESCUELITA VIRTUAL 4         1  Bolivia   \n13                                ESCUELITA VIRTUAL 5         1  Bolivia   \n14                                ESCUELITA VIRTUAL 6         1  Bolivia   \n21                                  Voluntarias Yawar         1  Bolivia   \n23                                  Voluntarias Yawar         1  Bolivia   \n26                                  Voluntarias Yawar         1  Bolivia   \n27                                  Voluntarias Yawar         1  Bolivia   \n28                                  Voluntarias Yawar         1  Bolivia   \n48                                               CIES         1  Bolivia   \n49                                             Taller         1  Bolivia   \n62  Conversatorio UNIFRANZ: Viviendo la Menstruaci...         1  Bolivia   \n68                                       Videopitch 1         1  Bolivia   \n\n     ciudad        alcance  ... calzonesmenstruales  \\\n0   El Alto       Nacional  ...                   0   \n2   El Alto       Nacional  ...                   0   \n3   El Alto       Nacional  ...                   1   \n4   El Alto       Nacional  ...                   0   \n9   El Alto       Nacional  ...                   0   \n10  El Alto       Nacional  ...                   0   \n11  El Alto       Nacional  ...                   0   \n12  El Alto       Nacional  ...                   0   \n13  El Alto       Nacional  ...                   0   \n14  El Alto       Nacional  ...                   0   \n21  El Alto       Nacional  ...                   0   \n23  El Alto       Nacional  ...                   0   \n26  El Alto       Nacional  ...                   0   \n27  El Alto       Nacional  ...                   0   \n28  El Alto       Nacional  ...                   0   \n48  El Alto       Nacional  ...                   0   \n49  El Alto       Nacional  ...                   0   \n62  El Alto       Nacional  ...                   0   \n68  El Alto  Internacional  ...                   0   \n\n   kit_insumos_gestiónmenstrual qipusmenstruales expo_duracion  \\\n0                             0                0         210.0   \n2                            20                0         210.0   \n3                            17                0         210.0   \n4                             0                0         210.0   \n9                             0                0         210.0   \n10                            0                0         210.0   \n11                            0                0         210.0   \n12                            0                0         210.0   \n13                            0                0         210.0   \n14                            0                0         210.0   \n21                            0                0         210.0   \n23                            0                0         210.0   \n26                            0                0         210.0   \n27                            0                0         210.0   \n28                            0                0         210.0   \n48                            0                0         210.0   \n49                            0               26         210.0   \n62                            0                0           0.0   \n68                            0                0           0.0   \n\n                                       tematicataller personal voluntarias  \\\n0           historia de nuestra sexualidad y anatomia        1           0   \n2                       vivencia menstrual-ovulatoria        1           5   \n3                       vivencia menstrual-ovulatoria        1           5   \n4                       vivencia menstrual-ovulatoria        1           3   \n9           historia de nuestra sexualidad y anatomia        1           0   \n10        ciclo en sus 4 fases: sexualidad y hormonas        1           0   \n11                       insumos de gestión menstrual        1           0   \n12         vivencia menstrual y la pobreza menstrual.        1           0   \n13    gestión menstrual digna para todas las personas        1           0   \n14                                pedagogía menstrual        1           0   \n21                      vivencia menstrual-ovulatoria        1           6   \n23                                     Arte Menstrual        1           5   \n26                                    Ciclo menstrual        1           5   \n27                                 Políticas Públicas        1           4   \n28                      Gestión y pedagogía menstrual        1           4   \n48                      vivencia menstrual-ovulatoria        1           1   \n49  Ciclicidad Menstrual-Ovulatoria y registro del...        2           0   \n62                                                N/A        1           0   \n68                                                N/A        1           0   \n\n   expo_tiempo_elabtaller          org_apoyo  toallasdesechablesa  \n0                   480.0                 No                    0  \n2                   480.0     Aptapi Jopueti                    0  \n3                   480.0     Aptapi Jopueti                  100  \n4                   480.0     Aptapi Jopueti                   30  \n9                   330.0            Ninguno                    0  \n10                  480.0            Ninguno                    0  \n11                  480.0            Ninguno                    0  \n12                  480.0            Ninguno                    0  \n13                  480.0            Ninguno                    0  \n14                  480.0            Ninguno                    0  \n21                  330.0     Aptapi Jopueti                    0  \n23                  480.0     Aptapi Jopueti                    0  \n26                  480.0     Aptapi Jopueti                    0  \n27                  480.0     Aptapi Jopueti                    0  \n28                  480.0     Aptapi Jopueti                    0  \n48                  330.0               CIES                    0  \n49                  400.0  Munasim Killakita                    0  \n62                    0.0            Ninguno                    0  \n68                    0.0            Ninguno                    0  \n\n[19 rows x 32 columns]",
      "text/html": "<div>\n<style scoped>\n    .dataframe tbody tr th:only-of-type {\n        vertical-align: middle;\n    }\n\n    .dataframe tbody tr th {\n        vertical-align: top;\n    }\n\n    .dataframe thead th {\n        text-align: right;\n    }\n</style>\n<table border=\"1\" class=\"dataframe\">\n  <thead>\n    <tr style=\"text-align: right;\">\n      <th></th>\n      <th>#</th>\n      <th>año</th>\n      <th>fecha</th>\n      <th>tipo_actividad</th>\n      <th>formato</th>\n      <th>actividad</th>\n      <th>cantidad</th>\n      <th>pais</th>\n      <th>ciudad</th>\n      <th>alcance</th>\n      <th>...</th>\n      <th>calzonesmenstruales</th>\n      <th>kit_insumos_gestiónmenstrual</th>\n      <th>qipusmenstruales</th>\n      <th>expo_duracion</th>\n      <th>tematicataller</th>\n      <th>personal</th>\n      <th>voluntarias</th>\n      <th>expo_tiempo_elabtaller</th>\n      <th>org_apoyo</th>\n      <th>toallasdesechablesa</th>\n    </tr>\n  </thead>\n  <tbody>\n    <tr>\n      <th>0</th>\n      <td>1.0</td>\n      <td>2022</td>\n      <td>2022-03-10</td>\n      <td>taller</td>\n      <td>presencial</td>\n      <td>1er encuentro voluntarias</td>\n      <td>1</td>\n      <td>Bolivia</td>\n      <td>El Alto</td>\n      <td>Nacional</td>\n      <td>...</td>\n      <td>0</td>\n      <td>0</td>\n      <td>0</td>\n      <td>210.0</td>\n      <td>historia de nuestra sexualidad y anatomia</td>\n      <td>1</td>\n      <td>0</td>\n      <td>480.0</td>\n      <td>No</td>\n      <td>0</td>\n    </tr>\n    <tr>\n      <th>2</th>\n      <td>3.0</td>\n      <td>2022</td>\n      <td>2022-07-07</td>\n      <td>taller</td>\n      <td>presencial</td>\n      <td>ALTO ALDEAS</td>\n      <td>1</td>\n      <td>Bolivia</td>\n      <td>El Alto</td>\n      <td>Nacional</td>\n      <td>...</td>\n      <td>0</td>\n      <td>20</td>\n      <td>0</td>\n      <td>210.0</td>\n      <td>vivencia menstrual-ovulatoria</td>\n      <td>1</td>\n      <td>5</td>\n      <td>480.0</td>\n      <td>Aptapi Jopueti</td>\n      <td>0</td>\n    </tr>\n    <tr>\n      <th>3</th>\n      <td>4.0</td>\n      <td>2022</td>\n      <td>2022-07-08</td>\n      <td>taller</td>\n      <td>presencial</td>\n      <td>ALTO ALDEAS</td>\n      <td>1</td>\n      <td>Bolivia</td>\n      <td>El Alto</td>\n      <td>Nacional</td>\n      <td>...</td>\n      <td>1</td>\n      <td>17</td>\n      <td>0</td>\n      <td>210.0</td>\n      <td>vivencia menstrual-ovulatoria</td>\n      <td>1</td>\n      <td>5</td>\n      <td>480.0</td>\n      <td>Aptapi Jopueti</td>\n      <td>100</td>\n    </tr>\n    <tr>\n      <th>4</th>\n      <td>5.0</td>\n      <td>2022</td>\n      <td>2022-07-09</td>\n      <td>taller</td>\n      <td>presencial</td>\n      <td>ALTO MAPAKI</td>\n      <td>1</td>\n      <td>Bolivia</td>\n      <td>El Alto</td>\n      <td>Nacional</td>\n      <td>...</td>\n      <td>0</td>\n      <td>0</td>\n      <td>0</td>\n      <td>210.0</td>\n      <td>vivencia menstrual-ovulatoria</td>\n      <td>1</td>\n      <td>3</td>\n      <td>480.0</td>\n      <td>Aptapi Jopueti</td>\n      <td>30</td>\n    </tr>\n    <tr>\n      <th>9</th>\n      <td>10.0</td>\n      <td>2022</td>\n      <td>2022-06-24</td>\n      <td>taller</td>\n      <td>virtual</td>\n      <td>ESCUELITA VIRTUAL</td>\n      <td>1</td>\n      <td>Bolivia</td>\n      <td>El Alto</td>\n      <td>Nacional</td>\n      <td>...</td>\n      <td>0</td>\n      <td>0</td>\n      <td>0</td>\n      <td>210.0</td>\n      <td>historia de nuestra sexualidad y anatomia</td>\n      <td>1</td>\n      <td>0</td>\n      <td>330.0</td>\n      <td>Ninguno</td>\n      <td>0</td>\n    </tr>\n    <tr>\n      <th>10</th>\n      <td>11.0</td>\n      <td>2022</td>\n      <td>2022-04-14</td>\n      <td>taller</td>\n      <td>virtual</td>\n      <td>ESCUELITA VIRTUAL 2</td>\n      <td>1</td>\n      <td>Bolivia</td>\n      <td>El Alto</td>\n      <td>Nacional</td>\n      <td>...</td>\n      <td>0</td>\n      <td>0</td>\n      <td>0</td>\n      <td>210.0</td>\n      <td>ciclo en sus 4 fases: sexualidad y hormonas</td>\n      <td>1</td>\n      <td>0</td>\n      <td>480.0</td>\n      <td>Ninguno</td>\n      <td>0</td>\n    </tr>\n    <tr>\n      <th>11</th>\n      <td>12.0</td>\n      <td>2022</td>\n      <td>2022-05-04</td>\n      <td>taller</td>\n      <td>virtual</td>\n      <td>ESCUELITA VIRTUAL 3</td>\n      <td>1</td>\n      <td>Bolivia</td>\n      <td>El Alto</td>\n      <td>Nacional</td>\n      <td>...</td>\n      <td>0</td>\n      <td>0</td>\n      <td>0</td>\n      <td>210.0</td>\n      <td>insumos de gestión menstrual</td>\n      <td>1</td>\n      <td>0</td>\n      <td>480.0</td>\n      <td>Ninguno</td>\n      <td>0</td>\n    </tr>\n    <tr>\n      <th>12</th>\n      <td>13.0</td>\n      <td>2022</td>\n      <td>2022-05-24</td>\n      <td>taller</td>\n      <td>virtual</td>\n      <td>ESCUELITA VIRTUAL 4</td>\n      <td>1</td>\n      <td>Bolivia</td>\n      <td>El Alto</td>\n      <td>Nacional</td>\n      <td>...</td>\n      <td>0</td>\n      <td>0</td>\n      <td>0</td>\n      <td>210.0</td>\n      <td>vivencia menstrual y la pobreza menstrual.</td>\n      <td>1</td>\n      <td>0</td>\n      <td>480.0</td>\n      <td>Ninguno</td>\n      <td>0</td>\n    </tr>\n    <tr>\n      <th>13</th>\n      <td>14.0</td>\n      <td>2022</td>\n      <td>2022-06-22</td>\n      <td>taller</td>\n      <td>virtual</td>\n      <td>ESCUELITA VIRTUAL 5</td>\n      <td>1</td>\n      <td>Bolivia</td>\n      <td>El Alto</td>\n      <td>Nacional</td>\n      <td>...</td>\n      <td>0</td>\n      <td>0</td>\n      <td>0</td>\n      <td>210.0</td>\n      <td>gestión menstrual digna para todas las personas</td>\n      <td>1</td>\n      <td>0</td>\n      <td>480.0</td>\n      <td>Ninguno</td>\n      <td>0</td>\n    </tr>\n    <tr>\n      <th>14</th>\n      <td>15.0</td>\n      <td>2022</td>\n      <td>2022-07-02</td>\n      <td>taller</td>\n      <td>virtual</td>\n      <td>ESCUELITA VIRTUAL 6</td>\n      <td>1</td>\n      <td>Bolivia</td>\n      <td>El Alto</td>\n      <td>Nacional</td>\n      <td>...</td>\n      <td>0</td>\n      <td>0</td>\n      <td>0</td>\n      <td>210.0</td>\n      <td>pedagogía menstrual</td>\n      <td>1</td>\n      <td>0</td>\n      <td>480.0</td>\n      <td>Ninguno</td>\n      <td>0</td>\n    </tr>\n    <tr>\n      <th>21</th>\n      <td>22.0</td>\n      <td>2022</td>\n      <td>2022-02-10</td>\n      <td>taller</td>\n      <td>virtual</td>\n      <td>Voluntarias Yawar</td>\n      <td>1</td>\n      <td>Bolivia</td>\n      <td>El Alto</td>\n      <td>Nacional</td>\n      <td>...</td>\n      <td>0</td>\n      <td>0</td>\n      <td>0</td>\n      <td>210.0</td>\n      <td>vivencia menstrual-ovulatoria</td>\n      <td>1</td>\n      <td>6</td>\n      <td>330.0</td>\n      <td>Aptapi Jopueti</td>\n      <td>0</td>\n    </tr>\n    <tr>\n      <th>23</th>\n      <td>24.0</td>\n      <td>2022</td>\n      <td>2022-03-24</td>\n      <td>taller</td>\n      <td>virtual</td>\n      <td>Voluntarias Yawar</td>\n      <td>1</td>\n      <td>Bolivia</td>\n      <td>El Alto</td>\n      <td>Nacional</td>\n      <td>...</td>\n      <td>0</td>\n      <td>0</td>\n      <td>0</td>\n      <td>210.0</td>\n      <td>Arte Menstrual</td>\n      <td>1</td>\n      <td>5</td>\n      <td>480.0</td>\n      <td>Aptapi Jopueti</td>\n      <td>0</td>\n    </tr>\n    <tr>\n      <th>26</th>\n      <td>27.0</td>\n      <td>2022</td>\n      <td>2022-05-24</td>\n      <td>taller</td>\n      <td>virtual</td>\n      <td>Voluntarias Yawar</td>\n      <td>1</td>\n      <td>Bolivia</td>\n      <td>El Alto</td>\n      <td>Nacional</td>\n      <td>...</td>\n      <td>0</td>\n      <td>0</td>\n      <td>0</td>\n      <td>210.0</td>\n      <td>Ciclo menstrual</td>\n      <td>1</td>\n      <td>5</td>\n      <td>480.0</td>\n      <td>Aptapi Jopueti</td>\n      <td>0</td>\n    </tr>\n    <tr>\n      <th>27</th>\n      <td>28.0</td>\n      <td>2022</td>\n      <td>2022-06-10</td>\n      <td>taller</td>\n      <td>virtual</td>\n      <td>Voluntarias Yawar</td>\n      <td>1</td>\n      <td>Bolivia</td>\n      <td>El Alto</td>\n      <td>Nacional</td>\n      <td>...</td>\n      <td>0</td>\n      <td>0</td>\n      <td>0</td>\n      <td>210.0</td>\n      <td>Políticas Públicas</td>\n      <td>1</td>\n      <td>4</td>\n      <td>480.0</td>\n      <td>Aptapi Jopueti</td>\n      <td>0</td>\n    </tr>\n    <tr>\n      <th>28</th>\n      <td>29.0</td>\n      <td>2022</td>\n      <td>2022-06-22</td>\n      <td>taller</td>\n      <td>virtual</td>\n      <td>Voluntarias Yawar</td>\n      <td>1</td>\n      <td>Bolivia</td>\n      <td>El Alto</td>\n      <td>Nacional</td>\n      <td>...</td>\n      <td>0</td>\n      <td>0</td>\n      <td>0</td>\n      <td>210.0</td>\n      <td>Gestión y pedagogía menstrual</td>\n      <td>1</td>\n      <td>4</td>\n      <td>480.0</td>\n      <td>Aptapi Jopueti</td>\n      <td>0</td>\n    </tr>\n    <tr>\n      <th>48</th>\n      <td>49.0</td>\n      <td>2023</td>\n      <td>2023-01-11</td>\n      <td>taller</td>\n      <td>presencial</td>\n      <td>CIES</td>\n      <td>1</td>\n      <td>Bolivia</td>\n      <td>El Alto</td>\n      <td>Nacional</td>\n      <td>...</td>\n      <td>0</td>\n      <td>0</td>\n      <td>0</td>\n      <td>210.0</td>\n      <td>vivencia menstrual-ovulatoria</td>\n      <td>1</td>\n      <td>1</td>\n      <td>330.0</td>\n      <td>CIES</td>\n      <td>0</td>\n    </tr>\n    <tr>\n      <th>49</th>\n      <td>NaN</td>\n      <td>2024</td>\n      <td>2024-04-13</td>\n      <td>taller</td>\n      <td>presencial</td>\n      <td>Taller</td>\n      <td>1</td>\n      <td>Bolivia</td>\n      <td>El Alto</td>\n      <td>Nacional</td>\n      <td>...</td>\n      <td>0</td>\n      <td>0</td>\n      <td>26</td>\n      <td>210.0</td>\n      <td>Ciclicidad Menstrual-Ovulatoria y registro del...</td>\n      <td>2</td>\n      <td>0</td>\n      <td>400.0</td>\n      <td>Munasim Killakita</td>\n      <td>0</td>\n    </tr>\n    <tr>\n      <th>62</th>\n      <td>62.0</td>\n      <td>2022</td>\n      <td>2022-06-14</td>\n      <td>conversatorio</td>\n      <td>virtual</td>\n      <td>Conversatorio UNIFRANZ: Viviendo la Menstruaci...</td>\n      <td>1</td>\n      <td>Bolivia</td>\n      <td>El Alto</td>\n      <td>Nacional</td>\n      <td>...</td>\n      <td>0</td>\n      <td>0</td>\n      <td>0</td>\n      <td>0.0</td>\n      <td>N/A</td>\n      <td>1</td>\n      <td>0</td>\n      <td>0.0</td>\n      <td>Ninguno</td>\n      <td>0</td>\n    </tr>\n    <tr>\n      <th>68</th>\n      <td>68.0</td>\n      <td>2021</td>\n      <td>2021-11-11</td>\n      <td>difusion redes sociales</td>\n      <td>virtual</td>\n      <td>Videopitch 1</td>\n      <td>1</td>\n      <td>Bolivia</td>\n      <td>El Alto</td>\n      <td>Internacional</td>\n      <td>...</td>\n      <td>0</td>\n      <td>0</td>\n      <td>0</td>\n      <td>0.0</td>\n      <td>N/A</td>\n      <td>1</td>\n      <td>0</td>\n      <td>0.0</td>\n      <td>Ninguno</td>\n      <td>0</td>\n    </tr>\n  </tbody>\n</table>\n<p>19 rows × 32 columns</p>\n</div>"
     },
     "execution_count": 358,
     "metadata": {},
     "output_type": "execute_result"
    }
   ],
   "source": [
    "#El Alto is considered as part of La Paz\n",
    "df_yawar_c.loc[df_yawar_c['ciudad']=='El Alto', :]"
   ],
   "metadata": {
    "collapsed": false,
    "ExecuteTime": {
     "end_time": "2024-04-16T21:44:41.937648Z",
     "start_time": "2024-04-16T21:44:41.906299200Z"
    }
   },
   "id": "51d9d835b14190d0"
  },
  {
   "cell_type": "code",
   "execution_count": 359,
   "outputs": [],
   "source": [
    "df_yawar_c.loc[df_yawar_c['ciudad']=='El Alto', 'localidad']='El Alto'"
   ],
   "metadata": {
    "collapsed": false,
    "ExecuteTime": {
     "end_time": "2024-04-16T21:44:53.763364600Z",
     "start_time": "2024-04-16T21:44:53.732031900Z"
    }
   },
   "id": "15d5a8011ab430d2"
  },
  {
   "cell_type": "code",
   "execution_count": 360,
   "outputs": [],
   "source": [
    "df_yawar_c.loc[df_yawar_c['ciudad']=='El Alto', 'ciudad']='La Paz'"
   ],
   "metadata": {
    "collapsed": false,
    "ExecuteTime": {
     "end_time": "2024-04-16T21:44:57.317326700Z",
     "start_time": "2024-04-16T21:44:57.254049300Z"
    }
   },
   "id": "69941e52521c1fb4"
  },
  {
   "cell_type": "code",
   "execution_count": 361,
   "outputs": [
    {
     "data": {
      "text/plain": "       #   año      fecha tipo_actividad  formato          actividad  \\\n29  30.0  2022 2022-09-24         taller  virtual  Voluntarias Yawar   \n30  31.0  2022 2022-09-28         taller  virtual  Voluntarias Yawar   \n31  32.0  2022 2022-10-05         taller  virtual  Voluntarias Yawar   \n32  33.0  2022 2022-10-12         taller  virtual  Voluntarias Yawar   \n38  39.0  2023 2023-03-30         taller  virtual       Rapsistencia   \n39  40.0  2023 2023-04-19         taller  virtual    Mujeres Montaña   \n\n    cantidad     pais             ciudad        alcance  ...  \\\n29         1  Bolivia  Diversas ciudades       Nacional  ...   \n30         1  Bolivia  Diversas ciudades       Nacional  ...   \n31         1  Bolivia  Diversas ciudades       Nacional  ...   \n32         1  Bolivia  Diversas ciudades  Internacional  ...   \n38         1  Bolivia  Diversas ciudades       Nacional  ...   \n39         1  Bolivia  Diversas ciudades       Nacional  ...   \n\n   calzonesmenstruales kit_insumos_gestiónmenstrual qipusmenstruales  \\\n29                   0                            0                0   \n30                   0                            0                0   \n31                   0                            0                0   \n32                   0                            0                0   \n38                   0                            0                0   \n39                   0                            0                0   \n\n   expo_duracion                 tematicataller personal voluntarias  \\\n29         210.0             Bienvenida a Yawar        1          10   \n30         210.0             El ciclo menstrual        1          10   \n31         210.0            Activismo menstrual        1          10   \n32         210.0             Justicia Menstrual        1          10   \n38         210.0  vivencia menstrual-ovulatoria        1           0   \n39         210.0  vivencia menstrual-ovulatoria        1           0   \n\n   expo_tiempo_elabtaller       org_apoyo  toallasdesechablesa  \n29                  480.0  Aptapi Jopueti                    0  \n30                  480.0  Aptapi Jopueti                    0  \n31                  480.0  Aptapi Jopueti                    0  \n32                  480.0  Aptapi Jopueti                    0  \n38                  330.0  Aptapi Jopueti                    0  \n39                  330.0  Aptapi Jopueti                    0  \n\n[6 rows x 32 columns]",
      "text/html": "<div>\n<style scoped>\n    .dataframe tbody tr th:only-of-type {\n        vertical-align: middle;\n    }\n\n    .dataframe tbody tr th {\n        vertical-align: top;\n    }\n\n    .dataframe thead th {\n        text-align: right;\n    }\n</style>\n<table border=\"1\" class=\"dataframe\">\n  <thead>\n    <tr style=\"text-align: right;\">\n      <th></th>\n      <th>#</th>\n      <th>año</th>\n      <th>fecha</th>\n      <th>tipo_actividad</th>\n      <th>formato</th>\n      <th>actividad</th>\n      <th>cantidad</th>\n      <th>pais</th>\n      <th>ciudad</th>\n      <th>alcance</th>\n      <th>...</th>\n      <th>calzonesmenstruales</th>\n      <th>kit_insumos_gestiónmenstrual</th>\n      <th>qipusmenstruales</th>\n      <th>expo_duracion</th>\n      <th>tematicataller</th>\n      <th>personal</th>\n      <th>voluntarias</th>\n      <th>expo_tiempo_elabtaller</th>\n      <th>org_apoyo</th>\n      <th>toallasdesechablesa</th>\n    </tr>\n  </thead>\n  <tbody>\n    <tr>\n      <th>29</th>\n      <td>30.0</td>\n      <td>2022</td>\n      <td>2022-09-24</td>\n      <td>taller</td>\n      <td>virtual</td>\n      <td>Voluntarias Yawar</td>\n      <td>1</td>\n      <td>Bolivia</td>\n      <td>Diversas ciudades</td>\n      <td>Nacional</td>\n      <td>...</td>\n      <td>0</td>\n      <td>0</td>\n      <td>0</td>\n      <td>210.0</td>\n      <td>Bienvenida a Yawar</td>\n      <td>1</td>\n      <td>10</td>\n      <td>480.0</td>\n      <td>Aptapi Jopueti</td>\n      <td>0</td>\n    </tr>\n    <tr>\n      <th>30</th>\n      <td>31.0</td>\n      <td>2022</td>\n      <td>2022-09-28</td>\n      <td>taller</td>\n      <td>virtual</td>\n      <td>Voluntarias Yawar</td>\n      <td>1</td>\n      <td>Bolivia</td>\n      <td>Diversas ciudades</td>\n      <td>Nacional</td>\n      <td>...</td>\n      <td>0</td>\n      <td>0</td>\n      <td>0</td>\n      <td>210.0</td>\n      <td>El ciclo menstrual</td>\n      <td>1</td>\n      <td>10</td>\n      <td>480.0</td>\n      <td>Aptapi Jopueti</td>\n      <td>0</td>\n    </tr>\n    <tr>\n      <th>31</th>\n      <td>32.0</td>\n      <td>2022</td>\n      <td>2022-10-05</td>\n      <td>taller</td>\n      <td>virtual</td>\n      <td>Voluntarias Yawar</td>\n      <td>1</td>\n      <td>Bolivia</td>\n      <td>Diversas ciudades</td>\n      <td>Nacional</td>\n      <td>...</td>\n      <td>0</td>\n      <td>0</td>\n      <td>0</td>\n      <td>210.0</td>\n      <td>Activismo menstrual</td>\n      <td>1</td>\n      <td>10</td>\n      <td>480.0</td>\n      <td>Aptapi Jopueti</td>\n      <td>0</td>\n    </tr>\n    <tr>\n      <th>32</th>\n      <td>33.0</td>\n      <td>2022</td>\n      <td>2022-10-12</td>\n      <td>taller</td>\n      <td>virtual</td>\n      <td>Voluntarias Yawar</td>\n      <td>1</td>\n      <td>Bolivia</td>\n      <td>Diversas ciudades</td>\n      <td>Internacional</td>\n      <td>...</td>\n      <td>0</td>\n      <td>0</td>\n      <td>0</td>\n      <td>210.0</td>\n      <td>Justicia Menstrual</td>\n      <td>1</td>\n      <td>10</td>\n      <td>480.0</td>\n      <td>Aptapi Jopueti</td>\n      <td>0</td>\n    </tr>\n    <tr>\n      <th>38</th>\n      <td>39.0</td>\n      <td>2023</td>\n      <td>2023-03-30</td>\n      <td>taller</td>\n      <td>virtual</td>\n      <td>Rapsistencia</td>\n      <td>1</td>\n      <td>Bolivia</td>\n      <td>Diversas ciudades</td>\n      <td>Nacional</td>\n      <td>...</td>\n      <td>0</td>\n      <td>0</td>\n      <td>0</td>\n      <td>210.0</td>\n      <td>vivencia menstrual-ovulatoria</td>\n      <td>1</td>\n      <td>0</td>\n      <td>330.0</td>\n      <td>Aptapi Jopueti</td>\n      <td>0</td>\n    </tr>\n    <tr>\n      <th>39</th>\n      <td>40.0</td>\n      <td>2023</td>\n      <td>2023-04-19</td>\n      <td>taller</td>\n      <td>virtual</td>\n      <td>Mujeres Montaña</td>\n      <td>1</td>\n      <td>Bolivia</td>\n      <td>Diversas ciudades</td>\n      <td>Nacional</td>\n      <td>...</td>\n      <td>0</td>\n      <td>0</td>\n      <td>0</td>\n      <td>210.0</td>\n      <td>vivencia menstrual-ovulatoria</td>\n      <td>1</td>\n      <td>0</td>\n      <td>330.0</td>\n      <td>Aptapi Jopueti</td>\n      <td>0</td>\n    </tr>\n  </tbody>\n</table>\n<p>6 rows × 32 columns</p>\n</div>"
     },
     "execution_count": 361,
     "metadata": {},
     "output_type": "execute_result"
    }
   ],
   "source": [
    "#Lets review 'diversas ciudades' in city.\n",
    "df_yawar_c.loc[df_yawar_c['ciudad']=='Diversas ciudades', :]\n"
   ],
   "metadata": {
    "collapsed": false,
    "ExecuteTime": {
     "end_time": "2024-04-16T21:45:03.067901300Z",
     "start_time": "2024-04-16T21:45:03.020366300Z"
    }
   },
   "id": "987cacbf9845e01e"
  },
  {
   "cell_type": "code",
   "execution_count": 362,
   "outputs": [],
   "source": [
    "df_yawar_c.loc[df_yawar_c['ciudad']=='Diversas ciudades', 'ciudad']='N/A'"
   ],
   "metadata": {
    "collapsed": false,
    "ExecuteTime": {
     "end_time": "2024-04-16T21:45:10.449419400Z",
     "start_time": "2024-04-16T21:45:10.416885900Z"
    }
   },
   "id": "ef27cd3f90d75047"
  },
  {
   "cell_type": "code",
   "execution_count": 363,
   "outputs": [
    {
     "data": {
      "text/plain": "       #   año      fecha           tipo_actividad     formato  \\\n29  30.0  2022 2022-09-24                   taller     virtual   \n30  31.0  2022 2022-09-28                   taller     virtual   \n31  32.0  2022 2022-10-05                   taller     virtual   \n32  33.0  2022 2022-10-12                   taller     virtual   \n38  39.0  2023 2023-03-30                   taller     virtual   \n39  40.0  2023 2023-04-19                   taller     virtual   \n52  52.0  2021 2021-10-01     artistica y cultural  presencial   \n57  57.0  2022 2022-01-11     artistica y cultural  presencial   \n65  65.0  2022 2022-03-21                  campaña     virtual   \n67  67.0  2021 2021-01-12  difusion redes sociales     virtual   \n72  72.0  2022 2022-05-28  difusion redes sociales     virtual   \n73  73.0  2022 2022-05-28  difusion redes sociales     virtual   \n74  74.0  2022 2022-03-25   medios de comunicacion     virtual   \n75  75.0  2021 2021-11-16   medios de comunicacion     virtual   \n76  76.0  2022 2022-04-28   medios de comunicacion     virtual   \n77  77.0  2022 2022-08-06   medios de comunicacion  presencial   \n78  78.0  2022 2022-06-16   medios de comunicacion  presencial   \n79  79.0  2023 2023-03-22   medios de comunicacion  presencial   \n\n                                            actividad  cantidad     pais  \\\n29                                  Voluntarias Yawar         1  Bolivia   \n30                                  Voluntarias Yawar         1  Bolivia   \n31                                  Voluntarias Yawar         1  Bolivia   \n32                                  Voluntarias Yawar         1  Bolivia   \n38                                       Rapsistencia         1  Bolivia   \n39                                    Mujeres Montaña         1  Bolivia   \n52  Primer Videopitch para campaña de recaudación ...         1  Bolivia   \n57               Cartilla educativa con ilustraciones         1  Bolivia   \n65              Alianza calzones menstruales con Aura         1  Bolivia   \n67                                              artes        46  Bolivia   \n72                                              reels        36  Bolivia   \n73                                 posts en instagram       116  Bolivia   \n74                                 Verdad con tinta 2         1  Bolivia   \n75                                 Verdad con tinta 1         1  Bolivia   \n76                                           Muy Waso         1  Bolivia   \n77                                     Correo del Sur         1  Bolivia   \n78                                       Revista Ekos         1  Bolivia   \n79                                        Agencia EFE         1  Bolivia   \n\n   ciudad        alcance  ... calzonesmenstruales  \\\n29    N/A       Nacional  ...                   0   \n30    N/A       Nacional  ...                   0   \n31    N/A       Nacional  ...                   0   \n32    N/A  Internacional  ...                   0   \n38    N/A       Nacional  ...                   0   \n39    N/A       Nacional  ...                   0   \n52    N/A  Internacional  ...                   0   \n57    N/A       Nacional  ...                   0   \n65    N/A       Nacional  ...                   0   \n67    N/A       Nacional  ...                   0   \n72    N/A  Internacional  ...                   0   \n73    N/A  Internacional  ...                   0   \n74    N/A       Nacional  ...                   0   \n75    N/A       Nacional  ...                   0   \n76    N/A       Nacional  ...                   0   \n77    N/A       Nacional  ...                   0   \n78    N/A       Nacional  ...                   0   \n79    N/A  Internacional  ...                   0   \n\n   kit_insumos_gestiónmenstrual qipusmenstruales expo_duracion  \\\n29                            0                0         210.0   \n30                            0                0         210.0   \n31                            0                0         210.0   \n32                            0                0         210.0   \n38                            0                0         210.0   \n39                            0                0         210.0   \n52                            0                0           0.0   \n57                            0                0           0.0   \n65                            0                0           0.0   \n67                            0                0           0.0   \n72                            0                0           0.0   \n73                            0                0           0.0   \n74                            0                0           0.0   \n75                            0                0           0.0   \n76                            0                0           0.0   \n77                            0                0           0.0   \n78                            0                0           0.0   \n79                            0                0           0.0   \n\n                   tematicataller personal voluntarias expo_tiempo_elabtaller  \\\n29             Bienvenida a Yawar        1          10                  480.0   \n30             El ciclo menstrual        1          10                  480.0   \n31            Activismo menstrual        1          10                  480.0   \n32             Justicia Menstrual        1          10                  480.0   \n38  vivencia menstrual-ovulatoria        1           0                  330.0   \n39  vivencia menstrual-ovulatoria        1           0                  330.0   \n52                            N/A        1           0                    0.0   \n57                            N/A        1           0                    0.0   \n65                            N/A        1           0                    0.0   \n67                      no aplica        1           0                    0.0   \n72                            N/A        1           0                    0.0   \n73                            N/A        1           0                    0.0   \n74                            N/A        1           0                    0.0   \n75                            N/A        1           0                    0.0   \n76                            N/A        1           0                    0.0   \n77                            N/A        1           0                    0.0   \n78                            N/A        1           0                    0.0   \n79                            N/A        1           0                    0.0   \n\n         org_apoyo  toallasdesechablesa  \n29  Aptapi Jopueti                    0  \n30  Aptapi Jopueti                    0  \n31  Aptapi Jopueti                    0  \n32  Aptapi Jopueti                    0  \n38  Aptapi Jopueti                    0  \n39  Aptapi Jopueti                    0  \n52         Ninguno                    0  \n57         Ninguno                    0  \n65         Ninguno                    0  \n67         Ninguno                    0  \n72         Ninguno                    0  \n73         Ninguno                    0  \n74         Ninguno                    0  \n75         Ninguno                    0  \n76         Ninguno                    0  \n77         Ninguno                    0  \n78         Ninguno                    0  \n79         Ninguno                    0  \n\n[18 rows x 32 columns]",
      "text/html": "<div>\n<style scoped>\n    .dataframe tbody tr th:only-of-type {\n        vertical-align: middle;\n    }\n\n    .dataframe tbody tr th {\n        vertical-align: top;\n    }\n\n    .dataframe thead th {\n        text-align: right;\n    }\n</style>\n<table border=\"1\" class=\"dataframe\">\n  <thead>\n    <tr style=\"text-align: right;\">\n      <th></th>\n      <th>#</th>\n      <th>año</th>\n      <th>fecha</th>\n      <th>tipo_actividad</th>\n      <th>formato</th>\n      <th>actividad</th>\n      <th>cantidad</th>\n      <th>pais</th>\n      <th>ciudad</th>\n      <th>alcance</th>\n      <th>...</th>\n      <th>calzonesmenstruales</th>\n      <th>kit_insumos_gestiónmenstrual</th>\n      <th>qipusmenstruales</th>\n      <th>expo_duracion</th>\n      <th>tematicataller</th>\n      <th>personal</th>\n      <th>voluntarias</th>\n      <th>expo_tiempo_elabtaller</th>\n      <th>org_apoyo</th>\n      <th>toallasdesechablesa</th>\n    </tr>\n  </thead>\n  <tbody>\n    <tr>\n      <th>29</th>\n      <td>30.0</td>\n      <td>2022</td>\n      <td>2022-09-24</td>\n      <td>taller</td>\n      <td>virtual</td>\n      <td>Voluntarias Yawar</td>\n      <td>1</td>\n      <td>Bolivia</td>\n      <td>N/A</td>\n      <td>Nacional</td>\n      <td>...</td>\n      <td>0</td>\n      <td>0</td>\n      <td>0</td>\n      <td>210.0</td>\n      <td>Bienvenida a Yawar</td>\n      <td>1</td>\n      <td>10</td>\n      <td>480.0</td>\n      <td>Aptapi Jopueti</td>\n      <td>0</td>\n    </tr>\n    <tr>\n      <th>30</th>\n      <td>31.0</td>\n      <td>2022</td>\n      <td>2022-09-28</td>\n      <td>taller</td>\n      <td>virtual</td>\n      <td>Voluntarias Yawar</td>\n      <td>1</td>\n      <td>Bolivia</td>\n      <td>N/A</td>\n      <td>Nacional</td>\n      <td>...</td>\n      <td>0</td>\n      <td>0</td>\n      <td>0</td>\n      <td>210.0</td>\n      <td>El ciclo menstrual</td>\n      <td>1</td>\n      <td>10</td>\n      <td>480.0</td>\n      <td>Aptapi Jopueti</td>\n      <td>0</td>\n    </tr>\n    <tr>\n      <th>31</th>\n      <td>32.0</td>\n      <td>2022</td>\n      <td>2022-10-05</td>\n      <td>taller</td>\n      <td>virtual</td>\n      <td>Voluntarias Yawar</td>\n      <td>1</td>\n      <td>Bolivia</td>\n      <td>N/A</td>\n      <td>Nacional</td>\n      <td>...</td>\n      <td>0</td>\n      <td>0</td>\n      <td>0</td>\n      <td>210.0</td>\n      <td>Activismo menstrual</td>\n      <td>1</td>\n      <td>10</td>\n      <td>480.0</td>\n      <td>Aptapi Jopueti</td>\n      <td>0</td>\n    </tr>\n    <tr>\n      <th>32</th>\n      <td>33.0</td>\n      <td>2022</td>\n      <td>2022-10-12</td>\n      <td>taller</td>\n      <td>virtual</td>\n      <td>Voluntarias Yawar</td>\n      <td>1</td>\n      <td>Bolivia</td>\n      <td>N/A</td>\n      <td>Internacional</td>\n      <td>...</td>\n      <td>0</td>\n      <td>0</td>\n      <td>0</td>\n      <td>210.0</td>\n      <td>Justicia Menstrual</td>\n      <td>1</td>\n      <td>10</td>\n      <td>480.0</td>\n      <td>Aptapi Jopueti</td>\n      <td>0</td>\n    </tr>\n    <tr>\n      <th>38</th>\n      <td>39.0</td>\n      <td>2023</td>\n      <td>2023-03-30</td>\n      <td>taller</td>\n      <td>virtual</td>\n      <td>Rapsistencia</td>\n      <td>1</td>\n      <td>Bolivia</td>\n      <td>N/A</td>\n      <td>Nacional</td>\n      <td>...</td>\n      <td>0</td>\n      <td>0</td>\n      <td>0</td>\n      <td>210.0</td>\n      <td>vivencia menstrual-ovulatoria</td>\n      <td>1</td>\n      <td>0</td>\n      <td>330.0</td>\n      <td>Aptapi Jopueti</td>\n      <td>0</td>\n    </tr>\n    <tr>\n      <th>39</th>\n      <td>40.0</td>\n      <td>2023</td>\n      <td>2023-04-19</td>\n      <td>taller</td>\n      <td>virtual</td>\n      <td>Mujeres Montaña</td>\n      <td>1</td>\n      <td>Bolivia</td>\n      <td>N/A</td>\n      <td>Nacional</td>\n      <td>...</td>\n      <td>0</td>\n      <td>0</td>\n      <td>0</td>\n      <td>210.0</td>\n      <td>vivencia menstrual-ovulatoria</td>\n      <td>1</td>\n      <td>0</td>\n      <td>330.0</td>\n      <td>Aptapi Jopueti</td>\n      <td>0</td>\n    </tr>\n    <tr>\n      <th>52</th>\n      <td>52.0</td>\n      <td>2021</td>\n      <td>2021-10-01</td>\n      <td>artistica y cultural</td>\n      <td>presencial</td>\n      <td>Primer Videopitch para campaña de recaudación ...</td>\n      <td>1</td>\n      <td>Bolivia</td>\n      <td>N/A</td>\n      <td>Internacional</td>\n      <td>...</td>\n      <td>0</td>\n      <td>0</td>\n      <td>0</td>\n      <td>0.0</td>\n      <td>N/A</td>\n      <td>1</td>\n      <td>0</td>\n      <td>0.0</td>\n      <td>Ninguno</td>\n      <td>0</td>\n    </tr>\n    <tr>\n      <th>57</th>\n      <td>57.0</td>\n      <td>2022</td>\n      <td>2022-01-11</td>\n      <td>artistica y cultural</td>\n      <td>presencial</td>\n      <td>Cartilla educativa con ilustraciones</td>\n      <td>1</td>\n      <td>Bolivia</td>\n      <td>N/A</td>\n      <td>Nacional</td>\n      <td>...</td>\n      <td>0</td>\n      <td>0</td>\n      <td>0</td>\n      <td>0.0</td>\n      <td>N/A</td>\n      <td>1</td>\n      <td>0</td>\n      <td>0.0</td>\n      <td>Ninguno</td>\n      <td>0</td>\n    </tr>\n    <tr>\n      <th>65</th>\n      <td>65.0</td>\n      <td>2022</td>\n      <td>2022-03-21</td>\n      <td>campaña</td>\n      <td>virtual</td>\n      <td>Alianza calzones menstruales con Aura</td>\n      <td>1</td>\n      <td>Bolivia</td>\n      <td>N/A</td>\n      <td>Nacional</td>\n      <td>...</td>\n      <td>0</td>\n      <td>0</td>\n      <td>0</td>\n      <td>0.0</td>\n      <td>N/A</td>\n      <td>1</td>\n      <td>0</td>\n      <td>0.0</td>\n      <td>Ninguno</td>\n      <td>0</td>\n    </tr>\n    <tr>\n      <th>67</th>\n      <td>67.0</td>\n      <td>2021</td>\n      <td>2021-01-12</td>\n      <td>difusion redes sociales</td>\n      <td>virtual</td>\n      <td>artes</td>\n      <td>46</td>\n      <td>Bolivia</td>\n      <td>N/A</td>\n      <td>Nacional</td>\n      <td>...</td>\n      <td>0</td>\n      <td>0</td>\n      <td>0</td>\n      <td>0.0</td>\n      <td>no aplica</td>\n      <td>1</td>\n      <td>0</td>\n      <td>0.0</td>\n      <td>Ninguno</td>\n      <td>0</td>\n    </tr>\n    <tr>\n      <th>72</th>\n      <td>72.0</td>\n      <td>2022</td>\n      <td>2022-05-28</td>\n      <td>difusion redes sociales</td>\n      <td>virtual</td>\n      <td>reels</td>\n      <td>36</td>\n      <td>Bolivia</td>\n      <td>N/A</td>\n      <td>Internacional</td>\n      <td>...</td>\n      <td>0</td>\n      <td>0</td>\n      <td>0</td>\n      <td>0.0</td>\n      <td>N/A</td>\n      <td>1</td>\n      <td>0</td>\n      <td>0.0</td>\n      <td>Ninguno</td>\n      <td>0</td>\n    </tr>\n    <tr>\n      <th>73</th>\n      <td>73.0</td>\n      <td>2022</td>\n      <td>2022-05-28</td>\n      <td>difusion redes sociales</td>\n      <td>virtual</td>\n      <td>posts en instagram</td>\n      <td>116</td>\n      <td>Bolivia</td>\n      <td>N/A</td>\n      <td>Internacional</td>\n      <td>...</td>\n      <td>0</td>\n      <td>0</td>\n      <td>0</td>\n      <td>0.0</td>\n      <td>N/A</td>\n      <td>1</td>\n      <td>0</td>\n      <td>0.0</td>\n      <td>Ninguno</td>\n      <td>0</td>\n    </tr>\n    <tr>\n      <th>74</th>\n      <td>74.0</td>\n      <td>2022</td>\n      <td>2022-03-25</td>\n      <td>medios de comunicacion</td>\n      <td>virtual</td>\n      <td>Verdad con tinta 2</td>\n      <td>1</td>\n      <td>Bolivia</td>\n      <td>N/A</td>\n      <td>Nacional</td>\n      <td>...</td>\n      <td>0</td>\n      <td>0</td>\n      <td>0</td>\n      <td>0.0</td>\n      <td>N/A</td>\n      <td>1</td>\n      <td>0</td>\n      <td>0.0</td>\n      <td>Ninguno</td>\n      <td>0</td>\n    </tr>\n    <tr>\n      <th>75</th>\n      <td>75.0</td>\n      <td>2021</td>\n      <td>2021-11-16</td>\n      <td>medios de comunicacion</td>\n      <td>virtual</td>\n      <td>Verdad con tinta 1</td>\n      <td>1</td>\n      <td>Bolivia</td>\n      <td>N/A</td>\n      <td>Nacional</td>\n      <td>...</td>\n      <td>0</td>\n      <td>0</td>\n      <td>0</td>\n      <td>0.0</td>\n      <td>N/A</td>\n      <td>1</td>\n      <td>0</td>\n      <td>0.0</td>\n      <td>Ninguno</td>\n      <td>0</td>\n    </tr>\n    <tr>\n      <th>76</th>\n      <td>76.0</td>\n      <td>2022</td>\n      <td>2022-04-28</td>\n      <td>medios de comunicacion</td>\n      <td>virtual</td>\n      <td>Muy Waso</td>\n      <td>1</td>\n      <td>Bolivia</td>\n      <td>N/A</td>\n      <td>Nacional</td>\n      <td>...</td>\n      <td>0</td>\n      <td>0</td>\n      <td>0</td>\n      <td>0.0</td>\n      <td>N/A</td>\n      <td>1</td>\n      <td>0</td>\n      <td>0.0</td>\n      <td>Ninguno</td>\n      <td>0</td>\n    </tr>\n    <tr>\n      <th>77</th>\n      <td>77.0</td>\n      <td>2022</td>\n      <td>2022-08-06</td>\n      <td>medios de comunicacion</td>\n      <td>presencial</td>\n      <td>Correo del Sur</td>\n      <td>1</td>\n      <td>Bolivia</td>\n      <td>N/A</td>\n      <td>Nacional</td>\n      <td>...</td>\n      <td>0</td>\n      <td>0</td>\n      <td>0</td>\n      <td>0.0</td>\n      <td>N/A</td>\n      <td>1</td>\n      <td>0</td>\n      <td>0.0</td>\n      <td>Ninguno</td>\n      <td>0</td>\n    </tr>\n    <tr>\n      <th>78</th>\n      <td>78.0</td>\n      <td>2022</td>\n      <td>2022-06-16</td>\n      <td>medios de comunicacion</td>\n      <td>presencial</td>\n      <td>Revista Ekos</td>\n      <td>1</td>\n      <td>Bolivia</td>\n      <td>N/A</td>\n      <td>Nacional</td>\n      <td>...</td>\n      <td>0</td>\n      <td>0</td>\n      <td>0</td>\n      <td>0.0</td>\n      <td>N/A</td>\n      <td>1</td>\n      <td>0</td>\n      <td>0.0</td>\n      <td>Ninguno</td>\n      <td>0</td>\n    </tr>\n    <tr>\n      <th>79</th>\n      <td>79.0</td>\n      <td>2023</td>\n      <td>2023-03-22</td>\n      <td>medios de comunicacion</td>\n      <td>presencial</td>\n      <td>Agencia EFE</td>\n      <td>1</td>\n      <td>Bolivia</td>\n      <td>N/A</td>\n      <td>Internacional</td>\n      <td>...</td>\n      <td>0</td>\n      <td>0</td>\n      <td>0</td>\n      <td>0.0</td>\n      <td>N/A</td>\n      <td>1</td>\n      <td>0</td>\n      <td>0.0</td>\n      <td>Ninguno</td>\n      <td>0</td>\n    </tr>\n  </tbody>\n</table>\n<p>18 rows × 32 columns</p>\n</div>"
     },
     "execution_count": 363,
     "metadata": {},
     "output_type": "execute_result"
    }
   ],
   "source": [
    "#N/A options\n",
    "df_yawar_c.loc[df_yawar_c['ciudad']=='N/A', :]"
   ],
   "metadata": {
    "collapsed": false,
    "ExecuteTime": {
     "end_time": "2024-04-16T21:45:15.986141800Z",
     "start_time": "2024-04-16T21:45:15.899967200Z"
    }
   },
   "id": "34715ca238399917"
  },
  {
   "cell_type": "code",
   "execution_count": 93,
   "outputs": [
    {
     "data": {
      "text/plain": "ciudad                localidad\nLa Paz                El Alto      13\nN/A                   N/A           7\n                      Nacional      6\nSucre                 N/A           6\nLa Paz                Nacional      3\nBolivia y Nueva York  N/A           1\nInternacional         N/A           1\nNacional              N/A           1\nName: count, dtype: int64"
     },
     "execution_count": 93,
     "metadata": {},
     "output_type": "execute_result"
    }
   ],
   "source": [
    "#Checking what is in virtual events.\n",
    "df_yawar_c.loc[df_yawar_c['formato']=='virtual', ['ciudad','localidad']].value_counts()"
   ],
   "metadata": {
    "collapsed": false,
    "ExecuteTime": {
     "end_time": "2024-04-16T20:15:54.179528100Z",
     "start_time": "2024-04-16T20:15:42.969195500Z"
    }
   },
   "id": "271a2bcd6e9cf4d9"
  },
  {
   "cell_type": "markdown",
   "source": [
    "#### 'alcance' column"
   ],
   "metadata": {
    "collapsed": false
   },
   "id": "bd8bf09b0b24eff4"
  },
  {
   "cell_type": "code",
   "execution_count": 364,
   "outputs": [
    {
     "data": {
      "text/plain": "alcance\nNacional         73\nInternacional    10\nLa Paz            1\nName: count, dtype: int64"
     },
     "execution_count": 364,
     "metadata": {},
     "output_type": "execute_result"
    }
   ],
   "source": [
    "df_yawar_c['alcance'].value_counts()"
   ],
   "metadata": {
    "collapsed": false,
    "ExecuteTime": {
     "end_time": "2024-04-16T21:45:32.585853300Z",
     "start_time": "2024-04-16T21:45:32.546137800Z"
    }
   },
   "id": "509c5c09b79ca01c"
  },
  {
   "cell_type": "markdown",
   "source": [
    "Since La Paz is not a category for this column should be revised."
   ],
   "metadata": {
    "collapsed": false
   },
   "id": "3ab2ac58c62f6f1c"
  },
  {
   "cell_type": "code",
   "execution_count": 365,
   "outputs": [
    {
     "data": {
      "text/plain": "     #   año      fecha tipo_actividad     formato                  actividad  \\\n1  2.0  2022 2022-04-09         taller  presencial  Taller: qué es ser joven?   \n\n   cantidad     pais  ciudad alcance  ... calzonesmenstruales  \\\n1         1  Bolivia  La Paz  La Paz  ...                   0   \n\n  kit_insumos_gestiónmenstrual qipusmenstruales expo_duracion  \\\n1                            0                0         210.0   \n\n      tematicataller personal voluntarias expo_tiempo_elabtaller org_apoyo  \\\n1  Qué es ser joven?        2           0                  400.0        No   \n\n   toallasdesechablesa  \n1                    5  \n\n[1 rows x 32 columns]",
      "text/html": "<div>\n<style scoped>\n    .dataframe tbody tr th:only-of-type {\n        vertical-align: middle;\n    }\n\n    .dataframe tbody tr th {\n        vertical-align: top;\n    }\n\n    .dataframe thead th {\n        text-align: right;\n    }\n</style>\n<table border=\"1\" class=\"dataframe\">\n  <thead>\n    <tr style=\"text-align: right;\">\n      <th></th>\n      <th>#</th>\n      <th>año</th>\n      <th>fecha</th>\n      <th>tipo_actividad</th>\n      <th>formato</th>\n      <th>actividad</th>\n      <th>cantidad</th>\n      <th>pais</th>\n      <th>ciudad</th>\n      <th>alcance</th>\n      <th>...</th>\n      <th>calzonesmenstruales</th>\n      <th>kit_insumos_gestiónmenstrual</th>\n      <th>qipusmenstruales</th>\n      <th>expo_duracion</th>\n      <th>tematicataller</th>\n      <th>personal</th>\n      <th>voluntarias</th>\n      <th>expo_tiempo_elabtaller</th>\n      <th>org_apoyo</th>\n      <th>toallasdesechablesa</th>\n    </tr>\n  </thead>\n  <tbody>\n    <tr>\n      <th>1</th>\n      <td>2.0</td>\n      <td>2022</td>\n      <td>2022-04-09</td>\n      <td>taller</td>\n      <td>presencial</td>\n      <td>Taller: qué es ser joven?</td>\n      <td>1</td>\n      <td>Bolivia</td>\n      <td>La Paz</td>\n      <td>La Paz</td>\n      <td>...</td>\n      <td>0</td>\n      <td>0</td>\n      <td>0</td>\n      <td>210.0</td>\n      <td>Qué es ser joven?</td>\n      <td>2</td>\n      <td>0</td>\n      <td>400.0</td>\n      <td>No</td>\n      <td>5</td>\n    </tr>\n  </tbody>\n</table>\n<p>1 rows × 32 columns</p>\n</div>"
     },
     "execution_count": 365,
     "metadata": {},
     "output_type": "execute_result"
    }
   ],
   "source": [
    "df_yawar_c[df_yawar_c['alcance']=='La Paz']"
   ],
   "metadata": {
    "collapsed": false,
    "ExecuteTime": {
     "end_time": "2024-04-16T21:45:40.977938600Z",
     "start_time": "2024-04-16T21:45:40.945700900Z"
    }
   },
   "id": "75fc15a9a3e0edb"
  },
  {
   "cell_type": "code",
   "execution_count": 366,
   "outputs": [],
   "source": [
    "df_yawar_c.loc[df_yawar_c['alcance']=='La Paz','alcance']='Nacional'"
   ],
   "metadata": {
    "collapsed": false,
    "ExecuteTime": {
     "end_time": "2024-04-16T21:45:44.726294600Z",
     "start_time": "2024-04-16T21:45:44.690560100Z"
    }
   },
   "id": "aa8f4d5c5ac53b71"
  },
  {
   "cell_type": "markdown",
   "source": [
    "#### 'localidad' column"
   ],
   "metadata": {
    "collapsed": false
   },
   "id": "84ae5774adefee7"
  },
  {
   "cell_type": "code",
   "execution_count": 367,
   "outputs": [
    {
     "data": {
      "text/plain": "localidad\nN/A                                   23\nEl Alto                               19\nNacional                               9\nSanta Rosa Yacuma                      7\nSanta Cruz                             5\nLa Paz                                 4\nSanta Rosa Yacuma, Beni                4\nSucre                                  4\ndistrito 6 Sucre                       3\nBuena Vista                            2\nSanta Cruz de la Sierra                1\nPlan 3000, Santa Cruz de la Sierra     1\nColcapirhua                            1\nAlonso Gutierrez                       1\nName: count, dtype: int64"
     },
     "execution_count": 367,
     "metadata": {},
     "output_type": "execute_result"
    }
   ],
   "source": [
    "df_yawar_c['localidad'].value_counts()"
   ],
   "metadata": {
    "collapsed": false,
    "ExecuteTime": {
     "end_time": "2024-04-16T21:45:47.193119200Z",
     "start_time": "2024-04-16T21:45:47.069345700Z"
    }
   },
   "id": "cb3ee756df705651"
  },
  {
   "cell_type": "code",
   "execution_count": 368,
   "outputs": [
    {
     "data": {
      "text/plain": "       #   año      fecha tipo_actividad  formato          actividad  \\\n22  23.0  2022 2022-03-03         taller  virtual  Voluntarias Yawar   \n24  25.0  2022 2022-04-14         taller  virtual  Voluntarias Yawar   \n25  26.0  2022 2022-05-04         taller  virtual  Voluntarias Yawar   \n29  30.0  2022 2022-09-24         taller  virtual  Voluntarias Yawar   \n30  31.0  2022 2022-09-28         taller  virtual  Voluntarias Yawar   \n31  32.0  2022 2022-10-05         taller  virtual  Voluntarias Yawar   \n32  33.0  2022 2022-10-12         taller  virtual  Voluntarias Yawar   \n38  39.0  2023 2023-03-30         taller  virtual       Rapsistencia   \n39  40.0  2023 2023-04-19         taller  virtual    Mujeres Montaña   \n\n    cantidad     pais  ciudad        alcance  ... calzonesmenstruales  \\\n22         1  Bolivia  La Paz       Nacional  ...                   0   \n24         1  Bolivia  La Paz       Nacional  ...                   0   \n25         1  Bolivia  La Paz       Nacional  ...                   0   \n29         1  Bolivia     N/A       Nacional  ...                   0   \n30         1  Bolivia     N/A       Nacional  ...                   0   \n31         1  Bolivia     N/A       Nacional  ...                   0   \n32         1  Bolivia     N/A  Internacional  ...                   0   \n38         1  Bolivia     N/A       Nacional  ...                   0   \n39         1  Bolivia     N/A       Nacional  ...                   0   \n\n   kit_insumos_gestiónmenstrual qipusmenstruales expo_duracion  \\\n22                            0                0         210.0   \n24                            0                0         210.0   \n25                            0                0         210.0   \n29                            0                0         210.0   \n30                            0                0         210.0   \n31                            0                0         210.0   \n32                            0                0         210.0   \n38                            0                0         210.0   \n39                            0                0         210.0   \n\n                        tematicataller personal voluntarias  \\\n22             Poblaciones Vulnerables        1           5   \n24  Pubertad, adolescencia y menarquía        1           4   \n25                   Pobreza menstrual        1           5   \n29                  Bienvenida a Yawar        1          10   \n30                  El ciclo menstrual        1          10   \n31                 Activismo menstrual        1          10   \n32                  Justicia Menstrual        1          10   \n38       vivencia menstrual-ovulatoria        1           0   \n39       vivencia menstrual-ovulatoria        1           0   \n\n   expo_tiempo_elabtaller       org_apoyo  toallasdesechablesa  \n22                  480.0  Aptapi Jopueti                    0  \n24                  480.0  Aptapi Jopueti                    0  \n25                  480.0  Aptapi Jopueti                    0  \n29                  480.0  Aptapi Jopueti                    0  \n30                  480.0  Aptapi Jopueti                    0  \n31                  480.0  Aptapi Jopueti                    0  \n32                  480.0  Aptapi Jopueti                    0  \n38                  330.0  Aptapi Jopueti                    0  \n39                  330.0  Aptapi Jopueti                    0  \n\n[9 rows x 32 columns]",
      "text/html": "<div>\n<style scoped>\n    .dataframe tbody tr th:only-of-type {\n        vertical-align: middle;\n    }\n\n    .dataframe tbody tr th {\n        vertical-align: top;\n    }\n\n    .dataframe thead th {\n        text-align: right;\n    }\n</style>\n<table border=\"1\" class=\"dataframe\">\n  <thead>\n    <tr style=\"text-align: right;\">\n      <th></th>\n      <th>#</th>\n      <th>año</th>\n      <th>fecha</th>\n      <th>tipo_actividad</th>\n      <th>formato</th>\n      <th>actividad</th>\n      <th>cantidad</th>\n      <th>pais</th>\n      <th>ciudad</th>\n      <th>alcance</th>\n      <th>...</th>\n      <th>calzonesmenstruales</th>\n      <th>kit_insumos_gestiónmenstrual</th>\n      <th>qipusmenstruales</th>\n      <th>expo_duracion</th>\n      <th>tematicataller</th>\n      <th>personal</th>\n      <th>voluntarias</th>\n      <th>expo_tiempo_elabtaller</th>\n      <th>org_apoyo</th>\n      <th>toallasdesechablesa</th>\n    </tr>\n  </thead>\n  <tbody>\n    <tr>\n      <th>22</th>\n      <td>23.0</td>\n      <td>2022</td>\n      <td>2022-03-03</td>\n      <td>taller</td>\n      <td>virtual</td>\n      <td>Voluntarias Yawar</td>\n      <td>1</td>\n      <td>Bolivia</td>\n      <td>La Paz</td>\n      <td>Nacional</td>\n      <td>...</td>\n      <td>0</td>\n      <td>0</td>\n      <td>0</td>\n      <td>210.0</td>\n      <td>Poblaciones Vulnerables</td>\n      <td>1</td>\n      <td>5</td>\n      <td>480.0</td>\n      <td>Aptapi Jopueti</td>\n      <td>0</td>\n    </tr>\n    <tr>\n      <th>24</th>\n      <td>25.0</td>\n      <td>2022</td>\n      <td>2022-04-14</td>\n      <td>taller</td>\n      <td>virtual</td>\n      <td>Voluntarias Yawar</td>\n      <td>1</td>\n      <td>Bolivia</td>\n      <td>La Paz</td>\n      <td>Nacional</td>\n      <td>...</td>\n      <td>0</td>\n      <td>0</td>\n      <td>0</td>\n      <td>210.0</td>\n      <td>Pubertad, adolescencia y menarquía</td>\n      <td>1</td>\n      <td>4</td>\n      <td>480.0</td>\n      <td>Aptapi Jopueti</td>\n      <td>0</td>\n    </tr>\n    <tr>\n      <th>25</th>\n      <td>26.0</td>\n      <td>2022</td>\n      <td>2022-05-04</td>\n      <td>taller</td>\n      <td>virtual</td>\n      <td>Voluntarias Yawar</td>\n      <td>1</td>\n      <td>Bolivia</td>\n      <td>La Paz</td>\n      <td>Nacional</td>\n      <td>...</td>\n      <td>0</td>\n      <td>0</td>\n      <td>0</td>\n      <td>210.0</td>\n      <td>Pobreza menstrual</td>\n      <td>1</td>\n      <td>5</td>\n      <td>480.0</td>\n      <td>Aptapi Jopueti</td>\n      <td>0</td>\n    </tr>\n    <tr>\n      <th>29</th>\n      <td>30.0</td>\n      <td>2022</td>\n      <td>2022-09-24</td>\n      <td>taller</td>\n      <td>virtual</td>\n      <td>Voluntarias Yawar</td>\n      <td>1</td>\n      <td>Bolivia</td>\n      <td>N/A</td>\n      <td>Nacional</td>\n      <td>...</td>\n      <td>0</td>\n      <td>0</td>\n      <td>0</td>\n      <td>210.0</td>\n      <td>Bienvenida a Yawar</td>\n      <td>1</td>\n      <td>10</td>\n      <td>480.0</td>\n      <td>Aptapi Jopueti</td>\n      <td>0</td>\n    </tr>\n    <tr>\n      <th>30</th>\n      <td>31.0</td>\n      <td>2022</td>\n      <td>2022-09-28</td>\n      <td>taller</td>\n      <td>virtual</td>\n      <td>Voluntarias Yawar</td>\n      <td>1</td>\n      <td>Bolivia</td>\n      <td>N/A</td>\n      <td>Nacional</td>\n      <td>...</td>\n      <td>0</td>\n      <td>0</td>\n      <td>0</td>\n      <td>210.0</td>\n      <td>El ciclo menstrual</td>\n      <td>1</td>\n      <td>10</td>\n      <td>480.0</td>\n      <td>Aptapi Jopueti</td>\n      <td>0</td>\n    </tr>\n    <tr>\n      <th>31</th>\n      <td>32.0</td>\n      <td>2022</td>\n      <td>2022-10-05</td>\n      <td>taller</td>\n      <td>virtual</td>\n      <td>Voluntarias Yawar</td>\n      <td>1</td>\n      <td>Bolivia</td>\n      <td>N/A</td>\n      <td>Nacional</td>\n      <td>...</td>\n      <td>0</td>\n      <td>0</td>\n      <td>0</td>\n      <td>210.0</td>\n      <td>Activismo menstrual</td>\n      <td>1</td>\n      <td>10</td>\n      <td>480.0</td>\n      <td>Aptapi Jopueti</td>\n      <td>0</td>\n    </tr>\n    <tr>\n      <th>32</th>\n      <td>33.0</td>\n      <td>2022</td>\n      <td>2022-10-12</td>\n      <td>taller</td>\n      <td>virtual</td>\n      <td>Voluntarias Yawar</td>\n      <td>1</td>\n      <td>Bolivia</td>\n      <td>N/A</td>\n      <td>Internacional</td>\n      <td>...</td>\n      <td>0</td>\n      <td>0</td>\n      <td>0</td>\n      <td>210.0</td>\n      <td>Justicia Menstrual</td>\n      <td>1</td>\n      <td>10</td>\n      <td>480.0</td>\n      <td>Aptapi Jopueti</td>\n      <td>0</td>\n    </tr>\n    <tr>\n      <th>38</th>\n      <td>39.0</td>\n      <td>2023</td>\n      <td>2023-03-30</td>\n      <td>taller</td>\n      <td>virtual</td>\n      <td>Rapsistencia</td>\n      <td>1</td>\n      <td>Bolivia</td>\n      <td>N/A</td>\n      <td>Nacional</td>\n      <td>...</td>\n      <td>0</td>\n      <td>0</td>\n      <td>0</td>\n      <td>210.0</td>\n      <td>vivencia menstrual-ovulatoria</td>\n      <td>1</td>\n      <td>0</td>\n      <td>330.0</td>\n      <td>Aptapi Jopueti</td>\n      <td>0</td>\n    </tr>\n    <tr>\n      <th>39</th>\n      <td>40.0</td>\n      <td>2023</td>\n      <td>2023-04-19</td>\n      <td>taller</td>\n      <td>virtual</td>\n      <td>Mujeres Montaña</td>\n      <td>1</td>\n      <td>Bolivia</td>\n      <td>N/A</td>\n      <td>Nacional</td>\n      <td>...</td>\n      <td>0</td>\n      <td>0</td>\n      <td>0</td>\n      <td>210.0</td>\n      <td>vivencia menstrual-ovulatoria</td>\n      <td>1</td>\n      <td>0</td>\n      <td>330.0</td>\n      <td>Aptapi Jopueti</td>\n      <td>0</td>\n    </tr>\n  </tbody>\n</table>\n<p>9 rows × 32 columns</p>\n</div>"
     },
     "execution_count": 368,
     "metadata": {},
     "output_type": "execute_result"
    }
   ],
   "source": [
    "df_yawar_c[df_yawar_c['localidad']=='Nacional']"
   ],
   "metadata": {
    "collapsed": false,
    "ExecuteTime": {
     "end_time": "2024-04-16T21:45:54.980362400Z",
     "start_time": "2024-04-16T21:45:54.950103600Z"
    }
   },
   "id": "3dd0d297e8004f8b"
  },
  {
   "cell_type": "markdown",
   "source": [
    "Since there is a column 'alcance' with 'Nacional' as a value, this does not corresond here."
   ],
   "metadata": {
    "collapsed": false
   },
   "id": "e1ad2f2af57ba26"
  },
  {
   "cell_type": "code",
   "execution_count": 369,
   "outputs": [],
   "source": [
    "df_yawar_c.loc[df_yawar_c['localidad']=='Nacional','localidad']='N/A'"
   ],
   "metadata": {
    "collapsed": false,
    "ExecuteTime": {
     "end_time": "2024-04-16T21:45:59.752908300Z",
     "start_time": "2024-04-16T21:45:59.724712900Z"
    }
   },
   "id": "5ee59443991d6d46"
  },
  {
   "cell_type": "markdown",
   "source": [
    "Mostly when 'localidad' column equals 'N/A' then it refers to a virtual activity or an artistic one. "
   ],
   "metadata": {
    "collapsed": false
   },
   "id": "6db51f8ad202839e"
  },
  {
   "cell_type": "code",
   "execution_count": 370,
   "outputs": [
    {
     "data": {
      "text/plain": "       #   año      fecha           tipo_actividad     formato  \\\n22  23.0  2022 2022-03-03                   taller     virtual   \n24  25.0  2022 2022-04-14                   taller     virtual   \n25  26.0  2022 2022-05-04                   taller     virtual   \n29  30.0  2022 2022-09-24                   taller     virtual   \n30  31.0  2022 2022-09-28                   taller     virtual   \n31  32.0  2022 2022-10-05                   taller     virtual   \n32  33.0  2022 2022-10-12                   taller     virtual   \n38  39.0  2023 2023-03-30                   taller     virtual   \n39  40.0  2023 2023-04-19                   taller     virtual   \n52  52.0  2021 2021-10-01     artistica y cultural  presencial   \n53  53.0  2021 2021-02-06     artistica y cultural  presencial   \n57  57.0  2022 2022-01-11     artistica y cultural  presencial   \n61  61.0  2022 2022-05-28            conversatorio     virtual   \n64  64.0  2023 2024-05-23                  campaña     virtual   \n65  65.0  2022 2022-03-21                  campaña     virtual   \n66  66.0  2021 2021-01-12                  campaña     virtual   \n67  67.0  2021 2021-01-12  difusion redes sociales     virtual   \n69  69.0  2022 2022-10-06  difusion redes sociales     virtual   \n70  70.0  2022 2022-11-30  difusion redes sociales     virtual   \n71  71.0  2022 2022-05-28  difusion redes sociales     virtual   \n72  72.0  2022 2022-05-28  difusion redes sociales     virtual   \n73  73.0  2022 2022-05-28  difusion redes sociales     virtual   \n74  74.0  2022 2022-03-25   medios de comunicacion     virtual   \n75  75.0  2021 2021-11-16   medios de comunicacion     virtual   \n76  76.0  2022 2022-04-28   medios de comunicacion     virtual   \n77  77.0  2022 2022-08-06   medios de comunicacion  presencial   \n78  78.0  2022 2022-06-16   medios de comunicacion  presencial   \n79  79.0  2023 2023-03-22   medios de comunicacion  presencial   \n80  80.0  2023 2023-09-16   medios de comunicacion  presencial   \n81  81.0  2022 2022-04-13   medios de comunicacion     virtual   \n82  82.0  2022 2022-07-19   medios de comunicacion     virtual   \n83  83.0  2022 2022-05-27   medios de comunicacion     virtual   \n\n                                            actividad  cantidad  \\\n22                                  Voluntarias Yawar         1   \n24                                  Voluntarias Yawar         1   \n25                                  Voluntarias Yawar         1   \n29                                  Voluntarias Yawar         1   \n30                                  Voluntarias Yawar         1   \n31                                  Voluntarias Yawar         1   \n32                                  Voluntarias Yawar         1   \n38                                       Rapsistencia         1   \n39                                    Mujeres Montaña         1   \n52  Primer Videopitch para campaña de recaudación ...         1   \n53  Un evento de Zumba y conversatorio para recaud...         1   \n57               Cartilla educativa con ilustraciones         1   \n61  Conversatorio: \\nLA DESIGUALDAD MENSTRUAL Y EL...         1   \n64           Campaña de descuentos por Mayo Menstrual         1   \n65              Alianza calzones menstruales con Aura         1   \n66  Campaña navideña de descuentos en alianza con ...         0   \n67                                              artes        46   \n69                                       Videopitch 2         1   \n70                           Video de mural menstrual         1   \n71                        Video performance artística         1   \n72                                              reels        36   \n73                                 posts en instagram       116   \n74                                 Verdad con tinta 2         1   \n75                                 Verdad con tinta 1         1   \n76                                           Muy Waso         1   \n77                                     Correo del Sur         1   \n78                                       Revista Ekos         1   \n79                                        Agencia EFE         1   \n80                                     Nacer Mujer TV         1   \n81                                        Adich Radio         1   \n82                                        Adich Radio         1   \n83                                    radio Encuentro         1   \n\n              pais                ciudad        alcance  ...  \\\n22         Bolivia                La Paz       Nacional  ...   \n24         Bolivia                La Paz       Nacional  ...   \n25         Bolivia                La Paz       Nacional  ...   \n29         Bolivia                   N/A       Nacional  ...   \n30         Bolivia                   N/A       Nacional  ...   \n31         Bolivia                   N/A       Nacional  ...   \n32         Bolivia                   N/A  Internacional  ...   \n38         Bolivia                   N/A       Nacional  ...   \n39         Bolivia                   N/A       Nacional  ...   \n52         Bolivia                   N/A  Internacional  ...   \n53       Australia             Melbourne  Internacional  ...   \n57         Bolivia                   N/A       Nacional  ...   \n61         Bolivia         Internacional  Internacional  ...   \n64         Bolivia              Nacional       Nacional  ...   \n65         Bolivia                   N/A       Nacional  ...   \n66  Estados Unidos  Bolivia y Nueva York  Internacional  ...   \n67         Bolivia                   N/A       Nacional  ...   \n69         Bolivia                 Sucre       Nacional  ...   \n70         Bolivia                 Sucre       Nacional  ...   \n71         Bolivia                 Sucre       Nacional  ...   \n72         Bolivia                   N/A  Internacional  ...   \n73         Bolivia                   N/A  Internacional  ...   \n74         Bolivia                   N/A       Nacional  ...   \n75         Bolivia                   N/A       Nacional  ...   \n76         Bolivia                   N/A       Nacional  ...   \n77         Bolivia                   N/A       Nacional  ...   \n78         Bolivia                   N/A       Nacional  ...   \n79         Bolivia                   N/A  Internacional  ...   \n80         Bolivia                La Paz       Nacional  ...   \n81         Bolivia                 Sucre       Nacional  ...   \n82         Bolivia                 Sucre       Nacional  ...   \n83         Bolivia                 Sucre       Nacional  ...   \n\n   calzonesmenstruales kit_insumos_gestiónmenstrual qipusmenstruales  \\\n22                   0                            0                0   \n24                   0                            0                0   \n25                   0                            0                0   \n29                   0                            0                0   \n30                   0                            0                0   \n31                   0                            0                0   \n32                   0                            0                0   \n38                   0                            0                0   \n39                   0                            0                0   \n52                   0                            0                0   \n53                   0                            0                0   \n57                   0                            0                0   \n61                   0                            0                0   \n64                   0                            0                0   \n65                   0                            0                0   \n66                   0                            0                0   \n67                   0                            0                0   \n69                   0                            0                0   \n70                   0                            0                0   \n71                   0                            0                0   \n72                   0                            0                0   \n73                   0                            0                0   \n74                   0                            0                0   \n75                   0                            0                0   \n76                   0                            0                0   \n77                   0                            0                0   \n78                   0                            0                0   \n79                   0                            0                0   \n80                   0                            0                0   \n81                   0                            0                0   \n82                   0                            0                0   \n83                   0                            0                0   \n\n   expo_duracion                      tematicataller personal voluntarias  \\\n22         210.0             Poblaciones Vulnerables        1           5   \n24         210.0  Pubertad, adolescencia y menarquía        1           4   \n25         210.0                   Pobreza menstrual        1           5   \n29         210.0                  Bienvenida a Yawar        1          10   \n30         210.0                  El ciclo menstrual        1          10   \n31         210.0                 Activismo menstrual        1          10   \n32         210.0                  Justicia Menstrual        1          10   \n38         210.0       vivencia menstrual-ovulatoria        1           0   \n39         210.0       vivencia menstrual-ovulatoria        1           0   \n52           0.0                                 N/A        1           0   \n53           0.0                                 N/A        1           0   \n57           0.0                                 N/A        1           0   \n61           0.0                                 N/A        1           0   \n64           0.0                                 N/A        1           0   \n65           0.0                                 N/A        1           0   \n66           0.0                                 N/A        1           0   \n67           0.0                           no aplica        1           0   \n69           0.0                                 N/A        1           0   \n70           0.0                                 N/A        1           0   \n71          10.0                                 N/A        4           2   \n72           0.0                                 N/A        1           0   \n73           0.0                                 N/A        1           0   \n74           0.0                                 N/A        1           0   \n75           0.0                                 N/A        1           0   \n76           0.0                                 N/A        1           0   \n77           0.0                                 N/A        1           0   \n78           0.0                                 N/A        1           0   \n79           0.0                                 N/A        1           0   \n80           0.0                                 N/A        1           0   \n81           0.0                                 N/A        1           0   \n82           0.0                                 N/A        1           0   \n83           0.0                                 N/A        1           0   \n\n   expo_tiempo_elabtaller            org_apoyo  toallasdesechablesa  \n22                  480.0       Aptapi Jopueti                    0  \n24                  480.0       Aptapi Jopueti                    0  \n25                  480.0       Aptapi Jopueti                    0  \n29                  480.0       Aptapi Jopueti                    0  \n30                  480.0       Aptapi Jopueti                    0  \n31                  480.0       Aptapi Jopueti                    0  \n32                  480.0       Aptapi Jopueti                    0  \n38                  330.0       Aptapi Jopueti                    0  \n39                  330.0       Aptapi Jopueti                    0  \n52                    0.0              Ninguno                    0  \n53                    0.0              Ninguno                    0  \n57                    0.0              Ninguno                    0  \n61                    0.0              Ninguno                    0  \n64                    0.0              Ninguno                    0  \n65                    0.0              Ninguno                    0  \n66                    0.0              Ninguno                    0  \n67                    0.0              Ninguno                    0  \n69                    0.0              Ninguno                    0  \n70                  360.0  Micros para Avanzar                    0  \n71                  300.0        Fondo Apthapi                    0  \n72                    0.0              Ninguno                    0  \n73                    0.0              Ninguno                    0  \n74                    0.0              Ninguno                    0  \n75                    0.0              Ninguno                    0  \n76                    0.0              Ninguno                    0  \n77                    0.0              Ninguno                    0  \n78                    0.0              Ninguno                    0  \n79                    0.0              Ninguno                    0  \n80                    0.0              Ninguno                    0  \n81                    0.0              Ninguno                    0  \n82                    0.0              Ninguno                    0  \n83                    0.0              Ninguno                    0  \n\n[32 rows x 32 columns]",
      "text/html": "<div>\n<style scoped>\n    .dataframe tbody tr th:only-of-type {\n        vertical-align: middle;\n    }\n\n    .dataframe tbody tr th {\n        vertical-align: top;\n    }\n\n    .dataframe thead th {\n        text-align: right;\n    }\n</style>\n<table border=\"1\" class=\"dataframe\">\n  <thead>\n    <tr style=\"text-align: right;\">\n      <th></th>\n      <th>#</th>\n      <th>año</th>\n      <th>fecha</th>\n      <th>tipo_actividad</th>\n      <th>formato</th>\n      <th>actividad</th>\n      <th>cantidad</th>\n      <th>pais</th>\n      <th>ciudad</th>\n      <th>alcance</th>\n      <th>...</th>\n      <th>calzonesmenstruales</th>\n      <th>kit_insumos_gestiónmenstrual</th>\n      <th>qipusmenstruales</th>\n      <th>expo_duracion</th>\n      <th>tematicataller</th>\n      <th>personal</th>\n      <th>voluntarias</th>\n      <th>expo_tiempo_elabtaller</th>\n      <th>org_apoyo</th>\n      <th>toallasdesechablesa</th>\n    </tr>\n  </thead>\n  <tbody>\n    <tr>\n      <th>22</th>\n      <td>23.0</td>\n      <td>2022</td>\n      <td>2022-03-03</td>\n      <td>taller</td>\n      <td>virtual</td>\n      <td>Voluntarias Yawar</td>\n      <td>1</td>\n      <td>Bolivia</td>\n      <td>La Paz</td>\n      <td>Nacional</td>\n      <td>...</td>\n      <td>0</td>\n      <td>0</td>\n      <td>0</td>\n      <td>210.0</td>\n      <td>Poblaciones Vulnerables</td>\n      <td>1</td>\n      <td>5</td>\n      <td>480.0</td>\n      <td>Aptapi Jopueti</td>\n      <td>0</td>\n    </tr>\n    <tr>\n      <th>24</th>\n      <td>25.0</td>\n      <td>2022</td>\n      <td>2022-04-14</td>\n      <td>taller</td>\n      <td>virtual</td>\n      <td>Voluntarias Yawar</td>\n      <td>1</td>\n      <td>Bolivia</td>\n      <td>La Paz</td>\n      <td>Nacional</td>\n      <td>...</td>\n      <td>0</td>\n      <td>0</td>\n      <td>0</td>\n      <td>210.0</td>\n      <td>Pubertad, adolescencia y menarquía</td>\n      <td>1</td>\n      <td>4</td>\n      <td>480.0</td>\n      <td>Aptapi Jopueti</td>\n      <td>0</td>\n    </tr>\n    <tr>\n      <th>25</th>\n      <td>26.0</td>\n      <td>2022</td>\n      <td>2022-05-04</td>\n      <td>taller</td>\n      <td>virtual</td>\n      <td>Voluntarias Yawar</td>\n      <td>1</td>\n      <td>Bolivia</td>\n      <td>La Paz</td>\n      <td>Nacional</td>\n      <td>...</td>\n      <td>0</td>\n      <td>0</td>\n      <td>0</td>\n      <td>210.0</td>\n      <td>Pobreza menstrual</td>\n      <td>1</td>\n      <td>5</td>\n      <td>480.0</td>\n      <td>Aptapi Jopueti</td>\n      <td>0</td>\n    </tr>\n    <tr>\n      <th>29</th>\n      <td>30.0</td>\n      <td>2022</td>\n      <td>2022-09-24</td>\n      <td>taller</td>\n      <td>virtual</td>\n      <td>Voluntarias Yawar</td>\n      <td>1</td>\n      <td>Bolivia</td>\n      <td>N/A</td>\n      <td>Nacional</td>\n      <td>...</td>\n      <td>0</td>\n      <td>0</td>\n      <td>0</td>\n      <td>210.0</td>\n      <td>Bienvenida a Yawar</td>\n      <td>1</td>\n      <td>10</td>\n      <td>480.0</td>\n      <td>Aptapi Jopueti</td>\n      <td>0</td>\n    </tr>\n    <tr>\n      <th>30</th>\n      <td>31.0</td>\n      <td>2022</td>\n      <td>2022-09-28</td>\n      <td>taller</td>\n      <td>virtual</td>\n      <td>Voluntarias Yawar</td>\n      <td>1</td>\n      <td>Bolivia</td>\n      <td>N/A</td>\n      <td>Nacional</td>\n      <td>...</td>\n      <td>0</td>\n      <td>0</td>\n      <td>0</td>\n      <td>210.0</td>\n      <td>El ciclo menstrual</td>\n      <td>1</td>\n      <td>10</td>\n      <td>480.0</td>\n      <td>Aptapi Jopueti</td>\n      <td>0</td>\n    </tr>\n    <tr>\n      <th>31</th>\n      <td>32.0</td>\n      <td>2022</td>\n      <td>2022-10-05</td>\n      <td>taller</td>\n      <td>virtual</td>\n      <td>Voluntarias Yawar</td>\n      <td>1</td>\n      <td>Bolivia</td>\n      <td>N/A</td>\n      <td>Nacional</td>\n      <td>...</td>\n      <td>0</td>\n      <td>0</td>\n      <td>0</td>\n      <td>210.0</td>\n      <td>Activismo menstrual</td>\n      <td>1</td>\n      <td>10</td>\n      <td>480.0</td>\n      <td>Aptapi Jopueti</td>\n      <td>0</td>\n    </tr>\n    <tr>\n      <th>32</th>\n      <td>33.0</td>\n      <td>2022</td>\n      <td>2022-10-12</td>\n      <td>taller</td>\n      <td>virtual</td>\n      <td>Voluntarias Yawar</td>\n      <td>1</td>\n      <td>Bolivia</td>\n      <td>N/A</td>\n      <td>Internacional</td>\n      <td>...</td>\n      <td>0</td>\n      <td>0</td>\n      <td>0</td>\n      <td>210.0</td>\n      <td>Justicia Menstrual</td>\n      <td>1</td>\n      <td>10</td>\n      <td>480.0</td>\n      <td>Aptapi Jopueti</td>\n      <td>0</td>\n    </tr>\n    <tr>\n      <th>38</th>\n      <td>39.0</td>\n      <td>2023</td>\n      <td>2023-03-30</td>\n      <td>taller</td>\n      <td>virtual</td>\n      <td>Rapsistencia</td>\n      <td>1</td>\n      <td>Bolivia</td>\n      <td>N/A</td>\n      <td>Nacional</td>\n      <td>...</td>\n      <td>0</td>\n      <td>0</td>\n      <td>0</td>\n      <td>210.0</td>\n      <td>vivencia menstrual-ovulatoria</td>\n      <td>1</td>\n      <td>0</td>\n      <td>330.0</td>\n      <td>Aptapi Jopueti</td>\n      <td>0</td>\n    </tr>\n    <tr>\n      <th>39</th>\n      <td>40.0</td>\n      <td>2023</td>\n      <td>2023-04-19</td>\n      <td>taller</td>\n      <td>virtual</td>\n      <td>Mujeres Montaña</td>\n      <td>1</td>\n      <td>Bolivia</td>\n      <td>N/A</td>\n      <td>Nacional</td>\n      <td>...</td>\n      <td>0</td>\n      <td>0</td>\n      <td>0</td>\n      <td>210.0</td>\n      <td>vivencia menstrual-ovulatoria</td>\n      <td>1</td>\n      <td>0</td>\n      <td>330.0</td>\n      <td>Aptapi Jopueti</td>\n      <td>0</td>\n    </tr>\n    <tr>\n      <th>52</th>\n      <td>52.0</td>\n      <td>2021</td>\n      <td>2021-10-01</td>\n      <td>artistica y cultural</td>\n      <td>presencial</td>\n      <td>Primer Videopitch para campaña de recaudación ...</td>\n      <td>1</td>\n      <td>Bolivia</td>\n      <td>N/A</td>\n      <td>Internacional</td>\n      <td>...</td>\n      <td>0</td>\n      <td>0</td>\n      <td>0</td>\n      <td>0.0</td>\n      <td>N/A</td>\n      <td>1</td>\n      <td>0</td>\n      <td>0.0</td>\n      <td>Ninguno</td>\n      <td>0</td>\n    </tr>\n    <tr>\n      <th>53</th>\n      <td>53.0</td>\n      <td>2021</td>\n      <td>2021-02-06</td>\n      <td>artistica y cultural</td>\n      <td>presencial</td>\n      <td>Un evento de Zumba y conversatorio para recaud...</td>\n      <td>1</td>\n      <td>Australia</td>\n      <td>Melbourne</td>\n      <td>Internacional</td>\n      <td>...</td>\n      <td>0</td>\n      <td>0</td>\n      <td>0</td>\n      <td>0.0</td>\n      <td>N/A</td>\n      <td>1</td>\n      <td>0</td>\n      <td>0.0</td>\n      <td>Ninguno</td>\n      <td>0</td>\n    </tr>\n    <tr>\n      <th>57</th>\n      <td>57.0</td>\n      <td>2022</td>\n      <td>2022-01-11</td>\n      <td>artistica y cultural</td>\n      <td>presencial</td>\n      <td>Cartilla educativa con ilustraciones</td>\n      <td>1</td>\n      <td>Bolivia</td>\n      <td>N/A</td>\n      <td>Nacional</td>\n      <td>...</td>\n      <td>0</td>\n      <td>0</td>\n      <td>0</td>\n      <td>0.0</td>\n      <td>N/A</td>\n      <td>1</td>\n      <td>0</td>\n      <td>0.0</td>\n      <td>Ninguno</td>\n      <td>0</td>\n    </tr>\n    <tr>\n      <th>61</th>\n      <td>61.0</td>\n      <td>2022</td>\n      <td>2022-05-28</td>\n      <td>conversatorio</td>\n      <td>virtual</td>\n      <td>Conversatorio: \\nLA DESIGUALDAD MENSTRUAL Y EL...</td>\n      <td>1</td>\n      <td>Bolivia</td>\n      <td>Internacional</td>\n      <td>Internacional</td>\n      <td>...</td>\n      <td>0</td>\n      <td>0</td>\n      <td>0</td>\n      <td>0.0</td>\n      <td>N/A</td>\n      <td>1</td>\n      <td>0</td>\n      <td>0.0</td>\n      <td>Ninguno</td>\n      <td>0</td>\n    </tr>\n    <tr>\n      <th>64</th>\n      <td>64.0</td>\n      <td>2023</td>\n      <td>2024-05-23</td>\n      <td>campaña</td>\n      <td>virtual</td>\n      <td>Campaña de descuentos por Mayo Menstrual</td>\n      <td>1</td>\n      <td>Bolivia</td>\n      <td>Nacional</td>\n      <td>Nacional</td>\n      <td>...</td>\n      <td>0</td>\n      <td>0</td>\n      <td>0</td>\n      <td>0.0</td>\n      <td>N/A</td>\n      <td>1</td>\n      <td>0</td>\n      <td>0.0</td>\n      <td>Ninguno</td>\n      <td>0</td>\n    </tr>\n    <tr>\n      <th>65</th>\n      <td>65.0</td>\n      <td>2022</td>\n      <td>2022-03-21</td>\n      <td>campaña</td>\n      <td>virtual</td>\n      <td>Alianza calzones menstruales con Aura</td>\n      <td>1</td>\n      <td>Bolivia</td>\n      <td>N/A</td>\n      <td>Nacional</td>\n      <td>...</td>\n      <td>0</td>\n      <td>0</td>\n      <td>0</td>\n      <td>0.0</td>\n      <td>N/A</td>\n      <td>1</td>\n      <td>0</td>\n      <td>0.0</td>\n      <td>Ninguno</td>\n      <td>0</td>\n    </tr>\n    <tr>\n      <th>66</th>\n      <td>66.0</td>\n      <td>2021</td>\n      <td>2021-01-12</td>\n      <td>campaña</td>\n      <td>virtual</td>\n      <td>Campaña navideña de descuentos en alianza con ...</td>\n      <td>0</td>\n      <td>Estados Unidos</td>\n      <td>Bolivia y Nueva York</td>\n      <td>Internacional</td>\n      <td>...</td>\n      <td>0</td>\n      <td>0</td>\n      <td>0</td>\n      <td>0.0</td>\n      <td>N/A</td>\n      <td>1</td>\n      <td>0</td>\n      <td>0.0</td>\n      <td>Ninguno</td>\n      <td>0</td>\n    </tr>\n    <tr>\n      <th>67</th>\n      <td>67.0</td>\n      <td>2021</td>\n      <td>2021-01-12</td>\n      <td>difusion redes sociales</td>\n      <td>virtual</td>\n      <td>artes</td>\n      <td>46</td>\n      <td>Bolivia</td>\n      <td>N/A</td>\n      <td>Nacional</td>\n      <td>...</td>\n      <td>0</td>\n      <td>0</td>\n      <td>0</td>\n      <td>0.0</td>\n      <td>no aplica</td>\n      <td>1</td>\n      <td>0</td>\n      <td>0.0</td>\n      <td>Ninguno</td>\n      <td>0</td>\n    </tr>\n    <tr>\n      <th>69</th>\n      <td>69.0</td>\n      <td>2022</td>\n      <td>2022-10-06</td>\n      <td>difusion redes sociales</td>\n      <td>virtual</td>\n      <td>Videopitch 2</td>\n      <td>1</td>\n      <td>Bolivia</td>\n      <td>Sucre</td>\n      <td>Nacional</td>\n      <td>...</td>\n      <td>0</td>\n      <td>0</td>\n      <td>0</td>\n      <td>0.0</td>\n      <td>N/A</td>\n      <td>1</td>\n      <td>0</td>\n      <td>0.0</td>\n      <td>Ninguno</td>\n      <td>0</td>\n    </tr>\n    <tr>\n      <th>70</th>\n      <td>70.0</td>\n      <td>2022</td>\n      <td>2022-11-30</td>\n      <td>difusion redes sociales</td>\n      <td>virtual</td>\n      <td>Video de mural menstrual</td>\n      <td>1</td>\n      <td>Bolivia</td>\n      <td>Sucre</td>\n      <td>Nacional</td>\n      <td>...</td>\n      <td>0</td>\n      <td>0</td>\n      <td>0</td>\n      <td>0.0</td>\n      <td>N/A</td>\n      <td>1</td>\n      <td>0</td>\n      <td>360.0</td>\n      <td>Micros para Avanzar</td>\n      <td>0</td>\n    </tr>\n    <tr>\n      <th>71</th>\n      <td>71.0</td>\n      <td>2022</td>\n      <td>2022-05-28</td>\n      <td>difusion redes sociales</td>\n      <td>virtual</td>\n      <td>Video performance artística</td>\n      <td>1</td>\n      <td>Bolivia</td>\n      <td>Sucre</td>\n      <td>Nacional</td>\n      <td>...</td>\n      <td>0</td>\n      <td>0</td>\n      <td>0</td>\n      <td>10.0</td>\n      <td>N/A</td>\n      <td>4</td>\n      <td>2</td>\n      <td>300.0</td>\n      <td>Fondo Apthapi</td>\n      <td>0</td>\n    </tr>\n    <tr>\n      <th>72</th>\n      <td>72.0</td>\n      <td>2022</td>\n      <td>2022-05-28</td>\n      <td>difusion redes sociales</td>\n      <td>virtual</td>\n      <td>reels</td>\n      <td>36</td>\n      <td>Bolivia</td>\n      <td>N/A</td>\n      <td>Internacional</td>\n      <td>...</td>\n      <td>0</td>\n      <td>0</td>\n      <td>0</td>\n      <td>0.0</td>\n      <td>N/A</td>\n      <td>1</td>\n      <td>0</td>\n      <td>0.0</td>\n      <td>Ninguno</td>\n      <td>0</td>\n    </tr>\n    <tr>\n      <th>73</th>\n      <td>73.0</td>\n      <td>2022</td>\n      <td>2022-05-28</td>\n      <td>difusion redes sociales</td>\n      <td>virtual</td>\n      <td>posts en instagram</td>\n      <td>116</td>\n      <td>Bolivia</td>\n      <td>N/A</td>\n      <td>Internacional</td>\n      <td>...</td>\n      <td>0</td>\n      <td>0</td>\n      <td>0</td>\n      <td>0.0</td>\n      <td>N/A</td>\n      <td>1</td>\n      <td>0</td>\n      <td>0.0</td>\n      <td>Ninguno</td>\n      <td>0</td>\n    </tr>\n    <tr>\n      <th>74</th>\n      <td>74.0</td>\n      <td>2022</td>\n      <td>2022-03-25</td>\n      <td>medios de comunicacion</td>\n      <td>virtual</td>\n      <td>Verdad con tinta 2</td>\n      <td>1</td>\n      <td>Bolivia</td>\n      <td>N/A</td>\n      <td>Nacional</td>\n      <td>...</td>\n      <td>0</td>\n      <td>0</td>\n      <td>0</td>\n      <td>0.0</td>\n      <td>N/A</td>\n      <td>1</td>\n      <td>0</td>\n      <td>0.0</td>\n      <td>Ninguno</td>\n      <td>0</td>\n    </tr>\n    <tr>\n      <th>75</th>\n      <td>75.0</td>\n      <td>2021</td>\n      <td>2021-11-16</td>\n      <td>medios de comunicacion</td>\n      <td>virtual</td>\n      <td>Verdad con tinta 1</td>\n      <td>1</td>\n      <td>Bolivia</td>\n      <td>N/A</td>\n      <td>Nacional</td>\n      <td>...</td>\n      <td>0</td>\n      <td>0</td>\n      <td>0</td>\n      <td>0.0</td>\n      <td>N/A</td>\n      <td>1</td>\n      <td>0</td>\n      <td>0.0</td>\n      <td>Ninguno</td>\n      <td>0</td>\n    </tr>\n    <tr>\n      <th>76</th>\n      <td>76.0</td>\n      <td>2022</td>\n      <td>2022-04-28</td>\n      <td>medios de comunicacion</td>\n      <td>virtual</td>\n      <td>Muy Waso</td>\n      <td>1</td>\n      <td>Bolivia</td>\n      <td>N/A</td>\n      <td>Nacional</td>\n      <td>...</td>\n      <td>0</td>\n      <td>0</td>\n      <td>0</td>\n      <td>0.0</td>\n      <td>N/A</td>\n      <td>1</td>\n      <td>0</td>\n      <td>0.0</td>\n      <td>Ninguno</td>\n      <td>0</td>\n    </tr>\n    <tr>\n      <th>77</th>\n      <td>77.0</td>\n      <td>2022</td>\n      <td>2022-08-06</td>\n      <td>medios de comunicacion</td>\n      <td>presencial</td>\n      <td>Correo del Sur</td>\n      <td>1</td>\n      <td>Bolivia</td>\n      <td>N/A</td>\n      <td>Nacional</td>\n      <td>...</td>\n      <td>0</td>\n      <td>0</td>\n      <td>0</td>\n      <td>0.0</td>\n      <td>N/A</td>\n      <td>1</td>\n      <td>0</td>\n      <td>0.0</td>\n      <td>Ninguno</td>\n      <td>0</td>\n    </tr>\n    <tr>\n      <th>78</th>\n      <td>78.0</td>\n      <td>2022</td>\n      <td>2022-06-16</td>\n      <td>medios de comunicacion</td>\n      <td>presencial</td>\n      <td>Revista Ekos</td>\n      <td>1</td>\n      <td>Bolivia</td>\n      <td>N/A</td>\n      <td>Nacional</td>\n      <td>...</td>\n      <td>0</td>\n      <td>0</td>\n      <td>0</td>\n      <td>0.0</td>\n      <td>N/A</td>\n      <td>1</td>\n      <td>0</td>\n      <td>0.0</td>\n      <td>Ninguno</td>\n      <td>0</td>\n    </tr>\n    <tr>\n      <th>79</th>\n      <td>79.0</td>\n      <td>2023</td>\n      <td>2023-03-22</td>\n      <td>medios de comunicacion</td>\n      <td>presencial</td>\n      <td>Agencia EFE</td>\n      <td>1</td>\n      <td>Bolivia</td>\n      <td>N/A</td>\n      <td>Internacional</td>\n      <td>...</td>\n      <td>0</td>\n      <td>0</td>\n      <td>0</td>\n      <td>0.0</td>\n      <td>N/A</td>\n      <td>1</td>\n      <td>0</td>\n      <td>0.0</td>\n      <td>Ninguno</td>\n      <td>0</td>\n    </tr>\n    <tr>\n      <th>80</th>\n      <td>80.0</td>\n      <td>2023</td>\n      <td>2023-09-16</td>\n      <td>medios de comunicacion</td>\n      <td>presencial</td>\n      <td>Nacer Mujer TV</td>\n      <td>1</td>\n      <td>Bolivia</td>\n      <td>La Paz</td>\n      <td>Nacional</td>\n      <td>...</td>\n      <td>0</td>\n      <td>0</td>\n      <td>0</td>\n      <td>0.0</td>\n      <td>N/A</td>\n      <td>1</td>\n      <td>0</td>\n      <td>0.0</td>\n      <td>Ninguno</td>\n      <td>0</td>\n    </tr>\n    <tr>\n      <th>81</th>\n      <td>81.0</td>\n      <td>2022</td>\n      <td>2022-04-13</td>\n      <td>medios de comunicacion</td>\n      <td>virtual</td>\n      <td>Adich Radio</td>\n      <td>1</td>\n      <td>Bolivia</td>\n      <td>Sucre</td>\n      <td>Nacional</td>\n      <td>...</td>\n      <td>0</td>\n      <td>0</td>\n      <td>0</td>\n      <td>0.0</td>\n      <td>N/A</td>\n      <td>1</td>\n      <td>0</td>\n      <td>0.0</td>\n      <td>Ninguno</td>\n      <td>0</td>\n    </tr>\n    <tr>\n      <th>82</th>\n      <td>82.0</td>\n      <td>2022</td>\n      <td>2022-07-19</td>\n      <td>medios de comunicacion</td>\n      <td>virtual</td>\n      <td>Adich Radio</td>\n      <td>1</td>\n      <td>Bolivia</td>\n      <td>Sucre</td>\n      <td>Nacional</td>\n      <td>...</td>\n      <td>0</td>\n      <td>0</td>\n      <td>0</td>\n      <td>0.0</td>\n      <td>N/A</td>\n      <td>1</td>\n      <td>0</td>\n      <td>0.0</td>\n      <td>Ninguno</td>\n      <td>0</td>\n    </tr>\n    <tr>\n      <th>83</th>\n      <td>83.0</td>\n      <td>2022</td>\n      <td>2022-05-27</td>\n      <td>medios de comunicacion</td>\n      <td>virtual</td>\n      <td>radio Encuentro</td>\n      <td>1</td>\n      <td>Bolivia</td>\n      <td>Sucre</td>\n      <td>Nacional</td>\n      <td>...</td>\n      <td>0</td>\n      <td>0</td>\n      <td>0</td>\n      <td>0.0</td>\n      <td>N/A</td>\n      <td>1</td>\n      <td>0</td>\n      <td>0.0</td>\n      <td>Ninguno</td>\n      <td>0</td>\n    </tr>\n  </tbody>\n</table>\n<p>32 rows × 32 columns</p>\n</div>"
     },
     "execution_count": 370,
     "metadata": {},
     "output_type": "execute_result"
    }
   ],
   "source": [
    "df_yawar_c[df_yawar_c['localidad']=='N/A']"
   ],
   "metadata": {
    "collapsed": false,
    "ExecuteTime": {
     "end_time": "2024-04-16T21:46:02.136439800Z",
     "start_time": "2024-04-16T21:46:02.078687700Z"
    }
   },
   "id": "38fd7b240e7e8ba8"
  },
  {
   "cell_type": "code",
   "execution_count": 374,
   "outputs": [
    {
     "data": {
      "text/plain": "localidad                ciudad                 \nEl Alto                  La Paz                     19\nSanta Rosa Yacuma        Beni                       11\nSanta Cruz de la Sierra  Santa Cruz de la Sierra     6\nLa Paz                   La Paz                      4\nSucre                    Sucre                       4\ndistrito 6 Sucre         Sucre                       3\nAlonso Gutierrez         Santa Cruz de la Sierra     1\nBuena Vista              Buena Vista                 1\n                         Santa Cruz de la Sierra     1\nColcapirhua              Cochabamba                  1\nPlan 3000                Santa Cruz de la Sierra     1\nName: count, dtype: int64"
     },
     "execution_count": 374,
     "metadata": {},
     "output_type": "execute_result"
    }
   ],
   "source": [
    "df_yawar_c[df_yawar_c['localidad']!='N/A'][['localidad','ciudad']].value_counts()"
   ],
   "metadata": {
    "collapsed": false,
    "ExecuteTime": {
     "end_time": "2024-04-16T21:48:00.467212500Z",
     "start_time": "2024-04-16T21:48:00.430908100Z"
    }
   },
   "id": "2d37a4dcdf5e95ae"
  },
  {
   "cell_type": "code",
   "execution_count": 372,
   "outputs": [],
   "source": [
    "df_yawar_c.loc[:,'localidad']=df_yawar_c['localidad'].str.split(',').str[0]"
   ],
   "metadata": {
    "collapsed": false,
    "ExecuteTime": {
     "end_time": "2024-04-16T21:46:15.470492900Z",
     "start_time": "2024-04-16T21:46:15.440652800Z"
    }
   },
   "id": "f7c8277f1f206611"
  },
  {
   "cell_type": "code",
   "execution_count": 373,
   "outputs": [],
   "source": [
    "#Unify repeated values \n",
    "df_yawar_c.loc[df_yawar_c['localidad']=='Santa Cruz','localidad']='Santa Cruz de la Sierra'"
   ],
   "metadata": {
    "collapsed": false,
    "ExecuteTime": {
     "end_time": "2024-04-16T21:47:57.429318200Z",
     "start_time": "2024-04-16T21:47:57.379026700Z"
    }
   },
   "id": "13fcbdc4cdcf2845"
  },
  {
   "cell_type": "code",
   "execution_count": 375,
   "outputs": [
    {
     "data": {
      "text/plain": "       #   año      fecha tipo_actividad     formato               actividad  \\\n5    6.0  2022 2023-09-06         taller  presencial  PROYECTO SOCIAL JASAYÉ   \n6    7.0  2022 2022-09-08         taller  presencial  PROYECTO SOCIAL JASAYÉ   \n7    8.0  2022 2022-09-12         taller  presencial  PROYECTO SOCIAL JASAYÉ   \n8    9.0  2022 2022-09-15         taller  presencial  PROYECTO SOCIAL JASAYÉ   \n34  35.0  2023 2023-03-01         taller  presencial  PROYECTO SOCIAL JASAYÉ   \n35  36.0  2023 2023-03-06         taller  presencial  PROYECTO SOCIAL JASAYÉ   \n36  37.0  2023 2023-03-09         taller  presencial  PROYECTO SOCIAL JASAYÉ   \n43  44.0  2023 2023-06-17         taller  presencial                      UE   \n44  45.0  2023 2023-06-24         taller  presencial                   MAMAS   \n45  46.0  2023 2023-09-13         taller  presencial         COSTURA TOALLAS   \n46  47.0  2023 2023-06-20         taller  presencial                    COLE   \n\n    cantidad     pais ciudad   alcance  ... calzonesmenstruales  \\\n5          1  Bolivia   Beni  Nacional  ...                   0   \n6          1  Bolivia   Beni  Nacional  ...                   0   \n7          1  Bolivia   Beni  Nacional  ...                   0   \n8          1  Bolivia   Beni  Nacional  ...                   0   \n34         1  Bolivia   Beni  Nacional  ...                   0   \n35         1  Bolivia   Beni  Nacional  ...                   0   \n36         1  Bolivia   Beni  Nacional  ...                   0   \n43         1  Bolivia   Beni  Nacional  ...                   0   \n44         1  Bolivia   Beni  Nacional  ...                   0   \n45         1  Bolivia   Beni  Nacional  ...                   0   \n46         1  Bolivia   Beni  Nacional  ...                   0   \n\n   kit_insumos_gestiónmenstrual qipusmenstruales expo_duracion  \\\n5                             0                0         210.0   \n6                             0                0         210.0   \n7                             0                0         210.0   \n8                             0                0         210.0   \n34                            0                0         210.0   \n35                            0                0         210.0   \n36                            0                0         210.0   \n43                            0                0         210.0   \n44                            0                0         210.0   \n45                            0                0         210.0   \n46                            0                0         210.0   \n\n                   tematicataller personal voluntarias expo_tiempo_elabtaller  \\\n5   vivencia menstrual-ovulatoria        1           0                  330.0   \n6   vivencia menstrual-ovulatoria        1           0                  330.0   \n7   vivencia menstrual-ovulatoria        1           0                  330.0   \n8   vivencia menstrual-ovulatoria        1           0                  330.0   \n34  vivencia menstrual-ovulatoria        1           0                  330.0   \n35  vivencia menstrual-ovulatoria        1           0                  330.0   \n36  vivencia menstrual-ovulatoria        1           0                  330.0   \n43  vivencia menstrual-ovulatoria        1           0                  330.0   \n44  vivencia menstrual-ovulatoria        1           0                  330.0   \n45  vivencia menstrual-ovulatoria        1           1                  330.0   \n46  vivencia menstrual-ovulatoria        1           0                  330.0   \n\n                                  org_apoyo  toallasdesechablesa  \n5                    Proyecto Social Jasayé                    0  \n6                    Proyecto Social Jasayé                    0  \n7                    Proyecto Social Jasayé                    0  \n8                    Proyecto Social Jasayé                    0  \n34                   Proyecto Social Jasayé                    0  \n35                   Proyecto Social Jasayé                    0  \n36                   Proyecto Social Jasayé                    0  \n43                   Proyecto Social Jasaye                    0  \n44                   Proyecto Social Jasaye                    0  \n45  Proyecto Social Jasaye y Aptapi Jopueti                    0  \n46                   Proyecto Social Jasaye                    0  \n\n[11 rows x 32 columns]",
      "text/html": "<div>\n<style scoped>\n    .dataframe tbody tr th:only-of-type {\n        vertical-align: middle;\n    }\n\n    .dataframe tbody tr th {\n        vertical-align: top;\n    }\n\n    .dataframe thead th {\n        text-align: right;\n    }\n</style>\n<table border=\"1\" class=\"dataframe\">\n  <thead>\n    <tr style=\"text-align: right;\">\n      <th></th>\n      <th>#</th>\n      <th>año</th>\n      <th>fecha</th>\n      <th>tipo_actividad</th>\n      <th>formato</th>\n      <th>actividad</th>\n      <th>cantidad</th>\n      <th>pais</th>\n      <th>ciudad</th>\n      <th>alcance</th>\n      <th>...</th>\n      <th>calzonesmenstruales</th>\n      <th>kit_insumos_gestiónmenstrual</th>\n      <th>qipusmenstruales</th>\n      <th>expo_duracion</th>\n      <th>tematicataller</th>\n      <th>personal</th>\n      <th>voluntarias</th>\n      <th>expo_tiempo_elabtaller</th>\n      <th>org_apoyo</th>\n      <th>toallasdesechablesa</th>\n    </tr>\n  </thead>\n  <tbody>\n    <tr>\n      <th>5</th>\n      <td>6.0</td>\n      <td>2022</td>\n      <td>2023-09-06</td>\n      <td>taller</td>\n      <td>presencial</td>\n      <td>PROYECTO SOCIAL JASAYÉ</td>\n      <td>1</td>\n      <td>Bolivia</td>\n      <td>Beni</td>\n      <td>Nacional</td>\n      <td>...</td>\n      <td>0</td>\n      <td>0</td>\n      <td>0</td>\n      <td>210.0</td>\n      <td>vivencia menstrual-ovulatoria</td>\n      <td>1</td>\n      <td>0</td>\n      <td>330.0</td>\n      <td>Proyecto Social Jasayé</td>\n      <td>0</td>\n    </tr>\n    <tr>\n      <th>6</th>\n      <td>7.0</td>\n      <td>2022</td>\n      <td>2022-09-08</td>\n      <td>taller</td>\n      <td>presencial</td>\n      <td>PROYECTO SOCIAL JASAYÉ</td>\n      <td>1</td>\n      <td>Bolivia</td>\n      <td>Beni</td>\n      <td>Nacional</td>\n      <td>...</td>\n      <td>0</td>\n      <td>0</td>\n      <td>0</td>\n      <td>210.0</td>\n      <td>vivencia menstrual-ovulatoria</td>\n      <td>1</td>\n      <td>0</td>\n      <td>330.0</td>\n      <td>Proyecto Social Jasayé</td>\n      <td>0</td>\n    </tr>\n    <tr>\n      <th>7</th>\n      <td>8.0</td>\n      <td>2022</td>\n      <td>2022-09-12</td>\n      <td>taller</td>\n      <td>presencial</td>\n      <td>PROYECTO SOCIAL JASAYÉ</td>\n      <td>1</td>\n      <td>Bolivia</td>\n      <td>Beni</td>\n      <td>Nacional</td>\n      <td>...</td>\n      <td>0</td>\n      <td>0</td>\n      <td>0</td>\n      <td>210.0</td>\n      <td>vivencia menstrual-ovulatoria</td>\n      <td>1</td>\n      <td>0</td>\n      <td>330.0</td>\n      <td>Proyecto Social Jasayé</td>\n      <td>0</td>\n    </tr>\n    <tr>\n      <th>8</th>\n      <td>9.0</td>\n      <td>2022</td>\n      <td>2022-09-15</td>\n      <td>taller</td>\n      <td>presencial</td>\n      <td>PROYECTO SOCIAL JASAYÉ</td>\n      <td>1</td>\n      <td>Bolivia</td>\n      <td>Beni</td>\n      <td>Nacional</td>\n      <td>...</td>\n      <td>0</td>\n      <td>0</td>\n      <td>0</td>\n      <td>210.0</td>\n      <td>vivencia menstrual-ovulatoria</td>\n      <td>1</td>\n      <td>0</td>\n      <td>330.0</td>\n      <td>Proyecto Social Jasayé</td>\n      <td>0</td>\n    </tr>\n    <tr>\n      <th>34</th>\n      <td>35.0</td>\n      <td>2023</td>\n      <td>2023-03-01</td>\n      <td>taller</td>\n      <td>presencial</td>\n      <td>PROYECTO SOCIAL JASAYÉ</td>\n      <td>1</td>\n      <td>Bolivia</td>\n      <td>Beni</td>\n      <td>Nacional</td>\n      <td>...</td>\n      <td>0</td>\n      <td>0</td>\n      <td>0</td>\n      <td>210.0</td>\n      <td>vivencia menstrual-ovulatoria</td>\n      <td>1</td>\n      <td>0</td>\n      <td>330.0</td>\n      <td>Proyecto Social Jasayé</td>\n      <td>0</td>\n    </tr>\n    <tr>\n      <th>35</th>\n      <td>36.0</td>\n      <td>2023</td>\n      <td>2023-03-06</td>\n      <td>taller</td>\n      <td>presencial</td>\n      <td>PROYECTO SOCIAL JASAYÉ</td>\n      <td>1</td>\n      <td>Bolivia</td>\n      <td>Beni</td>\n      <td>Nacional</td>\n      <td>...</td>\n      <td>0</td>\n      <td>0</td>\n      <td>0</td>\n      <td>210.0</td>\n      <td>vivencia menstrual-ovulatoria</td>\n      <td>1</td>\n      <td>0</td>\n      <td>330.0</td>\n      <td>Proyecto Social Jasayé</td>\n      <td>0</td>\n    </tr>\n    <tr>\n      <th>36</th>\n      <td>37.0</td>\n      <td>2023</td>\n      <td>2023-03-09</td>\n      <td>taller</td>\n      <td>presencial</td>\n      <td>PROYECTO SOCIAL JASAYÉ</td>\n      <td>1</td>\n      <td>Bolivia</td>\n      <td>Beni</td>\n      <td>Nacional</td>\n      <td>...</td>\n      <td>0</td>\n      <td>0</td>\n      <td>0</td>\n      <td>210.0</td>\n      <td>vivencia menstrual-ovulatoria</td>\n      <td>1</td>\n      <td>0</td>\n      <td>330.0</td>\n      <td>Proyecto Social Jasayé</td>\n      <td>0</td>\n    </tr>\n    <tr>\n      <th>43</th>\n      <td>44.0</td>\n      <td>2023</td>\n      <td>2023-06-17</td>\n      <td>taller</td>\n      <td>presencial</td>\n      <td>UE</td>\n      <td>1</td>\n      <td>Bolivia</td>\n      <td>Beni</td>\n      <td>Nacional</td>\n      <td>...</td>\n      <td>0</td>\n      <td>0</td>\n      <td>0</td>\n      <td>210.0</td>\n      <td>vivencia menstrual-ovulatoria</td>\n      <td>1</td>\n      <td>0</td>\n      <td>330.0</td>\n      <td>Proyecto Social Jasaye</td>\n      <td>0</td>\n    </tr>\n    <tr>\n      <th>44</th>\n      <td>45.0</td>\n      <td>2023</td>\n      <td>2023-06-24</td>\n      <td>taller</td>\n      <td>presencial</td>\n      <td>MAMAS</td>\n      <td>1</td>\n      <td>Bolivia</td>\n      <td>Beni</td>\n      <td>Nacional</td>\n      <td>...</td>\n      <td>0</td>\n      <td>0</td>\n      <td>0</td>\n      <td>210.0</td>\n      <td>vivencia menstrual-ovulatoria</td>\n      <td>1</td>\n      <td>0</td>\n      <td>330.0</td>\n      <td>Proyecto Social Jasaye</td>\n      <td>0</td>\n    </tr>\n    <tr>\n      <th>45</th>\n      <td>46.0</td>\n      <td>2023</td>\n      <td>2023-09-13</td>\n      <td>taller</td>\n      <td>presencial</td>\n      <td>COSTURA TOALLAS</td>\n      <td>1</td>\n      <td>Bolivia</td>\n      <td>Beni</td>\n      <td>Nacional</td>\n      <td>...</td>\n      <td>0</td>\n      <td>0</td>\n      <td>0</td>\n      <td>210.0</td>\n      <td>vivencia menstrual-ovulatoria</td>\n      <td>1</td>\n      <td>1</td>\n      <td>330.0</td>\n      <td>Proyecto Social Jasaye y Aptapi Jopueti</td>\n      <td>0</td>\n    </tr>\n    <tr>\n      <th>46</th>\n      <td>47.0</td>\n      <td>2023</td>\n      <td>2023-06-20</td>\n      <td>taller</td>\n      <td>presencial</td>\n      <td>COLE</td>\n      <td>1</td>\n      <td>Bolivia</td>\n      <td>Beni</td>\n      <td>Nacional</td>\n      <td>...</td>\n      <td>0</td>\n      <td>0</td>\n      <td>0</td>\n      <td>210.0</td>\n      <td>vivencia menstrual-ovulatoria</td>\n      <td>1</td>\n      <td>0</td>\n      <td>330.0</td>\n      <td>Proyecto Social Jasaye</td>\n      <td>0</td>\n    </tr>\n  </tbody>\n</table>\n<p>11 rows × 32 columns</p>\n</div>"
     },
     "execution_count": 375,
     "metadata": {},
     "output_type": "execute_result"
    }
   ],
   "source": [
    "#Santa Rosa Yacuma should be replaced with Santa Rosa del Yacuma\n",
    "df_yawar_c[df_yawar_c['localidad']=='Santa Rosa Yacuma']"
   ],
   "metadata": {
    "collapsed": false,
    "ExecuteTime": {
     "end_time": "2024-04-16T21:48:12.215752100Z",
     "start_time": "2024-04-16T21:48:12.141295700Z"
    }
   },
   "id": "920c4bd2bf177448"
  },
  {
   "cell_type": "code",
   "execution_count": 376,
   "outputs": [],
   "source": [
    "df_yawar_c.loc[df_yawar_c['localidad']=='Santa Rosa Yacuma','localidad']='Santa Rosa del Yacuma'"
   ],
   "metadata": {
    "collapsed": false,
    "ExecuteTime": {
     "end_time": "2024-04-16T21:48:16.684503Z",
     "start_time": "2024-04-16T21:48:16.654691200Z"
    }
   },
   "id": "cd1661f2734e9c80"
  },
  {
   "cell_type": "code",
   "execution_count": 378,
   "outputs": [
    {
     "data": {
      "text/plain": "Empty DataFrame\nColumns: [#, año, fecha, tipo_actividad, formato, actividad, cantidad, pais, ciudad, alcance, localidad, lugar, tipodearea, tipodeestablecimiento, personasalcanzadas_cant, edad, poblacion, vulnerabilidad, dotacióninsumos, toallasdesechables, copasmenstruales, toallasreutilizables, calzonesmenstruales, kit_insumos_gestiónmenstrual, qipusmenstruales, expo_duracion, tematicataller, personal, voluntarias, expo_tiempo_elabtaller, org_apoyo, toallasdesechablesa]\nIndex: []\n\n[0 rows x 32 columns]",
      "text/html": "<div>\n<style scoped>\n    .dataframe tbody tr th:only-of-type {\n        vertical-align: middle;\n    }\n\n    .dataframe tbody tr th {\n        vertical-align: top;\n    }\n\n    .dataframe thead th {\n        text-align: right;\n    }\n</style>\n<table border=\"1\" class=\"dataframe\">\n  <thead>\n    <tr style=\"text-align: right;\">\n      <th></th>\n      <th>#</th>\n      <th>año</th>\n      <th>fecha</th>\n      <th>tipo_actividad</th>\n      <th>formato</th>\n      <th>actividad</th>\n      <th>cantidad</th>\n      <th>pais</th>\n      <th>ciudad</th>\n      <th>alcance</th>\n      <th>...</th>\n      <th>calzonesmenstruales</th>\n      <th>kit_insumos_gestiónmenstrual</th>\n      <th>qipusmenstruales</th>\n      <th>expo_duracion</th>\n      <th>tematicataller</th>\n      <th>personal</th>\n      <th>voluntarias</th>\n      <th>expo_tiempo_elabtaller</th>\n      <th>org_apoyo</th>\n      <th>toallasdesechablesa</th>\n    </tr>\n  </thead>\n  <tbody>\n  </tbody>\n</table>\n<p>0 rows × 32 columns</p>\n</div>"
     },
     "execution_count": 378,
     "metadata": {},
     "output_type": "execute_result"
    }
   ],
   "source": [
    "# La Paz is a 'ciudad' not a 'localidad'\n",
    "df_yawar_c[(df_yawar_c['localidad']=='La Paz') & (df_yawar_c['ciudad']=='El Alto')]"
   ],
   "metadata": {
    "collapsed": false,
    "ExecuteTime": {
     "end_time": "2024-04-16T21:48:39.512463600Z",
     "start_time": "2024-04-16T21:48:39.483238900Z"
    }
   },
   "id": "bf225961e7674901"
  },
  {
   "cell_type": "code",
   "execution_count": 379,
   "outputs": [],
   "source": [
    "df_yawar_c.loc[(df_yawar_c['localidad']=='La Paz') & (df_yawar_c['ciudad']=='El Alto'),'localidad']='El Alto'"
   ],
   "metadata": {
    "collapsed": false,
    "ExecuteTime": {
     "end_time": "2024-04-16T21:48:42.203681700Z",
     "start_time": "2024-04-16T21:48:42.168340300Z"
    }
   },
   "id": "b1f67e794af29df5"
  },
  {
   "cell_type": "code",
   "execution_count": 380,
   "outputs": [],
   "source": [
    "# For 'El Alto' as localidad then city is 'La Paz'\n",
    "df_yawar_c.loc[(df_yawar_c['localidad']=='El Alto'),'ciudad']='La Paz'"
   ],
   "metadata": {
    "collapsed": false,
    "ExecuteTime": {
     "end_time": "2024-04-16T21:48:46.675968Z",
     "start_time": "2024-04-16T21:48:46.623288400Z"
    }
   },
   "id": "a3ebab1844034f83"
  },
  {
   "cell_type": "code",
   "execution_count": 381,
   "outputs": [],
   "source": [
    "#Plan 3000 is part of santa cruz de la sierra\n",
    "df_yawar_c.loc[(df_yawar_c['localidad']=='Plan 3000'),'localidad']='Santa Cruz de la Sierra'"
   ],
   "metadata": {
    "collapsed": false,
    "ExecuteTime": {
     "end_time": "2024-04-16T21:48:54.366958100Z",
     "start_time": "2024-04-16T21:48:54.311972700Z"
    }
   },
   "id": "df7490a2f92d2cfe"
  },
  {
   "cell_type": "code",
   "execution_count": 382,
   "outputs": [],
   "source": [
    "#Distrito 6 Sucre is part of Sucre\n",
    "df_yawar_c.loc[(df_yawar_c['localidad']=='distrito 6 Sucre'),'localidad']='Sucre'"
   ],
   "metadata": {
    "collapsed": false,
    "ExecuteTime": {
     "end_time": "2024-04-16T21:48:56.763464200Z",
     "start_time": "2024-04-16T21:48:56.722369500Z"
    }
   },
   "id": "7c71cec956dea2d8"
  },
  {
   "cell_type": "code",
   "execution_count": 383,
   "outputs": [
    {
     "data": {
      "text/plain": "       #   año      fecha          tipo_actividad     formato  \\\n79  79.0  2023 2023-03-22  medios de comunicacion  presencial   \n80  80.0  2023 2023-09-16  medios de comunicacion  presencial   \n81  81.0  2022 2022-04-13  medios de comunicacion     virtual   \n82  82.0  2022 2022-07-19  medios de comunicacion     virtual   \n83  83.0  2022 2022-05-27  medios de comunicacion     virtual   \n\n          actividad  cantidad     pais  ciudad        alcance  ...  \\\n79      Agencia EFE         1  Bolivia     N/A  Internacional  ...   \n80   Nacer Mujer TV         1  Bolivia  La Paz       Nacional  ...   \n81      Adich Radio         1  Bolivia   Sucre       Nacional  ...   \n82      Adich Radio         1  Bolivia   Sucre       Nacional  ...   \n83  radio Encuentro         1  Bolivia   Sucre       Nacional  ...   \n\n   calzonesmenstruales kit_insumos_gestiónmenstrual qipusmenstruales  \\\n79                   0                            0                0   \n80                   0                            0                0   \n81                   0                            0                0   \n82                   0                            0                0   \n83                   0                            0                0   \n\n   expo_duracion  tematicataller personal voluntarias expo_tiempo_elabtaller  \\\n79           0.0             N/A        1           0                    0.0   \n80           0.0             N/A        1           0                    0.0   \n81           0.0             N/A        1           0                    0.0   \n82           0.0             N/A        1           0                    0.0   \n83           0.0             N/A        1           0                    0.0   \n\n   org_apoyo  toallasdesechablesa  \n79   Ninguno                    0  \n80   Ninguno                    0  \n81   Ninguno                    0  \n82   Ninguno                    0  \n83   Ninguno                    0  \n\n[5 rows x 32 columns]",
      "text/html": "<div>\n<style scoped>\n    .dataframe tbody tr th:only-of-type {\n        vertical-align: middle;\n    }\n\n    .dataframe tbody tr th {\n        vertical-align: top;\n    }\n\n    .dataframe thead th {\n        text-align: right;\n    }\n</style>\n<table border=\"1\" class=\"dataframe\">\n  <thead>\n    <tr style=\"text-align: right;\">\n      <th></th>\n      <th>#</th>\n      <th>año</th>\n      <th>fecha</th>\n      <th>tipo_actividad</th>\n      <th>formato</th>\n      <th>actividad</th>\n      <th>cantidad</th>\n      <th>pais</th>\n      <th>ciudad</th>\n      <th>alcance</th>\n      <th>...</th>\n      <th>calzonesmenstruales</th>\n      <th>kit_insumos_gestiónmenstrual</th>\n      <th>qipusmenstruales</th>\n      <th>expo_duracion</th>\n      <th>tematicataller</th>\n      <th>personal</th>\n      <th>voluntarias</th>\n      <th>expo_tiempo_elabtaller</th>\n      <th>org_apoyo</th>\n      <th>toallasdesechablesa</th>\n    </tr>\n  </thead>\n  <tbody>\n    <tr>\n      <th>79</th>\n      <td>79.0</td>\n      <td>2023</td>\n      <td>2023-03-22</td>\n      <td>medios de comunicacion</td>\n      <td>presencial</td>\n      <td>Agencia EFE</td>\n      <td>1</td>\n      <td>Bolivia</td>\n      <td>N/A</td>\n      <td>Internacional</td>\n      <td>...</td>\n      <td>0</td>\n      <td>0</td>\n      <td>0</td>\n      <td>0.0</td>\n      <td>N/A</td>\n      <td>1</td>\n      <td>0</td>\n      <td>0.0</td>\n      <td>Ninguno</td>\n      <td>0</td>\n    </tr>\n    <tr>\n      <th>80</th>\n      <td>80.0</td>\n      <td>2023</td>\n      <td>2023-09-16</td>\n      <td>medios de comunicacion</td>\n      <td>presencial</td>\n      <td>Nacer Mujer TV</td>\n      <td>1</td>\n      <td>Bolivia</td>\n      <td>La Paz</td>\n      <td>Nacional</td>\n      <td>...</td>\n      <td>0</td>\n      <td>0</td>\n      <td>0</td>\n      <td>0.0</td>\n      <td>N/A</td>\n      <td>1</td>\n      <td>0</td>\n      <td>0.0</td>\n      <td>Ninguno</td>\n      <td>0</td>\n    </tr>\n    <tr>\n      <th>81</th>\n      <td>81.0</td>\n      <td>2022</td>\n      <td>2022-04-13</td>\n      <td>medios de comunicacion</td>\n      <td>virtual</td>\n      <td>Adich Radio</td>\n      <td>1</td>\n      <td>Bolivia</td>\n      <td>Sucre</td>\n      <td>Nacional</td>\n      <td>...</td>\n      <td>0</td>\n      <td>0</td>\n      <td>0</td>\n      <td>0.0</td>\n      <td>N/A</td>\n      <td>1</td>\n      <td>0</td>\n      <td>0.0</td>\n      <td>Ninguno</td>\n      <td>0</td>\n    </tr>\n    <tr>\n      <th>82</th>\n      <td>82.0</td>\n      <td>2022</td>\n      <td>2022-07-19</td>\n      <td>medios de comunicacion</td>\n      <td>virtual</td>\n      <td>Adich Radio</td>\n      <td>1</td>\n      <td>Bolivia</td>\n      <td>Sucre</td>\n      <td>Nacional</td>\n      <td>...</td>\n      <td>0</td>\n      <td>0</td>\n      <td>0</td>\n      <td>0.0</td>\n      <td>N/A</td>\n      <td>1</td>\n      <td>0</td>\n      <td>0.0</td>\n      <td>Ninguno</td>\n      <td>0</td>\n    </tr>\n    <tr>\n      <th>83</th>\n      <td>83.0</td>\n      <td>2022</td>\n      <td>2022-05-27</td>\n      <td>medios de comunicacion</td>\n      <td>virtual</td>\n      <td>radio Encuentro</td>\n      <td>1</td>\n      <td>Bolivia</td>\n      <td>Sucre</td>\n      <td>Nacional</td>\n      <td>...</td>\n      <td>0</td>\n      <td>0</td>\n      <td>0</td>\n      <td>0.0</td>\n      <td>N/A</td>\n      <td>1</td>\n      <td>0</td>\n      <td>0.0</td>\n      <td>Ninguno</td>\n      <td>0</td>\n    </tr>\n  </tbody>\n</table>\n<p>5 rows × 32 columns</p>\n</div>"
     },
     "execution_count": 383,
     "metadata": {},
     "output_type": "execute_result"
    }
   ],
   "source": [
    "df_yawar_c.tail()"
   ],
   "metadata": {
    "collapsed": false,
    "ExecuteTime": {
     "end_time": "2024-04-16T21:48:59.320276500Z",
     "start_time": "2024-04-16T21:48:59.235583800Z"
    }
   },
   "id": "7d8d61fe3798b731"
  },
  {
   "cell_type": "markdown",
   "source": [
    "'lugar' column"
   ],
   "metadata": {
    "collapsed": false
   },
   "id": "a60baccb56d67d5f"
  },
  {
   "cell_type": "code",
   "execution_count": 384,
   "outputs": [
    {
     "data": {
      "text/plain": "lugar\nN/A                                          24\ndiversas ciudades                            14\nInstalaciones PSJ                            11\nEl Alto                                       6\nUNIFRANZ EL ALTO                              2\nPenal Juvenil                                 2\nCafé AMTA                                     1\nCasa Carmen                                   1\nAustralia, Melbourne                          1\nMicelio                                       1\nCERPI                                         1\nMercado central                               1\nCERPI y Mercado Central                       1\nRio Selva                                     1\nUniversidad Gabriel René Moreno               1\nMéxico                                        1\nUNIFRANZ                                      1\nHogar de acogida                              1\nInstalaciones CIES                            1\nCentro de Rehabilitación Palmasola            1\nCentro de Salud Alonso Gutierrez              1\ndomicilio privado                             1\nInstalaciones Etta                            1\nUMSA                                          1\nSamay Wasi                                    1\nInstalaciones Etta Project                    1\nInstalaciones CERPI Escuelita Móvil           1\nInstalaciones CERPI                           1\nInstalaciones Fundación Munasim Kullakita     1\nTeatro Trono                                  1\nCasa Carmencita                               1\nName: count, dtype: int64"
     },
     "execution_count": 384,
     "metadata": {},
     "output_type": "execute_result"
    }
   ],
   "source": [
    "df_yawar_c['lugar'].value_counts()"
   ],
   "metadata": {
    "collapsed": false,
    "ExecuteTime": {
     "end_time": "2024-04-16T21:49:03.474645200Z",
     "start_time": "2024-04-16T21:49:03.440575700Z"
    }
   },
   "id": "9ba17f52a22d4451"
  },
  {
   "cell_type": "code",
   "execution_count": 385,
   "outputs": [
    {
     "data": {
      "text/plain": "       #   año      fecha        tipo_actividad     formato  \\\n0    1.0  2022 2022-03-10                taller  presencial   \n1    2.0  2022 2022-04-09                taller  presencial   \n2    3.0  2022 2022-07-07                taller  presencial   \n3    4.0  2022 2022-07-08                taller  presencial   \n4    5.0  2022 2022-07-09                taller  presencial   \n5    6.0  2022 2023-09-06                taller  presencial   \n6    7.0  2022 2022-09-08                taller  presencial   \n7    8.0  2022 2022-09-12                taller  presencial   \n8    9.0  2022 2022-09-15                taller  presencial   \n9   10.0  2022 2022-06-24                taller     virtual   \n10  11.0  2022 2022-04-14                taller     virtual   \n11  12.0  2022 2022-05-04                taller     virtual   \n12  13.0  2022 2022-05-24                taller     virtual   \n13  14.0  2022 2022-06-22                taller     virtual   \n14  15.0  2022 2022-07-02                taller     virtual   \n15  16.0  2022 2022-06-28                taller  presencial   \n16  17.0  2022 2022-06-29                taller  presencial   \n17  18.0  2022 2022-08-26                taller  presencial   \n18  19.0  2022 2022-11-05                taller  presencial   \n19  20.0  2022 2022-11-06                taller  presencial   \n20  21.0  2022 2022-08-14                taller  presencial   \n21  22.0  2022 2022-02-10                taller     virtual   \n22  23.0  2022 2022-03-03                taller     virtual   \n23  24.0  2022 2022-03-24                taller     virtual   \n24  25.0  2022 2022-04-14                taller     virtual   \n25  26.0  2022 2022-05-04                taller     virtual   \n26  27.0  2022 2022-05-24                taller     virtual   \n27  28.0  2022 2022-06-10                taller     virtual   \n28  29.0  2022 2022-06-22                taller     virtual   \n29  30.0  2022 2022-09-24                taller     virtual   \n30  31.0  2022 2022-09-28                taller     virtual   \n31  32.0  2022 2022-10-05                taller     virtual   \n32  33.0  2022 2022-10-12                taller     virtual   \n33  34.0  2023 2022-02-24                taller  presencial   \n34  35.0  2023 2023-03-01                taller  presencial   \n35  36.0  2023 2023-03-06                taller  presencial   \n36  37.0  2023 2023-03-09                taller  presencial   \n37  38.0  2023 2023-03-11                taller  presencial   \n38  39.0  2023 2023-03-30                taller     virtual   \n39  40.0  2023 2023-04-19                taller     virtual   \n40  41.0  2023 2023-03-26                taller  presencial   \n41  42.0  2023 2023-05-26                taller  presencial   \n42  43.0  2023 2023-04-20                taller  presencial   \n43  44.0  2023 2023-06-17                taller  presencial   \n44  45.0  2023 2023-06-24                taller  presencial   \n45  46.0  2023 2023-09-13                taller  presencial   \n46  47.0  2023 2023-06-20                taller  presencial   \n47  48.0  2023 2023-11-02                taller  presencial   \n48  49.0  2023 2023-01-11                taller  presencial   \n49   NaN  2024 2024-04-13                taller  presencial   \n51  51.0  2023 2023-09-28              difusion  presencial   \n53  53.0  2021 2021-02-06  artistica y cultural  presencial   \n54  54.0  2021 2021-03-26  artistica y cultural  presencial   \n56  56.0  2022 2022-01-10  artistica y cultural  presencial   \n58  58.0  2023 2023-05-28  artistica y cultural  presencial   \n59  59.0  2023 2024-05-23  artistica y cultural  presencial   \n60  60.0  2023 2024-05-23         conversatorio  presencial   \n61  61.0  2022 2022-05-28         conversatorio     virtual   \n62  62.0  2022 2022-06-14         conversatorio     virtual   \n63  63.0  2023 2023-05-18  artistica y cultural  presencial   \n\n                                            actividad  cantidad       pais  \\\n0                           1er encuentro voluntarias         1    Bolivia   \n1                           Taller: qué es ser joven?         1    Bolivia   \n2                                         ALTO ALDEAS         1    Bolivia   \n3                                         ALTO ALDEAS         1    Bolivia   \n4                                         ALTO MAPAKI         1    Bolivia   \n5                              PROYECTO SOCIAL JASAYÉ         1    Bolivia   \n6                              PROYECTO SOCIAL JASAYÉ         1    Bolivia   \n7                              PROYECTO SOCIAL JASAYÉ         1    Bolivia   \n8                              PROYECTO SOCIAL JASAYÉ         1    Bolivia   \n9                                   ESCUELITA VIRTUAL         1    Bolivia   \n10                                ESCUELITA VIRTUAL 2         1    Bolivia   \n11                                ESCUELITA VIRTUAL 3         1    Bolivia   \n12                                ESCUELITA VIRTUAL 4         1    Bolivia   \n13                                ESCUELITA VIRTUAL 5         1    Bolivia   \n14                                ESCUELITA VIRTUAL 6         1    Bolivia   \n15                                 RECLUSAS JUVENILES         1    Bolivia   \n16                                 RECLUSAS JUVENILES         1    Bolivia   \n17                                       MAPAKI SUCRE         1    Bolivia   \n18                                        CERPI SUCRE         1    Bolivia   \n19                                        CERPI SUCRE         1    Bolivia   \n20                                      ETTA Projects         1    Bolivia   \n21                                  Voluntarias Yawar         1    Bolivia   \n22                                  Voluntarias Yawar         1    Bolivia   \n23                                  Voluntarias Yawar         1    Bolivia   \n24                                  Voluntarias Yawar         1    Bolivia   \n25                                  Voluntarias Yawar         1    Bolivia   \n26                                  Voluntarias Yawar         1    Bolivia   \n27                                  Voluntarias Yawar         1    Bolivia   \n28                                  Voluntarias Yawar         1    Bolivia   \n29                                  Voluntarias Yawar         1    Bolivia   \n30                                  Voluntarias Yawar         1    Bolivia   \n31                                  Voluntarias Yawar         1    Bolivia   \n32                                  Voluntarias Yawar         1    Bolivia   \n33                                           DRAGONAS         1    Bolivia   \n34                             PROYECTO SOCIAL JASAYÉ         1    Bolivia   \n35                             PROYECTO SOCIAL JASAYÉ         1    Bolivia   \n36                             PROYECTO SOCIAL JASAYÉ         1    Bolivia   \n37                                MUJERES DIVERSAS LP         1    Bolivia   \n38                                       Rapsistencia         1    Bolivia   \n39                                    Mujeres Montaña         1    Bolivia   \n40                              ETTA -Costura Toallas         1    Bolivia   \n41                                               CIES         1    Bolivia   \n42                                           ETTA ACS         1    Bolivia   \n43                                                 UE         1    Bolivia   \n44                                              MAMAS         1    Bolivia   \n45                                    COSTURA TOALLAS         1    Bolivia   \n46                                               COLE         1    Bolivia   \n47                                          PALMASOLA         1    Bolivia   \n48                                               CIES         1    Bolivia   \n49                                             Taller         1    Bolivia   \n51    Feria Bulliciosa de la Campaña 28 de Septiembre         1    Bolivia   \n53  Un evento de Zumba y conversatorio para recaud...         1  Australia   \n54  Yawar Twerk, taller de twerk para recaudar fondos         1    Bolivia   \n56  Elaboración de un mural menstrual, de 30 metro...         1    Bolivia   \n58  Un hip hop menstrual con su videoclip en el mural         1    Bolivia   \n59     Performance artística de danza y poesía, Sucre         1    Bolivia   \n60  Conversatorio UAGRAM en conmemoración del día ...         1    Bolivia   \n61  Conversatorio: \\nLA DESIGUALDAD MENSTRUAL Y EL...         1    Bolivia   \n62  Conversatorio UNIFRANZ: Viviendo la Menstruaci...         1    Bolivia   \n63                Participación en la Noche de Museos         1    Bolivia   \n\n                     ciudad        alcance  ... calzonesmenstruales  \\\n0                    La Paz       Nacional  ...                   0   \n1                    La Paz       Nacional  ...                   0   \n2                    La Paz       Nacional  ...                   0   \n3                    La Paz       Nacional  ...                   1   \n4                    La Paz       Nacional  ...                   0   \n5                      Beni       Nacional  ...                   0   \n6                      Beni       Nacional  ...                   0   \n7                      Beni       Nacional  ...                   0   \n8                      Beni       Nacional  ...                   0   \n9                    La Paz       Nacional  ...                   0   \n10                   La Paz       Nacional  ...                   0   \n11                   La Paz       Nacional  ...                   0   \n12                   La Paz       Nacional  ...                   0   \n13                   La Paz       Nacional  ...                   0   \n14                   La Paz       Nacional  ...                   0   \n15  Santa Cruz de la Sierra       Nacional  ...                   0   \n16  Santa Cruz de la Sierra       Nacional  ...                   0   \n17                    Sucre       Nacional  ...                   0   \n18                    Sucre       Nacional  ...                   0   \n19                    Sucre       Nacional  ...                   0   \n20  Santa Cruz de la Sierra       Nacional  ...                   0   \n21                   La Paz       Nacional  ...                   0   \n22                   La Paz       Nacional  ...                   0   \n23                   La Paz       Nacional  ...                   0   \n24                   La Paz       Nacional  ...                   0   \n25                   La Paz       Nacional  ...                   0   \n26                   La Paz       Nacional  ...                   0   \n27                   La Paz       Nacional  ...                   0   \n28                   La Paz       Nacional  ...                   0   \n29                      N/A       Nacional  ...                   0   \n30                      N/A       Nacional  ...                   0   \n31                      N/A       Nacional  ...                   0   \n32                      N/A  Internacional  ...                   0   \n33               Cochabamba  Internacional  ...                   0   \n34                     Beni       Nacional  ...                   0   \n35                     Beni       Nacional  ...                   0   \n36                     Beni       Nacional  ...                   0   \n37                   La Paz       Nacional  ...                   0   \n38                      N/A       Nacional  ...                   0   \n39                      N/A       Nacional  ...                   0   \n40              Buena Vista       Nacional  ...                   0   \n41  Santa Cruz de la Sierra       Nacional  ...                   0   \n42  Santa Cruz de la Sierra       Nacional  ...                   0   \n43                     Beni       Nacional  ...                   0   \n44                     Beni       Nacional  ...                   0   \n45                     Beni       Nacional  ...                   0   \n46                     Beni       Nacional  ...                   0   \n47  Santa Cruz de la Sierra       Nacional  ...                   0   \n48                   La Paz       Nacional  ...                   0   \n49                   La Paz       Nacional  ...                   0   \n51  Santa Cruz de la Sierra       Nacional  ...                   0   \n53                Melbourne  Internacional  ...                   0   \n54                    Sucre       Nacional  ...                   0   \n56                    Sucre       Nacional  ...                   0   \n58                    Sucre       Nacional  ...                   0   \n59                    Sucre       Nacional  ...                   0   \n60  Santa Cruz de la Sierra       Nacional  ...                   0   \n61            Internacional  Internacional  ...                   0   \n62                   La Paz       Nacional  ...                   0   \n63  Santa Cruz de la Sierra       Nacional  ...                   0   \n\n   kit_insumos_gestiónmenstrual qipusmenstruales expo_duracion  \\\n0                             0                0         210.0   \n1                             0                0         210.0   \n2                            20                0         210.0   \n3                            17                0         210.0   \n4                             0                0         210.0   \n5                             0                0         210.0   \n6                             0                0         210.0   \n7                             0                0         210.0   \n8                             0                0         210.0   \n9                             0                0         210.0   \n10                            0                0         210.0   \n11                            0                0         210.0   \n12                            0                0         210.0   \n13                            0                0         210.0   \n14                            0                0         210.0   \n15                            0                0         210.0   \n16                            0                0         210.0   \n17                            0                0         210.0   \n18                            0                0         210.0   \n19                            0                0           0.0   \n20                           25                0         210.0   \n21                            0                0         210.0   \n22                            0                0         210.0   \n23                            0                0         210.0   \n24                            0                0         210.0   \n25                            0                0         210.0   \n26                            0                0         210.0   \n27                            0                0         210.0   \n28                            0                0         210.0   \n29                            0                0         210.0   \n30                            0                0         210.0   \n31                            0                0         210.0   \n32                            0                0         210.0   \n33                            0                0         420.0   \n34                            0                0         210.0   \n35                            0                0         210.0   \n36                            0                0         210.0   \n37                            0                0         210.0   \n38                            0                0         210.0   \n39                            0                0         210.0   \n40                           26                0         210.0   \n41                            0                0         210.0   \n42                           27                0         210.0   \n43                            0                0         210.0   \n44                            0                0         210.0   \n45                            0                0         210.0   \n46                            0                0         210.0   \n47                           15                0         210.0   \n48                            0                0         210.0   \n49                            0               26         210.0   \n51                            0                0           0.0   \n53                            0                0           0.0   \n54                            0                0           0.0   \n56                            0                0           0.0   \n58                            0                0           0.0   \n59                            0                0           0.0   \n60                            0                0           0.0   \n61                            0                0           0.0   \n62                            0                0           0.0   \n63                            0                0           0.0   \n\n                                       tematicataller personal voluntarias  \\\n0           historia de nuestra sexualidad y anatomia        1           0   \n1                                   Qué es ser joven?        2           0   \n2                       vivencia menstrual-ovulatoria        1           5   \n3                       vivencia menstrual-ovulatoria        1           5   \n4                       vivencia menstrual-ovulatoria        1           3   \n5                       vivencia menstrual-ovulatoria        1           0   \n6                       vivencia menstrual-ovulatoria        1           0   \n7                       vivencia menstrual-ovulatoria        1           0   \n8                       vivencia menstrual-ovulatoria        1           0   \n9           historia de nuestra sexualidad y anatomia        1           0   \n10        ciclo en sus 4 fases: sexualidad y hormonas        1           0   \n11                       insumos de gestión menstrual        1           0   \n12         vivencia menstrual y la pobreza menstrual.        1           0   \n13    gestión menstrual digna para todas las personas        1           0   \n14                                pedagogía menstrual        1           0   \n15          preparación talleres presenciales El Alto        1           1   \n16                      vivencia menstrual-ovulatoria        1           0   \n17                      vivencia menstrual-ovulatoria        1           3   \n18                      vivencia menstrual-ovulatoria        1           2   \n19                             elaboración de toallas        2           1   \n20                      vivencia menstrual-ovulatoria        1           0   \n21                      vivencia menstrual-ovulatoria        1           6   \n22                            Poblaciones Vulnerables        1           5   \n23                                     Arte Menstrual        1           5   \n24                 Pubertad, adolescencia y menarquía        1           4   \n25                                  Pobreza menstrual        1           5   \n26                                    Ciclo menstrual        1           5   \n27                                 Políticas Públicas        1           4   \n28                      Gestión y pedagogía menstrual        1           4   \n29                                 Bienvenida a Yawar        1          10   \n30                                 El ciclo menstrual        1          10   \n31                                Activismo menstrual        1          10   \n32                                 Justicia Menstrual        1          10   \n33  vivencia menstrual-ovulatoria y trabajo del Pr...        1           0   \n34                      vivencia menstrual-ovulatoria        1           0   \n35                      vivencia menstrual-ovulatoria        1           0   \n36                      vivencia menstrual-ovulatoria        1           0   \n37                      vivencia menstrual-ovulatoria        1           3   \n38                      vivencia menstrual-ovulatoria        1           0   \n39                      vivencia menstrual-ovulatoria        1           0   \n40                      vivencia menstrual-ovulatoria        1           1   \n41                      vivencia menstrual-ovulatoria        1           1   \n42                      vivencia menstrual-ovulatoria        1           0   \n43                      vivencia menstrual-ovulatoria        1           0   \n44                      vivencia menstrual-ovulatoria        1           0   \n45                      vivencia menstrual-ovulatoria        1           1   \n46                      vivencia menstrual-ovulatoria        1           0   \n47                      vivencia menstrual-ovulatoria        1           0   \n48                      vivencia menstrual-ovulatoria        1           1   \n49  Ciclicidad Menstrual-Ovulatoria y registro del...        2           0   \n51                                                N/A        1           1   \n53                                                N/A        1           0   \n54                                                N/A        1           0   \n56                                                N/A        1           0   \n58                                                N/A        1           0   \n59                                                N/A        1           0   \n60                                                N/A        1           0   \n61                                                N/A        1           0   \n62                                                N/A        1           0   \n63                                                N/A        1           0   \n\n   expo_tiempo_elabtaller                                org_apoyo  \\\n0                   480.0                                       No   \n1                   400.0                                       No   \n2                   480.0                           Aptapi Jopueti   \n3                   480.0                           Aptapi Jopueti   \n4                   480.0                           Aptapi Jopueti   \n5                   330.0                   Proyecto Social Jasayé   \n6                   330.0                   Proyecto Social Jasayé   \n7                   330.0                   Proyecto Social Jasayé   \n8                   330.0                   Proyecto Social Jasayé   \n9                   330.0                                  Ninguno   \n10                  480.0                                  Ninguno   \n11                  480.0                                  Ninguno   \n12                  480.0                                  Ninguno   \n13                  480.0                                  Ninguno   \n14                  480.0                                  Ninguno   \n15                  330.0                                  Ninguno   \n16                  330.0                           Aptapi Jopueti   \n17                  330.0                           Aptapi Jopueti   \n18                  330.0                      Micros para Avanzar   \n19                  330.0                      Micros para Avanzar   \n20                  330.0                            Etta Projects   \n21                  330.0                           Aptapi Jopueti   \n22                  480.0                           Aptapi Jopueti   \n23                  480.0                           Aptapi Jopueti   \n24                  480.0                           Aptapi Jopueti   \n25                  480.0                           Aptapi Jopueti   \n26                  480.0                           Aptapi Jopueti   \n27                  480.0                           Aptapi Jopueti   \n28                  480.0                           Aptapi Jopueti   \n29                  480.0                           Aptapi Jopueti   \n30                  480.0                           Aptapi Jopueti   \n31                  480.0                           Aptapi Jopueti   \n32                  480.0                           Aptapi Jopueti   \n33                  480.0                                 Dragones   \n34                  330.0                   Proyecto Social Jasayé   \n35                  330.0                   Proyecto Social Jasayé   \n36                  330.0                   Proyecto Social Jasayé   \n37                  330.0                           Aptapi Jopueti   \n38                  330.0                           Aptapi Jopueti   \n39                  330.0                           Aptapi Jopueti   \n40                  330.0                            Etta Projects   \n41                  330.0                                  Ninguno   \n42                  330.0                           Aptapi Jopueti   \n43                  330.0                   Proyecto Social Jasaye   \n44                  330.0                   Proyecto Social Jasaye   \n45                  330.0  Proyecto Social Jasaye y Aptapi Jopueti   \n46                  330.0                   Proyecto Social Jasaye   \n47                  330.0                           Aptapi Jopueti   \n48                  330.0                                     CIES   \n49                  400.0                        Munasim Killakita   \n51                    0.0                                  Ninguno   \n53                    0.0                                  Ninguno   \n54                    0.0                                  Ninguno   \n56                    0.0                                  Ninguno   \n58                    0.0                                  Ninguno   \n59                    0.0                                  Ninguno   \n60                    0.0                                  Ninguno   \n61                    0.0                                  Ninguno   \n62                    0.0                                  Ninguno   \n63                    0.0                                  Ninguno   \n\n    toallasdesechablesa  \n0                     0  \n1                     5  \n2                     0  \n3                   100  \n4                    30  \n5                     0  \n6                     0  \n7                     0  \n8                     0  \n9                     0  \n10                    0  \n11                    0  \n12                    0  \n13                    0  \n14                    0  \n15                    0  \n16                    0  \n17                   94  \n18                    0  \n19                    0  \n20                    0  \n21                    0  \n22                    0  \n23                    0  \n24                    0  \n25                    0  \n26                    0  \n27                    0  \n28                    0  \n29                    0  \n30                    0  \n31                    0  \n32                    0  \n33                    0  \n34                    0  \n35                    0  \n36                    0  \n37                    0  \n38                    0  \n39                    0  \n40                    0  \n41                    0  \n42                    0  \n43                    0  \n44                    0  \n45                    0  \n46                    0  \n47                    0  \n48                    0  \n49                    0  \n51                    0  \n53                    0  \n54                    0  \n56                    0  \n58                    0  \n59                    0  \n60                    0  \n61                    0  \n62                    0  \n63                    0  \n\n[60 rows x 32 columns]",
      "text/html": "<div>\n<style scoped>\n    .dataframe tbody tr th:only-of-type {\n        vertical-align: middle;\n    }\n\n    .dataframe tbody tr th {\n        vertical-align: top;\n    }\n\n    .dataframe thead th {\n        text-align: right;\n    }\n</style>\n<table border=\"1\" class=\"dataframe\">\n  <thead>\n    <tr style=\"text-align: right;\">\n      <th></th>\n      <th>#</th>\n      <th>año</th>\n      <th>fecha</th>\n      <th>tipo_actividad</th>\n      <th>formato</th>\n      <th>actividad</th>\n      <th>cantidad</th>\n      <th>pais</th>\n      <th>ciudad</th>\n      <th>alcance</th>\n      <th>...</th>\n      <th>calzonesmenstruales</th>\n      <th>kit_insumos_gestiónmenstrual</th>\n      <th>qipusmenstruales</th>\n      <th>expo_duracion</th>\n      <th>tematicataller</th>\n      <th>personal</th>\n      <th>voluntarias</th>\n      <th>expo_tiempo_elabtaller</th>\n      <th>org_apoyo</th>\n      <th>toallasdesechablesa</th>\n    </tr>\n  </thead>\n  <tbody>\n    <tr>\n      <th>0</th>\n      <td>1.0</td>\n      <td>2022</td>\n      <td>2022-03-10</td>\n      <td>taller</td>\n      <td>presencial</td>\n      <td>1er encuentro voluntarias</td>\n      <td>1</td>\n      <td>Bolivia</td>\n      <td>La Paz</td>\n      <td>Nacional</td>\n      <td>...</td>\n      <td>0</td>\n      <td>0</td>\n      <td>0</td>\n      <td>210.0</td>\n      <td>historia de nuestra sexualidad y anatomia</td>\n      <td>1</td>\n      <td>0</td>\n      <td>480.0</td>\n      <td>No</td>\n      <td>0</td>\n    </tr>\n    <tr>\n      <th>1</th>\n      <td>2.0</td>\n      <td>2022</td>\n      <td>2022-04-09</td>\n      <td>taller</td>\n      <td>presencial</td>\n      <td>Taller: qué es ser joven?</td>\n      <td>1</td>\n      <td>Bolivia</td>\n      <td>La Paz</td>\n      <td>Nacional</td>\n      <td>...</td>\n      <td>0</td>\n      <td>0</td>\n      <td>0</td>\n      <td>210.0</td>\n      <td>Qué es ser joven?</td>\n      <td>2</td>\n      <td>0</td>\n      <td>400.0</td>\n      <td>No</td>\n      <td>5</td>\n    </tr>\n    <tr>\n      <th>2</th>\n      <td>3.0</td>\n      <td>2022</td>\n      <td>2022-07-07</td>\n      <td>taller</td>\n      <td>presencial</td>\n      <td>ALTO ALDEAS</td>\n      <td>1</td>\n      <td>Bolivia</td>\n      <td>La Paz</td>\n      <td>Nacional</td>\n      <td>...</td>\n      <td>0</td>\n      <td>20</td>\n      <td>0</td>\n      <td>210.0</td>\n      <td>vivencia menstrual-ovulatoria</td>\n      <td>1</td>\n      <td>5</td>\n      <td>480.0</td>\n      <td>Aptapi Jopueti</td>\n      <td>0</td>\n    </tr>\n    <tr>\n      <th>3</th>\n      <td>4.0</td>\n      <td>2022</td>\n      <td>2022-07-08</td>\n      <td>taller</td>\n      <td>presencial</td>\n      <td>ALTO ALDEAS</td>\n      <td>1</td>\n      <td>Bolivia</td>\n      <td>La Paz</td>\n      <td>Nacional</td>\n      <td>...</td>\n      <td>1</td>\n      <td>17</td>\n      <td>0</td>\n      <td>210.0</td>\n      <td>vivencia menstrual-ovulatoria</td>\n      <td>1</td>\n      <td>5</td>\n      <td>480.0</td>\n      <td>Aptapi Jopueti</td>\n      <td>100</td>\n    </tr>\n    <tr>\n      <th>4</th>\n      <td>5.0</td>\n      <td>2022</td>\n      <td>2022-07-09</td>\n      <td>taller</td>\n      <td>presencial</td>\n      <td>ALTO MAPAKI</td>\n      <td>1</td>\n      <td>Bolivia</td>\n      <td>La Paz</td>\n      <td>Nacional</td>\n      <td>...</td>\n      <td>0</td>\n      <td>0</td>\n      <td>0</td>\n      <td>210.0</td>\n      <td>vivencia menstrual-ovulatoria</td>\n      <td>1</td>\n      <td>3</td>\n      <td>480.0</td>\n      <td>Aptapi Jopueti</td>\n      <td>30</td>\n    </tr>\n    <tr>\n      <th>5</th>\n      <td>6.0</td>\n      <td>2022</td>\n      <td>2023-09-06</td>\n      <td>taller</td>\n      <td>presencial</td>\n      <td>PROYECTO SOCIAL JASAYÉ</td>\n      <td>1</td>\n      <td>Bolivia</td>\n      <td>Beni</td>\n      <td>Nacional</td>\n      <td>...</td>\n      <td>0</td>\n      <td>0</td>\n      <td>0</td>\n      <td>210.0</td>\n      <td>vivencia menstrual-ovulatoria</td>\n      <td>1</td>\n      <td>0</td>\n      <td>330.0</td>\n      <td>Proyecto Social Jasayé</td>\n      <td>0</td>\n    </tr>\n    <tr>\n      <th>6</th>\n      <td>7.0</td>\n      <td>2022</td>\n      <td>2022-09-08</td>\n      <td>taller</td>\n      <td>presencial</td>\n      <td>PROYECTO SOCIAL JASAYÉ</td>\n      <td>1</td>\n      <td>Bolivia</td>\n      <td>Beni</td>\n      <td>Nacional</td>\n      <td>...</td>\n      <td>0</td>\n      <td>0</td>\n      <td>0</td>\n      <td>210.0</td>\n      <td>vivencia menstrual-ovulatoria</td>\n      <td>1</td>\n      <td>0</td>\n      <td>330.0</td>\n      <td>Proyecto Social Jasayé</td>\n      <td>0</td>\n    </tr>\n    <tr>\n      <th>7</th>\n      <td>8.0</td>\n      <td>2022</td>\n      <td>2022-09-12</td>\n      <td>taller</td>\n      <td>presencial</td>\n      <td>PROYECTO SOCIAL JASAYÉ</td>\n      <td>1</td>\n      <td>Bolivia</td>\n      <td>Beni</td>\n      <td>Nacional</td>\n      <td>...</td>\n      <td>0</td>\n      <td>0</td>\n      <td>0</td>\n      <td>210.0</td>\n      <td>vivencia menstrual-ovulatoria</td>\n      <td>1</td>\n      <td>0</td>\n      <td>330.0</td>\n      <td>Proyecto Social Jasayé</td>\n      <td>0</td>\n    </tr>\n    <tr>\n      <th>8</th>\n      <td>9.0</td>\n      <td>2022</td>\n      <td>2022-09-15</td>\n      <td>taller</td>\n      <td>presencial</td>\n      <td>PROYECTO SOCIAL JASAYÉ</td>\n      <td>1</td>\n      <td>Bolivia</td>\n      <td>Beni</td>\n      <td>Nacional</td>\n      <td>...</td>\n      <td>0</td>\n      <td>0</td>\n      <td>0</td>\n      <td>210.0</td>\n      <td>vivencia menstrual-ovulatoria</td>\n      <td>1</td>\n      <td>0</td>\n      <td>330.0</td>\n      <td>Proyecto Social Jasayé</td>\n      <td>0</td>\n    </tr>\n    <tr>\n      <th>9</th>\n      <td>10.0</td>\n      <td>2022</td>\n      <td>2022-06-24</td>\n      <td>taller</td>\n      <td>virtual</td>\n      <td>ESCUELITA VIRTUAL</td>\n      <td>1</td>\n      <td>Bolivia</td>\n      <td>La Paz</td>\n      <td>Nacional</td>\n      <td>...</td>\n      <td>0</td>\n      <td>0</td>\n      <td>0</td>\n      <td>210.0</td>\n      <td>historia de nuestra sexualidad y anatomia</td>\n      <td>1</td>\n      <td>0</td>\n      <td>330.0</td>\n      <td>Ninguno</td>\n      <td>0</td>\n    </tr>\n    <tr>\n      <th>10</th>\n      <td>11.0</td>\n      <td>2022</td>\n      <td>2022-04-14</td>\n      <td>taller</td>\n      <td>virtual</td>\n      <td>ESCUELITA VIRTUAL 2</td>\n      <td>1</td>\n      <td>Bolivia</td>\n      <td>La Paz</td>\n      <td>Nacional</td>\n      <td>...</td>\n      <td>0</td>\n      <td>0</td>\n      <td>0</td>\n      <td>210.0</td>\n      <td>ciclo en sus 4 fases: sexualidad y hormonas</td>\n      <td>1</td>\n      <td>0</td>\n      <td>480.0</td>\n      <td>Ninguno</td>\n      <td>0</td>\n    </tr>\n    <tr>\n      <th>11</th>\n      <td>12.0</td>\n      <td>2022</td>\n      <td>2022-05-04</td>\n      <td>taller</td>\n      <td>virtual</td>\n      <td>ESCUELITA VIRTUAL 3</td>\n      <td>1</td>\n      <td>Bolivia</td>\n      <td>La Paz</td>\n      <td>Nacional</td>\n      <td>...</td>\n      <td>0</td>\n      <td>0</td>\n      <td>0</td>\n      <td>210.0</td>\n      <td>insumos de gestión menstrual</td>\n      <td>1</td>\n      <td>0</td>\n      <td>480.0</td>\n      <td>Ninguno</td>\n      <td>0</td>\n    </tr>\n    <tr>\n      <th>12</th>\n      <td>13.0</td>\n      <td>2022</td>\n      <td>2022-05-24</td>\n      <td>taller</td>\n      <td>virtual</td>\n      <td>ESCUELITA VIRTUAL 4</td>\n      <td>1</td>\n      <td>Bolivia</td>\n      <td>La Paz</td>\n      <td>Nacional</td>\n      <td>...</td>\n      <td>0</td>\n      <td>0</td>\n      <td>0</td>\n      <td>210.0</td>\n      <td>vivencia menstrual y la pobreza menstrual.</td>\n      <td>1</td>\n      <td>0</td>\n      <td>480.0</td>\n      <td>Ninguno</td>\n      <td>0</td>\n    </tr>\n    <tr>\n      <th>13</th>\n      <td>14.0</td>\n      <td>2022</td>\n      <td>2022-06-22</td>\n      <td>taller</td>\n      <td>virtual</td>\n      <td>ESCUELITA VIRTUAL 5</td>\n      <td>1</td>\n      <td>Bolivia</td>\n      <td>La Paz</td>\n      <td>Nacional</td>\n      <td>...</td>\n      <td>0</td>\n      <td>0</td>\n      <td>0</td>\n      <td>210.0</td>\n      <td>gestión menstrual digna para todas las personas</td>\n      <td>1</td>\n      <td>0</td>\n      <td>480.0</td>\n      <td>Ninguno</td>\n      <td>0</td>\n    </tr>\n    <tr>\n      <th>14</th>\n      <td>15.0</td>\n      <td>2022</td>\n      <td>2022-07-02</td>\n      <td>taller</td>\n      <td>virtual</td>\n      <td>ESCUELITA VIRTUAL 6</td>\n      <td>1</td>\n      <td>Bolivia</td>\n      <td>La Paz</td>\n      <td>Nacional</td>\n      <td>...</td>\n      <td>0</td>\n      <td>0</td>\n      <td>0</td>\n      <td>210.0</td>\n      <td>pedagogía menstrual</td>\n      <td>1</td>\n      <td>0</td>\n      <td>480.0</td>\n      <td>Ninguno</td>\n      <td>0</td>\n    </tr>\n    <tr>\n      <th>15</th>\n      <td>16.0</td>\n      <td>2022</td>\n      <td>2022-06-28</td>\n      <td>taller</td>\n      <td>presencial</td>\n      <td>RECLUSAS JUVENILES</td>\n      <td>1</td>\n      <td>Bolivia</td>\n      <td>Santa Cruz de la Sierra</td>\n      <td>Nacional</td>\n      <td>...</td>\n      <td>0</td>\n      <td>0</td>\n      <td>0</td>\n      <td>210.0</td>\n      <td>preparación talleres presenciales El Alto</td>\n      <td>1</td>\n      <td>1</td>\n      <td>330.0</td>\n      <td>Ninguno</td>\n      <td>0</td>\n    </tr>\n    <tr>\n      <th>16</th>\n      <td>17.0</td>\n      <td>2022</td>\n      <td>2022-06-29</td>\n      <td>taller</td>\n      <td>presencial</td>\n      <td>RECLUSAS JUVENILES</td>\n      <td>1</td>\n      <td>Bolivia</td>\n      <td>Santa Cruz de la Sierra</td>\n      <td>Nacional</td>\n      <td>...</td>\n      <td>0</td>\n      <td>0</td>\n      <td>0</td>\n      <td>210.0</td>\n      <td>vivencia menstrual-ovulatoria</td>\n      <td>1</td>\n      <td>0</td>\n      <td>330.0</td>\n      <td>Aptapi Jopueti</td>\n      <td>0</td>\n    </tr>\n    <tr>\n      <th>17</th>\n      <td>18.0</td>\n      <td>2022</td>\n      <td>2022-08-26</td>\n      <td>taller</td>\n      <td>presencial</td>\n      <td>MAPAKI SUCRE</td>\n      <td>1</td>\n      <td>Bolivia</td>\n      <td>Sucre</td>\n      <td>Nacional</td>\n      <td>...</td>\n      <td>0</td>\n      <td>0</td>\n      <td>0</td>\n      <td>210.0</td>\n      <td>vivencia menstrual-ovulatoria</td>\n      <td>1</td>\n      <td>3</td>\n      <td>330.0</td>\n      <td>Aptapi Jopueti</td>\n      <td>94</td>\n    </tr>\n    <tr>\n      <th>18</th>\n      <td>19.0</td>\n      <td>2022</td>\n      <td>2022-11-05</td>\n      <td>taller</td>\n      <td>presencial</td>\n      <td>CERPI SUCRE</td>\n      <td>1</td>\n      <td>Bolivia</td>\n      <td>Sucre</td>\n      <td>Nacional</td>\n      <td>...</td>\n      <td>0</td>\n      <td>0</td>\n      <td>0</td>\n      <td>210.0</td>\n      <td>vivencia menstrual-ovulatoria</td>\n      <td>1</td>\n      <td>2</td>\n      <td>330.0</td>\n      <td>Micros para Avanzar</td>\n      <td>0</td>\n    </tr>\n    <tr>\n      <th>19</th>\n      <td>20.0</td>\n      <td>2022</td>\n      <td>2022-11-06</td>\n      <td>taller</td>\n      <td>presencial</td>\n      <td>CERPI SUCRE</td>\n      <td>1</td>\n      <td>Bolivia</td>\n      <td>Sucre</td>\n      <td>Nacional</td>\n      <td>...</td>\n      <td>0</td>\n      <td>0</td>\n      <td>0</td>\n      <td>0.0</td>\n      <td>elaboración de toallas</td>\n      <td>2</td>\n      <td>1</td>\n      <td>330.0</td>\n      <td>Micros para Avanzar</td>\n      <td>0</td>\n    </tr>\n    <tr>\n      <th>20</th>\n      <td>21.0</td>\n      <td>2022</td>\n      <td>2022-08-14</td>\n      <td>taller</td>\n      <td>presencial</td>\n      <td>ETTA Projects</td>\n      <td>1</td>\n      <td>Bolivia</td>\n      <td>Santa Cruz de la Sierra</td>\n      <td>Nacional</td>\n      <td>...</td>\n      <td>0</td>\n      <td>25</td>\n      <td>0</td>\n      <td>210.0</td>\n      <td>vivencia menstrual-ovulatoria</td>\n      <td>1</td>\n      <td>0</td>\n      <td>330.0</td>\n      <td>Etta Projects</td>\n      <td>0</td>\n    </tr>\n    <tr>\n      <th>21</th>\n      <td>22.0</td>\n      <td>2022</td>\n      <td>2022-02-10</td>\n      <td>taller</td>\n      <td>virtual</td>\n      <td>Voluntarias Yawar</td>\n      <td>1</td>\n      <td>Bolivia</td>\n      <td>La Paz</td>\n      <td>Nacional</td>\n      <td>...</td>\n      <td>0</td>\n      <td>0</td>\n      <td>0</td>\n      <td>210.0</td>\n      <td>vivencia menstrual-ovulatoria</td>\n      <td>1</td>\n      <td>6</td>\n      <td>330.0</td>\n      <td>Aptapi Jopueti</td>\n      <td>0</td>\n    </tr>\n    <tr>\n      <th>22</th>\n      <td>23.0</td>\n      <td>2022</td>\n      <td>2022-03-03</td>\n      <td>taller</td>\n      <td>virtual</td>\n      <td>Voluntarias Yawar</td>\n      <td>1</td>\n      <td>Bolivia</td>\n      <td>La Paz</td>\n      <td>Nacional</td>\n      <td>...</td>\n      <td>0</td>\n      <td>0</td>\n      <td>0</td>\n      <td>210.0</td>\n      <td>Poblaciones Vulnerables</td>\n      <td>1</td>\n      <td>5</td>\n      <td>480.0</td>\n      <td>Aptapi Jopueti</td>\n      <td>0</td>\n    </tr>\n    <tr>\n      <th>23</th>\n      <td>24.0</td>\n      <td>2022</td>\n      <td>2022-03-24</td>\n      <td>taller</td>\n      <td>virtual</td>\n      <td>Voluntarias Yawar</td>\n      <td>1</td>\n      <td>Bolivia</td>\n      <td>La Paz</td>\n      <td>Nacional</td>\n      <td>...</td>\n      <td>0</td>\n      <td>0</td>\n      <td>0</td>\n      <td>210.0</td>\n      <td>Arte Menstrual</td>\n      <td>1</td>\n      <td>5</td>\n      <td>480.0</td>\n      <td>Aptapi Jopueti</td>\n      <td>0</td>\n    </tr>\n    <tr>\n      <th>24</th>\n      <td>25.0</td>\n      <td>2022</td>\n      <td>2022-04-14</td>\n      <td>taller</td>\n      <td>virtual</td>\n      <td>Voluntarias Yawar</td>\n      <td>1</td>\n      <td>Bolivia</td>\n      <td>La Paz</td>\n      <td>Nacional</td>\n      <td>...</td>\n      <td>0</td>\n      <td>0</td>\n      <td>0</td>\n      <td>210.0</td>\n      <td>Pubertad, adolescencia y menarquía</td>\n      <td>1</td>\n      <td>4</td>\n      <td>480.0</td>\n      <td>Aptapi Jopueti</td>\n      <td>0</td>\n    </tr>\n    <tr>\n      <th>25</th>\n      <td>26.0</td>\n      <td>2022</td>\n      <td>2022-05-04</td>\n      <td>taller</td>\n      <td>virtual</td>\n      <td>Voluntarias Yawar</td>\n      <td>1</td>\n      <td>Bolivia</td>\n      <td>La Paz</td>\n      <td>Nacional</td>\n      <td>...</td>\n      <td>0</td>\n      <td>0</td>\n      <td>0</td>\n      <td>210.0</td>\n      <td>Pobreza menstrual</td>\n      <td>1</td>\n      <td>5</td>\n      <td>480.0</td>\n      <td>Aptapi Jopueti</td>\n      <td>0</td>\n    </tr>\n    <tr>\n      <th>26</th>\n      <td>27.0</td>\n      <td>2022</td>\n      <td>2022-05-24</td>\n      <td>taller</td>\n      <td>virtual</td>\n      <td>Voluntarias Yawar</td>\n      <td>1</td>\n      <td>Bolivia</td>\n      <td>La Paz</td>\n      <td>Nacional</td>\n      <td>...</td>\n      <td>0</td>\n      <td>0</td>\n      <td>0</td>\n      <td>210.0</td>\n      <td>Ciclo menstrual</td>\n      <td>1</td>\n      <td>5</td>\n      <td>480.0</td>\n      <td>Aptapi Jopueti</td>\n      <td>0</td>\n    </tr>\n    <tr>\n      <th>27</th>\n      <td>28.0</td>\n      <td>2022</td>\n      <td>2022-06-10</td>\n      <td>taller</td>\n      <td>virtual</td>\n      <td>Voluntarias Yawar</td>\n      <td>1</td>\n      <td>Bolivia</td>\n      <td>La Paz</td>\n      <td>Nacional</td>\n      <td>...</td>\n      <td>0</td>\n      <td>0</td>\n      <td>0</td>\n      <td>210.0</td>\n      <td>Políticas Públicas</td>\n      <td>1</td>\n      <td>4</td>\n      <td>480.0</td>\n      <td>Aptapi Jopueti</td>\n      <td>0</td>\n    </tr>\n    <tr>\n      <th>28</th>\n      <td>29.0</td>\n      <td>2022</td>\n      <td>2022-06-22</td>\n      <td>taller</td>\n      <td>virtual</td>\n      <td>Voluntarias Yawar</td>\n      <td>1</td>\n      <td>Bolivia</td>\n      <td>La Paz</td>\n      <td>Nacional</td>\n      <td>...</td>\n      <td>0</td>\n      <td>0</td>\n      <td>0</td>\n      <td>210.0</td>\n      <td>Gestión y pedagogía menstrual</td>\n      <td>1</td>\n      <td>4</td>\n      <td>480.0</td>\n      <td>Aptapi Jopueti</td>\n      <td>0</td>\n    </tr>\n    <tr>\n      <th>29</th>\n      <td>30.0</td>\n      <td>2022</td>\n      <td>2022-09-24</td>\n      <td>taller</td>\n      <td>virtual</td>\n      <td>Voluntarias Yawar</td>\n      <td>1</td>\n      <td>Bolivia</td>\n      <td>N/A</td>\n      <td>Nacional</td>\n      <td>...</td>\n      <td>0</td>\n      <td>0</td>\n      <td>0</td>\n      <td>210.0</td>\n      <td>Bienvenida a Yawar</td>\n      <td>1</td>\n      <td>10</td>\n      <td>480.0</td>\n      <td>Aptapi Jopueti</td>\n      <td>0</td>\n    </tr>\n    <tr>\n      <th>30</th>\n      <td>31.0</td>\n      <td>2022</td>\n      <td>2022-09-28</td>\n      <td>taller</td>\n      <td>virtual</td>\n      <td>Voluntarias Yawar</td>\n      <td>1</td>\n      <td>Bolivia</td>\n      <td>N/A</td>\n      <td>Nacional</td>\n      <td>...</td>\n      <td>0</td>\n      <td>0</td>\n      <td>0</td>\n      <td>210.0</td>\n      <td>El ciclo menstrual</td>\n      <td>1</td>\n      <td>10</td>\n      <td>480.0</td>\n      <td>Aptapi Jopueti</td>\n      <td>0</td>\n    </tr>\n    <tr>\n      <th>31</th>\n      <td>32.0</td>\n      <td>2022</td>\n      <td>2022-10-05</td>\n      <td>taller</td>\n      <td>virtual</td>\n      <td>Voluntarias Yawar</td>\n      <td>1</td>\n      <td>Bolivia</td>\n      <td>N/A</td>\n      <td>Nacional</td>\n      <td>...</td>\n      <td>0</td>\n      <td>0</td>\n      <td>0</td>\n      <td>210.0</td>\n      <td>Activismo menstrual</td>\n      <td>1</td>\n      <td>10</td>\n      <td>480.0</td>\n      <td>Aptapi Jopueti</td>\n      <td>0</td>\n    </tr>\n    <tr>\n      <th>32</th>\n      <td>33.0</td>\n      <td>2022</td>\n      <td>2022-10-12</td>\n      <td>taller</td>\n      <td>virtual</td>\n      <td>Voluntarias Yawar</td>\n      <td>1</td>\n      <td>Bolivia</td>\n      <td>N/A</td>\n      <td>Internacional</td>\n      <td>...</td>\n      <td>0</td>\n      <td>0</td>\n      <td>0</td>\n      <td>210.0</td>\n      <td>Justicia Menstrual</td>\n      <td>1</td>\n      <td>10</td>\n      <td>480.0</td>\n      <td>Aptapi Jopueti</td>\n      <td>0</td>\n    </tr>\n    <tr>\n      <th>33</th>\n      <td>34.0</td>\n      <td>2023</td>\n      <td>2022-02-24</td>\n      <td>taller</td>\n      <td>presencial</td>\n      <td>DRAGONAS</td>\n      <td>1</td>\n      <td>Bolivia</td>\n      <td>Cochabamba</td>\n      <td>Internacional</td>\n      <td>...</td>\n      <td>0</td>\n      <td>0</td>\n      <td>0</td>\n      <td>420.0</td>\n      <td>vivencia menstrual-ovulatoria y trabajo del Pr...</td>\n      <td>1</td>\n      <td>0</td>\n      <td>480.0</td>\n      <td>Dragones</td>\n      <td>0</td>\n    </tr>\n    <tr>\n      <th>34</th>\n      <td>35.0</td>\n      <td>2023</td>\n      <td>2023-03-01</td>\n      <td>taller</td>\n      <td>presencial</td>\n      <td>PROYECTO SOCIAL JASAYÉ</td>\n      <td>1</td>\n      <td>Bolivia</td>\n      <td>Beni</td>\n      <td>Nacional</td>\n      <td>...</td>\n      <td>0</td>\n      <td>0</td>\n      <td>0</td>\n      <td>210.0</td>\n      <td>vivencia menstrual-ovulatoria</td>\n      <td>1</td>\n      <td>0</td>\n      <td>330.0</td>\n      <td>Proyecto Social Jasayé</td>\n      <td>0</td>\n    </tr>\n    <tr>\n      <th>35</th>\n      <td>36.0</td>\n      <td>2023</td>\n      <td>2023-03-06</td>\n      <td>taller</td>\n      <td>presencial</td>\n      <td>PROYECTO SOCIAL JASAYÉ</td>\n      <td>1</td>\n      <td>Bolivia</td>\n      <td>Beni</td>\n      <td>Nacional</td>\n      <td>...</td>\n      <td>0</td>\n      <td>0</td>\n      <td>0</td>\n      <td>210.0</td>\n      <td>vivencia menstrual-ovulatoria</td>\n      <td>1</td>\n      <td>0</td>\n      <td>330.0</td>\n      <td>Proyecto Social Jasayé</td>\n      <td>0</td>\n    </tr>\n    <tr>\n      <th>36</th>\n      <td>37.0</td>\n      <td>2023</td>\n      <td>2023-03-09</td>\n      <td>taller</td>\n      <td>presencial</td>\n      <td>PROYECTO SOCIAL JASAYÉ</td>\n      <td>1</td>\n      <td>Bolivia</td>\n      <td>Beni</td>\n      <td>Nacional</td>\n      <td>...</td>\n      <td>0</td>\n      <td>0</td>\n      <td>0</td>\n      <td>210.0</td>\n      <td>vivencia menstrual-ovulatoria</td>\n      <td>1</td>\n      <td>0</td>\n      <td>330.0</td>\n      <td>Proyecto Social Jasayé</td>\n      <td>0</td>\n    </tr>\n    <tr>\n      <th>37</th>\n      <td>38.0</td>\n      <td>2023</td>\n      <td>2023-03-11</td>\n      <td>taller</td>\n      <td>presencial</td>\n      <td>MUJERES DIVERSAS LP</td>\n      <td>1</td>\n      <td>Bolivia</td>\n      <td>La Paz</td>\n      <td>Nacional</td>\n      <td>...</td>\n      <td>0</td>\n      <td>0</td>\n      <td>0</td>\n      <td>210.0</td>\n      <td>vivencia menstrual-ovulatoria</td>\n      <td>1</td>\n      <td>3</td>\n      <td>330.0</td>\n      <td>Aptapi Jopueti</td>\n      <td>0</td>\n    </tr>\n    <tr>\n      <th>38</th>\n      <td>39.0</td>\n      <td>2023</td>\n      <td>2023-03-30</td>\n      <td>taller</td>\n      <td>virtual</td>\n      <td>Rapsistencia</td>\n      <td>1</td>\n      <td>Bolivia</td>\n      <td>N/A</td>\n      <td>Nacional</td>\n      <td>...</td>\n      <td>0</td>\n      <td>0</td>\n      <td>0</td>\n      <td>210.0</td>\n      <td>vivencia menstrual-ovulatoria</td>\n      <td>1</td>\n      <td>0</td>\n      <td>330.0</td>\n      <td>Aptapi Jopueti</td>\n      <td>0</td>\n    </tr>\n    <tr>\n      <th>39</th>\n      <td>40.0</td>\n      <td>2023</td>\n      <td>2023-04-19</td>\n      <td>taller</td>\n      <td>virtual</td>\n      <td>Mujeres Montaña</td>\n      <td>1</td>\n      <td>Bolivia</td>\n      <td>N/A</td>\n      <td>Nacional</td>\n      <td>...</td>\n      <td>0</td>\n      <td>0</td>\n      <td>0</td>\n      <td>210.0</td>\n      <td>vivencia menstrual-ovulatoria</td>\n      <td>1</td>\n      <td>0</td>\n      <td>330.0</td>\n      <td>Aptapi Jopueti</td>\n      <td>0</td>\n    </tr>\n    <tr>\n      <th>40</th>\n      <td>41.0</td>\n      <td>2023</td>\n      <td>2023-03-26</td>\n      <td>taller</td>\n      <td>presencial</td>\n      <td>ETTA -Costura Toallas</td>\n      <td>1</td>\n      <td>Bolivia</td>\n      <td>Buena Vista</td>\n      <td>Nacional</td>\n      <td>...</td>\n      <td>0</td>\n      <td>26</td>\n      <td>0</td>\n      <td>210.0</td>\n      <td>vivencia menstrual-ovulatoria</td>\n      <td>1</td>\n      <td>1</td>\n      <td>330.0</td>\n      <td>Etta Projects</td>\n      <td>0</td>\n    </tr>\n    <tr>\n      <th>41</th>\n      <td>42.0</td>\n      <td>2023</td>\n      <td>2023-05-26</td>\n      <td>taller</td>\n      <td>presencial</td>\n      <td>CIES</td>\n      <td>1</td>\n      <td>Bolivia</td>\n      <td>Santa Cruz de la Sierra</td>\n      <td>Nacional</td>\n      <td>...</td>\n      <td>0</td>\n      <td>0</td>\n      <td>0</td>\n      <td>210.0</td>\n      <td>vivencia menstrual-ovulatoria</td>\n      <td>1</td>\n      <td>1</td>\n      <td>330.0</td>\n      <td>Ninguno</td>\n      <td>0</td>\n    </tr>\n    <tr>\n      <th>42</th>\n      <td>43.0</td>\n      <td>2023</td>\n      <td>2023-04-20</td>\n      <td>taller</td>\n      <td>presencial</td>\n      <td>ETTA ACS</td>\n      <td>1</td>\n      <td>Bolivia</td>\n      <td>Santa Cruz de la Sierra</td>\n      <td>Nacional</td>\n      <td>...</td>\n      <td>0</td>\n      <td>27</td>\n      <td>0</td>\n      <td>210.0</td>\n      <td>vivencia menstrual-ovulatoria</td>\n      <td>1</td>\n      <td>0</td>\n      <td>330.0</td>\n      <td>Aptapi Jopueti</td>\n      <td>0</td>\n    </tr>\n    <tr>\n      <th>43</th>\n      <td>44.0</td>\n      <td>2023</td>\n      <td>2023-06-17</td>\n      <td>taller</td>\n      <td>presencial</td>\n      <td>UE</td>\n      <td>1</td>\n      <td>Bolivia</td>\n      <td>Beni</td>\n      <td>Nacional</td>\n      <td>...</td>\n      <td>0</td>\n      <td>0</td>\n      <td>0</td>\n      <td>210.0</td>\n      <td>vivencia menstrual-ovulatoria</td>\n      <td>1</td>\n      <td>0</td>\n      <td>330.0</td>\n      <td>Proyecto Social Jasaye</td>\n      <td>0</td>\n    </tr>\n    <tr>\n      <th>44</th>\n      <td>45.0</td>\n      <td>2023</td>\n      <td>2023-06-24</td>\n      <td>taller</td>\n      <td>presencial</td>\n      <td>MAMAS</td>\n      <td>1</td>\n      <td>Bolivia</td>\n      <td>Beni</td>\n      <td>Nacional</td>\n      <td>...</td>\n      <td>0</td>\n      <td>0</td>\n      <td>0</td>\n      <td>210.0</td>\n      <td>vivencia menstrual-ovulatoria</td>\n      <td>1</td>\n      <td>0</td>\n      <td>330.0</td>\n      <td>Proyecto Social Jasaye</td>\n      <td>0</td>\n    </tr>\n    <tr>\n      <th>45</th>\n      <td>46.0</td>\n      <td>2023</td>\n      <td>2023-09-13</td>\n      <td>taller</td>\n      <td>presencial</td>\n      <td>COSTURA TOALLAS</td>\n      <td>1</td>\n      <td>Bolivia</td>\n      <td>Beni</td>\n      <td>Nacional</td>\n      <td>...</td>\n      <td>0</td>\n      <td>0</td>\n      <td>0</td>\n      <td>210.0</td>\n      <td>vivencia menstrual-ovulatoria</td>\n      <td>1</td>\n      <td>1</td>\n      <td>330.0</td>\n      <td>Proyecto Social Jasaye y Aptapi Jopueti</td>\n      <td>0</td>\n    </tr>\n    <tr>\n      <th>46</th>\n      <td>47.0</td>\n      <td>2023</td>\n      <td>2023-06-20</td>\n      <td>taller</td>\n      <td>presencial</td>\n      <td>COLE</td>\n      <td>1</td>\n      <td>Bolivia</td>\n      <td>Beni</td>\n      <td>Nacional</td>\n      <td>...</td>\n      <td>0</td>\n      <td>0</td>\n      <td>0</td>\n      <td>210.0</td>\n      <td>vivencia menstrual-ovulatoria</td>\n      <td>1</td>\n      <td>0</td>\n      <td>330.0</td>\n      <td>Proyecto Social Jasaye</td>\n      <td>0</td>\n    </tr>\n    <tr>\n      <th>47</th>\n      <td>48.0</td>\n      <td>2023</td>\n      <td>2023-11-02</td>\n      <td>taller</td>\n      <td>presencial</td>\n      <td>PALMASOLA</td>\n      <td>1</td>\n      <td>Bolivia</td>\n      <td>Santa Cruz de la Sierra</td>\n      <td>Nacional</td>\n      <td>...</td>\n      <td>0</td>\n      <td>15</td>\n      <td>0</td>\n      <td>210.0</td>\n      <td>vivencia menstrual-ovulatoria</td>\n      <td>1</td>\n      <td>0</td>\n      <td>330.0</td>\n      <td>Aptapi Jopueti</td>\n      <td>0</td>\n    </tr>\n    <tr>\n      <th>48</th>\n      <td>49.0</td>\n      <td>2023</td>\n      <td>2023-01-11</td>\n      <td>taller</td>\n      <td>presencial</td>\n      <td>CIES</td>\n      <td>1</td>\n      <td>Bolivia</td>\n      <td>La Paz</td>\n      <td>Nacional</td>\n      <td>...</td>\n      <td>0</td>\n      <td>0</td>\n      <td>0</td>\n      <td>210.0</td>\n      <td>vivencia menstrual-ovulatoria</td>\n      <td>1</td>\n      <td>1</td>\n      <td>330.0</td>\n      <td>CIES</td>\n      <td>0</td>\n    </tr>\n    <tr>\n      <th>49</th>\n      <td>NaN</td>\n      <td>2024</td>\n      <td>2024-04-13</td>\n      <td>taller</td>\n      <td>presencial</td>\n      <td>Taller</td>\n      <td>1</td>\n      <td>Bolivia</td>\n      <td>La Paz</td>\n      <td>Nacional</td>\n      <td>...</td>\n      <td>0</td>\n      <td>0</td>\n      <td>26</td>\n      <td>210.0</td>\n      <td>Ciclicidad Menstrual-Ovulatoria y registro del...</td>\n      <td>2</td>\n      <td>0</td>\n      <td>400.0</td>\n      <td>Munasim Killakita</td>\n      <td>0</td>\n    </tr>\n    <tr>\n      <th>51</th>\n      <td>51.0</td>\n      <td>2023</td>\n      <td>2023-09-28</td>\n      <td>difusion</td>\n      <td>presencial</td>\n      <td>Feria Bulliciosa de la Campaña 28 de Septiembre</td>\n      <td>1</td>\n      <td>Bolivia</td>\n      <td>Santa Cruz de la Sierra</td>\n      <td>Nacional</td>\n      <td>...</td>\n      <td>0</td>\n      <td>0</td>\n      <td>0</td>\n      <td>0.0</td>\n      <td>N/A</td>\n      <td>1</td>\n      <td>1</td>\n      <td>0.0</td>\n      <td>Ninguno</td>\n      <td>0</td>\n    </tr>\n    <tr>\n      <th>53</th>\n      <td>53.0</td>\n      <td>2021</td>\n      <td>2021-02-06</td>\n      <td>artistica y cultural</td>\n      <td>presencial</td>\n      <td>Un evento de Zumba y conversatorio para recaud...</td>\n      <td>1</td>\n      <td>Australia</td>\n      <td>Melbourne</td>\n      <td>Internacional</td>\n      <td>...</td>\n      <td>0</td>\n      <td>0</td>\n      <td>0</td>\n      <td>0.0</td>\n      <td>N/A</td>\n      <td>1</td>\n      <td>0</td>\n      <td>0.0</td>\n      <td>Ninguno</td>\n      <td>0</td>\n    </tr>\n    <tr>\n      <th>54</th>\n      <td>54.0</td>\n      <td>2021</td>\n      <td>2021-03-26</td>\n      <td>artistica y cultural</td>\n      <td>presencial</td>\n      <td>Yawar Twerk, taller de twerk para recaudar fondos</td>\n      <td>1</td>\n      <td>Bolivia</td>\n      <td>Sucre</td>\n      <td>Nacional</td>\n      <td>...</td>\n      <td>0</td>\n      <td>0</td>\n      <td>0</td>\n      <td>0.0</td>\n      <td>N/A</td>\n      <td>1</td>\n      <td>0</td>\n      <td>0.0</td>\n      <td>Ninguno</td>\n      <td>0</td>\n    </tr>\n    <tr>\n      <th>56</th>\n      <td>56.0</td>\n      <td>2022</td>\n      <td>2022-01-10</td>\n      <td>artistica y cultural</td>\n      <td>presencial</td>\n      <td>Elaboración de un mural menstrual, de 30 metro...</td>\n      <td>1</td>\n      <td>Bolivia</td>\n      <td>Sucre</td>\n      <td>Nacional</td>\n      <td>...</td>\n      <td>0</td>\n      <td>0</td>\n      <td>0</td>\n      <td>0.0</td>\n      <td>N/A</td>\n      <td>1</td>\n      <td>0</td>\n      <td>0.0</td>\n      <td>Ninguno</td>\n      <td>0</td>\n    </tr>\n    <tr>\n      <th>58</th>\n      <td>58.0</td>\n      <td>2023</td>\n      <td>2023-05-28</td>\n      <td>artistica y cultural</td>\n      <td>presencial</td>\n      <td>Un hip hop menstrual con su videoclip en el mural</td>\n      <td>1</td>\n      <td>Bolivia</td>\n      <td>Sucre</td>\n      <td>Nacional</td>\n      <td>...</td>\n      <td>0</td>\n      <td>0</td>\n      <td>0</td>\n      <td>0.0</td>\n      <td>N/A</td>\n      <td>1</td>\n      <td>0</td>\n      <td>0.0</td>\n      <td>Ninguno</td>\n      <td>0</td>\n    </tr>\n    <tr>\n      <th>59</th>\n      <td>59.0</td>\n      <td>2023</td>\n      <td>2024-05-23</td>\n      <td>artistica y cultural</td>\n      <td>presencial</td>\n      <td>Performance artística de danza y poesía, Sucre</td>\n      <td>1</td>\n      <td>Bolivia</td>\n      <td>Sucre</td>\n      <td>Nacional</td>\n      <td>...</td>\n      <td>0</td>\n      <td>0</td>\n      <td>0</td>\n      <td>0.0</td>\n      <td>N/A</td>\n      <td>1</td>\n      <td>0</td>\n      <td>0.0</td>\n      <td>Ninguno</td>\n      <td>0</td>\n    </tr>\n    <tr>\n      <th>60</th>\n      <td>60.0</td>\n      <td>2023</td>\n      <td>2024-05-23</td>\n      <td>conversatorio</td>\n      <td>presencial</td>\n      <td>Conversatorio UAGRAM en conmemoración del día ...</td>\n      <td>1</td>\n      <td>Bolivia</td>\n      <td>Santa Cruz de la Sierra</td>\n      <td>Nacional</td>\n      <td>...</td>\n      <td>0</td>\n      <td>0</td>\n      <td>0</td>\n      <td>0.0</td>\n      <td>N/A</td>\n      <td>1</td>\n      <td>0</td>\n      <td>0.0</td>\n      <td>Ninguno</td>\n      <td>0</td>\n    </tr>\n    <tr>\n      <th>61</th>\n      <td>61.0</td>\n      <td>2022</td>\n      <td>2022-05-28</td>\n      <td>conversatorio</td>\n      <td>virtual</td>\n      <td>Conversatorio: \\nLA DESIGUALDAD MENSTRUAL Y EL...</td>\n      <td>1</td>\n      <td>Bolivia</td>\n      <td>Internacional</td>\n      <td>Internacional</td>\n      <td>...</td>\n      <td>0</td>\n      <td>0</td>\n      <td>0</td>\n      <td>0.0</td>\n      <td>N/A</td>\n      <td>1</td>\n      <td>0</td>\n      <td>0.0</td>\n      <td>Ninguno</td>\n      <td>0</td>\n    </tr>\n    <tr>\n      <th>62</th>\n      <td>62.0</td>\n      <td>2022</td>\n      <td>2022-06-14</td>\n      <td>conversatorio</td>\n      <td>virtual</td>\n      <td>Conversatorio UNIFRANZ: Viviendo la Menstruaci...</td>\n      <td>1</td>\n      <td>Bolivia</td>\n      <td>La Paz</td>\n      <td>Nacional</td>\n      <td>...</td>\n      <td>0</td>\n      <td>0</td>\n      <td>0</td>\n      <td>0.0</td>\n      <td>N/A</td>\n      <td>1</td>\n      <td>0</td>\n      <td>0.0</td>\n      <td>Ninguno</td>\n      <td>0</td>\n    </tr>\n    <tr>\n      <th>63</th>\n      <td>63.0</td>\n      <td>2023</td>\n      <td>2023-05-18</td>\n      <td>artistica y cultural</td>\n      <td>presencial</td>\n      <td>Participación en la Noche de Museos</td>\n      <td>1</td>\n      <td>Bolivia</td>\n      <td>Santa Cruz de la Sierra</td>\n      <td>Nacional</td>\n      <td>...</td>\n      <td>0</td>\n      <td>0</td>\n      <td>0</td>\n      <td>0.0</td>\n      <td>N/A</td>\n      <td>1</td>\n      <td>0</td>\n      <td>0.0</td>\n      <td>Ninguno</td>\n      <td>0</td>\n    </tr>\n  </tbody>\n</table>\n<p>60 rows × 32 columns</p>\n</div>"
     },
     "execution_count": 385,
     "metadata": {},
     "output_type": "execute_result"
    }
   ],
   "source": [
    "df_yawar_c.loc[df_yawar_c['lugar']!='N/A',:]"
   ],
   "metadata": {
    "collapsed": false,
    "ExecuteTime": {
     "end_time": "2024-04-16T21:49:15.261703100Z",
     "start_time": "2024-04-16T21:49:15.223296Z"
    }
   },
   "id": "9a9cf3a23e905730"
  },
  {
   "cell_type": "code",
   "execution_count": 386,
   "outputs": [
    {
     "data": {
      "text/plain": "       #   año      fecha tipo_actividad  formato  \\\n61  61.0  2022 2022-05-28  conversatorio  virtual   \n\n                                            actividad  cantidad     pais  \\\n61  Conversatorio: \\nLA DESIGUALDAD MENSTRUAL Y EL...         1  Bolivia   \n\n           ciudad        alcance  ... calzonesmenstruales  \\\n61  Internacional  Internacional  ...                   0   \n\n   kit_insumos_gestiónmenstrual qipusmenstruales expo_duracion  \\\n61                            0                0           0.0   \n\n    tematicataller personal voluntarias expo_tiempo_elabtaller org_apoyo  \\\n61             N/A        1           0                    0.0   Ninguno   \n\n    toallasdesechablesa  \n61                    0  \n\n[1 rows x 32 columns]",
      "text/html": "<div>\n<style scoped>\n    .dataframe tbody tr th:only-of-type {\n        vertical-align: middle;\n    }\n\n    .dataframe tbody tr th {\n        vertical-align: top;\n    }\n\n    .dataframe thead th {\n        text-align: right;\n    }\n</style>\n<table border=\"1\" class=\"dataframe\">\n  <thead>\n    <tr style=\"text-align: right;\">\n      <th></th>\n      <th>#</th>\n      <th>año</th>\n      <th>fecha</th>\n      <th>tipo_actividad</th>\n      <th>formato</th>\n      <th>actividad</th>\n      <th>cantidad</th>\n      <th>pais</th>\n      <th>ciudad</th>\n      <th>alcance</th>\n      <th>...</th>\n      <th>calzonesmenstruales</th>\n      <th>kit_insumos_gestiónmenstrual</th>\n      <th>qipusmenstruales</th>\n      <th>expo_duracion</th>\n      <th>tematicataller</th>\n      <th>personal</th>\n      <th>voluntarias</th>\n      <th>expo_tiempo_elabtaller</th>\n      <th>org_apoyo</th>\n      <th>toallasdesechablesa</th>\n    </tr>\n  </thead>\n  <tbody>\n    <tr>\n      <th>61</th>\n      <td>61.0</td>\n      <td>2022</td>\n      <td>2022-05-28</td>\n      <td>conversatorio</td>\n      <td>virtual</td>\n      <td>Conversatorio: \\nLA DESIGUALDAD MENSTRUAL Y EL...</td>\n      <td>1</td>\n      <td>Bolivia</td>\n      <td>Internacional</td>\n      <td>Internacional</td>\n      <td>...</td>\n      <td>0</td>\n      <td>0</td>\n      <td>0</td>\n      <td>0.0</td>\n      <td>N/A</td>\n      <td>1</td>\n      <td>0</td>\n      <td>0.0</td>\n      <td>Ninguno</td>\n      <td>0</td>\n    </tr>\n  </tbody>\n</table>\n<p>1 rows × 32 columns</p>\n</div>"
     },
     "execution_count": 386,
     "metadata": {},
     "output_type": "execute_result"
    }
   ],
   "source": [
    "#Its important to highlight that Mexico was part of onw activity\n",
    "df_yawar_c.loc[df_yawar_c['lugar']=='México',:]"
   ],
   "metadata": {
    "collapsed": false,
    "ExecuteTime": {
     "end_time": "2024-04-16T21:49:23.576285700Z",
     "start_time": "2024-04-16T21:49:23.548153200Z"
    }
   },
   "id": "7ce4bb451f3091f3"
  },
  {
   "cell_type": "code",
   "execution_count": 387,
   "outputs": [],
   "source": [
    "df_yawar_c.loc[df_yawar_c['lugar']=='México','pais']='Estados Unidos Mexicanos'"
   ],
   "metadata": {
    "collapsed": false,
    "ExecuteTime": {
     "end_time": "2024-04-16T21:49:45.674879Z",
     "start_time": "2024-04-16T21:49:45.543567300Z"
    }
   },
   "id": "eb7efde9e0ce44c3"
  },
  {
   "cell_type": "markdown",
   "source": [
    "tipo de area column"
   ],
   "metadata": {
    "collapsed": false
   },
   "id": "8a342de2f460cd5b"
  },
  {
   "cell_type": "code",
   "execution_count": 388,
   "outputs": [
    {
     "data": {
      "text/plain": "tipodearea\nurbana        41\nrural         14\nperiurbana     6\nUrbana         2\nName: count, dtype: int64"
     },
     "execution_count": 388,
     "metadata": {},
     "output_type": "execute_result"
    }
   ],
   "source": [
    "df_yawar_c['tipodearea'].value_counts()"
   ],
   "metadata": {
    "collapsed": false,
    "ExecuteTime": {
     "end_time": "2024-04-16T21:50:03.441528100Z",
     "start_time": "2024-04-16T21:50:03.352874400Z"
    }
   },
   "id": "c743087f62d9c771"
  },
  {
   "cell_type": "code",
   "execution_count": 389,
   "outputs": [],
   "source": [
    "#lower data in tipodearea column. \n",
    "df_yawar_c['tipodearea']=df_yawar_c['tipodearea'].str.lower()"
   ],
   "metadata": {
    "collapsed": false,
    "ExecuteTime": {
     "end_time": "2024-04-16T21:50:06.687524100Z",
     "start_time": "2024-04-16T21:50:06.623871300Z"
    }
   },
   "id": "6fb4b536beca34ee"
  },
  {
   "cell_type": "markdown",
   "source": [
    "tipodeestablecimiento column"
   ],
   "metadata": {
    "collapsed": false
   },
   "id": "aed6c5e30284d8ea"
  },
  {
   "cell_type": "code",
   "execution_count": 390,
   "outputs": [],
   "source": [
    "df_yawar_c.loc[df_yawar_c['tipodeestablecimiento']=='México','pais']='Estados Unidos Mexicanos'"
   ],
   "metadata": {
    "collapsed": false,
    "ExecuteTime": {
     "end_time": "2024-04-16T21:50:14.918065Z",
     "start_time": "2024-04-16T21:50:14.878422800Z"
    }
   },
   "id": "15c6f5c09076e07a"
  },
  {
   "cell_type": "code",
   "execution_count": 391,
   "outputs": [
    {
     "data": {
      "text/plain": "tipodeestablecimiento\nvoluntariado                                                          12\nFundación en el área rural                                            11\nN/A                                                                   11\nprensa escrita                                                         6\nescuela                                                                6\nmedio audiovisual                                                      4\ncárcel                                                                 3\nONG adolescencia y juventudes acceso a saliud y ejercicio derechos     3\nONG de chicas en situación de calle                                    2\nEscuelita móvil de barrios periurbanos                                 2\nVoluntariado y asociación                                              2\nONG por la salud sexual y reproductiva                                 2\nEducativo                                                              2\ncasa                                                                   1\nViaje cultural de jóvenas extranjeras en Bolivia                       1\nAsociación                                                             1\nLugar de acogida de víctimas de violencia sexual                       1\nONG de hogares de menores de edad                                      1\nAlianza internacional                                                  1\nONG hogares menores de edad                                            1\ncafeteria                                                              1\nName: count, dtype: int64"
     },
     "execution_count": 391,
     "metadata": {},
     "output_type": "execute_result"
    }
   ],
   "source": [
    "df_yawar_c['tipodeestablecimiento'].value_counts()"
   ],
   "metadata": {
    "collapsed": false,
    "ExecuteTime": {
     "end_time": "2024-04-16T21:50:28.865841700Z",
     "start_time": "2024-04-16T21:50:28.823707800Z"
    }
   },
   "id": "3f281469b54e7446"
  },
  {
   "cell_type": "code",
   "execution_count": 120,
   "outputs": [
    {
     "data": {
      "text/plain": "     #   año                fecha tipo_actividad     formato  \\\n0  1.0  2022  2022-03-10 00:00:00         taller  presencial   \n1  2.0  2022  2022-04-09 00:00:00         taller  presencial   \n2  3.0  2022  2022-07-07 00:00:00         taller  presencial   \n3  4.0  2022  2022-07-08 00:00:00         taller  presencial   \n4  5.0  2022  2022-07-09 00:00:00         taller  presencial   \n\n                   actividad  cantidad     pais  ciudad   alcance  ...  \\\n0  1er encuentro voluntarias         1  Bolivia  La Paz  Nacional  ...   \n1  Taller: qué es ser joven?         1  Bolivia  La Paz  Nacional  ...   \n2                ALTO ALDEAS         1  Bolivia  La Paz  Nacional  ...   \n3                ALTO ALDEAS         1  Bolivia  La Paz  Nacional  ...   \n4                ALTO MAPAKI         1  Bolivia  La Paz  Nacional  ...   \n\n  calzonesmenstruales kit_insumos_gestiónmenstrual q'ipusmenstruales  \\\n0                   0                            0                No   \n1                   0                            0                No   \n2                   0                           20                No   \n3                   1                           17                No   \n4                   0                            0                No   \n\n  expo_duracion                             tematicataller expo_personal  \\\n0         210.0  historia de nuestra sexualidad y anatomia             1   \n1         210.0                          Qué es ser joven?             2   \n2         210.0              vivencia menstrual-ovulatoria             1   \n3         210.0              vivencia menstrual-ovulatoria             1   \n4         210.0              vivencia menstrual-ovulatoria             1   \n\n  voluntarias expo_tiempo_elabtaller       org_apoyo  toallasdesechablesa  \n0           0                  480.0              No                    0  \n1           0                  400.0              No                    5  \n2           5                  480.0  Aptapi Jopueti                    0  \n3           5                  480.0  Aptapi Jopueti                  100  \n4           3                  480.0  Aptapi Jopueti                   30  \n\n[5 rows x 32 columns]",
      "text/html": "<div>\n<style scoped>\n    .dataframe tbody tr th:only-of-type {\n        vertical-align: middle;\n    }\n\n    .dataframe tbody tr th {\n        vertical-align: top;\n    }\n\n    .dataframe thead th {\n        text-align: right;\n    }\n</style>\n<table border=\"1\" class=\"dataframe\">\n  <thead>\n    <tr style=\"text-align: right;\">\n      <th></th>\n      <th>#</th>\n      <th>año</th>\n      <th>fecha</th>\n      <th>tipo_actividad</th>\n      <th>formato</th>\n      <th>actividad</th>\n      <th>cantidad</th>\n      <th>pais</th>\n      <th>ciudad</th>\n      <th>alcance</th>\n      <th>...</th>\n      <th>calzonesmenstruales</th>\n      <th>kit_insumos_gestiónmenstrual</th>\n      <th>q'ipusmenstruales</th>\n      <th>expo_duracion</th>\n      <th>tematicataller</th>\n      <th>expo_personal</th>\n      <th>voluntarias</th>\n      <th>expo_tiempo_elabtaller</th>\n      <th>org_apoyo</th>\n      <th>toallasdesechablesa</th>\n    </tr>\n  </thead>\n  <tbody>\n    <tr>\n      <th>0</th>\n      <td>1.0</td>\n      <td>2022</td>\n      <td>2022-03-10 00:00:00</td>\n      <td>taller</td>\n      <td>presencial</td>\n      <td>1er encuentro voluntarias</td>\n      <td>1</td>\n      <td>Bolivia</td>\n      <td>La Paz</td>\n      <td>Nacional</td>\n      <td>...</td>\n      <td>0</td>\n      <td>0</td>\n      <td>No</td>\n      <td>210.0</td>\n      <td>historia de nuestra sexualidad y anatomia</td>\n      <td>1</td>\n      <td>0</td>\n      <td>480.0</td>\n      <td>No</td>\n      <td>0</td>\n    </tr>\n    <tr>\n      <th>1</th>\n      <td>2.0</td>\n      <td>2022</td>\n      <td>2022-04-09 00:00:00</td>\n      <td>taller</td>\n      <td>presencial</td>\n      <td>Taller: qué es ser joven?</td>\n      <td>1</td>\n      <td>Bolivia</td>\n      <td>La Paz</td>\n      <td>Nacional</td>\n      <td>...</td>\n      <td>0</td>\n      <td>0</td>\n      <td>No</td>\n      <td>210.0</td>\n      <td>Qué es ser joven?</td>\n      <td>2</td>\n      <td>0</td>\n      <td>400.0</td>\n      <td>No</td>\n      <td>5</td>\n    </tr>\n    <tr>\n      <th>2</th>\n      <td>3.0</td>\n      <td>2022</td>\n      <td>2022-07-07 00:00:00</td>\n      <td>taller</td>\n      <td>presencial</td>\n      <td>ALTO ALDEAS</td>\n      <td>1</td>\n      <td>Bolivia</td>\n      <td>La Paz</td>\n      <td>Nacional</td>\n      <td>...</td>\n      <td>0</td>\n      <td>20</td>\n      <td>No</td>\n      <td>210.0</td>\n      <td>vivencia menstrual-ovulatoria</td>\n      <td>1</td>\n      <td>5</td>\n      <td>480.0</td>\n      <td>Aptapi Jopueti</td>\n      <td>0</td>\n    </tr>\n    <tr>\n      <th>3</th>\n      <td>4.0</td>\n      <td>2022</td>\n      <td>2022-07-08 00:00:00</td>\n      <td>taller</td>\n      <td>presencial</td>\n      <td>ALTO ALDEAS</td>\n      <td>1</td>\n      <td>Bolivia</td>\n      <td>La Paz</td>\n      <td>Nacional</td>\n      <td>...</td>\n      <td>1</td>\n      <td>17</td>\n      <td>No</td>\n      <td>210.0</td>\n      <td>vivencia menstrual-ovulatoria</td>\n      <td>1</td>\n      <td>5</td>\n      <td>480.0</td>\n      <td>Aptapi Jopueti</td>\n      <td>100</td>\n    </tr>\n    <tr>\n      <th>4</th>\n      <td>5.0</td>\n      <td>2022</td>\n      <td>2022-07-09 00:00:00</td>\n      <td>taller</td>\n      <td>presencial</td>\n      <td>ALTO MAPAKI</td>\n      <td>1</td>\n      <td>Bolivia</td>\n      <td>La Paz</td>\n      <td>Nacional</td>\n      <td>...</td>\n      <td>0</td>\n      <td>0</td>\n      <td>No</td>\n      <td>210.0</td>\n      <td>vivencia menstrual-ovulatoria</td>\n      <td>1</td>\n      <td>3</td>\n      <td>480.0</td>\n      <td>Aptapi Jopueti</td>\n      <td>30</td>\n    </tr>\n  </tbody>\n</table>\n<p>5 rows × 32 columns</p>\n</div>"
     },
     "execution_count": 120,
     "metadata": {},
     "output_type": "execute_result"
    }
   ],
   "source": [
    "df_yawar_c.head(5)"
   ],
   "metadata": {
    "collapsed": false,
    "ExecuteTime": {
     "end_time": "2024-04-16T20:15:54.196696900Z",
     "start_time": "2024-04-16T20:15:43.396517300Z"
    }
   },
   "id": "d265924511ffdff8"
  },
  {
   "cell_type": "markdown",
   "source": [
    "personaslcanzadas column"
   ],
   "metadata": {
    "collapsed": false
   },
   "id": "a95449aa7648b89"
  },
  {
   "cell_type": "code",
   "execution_count": 392,
   "outputs": [
    {
     "data": {
      "text/plain": "count    84.000000\nmean      9.119048\nstd       9.875618\nmin       0.000000\n25%       0.000000\n50%       7.500000\n75%      15.250000\nmax      35.000000\nName: personasalcanzadas_cant, dtype: float64"
     },
     "execution_count": 392,
     "metadata": {},
     "output_type": "execute_result"
    }
   ],
   "source": [
    "df_yawar_c['personasalcanzadas_cant'].describe()"
   ],
   "metadata": {
    "collapsed": false,
    "ExecuteTime": {
     "end_time": "2024-04-16T21:50:45.415240600Z",
     "start_time": "2024-04-16T21:50:45.383779600Z"
    }
   },
   "id": "60a74b794461ec07"
  },
  {
   "cell_type": "markdown",
   "source": [
    "edad column ****- requires to delete 2024. ... values or change those "
   ],
   "metadata": {
    "collapsed": false
   },
   "id": "11fbaae161499a13"
  },
  {
   "cell_type": "code",
   "execution_count": 122,
   "outputs": [
    {
     "data": {
      "text/plain": "     edad                     poblacion\n0   18-26     Voluntarias Yawar El Alto\n1   18-26     Voluntarias Yawar El Alto\n2   10-13              chicas huérfanas\n3   14-17  chicas en situación de calle\n4      12  chicas en situación de calle\n..    ...                           ...\n79    N/A             poblacion_general\n80    N/A             poblacion_general\n81    N/A             poblacion_general\n82    N/A             poblacion_general\n83    N/A             poblacion_general\n\n[84 rows x 2 columns]",
      "text/html": "<div>\n<style scoped>\n    .dataframe tbody tr th:only-of-type {\n        vertical-align: middle;\n    }\n\n    .dataframe tbody tr th {\n        vertical-align: top;\n    }\n\n    .dataframe thead th {\n        text-align: right;\n    }\n</style>\n<table border=\"1\" class=\"dataframe\">\n  <thead>\n    <tr style=\"text-align: right;\">\n      <th></th>\n      <th>edad</th>\n      <th>poblacion</th>\n    </tr>\n  </thead>\n  <tbody>\n    <tr>\n      <th>0</th>\n      <td>18-26</td>\n      <td>Voluntarias Yawar El Alto</td>\n    </tr>\n    <tr>\n      <th>1</th>\n      <td>18-26</td>\n      <td>Voluntarias Yawar El Alto</td>\n    </tr>\n    <tr>\n      <th>2</th>\n      <td>10-13</td>\n      <td>chicas huérfanas</td>\n    </tr>\n    <tr>\n      <th>3</th>\n      <td>14-17</td>\n      <td>chicas en situación de calle</td>\n    </tr>\n    <tr>\n      <th>4</th>\n      <td>12</td>\n      <td>chicas en situación de calle</td>\n    </tr>\n    <tr>\n      <th>...</th>\n      <td>...</td>\n      <td>...</td>\n    </tr>\n    <tr>\n      <th>79</th>\n      <td>N/A</td>\n      <td>poblacion_general</td>\n    </tr>\n    <tr>\n      <th>80</th>\n      <td>N/A</td>\n      <td>poblacion_general</td>\n    </tr>\n    <tr>\n      <th>81</th>\n      <td>N/A</td>\n      <td>poblacion_general</td>\n    </tr>\n    <tr>\n      <th>82</th>\n      <td>N/A</td>\n      <td>poblacion_general</td>\n    </tr>\n    <tr>\n      <th>83</th>\n      <td>N/A</td>\n      <td>poblacion_general</td>\n    </tr>\n  </tbody>\n</table>\n<p>84 rows × 2 columns</p>\n</div>"
     },
     "execution_count": 122,
     "metadata": {},
     "output_type": "execute_result"
    }
   ],
   "source": [
    "df_yawar_c[['edad', 'poblacion']]"
   ],
   "metadata": {
    "collapsed": false,
    "ExecuteTime": {
     "end_time": "2024-04-16T20:15:54.197698300Z",
     "start_time": "2024-04-16T20:15:43.436045200Z"
    }
   },
   "id": "a0214485cf8ee8f3"
  },
  {
   "cell_type": "code",
   "execution_count": 393,
   "outputs": [
    {
     "data": {
      "text/plain": "poblacion\npoblacion_general                               34\nadolescentes y jóvener rurales                  12\nmujeres voluntarias                             12\nVoluntarias Yawar El Alto                        8\njóvenes privadas de libertad                     2\nchicas en situación de calle                     2\nvoluntarias adolescentes                         2\nmujeres rurales                                  2\nniñas trabajadoras de calle                      1\nadolescentes y jóvenes trabajadoras de calle     1\nniñas y adolescentes periurbanas                 1\nchicas huérfanas                                 1\nmujeres con discapacidad                         1\nmujeres artistas                                 1\nmujeres rurales escaladoras                      1\nmujeres reclusas                                 1\nadolescentes                                     1\nadolescentes extranjeras                         1\nName: count, dtype: int64"
     },
     "execution_count": 393,
     "metadata": {},
     "output_type": "execute_result"
    }
   ],
   "source": [
    "df_yawar_c['poblacion'].value_counts()"
   ],
   "metadata": {
    "collapsed": false,
    "ExecuteTime": {
     "end_time": "2024-04-16T21:51:00.319717900Z",
     "start_time": "2024-04-16T21:51:00.289014600Z"
    }
   },
   "id": "405000ab9d430e27"
  },
  {
   "cell_type": "markdown",
   "source": [
    "vulnerabilidad column"
   ],
   "metadata": {
    "collapsed": false
   },
   "id": "6dea666aa8c56b5d"
  },
  {
   "cell_type": "code",
   "execution_count": 394,
   "outputs": [
    {
     "data": {
      "text/plain": "vulnerabilidad\nN/A    34\nNo     25\nSi     25\nName: count, dtype: int64"
     },
     "execution_count": 394,
     "metadata": {},
     "output_type": "execute_result"
    }
   ],
   "source": [
    "df_yawar_c['vulnerabilidad'].value_counts()"
   ],
   "metadata": {
    "collapsed": false,
    "ExecuteTime": {
     "end_time": "2024-04-16T21:51:05.178062100Z",
     "start_time": "2024-04-16T21:51:05.144164600Z"
    }
   },
   "id": "f3d914bbaa3cf735"
  },
  {
   "cell_type": "code",
   "execution_count": 395,
   "outputs": [],
   "source": [
    "df_yawar_c['vulnerabilidad']=df_yawar_c['vulnerabilidad'].str.lower()"
   ],
   "metadata": {
    "collapsed": false,
    "ExecuteTime": {
     "end_time": "2024-04-16T21:51:21.677864800Z",
     "start_time": "2024-04-16T21:51:21.644306Z"
    }
   },
   "id": "c10d725f198429f7"
  },
  {
   "cell_type": "code",
   "execution_count": 396,
   "outputs": [],
   "source": [
    "df_yawar_c.loc[df_yawar_c['vulnerabilidad']=='n/a','vulnerabilidad']='N/A'"
   ],
   "metadata": {
    "collapsed": false,
    "ExecuteTime": {
     "end_time": "2024-04-16T21:51:28.566752500Z",
     "start_time": "2024-04-16T21:51:28.519170200Z"
    }
   },
   "id": "a5252243c0dee816"
  },
  {
   "cell_type": "markdown",
   "source": [
    "dotacióninsumos column"
   ],
   "metadata": {
    "collapsed": false
   },
   "id": "b3cd2433d087be30"
  },
  {
   "cell_type": "code",
   "execution_count": 397,
   "outputs": [
    {
     "data": {
      "text/plain": "dotacióninsumos\nNo     38\nN/A    34\nSí     11\nSI      1\nName: count, dtype: int64"
     },
     "execution_count": 397,
     "metadata": {},
     "output_type": "execute_result"
    }
   ],
   "source": [
    "df_yawar_c['dotacióninsumos'].value_counts()"
   ],
   "metadata": {
    "collapsed": false,
    "ExecuteTime": {
     "end_time": "2024-04-16T21:51:32.675129300Z",
     "start_time": "2024-04-16T21:51:32.607062100Z"
    }
   },
   "id": "503ddbe76e34ec16"
  },
  {
   "cell_type": "code",
   "execution_count": 398,
   "outputs": [],
   "source": [
    "df_yawar_c['dotacióninsumos']=df_yawar_c['dotacióninsumos'].str.lower()"
   ],
   "metadata": {
    "collapsed": false,
    "ExecuteTime": {
     "end_time": "2024-04-16T21:51:37.885939700Z",
     "start_time": "2024-04-16T21:51:37.855013200Z"
    }
   },
   "id": "df1c384a0b073b2a"
  },
  {
   "cell_type": "code",
   "execution_count": 399,
   "outputs": [],
   "source": [
    "df_yawar_c.loc[df_yawar_c['dotacióninsumos']=='sí','dotacióninsumos']='si'"
   ],
   "metadata": {
    "collapsed": false,
    "ExecuteTime": {
     "end_time": "2024-04-16T21:51:40.445716200Z",
     "start_time": "2024-04-16T21:51:40.416628300Z"
    }
   },
   "id": "23a4fa9e157204ff"
  },
  {
   "cell_type": "code",
   "execution_count": 400,
   "outputs": [],
   "source": [
    "df_yawar_c.loc[df_yawar_c['dotacióninsumos']=='n/a','dotacióninsumos']='N/A'"
   ],
   "metadata": {
    "collapsed": false,
    "ExecuteTime": {
     "end_time": "2024-04-16T21:51:42.313593800Z",
     "start_time": "2024-04-16T21:51:42.254166Z"
    }
   },
   "id": "a2708aba36d5718e"
  },
  {
   "cell_type": "code",
   "execution_count": 401,
   "outputs": [
    {
     "data": {
      "text/plain": "toallasdesechables\n0      80\n5       1\n100     1\n30      1\n94      1\nName: count, dtype: int64"
     },
     "execution_count": 401,
     "metadata": {},
     "output_type": "execute_result"
    }
   ],
   "source": [
    "df_yawar_c['toallasdesechables'].value_counts()"
   ],
   "metadata": {
    "collapsed": false,
    "ExecuteTime": {
     "end_time": "2024-04-16T21:51:44.901728500Z",
     "start_time": "2024-04-16T21:51:44.689578200Z"
    }
   },
   "id": "8e6f93ce417bdd32"
  },
  {
   "cell_type": "code",
   "execution_count": 402,
   "outputs": [
    {
     "data": {
      "text/plain": "copasmenstruales\n0    83\n8     1\nName: count, dtype: int64"
     },
     "execution_count": 402,
     "metadata": {},
     "output_type": "execute_result"
    }
   ],
   "source": [
    "df_yawar_c['copasmenstruales'].value_counts()"
   ],
   "metadata": {
    "collapsed": false,
    "ExecuteTime": {
     "end_time": "2024-04-16T21:51:52.293069Z",
     "start_time": "2024-04-16T21:51:52.263601300Z"
    }
   },
   "id": "d27738e51af7e315"
  },
  {
   "cell_type": "code",
   "execution_count": 403,
   "outputs": [
    {
     "data": {
      "text/plain": "toallasreutilizables\n0     80\n20     2\n26     1\n10     1\nName: count, dtype: int64"
     },
     "execution_count": 403,
     "metadata": {},
     "output_type": "execute_result"
    }
   ],
   "source": [
    "df_yawar_c['toallasreutilizables'].value_counts()"
   ],
   "metadata": {
    "collapsed": false,
    "ExecuteTime": {
     "end_time": "2024-04-16T21:51:54.803416100Z",
     "start_time": "2024-04-16T21:51:54.703592400Z"
    }
   },
   "id": "81b339e6b61f395f"
  },
  {
   "cell_type": "code",
   "execution_count": 404,
   "outputs": [
    {
     "data": {
      "text/plain": "calzonesmenstruales\n0    83\n1     1\nName: count, dtype: int64"
     },
     "execution_count": 404,
     "metadata": {},
     "output_type": "execute_result"
    }
   ],
   "source": [
    "df_yawar_c['calzonesmenstruales'].value_counts()"
   ],
   "metadata": {
    "collapsed": false,
    "ExecuteTime": {
     "end_time": "2024-04-16T21:51:57.413189400Z",
     "start_time": "2024-04-16T21:51:57.319969900Z"
    }
   },
   "id": "79fbed7125f62d42"
  },
  {
   "cell_type": "code",
   "execution_count": 405,
   "outputs": [
    {
     "data": {
      "text/plain": "kit_insumos_gestiónmenstrual\n0     78\n20     1\n17     1\n25     1\n26     1\n27     1\n15     1\nName: count, dtype: int64"
     },
     "execution_count": 405,
     "metadata": {},
     "output_type": "execute_result"
    }
   ],
   "source": [
    "df_yawar_c['kit_insumos_gestiónmenstrual'].value_counts()"
   ],
   "metadata": {
    "collapsed": false,
    "ExecuteTime": {
     "end_time": "2024-04-16T21:52:00.891917500Z",
     "start_time": "2024-04-16T21:52:00.839542Z"
    }
   },
   "id": "da5a5194f98d363d"
  },
  {
   "cell_type": "code",
   "execution_count": 406,
   "outputs": [
    {
     "data": {
      "text/plain": "qipusmenstruales\n0     83\n26     1\nName: count, dtype: int64"
     },
     "execution_count": 406,
     "metadata": {},
     "output_type": "execute_result"
    }
   ],
   "source": [
    "df_yawar_c['qipusmenstruales'].value_counts()"
   ],
   "metadata": {
    "collapsed": false,
    "ExecuteTime": {
     "end_time": "2024-04-16T21:52:13.462038Z",
     "start_time": "2024-04-16T21:52:13.176624Z"
    }
   },
   "id": "d25b72ee09f96441"
  },
  {
   "cell_type": "code",
   "execution_count": 410,
   "outputs": [
    {
     "data": {
      "text/plain": "expo_duracion\n210.0    48\n0.0      34\n420.0     1\n10.0      1\nName: count, dtype: int64"
     },
     "execution_count": 410,
     "metadata": {},
     "output_type": "execute_result"
    }
   ],
   "source": [
    "df_yawar_c['expo_duracion'].value_counts()"
   ],
   "metadata": {
    "collapsed": false,
    "ExecuteTime": {
     "end_time": "2024-04-16T21:53:49.788808800Z",
     "start_time": "2024-04-16T21:53:49.710630800Z"
    }
   },
   "id": "282095240e40e231"
  },
  {
   "cell_type": "code",
   "execution_count": 411,
   "outputs": [
    {
     "data": {
      "text/plain": "<Axes: xlabel='expo_duracion'>"
     },
     "execution_count": 411,
     "metadata": {},
     "output_type": "execute_result"
    },
    {
     "data": {
      "text/plain": "<Figure size 640x480 with 1 Axes>",
      "image/png": "[encoded data removed]"
     },
     "metadata": {},
     "output_type": "display_data"
    }
   ],
   "source": [
    "sns.boxplot(x=df_yawar_c['expo_duracion'])"
   ],
   "metadata": {
    "collapsed": false,
    "ExecuteTime": {
     "end_time": "2024-04-16T21:53:56.818989600Z",
     "start_time": "2024-04-16T21:53:56.664909400Z"
    }
   },
   "id": "6d170dad50180f30"
  },
  {
   "cell_type": "code",
   "execution_count": 412,
   "outputs": [
    {
     "data": {
      "text/plain": "tematicataller\nN/A                                                                      33\nvivencia menstrual-ovulatoria                                            27\nhistoria de nuestra sexualidad y anatomia                                 2\nPobreza menstrual                                                         1\nCiclicidad Menstrual-Ovulatoria y registro del ciclo menstrual            1\nvivencia menstrual-ovulatoria y trabajo del Proyecto Yawar en Bolivia     1\nJusticia Menstrual                                                        1\nActivismo menstrual                                                       1\nEl ciclo menstrual                                                        1\nBienvenida a Yawar                                                        1\nGestión y pedagogía menstrual                                             1\nPolíticas Públicas                                                        1\nCiclo menstrual                                                           1\nPubertad, adolescencia y menarquía                                        1\nQué es ser joven?                                                         1\nArte Menstrual                                                            1\nPoblaciones Vulnerables                                                   1\nelaboración de toallas                                                    1\npreparación talleres presenciales El Alto                                 1\npedagogía menstrual                                                       1\ngestión menstrual digna para todas las personas                           1\nvivencia menstrual y la pobreza menstrual.                                1\ninsumos de gestión menstrual                                              1\nciclo en sus 4 fases: sexualidad y hormonas                               1\nno aplica                                                                 1\nName: count, dtype: int64"
     },
     "execution_count": 412,
     "metadata": {},
     "output_type": "execute_result"
    }
   ],
   "source": [
    "df_yawar_c['tematicataller'].value_counts()"
   ],
   "metadata": {
    "collapsed": false,
    "ExecuteTime": {
     "end_time": "2024-04-16T21:54:02.181728400Z",
     "start_time": "2024-04-16T21:54:02.127509100Z"
    }
   },
   "id": "b049bf1ba25d6b5e"
  },
  {
   "cell_type": "code",
   "execution_count": 413,
   "outputs": [],
   "source": [
    "df_yawar_c.loc[df_yawar_c['tematicataller']=='no aplica','tematicataller']='N/A'"
   ],
   "metadata": {
    "collapsed": false,
    "ExecuteTime": {
     "end_time": "2024-04-16T21:55:41.013838400Z",
     "start_time": "2024-04-16T21:55:40.984273900Z"
    }
   },
   "id": "a702a9e55cbfc916"
  },
  {
   "cell_type": "code",
   "execution_count": 415,
   "outputs": [
    {
     "data": {
      "text/plain": "personal\n1    80\n2     3\n4     1\nName: count, dtype: int64"
     },
     "execution_count": 415,
     "metadata": {},
     "output_type": "execute_result"
    }
   ],
   "source": [
    "df_yawar_c['personal'].value_counts()"
   ],
   "metadata": {
    "collapsed": false,
    "ExecuteTime": {
     "end_time": "2024-04-16T21:55:48.040589800Z",
     "start_time": "2024-04-16T21:55:47.962130500Z"
    }
   },
   "id": "d40945666ca68eb"
  },
  {
   "cell_type": "code",
   "execution_count": 416,
   "outputs": [
    {
     "data": {
      "text/plain": "voluntarias\n0     57\n1      7\n5      6\n10     4\n3      3\n2      3\n4      3\n6      1\nName: count, dtype: int64"
     },
     "execution_count": 416,
     "metadata": {},
     "output_type": "execute_result"
    }
   ],
   "source": [
    "df_yawar_c['voluntarias'].value_counts()"
   ],
   "metadata": {
    "collapsed": false,
    "ExecuteTime": {
     "end_time": "2024-04-16T21:55:55.517354900Z",
     "start_time": "2024-04-16T21:55:55.488706100Z"
    }
   },
   "id": "186d5a6a4c22d9c9"
  },
  {
   "cell_type": "code",
   "execution_count": 417,
   "outputs": [
    {
     "data": {
      "text/plain": "expo_tiempo_elabtaller\n0.0      32\n330.0    27\n480.0    21\n400.0     2\n360.0     1\n300.0     1\nName: count, dtype: int64"
     },
     "execution_count": 417,
     "metadata": {},
     "output_type": "execute_result"
    }
   ],
   "source": [
    "df_yawar_c['expo_tiempo_elabtaller'].value_counts()"
   ],
   "metadata": {
    "collapsed": false,
    "ExecuteTime": {
     "end_time": "2024-04-16T21:55:59.769405300Z",
     "start_time": "2024-04-16T21:55:59.734927800Z"
    }
   },
   "id": "6a4c1d23fd44d792"
  },
  {
   "cell_type": "code",
   "execution_count": 418,
   "outputs": [
    {
     "data": {
      "text/plain": "org_apoyo\nNinguno                                    40\nAptapi Jopueti                             22\nProyecto Social Jasayé                      7\nMicros para Avanzar                         3\nProyecto Social Jasaye                      3\nNo                                          2\nEtta Projects                               2\nDragones                                    1\nProyecto Social Jasaye y Aptapi Jopueti     1\nCIES                                        1\nMunasim Killakita                           1\nFondo Apthapi                               1\nName: count, dtype: int64"
     },
     "execution_count": 418,
     "metadata": {},
     "output_type": "execute_result"
    }
   ],
   "source": [
    "df_yawar_c['org_apoyo'].value_counts()"
   ],
   "metadata": {
    "collapsed": false,
    "ExecuteTime": {
     "end_time": "2024-04-16T21:56:04.423703700Z",
     "start_time": "2024-04-16T21:56:04.393883200Z"
    }
   },
   "id": "eaf916cbc3c33128"
  },
  {
   "cell_type": "code",
   "execution_count": 419,
   "outputs": [],
   "source": [
    "df_yawar_c.loc[df_yawar_c['org_apoyo']=='No','org_apoyo']='Ninguno'"
   ],
   "metadata": {
    "collapsed": false,
    "ExecuteTime": {
     "end_time": "2024-04-16T21:57:30.396161600Z",
     "start_time": "2024-04-16T21:57:30.367728600Z"
    }
   },
   "id": "d7140449d98f973b"
  },
  {
   "cell_type": "markdown",
   "source": [
    "## Feature Engineer"
   ],
   "metadata": {
    "collapsed": false
   },
   "id": "592bc0fa3dc2fdeb"
  },
  {
   "cell_type": "markdown",
   "source": [
    "Its required to have tipodeestablecimiento column well categorized, so another column will be added to display a possible solution."
   ],
   "metadata": {
    "collapsed": false
   },
   "id": "4b90b990dfeb7fa3"
  },
  {
   "cell_type": "code",
   "execution_count": 420,
   "outputs": [
    {
     "data": {
      "text/plain": "tipodeestablecimiento\nvoluntariado                                                          12\nFundación en el área rural                                            11\nN/A                                                                   11\nprensa escrita                                                         6\nescuela                                                                6\nmedio audiovisual                                                      4\ncárcel                                                                 3\nONG adolescencia y juventudes acceso a saliud y ejercicio derechos     3\nONG de chicas en situación de calle                                    2\nEscuelita móvil de barrios periurbanos                                 2\nVoluntariado y asociación                                              2\nONG por la salud sexual y reproductiva                                 2\nEducativo                                                              2\ncasa                                                                   1\nViaje cultural de jóvenas extranjeras en Bolivia                       1\nAsociación                                                             1\nLugar de acogida de víctimas de violencia sexual                       1\nONG de hogares de menores de edad                                      1\nAlianza internacional                                                  1\nONG hogares menores de edad                                            1\ncafeteria                                                              1\nName: count, dtype: int64"
     },
     "execution_count": 420,
     "metadata": {},
     "output_type": "execute_result"
    }
   ],
   "source": [
    "df_yawar_c['tipodeestablecimiento'].value_counts()"
   ],
   "metadata": {
    "collapsed": false,
    "ExecuteTime": {
     "end_time": "2024-04-16T21:57:43.592839300Z",
     "start_time": "2024-04-16T21:57:43.517178600Z"
    }
   },
   "id": "6a8a454e07d87dd5"
  },
  {
   "cell_type": "code",
   "execution_count": 421,
   "outputs": [],
   "source": [
    "df_yawar_c['tipodeestablecimiento_cat']=df_yawar_c['tipodeestablecimiento']"
   ],
   "metadata": {
    "collapsed": false,
    "ExecuteTime": {
     "end_time": "2024-04-16T21:58:20.926870Z",
     "start_time": "2024-04-16T21:58:20.895475300Z"
    }
   },
   "id": "d3b7b5fe42aa726f"
  },
  {
   "cell_type": "code",
   "execution_count": 422,
   "outputs": [
    {
     "data": {
      "text/plain": "Empty DataFrame\nColumns: [#, año, fecha, tipo_actividad, formato, actividad, cantidad, pais, ciudad, alcance, localidad, lugar, tipodearea, tipodeestablecimiento, personasalcanzadas_cant, edad, poblacion, vulnerabilidad, dotacióninsumos, toallasdesechables, copasmenstruales, toallasreutilizables, calzonesmenstruales, kit_insumos_gestiónmenstrual, qipusmenstruales, expo_duracion, tematicataller, personal, voluntarias, expo_tiempo_elabtaller, org_apoyo, toallasdesechablesa, tipodeestablecimiento_cat]\nIndex: []\n\n[0 rows x 33 columns]",
      "text/html": "<div>\n<style scoped>\n    .dataframe tbody tr th:only-of-type {\n        vertical-align: middle;\n    }\n\n    .dataframe tbody tr th {\n        vertical-align: top;\n    }\n\n    .dataframe thead th {\n        text-align: right;\n    }\n</style>\n<table border=\"1\" class=\"dataframe\">\n  <thead>\n    <tr style=\"text-align: right;\">\n      <th></th>\n      <th>#</th>\n      <th>año</th>\n      <th>fecha</th>\n      <th>tipo_actividad</th>\n      <th>formato</th>\n      <th>actividad</th>\n      <th>cantidad</th>\n      <th>pais</th>\n      <th>ciudad</th>\n      <th>alcance</th>\n      <th>...</th>\n      <th>kit_insumos_gestiónmenstrual</th>\n      <th>qipusmenstruales</th>\n      <th>expo_duracion</th>\n      <th>tematicataller</th>\n      <th>personal</th>\n      <th>voluntarias</th>\n      <th>expo_tiempo_elabtaller</th>\n      <th>org_apoyo</th>\n      <th>toallasdesechablesa</th>\n      <th>tipodeestablecimiento_cat</th>\n    </tr>\n  </thead>\n  <tbody>\n  </tbody>\n</table>\n<p>0 rows × 33 columns</p>\n</div>"
     },
     "execution_count": 422,
     "metadata": {},
     "output_type": "execute_result"
    }
   ],
   "source": [
    "df_yawar_c[df_yawar_c['tipodeestablecimiento_cat']=='no aplica']"
   ],
   "metadata": {
    "collapsed": false,
    "ExecuteTime": {
     "end_time": "2024-04-16T21:58:25.124217200Z",
     "start_time": "2024-04-16T21:58:25.053098900Z"
    }
   },
   "id": "703938c5342cee2e"
  },
  {
   "cell_type": "code",
   "execution_count": 423,
   "outputs": [],
   "source": [
    "df_yawar_c.loc[df_yawar_c['tipodeestablecimiento_cat']=='no aplica','tipodeestablecimiento_cat']='N/A'"
   ],
   "metadata": {
    "collapsed": false,
    "ExecuteTime": {
     "end_time": "2024-04-16T21:58:29.357747700Z",
     "start_time": "2024-04-16T21:58:29.320522Z"
    }
   },
   "id": "18d4ff6d633b4a85"
  },
  {
   "cell_type": "code",
   "execution_count": 424,
   "outputs": [
    {
     "data": {
      "text/plain": "tipodeestablecimiento_cat\nvoluntariado                                                          12\nFundación en el área rural                                            11\nN/A                                                                   11\nprensa escrita                                                         6\nescuela                                                                6\nmedio audiovisual                                                      4\ncárcel                                                                 3\nONG adolescencia y juventudes acceso a saliud y ejercicio derechos     3\nONG de chicas en situación de calle                                    2\nEscuelita móvil de barrios periurbanos                                 2\nVoluntariado y asociación                                              2\nONG por la salud sexual y reproductiva                                 2\nEducativo                                                              2\ncasa                                                                   1\nViaje cultural de jóvenas extranjeras en Bolivia                       1\nAsociación                                                             1\nLugar de acogida de víctimas de violencia sexual                       1\nONG de hogares de menores de edad                                      1\nAlianza internacional                                                  1\nONG hogares menores de edad                                            1\ncafeteria                                                              1\nName: count, dtype: int64"
     },
     "execution_count": 424,
     "metadata": {},
     "output_type": "execute_result"
    }
   ],
   "source": [
    "df_yawar_c['tipodeestablecimiento_cat'].value_counts()"
   ],
   "metadata": {
    "collapsed": false,
    "ExecuteTime": {
     "end_time": "2024-04-16T21:58:31.557458300Z",
     "start_time": "2024-04-16T21:58:31.507657500Z"
    }
   },
   "id": "222a7839ae45fe29"
  },
  {
   "cell_type": "code",
   "execution_count": 425,
   "outputs": [],
   "source": [
    "df_yawar_c.loc[df_yawar_c['tipodeestablecimiento_cat'].isna(), 'tipodeestablecimiento_cat']='N/A'"
   ],
   "metadata": {
    "collapsed": false,
    "ExecuteTime": {
     "end_time": "2024-04-16T21:58:49.515592600Z",
     "start_time": "2024-04-16T21:58:49.490353Z"
    }
   },
   "id": "e4e24a5a67b1b800"
  },
  {
   "cell_type": "markdown",
   "source": [
    "Categorize tipodeestablecimiento in broad categories"
   ],
   "metadata": {
    "collapsed": false
   },
   "id": "54d6886d193ab3f5"
  },
  {
   "cell_type": "code",
   "execution_count": 426,
   "outputs": [],
   "source": [
    "df_yawar_c.loc[df_yawar_c['tipodeestablecimiento_cat'].str.contains('ONG'),'tipodeestablecimiento_cat']='ONG'"
   ],
   "metadata": {
    "collapsed": false,
    "ExecuteTime": {
     "end_time": "2024-04-16T21:58:53.490644600Z",
     "start_time": "2024-04-16T21:58:53.445144400Z"
    }
   },
   "id": "ffd40e1796bf51d9"
  },
  {
   "cell_type": "code",
   "execution_count": 427,
   "outputs": [
    {
     "data": {
      "text/plain": "5     Fundación en el área rural\n6     Fundación en el área rural\n7     Fundación en el área rural\n8     Fundación en el área rural\n34    Fundación en el área rural\n35    Fundación en el área rural\n36    Fundación en el área rural\n43    Fundación en el área rural\n44    Fundación en el área rural\n45    Fundación en el área rural\n46    Fundación en el área rural\nName: tipodeestablecimiento_cat, dtype: object"
     },
     "execution_count": 427,
     "metadata": {},
     "output_type": "execute_result"
    }
   ],
   "source": [
    "df_yawar_c.loc[df_yawar_c['tipodeestablecimiento_cat'].str.contains('rural'),'tipodeestablecimiento_cat']"
   ],
   "metadata": {
    "collapsed": false,
    "ExecuteTime": {
     "end_time": "2024-04-16T21:58:58.734919300Z",
     "start_time": "2024-04-16T21:58:58.695444Z"
    }
   },
   "id": "5edb71849bf60328"
  },
  {
   "cell_type": "code",
   "execution_count": 428,
   "outputs": [],
   "source": [
    "df_yawar_c.loc[df_yawar_c['tipodeestablecimiento_cat'].str.contains('Fundación en el área rural'),'tipodeestablecimiento_cat']='Fundación'"
   ],
   "metadata": {
    "collapsed": false,
    "ExecuteTime": {
     "end_time": "2024-04-16T21:59:03.682278200Z",
     "start_time": "2024-04-16T21:59:03.647485600Z"
    }
   },
   "id": "448419ef2d9cd142"
  },
  {
   "cell_type": "code",
   "execution_count": 429,
   "outputs": [
    {
     "data": {
      "text/plain": "18    Escuelita móvil de barrios periurbanos\n19    Escuelita móvil de barrios periurbanos\nName: tipodeestablecimiento_cat, dtype: object"
     },
     "execution_count": 429,
     "metadata": {},
     "output_type": "execute_result"
    }
   ],
   "source": [
    "df_yawar_c.loc[df_yawar_c['tipodeestablecimiento_cat'].str.contains('Escu'),'tipodeestablecimiento_cat']"
   ],
   "metadata": {
    "collapsed": false,
    "ExecuteTime": {
     "end_time": "2024-04-16T21:59:06.715154600Z",
     "start_time": "2024-04-16T21:59:06.654054Z"
    }
   },
   "id": "5d50b59c495f5cfe"
  },
  {
   "cell_type": "code",
   "execution_count": 430,
   "outputs": [],
   "source": [
    "df_yawar_c.loc[df_yawar_c['tipodeestablecimiento_cat'].str.contains('Escuelita móvil de barrios periurbanos'),'tipodeestablecimiento_cat']='escuela'"
   ],
   "metadata": {
    "collapsed": false,
    "ExecuteTime": {
     "end_time": "2024-04-16T21:59:12.849961800Z",
     "start_time": "2024-04-16T21:59:12.806824900Z"
    }
   },
   "id": "fea185ec666b327e"
  },
  {
   "cell_type": "code",
   "execution_count": 431,
   "outputs": [
    {
     "data": {
      "text/plain": "       #   año      fecha tipo_actividad     formato            actividad  \\\n37  38.0  2023 2023-03-11         taller  presencial  MUJERES DIVERSAS LP   \n38  39.0  2023 2023-03-30         taller     virtual         Rapsistencia   \n39  40.0  2023 2023-04-19         taller     virtual      Mujeres Montaña   \n\n    cantidad     pais  ciudad   alcance  ... kit_insumos_gestiónmenstrual  \\\n37         1  Bolivia  La Paz  Nacional  ...                            0   \n38         1  Bolivia     N/A  Nacional  ...                            0   \n39         1  Bolivia     N/A  Nacional  ...                            0   \n\n   qipusmenstruales expo_duracion                 tematicataller  personal  \\\n37                0         210.0  vivencia menstrual-ovulatoria         1   \n38                0         210.0  vivencia menstrual-ovulatoria         1   \n39                0         210.0  vivencia menstrual-ovulatoria         1   \n\n   voluntarias expo_tiempo_elabtaller       org_apoyo toallasdesechablesa  \\\n37           3                  330.0  Aptapi Jopueti                   0   \n38           0                  330.0  Aptapi Jopueti                   0   \n39           0                  330.0  Aptapi Jopueti                   0   \n\n    tipodeestablecimiento_cat  \n37                 Asociación  \n38  Voluntariado y asociación  \n39  Voluntariado y asociación  \n\n[3 rows x 33 columns]",
      "text/html": "<div>\n<style scoped>\n    .dataframe tbody tr th:only-of-type {\n        vertical-align: middle;\n    }\n\n    .dataframe tbody tr th {\n        vertical-align: top;\n    }\n\n    .dataframe thead th {\n        text-align: right;\n    }\n</style>\n<table border=\"1\" class=\"dataframe\">\n  <thead>\n    <tr style=\"text-align: right;\">\n      <th></th>\n      <th>#</th>\n      <th>año</th>\n      <th>fecha</th>\n      <th>tipo_actividad</th>\n      <th>formato</th>\n      <th>actividad</th>\n      <th>cantidad</th>\n      <th>pais</th>\n      <th>ciudad</th>\n      <th>alcance</th>\n      <th>...</th>\n      <th>kit_insumos_gestiónmenstrual</th>\n      <th>qipusmenstruales</th>\n      <th>expo_duracion</th>\n      <th>tematicataller</th>\n      <th>personal</th>\n      <th>voluntarias</th>\n      <th>expo_tiempo_elabtaller</th>\n      <th>org_apoyo</th>\n      <th>toallasdesechablesa</th>\n      <th>tipodeestablecimiento_cat</th>\n    </tr>\n  </thead>\n  <tbody>\n    <tr>\n      <th>37</th>\n      <td>38.0</td>\n      <td>2023</td>\n      <td>2023-03-11</td>\n      <td>taller</td>\n      <td>presencial</td>\n      <td>MUJERES DIVERSAS LP</td>\n      <td>1</td>\n      <td>Bolivia</td>\n      <td>La Paz</td>\n      <td>Nacional</td>\n      <td>...</td>\n      <td>0</td>\n      <td>0</td>\n      <td>210.0</td>\n      <td>vivencia menstrual-ovulatoria</td>\n      <td>1</td>\n      <td>3</td>\n      <td>330.0</td>\n      <td>Aptapi Jopueti</td>\n      <td>0</td>\n      <td>Asociación</td>\n    </tr>\n    <tr>\n      <th>38</th>\n      <td>39.0</td>\n      <td>2023</td>\n      <td>2023-03-30</td>\n      <td>taller</td>\n      <td>virtual</td>\n      <td>Rapsistencia</td>\n      <td>1</td>\n      <td>Bolivia</td>\n      <td>N/A</td>\n      <td>Nacional</td>\n      <td>...</td>\n      <td>0</td>\n      <td>0</td>\n      <td>210.0</td>\n      <td>vivencia menstrual-ovulatoria</td>\n      <td>1</td>\n      <td>0</td>\n      <td>330.0</td>\n      <td>Aptapi Jopueti</td>\n      <td>0</td>\n      <td>Voluntariado y asociación</td>\n    </tr>\n    <tr>\n      <th>39</th>\n      <td>40.0</td>\n      <td>2023</td>\n      <td>2023-04-19</td>\n      <td>taller</td>\n      <td>virtual</td>\n      <td>Mujeres Montaña</td>\n      <td>1</td>\n      <td>Bolivia</td>\n      <td>N/A</td>\n      <td>Nacional</td>\n      <td>...</td>\n      <td>0</td>\n      <td>0</td>\n      <td>210.0</td>\n      <td>vivencia menstrual-ovulatoria</td>\n      <td>1</td>\n      <td>0</td>\n      <td>330.0</td>\n      <td>Aptapi Jopueti</td>\n      <td>0</td>\n      <td>Voluntariado y asociación</td>\n    </tr>\n  </tbody>\n</table>\n<p>3 rows × 33 columns</p>\n</div>"
     },
     "execution_count": 431,
     "metadata": {},
     "output_type": "execute_result"
    }
   ],
   "source": [
    "df_yawar_c.loc[df_yawar_c['tipodeestablecimiento_cat'].str.contains('socia'),:]"
   ],
   "metadata": {
    "collapsed": false,
    "ExecuteTime": {
     "end_time": "2024-04-16T21:59:17.312581300Z",
     "start_time": "2024-04-16T21:59:17.237325700Z"
    }
   },
   "id": "5d9b519d99ca6eed"
  },
  {
   "cell_type": "code",
   "execution_count": 432,
   "outputs": [],
   "source": [
    "df_yawar_c.loc[df_yawar_c['formato']=='virtual', 'tipodeestablecimiento_cat']='N/A'"
   ],
   "metadata": {
    "collapsed": false,
    "ExecuteTime": {
     "end_time": "2024-04-16T21:59:25.263432500Z",
     "start_time": "2024-04-16T21:59:25.212719700Z"
    }
   },
   "id": "3c572f83ace00fdb"
  },
  {
   "cell_type": "code",
   "execution_count": 433,
   "outputs": [
    {
     "data": {
      "text/plain": "       #   año      fecha tipo_actividad     formato actividad  cantidad  \\\n33  34.0  2023 2022-02-24         taller  presencial  DRAGONAS         1   \n\n       pais      ciudad        alcance  ... kit_insumos_gestiónmenstrual  \\\n33  Bolivia  Cochabamba  Internacional  ...                            0   \n\n   qipusmenstruales expo_duracion  \\\n33                0         420.0   \n\n                                       tematicataller  personal voluntarias  \\\n33  vivencia menstrual-ovulatoria y trabajo del Pr...         1           0   \n\n   expo_tiempo_elabtaller org_apoyo toallasdesechablesa  \\\n33                  480.0  Dragones                   0   \n\n                           tipodeestablecimiento_cat  \n33  Viaje cultural de jóvenas extranjeras en Bolivia  \n\n[1 rows x 33 columns]",
      "text/html": "<div>\n<style scoped>\n    .dataframe tbody tr th:only-of-type {\n        vertical-align: middle;\n    }\n\n    .dataframe tbody tr th {\n        vertical-align: top;\n    }\n\n    .dataframe thead th {\n        text-align: right;\n    }\n</style>\n<table border=\"1\" class=\"dataframe\">\n  <thead>\n    <tr style=\"text-align: right;\">\n      <th></th>\n      <th>#</th>\n      <th>año</th>\n      <th>fecha</th>\n      <th>tipo_actividad</th>\n      <th>formato</th>\n      <th>actividad</th>\n      <th>cantidad</th>\n      <th>pais</th>\n      <th>ciudad</th>\n      <th>alcance</th>\n      <th>...</th>\n      <th>kit_insumos_gestiónmenstrual</th>\n      <th>qipusmenstruales</th>\n      <th>expo_duracion</th>\n      <th>tematicataller</th>\n      <th>personal</th>\n      <th>voluntarias</th>\n      <th>expo_tiempo_elabtaller</th>\n      <th>org_apoyo</th>\n      <th>toallasdesechablesa</th>\n      <th>tipodeestablecimiento_cat</th>\n    </tr>\n  </thead>\n  <tbody>\n    <tr>\n      <th>33</th>\n      <td>34.0</td>\n      <td>2023</td>\n      <td>2022-02-24</td>\n      <td>taller</td>\n      <td>presencial</td>\n      <td>DRAGONAS</td>\n      <td>1</td>\n      <td>Bolivia</td>\n      <td>Cochabamba</td>\n      <td>Internacional</td>\n      <td>...</td>\n      <td>0</td>\n      <td>0</td>\n      <td>420.0</td>\n      <td>vivencia menstrual-ovulatoria y trabajo del Pr...</td>\n      <td>1</td>\n      <td>0</td>\n      <td>480.0</td>\n      <td>Dragones</td>\n      <td>0</td>\n      <td>Viaje cultural de jóvenas extranjeras en Bolivia</td>\n    </tr>\n  </tbody>\n</table>\n<p>1 rows × 33 columns</p>\n</div>"
     },
     "execution_count": 433,
     "metadata": {},
     "output_type": "execute_result"
    }
   ],
   "source": [
    "df_yawar_c.loc[df_yawar_c['tipodeestablecimiento_cat'].str.contains('Viaje'),:]"
   ],
   "metadata": {
    "collapsed": false,
    "ExecuteTime": {
     "end_time": "2024-04-16T21:59:29.778443600Z",
     "start_time": "2024-04-16T21:59:29.724887300Z"
    }
   },
   "id": "c1f61975e0813d75"
  },
  {
   "cell_type": "markdown",
   "source": [
    "Viaje cultural de jóvenas extranjeras en Bolivia is the activity "
   ],
   "metadata": {
    "collapsed": false
   },
   "id": "b71d70a132ce77af"
  },
  {
   "cell_type": "code",
   "execution_count": 434,
   "outputs": [],
   "source": [
    "df_yawar_c.loc[df_yawar_c['tipodeestablecimiento_cat'].str.contains('Viaje'),'actividad']='Viaje cultural de jóvenas extranjeras en Bolivia'"
   ],
   "metadata": {
    "collapsed": false,
    "ExecuteTime": {
     "end_time": "2024-04-16T21:59:37.367833Z",
     "start_time": "2024-04-16T21:59:37.334105900Z"
    }
   },
   "id": "2a31fd091241014e"
  },
  {
   "cell_type": "code",
   "execution_count": 435,
   "outputs": [],
   "source": [
    "df_yawar_c.loc[df_yawar_c['tipodeestablecimiento_cat'].str.contains('Viaje'),'tipodeestablecimiento_cat']='Campo'"
   ],
   "metadata": {
    "collapsed": false,
    "ExecuteTime": {
     "end_time": "2024-04-16T21:59:40.419342100Z",
     "start_time": "2024-04-16T21:59:40.384290Z"
    }
   },
   "id": "cd13673a7a580195"
  },
  {
   "cell_type": "code",
   "execution_count": 436,
   "outputs": [
    {
     "data": {
      "text/plain": "       #   año      fecha tipo_actividad     formato            actividad  \\\n37  38.0  2023 2023-03-11         taller  presencial  MUJERES DIVERSAS LP   \n\n    cantidad     pais  ciudad   alcance  ... kit_insumos_gestiónmenstrual  \\\n37         1  Bolivia  La Paz  Nacional  ...                            0   \n\n   qipusmenstruales expo_duracion                 tematicataller  personal  \\\n37                0         210.0  vivencia menstrual-ovulatoria         1   \n\n   voluntarias expo_tiempo_elabtaller       org_apoyo toallasdesechablesa  \\\n37           3                  330.0  Aptapi Jopueti                   0   \n\n    tipodeestablecimiento_cat  \n37                 Asociación  \n\n[1 rows x 33 columns]",
      "text/html": "<div>\n<style scoped>\n    .dataframe tbody tr th:only-of-type {\n        vertical-align: middle;\n    }\n\n    .dataframe tbody tr th {\n        vertical-align: top;\n    }\n\n    .dataframe thead th {\n        text-align: right;\n    }\n</style>\n<table border=\"1\" class=\"dataframe\">\n  <thead>\n    <tr style=\"text-align: right;\">\n      <th></th>\n      <th>#</th>\n      <th>año</th>\n      <th>fecha</th>\n      <th>tipo_actividad</th>\n      <th>formato</th>\n      <th>actividad</th>\n      <th>cantidad</th>\n      <th>pais</th>\n      <th>ciudad</th>\n      <th>alcance</th>\n      <th>...</th>\n      <th>kit_insumos_gestiónmenstrual</th>\n      <th>qipusmenstruales</th>\n      <th>expo_duracion</th>\n      <th>tematicataller</th>\n      <th>personal</th>\n      <th>voluntarias</th>\n      <th>expo_tiempo_elabtaller</th>\n      <th>org_apoyo</th>\n      <th>toallasdesechablesa</th>\n      <th>tipodeestablecimiento_cat</th>\n    </tr>\n  </thead>\n  <tbody>\n    <tr>\n      <th>37</th>\n      <td>38.0</td>\n      <td>2023</td>\n      <td>2023-03-11</td>\n      <td>taller</td>\n      <td>presencial</td>\n      <td>MUJERES DIVERSAS LP</td>\n      <td>1</td>\n      <td>Bolivia</td>\n      <td>La Paz</td>\n      <td>Nacional</td>\n      <td>...</td>\n      <td>0</td>\n      <td>0</td>\n      <td>210.0</td>\n      <td>vivencia menstrual-ovulatoria</td>\n      <td>1</td>\n      <td>3</td>\n      <td>330.0</td>\n      <td>Aptapi Jopueti</td>\n      <td>0</td>\n      <td>Asociación</td>\n    </tr>\n  </tbody>\n</table>\n<p>1 rows × 33 columns</p>\n</div>"
     },
     "execution_count": 436,
     "metadata": {},
     "output_type": "execute_result"
    }
   ],
   "source": [
    "df_yawar_c.loc[df_yawar_c['tipodeestablecimiento_cat'].str.contains('Asoc'),:]"
   ],
   "metadata": {
    "collapsed": false,
    "ExecuteTime": {
     "end_time": "2024-04-16T21:59:42.079359900Z",
     "start_time": "2024-04-16T21:59:42.017662800Z"
    }
   },
   "id": "447abae5412a4cd"
  },
  {
   "cell_type": "code",
   "execution_count": 437,
   "outputs": [],
   "source": [
    "df_yawar_c.loc[df_yawar_c['tipodeestablecimiento_cat'].str.contains('Asoc'),'tipodeestablecimiento_cat']='Universidad'"
   ],
   "metadata": {
    "collapsed": false,
    "ExecuteTime": {
     "end_time": "2024-04-16T21:59:45.191397500Z",
     "start_time": "2024-04-16T21:59:45.157636100Z"
    }
   },
   "id": "cf59f2edd20a777d"
  },
  {
   "cell_type": "code",
   "execution_count": 438,
   "outputs": [
    {
     "data": {
      "text/plain": "tipodeestablecimiento_cat\nN/A                                                 49\nFundación                                           11\nONG                                                  9\ncárcel                                               3\nprensa escrita                                       3\nescuela                                              2\ncafeteria                                            1\ncasa                                                 1\nCampo                                                1\nUniversidad                                          1\nLugar de acogida de víctimas de violencia sexual     1\nEducativo                                            1\nmedio audiovisual                                    1\nName: count, dtype: int64"
     },
     "execution_count": 438,
     "metadata": {},
     "output_type": "execute_result"
    }
   ],
   "source": [
    "df_yawar_c['tipodeestablecimiento_cat'].value_counts()"
   ],
   "metadata": {
    "collapsed": false,
    "ExecuteTime": {
     "end_time": "2024-04-16T21:59:47.749401200Z",
     "start_time": "2024-04-16T21:59:47.687787100Z"
    }
   },
   "id": "7eec434578022e92"
  },
  {
   "cell_type": "code",
   "execution_count": 439,
   "outputs": [
    {
     "data": {
      "text/plain": "       #   año      fecha tipo_actividad     formato  \\\n60  60.0  2023 2024-05-23  conversatorio  presencial   \n\n                                            actividad  cantidad     pais  \\\n60  Conversatorio UAGRAM en conmemoración del día ...         1  Bolivia   \n\n                     ciudad   alcance  ... kit_insumos_gestiónmenstrual  \\\n60  Santa Cruz de la Sierra  Nacional  ...                            0   \n\n   qipusmenstruales expo_duracion tematicataller  personal voluntarias  \\\n60                0           0.0            N/A         1           0   \n\n   expo_tiempo_elabtaller org_apoyo toallasdesechablesa  \\\n60                    0.0   Ninguno                   0   \n\n    tipodeestablecimiento_cat  \n60                  Educativo  \n\n[1 rows x 33 columns]",
      "text/html": "<div>\n<style scoped>\n    .dataframe tbody tr th:only-of-type {\n        vertical-align: middle;\n    }\n\n    .dataframe tbody tr th {\n        vertical-align: top;\n    }\n\n    .dataframe thead th {\n        text-align: right;\n    }\n</style>\n<table border=\"1\" class=\"dataframe\">\n  <thead>\n    <tr style=\"text-align: right;\">\n      <th></th>\n      <th>#</th>\n      <th>año</th>\n      <th>fecha</th>\n      <th>tipo_actividad</th>\n      <th>formato</th>\n      <th>actividad</th>\n      <th>cantidad</th>\n      <th>pais</th>\n      <th>ciudad</th>\n      <th>alcance</th>\n      <th>...</th>\n      <th>kit_insumos_gestiónmenstrual</th>\n      <th>qipusmenstruales</th>\n      <th>expo_duracion</th>\n      <th>tematicataller</th>\n      <th>personal</th>\n      <th>voluntarias</th>\n      <th>expo_tiempo_elabtaller</th>\n      <th>org_apoyo</th>\n      <th>toallasdesechablesa</th>\n      <th>tipodeestablecimiento_cat</th>\n    </tr>\n  </thead>\n  <tbody>\n    <tr>\n      <th>60</th>\n      <td>60.0</td>\n      <td>2023</td>\n      <td>2024-05-23</td>\n      <td>conversatorio</td>\n      <td>presencial</td>\n      <td>Conversatorio UAGRAM en conmemoración del día ...</td>\n      <td>1</td>\n      <td>Bolivia</td>\n      <td>Santa Cruz de la Sierra</td>\n      <td>Nacional</td>\n      <td>...</td>\n      <td>0</td>\n      <td>0</td>\n      <td>0.0</td>\n      <td>N/A</td>\n      <td>1</td>\n      <td>0</td>\n      <td>0.0</td>\n      <td>Ninguno</td>\n      <td>0</td>\n      <td>Educativo</td>\n    </tr>\n  </tbody>\n</table>\n<p>1 rows × 33 columns</p>\n</div>"
     },
     "execution_count": 439,
     "metadata": {},
     "output_type": "execute_result"
    }
   ],
   "source": [
    "df_yawar_c.loc[df_yawar_c['tipodeestablecimiento_cat'].str.contains('Educ'),:]"
   ],
   "metadata": {
    "collapsed": false,
    "ExecuteTime": {
     "end_time": "2024-04-16T21:59:57.695693900Z",
     "start_time": "2024-04-16T21:59:57.640442600Z"
    }
   },
   "id": "8ed387d6d3c4ab91"
  },
  {
   "cell_type": "code",
   "execution_count": 440,
   "outputs": [],
   "source": [
    "df_yawar_c.loc[df_yawar_c['tipodeestablecimiento_cat'].str.contains('Educ'),'tipodeestablecimiento_cat']='Universidad'"
   ],
   "metadata": {
    "collapsed": false,
    "ExecuteTime": {
     "end_time": "2024-04-16T22:00:00.447701300Z",
     "start_time": "2024-04-16T22:00:00.407441200Z"
    }
   },
   "id": "c14288cbd014a578"
  },
  {
   "cell_type": "code",
   "execution_count": 441,
   "outputs": [
    {
     "data": {
      "text/plain": "       #   año      fecha          tipo_actividad     formato       actividad  \\\n80  80.0  2023 2023-09-16  medios de comunicacion  presencial  Nacer Mujer TV   \n\n    cantidad     pais  ciudad   alcance  ... kit_insumos_gestiónmenstrual  \\\n80         1  Bolivia  La Paz  Nacional  ...                            0   \n\n   qipusmenstruales expo_duracion tematicataller  personal voluntarias  \\\n80                0           0.0            N/A         1           0   \n\n   expo_tiempo_elabtaller org_apoyo toallasdesechablesa  \\\n80                    0.0   Ninguno                   0   \n\n    tipodeestablecimiento_cat  \n80          medio audiovisual  \n\n[1 rows x 33 columns]",
      "text/html": "<div>\n<style scoped>\n    .dataframe tbody tr th:only-of-type {\n        vertical-align: middle;\n    }\n\n    .dataframe tbody tr th {\n        vertical-align: top;\n    }\n\n    .dataframe thead th {\n        text-align: right;\n    }\n</style>\n<table border=\"1\" class=\"dataframe\">\n  <thead>\n    <tr style=\"text-align: right;\">\n      <th></th>\n      <th>#</th>\n      <th>año</th>\n      <th>fecha</th>\n      <th>tipo_actividad</th>\n      <th>formato</th>\n      <th>actividad</th>\n      <th>cantidad</th>\n      <th>pais</th>\n      <th>ciudad</th>\n      <th>alcance</th>\n      <th>...</th>\n      <th>kit_insumos_gestiónmenstrual</th>\n      <th>qipusmenstruales</th>\n      <th>expo_duracion</th>\n      <th>tematicataller</th>\n      <th>personal</th>\n      <th>voluntarias</th>\n      <th>expo_tiempo_elabtaller</th>\n      <th>org_apoyo</th>\n      <th>toallasdesechablesa</th>\n      <th>tipodeestablecimiento_cat</th>\n    </tr>\n  </thead>\n  <tbody>\n    <tr>\n      <th>80</th>\n      <td>80.0</td>\n      <td>2023</td>\n      <td>2023-09-16</td>\n      <td>medios de comunicacion</td>\n      <td>presencial</td>\n      <td>Nacer Mujer TV</td>\n      <td>1</td>\n      <td>Bolivia</td>\n      <td>La Paz</td>\n      <td>Nacional</td>\n      <td>...</td>\n      <td>0</td>\n      <td>0</td>\n      <td>0.0</td>\n      <td>N/A</td>\n      <td>1</td>\n      <td>0</td>\n      <td>0.0</td>\n      <td>Ninguno</td>\n      <td>0</td>\n      <td>medio audiovisual</td>\n    </tr>\n  </tbody>\n</table>\n<p>1 rows × 33 columns</p>\n</div>"
     },
     "execution_count": 441,
     "metadata": {},
     "output_type": "execute_result"
    }
   ],
   "source": [
    "df_yawar_c.loc[df_yawar_c['tipodeestablecimiento_cat'].str.contains('medio'),:]"
   ],
   "metadata": {
    "collapsed": false,
    "ExecuteTime": {
     "end_time": "2024-04-16T22:00:02.263380500Z",
     "start_time": "2024-04-16T22:00:02.183728200Z"
    }
   },
   "id": "52d237cc0367a30"
  },
  {
   "cell_type": "code",
   "execution_count": 442,
   "outputs": [],
   "source": [
    "df_yawar_c.loc[df_yawar_c['tipodeestablecimiento_cat'].str.contains('medio'),'tipodeestablecimiento_cat']='Canal de Televisión'"
   ],
   "metadata": {
    "collapsed": false,
    "ExecuteTime": {
     "end_time": "2024-04-16T22:00:07.103924Z",
     "start_time": "2024-04-16T22:00:07.069264300Z"
    }
   },
   "id": "f1f26bc1575ccdfa"
  },
  {
   "cell_type": "code",
   "execution_count": 443,
   "outputs": [],
   "source": [
    "df_yawar_c['tipodeestablecimiento_cat']=df_yawar_c.loc[df_yawar_c['tipodeestablecimiento_cat']!='N/A','tipodeestablecimiento_cat'].str.lower()"
   ],
   "metadata": {
    "collapsed": false,
    "ExecuteTime": {
     "end_time": "2024-04-16T22:00:10.013093700Z",
     "start_time": "2024-04-16T22:00:09.956221100Z"
    }
   },
   "id": "4e0fb738decff32c"
  },
  {
   "cell_type": "code",
   "execution_count": 444,
   "outputs": [
    {
     "data": {
      "text/plain": "       #   año      fecha           tipo_actividad     formato  \\\n50  50.0  2023 2023-08-08                 difusion  presencial   \n51  51.0  2023 2023-09-28                 difusion  presencial   \n52  52.0  2021 2021-10-01     artistica y cultural  presencial   \n53  53.0  2021 2021-02-06     artistica y cultural  presencial   \n54  54.0  2021 2021-03-26     artistica y cultural  presencial   \n55  55.0  2021 2021-02-25     artistica y cultural  presencial   \n56  56.0  2022 2022-01-10     artistica y cultural  presencial   \n57  57.0  2022 2022-01-11     artistica y cultural  presencial   \n58  58.0  2023 2023-05-28     artistica y cultural  presencial   \n59  59.0  2023 2024-05-23     artistica y cultural  presencial   \n60  60.0  2023 2024-05-23            conversatorio  presencial   \n61  61.0  2022 2022-05-28            conversatorio     virtual   \n62  62.0  2022 2022-06-14            conversatorio     virtual   \n63  63.0  2023 2023-05-18     artistica y cultural  presencial   \n64  64.0  2023 2024-05-23                  campaña     virtual   \n65  65.0  2022 2022-03-21                  campaña     virtual   \n66  66.0  2021 2021-01-12                  campaña     virtual   \n67  67.0  2021 2021-01-12  difusion redes sociales     virtual   \n68  68.0  2021 2021-11-11  difusion redes sociales     virtual   \n69  69.0  2022 2022-10-06  difusion redes sociales     virtual   \n70  70.0  2022 2022-11-30  difusion redes sociales     virtual   \n71  71.0  2022 2022-05-28  difusion redes sociales     virtual   \n72  72.0  2022 2022-05-28  difusion redes sociales     virtual   \n73  73.0  2022 2022-05-28  difusion redes sociales     virtual   \n74  74.0  2022 2022-03-25   medios de comunicacion     virtual   \n75  75.0  2021 2021-11-16   medios de comunicacion     virtual   \n76  76.0  2022 2022-04-28   medios de comunicacion     virtual   \n77  77.0  2022 2022-08-06   medios de comunicacion  presencial   \n78  78.0  2022 2022-06-16   medios de comunicacion  presencial   \n79  79.0  2023 2023-03-22   medios de comunicacion  presencial   \n80  80.0  2023 2023-09-16   medios de comunicacion  presencial   \n81  81.0  2022 2022-04-13   medios de comunicacion     virtual   \n82  82.0  2022 2022-07-19   medios de comunicacion     virtual   \n83  83.0  2022 2022-05-27   medios de comunicacion     virtual   \n\n                                            actividad  cantidad  \\\n50                 Feria Internacional del Libro 2023         1   \n51    Feria Bulliciosa de la Campaña 28 de Septiembre         1   \n52  Primer Videopitch para campaña de recaudación ...         1   \n53  Un evento de Zumba y conversatorio para recaud...         1   \n54  Yawar Twerk, taller de twerk para recaudar fondos         1   \n55  Concierto Hip Hoppas y furiosas para recaudaci...         1   \n56  Elaboración de un mural menstrual, de 30 metro...         1   \n57               Cartilla educativa con ilustraciones         1   \n58  Un hip hop menstrual con su videoclip en el mural         1   \n59     Performance artística de danza y poesía, Sucre         1   \n60  Conversatorio UAGRAM en conmemoración del día ...         1   \n61  Conversatorio: \\nLA DESIGUALDAD MENSTRUAL Y EL...         1   \n62  Conversatorio UNIFRANZ: Viviendo la Menstruaci...         1   \n63                Participación en la Noche de Museos         1   \n64           Campaña de descuentos por Mayo Menstrual         1   \n65              Alianza calzones menstruales con Aura         1   \n66  Campaña navideña de descuentos en alianza con ...         0   \n67                                              artes        46   \n68                                       Videopitch 1         1   \n69                                       Videopitch 2         1   \n70                           Video de mural menstrual         1   \n71                        Video performance artística         1   \n72                                              reels        36   \n73                                 posts en instagram       116   \n74                                 Verdad con tinta 2         1   \n75                                 Verdad con tinta 1         1   \n76                                           Muy Waso         1   \n77                                     Correo del Sur         1   \n78                                       Revista Ekos         1   \n79                                        Agencia EFE         1   \n80                                     Nacer Mujer TV         1   \n81                                        Adich Radio         1   \n82                                        Adich Radio         1   \n83                                    radio Encuentro         1   \n\n                        pais                   ciudad        alcance  ...  \\\n50                   Bolivia                   La Paz       Nacional  ...   \n51                   Bolivia  Santa Cruz de la Sierra       Nacional  ...   \n52                   Bolivia                      N/A  Internacional  ...   \n53                 Australia                Melbourne  Internacional  ...   \n54                   Bolivia                    Sucre       Nacional  ...   \n55                   Bolivia                   La Paz       Nacional  ...   \n56                   Bolivia                    Sucre       Nacional  ...   \n57                   Bolivia                      N/A       Nacional  ...   \n58                   Bolivia                    Sucre       Nacional  ...   \n59                   Bolivia                    Sucre       Nacional  ...   \n60                   Bolivia  Santa Cruz de la Sierra       Nacional  ...   \n61  Estados Unidos Mexicanos            Internacional  Internacional  ...   \n62                   Bolivia                   La Paz       Nacional  ...   \n63                   Bolivia  Santa Cruz de la Sierra       Nacional  ...   \n64                   Bolivia                 Nacional       Nacional  ...   \n65                   Bolivia                      N/A       Nacional  ...   \n66            Estados Unidos     Bolivia y Nueva York  Internacional  ...   \n67                   Bolivia                      N/A       Nacional  ...   \n68                   Bolivia                   La Paz  Internacional  ...   \n69                   Bolivia                    Sucre       Nacional  ...   \n70                   Bolivia                    Sucre       Nacional  ...   \n71                   Bolivia                    Sucre       Nacional  ...   \n72                   Bolivia                      N/A  Internacional  ...   \n73                   Bolivia                      N/A  Internacional  ...   \n74                   Bolivia                      N/A       Nacional  ...   \n75                   Bolivia                      N/A       Nacional  ...   \n76                   Bolivia                      N/A       Nacional  ...   \n77                   Bolivia                      N/A       Nacional  ...   \n78                   Bolivia                      N/A       Nacional  ...   \n79                   Bolivia                      N/A  Internacional  ...   \n80                   Bolivia                   La Paz       Nacional  ...   \n81                   Bolivia                    Sucre       Nacional  ...   \n82                   Bolivia                    Sucre       Nacional  ...   \n83                   Bolivia                    Sucre       Nacional  ...   \n\n   kit_insumos_gestiónmenstrual qipusmenstruales expo_duracion tematicataller  \\\n50                            0                0           0.0            N/A   \n51                            0                0           0.0            N/A   \n52                            0                0           0.0            N/A   \n53                            0                0           0.0            N/A   \n54                            0                0           0.0            N/A   \n55                            0                0           0.0            N/A   \n56                            0                0           0.0            N/A   \n57                            0                0           0.0            N/A   \n58                            0                0           0.0            N/A   \n59                            0                0           0.0            N/A   \n60                            0                0           0.0            N/A   \n61                            0                0           0.0            N/A   \n62                            0                0           0.0            N/A   \n63                            0                0           0.0            N/A   \n64                            0                0           0.0            N/A   \n65                            0                0           0.0            N/A   \n66                            0                0           0.0            N/A   \n67                            0                0           0.0            N/A   \n68                            0                0           0.0            N/A   \n69                            0                0           0.0            N/A   \n70                            0                0           0.0            N/A   \n71                            0                0          10.0            N/A   \n72                            0                0           0.0            N/A   \n73                            0                0           0.0            N/A   \n74                            0                0           0.0            N/A   \n75                            0                0           0.0            N/A   \n76                            0                0           0.0            N/A   \n77                            0                0           0.0            N/A   \n78                            0                0           0.0            N/A   \n79                            0                0           0.0            N/A   \n80                            0                0           0.0            N/A   \n81                            0                0           0.0            N/A   \n82                            0                0           0.0            N/A   \n83                            0                0           0.0            N/A   \n\n    personal voluntarias expo_tiempo_elabtaller            org_apoyo  \\\n50         1           2                    0.0              Ninguno   \n51         1           1                    0.0              Ninguno   \n52         1           0                    0.0              Ninguno   \n53         1           0                    0.0              Ninguno   \n54         1           0                    0.0              Ninguno   \n55         1           0                    0.0              Ninguno   \n56         1           0                    0.0              Ninguno   \n57         1           0                    0.0              Ninguno   \n58         1           0                    0.0              Ninguno   \n59         1           0                    0.0              Ninguno   \n60         1           0                    0.0              Ninguno   \n61         1           0                    0.0              Ninguno   \n62         1           0                    0.0              Ninguno   \n63         1           0                    0.0              Ninguno   \n64         1           0                    0.0              Ninguno   \n65         1           0                    0.0              Ninguno   \n66         1           0                    0.0              Ninguno   \n67         1           0                    0.0              Ninguno   \n68         1           0                    0.0              Ninguno   \n69         1           0                    0.0              Ninguno   \n70         1           0                  360.0  Micros para Avanzar   \n71         4           2                  300.0        Fondo Apthapi   \n72         1           0                    0.0              Ninguno   \n73         1           0                    0.0              Ninguno   \n74         1           0                    0.0              Ninguno   \n75         1           0                    0.0              Ninguno   \n76         1           0                    0.0              Ninguno   \n77         1           0                    0.0              Ninguno   \n78         1           0                    0.0              Ninguno   \n79         1           0                    0.0              Ninguno   \n80         1           0                    0.0              Ninguno   \n81         1           0                    0.0              Ninguno   \n82         1           0                    0.0              Ninguno   \n83         1           0                    0.0              Ninguno   \n\n   toallasdesechablesa  tipodeestablecimiento_cat  \n50                   0                        NaN  \n51                   0                        NaN  \n52                   0                        NaN  \n53                   0                        NaN  \n54                   0                        NaN  \n55                   0                        NaN  \n56                   0                        NaN  \n57                   0                        NaN  \n58                   0                        NaN  \n59                   0                        NaN  \n60                   0                universidad  \n61                   0                        NaN  \n62                   0                        NaN  \n63                   0                        NaN  \n64                   0                        NaN  \n65                   0                        NaN  \n66                   0                        NaN  \n67                   0                        NaN  \n68                   0                        NaN  \n69                   0                        NaN  \n70                   0                        NaN  \n71                   0                        NaN  \n72                   0                        NaN  \n73                   0                        NaN  \n74                   0                        NaN  \n75                   0                        NaN  \n76                   0                        NaN  \n77                   0             prensa escrita  \n78                   0             prensa escrita  \n79                   0             prensa escrita  \n80                   0        canal de televisión  \n81                   0                        NaN  \n82                   0                        NaN  \n83                   0                        NaN  \n\n[34 rows x 33 columns]",
      "text/html": "<div>\n<style scoped>\n    .dataframe tbody tr th:only-of-type {\n        vertical-align: middle;\n    }\n\n    .dataframe tbody tr th {\n        vertical-align: top;\n    }\n\n    .dataframe thead th {\n        text-align: right;\n    }\n</style>\n<table border=\"1\" class=\"dataframe\">\n  <thead>\n    <tr style=\"text-align: right;\">\n      <th></th>\n      <th>#</th>\n      <th>año</th>\n      <th>fecha</th>\n      <th>tipo_actividad</th>\n      <th>formato</th>\n      <th>actividad</th>\n      <th>cantidad</th>\n      <th>pais</th>\n      <th>ciudad</th>\n      <th>alcance</th>\n      <th>...</th>\n      <th>kit_insumos_gestiónmenstrual</th>\n      <th>qipusmenstruales</th>\n      <th>expo_duracion</th>\n      <th>tematicataller</th>\n      <th>personal</th>\n      <th>voluntarias</th>\n      <th>expo_tiempo_elabtaller</th>\n      <th>org_apoyo</th>\n      <th>toallasdesechablesa</th>\n      <th>tipodeestablecimiento_cat</th>\n    </tr>\n  </thead>\n  <tbody>\n    <tr>\n      <th>50</th>\n      <td>50.0</td>\n      <td>2023</td>\n      <td>2023-08-08</td>\n      <td>difusion</td>\n      <td>presencial</td>\n      <td>Feria Internacional del Libro 2023</td>\n      <td>1</td>\n      <td>Bolivia</td>\n      <td>La Paz</td>\n      <td>Nacional</td>\n      <td>...</td>\n      <td>0</td>\n      <td>0</td>\n      <td>0.0</td>\n      <td>N/A</td>\n      <td>1</td>\n      <td>2</td>\n      <td>0.0</td>\n      <td>Ninguno</td>\n      <td>0</td>\n      <td>NaN</td>\n    </tr>\n    <tr>\n      <th>51</th>\n      <td>51.0</td>\n      <td>2023</td>\n      <td>2023-09-28</td>\n      <td>difusion</td>\n      <td>presencial</td>\n      <td>Feria Bulliciosa de la Campaña 28 de Septiembre</td>\n      <td>1</td>\n      <td>Bolivia</td>\n      <td>Santa Cruz de la Sierra</td>\n      <td>Nacional</td>\n      <td>...</td>\n      <td>0</td>\n      <td>0</td>\n      <td>0.0</td>\n      <td>N/A</td>\n      <td>1</td>\n      <td>1</td>\n      <td>0.0</td>\n      <td>Ninguno</td>\n      <td>0</td>\n      <td>NaN</td>\n    </tr>\n    <tr>\n      <th>52</th>\n      <td>52.0</td>\n      <td>2021</td>\n      <td>2021-10-01</td>\n      <td>artistica y cultural</td>\n      <td>presencial</td>\n      <td>Primer Videopitch para campaña de recaudación ...</td>\n      <td>1</td>\n      <td>Bolivia</td>\n      <td>N/A</td>\n      <td>Internacional</td>\n      <td>...</td>\n      <td>0</td>\n      <td>0</td>\n      <td>0.0</td>\n      <td>N/A</td>\n      <td>1</td>\n      <td>0</td>\n      <td>0.0</td>\n      <td>Ninguno</td>\n      <td>0</td>\n      <td>NaN</td>\n    </tr>\n    <tr>\n      <th>53</th>\n      <td>53.0</td>\n      <td>2021</td>\n      <td>2021-02-06</td>\n      <td>artistica y cultural</td>\n      <td>presencial</td>\n      <td>Un evento de Zumba y conversatorio para recaud...</td>\n      <td>1</td>\n      <td>Australia</td>\n      <td>Melbourne</td>\n      <td>Internacional</td>\n      <td>...</td>\n      <td>0</td>\n      <td>0</td>\n      <td>0.0</td>\n      <td>N/A</td>\n      <td>1</td>\n      <td>0</td>\n      <td>0.0</td>\n      <td>Ninguno</td>\n      <td>0</td>\n      <td>NaN</td>\n    </tr>\n    <tr>\n      <th>54</th>\n      <td>54.0</td>\n      <td>2021</td>\n      <td>2021-03-26</td>\n      <td>artistica y cultural</td>\n      <td>presencial</td>\n      <td>Yawar Twerk, taller de twerk para recaudar fondos</td>\n      <td>1</td>\n      <td>Bolivia</td>\n      <td>Sucre</td>\n      <td>Nacional</td>\n      <td>...</td>\n      <td>0</td>\n      <td>0</td>\n      <td>0.0</td>\n      <td>N/A</td>\n      <td>1</td>\n      <td>0</td>\n      <td>0.0</td>\n      <td>Ninguno</td>\n      <td>0</td>\n      <td>NaN</td>\n    </tr>\n    <tr>\n      <th>55</th>\n      <td>55.0</td>\n      <td>2021</td>\n      <td>2021-02-25</td>\n      <td>artistica y cultural</td>\n      <td>presencial</td>\n      <td>Concierto Hip Hoppas y furiosas para recaudaci...</td>\n      <td>1</td>\n      <td>Bolivia</td>\n      <td>La Paz</td>\n      <td>Nacional</td>\n      <td>...</td>\n      <td>0</td>\n      <td>0</td>\n      <td>0.0</td>\n      <td>N/A</td>\n      <td>1</td>\n      <td>0</td>\n      <td>0.0</td>\n      <td>Ninguno</td>\n      <td>0</td>\n      <td>NaN</td>\n    </tr>\n    <tr>\n      <th>56</th>\n      <td>56.0</td>\n      <td>2022</td>\n      <td>2022-01-10</td>\n      <td>artistica y cultural</td>\n      <td>presencial</td>\n      <td>Elaboración de un mural menstrual, de 30 metro...</td>\n      <td>1</td>\n      <td>Bolivia</td>\n      <td>Sucre</td>\n      <td>Nacional</td>\n      <td>...</td>\n      <td>0</td>\n      <td>0</td>\n      <td>0.0</td>\n      <td>N/A</td>\n      <td>1</td>\n      <td>0</td>\n      <td>0.0</td>\n      <td>Ninguno</td>\n      <td>0</td>\n      <td>NaN</td>\n    </tr>\n    <tr>\n      <th>57</th>\n      <td>57.0</td>\n      <td>2022</td>\n      <td>2022-01-11</td>\n      <td>artistica y cultural</td>\n      <td>presencial</td>\n      <td>Cartilla educativa con ilustraciones</td>\n      <td>1</td>\n      <td>Bolivia</td>\n      <td>N/A</td>\n      <td>Nacional</td>\n      <td>...</td>\n      <td>0</td>\n      <td>0</td>\n      <td>0.0</td>\n      <td>N/A</td>\n      <td>1</td>\n      <td>0</td>\n      <td>0.0</td>\n      <td>Ninguno</td>\n      <td>0</td>\n      <td>NaN</td>\n    </tr>\n    <tr>\n      <th>58</th>\n      <td>58.0</td>\n      <td>2023</td>\n      <td>2023-05-28</td>\n      <td>artistica y cultural</td>\n      <td>presencial</td>\n      <td>Un hip hop menstrual con su videoclip en el mural</td>\n      <td>1</td>\n      <td>Bolivia</td>\n      <td>Sucre</td>\n      <td>Nacional</td>\n      <td>...</td>\n      <td>0</td>\n      <td>0</td>\n      <td>0.0</td>\n      <td>N/A</td>\n      <td>1</td>\n      <td>0</td>\n      <td>0.0</td>\n      <td>Ninguno</td>\n      <td>0</td>\n      <td>NaN</td>\n    </tr>\n    <tr>\n      <th>59</th>\n      <td>59.0</td>\n      <td>2023</td>\n      <td>2024-05-23</td>\n      <td>artistica y cultural</td>\n      <td>presencial</td>\n      <td>Performance artística de danza y poesía, Sucre</td>\n      <td>1</td>\n      <td>Bolivia</td>\n      <td>Sucre</td>\n      <td>Nacional</td>\n      <td>...</td>\n      <td>0</td>\n      <td>0</td>\n      <td>0.0</td>\n      <td>N/A</td>\n      <td>1</td>\n      <td>0</td>\n      <td>0.0</td>\n      <td>Ninguno</td>\n      <td>0</td>\n      <td>NaN</td>\n    </tr>\n    <tr>\n      <th>60</th>\n      <td>60.0</td>\n      <td>2023</td>\n      <td>2024-05-23</td>\n      <td>conversatorio</td>\n      <td>presencial</td>\n      <td>Conversatorio UAGRAM en conmemoración del día ...</td>\n      <td>1</td>\n      <td>Bolivia</td>\n      <td>Santa Cruz de la Sierra</td>\n      <td>Nacional</td>\n      <td>...</td>\n      <td>0</td>\n      <td>0</td>\n      <td>0.0</td>\n      <td>N/A</td>\n      <td>1</td>\n      <td>0</td>\n      <td>0.0</td>\n      <td>Ninguno</td>\n      <td>0</td>\n      <td>universidad</td>\n    </tr>\n    <tr>\n      <th>61</th>\n      <td>61.0</td>\n      <td>2022</td>\n      <td>2022-05-28</td>\n      <td>conversatorio</td>\n      <td>virtual</td>\n      <td>Conversatorio: \\nLA DESIGUALDAD MENSTRUAL Y EL...</td>\n      <td>1</td>\n      <td>Estados Unidos Mexicanos</td>\n      <td>Internacional</td>\n      <td>Internacional</td>\n      <td>...</td>\n      <td>0</td>\n      <td>0</td>\n      <td>0.0</td>\n      <td>N/A</td>\n      <td>1</td>\n      <td>0</td>\n      <td>0.0</td>\n      <td>Ninguno</td>\n      <td>0</td>\n      <td>NaN</td>\n    </tr>\n    <tr>\n      <th>62</th>\n      <td>62.0</td>\n      <td>2022</td>\n      <td>2022-06-14</td>\n      <td>conversatorio</td>\n      <td>virtual</td>\n      <td>Conversatorio UNIFRANZ: Viviendo la Menstruaci...</td>\n      <td>1</td>\n      <td>Bolivia</td>\n      <td>La Paz</td>\n      <td>Nacional</td>\n      <td>...</td>\n      <td>0</td>\n      <td>0</td>\n      <td>0.0</td>\n      <td>N/A</td>\n      <td>1</td>\n      <td>0</td>\n      <td>0.0</td>\n      <td>Ninguno</td>\n      <td>0</td>\n      <td>NaN</td>\n    </tr>\n    <tr>\n      <th>63</th>\n      <td>63.0</td>\n      <td>2023</td>\n      <td>2023-05-18</td>\n      <td>artistica y cultural</td>\n      <td>presencial</td>\n      <td>Participación en la Noche de Museos</td>\n      <td>1</td>\n      <td>Bolivia</td>\n      <td>Santa Cruz de la Sierra</td>\n      <td>Nacional</td>\n      <td>...</td>\n      <td>0</td>\n      <td>0</td>\n      <td>0.0</td>\n      <td>N/A</td>\n      <td>1</td>\n      <td>0</td>\n      <td>0.0</td>\n      <td>Ninguno</td>\n      <td>0</td>\n      <td>NaN</td>\n    </tr>\n    <tr>\n      <th>64</th>\n      <td>64.0</td>\n      <td>2023</td>\n      <td>2024-05-23</td>\n      <td>campaña</td>\n      <td>virtual</td>\n      <td>Campaña de descuentos por Mayo Menstrual</td>\n      <td>1</td>\n      <td>Bolivia</td>\n      <td>Nacional</td>\n      <td>Nacional</td>\n      <td>...</td>\n      <td>0</td>\n      <td>0</td>\n      <td>0.0</td>\n      <td>N/A</td>\n      <td>1</td>\n      <td>0</td>\n      <td>0.0</td>\n      <td>Ninguno</td>\n      <td>0</td>\n      <td>NaN</td>\n    </tr>\n    <tr>\n      <th>65</th>\n      <td>65.0</td>\n      <td>2022</td>\n      <td>2022-03-21</td>\n      <td>campaña</td>\n      <td>virtual</td>\n      <td>Alianza calzones menstruales con Aura</td>\n      <td>1</td>\n      <td>Bolivia</td>\n      <td>N/A</td>\n      <td>Nacional</td>\n      <td>...</td>\n      <td>0</td>\n      <td>0</td>\n      <td>0.0</td>\n      <td>N/A</td>\n      <td>1</td>\n      <td>0</td>\n      <td>0.0</td>\n      <td>Ninguno</td>\n      <td>0</td>\n      <td>NaN</td>\n    </tr>\n    <tr>\n      <th>66</th>\n      <td>66.0</td>\n      <td>2021</td>\n      <td>2021-01-12</td>\n      <td>campaña</td>\n      <td>virtual</td>\n      <td>Campaña navideña de descuentos en alianza con ...</td>\n      <td>0</td>\n      <td>Estados Unidos</td>\n      <td>Bolivia y Nueva York</td>\n      <td>Internacional</td>\n      <td>...</td>\n      <td>0</td>\n      <td>0</td>\n      <td>0.0</td>\n      <td>N/A</td>\n      <td>1</td>\n      <td>0</td>\n      <td>0.0</td>\n      <td>Ninguno</td>\n      <td>0</td>\n      <td>NaN</td>\n    </tr>\n    <tr>\n      <th>67</th>\n      <td>67.0</td>\n      <td>2021</td>\n      <td>2021-01-12</td>\n      <td>difusion redes sociales</td>\n      <td>virtual</td>\n      <td>artes</td>\n      <td>46</td>\n      <td>Bolivia</td>\n      <td>N/A</td>\n      <td>Nacional</td>\n      <td>...</td>\n      <td>0</td>\n      <td>0</td>\n      <td>0.0</td>\n      <td>N/A</td>\n      <td>1</td>\n      <td>0</td>\n      <td>0.0</td>\n      <td>Ninguno</td>\n      <td>0</td>\n      <td>NaN</td>\n    </tr>\n    <tr>\n      <th>68</th>\n      <td>68.0</td>\n      <td>2021</td>\n      <td>2021-11-11</td>\n      <td>difusion redes sociales</td>\n      <td>virtual</td>\n      <td>Videopitch 1</td>\n      <td>1</td>\n      <td>Bolivia</td>\n      <td>La Paz</td>\n      <td>Internacional</td>\n      <td>...</td>\n      <td>0</td>\n      <td>0</td>\n      <td>0.0</td>\n      <td>N/A</td>\n      <td>1</td>\n      <td>0</td>\n      <td>0.0</td>\n      <td>Ninguno</td>\n      <td>0</td>\n      <td>NaN</td>\n    </tr>\n    <tr>\n      <th>69</th>\n      <td>69.0</td>\n      <td>2022</td>\n      <td>2022-10-06</td>\n      <td>difusion redes sociales</td>\n      <td>virtual</td>\n      <td>Videopitch 2</td>\n      <td>1</td>\n      <td>Bolivia</td>\n      <td>Sucre</td>\n      <td>Nacional</td>\n      <td>...</td>\n      <td>0</td>\n      <td>0</td>\n      <td>0.0</td>\n      <td>N/A</td>\n      <td>1</td>\n      <td>0</td>\n      <td>0.0</td>\n      <td>Ninguno</td>\n      <td>0</td>\n      <td>NaN</td>\n    </tr>\n    <tr>\n      <th>70</th>\n      <td>70.0</td>\n      <td>2022</td>\n      <td>2022-11-30</td>\n      <td>difusion redes sociales</td>\n      <td>virtual</td>\n      <td>Video de mural menstrual</td>\n      <td>1</td>\n      <td>Bolivia</td>\n      <td>Sucre</td>\n      <td>Nacional</td>\n      <td>...</td>\n      <td>0</td>\n      <td>0</td>\n      <td>0.0</td>\n      <td>N/A</td>\n      <td>1</td>\n      <td>0</td>\n      <td>360.0</td>\n      <td>Micros para Avanzar</td>\n      <td>0</td>\n      <td>NaN</td>\n    </tr>\n    <tr>\n      <th>71</th>\n      <td>71.0</td>\n      <td>2022</td>\n      <td>2022-05-28</td>\n      <td>difusion redes sociales</td>\n      <td>virtual</td>\n      <td>Video performance artística</td>\n      <td>1</td>\n      <td>Bolivia</td>\n      <td>Sucre</td>\n      <td>Nacional</td>\n      <td>...</td>\n      <td>0</td>\n      <td>0</td>\n      <td>10.0</td>\n      <td>N/A</td>\n      <td>4</td>\n      <td>2</td>\n      <td>300.0</td>\n      <td>Fondo Apthapi</td>\n      <td>0</td>\n      <td>NaN</td>\n    </tr>\n    <tr>\n      <th>72</th>\n      <td>72.0</td>\n      <td>2022</td>\n      <td>2022-05-28</td>\n      <td>difusion redes sociales</td>\n      <td>virtual</td>\n      <td>reels</td>\n      <td>36</td>\n      <td>Bolivia</td>\n      <td>N/A</td>\n      <td>Internacional</td>\n      <td>...</td>\n      <td>0</td>\n      <td>0</td>\n      <td>0.0</td>\n      <td>N/A</td>\n      <td>1</td>\n      <td>0</td>\n      <td>0.0</td>\n      <td>Ninguno</td>\n      <td>0</td>\n      <td>NaN</td>\n    </tr>\n    <tr>\n      <th>73</th>\n      <td>73.0</td>\n      <td>2022</td>\n      <td>2022-05-28</td>\n      <td>difusion redes sociales</td>\n      <td>virtual</td>\n      <td>posts en instagram</td>\n      <td>116</td>\n      <td>Bolivia</td>\n      <td>N/A</td>\n      <td>Internacional</td>\n      <td>...</td>\n      <td>0</td>\n      <td>0</td>\n      <td>0.0</td>\n      <td>N/A</td>\n      <td>1</td>\n      <td>0</td>\n      <td>0.0</td>\n      <td>Ninguno</td>\n      <td>0</td>\n      <td>NaN</td>\n    </tr>\n    <tr>\n      <th>74</th>\n      <td>74.0</td>\n      <td>2022</td>\n      <td>2022-03-25</td>\n      <td>medios de comunicacion</td>\n      <td>virtual</td>\n      <td>Verdad con tinta 2</td>\n      <td>1</td>\n      <td>Bolivia</td>\n      <td>N/A</td>\n      <td>Nacional</td>\n      <td>...</td>\n      <td>0</td>\n      <td>0</td>\n      <td>0.0</td>\n      <td>N/A</td>\n      <td>1</td>\n      <td>0</td>\n      <td>0.0</td>\n      <td>Ninguno</td>\n      <td>0</td>\n      <td>NaN</td>\n    </tr>\n    <tr>\n      <th>75</th>\n      <td>75.0</td>\n      <td>2021</td>\n      <td>2021-11-16</td>\n      <td>medios de comunicacion</td>\n      <td>virtual</td>\n      <td>Verdad con tinta 1</td>\n      <td>1</td>\n      <td>Bolivia</td>\n      <td>N/A</td>\n      <td>Nacional</td>\n      <td>...</td>\n      <td>0</td>\n      <td>0</td>\n      <td>0.0</td>\n      <td>N/A</td>\n      <td>1</td>\n      <td>0</td>\n      <td>0.0</td>\n      <td>Ninguno</td>\n      <td>0</td>\n      <td>NaN</td>\n    </tr>\n    <tr>\n      <th>76</th>\n      <td>76.0</td>\n      <td>2022</td>\n      <td>2022-04-28</td>\n      <td>medios de comunicacion</td>\n      <td>virtual</td>\n      <td>Muy Waso</td>\n      <td>1</td>\n      <td>Bolivia</td>\n      <td>N/A</td>\n      <td>Nacional</td>\n      <td>...</td>\n      <td>0</td>\n      <td>0</td>\n      <td>0.0</td>\n      <td>N/A</td>\n      <td>1</td>\n      <td>0</td>\n      <td>0.0</td>\n      <td>Ninguno</td>\n      <td>0</td>\n      <td>NaN</td>\n    </tr>\n    <tr>\n      <th>77</th>\n      <td>77.0</td>\n      <td>2022</td>\n      <td>2022-08-06</td>\n      <td>medios de comunicacion</td>\n      <td>presencial</td>\n      <td>Correo del Sur</td>\n      <td>1</td>\n      <td>Bolivia</td>\n      <td>N/A</td>\n      <td>Nacional</td>\n      <td>...</td>\n      <td>0</td>\n      <td>0</td>\n      <td>0.0</td>\n      <td>N/A</td>\n      <td>1</td>\n      <td>0</td>\n      <td>0.0</td>\n      <td>Ninguno</td>\n      <td>0</td>\n      <td>prensa escrita</td>\n    </tr>\n    <tr>\n      <th>78</th>\n      <td>78.0</td>\n      <td>2022</td>\n      <td>2022-06-16</td>\n      <td>medios de comunicacion</td>\n      <td>presencial</td>\n      <td>Revista Ekos</td>\n      <td>1</td>\n      <td>Bolivia</td>\n      <td>N/A</td>\n      <td>Nacional</td>\n      <td>...</td>\n      <td>0</td>\n      <td>0</td>\n      <td>0.0</td>\n      <td>N/A</td>\n      <td>1</td>\n      <td>0</td>\n      <td>0.0</td>\n      <td>Ninguno</td>\n      <td>0</td>\n      <td>prensa escrita</td>\n    </tr>\n    <tr>\n      <th>79</th>\n      <td>79.0</td>\n      <td>2023</td>\n      <td>2023-03-22</td>\n      <td>medios de comunicacion</td>\n      <td>presencial</td>\n      <td>Agencia EFE</td>\n      <td>1</td>\n      <td>Bolivia</td>\n      <td>N/A</td>\n      <td>Internacional</td>\n      <td>...</td>\n      <td>0</td>\n      <td>0</td>\n      <td>0.0</td>\n      <td>N/A</td>\n      <td>1</td>\n      <td>0</td>\n      <td>0.0</td>\n      <td>Ninguno</td>\n      <td>0</td>\n      <td>prensa escrita</td>\n    </tr>\n    <tr>\n      <th>80</th>\n      <td>80.0</td>\n      <td>2023</td>\n      <td>2023-09-16</td>\n      <td>medios de comunicacion</td>\n      <td>presencial</td>\n      <td>Nacer Mujer TV</td>\n      <td>1</td>\n      <td>Bolivia</td>\n      <td>La Paz</td>\n      <td>Nacional</td>\n      <td>...</td>\n      <td>0</td>\n      <td>0</td>\n      <td>0.0</td>\n      <td>N/A</td>\n      <td>1</td>\n      <td>0</td>\n      <td>0.0</td>\n      <td>Ninguno</td>\n      <td>0</td>\n      <td>canal de televisión</td>\n    </tr>\n    <tr>\n      <th>81</th>\n      <td>81.0</td>\n      <td>2022</td>\n      <td>2022-04-13</td>\n      <td>medios de comunicacion</td>\n      <td>virtual</td>\n      <td>Adich Radio</td>\n      <td>1</td>\n      <td>Bolivia</td>\n      <td>Sucre</td>\n      <td>Nacional</td>\n      <td>...</td>\n      <td>0</td>\n      <td>0</td>\n      <td>0.0</td>\n      <td>N/A</td>\n      <td>1</td>\n      <td>0</td>\n      <td>0.0</td>\n      <td>Ninguno</td>\n      <td>0</td>\n      <td>NaN</td>\n    </tr>\n    <tr>\n      <th>82</th>\n      <td>82.0</td>\n      <td>2022</td>\n      <td>2022-07-19</td>\n      <td>medios de comunicacion</td>\n      <td>virtual</td>\n      <td>Adich Radio</td>\n      <td>1</td>\n      <td>Bolivia</td>\n      <td>Sucre</td>\n      <td>Nacional</td>\n      <td>...</td>\n      <td>0</td>\n      <td>0</td>\n      <td>0.0</td>\n      <td>N/A</td>\n      <td>1</td>\n      <td>0</td>\n      <td>0.0</td>\n      <td>Ninguno</td>\n      <td>0</td>\n      <td>NaN</td>\n    </tr>\n    <tr>\n      <th>83</th>\n      <td>83.0</td>\n      <td>2022</td>\n      <td>2022-05-27</td>\n      <td>medios de comunicacion</td>\n      <td>virtual</td>\n      <td>radio Encuentro</td>\n      <td>1</td>\n      <td>Bolivia</td>\n      <td>Sucre</td>\n      <td>Nacional</td>\n      <td>...</td>\n      <td>0</td>\n      <td>0</td>\n      <td>0.0</td>\n      <td>N/A</td>\n      <td>1</td>\n      <td>0</td>\n      <td>0.0</td>\n      <td>Ninguno</td>\n      <td>0</td>\n      <td>NaN</td>\n    </tr>\n  </tbody>\n</table>\n<p>34 rows × 33 columns</p>\n</div>"
     },
     "execution_count": 444,
     "metadata": {},
     "output_type": "execute_result"
    }
   ],
   "source": [
    "df_yawar_c[df_yawar_c['edad']=='N/A']"
   ],
   "metadata": {
    "collapsed": false,
    "ExecuteTime": {
     "end_time": "2024-04-16T22:00:15.371719800Z",
     "start_time": "2024-04-16T22:00:15.187068300Z"
    }
   },
   "id": "e0a5afd4a340a5d1"
  },
  {
   "cell_type": "code",
   "execution_count": 445,
   "outputs": [],
   "source": [
    "df_yawar_c.loc[df_yawar_c['edad']=='no aplica','edad']='N/A'"
   ],
   "metadata": {
    "collapsed": false,
    "ExecuteTime": {
     "end_time": "2024-04-16T22:00:19.747709300Z",
     "start_time": "2024-04-16T22:00:19.721523100Z"
    }
   },
   "id": "a47a9e0f3d949072"
  },
  {
   "cell_type": "code",
   "execution_count": 446,
   "outputs": [
    {
     "data": {
      "text/plain": "edad\nN/A                    34\n18-36                   7\n18-25                   6\n18-35                   5\n15-17                   4\n13-17                   3\n2024-12-10 00:00:00     2\n14-17                   2\n25-50                   2\n20-40                   2\n13-14                   2\n18-26                   2\n11-16                   2\n10-13                   1\n10-14                   1\n18-50                   1\n20-28                   1\n10-16                   1\n12                      1\n24-45                   1\n11-13                   1\n2024-12-11 00:00:00     1\n12-17                   1\n16-18                   1\nName: count, dtype: int64"
     },
     "execution_count": 446,
     "metadata": {},
     "output_type": "execute_result"
    }
   ],
   "source": [
    "df_yawar_c['edad'].value_counts()"
   ],
   "metadata": {
    "collapsed": false,
    "ExecuteTime": {
     "end_time": "2024-04-16T22:00:21.782835500Z",
     "start_time": "2024-04-16T22:00:21.746923100Z"
    }
   },
   "id": "60eb072361e5734e"
  },
  {
   "cell_type": "code",
   "execution_count": 457,
   "outputs": [
    {
     "data": {
      "text/plain": "4                      12\n5     2024-12-10 00:00:00\n8     2024-12-11 00:00:00\n34    2024-12-10 00:00:00\n50                    N/A\n51                    N/A\n52                    N/A\n53                    N/A\n54                    N/A\n55                    N/A\n56                    N/A\n57                    N/A\n58                    N/A\n59                    N/A\n60                    N/A\n61                    N/A\n62                    N/A\n63                    N/A\n64                    N/A\n65                    N/A\n66                    N/A\n67                    N/A\n68                    N/A\n69                    N/A\n70                    N/A\n71                    N/A\n72                    N/A\n73                    N/A\n74                    N/A\n75                    N/A\n76                    N/A\n77                    N/A\n78                    N/A\n79                    N/A\n80                    N/A\n81                    N/A\n82                    N/A\n83                    N/A\nName: edad, dtype: object"
     },
     "execution_count": 457,
     "metadata": {},
     "output_type": "execute_result"
    }
   ],
   "source": [
    "df_yawar_c.loc[~df_yawar_c['edad'].str.contains('-', na=False), 'edad']\n",
    "#df_yawar_c.loc[[4,5,8,34],:]"
   ],
   "metadata": {
    "collapsed": false,
    "ExecuteTime": {
     "end_time": "2024-04-16T22:04:38.093025Z",
     "start_time": "2024-04-16T22:04:38.032717Z"
    }
   },
   "id": "5cd889c15461d02"
  },
  {
   "cell_type": "code",
   "execution_count": 459,
   "outputs": [],
   "source": [
    "df_yawar_c.loc[4,'edad']='12-12'"
   ],
   "metadata": {
    "collapsed": false,
    "ExecuteTime": {
     "end_time": "2024-04-16T22:06:00.952698800Z",
     "start_time": "2024-04-16T22:06:00.798808400Z"
    }
   },
   "id": "95b4dd532e4dd0ed"
  },
  {
   "cell_type": "code",
   "execution_count": 460,
   "outputs": [],
   "source": [
    "df_yawar_c.loc[[5,34],'edad']='10-12'"
   ],
   "metadata": {
    "collapsed": false,
    "ExecuteTime": {
     "end_time": "2024-04-16T22:06:22.272695100Z",
     "start_time": "2024-04-16T22:06:22.240716800Z"
    }
   },
   "id": "d754cc4b9bc66813"
  },
  {
   "cell_type": "code",
   "execution_count": 461,
   "outputs": [],
   "source": [
    "df_yawar_c.loc[[8],'edad']='11-12'"
   ],
   "metadata": {
    "collapsed": false,
    "ExecuteTime": {
     "end_time": "2024-04-16T22:06:27.611586300Z",
     "start_time": "2024-04-16T22:06:27.565498100Z"
    }
   },
   "id": "f3c9ab93bd3db5cc"
  },
  {
   "cell_type": "markdown",
   "source": [
    "Adding another column to establish ranges within group ages"
   ],
   "metadata": {
    "collapsed": false
   },
   "id": "d13c703ec05e946c"
  },
  {
   "cell_type": "code",
   "execution_count": 462,
   "outputs": [
    {
     "data": {
      "text/plain": "edad\nN/A      34\n18-36     7\n18-25     6\n18-35     5\n15-17     4\n13-17     3\n10-12     2\n14-17     2\n25-50     2\n20-40     2\n13-14     2\n18-26     2\n11-16     2\n10-13     1\n10-14     1\n18-50     1\n20-28     1\n10-16     1\n12-12     1\n24-45     1\n11-13     1\n11-12     1\n12-17     1\n16-18     1\nName: count, dtype: int64"
     },
     "execution_count": 462,
     "metadata": {},
     "output_type": "execute_result"
    }
   ],
   "source": [
    "df_yawar_c['edad'].value_counts()"
   ],
   "metadata": {
    "collapsed": false,
    "ExecuteTime": {
     "end_time": "2024-04-16T22:06:36.074712200Z",
     "start_time": "2024-04-16T22:06:36.041737600Z"
    }
   },
   "id": "fa8e6d919028c1b7"
  },
  {
   "cell_type": "markdown",
   "source": [
    "It has been important to stablish a difference among certaing age groups, accorsingly to this thematic this clasification was done. "
   ],
   "metadata": {
    "collapsed": false
   },
   "id": "bf31ae576e4edd81"
  },
  {
   "cell_type": "code",
   "execution_count": 481,
   "outputs": [],
   "source": [
    "df_yawar_c['9-11'] = 0\n",
    "df_yawar_c['12-14'] = 0 \n",
    "df_yawar_c['15-24'] = 0\n",
    "df_yawar_c['25-47'] = 0\n",
    "df_yawar_c['48-100'] = 0"
   ],
   "metadata": {
    "collapsed": false,
    "ExecuteTime": {
     "end_time": "2024-04-16T22:25:54.598722800Z",
     "start_time": "2024-04-16T22:25:54.536907800Z"
    }
   },
   "id": "ee4f1caa58ce84db"
  },
  {
   "cell_type": "code",
   "execution_count": 485,
   "outputs": [
    {
     "data": {
      "text/plain": "       #   año      fecha          tipo_actividad     formato  \\\n79  79.0  2023 2023-03-22  medios de comunicacion  presencial   \n80  80.0  2023 2023-09-16  medios de comunicacion  presencial   \n81  81.0  2022 2022-04-13  medios de comunicacion     virtual   \n82  82.0  2022 2022-07-19  medios de comunicacion     virtual   \n83  83.0  2022 2022-05-27  medios de comunicacion     virtual   \n\n          actividad  cantidad     pais  ciudad        alcance  ...  \\\n79      Agencia EFE         1  Bolivia     N/A  Internacional  ...   \n80   Nacer Mujer TV         1  Bolivia  La Paz       Nacional  ...   \n81      Adich Radio         1  Bolivia   Sucre       Nacional  ...   \n82      Adich Radio         1  Bolivia   Sucre       Nacional  ...   \n83  radio Encuentro         1  Bolivia   Sucre       Nacional  ...   \n\n   toallasdesechablesa tipodeestablecimiento_cat edad_init edad_fin  \\\n79                   0            prensa escrita         0      NaN   \n80                   0       canal de televisión         0      NaN   \n81                   0                       NaN         0      NaN   \n82                   0                       NaN         0      NaN   \n83                   0                       NaN         0      NaN   \n\n    AgeGroup_edad_init 9-11 12-14 15-24 25-47  48-100  \n79                 NaN    0     0     0     0       0  \n80                 NaN    0     0     0     0       0  \n81                 NaN    0     0     0     0       0  \n82                 NaN    0     0     0     0       0  \n83                 NaN    0     0     0     0       0  \n\n[5 rows x 41 columns]",
      "text/html": "<div>\n<style scoped>\n    .dataframe tbody tr th:only-of-type {\n        vertical-align: middle;\n    }\n\n    .dataframe tbody tr th {\n        vertical-align: top;\n    }\n\n    .dataframe thead th {\n        text-align: right;\n    }\n</style>\n<table border=\"1\" class=\"dataframe\">\n  <thead>\n    <tr style=\"text-align: right;\">\n      <th></th>\n      <th>#</th>\n      <th>año</th>\n      <th>fecha</th>\n      <th>tipo_actividad</th>\n      <th>formato</th>\n      <th>actividad</th>\n      <th>cantidad</th>\n      <th>pais</th>\n      <th>ciudad</th>\n      <th>alcance</th>\n      <th>...</th>\n      <th>toallasdesechablesa</th>\n      <th>tipodeestablecimiento_cat</th>\n      <th>edad_init</th>\n      <th>edad_fin</th>\n      <th>AgeGroup_edad_init</th>\n      <th>9-11</th>\n      <th>12-14</th>\n      <th>15-24</th>\n      <th>25-47</th>\n      <th>48-100</th>\n    </tr>\n  </thead>\n  <tbody>\n    <tr>\n      <th>79</th>\n      <td>79.0</td>\n      <td>2023</td>\n      <td>2023-03-22</td>\n      <td>medios de comunicacion</td>\n      <td>presencial</td>\n      <td>Agencia EFE</td>\n      <td>1</td>\n      <td>Bolivia</td>\n      <td>N/A</td>\n      <td>Internacional</td>\n      <td>...</td>\n      <td>0</td>\n      <td>prensa escrita</td>\n      <td>0</td>\n      <td>NaN</td>\n      <td>NaN</td>\n      <td>0</td>\n      <td>0</td>\n      <td>0</td>\n      <td>0</td>\n      <td>0</td>\n    </tr>\n    <tr>\n      <th>80</th>\n      <td>80.0</td>\n      <td>2023</td>\n      <td>2023-09-16</td>\n      <td>medios de comunicacion</td>\n      <td>presencial</td>\n      <td>Nacer Mujer TV</td>\n      <td>1</td>\n      <td>Bolivia</td>\n      <td>La Paz</td>\n      <td>Nacional</td>\n      <td>...</td>\n      <td>0</td>\n      <td>canal de televisión</td>\n      <td>0</td>\n      <td>NaN</td>\n      <td>NaN</td>\n      <td>0</td>\n      <td>0</td>\n      <td>0</td>\n      <td>0</td>\n      <td>0</td>\n    </tr>\n    <tr>\n      <th>81</th>\n      <td>81.0</td>\n      <td>2022</td>\n      <td>2022-04-13</td>\n      <td>medios de comunicacion</td>\n      <td>virtual</td>\n      <td>Adich Radio</td>\n      <td>1</td>\n      <td>Bolivia</td>\n      <td>Sucre</td>\n      <td>Nacional</td>\n      <td>...</td>\n      <td>0</td>\n      <td>NaN</td>\n      <td>0</td>\n      <td>NaN</td>\n      <td>NaN</td>\n      <td>0</td>\n      <td>0</td>\n      <td>0</td>\n      <td>0</td>\n      <td>0</td>\n    </tr>\n    <tr>\n      <th>82</th>\n      <td>82.0</td>\n      <td>2022</td>\n      <td>2022-07-19</td>\n      <td>medios de comunicacion</td>\n      <td>virtual</td>\n      <td>Adich Radio</td>\n      <td>1</td>\n      <td>Bolivia</td>\n      <td>Sucre</td>\n      <td>Nacional</td>\n      <td>...</td>\n      <td>0</td>\n      <td>NaN</td>\n      <td>0</td>\n      <td>NaN</td>\n      <td>NaN</td>\n      <td>0</td>\n      <td>0</td>\n      <td>0</td>\n      <td>0</td>\n      <td>0</td>\n    </tr>\n    <tr>\n      <th>83</th>\n      <td>83.0</td>\n      <td>2022</td>\n      <td>2022-05-27</td>\n      <td>medios de comunicacion</td>\n      <td>virtual</td>\n      <td>radio Encuentro</td>\n      <td>1</td>\n      <td>Bolivia</td>\n      <td>Sucre</td>\n      <td>Nacional</td>\n      <td>...</td>\n      <td>0</td>\n      <td>NaN</td>\n      <td>0</td>\n      <td>NaN</td>\n      <td>NaN</td>\n      <td>0</td>\n      <td>0</td>\n      <td>0</td>\n      <td>0</td>\n      <td>0</td>\n    </tr>\n  </tbody>\n</table>\n<p>5 rows × 41 columns</p>\n</div>"
     },
     "execution_count": 485,
     "metadata": {},
     "output_type": "execute_result"
    }
   ],
   "source": [
    "df_yawar_c.tail()"
   ],
   "metadata": {
    "collapsed": false,
    "ExecuteTime": {
     "end_time": "2024-04-16T22:27:34.214768400Z",
     "start_time": "2024-04-16T22:27:34.115327800Z"
    }
   },
   "id": "1be94666c62edc3c"
  },
  {
   "cell_type": "code",
   "execution_count": 464,
   "outputs": [],
   "source": [
    "df_yawar_c['edad_init']=None\n",
    "df_yawar_c['edad_fin']=None"
   ],
   "metadata": {
    "collapsed": false,
    "ExecuteTime": {
     "end_time": "2024-04-16T22:09:36.188721600Z",
     "start_time": "2024-04-16T22:09:36.133296400Z"
    }
   },
   "id": "a6b78bbfe083a12e"
  },
  {
   "cell_type": "code",
   "execution_count": 486,
   "outputs": [
    {
     "data": {
      "text/plain": "0      18\n1      18\n2      10\n3      14\n4      12\n     ... \n79    N/A\n80    N/A\n81    N/A\n82    N/A\n83    N/A\nName: edad, Length: 84, dtype: object"
     },
     "execution_count": 486,
     "metadata": {},
     "output_type": "execute_result"
    }
   ],
   "source": [
    "df_yawar_c['edad'].str.split('-').str[0]"
   ],
   "metadata": {
    "collapsed": false,
    "ExecuteTime": {
     "end_time": "2024-04-16T22:28:39.446305900Z",
     "start_time": "2024-04-16T22:28:39.363459700Z"
    }
   },
   "id": "d092f594b2d86ded"
  },
  {
   "cell_type": "code",
   "execution_count": 487,
   "outputs": [
    {
     "data": {
      "text/plain": "0      26\n1      26\n2      13\n3      17\n4      12\n     ... \n79    NaN\n80    NaN\n81    NaN\n82    NaN\n83    NaN\nName: edad, Length: 84, dtype: object"
     },
     "execution_count": 487,
     "metadata": {},
     "output_type": "execute_result"
    }
   ],
   "source": [
    "df_yawar_c['edad'].str.split('-').str[1]"
   ],
   "metadata": {
    "collapsed": false,
    "ExecuteTime": {
     "end_time": "2024-04-16T22:28:42.489822500Z",
     "start_time": "2024-04-16T22:28:42.460739200Z"
    }
   },
   "id": "4e334fae5393bde1"
  },
  {
   "cell_type": "code",
   "execution_count": 488,
   "outputs": [
    {
     "data": {
      "text/plain": "0"
     },
     "execution_count": 488,
     "metadata": {},
     "output_type": "execute_result"
    }
   ],
   "source": [
    "df_yawar_c['edad_init'].isna().sum()"
   ],
   "metadata": {
    "collapsed": false,
    "ExecuteTime": {
     "end_time": "2024-04-16T22:28:48.507003200Z",
     "start_time": "2024-04-16T22:28:48.470275400Z"
    }
   },
   "id": "2500771a9c96fc7f"
  },
  {
   "cell_type": "code",
   "execution_count": 489,
   "outputs": [],
   "source": [
    "df_yawar_c=df_yawar_c.assign(\n",
    "    edad_init=lambda x:x['edad'].str.split('-').str[0],\n",
    "    edad_fin=lambda x:x['edad'].str.split('-').str[1]\n",
    ")"
   ],
   "metadata": {
    "collapsed": false,
    "ExecuteTime": {
     "end_time": "2024-04-16T22:28:50.545220600Z",
     "start_time": "2024-04-16T22:28:50.485813100Z"
    }
   },
   "id": "c12d0b5d73921511"
  },
  {
   "cell_type": "code",
   "execution_count": 490,
   "outputs": [
    {
     "data": {
      "text/plain": "       #   año      fecha tipo_actividad     formato  \\\n0    1.0  2022 2022-03-10         taller  presencial   \n1    2.0  2022 2022-04-09         taller  presencial   \n2    3.0  2022 2022-07-07         taller  presencial   \n3    4.0  2022 2022-07-08         taller  presencial   \n4    5.0  2022 2022-07-09         taller  presencial   \n5    6.0  2022 2023-09-06         taller  presencial   \n6    7.0  2022 2022-09-08         taller  presencial   \n7    8.0  2022 2022-09-12         taller  presencial   \n8    9.0  2022 2022-09-15         taller  presencial   \n9   10.0  2022 2022-06-24         taller     virtual   \n10  11.0  2022 2022-04-14         taller     virtual   \n11  12.0  2022 2022-05-04         taller     virtual   \n12  13.0  2022 2022-05-24         taller     virtual   \n13  14.0  2022 2022-06-22         taller     virtual   \n14  15.0  2022 2022-07-02         taller     virtual   \n15  16.0  2022 2022-06-28         taller  presencial   \n16  17.0  2022 2022-06-29         taller  presencial   \n17  18.0  2022 2022-08-26         taller  presencial   \n18  19.0  2022 2022-11-05         taller  presencial   \n19  20.0  2022 2022-11-06         taller  presencial   \n\n                    actividad  cantidad     pais                   ciudad  \\\n0   1er encuentro voluntarias         1  Bolivia                   La Paz   \n1   Taller: qué es ser joven?         1  Bolivia                   La Paz   \n2                 ALTO ALDEAS         1  Bolivia                   La Paz   \n3                 ALTO ALDEAS         1  Bolivia                   La Paz   \n4                 ALTO MAPAKI         1  Bolivia                   La Paz   \n5      PROYECTO SOCIAL JASAYÉ         1  Bolivia                     Beni   \n6      PROYECTO SOCIAL JASAYÉ         1  Bolivia                     Beni   \n7      PROYECTO SOCIAL JASAYÉ         1  Bolivia                     Beni   \n8      PROYECTO SOCIAL JASAYÉ         1  Bolivia                     Beni   \n9           ESCUELITA VIRTUAL         1  Bolivia                   La Paz   \n10        ESCUELITA VIRTUAL 2         1  Bolivia                   La Paz   \n11        ESCUELITA VIRTUAL 3         1  Bolivia                   La Paz   \n12        ESCUELITA VIRTUAL 4         1  Bolivia                   La Paz   \n13        ESCUELITA VIRTUAL 5         1  Bolivia                   La Paz   \n14        ESCUELITA VIRTUAL 6         1  Bolivia                   La Paz   \n15         RECLUSAS JUVENILES         1  Bolivia  Santa Cruz de la Sierra   \n16         RECLUSAS JUVENILES         1  Bolivia  Santa Cruz de la Sierra   \n17               MAPAKI SUCRE         1  Bolivia                    Sucre   \n18                CERPI SUCRE         1  Bolivia                    Sucre   \n19                CERPI SUCRE         1  Bolivia                    Sucre   \n\n     alcance  ... toallasdesechablesa tipodeestablecimiento_cat edad_init  \\\n0   Nacional  ...                   0                 cafeteria        18   \n1   Nacional  ...                   5                      casa        18   \n2   Nacional  ...                   0                       ong        10   \n3   Nacional  ...                 100                       ong        14   \n4   Nacional  ...                  30                       ong        12   \n5   Nacional  ...                   0                 fundación        10   \n6   Nacional  ...                   0                 fundación        13   \n7   Nacional  ...                   0                 fundación        15   \n8   Nacional  ...                   0                 fundación        11   \n9   Nacional  ...                   0                       NaN        18   \n10  Nacional  ...                   0                       NaN        18   \n11  Nacional  ...                   0                       NaN        18   \n12  Nacional  ...                   0                       NaN        18   \n13  Nacional  ...                   0                       NaN        18   \n14  Nacional  ...                   0                       NaN        18   \n15  Nacional  ...                   0                    cárcel        15   \n16  Nacional  ...                   0                    cárcel        15   \n17  Nacional  ...                  94                       ong        10   \n18  Nacional  ...                   0                   escuela        11   \n19  Nacional  ...                   0                   escuela        10   \n\n   edad_fin  AgeGroup_edad_init 9-11 12-14 15-24 25-47  48-100  \n0        26                   3    0     0     0     0       0  \n1        26                   3    0     0     0     0       0  \n2        13                   1    0     0     0     0       0  \n3        17                   3    0     0     0     0       0  \n4        12                   2    0     0     0     0       0  \n5        12                   1    0     0     0     0       0  \n6        14                   2    0     0     0     0       0  \n7        17                   3    0     0     0     0       0  \n8        12                   2    0     0     0     0       0  \n9        25                   3    0     0     0     0       0  \n10       25                   3    0     0     0     0       0  \n11       25                   3    0     0     0     0       0  \n12       25                   3    0     0     0     0       0  \n13       25                   3    0     0     0     0       0  \n14       25                   3    0     0     0     0       0  \n15       17                   3    0     0     0     0       0  \n16       17                   3    0     0     0     0       0  \n17       16                   1    0     0     0     0       0  \n18       16                   2    0     0     0     0       0  \n19       14                   1    0     0     0     0       0  \n\n[20 rows x 41 columns]",
      "text/html": "<div>\n<style scoped>\n    .dataframe tbody tr th:only-of-type {\n        vertical-align: middle;\n    }\n\n    .dataframe tbody tr th {\n        vertical-align: top;\n    }\n\n    .dataframe thead th {\n        text-align: right;\n    }\n</style>\n<table border=\"1\" class=\"dataframe\">\n  <thead>\n    <tr style=\"text-align: right;\">\n      <th></th>\n      <th>#</th>\n      <th>año</th>\n      <th>fecha</th>\n      <th>tipo_actividad</th>\n      <th>formato</th>\n      <th>actividad</th>\n      <th>cantidad</th>\n      <th>pais</th>\n      <th>ciudad</th>\n      <th>alcance</th>\n      <th>...</th>\n      <th>toallasdesechablesa</th>\n      <th>tipodeestablecimiento_cat</th>\n      <th>edad_init</th>\n      <th>edad_fin</th>\n      <th>AgeGroup_edad_init</th>\n      <th>9-11</th>\n      <th>12-14</th>\n      <th>15-24</th>\n      <th>25-47</th>\n      <th>48-100</th>\n    </tr>\n  </thead>\n  <tbody>\n    <tr>\n      <th>0</th>\n      <td>1.0</td>\n      <td>2022</td>\n      <td>2022-03-10</td>\n      <td>taller</td>\n      <td>presencial</td>\n      <td>1er encuentro voluntarias</td>\n      <td>1</td>\n      <td>Bolivia</td>\n      <td>La Paz</td>\n      <td>Nacional</td>\n      <td>...</td>\n      <td>0</td>\n      <td>cafeteria</td>\n      <td>18</td>\n      <td>26</td>\n      <td>3</td>\n      <td>0</td>\n      <td>0</td>\n      <td>0</td>\n      <td>0</td>\n      <td>0</td>\n    </tr>\n    <tr>\n      <th>1</th>\n      <td>2.0</td>\n      <td>2022</td>\n      <td>2022-04-09</td>\n      <td>taller</td>\n      <td>presencial</td>\n      <td>Taller: qué es ser joven?</td>\n      <td>1</td>\n      <td>Bolivia</td>\n      <td>La Paz</td>\n      <td>Nacional</td>\n      <td>...</td>\n      <td>5</td>\n      <td>casa</td>\n      <td>18</td>\n      <td>26</td>\n      <td>3</td>\n      <td>0</td>\n      <td>0</td>\n      <td>0</td>\n      <td>0</td>\n      <td>0</td>\n    </tr>\n    <tr>\n      <th>2</th>\n      <td>3.0</td>\n      <td>2022</td>\n      <td>2022-07-07</td>\n      <td>taller</td>\n      <td>presencial</td>\n      <td>ALTO ALDEAS</td>\n      <td>1</td>\n      <td>Bolivia</td>\n      <td>La Paz</td>\n      <td>Nacional</td>\n      <td>...</td>\n      <td>0</td>\n      <td>ong</td>\n      <td>10</td>\n      <td>13</td>\n      <td>1</td>\n      <td>0</td>\n      <td>0</td>\n      <td>0</td>\n      <td>0</td>\n      <td>0</td>\n    </tr>\n    <tr>\n      <th>3</th>\n      <td>4.0</td>\n      <td>2022</td>\n      <td>2022-07-08</td>\n      <td>taller</td>\n      <td>presencial</td>\n      <td>ALTO ALDEAS</td>\n      <td>1</td>\n      <td>Bolivia</td>\n      <td>La Paz</td>\n      <td>Nacional</td>\n      <td>...</td>\n      <td>100</td>\n      <td>ong</td>\n      <td>14</td>\n      <td>17</td>\n      <td>3</td>\n      <td>0</td>\n      <td>0</td>\n      <td>0</td>\n      <td>0</td>\n      <td>0</td>\n    </tr>\n    <tr>\n      <th>4</th>\n      <td>5.0</td>\n      <td>2022</td>\n      <td>2022-07-09</td>\n      <td>taller</td>\n      <td>presencial</td>\n      <td>ALTO MAPAKI</td>\n      <td>1</td>\n      <td>Bolivia</td>\n      <td>La Paz</td>\n      <td>Nacional</td>\n      <td>...</td>\n      <td>30</td>\n      <td>ong</td>\n      <td>12</td>\n      <td>12</td>\n      <td>2</td>\n      <td>0</td>\n      <td>0</td>\n      <td>0</td>\n      <td>0</td>\n      <td>0</td>\n    </tr>\n    <tr>\n      <th>5</th>\n      <td>6.0</td>\n      <td>2022</td>\n      <td>2023-09-06</td>\n      <td>taller</td>\n      <td>presencial</td>\n      <td>PROYECTO SOCIAL JASAYÉ</td>\n      <td>1</td>\n      <td>Bolivia</td>\n      <td>Beni</td>\n      <td>Nacional</td>\n      <td>...</td>\n      <td>0</td>\n      <td>fundación</td>\n      <td>10</td>\n      <td>12</td>\n      <td>1</td>\n      <td>0</td>\n      <td>0</td>\n      <td>0</td>\n      <td>0</td>\n      <td>0</td>\n    </tr>\n    <tr>\n      <th>6</th>\n      <td>7.0</td>\n      <td>2022</td>\n      <td>2022-09-08</td>\n      <td>taller</td>\n      <td>presencial</td>\n      <td>PROYECTO SOCIAL JASAYÉ</td>\n      <td>1</td>\n      <td>Bolivia</td>\n      <td>Beni</td>\n      <td>Nacional</td>\n      <td>...</td>\n      <td>0</td>\n      <td>fundación</td>\n      <td>13</td>\n      <td>14</td>\n      <td>2</td>\n      <td>0</td>\n      <td>0</td>\n      <td>0</td>\n      <td>0</td>\n      <td>0</td>\n    </tr>\n    <tr>\n      <th>7</th>\n      <td>8.0</td>\n      <td>2022</td>\n      <td>2022-09-12</td>\n      <td>taller</td>\n      <td>presencial</td>\n      <td>PROYECTO SOCIAL JASAYÉ</td>\n      <td>1</td>\n      <td>Bolivia</td>\n      <td>Beni</td>\n      <td>Nacional</td>\n      <td>...</td>\n      <td>0</td>\n      <td>fundación</td>\n      <td>15</td>\n      <td>17</td>\n      <td>3</td>\n      <td>0</td>\n      <td>0</td>\n      <td>0</td>\n      <td>0</td>\n      <td>0</td>\n    </tr>\n    <tr>\n      <th>8</th>\n      <td>9.0</td>\n      <td>2022</td>\n      <td>2022-09-15</td>\n      <td>taller</td>\n      <td>presencial</td>\n      <td>PROYECTO SOCIAL JASAYÉ</td>\n      <td>1</td>\n      <td>Bolivia</td>\n      <td>Beni</td>\n      <td>Nacional</td>\n      <td>...</td>\n      <td>0</td>\n      <td>fundación</td>\n      <td>11</td>\n      <td>12</td>\n      <td>2</td>\n      <td>0</td>\n      <td>0</td>\n      <td>0</td>\n      <td>0</td>\n      <td>0</td>\n    </tr>\n    <tr>\n      <th>9</th>\n      <td>10.0</td>\n      <td>2022</td>\n      <td>2022-06-24</td>\n      <td>taller</td>\n      <td>virtual</td>\n      <td>ESCUELITA VIRTUAL</td>\n      <td>1</td>\n      <td>Bolivia</td>\n      <td>La Paz</td>\n      <td>Nacional</td>\n      <td>...</td>\n      <td>0</td>\n      <td>NaN</td>\n      <td>18</td>\n      <td>25</td>\n      <td>3</td>\n      <td>0</td>\n      <td>0</td>\n      <td>0</td>\n      <td>0</td>\n      <td>0</td>\n    </tr>\n    <tr>\n      <th>10</th>\n      <td>11.0</td>\n      <td>2022</td>\n      <td>2022-04-14</td>\n      <td>taller</td>\n      <td>virtual</td>\n      <td>ESCUELITA VIRTUAL 2</td>\n      <td>1</td>\n      <td>Bolivia</td>\n      <td>La Paz</td>\n      <td>Nacional</td>\n      <td>...</td>\n      <td>0</td>\n      <td>NaN</td>\n      <td>18</td>\n      <td>25</td>\n      <td>3</td>\n      <td>0</td>\n      <td>0</td>\n      <td>0</td>\n      <td>0</td>\n      <td>0</td>\n    </tr>\n    <tr>\n      <th>11</th>\n      <td>12.0</td>\n      <td>2022</td>\n      <td>2022-05-04</td>\n      <td>taller</td>\n      <td>virtual</td>\n      <td>ESCUELITA VIRTUAL 3</td>\n      <td>1</td>\n      <td>Bolivia</td>\n      <td>La Paz</td>\n      <td>Nacional</td>\n      <td>...</td>\n      <td>0</td>\n      <td>NaN</td>\n      <td>18</td>\n      <td>25</td>\n      <td>3</td>\n      <td>0</td>\n      <td>0</td>\n      <td>0</td>\n      <td>0</td>\n      <td>0</td>\n    </tr>\n    <tr>\n      <th>12</th>\n      <td>13.0</td>\n      <td>2022</td>\n      <td>2022-05-24</td>\n      <td>taller</td>\n      <td>virtual</td>\n      <td>ESCUELITA VIRTUAL 4</td>\n      <td>1</td>\n      <td>Bolivia</td>\n      <td>La Paz</td>\n      <td>Nacional</td>\n      <td>...</td>\n      <td>0</td>\n      <td>NaN</td>\n      <td>18</td>\n      <td>25</td>\n      <td>3</td>\n      <td>0</td>\n      <td>0</td>\n      <td>0</td>\n      <td>0</td>\n      <td>0</td>\n    </tr>\n    <tr>\n      <th>13</th>\n      <td>14.0</td>\n      <td>2022</td>\n      <td>2022-06-22</td>\n      <td>taller</td>\n      <td>virtual</td>\n      <td>ESCUELITA VIRTUAL 5</td>\n      <td>1</td>\n      <td>Bolivia</td>\n      <td>La Paz</td>\n      <td>Nacional</td>\n      <td>...</td>\n      <td>0</td>\n      <td>NaN</td>\n      <td>18</td>\n      <td>25</td>\n      <td>3</td>\n      <td>0</td>\n      <td>0</td>\n      <td>0</td>\n      <td>0</td>\n      <td>0</td>\n    </tr>\n    <tr>\n      <th>14</th>\n      <td>15.0</td>\n      <td>2022</td>\n      <td>2022-07-02</td>\n      <td>taller</td>\n      <td>virtual</td>\n      <td>ESCUELITA VIRTUAL 6</td>\n      <td>1</td>\n      <td>Bolivia</td>\n      <td>La Paz</td>\n      <td>Nacional</td>\n      <td>...</td>\n      <td>0</td>\n      <td>NaN</td>\n      <td>18</td>\n      <td>25</td>\n      <td>3</td>\n      <td>0</td>\n      <td>0</td>\n      <td>0</td>\n      <td>0</td>\n      <td>0</td>\n    </tr>\n    <tr>\n      <th>15</th>\n      <td>16.0</td>\n      <td>2022</td>\n      <td>2022-06-28</td>\n      <td>taller</td>\n      <td>presencial</td>\n      <td>RECLUSAS JUVENILES</td>\n      <td>1</td>\n      <td>Bolivia</td>\n      <td>Santa Cruz de la Sierra</td>\n      <td>Nacional</td>\n      <td>...</td>\n      <td>0</td>\n      <td>cárcel</td>\n      <td>15</td>\n      <td>17</td>\n      <td>3</td>\n      <td>0</td>\n      <td>0</td>\n      <td>0</td>\n      <td>0</td>\n      <td>0</td>\n    </tr>\n    <tr>\n      <th>16</th>\n      <td>17.0</td>\n      <td>2022</td>\n      <td>2022-06-29</td>\n      <td>taller</td>\n      <td>presencial</td>\n      <td>RECLUSAS JUVENILES</td>\n      <td>1</td>\n      <td>Bolivia</td>\n      <td>Santa Cruz de la Sierra</td>\n      <td>Nacional</td>\n      <td>...</td>\n      <td>0</td>\n      <td>cárcel</td>\n      <td>15</td>\n      <td>17</td>\n      <td>3</td>\n      <td>0</td>\n      <td>0</td>\n      <td>0</td>\n      <td>0</td>\n      <td>0</td>\n    </tr>\n    <tr>\n      <th>17</th>\n      <td>18.0</td>\n      <td>2022</td>\n      <td>2022-08-26</td>\n      <td>taller</td>\n      <td>presencial</td>\n      <td>MAPAKI SUCRE</td>\n      <td>1</td>\n      <td>Bolivia</td>\n      <td>Sucre</td>\n      <td>Nacional</td>\n      <td>...</td>\n      <td>94</td>\n      <td>ong</td>\n      <td>10</td>\n      <td>16</td>\n      <td>1</td>\n      <td>0</td>\n      <td>0</td>\n      <td>0</td>\n      <td>0</td>\n      <td>0</td>\n    </tr>\n    <tr>\n      <th>18</th>\n      <td>19.0</td>\n      <td>2022</td>\n      <td>2022-11-05</td>\n      <td>taller</td>\n      <td>presencial</td>\n      <td>CERPI SUCRE</td>\n      <td>1</td>\n      <td>Bolivia</td>\n      <td>Sucre</td>\n      <td>Nacional</td>\n      <td>...</td>\n      <td>0</td>\n      <td>escuela</td>\n      <td>11</td>\n      <td>16</td>\n      <td>2</td>\n      <td>0</td>\n      <td>0</td>\n      <td>0</td>\n      <td>0</td>\n      <td>0</td>\n    </tr>\n    <tr>\n      <th>19</th>\n      <td>20.0</td>\n      <td>2022</td>\n      <td>2022-11-06</td>\n      <td>taller</td>\n      <td>presencial</td>\n      <td>CERPI SUCRE</td>\n      <td>1</td>\n      <td>Bolivia</td>\n      <td>Sucre</td>\n      <td>Nacional</td>\n      <td>...</td>\n      <td>0</td>\n      <td>escuela</td>\n      <td>10</td>\n      <td>14</td>\n      <td>1</td>\n      <td>0</td>\n      <td>0</td>\n      <td>0</td>\n      <td>0</td>\n      <td>0</td>\n    </tr>\n  </tbody>\n</table>\n<p>20 rows × 41 columns</p>\n</div>"
     },
     "execution_count": 490,
     "metadata": {},
     "output_type": "execute_result"
    }
   ],
   "source": [
    "df_yawar_c.head(20)"
   ],
   "metadata": {
    "collapsed": false,
    "ExecuteTime": {
     "end_time": "2024-04-16T22:28:53.708822Z",
     "start_time": "2024-04-16T22:28:53.604028500Z"
    }
   },
   "id": "8d014829b97cfe58"
  },
  {
   "cell_type": "code",
   "execution_count": 469,
   "outputs": [],
   "source": [
    "def obtain_range_age(df, edad):\n",
    "    df.loc[df[edad]=='N/A',edad]=0\n",
    "    df[edad]=df[edad].astype('int')\n",
    "    bins=[9,11,14,24,47,51]\n",
    "    labels=[1,2,3,4,5]\n",
    "    return pd.cut(df[edad], bins=bins, labels=labels, right=False)"
   ],
   "metadata": {
    "collapsed": false,
    "ExecuteTime": {
     "end_time": "2024-04-16T22:14:21.722495200Z",
     "start_time": "2024-04-16T22:14:21.643276600Z"
    }
   },
   "id": "eb9a77cd729daa53"
  },
  {
   "cell_type": "code",
   "execution_count": 471,
   "outputs": [],
   "source": [
    "df_yawar_c['AgeGroup_edad_init']=obtain_range_age(df_yawar_c, 'edad_init')"
   ],
   "metadata": {
    "collapsed": false,
    "ExecuteTime": {
     "end_time": "2024-04-16T22:15:03.073829200Z",
     "start_time": "2024-04-16T22:15:03.052320300Z"
    }
   },
   "id": "244483882b664be8"
  },
  {
   "cell_type": "code",
   "execution_count": 478,
   "outputs": [
    {
     "data": {
      "text/plain": "       #   año      fecha tipo_actividad  formato            actividad  \\\n12  13.0  2022 2022-05-24         taller  virtual  ESCUELITA VIRTUAL 4   \n\n    cantidad     pais  ciudad   alcance  ... 27-59 60-100 edad_init edad_fin  \\\n12         1  Bolivia  La Paz  Nacional  ...  None   None        18       25   \n\n    AgeGroup_edad_init  9-11 12-14 15-24 25-47  48-100  \n12                   3  None  None  None  None    None  \n\n[1 rows x 46 columns]",
      "text/html": "<div>\n<style scoped>\n    .dataframe tbody tr th:only-of-type {\n        vertical-align: middle;\n    }\n\n    .dataframe tbody tr th {\n        vertical-align: top;\n    }\n\n    .dataframe thead th {\n        text-align: right;\n    }\n</style>\n<table border=\"1\" class=\"dataframe\">\n  <thead>\n    <tr style=\"text-align: right;\">\n      <th></th>\n      <th>#</th>\n      <th>año</th>\n      <th>fecha</th>\n      <th>tipo_actividad</th>\n      <th>formato</th>\n      <th>actividad</th>\n      <th>cantidad</th>\n      <th>pais</th>\n      <th>ciudad</th>\n      <th>alcance</th>\n      <th>...</th>\n      <th>27-59</th>\n      <th>60-100</th>\n      <th>edad_init</th>\n      <th>edad_fin</th>\n      <th>AgeGroup_edad_init</th>\n      <th>9-11</th>\n      <th>12-14</th>\n      <th>15-24</th>\n      <th>25-47</th>\n      <th>48-100</th>\n    </tr>\n  </thead>\n  <tbody>\n    <tr>\n      <th>12</th>\n      <td>13.0</td>\n      <td>2022</td>\n      <td>2022-05-24</td>\n      <td>taller</td>\n      <td>virtual</td>\n      <td>ESCUELITA VIRTUAL 4</td>\n      <td>1</td>\n      <td>Bolivia</td>\n      <td>La Paz</td>\n      <td>Nacional</td>\n      <td>...</td>\n      <td>None</td>\n      <td>None</td>\n      <td>18</td>\n      <td>25</td>\n      <td>3</td>\n      <td>None</td>\n      <td>None</td>\n      <td>None</td>\n      <td>None</td>\n      <td>None</td>\n    </tr>\n  </tbody>\n</table>\n<p>1 rows × 46 columns</p>\n</div>"
     },
     "execution_count": 478,
     "metadata": {},
     "output_type": "execute_result"
    }
   ],
   "source": [
    "df_yawar_c.sample()"
   ],
   "metadata": {
    "collapsed": false,
    "ExecuteTime": {
     "end_time": "2024-04-16T22:23:01.614236800Z",
     "start_time": "2024-04-16T22:23:01.530918200Z"
    }
   },
   "id": "dcfd229fc292afec"
  },
  {
   "cell_type": "code",
   "execution_count": 491,
   "outputs": [],
   "source": [
    "def choose_group(df):\n",
    "    for index, row in df.iterrows():\n",
    "        #val=int(row['AgeGroup_edad_fin']-int(row['AgeGroup_edad_init']))\n",
    "        #if val ==1: #only there are 2 groups\n",
    "        if row['AgeGroup_edad_init'] == 1 :\n",
    "            df.at[index, '9-11'] = row['personasalcanzadas_cant']\n",
    "        elif row['AgeGroup_edad_init'] == 2:\n",
    "            df.at[index, '12-14'] = row['personasalcanzadas_cant']\n",
    "        elif row['AgeGroup_edad_init'] == 3:\n",
    "            df.at[index, '15-24'] = row['personasalcanzadas_cant']\n",
    "        elif row['AgeGroup_edad_init'] == 4:\n",
    "            df.at[index, '25-47'] = row['personasalcanzadas_cant']\n",
    "        elif row['AgeGroup_edad_init'] == 5:\n",
    "            df.at[index, '48-100'] = row['personasalcanzadas_cant']         \n",
    "    return df"
   ],
   "metadata": {
    "collapsed": false,
    "ExecuteTime": {
     "end_time": "2024-04-16T22:29:48.672551900Z",
     "start_time": "2024-04-16T22:29:48.614613300Z"
    }
   },
   "id": "97914b35918fdf57"
  },
  {
   "cell_type": "code",
   "execution_count": 493,
   "outputs": [],
   "source": [
    "df_yawar_c=choose_group(df_yawar_c)"
   ],
   "metadata": {
    "collapsed": false,
    "ExecuteTime": {
     "end_time": "2024-04-16T22:30:19.167813Z",
     "start_time": "2024-04-16T22:30:19.104428200Z"
    }
   },
   "id": "79dce5216f23ae5f"
  },
  {
   "cell_type": "code",
   "execution_count": 494,
   "outputs": [
    {
     "data": {
      "text/plain": "       #   año      fecha           tipo_actividad     formato  \\\n20  21.0  2022 2022-08-14                   taller  presencial   \n59  59.0  2023 2024-05-23     artistica y cultural  presencial   \n58  58.0  2023 2023-05-28     artistica y cultural  presencial   \n1    2.0  2022 2022-04-09                   taller  presencial   \n33  34.0  2023 2022-02-24                   taller  presencial   \n25  26.0  2022 2022-05-04                   taller     virtual   \n30  31.0  2022 2022-09-28                   taller     virtual   \n49   NaN  2024 2024-04-13                   taller  presencial   \n72  72.0  2022 2022-05-28  difusion redes sociales     virtual   \n22  23.0  2022 2022-03-03                   taller     virtual   \n\n                                            actividad  cantidad     pais  \\\n20                                      ETTA Projects         1  Bolivia   \n59     Performance artística de danza y poesía, Sucre         1  Bolivia   \n58  Un hip hop menstrual con su videoclip en el mural         1  Bolivia   \n1                           Taller: qué es ser joven?         1  Bolivia   \n33   Viaje cultural de jóvenas extranjeras en Bolivia         1  Bolivia   \n25                                  Voluntarias Yawar         1  Bolivia   \n30                                  Voluntarias Yawar         1  Bolivia   \n49                                             Taller         1  Bolivia   \n72                                              reels        36  Bolivia   \n22                                  Voluntarias Yawar         1  Bolivia   \n\n                     ciudad        alcance  ... toallasdesechablesa  \\\n20  Santa Cruz de la Sierra       Nacional  ...                   0   \n59                    Sucre       Nacional  ...                   0   \n58                    Sucre       Nacional  ...                   0   \n1                    La Paz       Nacional  ...                   5   \n33               Cochabamba  Internacional  ...                   0   \n25                   La Paz       Nacional  ...                   0   \n30                      N/A       Nacional  ...                   0   \n49                   La Paz       Nacional  ...                   0   \n72                      N/A  Internacional  ...                   0   \n22                   La Paz       Nacional  ...                   0   \n\n                           tipodeestablecimiento_cat edad_init edad_fin  \\\n20                                               ong        14       17   \n59                                               NaN       N/A      NaN   \n58                                               NaN       N/A      NaN   \n1                                               casa        18       26   \n33                                             campo        16       18   \n25                                               NaN        18       35   \n30                                               NaN        18       36   \n49  lugar de acogida de víctimas de violencia sexual        12       17   \n72                                               NaN       N/A      NaN   \n22                                               NaN        18       35   \n\n    AgeGroup_edad_init 9-11 12-14 15-24 25-47  48-100  \n20                   3    0     0    25     0       0  \n59                 NaN    0     0     0     0       0  \n58                 NaN    0     0     0     0       0  \n1                    3    0     0     5     0       0  \n33                   3    0     0    20     0       0  \n25                   3    0     0     8     0       0  \n30                   3    0     0     8     0       0  \n49                   2    0    26     0     0       0  \n72                 NaN    0     0     0     0       0  \n22                   3    0     0    10     0       0  \n\n[10 rows x 41 columns]",
      "text/html": "<div>\n<style scoped>\n    .dataframe tbody tr th:only-of-type {\n        vertical-align: middle;\n    }\n\n    .dataframe tbody tr th {\n        vertical-align: top;\n    }\n\n    .dataframe thead th {\n        text-align: right;\n    }\n</style>\n<table border=\"1\" class=\"dataframe\">\n  <thead>\n    <tr style=\"text-align: right;\">\n      <th></th>\n      <th>#</th>\n      <th>año</th>\n      <th>fecha</th>\n      <th>tipo_actividad</th>\n      <th>formato</th>\n      <th>actividad</th>\n      <th>cantidad</th>\n      <th>pais</th>\n      <th>ciudad</th>\n      <th>alcance</th>\n      <th>...</th>\n      <th>toallasdesechablesa</th>\n      <th>tipodeestablecimiento_cat</th>\n      <th>edad_init</th>\n      <th>edad_fin</th>\n      <th>AgeGroup_edad_init</th>\n      <th>9-11</th>\n      <th>12-14</th>\n      <th>15-24</th>\n      <th>25-47</th>\n      <th>48-100</th>\n    </tr>\n  </thead>\n  <tbody>\n    <tr>\n      <th>20</th>\n      <td>21.0</td>\n      <td>2022</td>\n      <td>2022-08-14</td>\n      <td>taller</td>\n      <td>presencial</td>\n      <td>ETTA Projects</td>\n      <td>1</td>\n      <td>Bolivia</td>\n      <td>Santa Cruz de la Sierra</td>\n      <td>Nacional</td>\n      <td>...</td>\n      <td>0</td>\n      <td>ong</td>\n      <td>14</td>\n      <td>17</td>\n      <td>3</td>\n      <td>0</td>\n      <td>0</td>\n      <td>25</td>\n      <td>0</td>\n      <td>0</td>\n    </tr>\n    <tr>\n      <th>59</th>\n      <td>59.0</td>\n      <td>2023</td>\n      <td>2024-05-23</td>\n      <td>artistica y cultural</td>\n      <td>presencial</td>\n      <td>Performance artística de danza y poesía, Sucre</td>\n      <td>1</td>\n      <td>Bolivia</td>\n      <td>Sucre</td>\n      <td>Nacional</td>\n      <td>...</td>\n      <td>0</td>\n      <td>NaN</td>\n      <td>N/A</td>\n      <td>NaN</td>\n      <td>NaN</td>\n      <td>0</td>\n      <td>0</td>\n      <td>0</td>\n      <td>0</td>\n      <td>0</td>\n    </tr>\n    <tr>\n      <th>58</th>\n      <td>58.0</td>\n      <td>2023</td>\n      <td>2023-05-28</td>\n      <td>artistica y cultural</td>\n      <td>presencial</td>\n      <td>Un hip hop menstrual con su videoclip en el mural</td>\n      <td>1</td>\n      <td>Bolivia</td>\n      <td>Sucre</td>\n      <td>Nacional</td>\n      <td>...</td>\n      <td>0</td>\n      <td>NaN</td>\n      <td>N/A</td>\n      <td>NaN</td>\n      <td>NaN</td>\n      <td>0</td>\n      <td>0</td>\n      <td>0</td>\n      <td>0</td>\n      <td>0</td>\n    </tr>\n    <tr>\n      <th>1</th>\n      <td>2.0</td>\n      <td>2022</td>\n      <td>2022-04-09</td>\n      <td>taller</td>\n      <td>presencial</td>\n      <td>Taller: qué es ser joven?</td>\n      <td>1</td>\n      <td>Bolivia</td>\n      <td>La Paz</td>\n      <td>Nacional</td>\n      <td>...</td>\n      <td>5</td>\n      <td>casa</td>\n      <td>18</td>\n      <td>26</td>\n      <td>3</td>\n      <td>0</td>\n      <td>0</td>\n      <td>5</td>\n      <td>0</td>\n      <td>0</td>\n    </tr>\n    <tr>\n      <th>33</th>\n      <td>34.0</td>\n      <td>2023</td>\n      <td>2022-02-24</td>\n      <td>taller</td>\n      <td>presencial</td>\n      <td>Viaje cultural de jóvenas extranjeras en Bolivia</td>\n      <td>1</td>\n      <td>Bolivia</td>\n      <td>Cochabamba</td>\n      <td>Internacional</td>\n      <td>...</td>\n      <td>0</td>\n      <td>campo</td>\n      <td>16</td>\n      <td>18</td>\n      <td>3</td>\n      <td>0</td>\n      <td>0</td>\n      <td>20</td>\n      <td>0</td>\n      <td>0</td>\n    </tr>\n    <tr>\n      <th>25</th>\n      <td>26.0</td>\n      <td>2022</td>\n      <td>2022-05-04</td>\n      <td>taller</td>\n      <td>virtual</td>\n      <td>Voluntarias Yawar</td>\n      <td>1</td>\n      <td>Bolivia</td>\n      <td>La Paz</td>\n      <td>Nacional</td>\n      <td>...</td>\n      <td>0</td>\n      <td>NaN</td>\n      <td>18</td>\n      <td>35</td>\n      <td>3</td>\n      <td>0</td>\n      <td>0</td>\n      <td>8</td>\n      <td>0</td>\n      <td>0</td>\n    </tr>\n    <tr>\n      <th>30</th>\n      <td>31.0</td>\n      <td>2022</td>\n      <td>2022-09-28</td>\n      <td>taller</td>\n      <td>virtual</td>\n      <td>Voluntarias Yawar</td>\n      <td>1</td>\n      <td>Bolivia</td>\n      <td>N/A</td>\n      <td>Nacional</td>\n      <td>...</td>\n      <td>0</td>\n      <td>NaN</td>\n      <td>18</td>\n      <td>36</td>\n      <td>3</td>\n      <td>0</td>\n      <td>0</td>\n      <td>8</td>\n      <td>0</td>\n      <td>0</td>\n    </tr>\n    <tr>\n      <th>49</th>\n      <td>NaN</td>\n      <td>2024</td>\n      <td>2024-04-13</td>\n      <td>taller</td>\n      <td>presencial</td>\n      <td>Taller</td>\n      <td>1</td>\n      <td>Bolivia</td>\n      <td>La Paz</td>\n      <td>Nacional</td>\n      <td>...</td>\n      <td>0</td>\n      <td>lugar de acogida de víctimas de violencia sexual</td>\n      <td>12</td>\n      <td>17</td>\n      <td>2</td>\n      <td>0</td>\n      <td>26</td>\n      <td>0</td>\n      <td>0</td>\n      <td>0</td>\n    </tr>\n    <tr>\n      <th>72</th>\n      <td>72.0</td>\n      <td>2022</td>\n      <td>2022-05-28</td>\n      <td>difusion redes sociales</td>\n      <td>virtual</td>\n      <td>reels</td>\n      <td>36</td>\n      <td>Bolivia</td>\n      <td>N/A</td>\n      <td>Internacional</td>\n      <td>...</td>\n      <td>0</td>\n      <td>NaN</td>\n      <td>N/A</td>\n      <td>NaN</td>\n      <td>NaN</td>\n      <td>0</td>\n      <td>0</td>\n      <td>0</td>\n      <td>0</td>\n      <td>0</td>\n    </tr>\n    <tr>\n      <th>22</th>\n      <td>23.0</td>\n      <td>2022</td>\n      <td>2022-03-03</td>\n      <td>taller</td>\n      <td>virtual</td>\n      <td>Voluntarias Yawar</td>\n      <td>1</td>\n      <td>Bolivia</td>\n      <td>La Paz</td>\n      <td>Nacional</td>\n      <td>...</td>\n      <td>0</td>\n      <td>NaN</td>\n      <td>18</td>\n      <td>35</td>\n      <td>3</td>\n      <td>0</td>\n      <td>0</td>\n      <td>10</td>\n      <td>0</td>\n      <td>0</td>\n    </tr>\n  </tbody>\n</table>\n<p>10 rows × 41 columns</p>\n</div>"
     },
     "execution_count": 494,
     "metadata": {},
     "output_type": "execute_result"
    }
   ],
   "source": [
    "df_yawar_c.sample(10)"
   ],
   "metadata": {
    "collapsed": false,
    "ExecuteTime": {
     "end_time": "2024-04-16T22:30:20.950136Z",
     "start_time": "2024-04-16T22:30:20.908511400Z"
    }
   },
   "id": "5a66fdb3c29fba29"
  },
  {
   "cell_type": "markdown",
   "source": [
    "Vulnerability analysis"
   ],
   "metadata": {
    "collapsed": false
   },
   "id": "4e35197a446aa075"
  },
  {
   "cell_type": "code",
   "execution_count": 520,
   "outputs": [
    {
     "data": {
      "text/plain": "     #   año      fecha tipo_actividad     formato                  actividad  \\\n0  1.0  2022 2022-03-10         taller  presencial  1er encuentro voluntarias   \n1  2.0  2022 2022-04-09         taller  presencial  Taller: qué es ser joven?   \n2  3.0  2022 2022-07-07         taller  presencial                ALTO ALDEAS   \n3  4.0  2022 2022-07-08         taller  presencial                ALTO ALDEAS   \n4  5.0  2022 2022-07-09         taller  presencial                ALTO MAPAKI   \n\n   cantidad     pais  ciudad   alcance  ...       org_apoyo  \\\n0         1  Bolivia  La Paz  Nacional  ...         Ninguno   \n1         1  Bolivia  La Paz  Nacional  ...         Ninguno   \n2         1  Bolivia  La Paz  Nacional  ...  Aptapi Jopueti   \n3         1  Bolivia  La Paz  Nacional  ...  Aptapi Jopueti   \n4         1  Bolivia  La Paz  Nacional  ...  Aptapi Jopueti   \n\n  tipodeestablecimiento_cat edad_init edad_fin  AgeGroup_edad_init 9-11 12-14  \\\n0                 cafeteria        18       26                   3    0     0   \n1                      casa        18       26                   3    0     0   \n2                       ong        10       13                   1   20     0   \n3                       ong        14       17                   3    0     0   \n4                       ong        12       12                   2    0    30   \n\n  15-24 25-47  48-100  \n0     5     0       0  \n1     5     0       0  \n2     0     0       0  \n3    17     0       0  \n4     0     0       0  \n\n[5 rows x 40 columns]",
      "text/html": "<div>\n<style scoped>\n    .dataframe tbody tr th:only-of-type {\n        vertical-align: middle;\n    }\n\n    .dataframe tbody tr th {\n        vertical-align: top;\n    }\n\n    .dataframe thead th {\n        text-align: right;\n    }\n</style>\n<table border=\"1\" class=\"dataframe\">\n  <thead>\n    <tr style=\"text-align: right;\">\n      <th></th>\n      <th>#</th>\n      <th>año</th>\n      <th>fecha</th>\n      <th>tipo_actividad</th>\n      <th>formato</th>\n      <th>actividad</th>\n      <th>cantidad</th>\n      <th>pais</th>\n      <th>ciudad</th>\n      <th>alcance</th>\n      <th>...</th>\n      <th>org_apoyo</th>\n      <th>tipodeestablecimiento_cat</th>\n      <th>edad_init</th>\n      <th>edad_fin</th>\n      <th>AgeGroup_edad_init</th>\n      <th>9-11</th>\n      <th>12-14</th>\n      <th>15-24</th>\n      <th>25-47</th>\n      <th>48-100</th>\n    </tr>\n  </thead>\n  <tbody>\n    <tr>\n      <th>0</th>\n      <td>1.0</td>\n      <td>2022</td>\n      <td>2022-03-10</td>\n      <td>taller</td>\n      <td>presencial</td>\n      <td>1er encuentro voluntarias</td>\n      <td>1</td>\n      <td>Bolivia</td>\n      <td>La Paz</td>\n      <td>Nacional</td>\n      <td>...</td>\n      <td>Ninguno</td>\n      <td>cafeteria</td>\n      <td>18</td>\n      <td>26</td>\n      <td>3</td>\n      <td>0</td>\n      <td>0</td>\n      <td>5</td>\n      <td>0</td>\n      <td>0</td>\n    </tr>\n    <tr>\n      <th>1</th>\n      <td>2.0</td>\n      <td>2022</td>\n      <td>2022-04-09</td>\n      <td>taller</td>\n      <td>presencial</td>\n      <td>Taller: qué es ser joven?</td>\n      <td>1</td>\n      <td>Bolivia</td>\n      <td>La Paz</td>\n      <td>Nacional</td>\n      <td>...</td>\n      <td>Ninguno</td>\n      <td>casa</td>\n      <td>18</td>\n      <td>26</td>\n      <td>3</td>\n      <td>0</td>\n      <td>0</td>\n      <td>5</td>\n      <td>0</td>\n      <td>0</td>\n    </tr>\n    <tr>\n      <th>2</th>\n      <td>3.0</td>\n      <td>2022</td>\n      <td>2022-07-07</td>\n      <td>taller</td>\n      <td>presencial</td>\n      <td>ALTO ALDEAS</td>\n      <td>1</td>\n      <td>Bolivia</td>\n      <td>La Paz</td>\n      <td>Nacional</td>\n      <td>...</td>\n      <td>Aptapi Jopueti</td>\n      <td>ong</td>\n      <td>10</td>\n      <td>13</td>\n      <td>1</td>\n      <td>20</td>\n      <td>0</td>\n      <td>0</td>\n      <td>0</td>\n      <td>0</td>\n    </tr>\n    <tr>\n      <th>3</th>\n      <td>4.0</td>\n      <td>2022</td>\n      <td>2022-07-08</td>\n      <td>taller</td>\n      <td>presencial</td>\n      <td>ALTO ALDEAS</td>\n      <td>1</td>\n      <td>Bolivia</td>\n      <td>La Paz</td>\n      <td>Nacional</td>\n      <td>...</td>\n      <td>Aptapi Jopueti</td>\n      <td>ong</td>\n      <td>14</td>\n      <td>17</td>\n      <td>3</td>\n      <td>0</td>\n      <td>0</td>\n      <td>17</td>\n      <td>0</td>\n      <td>0</td>\n    </tr>\n    <tr>\n      <th>4</th>\n      <td>5.0</td>\n      <td>2022</td>\n      <td>2022-07-09</td>\n      <td>taller</td>\n      <td>presencial</td>\n      <td>ALTO MAPAKI</td>\n      <td>1</td>\n      <td>Bolivia</td>\n      <td>La Paz</td>\n      <td>Nacional</td>\n      <td>...</td>\n      <td>Aptapi Jopueti</td>\n      <td>ong</td>\n      <td>12</td>\n      <td>12</td>\n      <td>2</td>\n      <td>0</td>\n      <td>30</td>\n      <td>0</td>\n      <td>0</td>\n      <td>0</td>\n    </tr>\n  </tbody>\n</table>\n<p>5 rows × 40 columns</p>\n</div>"
     },
     "execution_count": 520,
     "metadata": {},
     "output_type": "execute_result"
    }
   ],
   "source": [
    "df_yawar_c.head()\n",
    "            "
   ],
   "metadata": {
    "collapsed": false,
    "ExecuteTime": {
     "end_time": "2024-04-16T22:50:40.873368100Z",
     "start_time": "2024-04-16T22:50:40.842656100Z"
    }
   },
   "id": "f01e9ff1d94cf33a"
  },
  {
   "cell_type": "code",
   "execution_count": 495,
   "outputs": [
    {
     "data": {
      "text/plain": "                                                              #  año  fecha  \\\nvulnerabilidad poblacion                                                      \nN/A            poblacion_general                             34   34     34   \nno             Voluntarias Yawar El Alto                      8    8      8   \n               adolescentes extranjeras                       1    1      1   \n               mujeres artistas                               1    1      1   \n               mujeres rurales escaladoras                    1    1      1   \n               mujeres voluntarias                           12   12     12   \n               voluntarias adolescentes                       2    2      2   \nsi             adolescentes                                   0    1      1   \n               adolescentes y jóvener rurales                12   12     12   \n               adolescentes y jóvenes trabajadoras de calle   1    1      1   \n               chicas en situación de calle                   2    2      2   \n               chicas huérfanas                               1    1      1   \n               jóvenes privadas de libertad                   2    2      2   \n               mujeres con discapacidad                       1    1      1   \n               mujeres reclusas                               1    1      1   \n               mujeres rurales                                2    2      2   \n               niñas trabajadoras de calle                    1    1      1   \n               niñas y adolescentes periurbanas               1    1      1   \n\n                                                             tipo_actividad  \\\nvulnerabilidad poblacion                                                      \nN/A            poblacion_general                                         34   \nno             Voluntarias Yawar El Alto                                  8   \n               adolescentes extranjeras                                   1   \n               mujeres artistas                                           1   \n               mujeres rurales escaladoras                                1   \n               mujeres voluntarias                                       12   \n               voluntarias adolescentes                                   2   \nsi             adolescentes                                               1   \n               adolescentes y jóvener rurales                            12   \n               adolescentes y jóvenes trabajadoras de calle               1   \n               chicas en situación de calle                               2   \n               chicas huérfanas                                           1   \n               jóvenes privadas de libertad                               2   \n               mujeres con discapacidad                                   1   \n               mujeres reclusas                                           1   \n               mujeres rurales                                            2   \n               niñas trabajadoras de calle                                1   \n               niñas y adolescentes periurbanas                           1   \n\n                                                             formato  \\\nvulnerabilidad poblacion                                               \nN/A            poblacion_general                                  34   \nno             Voluntarias Yawar El Alto                           8   \n               adolescentes extranjeras                            1   \n               mujeres artistas                                    1   \n               mujeres rurales escaladoras                         1   \n               mujeres voluntarias                                12   \n               voluntarias adolescentes                            2   \nsi             adolescentes                                        1   \n               adolescentes y jóvener rurales                     12   \n               adolescentes y jóvenes trabajadoras de calle        1   \n               chicas en situación de calle                        2   \n               chicas huérfanas                                    1   \n               jóvenes privadas de libertad                        2   \n               mujeres con discapacidad                            1   \n               mujeres reclusas                                    1   \n               mujeres rurales                                     2   \n               niñas trabajadoras de calle                         1   \n               niñas y adolescentes periurbanas                    1   \n\n                                                             actividad  \\\nvulnerabilidad poblacion                                                 \nN/A            poblacion_general                                    34   \nno             Voluntarias Yawar El Alto                             8   \n               adolescentes extranjeras                              1   \n               mujeres artistas                                      1   \n               mujeres rurales escaladoras                           1   \n               mujeres voluntarias                                  12   \n               voluntarias adolescentes                              2   \nsi             adolescentes                                          1   \n               adolescentes y jóvener rurales                       12   \n               adolescentes y jóvenes trabajadoras de calle          1   \n               chicas en situación de calle                          2   \n               chicas huérfanas                                      1   \n               jóvenes privadas de libertad                          2   \n               mujeres con discapacidad                              1   \n               mujeres reclusas                                      1   \n               mujeres rurales                                       2   \n               niñas trabajadoras de calle                           1   \n               niñas y adolescentes periurbanas                      1   \n\n                                                             cantidad  pais  \\\nvulnerabilidad poblacion                                                      \nN/A            poblacion_general                                   34    34   \nno             Voluntarias Yawar El Alto                            8     8   \n               adolescentes extranjeras                             1     1   \n               mujeres artistas                                     1     1   \n               mujeres rurales escaladoras                          1     1   \n               mujeres voluntarias                                 12    12   \n               voluntarias adolescentes                             2     2   \nsi             adolescentes                                         1     1   \n               adolescentes y jóvener rurales                      12    12   \n               adolescentes y jóvenes trabajadoras de calle         1     1   \n               chicas en situación de calle                         2     2   \n               chicas huérfanas                                     1     1   \n               jóvenes privadas de libertad                         2     2   \n               mujeres con discapacidad                             1     1   \n               mujeres reclusas                                     1     1   \n               mujeres rurales                                      2     2   \n               niñas trabajadoras de calle                          1     1   \n               niñas y adolescentes periurbanas                     1     1   \n\n                                                             ciudad  alcance  \\\nvulnerabilidad poblacion                                                       \nN/A            poblacion_general                                 34       34   \nno             Voluntarias Yawar El Alto                          8        8   \n               adolescentes extranjeras                           1        1   \n               mujeres artistas                                   1        1   \n               mujeres rurales escaladoras                        1        1   \n               mujeres voluntarias                               12       12   \n               voluntarias adolescentes                           2        2   \nsi             adolescentes                                       1        1   \n               adolescentes y jóvener rurales                    12       12   \n               adolescentes y jóvenes trabajadoras de calle       1        1   \n               chicas en situación de calle                       2        2   \n               chicas huérfanas                                   1        1   \n               jóvenes privadas de libertad                       2        2   \n               mujeres con discapacidad                           1        1   \n               mujeres reclusas                                   1        1   \n               mujeres rurales                                    2        2   \n               niñas trabajadoras de calle                        1        1   \n               niñas y adolescentes periurbanas                   1        1   \n\n                                                             ...  \\\nvulnerabilidad poblacion                                     ...   \nN/A            poblacion_general                             ...   \nno             Voluntarias Yawar El Alto                     ...   \n               adolescentes extranjeras                      ...   \n               mujeres artistas                              ...   \n               mujeres rurales escaladoras                   ...   \n               mujeres voluntarias                           ...   \n               voluntarias adolescentes                      ...   \nsi             adolescentes                                  ...   \n               adolescentes y jóvener rurales                ...   \n               adolescentes y jóvenes trabajadoras de calle  ...   \n               chicas en situación de calle                  ...   \n               chicas huérfanas                              ...   \n               jóvenes privadas de libertad                  ...   \n               mujeres con discapacidad                      ...   \n               mujeres reclusas                              ...   \n               mujeres rurales                               ...   \n               niñas trabajadoras de calle                   ...   \n               niñas y adolescentes periurbanas              ...   \n\n                                                             toallasdesechablesa  \\\nvulnerabilidad poblacion                                                           \nN/A            poblacion_general                                              34   \nno             Voluntarias Yawar El Alto                                       8   \n               adolescentes extranjeras                                        1   \n               mujeres artistas                                                1   \n               mujeres rurales escaladoras                                     1   \n               mujeres voluntarias                                            12   \n               voluntarias adolescentes                                        2   \nsi             adolescentes                                                    1   \n               adolescentes y jóvener rurales                                 12   \n               adolescentes y jóvenes trabajadoras de calle                    1   \n               chicas en situación de calle                                    2   \n               chicas huérfanas                                                1   \n               jóvenes privadas de libertad                                    2   \n               mujeres con discapacidad                                        1   \n               mujeres reclusas                                                1   \n               mujeres rurales                                                 2   \n               niñas trabajadoras de calle                                     1   \n               niñas y adolescentes periurbanas                                1   \n\n                                                             tipodeestablecimiento_cat  \\\nvulnerabilidad poblacion                                                                 \nN/A            poblacion_general                                                     5   \nno             Voluntarias Yawar El Alto                                             2   \n               adolescentes extranjeras                                              1   \n               mujeres artistas                                                      0   \n               mujeres rurales escaladoras                                           0   \n               mujeres voluntarias                                                   0   \n               voluntarias adolescentes                                              2   \nsi             adolescentes                                                          1   \n               adolescentes y jóvener rurales                                       12   \n               adolescentes y jóvenes trabajadoras de calle                          1   \n               chicas en situación de calle                                          2   \n               chicas huérfanas                                                      1   \n               jóvenes privadas de libertad                                          2   \n               mujeres con discapacidad                                              1   \n               mujeres reclusas                                                      1   \n               mujeres rurales                                                       2   \n               niñas trabajadoras de calle                                           1   \n               niñas y adolescentes periurbanas                                      1   \n\n                                                             edad_init  \\\nvulnerabilidad poblacion                                                 \nN/A            poblacion_general                                    34   \nno             Voluntarias Yawar El Alto                             8   \n               adolescentes extranjeras                              1   \n               mujeres artistas                                      1   \n               mujeres rurales escaladoras                           1   \n               mujeres voluntarias                                  12   \n               voluntarias adolescentes                              2   \nsi             adolescentes                                          1   \n               adolescentes y jóvener rurales                       12   \n               adolescentes y jóvenes trabajadoras de calle          1   \n               chicas en situación de calle                          2   \n               chicas huérfanas                                      1   \n               jóvenes privadas de libertad                          2   \n               mujeres con discapacidad                              1   \n               mujeres reclusas                                      1   \n               mujeres rurales                                       2   \n               niñas trabajadoras de calle                           1   \n               niñas y adolescentes periurbanas                      1   \n\n                                                             edad_fin  \\\nvulnerabilidad poblacion                                                \nN/A            poblacion_general                                    0   \nno             Voluntarias Yawar El Alto                            8   \n               adolescentes extranjeras                             1   \n               mujeres artistas                                     1   \n               mujeres rurales escaladoras                          1   \n               mujeres voluntarias                                 12   \n               voluntarias adolescentes                             2   \nsi             adolescentes                                         1   \n               adolescentes y jóvener rurales                      12   \n               adolescentes y jóvenes trabajadoras de calle         1   \n               chicas en situación de calle                         2   \n               chicas huérfanas                                     1   \n               jóvenes privadas de libertad                         2   \n               mujeres con discapacidad                             1   \n               mujeres reclusas                                     1   \n               mujeres rurales                                      2   \n               niñas trabajadoras de calle                          1   \n               niñas y adolescentes periurbanas                     1   \n\n                                                             AgeGroup_edad_init  \\\nvulnerabilidad poblacion                                                          \nN/A            poblacion_general                                              0   \nno             Voluntarias Yawar El Alto                                      8   \n               adolescentes extranjeras                                       1   \n               mujeres artistas                                               1   \n               mujeres rurales escaladoras                                    1   \n               mujeres voluntarias                                           12   \n               voluntarias adolescentes                                       2   \nsi             adolescentes                                                   1   \n               adolescentes y jóvener rurales                                12   \n               adolescentes y jóvenes trabajadoras de calle                   1   \n               chicas en situación de calle                                   2   \n               chicas huérfanas                                               1   \n               jóvenes privadas de libertad                                   2   \n               mujeres con discapacidad                                       1   \n               mujeres reclusas                                               1   \n               mujeres rurales                                                2   \n               niñas trabajadoras de calle                                    1   \n               niñas y adolescentes periurbanas                               1   \n\n                                                             9-11  12-14  \\\nvulnerabilidad poblacion                                                   \nN/A            poblacion_general                               34     34   \nno             Voluntarias Yawar El Alto                        8      8   \n               adolescentes extranjeras                         1      1   \n               mujeres artistas                                 1      1   \n               mujeres rurales escaladoras                      1      1   \n               mujeres voluntarias                             12     12   \n               voluntarias adolescentes                         2      2   \nsi             adolescentes                                     1      1   \n               adolescentes y jóvener rurales                  12     12   \n               adolescentes y jóvenes trabajadoras de calle     1      1   \n               chicas en situación de calle                     2      2   \n               chicas huérfanas                                 1      1   \n               jóvenes privadas de libertad                     2      2   \n               mujeres con discapacidad                         1      1   \n               mujeres reclusas                                 1      1   \n               mujeres rurales                                  2      2   \n               niñas trabajadoras de calle                      1      1   \n               niñas y adolescentes periurbanas                 1      1   \n\n                                                             15-24  25-47  \\\nvulnerabilidad poblacion                                                    \nN/A            poblacion_general                                34     34   \nno             Voluntarias Yawar El Alto                         8      8   \n               adolescentes extranjeras                          1      1   \n               mujeres artistas                                  1      1   \n               mujeres rurales escaladoras                       1      1   \n               mujeres voluntarias                              12     12   \n               voluntarias adolescentes                          2      2   \nsi             adolescentes                                      1      1   \n               adolescentes y jóvener rurales                   12     12   \n               adolescentes y jóvenes trabajadoras de calle      1      1   \n               chicas en situación de calle                      2      2   \n               chicas huérfanas                                  1      1   \n               jóvenes privadas de libertad                      2      2   \n               mujeres con discapacidad                          1      1   \n               mujeres reclusas                                  1      1   \n               mujeres rurales                                   2      2   \n               niñas trabajadoras de calle                       1      1   \n               niñas y adolescentes periurbanas                  1      1   \n\n                                                             48-100  \nvulnerabilidad poblacion                                             \nN/A            poblacion_general                                 34  \nno             Voluntarias Yawar El Alto                          8  \n               adolescentes extranjeras                           1  \n               mujeres artistas                                   1  \n               mujeres rurales escaladoras                        1  \n               mujeres voluntarias                               12  \n               voluntarias adolescentes                           2  \nsi             adolescentes                                       1  \n               adolescentes y jóvener rurales                    12  \n               adolescentes y jóvenes trabajadoras de calle       1  \n               chicas en situación de calle                       2  \n               chicas huérfanas                                   1  \n               jóvenes privadas de libertad                       2  \n               mujeres con discapacidad                           1  \n               mujeres reclusas                                   1  \n               mujeres rurales                                    2  \n               niñas trabajadoras de calle                        1  \n               niñas y adolescentes periurbanas                   1  \n\n[18 rows x 39 columns]",
      "text/html": "<div>\n<style scoped>\n    .dataframe tbody tr th:only-of-type {\n        vertical-align: middle;\n    }\n\n    .dataframe tbody tr th {\n        vertical-align: top;\n    }\n\n    .dataframe thead th {\n        text-align: right;\n    }\n</style>\n<table border=\"1\" class=\"dataframe\">\n  <thead>\n    <tr style=\"text-align: right;\">\n      <th></th>\n      <th></th>\n      <th>#</th>\n      <th>año</th>\n      <th>fecha</th>\n      <th>tipo_actividad</th>\n      <th>formato</th>\n      <th>actividad</th>\n      <th>cantidad</th>\n      <th>pais</th>\n      <th>ciudad</th>\n      <th>alcance</th>\n      <th>...</th>\n      <th>toallasdesechablesa</th>\n      <th>tipodeestablecimiento_cat</th>\n      <th>edad_init</th>\n      <th>edad_fin</th>\n      <th>AgeGroup_edad_init</th>\n      <th>9-11</th>\n      <th>12-14</th>\n      <th>15-24</th>\n      <th>25-47</th>\n      <th>48-100</th>\n    </tr>\n    <tr>\n      <th>vulnerabilidad</th>\n      <th>poblacion</th>\n      <th></th>\n      <th></th>\n      <th></th>\n      <th></th>\n      <th></th>\n      <th></th>\n      <th></th>\n      <th></th>\n      <th></th>\n      <th></th>\n      <th></th>\n      <th></th>\n      <th></th>\n      <th></th>\n      <th></th>\n      <th></th>\n      <th></th>\n      <th></th>\n      <th></th>\n      <th></th>\n      <th></th>\n    </tr>\n  </thead>\n  <tbody>\n    <tr>\n      <th>N/A</th>\n      <th>poblacion_general</th>\n      <td>34</td>\n      <td>34</td>\n      <td>34</td>\n      <td>34</td>\n      <td>34</td>\n      <td>34</td>\n      <td>34</td>\n      <td>34</td>\n      <td>34</td>\n      <td>34</td>\n      <td>...</td>\n      <td>34</td>\n      <td>5</td>\n      <td>34</td>\n      <td>0</td>\n      <td>0</td>\n      <td>34</td>\n      <td>34</td>\n      <td>34</td>\n      <td>34</td>\n      <td>34</td>\n    </tr>\n    <tr>\n      <th rowspan=\"6\" valign=\"top\">no</th>\n      <th>Voluntarias Yawar El Alto</th>\n      <td>8</td>\n      <td>8</td>\n      <td>8</td>\n      <td>8</td>\n      <td>8</td>\n      <td>8</td>\n      <td>8</td>\n      <td>8</td>\n      <td>8</td>\n      <td>8</td>\n      <td>...</td>\n      <td>8</td>\n      <td>2</td>\n      <td>8</td>\n      <td>8</td>\n      <td>8</td>\n      <td>8</td>\n      <td>8</td>\n      <td>8</td>\n      <td>8</td>\n      <td>8</td>\n    </tr>\n    <tr>\n      <th>adolescentes extranjeras</th>\n      <td>1</td>\n      <td>1</td>\n      <td>1</td>\n      <td>1</td>\n      <td>1</td>\n      <td>1</td>\n      <td>1</td>\n      <td>1</td>\n      <td>1</td>\n      <td>1</td>\n      <td>...</td>\n      <td>1</td>\n      <td>1</td>\n      <td>1</td>\n      <td>1</td>\n      <td>1</td>\n      <td>1</td>\n      <td>1</td>\n      <td>1</td>\n      <td>1</td>\n      <td>1</td>\n    </tr>\n    <tr>\n      <th>mujeres artistas</th>\n      <td>1</td>\n      <td>1</td>\n      <td>1</td>\n      <td>1</td>\n      <td>1</td>\n      <td>1</td>\n      <td>1</td>\n      <td>1</td>\n      <td>1</td>\n      <td>1</td>\n      <td>...</td>\n      <td>1</td>\n      <td>0</td>\n      <td>1</td>\n      <td>1</td>\n      <td>1</td>\n      <td>1</td>\n      <td>1</td>\n      <td>1</td>\n      <td>1</td>\n      <td>1</td>\n    </tr>\n    <tr>\n      <th>mujeres rurales escaladoras</th>\n      <td>1</td>\n      <td>1</td>\n      <td>1</td>\n      <td>1</td>\n      <td>1</td>\n      <td>1</td>\n      <td>1</td>\n      <td>1</td>\n      <td>1</td>\n      <td>1</td>\n      <td>...</td>\n      <td>1</td>\n      <td>0</td>\n      <td>1</td>\n      <td>1</td>\n      <td>1</td>\n      <td>1</td>\n      <td>1</td>\n      <td>1</td>\n      <td>1</td>\n      <td>1</td>\n    </tr>\n    <tr>\n      <th>mujeres voluntarias</th>\n      <td>12</td>\n      <td>12</td>\n      <td>12</td>\n      <td>12</td>\n      <td>12</td>\n      <td>12</td>\n      <td>12</td>\n      <td>12</td>\n      <td>12</td>\n      <td>12</td>\n      <td>...</td>\n      <td>12</td>\n      <td>0</td>\n      <td>12</td>\n      <td>12</td>\n      <td>12</td>\n      <td>12</td>\n      <td>12</td>\n      <td>12</td>\n      <td>12</td>\n      <td>12</td>\n    </tr>\n    <tr>\n      <th>voluntarias adolescentes</th>\n      <td>2</td>\n      <td>2</td>\n      <td>2</td>\n      <td>2</td>\n      <td>2</td>\n      <td>2</td>\n      <td>2</td>\n      <td>2</td>\n      <td>2</td>\n      <td>2</td>\n      <td>...</td>\n      <td>2</td>\n      <td>2</td>\n      <td>2</td>\n      <td>2</td>\n      <td>2</td>\n      <td>2</td>\n      <td>2</td>\n      <td>2</td>\n      <td>2</td>\n      <td>2</td>\n    </tr>\n    <tr>\n      <th rowspan=\"11\" valign=\"top\">si</th>\n      <th>adolescentes</th>\n      <td>0</td>\n      <td>1</td>\n      <td>1</td>\n      <td>1</td>\n      <td>1</td>\n      <td>1</td>\n      <td>1</td>\n      <td>1</td>\n      <td>1</td>\n      <td>1</td>\n      <td>...</td>\n      <td>1</td>\n      <td>1</td>\n      <td>1</td>\n      <td>1</td>\n      <td>1</td>\n      <td>1</td>\n      <td>1</td>\n      <td>1</td>\n      <td>1</td>\n      <td>1</td>\n    </tr>\n    <tr>\n      <th>adolescentes y jóvener rurales</th>\n      <td>12</td>\n      <td>12</td>\n      <td>12</td>\n      <td>12</td>\n      <td>12</td>\n      <td>12</td>\n      <td>12</td>\n      <td>12</td>\n      <td>12</td>\n      <td>12</td>\n      <td>...</td>\n      <td>12</td>\n      <td>12</td>\n      <td>12</td>\n      <td>12</td>\n      <td>12</td>\n      <td>12</td>\n      <td>12</td>\n      <td>12</td>\n      <td>12</td>\n      <td>12</td>\n    </tr>\n    <tr>\n      <th>adolescentes y jóvenes trabajadoras de calle</th>\n      <td>1</td>\n      <td>1</td>\n      <td>1</td>\n      <td>1</td>\n      <td>1</td>\n      <td>1</td>\n      <td>1</td>\n      <td>1</td>\n      <td>1</td>\n      <td>1</td>\n      <td>...</td>\n      <td>1</td>\n      <td>1</td>\n      <td>1</td>\n      <td>1</td>\n      <td>1</td>\n      <td>1</td>\n      <td>1</td>\n      <td>1</td>\n      <td>1</td>\n      <td>1</td>\n    </tr>\n    <tr>\n      <th>chicas en situación de calle</th>\n      <td>2</td>\n      <td>2</td>\n      <td>2</td>\n      <td>2</td>\n      <td>2</td>\n      <td>2</td>\n      <td>2</td>\n      <td>2</td>\n      <td>2</td>\n      <td>2</td>\n      <td>...</td>\n      <td>2</td>\n      <td>2</td>\n      <td>2</td>\n      <td>2</td>\n      <td>2</td>\n      <td>2</td>\n      <td>2</td>\n      <td>2</td>\n      <td>2</td>\n      <td>2</td>\n    </tr>\n    <tr>\n      <th>chicas huérfanas</th>\n      <td>1</td>\n      <td>1</td>\n      <td>1</td>\n      <td>1</td>\n      <td>1</td>\n      <td>1</td>\n      <td>1</td>\n      <td>1</td>\n      <td>1</td>\n      <td>1</td>\n      <td>...</td>\n      <td>1</td>\n      <td>1</td>\n      <td>1</td>\n      <td>1</td>\n      <td>1</td>\n      <td>1</td>\n      <td>1</td>\n      <td>1</td>\n      <td>1</td>\n      <td>1</td>\n    </tr>\n    <tr>\n      <th>jóvenes privadas de libertad</th>\n      <td>2</td>\n      <td>2</td>\n      <td>2</td>\n      <td>2</td>\n      <td>2</td>\n      <td>2</td>\n      <td>2</td>\n      <td>2</td>\n      <td>2</td>\n      <td>2</td>\n      <td>...</td>\n      <td>2</td>\n      <td>2</td>\n      <td>2</td>\n      <td>2</td>\n      <td>2</td>\n      <td>2</td>\n      <td>2</td>\n      <td>2</td>\n      <td>2</td>\n      <td>2</td>\n    </tr>\n    <tr>\n      <th>mujeres con discapacidad</th>\n      <td>1</td>\n      <td>1</td>\n      <td>1</td>\n      <td>1</td>\n      <td>1</td>\n      <td>1</td>\n      <td>1</td>\n      <td>1</td>\n      <td>1</td>\n      <td>1</td>\n      <td>...</td>\n      <td>1</td>\n      <td>1</td>\n      <td>1</td>\n      <td>1</td>\n      <td>1</td>\n      <td>1</td>\n      <td>1</td>\n      <td>1</td>\n      <td>1</td>\n      <td>1</td>\n    </tr>\n    <tr>\n      <th>mujeres reclusas</th>\n      <td>1</td>\n      <td>1</td>\n      <td>1</td>\n      <td>1</td>\n      <td>1</td>\n      <td>1</td>\n      <td>1</td>\n      <td>1</td>\n      <td>1</td>\n      <td>1</td>\n      <td>...</td>\n      <td>1</td>\n      <td>1</td>\n      <td>1</td>\n      <td>1</td>\n      <td>1</td>\n      <td>1</td>\n      <td>1</td>\n      <td>1</td>\n      <td>1</td>\n      <td>1</td>\n    </tr>\n    <tr>\n      <th>mujeres rurales</th>\n      <td>2</td>\n      <td>2</td>\n      <td>2</td>\n      <td>2</td>\n      <td>2</td>\n      <td>2</td>\n      <td>2</td>\n      <td>2</td>\n      <td>2</td>\n      <td>2</td>\n      <td>...</td>\n      <td>2</td>\n      <td>2</td>\n      <td>2</td>\n      <td>2</td>\n      <td>2</td>\n      <td>2</td>\n      <td>2</td>\n      <td>2</td>\n      <td>2</td>\n      <td>2</td>\n    </tr>\n    <tr>\n      <th>niñas trabajadoras de calle</th>\n      <td>1</td>\n      <td>1</td>\n      <td>1</td>\n      <td>1</td>\n      <td>1</td>\n      <td>1</td>\n      <td>1</td>\n      <td>1</td>\n      <td>1</td>\n      <td>1</td>\n      <td>...</td>\n      <td>1</td>\n      <td>1</td>\n      <td>1</td>\n      <td>1</td>\n      <td>1</td>\n      <td>1</td>\n      <td>1</td>\n      <td>1</td>\n      <td>1</td>\n      <td>1</td>\n    </tr>\n    <tr>\n      <th>niñas y adolescentes periurbanas</th>\n      <td>1</td>\n      <td>1</td>\n      <td>1</td>\n      <td>1</td>\n      <td>1</td>\n      <td>1</td>\n      <td>1</td>\n      <td>1</td>\n      <td>1</td>\n      <td>1</td>\n      <td>...</td>\n      <td>1</td>\n      <td>1</td>\n      <td>1</td>\n      <td>1</td>\n      <td>1</td>\n      <td>1</td>\n      <td>1</td>\n      <td>1</td>\n      <td>1</td>\n      <td>1</td>\n    </tr>\n  </tbody>\n</table>\n<p>18 rows × 39 columns</p>\n</div>"
     },
     "execution_count": 495,
     "metadata": {},
     "output_type": "execute_result"
    }
   ],
   "source": [
    "df_yawar_c.groupby(['vulnerabilidad','poblacion']).count()"
   ],
   "metadata": {
    "collapsed": false,
    "ExecuteTime": {
     "end_time": "2024-04-16T22:30:57.217449900Z",
     "start_time": "2024-04-16T22:30:57.190307700Z"
    }
   },
   "id": "be8316a328657fd2"
  },
  {
   "cell_type": "code",
   "execution_count": 496,
   "outputs": [],
   "source": [
    "#lower values in 'poblacion'\n",
    "df_yawar_c['poblacion']=df_yawar_c['poblacion'].str.lower()"
   ],
   "metadata": {
    "collapsed": false,
    "ExecuteTime": {
     "end_time": "2024-04-16T22:31:12.219396Z",
     "start_time": "2024-04-16T22:31:12.182349200Z"
    }
   },
   "id": "c8f06f7ddfdb2b61"
  },
  {
   "cell_type": "code",
   "execution_count": 518,
   "outputs": [
    {
     "data": {
      "text/plain": "     #   año      fecha tipo_actividad     formato                  actividad  \\\n0  1.0  2022 2022-03-10         taller  presencial  1er encuentro voluntarias   \n1  2.0  2022 2022-04-09         taller  presencial  Taller: qué es ser joven?   \n2  3.0  2022 2022-07-07         taller  presencial                ALTO ALDEAS   \n3  4.0  2022 2022-07-08         taller  presencial                ALTO ALDEAS   \n4  5.0  2022 2022-07-09         taller  presencial                ALTO MAPAKI   \n\n   cantidad     pais  ciudad   alcance  ...       org_apoyo  \\\n0         1  Bolivia  La Paz  Nacional  ...         Ninguno   \n1         1  Bolivia  La Paz  Nacional  ...         Ninguno   \n2         1  Bolivia  La Paz  Nacional  ...  Aptapi Jopueti   \n3         1  Bolivia  La Paz  Nacional  ...  Aptapi Jopueti   \n4         1  Bolivia  La Paz  Nacional  ...  Aptapi Jopueti   \n\n  tipodeestablecimiento_cat edad_init edad_fin  AgeGroup_edad_init 9-11 12-14  \\\n0                 cafeteria        18       26                   3    0     0   \n1                      casa        18       26                   3    0     0   \n2                       ong        10       13                   1   20     0   \n3                       ong        14       17                   3    0     0   \n4                       ong        12       12                   2    0    30   \n\n  15-24 25-47  48-100  \n0     5     0       0  \n1     5     0       0  \n2     0     0       0  \n3    17     0       0  \n4     0     0       0  \n\n[5 rows x 40 columns]",
      "text/html": "<div>\n<style scoped>\n    .dataframe tbody tr th:only-of-type {\n        vertical-align: middle;\n    }\n\n    .dataframe tbody tr th {\n        vertical-align: top;\n    }\n\n    .dataframe thead th {\n        text-align: right;\n    }\n</style>\n<table border=\"1\" class=\"dataframe\">\n  <thead>\n    <tr style=\"text-align: right;\">\n      <th></th>\n      <th>#</th>\n      <th>año</th>\n      <th>fecha</th>\n      <th>tipo_actividad</th>\n      <th>formato</th>\n      <th>actividad</th>\n      <th>cantidad</th>\n      <th>pais</th>\n      <th>ciudad</th>\n      <th>alcance</th>\n      <th>...</th>\n      <th>org_apoyo</th>\n      <th>tipodeestablecimiento_cat</th>\n      <th>edad_init</th>\n      <th>edad_fin</th>\n      <th>AgeGroup_edad_init</th>\n      <th>9-11</th>\n      <th>12-14</th>\n      <th>15-24</th>\n      <th>25-47</th>\n      <th>48-100</th>\n    </tr>\n  </thead>\n  <tbody>\n    <tr>\n      <th>0</th>\n      <td>1.0</td>\n      <td>2022</td>\n      <td>2022-03-10</td>\n      <td>taller</td>\n      <td>presencial</td>\n      <td>1er encuentro voluntarias</td>\n      <td>1</td>\n      <td>Bolivia</td>\n      <td>La Paz</td>\n      <td>Nacional</td>\n      <td>...</td>\n      <td>Ninguno</td>\n      <td>cafeteria</td>\n      <td>18</td>\n      <td>26</td>\n      <td>3</td>\n      <td>0</td>\n      <td>0</td>\n      <td>5</td>\n      <td>0</td>\n      <td>0</td>\n    </tr>\n    <tr>\n      <th>1</th>\n      <td>2.0</td>\n      <td>2022</td>\n      <td>2022-04-09</td>\n      <td>taller</td>\n      <td>presencial</td>\n      <td>Taller: qué es ser joven?</td>\n      <td>1</td>\n      <td>Bolivia</td>\n      <td>La Paz</td>\n      <td>Nacional</td>\n      <td>...</td>\n      <td>Ninguno</td>\n      <td>casa</td>\n      <td>18</td>\n      <td>26</td>\n      <td>3</td>\n      <td>0</td>\n      <td>0</td>\n      <td>5</td>\n      <td>0</td>\n      <td>0</td>\n    </tr>\n    <tr>\n      <th>2</th>\n      <td>3.0</td>\n      <td>2022</td>\n      <td>2022-07-07</td>\n      <td>taller</td>\n      <td>presencial</td>\n      <td>ALTO ALDEAS</td>\n      <td>1</td>\n      <td>Bolivia</td>\n      <td>La Paz</td>\n      <td>Nacional</td>\n      <td>...</td>\n      <td>Aptapi Jopueti</td>\n      <td>ong</td>\n      <td>10</td>\n      <td>13</td>\n      <td>1</td>\n      <td>20</td>\n      <td>0</td>\n      <td>0</td>\n      <td>0</td>\n      <td>0</td>\n    </tr>\n    <tr>\n      <th>3</th>\n      <td>4.0</td>\n      <td>2022</td>\n      <td>2022-07-08</td>\n      <td>taller</td>\n      <td>presencial</td>\n      <td>ALTO ALDEAS</td>\n      <td>1</td>\n      <td>Bolivia</td>\n      <td>La Paz</td>\n      <td>Nacional</td>\n      <td>...</td>\n      <td>Aptapi Jopueti</td>\n      <td>ong</td>\n      <td>14</td>\n      <td>17</td>\n      <td>3</td>\n      <td>0</td>\n      <td>0</td>\n      <td>17</td>\n      <td>0</td>\n      <td>0</td>\n    </tr>\n    <tr>\n      <th>4</th>\n      <td>5.0</td>\n      <td>2022</td>\n      <td>2022-07-09</td>\n      <td>taller</td>\n      <td>presencial</td>\n      <td>ALTO MAPAKI</td>\n      <td>1</td>\n      <td>Bolivia</td>\n      <td>La Paz</td>\n      <td>Nacional</td>\n      <td>...</td>\n      <td>Aptapi Jopueti</td>\n      <td>ong</td>\n      <td>12</td>\n      <td>12</td>\n      <td>2</td>\n      <td>0</td>\n      <td>30</td>\n      <td>0</td>\n      <td>0</td>\n      <td>0</td>\n    </tr>\n  </tbody>\n</table>\n<p>5 rows × 40 columns</p>\n</div>"
     },
     "execution_count": 518,
     "metadata": {},
     "output_type": "execute_result"
    }
   ],
   "source": [
    "df_yawar_c.head()"
   ],
   "metadata": {
    "collapsed": false,
    "ExecuteTime": {
     "end_time": "2024-04-16T22:46:59.222485500Z",
     "start_time": "2024-04-16T22:46:59.127609900Z"
    }
   },
   "id": "128f1645608838c5"
  },
  {
   "cell_type": "code",
   "execution_count": 199,
   "outputs": [
    {
     "data": {
      "text/plain": "tematicataller\nN/A                                                                      34\nvivencia menstrual-ovulatoria                                            27\nhistoria de nuestra sexualidad y anatomia                                 2\nciclo en sus 4 fases: sexualidad y hormonas                               1\nCiclo menstrual                                                           1\nCiclicidad Menstrual-Ovulatoria y registro del ciclo menstrual            1\nvivencia menstrual-ovulatoria y trabajo del Proyecto Yawar en Bolivia     1\nJusticia Menstrual                                                        1\nActivismo menstrual                                                       1\nEl ciclo menstrual                                                        1\nBienvenida a Yawar                                                        1\nGestión y pedagogía menstrual                                             1\nPolíticas Públicas                                                        1\nPobreza menstrual                                                         1\ninsumos de gestión menstrual                                              1\nQué es ser joven?                                                         1\nArte Menstrual                                                            1\nPoblaciones Vulnerables                                                   1\nelaboración de toallas                                                    1\npreparación talleres presenciales El Alto                                 1\npedagogía menstrual                                                       1\ngestión menstrual digna para todas las personas                           1\nvivencia menstrual y la pobreza menstrual.                                1\nPubertad, adolescencia y menarquía                                        1\nName: count, dtype: int64"
     },
     "execution_count": 199,
     "metadata": {},
     "output_type": "execute_result"
    }
   ],
   "source": [
    "df_yawar_c['tematicataller'].value_counts()"
   ],
   "metadata": {
    "collapsed": false,
    "ExecuteTime": {
     "end_time": "2024-04-16T20:15:54.238526900Z",
     "start_time": "2024-04-16T20:15:44.932321100Z"
    }
   },
   "id": "3cbf3d9f627880cb"
  },
  {
   "cell_type": "code",
   "execution_count": 200,
   "outputs": [
    {
     "data": {
      "text/plain": "org_apoyo\nNinguno                                    42\nAptapi Jopueti                             22\nProyecto Social Jasayé                      7\nMicros para Avanzar                         3\nProyecto Social Jasaye                      3\nEtta Projects                               2\nDragones                                    1\nProyecto Social Jasaye y Aptapi Jopueti     1\nCIES                                        1\nMunasim Killakita                           1\nFondo Apthapi                               1\nName: count, dtype: int64"
     },
     "execution_count": 200,
     "metadata": {},
     "output_type": "execute_result"
    }
   ],
   "source": [
    "df_yawar_c['org_apoyo'].value_counts()"
   ],
   "metadata": {
    "collapsed": false,
    "ExecuteTime": {
     "end_time": "2024-04-16T20:15:54.239527Z",
     "start_time": "2024-04-16T20:15:44.945716600Z"
    }
   },
   "id": "d43e74745c2b7e77"
  },
  {
   "cell_type": "code",
   "execution_count": 517,
   "outputs": [
    {
     "data": {
      "text/plain": "                                                  #  año  fecha  \\\nciudad                  localidad                                 \nBeni                    Santa Rosa del Yacuma    11   11     11   \nBuena Vista             Buena Vista               1    1      1   \nCiudad de México        N/A                       1    1      1   \nCochabamba              Colcapirhua               1    1      1   \nLa Paz                  El Alto                  18   19     19   \n                        La Paz                    4    4      4   \n                        N/A                       4    4      4   \nMelbourne               N/A                       1    1      1   \nN/A                     N/A                      20   20     20   \nSanta Cruz de la Sierra Alonso Gutierrez          1    1      1   \n                        Buena Vista               1    1      1   \n                        Santa Cruz de la Sierra   7    7      7   \nSucre                   N/A                       6    6      6   \n                        Sucre                     7    7      7   \n\n                                                 tipo_actividad  formato  \\\nciudad                  localidad                                          \nBeni                    Santa Rosa del Yacuma                11       11   \nBuena Vista             Buena Vista                           1        1   \nCiudad de México        N/A                                   1        1   \nCochabamba              Colcapirhua                           1        1   \nLa Paz                  El Alto                              19       19   \n                        La Paz                                4        4   \n                        N/A                                   4        4   \nMelbourne               N/A                                   1        1   \nN/A                     N/A                                  20       20   \nSanta Cruz de la Sierra Alonso Gutierrez                      1        1   \n                        Buena Vista                           1        1   \n                        Santa Cruz de la Sierra               7        7   \nSucre                   N/A                                   6        6   \n                        Sucre                                 7        7   \n\n                                                 actividad  cantidad  pais  \\\nciudad                  localidad                                            \nBeni                    Santa Rosa del Yacuma           11        11    11   \nBuena Vista             Buena Vista                      1         1     1   \nCiudad de México        N/A                              1         1     1   \nCochabamba              Colcapirhua                      1         1     1   \nLa Paz                  El Alto                         19        19    19   \n                        La Paz                           4         4     4   \n                        N/A                              4         4     4   \nMelbourne               N/A                              1         1     1   \nN/A                     N/A                             20        20    20   \nSanta Cruz de la Sierra Alonso Gutierrez                 1         1     1   \n                        Buena Vista                      1         1     1   \n                        Santa Cruz de la Sierra          7         7     7   \nSucre                   N/A                              6         6     6   \n                        Sucre                            7         7     7   \n\n                                                 alcance  lugar  ...  \\\nciudad                  localidad                                ...   \nBeni                    Santa Rosa del Yacuma         11     11  ...   \nBuena Vista             Buena Vista                    1      1  ...   \nCiudad de México        N/A                            1      1  ...   \nCochabamba              Colcapirhua                    1      1  ...   \nLa Paz                  El Alto                       19     19  ...   \n                        La Paz                         4      4  ...   \n                        N/A                            4      4  ...   \nMelbourne               N/A                            1      1  ...   \nN/A                     N/A                           20     20  ...   \nSanta Cruz de la Sierra Alonso Gutierrez               1      1  ...   \n                        Buena Vista                    1      1  ...   \n                        Santa Cruz de la Sierra        7      7  ...   \nSucre                   N/A                            6      6  ...   \n                        Sucre                          7      7  ...   \n\n                                                 org_apoyo  \\\nciudad                  localidad                            \nBeni                    Santa Rosa del Yacuma           11   \nBuena Vista             Buena Vista                      1   \nCiudad de México        N/A                              1   \nCochabamba              Colcapirhua                      1   \nLa Paz                  El Alto                         19   \n                        La Paz                           4   \n                        N/A                              4   \nMelbourne               N/A                              1   \nN/A                     N/A                             20   \nSanta Cruz de la Sierra Alonso Gutierrez                 1   \n                        Buena Vista                      1   \n                        Santa Cruz de la Sierra          7   \nSucre                   N/A                              6   \n                        Sucre                            7   \n\n                                                 tipodeestablecimiento_cat  \\\nciudad                  localidad                                            \nBeni                    Santa Rosa del Yacuma                           11   \nBuena Vista             Buena Vista                                      1   \nCiudad de México        N/A                                              0   \nCochabamba              Colcapirhua                                      1   \nLa Paz                  El Alto                                          6   \n                        La Paz                                           2   \n                        N/A                                              1   \nMelbourne               N/A                                              0   \nN/A                     N/A                                              3   \nSanta Cruz de la Sierra Alonso Gutierrez                                 1   \n                        Buena Vista                                      1   \n                        Santa Cruz de la Sierra                          5   \nSucre                   N/A                                              0   \n                        Sucre                                            3   \n\n                                                 edad_init  edad_fin  \\\nciudad                  localidad                                      \nBeni                    Santa Rosa del Yacuma           11        11   \nBuena Vista             Buena Vista                      1         1   \nCiudad de México        N/A                              1         0   \nCochabamba              Colcapirhua                      1         1   \nLa Paz                  El Alto                         19        17   \n                        La Paz                           4         2   \n                        N/A                              4         3   \nMelbourne               N/A                              1         0   \nN/A                     N/A                             20         6   \nSanta Cruz de la Sierra Alonso Gutierrez                 1         1   \n                        Buena Vista                      1         1   \n                        Santa Cruz de la Sierra          7         4   \nSucre                   N/A                              6         0   \n                        Sucre                            7         3   \n\n                                                 AgeGroup_edad_init  9-11  \\\nciudad                  localidad                                           \nBeni                    Santa Rosa del Yacuma                    11    11   \nBuena Vista             Buena Vista                               1     1   \nCiudad de México        N/A                                       0     1   \nCochabamba              Colcapirhua                               1     1   \nLa Paz                  El Alto                                  17    19   \n                        La Paz                                    2     4   \n                        N/A                                       3     4   \nMelbourne               N/A                                       0     1   \nN/A                     N/A                                       6    20   \nSanta Cruz de la Sierra Alonso Gutierrez                          1     1   \n                        Buena Vista                               1     1   \n                        Santa Cruz de la Sierra                   4     7   \nSucre                   N/A                                       0     6   \n                        Sucre                                     3     7   \n\n                                                 12-14  15-24  25-47  48-100  \nciudad                  localidad                                             \nBeni                    Santa Rosa del Yacuma       11     11     11      11  \nBuena Vista             Buena Vista                  1      1      1       1  \nCiudad de México        N/A                          1      1      1       1  \nCochabamba              Colcapirhua                  1      1      1       1  \nLa Paz                  El Alto                     19     19     19      19  \n                        La Paz                       4      4      4       4  \n                        N/A                          4      4      4       4  \nMelbourne               N/A                          1      1      1       1  \nN/A                     N/A                         20     20     20      20  \nSanta Cruz de la Sierra Alonso Gutierrez             1      1      1       1  \n                        Buena Vista                  1      1      1       1  \n                        Santa Cruz de la Sierra      7      7      7       7  \nSucre                   N/A                          6      6      6       6  \n                        Sucre                        7      7      7       7  \n\n[14 rows x 38 columns]",
      "text/html": "<div>\n<style scoped>\n    .dataframe tbody tr th:only-of-type {\n        vertical-align: middle;\n    }\n\n    .dataframe tbody tr th {\n        vertical-align: top;\n    }\n\n    .dataframe thead th {\n        text-align: right;\n    }\n</style>\n<table border=\"1\" class=\"dataframe\">\n  <thead>\n    <tr style=\"text-align: right;\">\n      <th></th>\n      <th></th>\n      <th>#</th>\n      <th>año</th>\n      <th>fecha</th>\n      <th>tipo_actividad</th>\n      <th>formato</th>\n      <th>actividad</th>\n      <th>cantidad</th>\n      <th>pais</th>\n      <th>alcance</th>\n      <th>lugar</th>\n      <th>...</th>\n      <th>org_apoyo</th>\n      <th>tipodeestablecimiento_cat</th>\n      <th>edad_init</th>\n      <th>edad_fin</th>\n      <th>AgeGroup_edad_init</th>\n      <th>9-11</th>\n      <th>12-14</th>\n      <th>15-24</th>\n      <th>25-47</th>\n      <th>48-100</th>\n    </tr>\n    <tr>\n      <th>ciudad</th>\n      <th>localidad</th>\n      <th></th>\n      <th></th>\n      <th></th>\n      <th></th>\n      <th></th>\n      <th></th>\n      <th></th>\n      <th></th>\n      <th></th>\n      <th></th>\n      <th></th>\n      <th></th>\n      <th></th>\n      <th></th>\n      <th></th>\n      <th></th>\n      <th></th>\n      <th></th>\n      <th></th>\n      <th></th>\n      <th></th>\n    </tr>\n  </thead>\n  <tbody>\n    <tr>\n      <th>Beni</th>\n      <th>Santa Rosa del Yacuma</th>\n      <td>11</td>\n      <td>11</td>\n      <td>11</td>\n      <td>11</td>\n      <td>11</td>\n      <td>11</td>\n      <td>11</td>\n      <td>11</td>\n      <td>11</td>\n      <td>11</td>\n      <td>...</td>\n      <td>11</td>\n      <td>11</td>\n      <td>11</td>\n      <td>11</td>\n      <td>11</td>\n      <td>11</td>\n      <td>11</td>\n      <td>11</td>\n      <td>11</td>\n      <td>11</td>\n    </tr>\n    <tr>\n      <th>Buena Vista</th>\n      <th>Buena Vista</th>\n      <td>1</td>\n      <td>1</td>\n      <td>1</td>\n      <td>1</td>\n      <td>1</td>\n      <td>1</td>\n      <td>1</td>\n      <td>1</td>\n      <td>1</td>\n      <td>1</td>\n      <td>...</td>\n      <td>1</td>\n      <td>1</td>\n      <td>1</td>\n      <td>1</td>\n      <td>1</td>\n      <td>1</td>\n      <td>1</td>\n      <td>1</td>\n      <td>1</td>\n      <td>1</td>\n    </tr>\n    <tr>\n      <th>Ciudad de México</th>\n      <th>N/A</th>\n      <td>1</td>\n      <td>1</td>\n      <td>1</td>\n      <td>1</td>\n      <td>1</td>\n      <td>1</td>\n      <td>1</td>\n      <td>1</td>\n      <td>1</td>\n      <td>1</td>\n      <td>...</td>\n      <td>1</td>\n      <td>0</td>\n      <td>1</td>\n      <td>0</td>\n      <td>0</td>\n      <td>1</td>\n      <td>1</td>\n      <td>1</td>\n      <td>1</td>\n      <td>1</td>\n    </tr>\n    <tr>\n      <th>Cochabamba</th>\n      <th>Colcapirhua</th>\n      <td>1</td>\n      <td>1</td>\n      <td>1</td>\n      <td>1</td>\n      <td>1</td>\n      <td>1</td>\n      <td>1</td>\n      <td>1</td>\n      <td>1</td>\n      <td>1</td>\n      <td>...</td>\n      <td>1</td>\n      <td>1</td>\n      <td>1</td>\n      <td>1</td>\n      <td>1</td>\n      <td>1</td>\n      <td>1</td>\n      <td>1</td>\n      <td>1</td>\n      <td>1</td>\n    </tr>\n    <tr>\n      <th rowspan=\"3\" valign=\"top\">La Paz</th>\n      <th>El Alto</th>\n      <td>18</td>\n      <td>19</td>\n      <td>19</td>\n      <td>19</td>\n      <td>19</td>\n      <td>19</td>\n      <td>19</td>\n      <td>19</td>\n      <td>19</td>\n      <td>19</td>\n      <td>...</td>\n      <td>19</td>\n      <td>6</td>\n      <td>19</td>\n      <td>17</td>\n      <td>17</td>\n      <td>19</td>\n      <td>19</td>\n      <td>19</td>\n      <td>19</td>\n      <td>19</td>\n    </tr>\n    <tr>\n      <th>La Paz</th>\n      <td>4</td>\n      <td>4</td>\n      <td>4</td>\n      <td>4</td>\n      <td>4</td>\n      <td>4</td>\n      <td>4</td>\n      <td>4</td>\n      <td>4</td>\n      <td>4</td>\n      <td>...</td>\n      <td>4</td>\n      <td>2</td>\n      <td>4</td>\n      <td>2</td>\n      <td>2</td>\n      <td>4</td>\n      <td>4</td>\n      <td>4</td>\n      <td>4</td>\n      <td>4</td>\n    </tr>\n    <tr>\n      <th>N/A</th>\n      <td>4</td>\n      <td>4</td>\n      <td>4</td>\n      <td>4</td>\n      <td>4</td>\n      <td>4</td>\n      <td>4</td>\n      <td>4</td>\n      <td>4</td>\n      <td>4</td>\n      <td>...</td>\n      <td>4</td>\n      <td>1</td>\n      <td>4</td>\n      <td>3</td>\n      <td>3</td>\n      <td>4</td>\n      <td>4</td>\n      <td>4</td>\n      <td>4</td>\n      <td>4</td>\n    </tr>\n    <tr>\n      <th>Melbourne</th>\n      <th>N/A</th>\n      <td>1</td>\n      <td>1</td>\n      <td>1</td>\n      <td>1</td>\n      <td>1</td>\n      <td>1</td>\n      <td>1</td>\n      <td>1</td>\n      <td>1</td>\n      <td>1</td>\n      <td>...</td>\n      <td>1</td>\n      <td>0</td>\n      <td>1</td>\n      <td>0</td>\n      <td>0</td>\n      <td>1</td>\n      <td>1</td>\n      <td>1</td>\n      <td>1</td>\n      <td>1</td>\n    </tr>\n    <tr>\n      <th>N/A</th>\n      <th>N/A</th>\n      <td>20</td>\n      <td>20</td>\n      <td>20</td>\n      <td>20</td>\n      <td>20</td>\n      <td>20</td>\n      <td>20</td>\n      <td>20</td>\n      <td>20</td>\n      <td>20</td>\n      <td>...</td>\n      <td>20</td>\n      <td>3</td>\n      <td>20</td>\n      <td>6</td>\n      <td>6</td>\n      <td>20</td>\n      <td>20</td>\n      <td>20</td>\n      <td>20</td>\n      <td>20</td>\n    </tr>\n    <tr>\n      <th rowspan=\"3\" valign=\"top\">Santa Cruz de la Sierra</th>\n      <th>Alonso Gutierrez</th>\n      <td>1</td>\n      <td>1</td>\n      <td>1</td>\n      <td>1</td>\n      <td>1</td>\n      <td>1</td>\n      <td>1</td>\n      <td>1</td>\n      <td>1</td>\n      <td>1</td>\n      <td>...</td>\n      <td>1</td>\n      <td>1</td>\n      <td>1</td>\n      <td>1</td>\n      <td>1</td>\n      <td>1</td>\n      <td>1</td>\n      <td>1</td>\n      <td>1</td>\n      <td>1</td>\n    </tr>\n    <tr>\n      <th>Buena Vista</th>\n      <td>1</td>\n      <td>1</td>\n      <td>1</td>\n      <td>1</td>\n      <td>1</td>\n      <td>1</td>\n      <td>1</td>\n      <td>1</td>\n      <td>1</td>\n      <td>1</td>\n      <td>...</td>\n      <td>1</td>\n      <td>1</td>\n      <td>1</td>\n      <td>1</td>\n      <td>1</td>\n      <td>1</td>\n      <td>1</td>\n      <td>1</td>\n      <td>1</td>\n      <td>1</td>\n    </tr>\n    <tr>\n      <th>Santa Cruz de la Sierra</th>\n      <td>7</td>\n      <td>7</td>\n      <td>7</td>\n      <td>7</td>\n      <td>7</td>\n      <td>7</td>\n      <td>7</td>\n      <td>7</td>\n      <td>7</td>\n      <td>7</td>\n      <td>...</td>\n      <td>7</td>\n      <td>5</td>\n      <td>7</td>\n      <td>4</td>\n      <td>4</td>\n      <td>7</td>\n      <td>7</td>\n      <td>7</td>\n      <td>7</td>\n      <td>7</td>\n    </tr>\n    <tr>\n      <th rowspan=\"2\" valign=\"top\">Sucre</th>\n      <th>N/A</th>\n      <td>6</td>\n      <td>6</td>\n      <td>6</td>\n      <td>6</td>\n      <td>6</td>\n      <td>6</td>\n      <td>6</td>\n      <td>6</td>\n      <td>6</td>\n      <td>6</td>\n      <td>...</td>\n      <td>6</td>\n      <td>0</td>\n      <td>6</td>\n      <td>0</td>\n      <td>0</td>\n      <td>6</td>\n      <td>6</td>\n      <td>6</td>\n      <td>6</td>\n      <td>6</td>\n    </tr>\n    <tr>\n      <th>Sucre</th>\n      <td>7</td>\n      <td>7</td>\n      <td>7</td>\n      <td>7</td>\n      <td>7</td>\n      <td>7</td>\n      <td>7</td>\n      <td>7</td>\n      <td>7</td>\n      <td>7</td>\n      <td>...</td>\n      <td>7</td>\n      <td>3</td>\n      <td>7</td>\n      <td>3</td>\n      <td>3</td>\n      <td>7</td>\n      <td>7</td>\n      <td>7</td>\n      <td>7</td>\n      <td>7</td>\n    </tr>\n  </tbody>\n</table>\n<p>14 rows × 38 columns</p>\n</div>"
     },
     "execution_count": 517,
     "metadata": {},
     "output_type": "execute_result"
    }
   ],
   "source": [
    "df_yawar_c.groupby(['ciudad','localidad']).count()"
   ],
   "metadata": {
    "collapsed": false,
    "ExecuteTime": {
     "end_time": "2024-04-16T22:46:09.210128400Z",
     "start_time": "2024-04-16T22:46:09.114946Z"
    }
   },
   "id": "b2e9757321400af7"
  },
  {
   "cell_type": "code",
   "execution_count": 519,
   "outputs": [
    {
     "data": {
      "text/plain": "vulnerabilidad\nN/A    34\nno     25\nsi     25\nName: count, dtype: int64"
     },
     "execution_count": 519,
     "metadata": {},
     "output_type": "execute_result"
    }
   ],
   "source": [
    "df_yawar_c['vulnerabilidad'].value_counts()"
   ],
   "metadata": {
    "collapsed": false,
    "ExecuteTime": {
     "end_time": "2024-04-16T22:49:22.761104Z",
     "start_time": "2024-04-16T22:49:22.628183300Z"
    }
   },
   "id": "dcac23b1032f2972"
  },
  {
   "cell_type": "code",
   "execution_count": 521,
   "outputs": [],
   "source": [
    "path='../data/yamar_2.2._20240416.csv'\n",
    "df_yawar_c.to_csv(path, index=False )"
   ],
   "metadata": {
    "collapsed": false,
    "ExecuteTime": {
     "end_time": "2024-04-16T22:51:07.685587600Z",
     "start_time": "2024-04-16T22:51:07.641173700Z"
    }
   },
   "id": "54dd0a8ae1b7f0d5"
  }
 ],
 "metadata": {
  "kernelspec": {
   "display_name": "Python 3",
   "language": "python",
   "name": "python3"
  },
  "language_info": {
   "codemirror_mode": {
    "name": "ipython",
    "version": 2
   },
   "file_extension": ".py",
   "mimetype": "text/x-python",
   "name": "python",
   "nbconvert_exporter": "python",
   "pygments_lexer": "ipython2",
   "version": "2.7.6"
  }
 },
 "nbformat": 4,
 "nbformat_minor": 5
}
